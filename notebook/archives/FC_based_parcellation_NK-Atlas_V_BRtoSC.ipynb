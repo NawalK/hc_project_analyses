{
 "cells": [
  {
   "cell_type": "markdown",
   "id": "3f8d447d",
   "metadata": {},
   "source": [
    "# <font color=black> Analysis - FC-based parcellation </font>\n",
    "<hr style=\"border:1px solid black\">"
   ]
  },
  {
   "cell_type": "markdown",
   "id": "af18d097",
   "metadata": {},
   "source": [
    "## <font color=black> <span style=\"background-color: #A0B0C0\"> Imports "
   ]
  },
  {
   "cell_type": "code",
   "execution_count": 1,
   "id": "75af82ae",
   "metadata": {},
   "outputs": [],
   "source": [
    "import sys,json\n",
    "import glob, os\n",
    "import numpy as np\n",
    "import nibabel as nib\n",
    "import time\n",
    "\n",
    "sys.path.append('/media/miplab-nas2/Data3/BMPD/hc_project/analysis/code/')\n",
    "\n",
    "from fc_based_parcellation import FC_Parcellation\n",
    "\n",
    "%matplotlib inline\n",
    "%load_ext autoreload\n",
    "%autoreload 2"
   ]
  },
  {
   "cell_type": "markdown",
   "id": "e72a9ea2",
   "metadata": {},
   "source": [
    "## <font color=black> <span style=\"background-color: #A0B0C0\"> Initialization"
   ]
  },
  {
   "cell_type": "markdown",
   "id": "170dfff1",
   "metadata": {},
   "source": [
    "### <font color=#A0B0C0> Configuration & parameters </font>"
   ]
  },
  {
   "cell_type": "code",
   "execution_count": 2,
   "id": "a2ad247f",
   "metadata": {},
   "outputs": [],
   "source": [
    "with open('../../config/config_fc_based_parcellation_NK_BRtoSC.json') as config_file:\n",
    "    config = json.load(config_file) # load config file\n",
    "# Save \n",
    "with open('my_dict.json', 'w') as f:\n",
    "    # Write the dictionary to the file in JSON format\n",
    "    json.dump(my_dict, f)"
   ]
  },
  {
   "cell_type": "markdown",
   "id": "d8af9bb5",
   "metadata": {},
   "source": [
    "### <font color=#A0B0C0> Class instantiation </font>"
   ]
  },
  {
   "cell_type": "code",
   "execution_count": null,
   "id": "7f69017a",
   "metadata": {},
   "outputs": [],
   "source": [
    "source = 'brain'\n",
    "target = 'spinalcord'\n",
    "fc_parcellation = FC_Parcellation(config,source,target,'corr')"
   ]
  },
  {
   "cell_type": "markdown",
   "id": "b671d2c8",
   "metadata": {},
   "source": [
    "## <font color=black> <span style=\"background-color: #A0B0C0\"> Analyses"
   ]
  },
  {
   "cell_type": "code",
   "execution_count": null,
   "id": "5ef0f4c7",
   "metadata": {},
   "outputs": [],
   "source": [
    "start = time.time()\n",
    "# Initialize empty array for individual labels\n",
    "mask_source_path = config['main_dir']+config['masks'][source]\n",
    "nvox_source = np.count_nonzero(nib.load(mask_source_path).get_fdata().astype(bool))\n",
    "subject_labels = np.zeros((len(fc_parcellation.config['list_subjects']),nvox_source))\n",
    "for sub_id,sub in enumerate(fc_parcellation.config['list_subjects']): \n",
    "    print(f'SUBJECT {sub}')\n",
    "    # Compute correlation without saving files\n",
    "    dict_corr = fc_parcellation.compute_voxelwise_fc(sub=sub, \n",
    "                                                  load_from_file=True, \n",
    "                                                  save_results=True, \n",
    "                                                  mask_source_path=mask_source_path, \n",
    "                                                  mask_target_path=config['main_dir']+config['masks'][target])\n",
    "    # Run clustering and save labels\n",
    "    subject_labels[sub_id,:] = fc_parcellation.run_clustering(dict_corr,\n",
    "                                                              k=16,algorithm='kmeans',\n",
    "                                                              load_from_file=False,\n",
    "                                                              save_results=True)\n",
    "print(\"... Operation performed in %.2f s!\" % (time.time() - start))"
   ]
  },
  {
   "cell_type": "code",
   "execution_count": null,
   "id": "a72bac79",
   "metadata": {},
   "outputs": [],
   "source": [
    "group_labels, indiv_labels_relabeled = fc_parcellation.group_clustering(subject_labels)"
   ]
  },
  {
   "cell_type": "code",
   "execution_count": null,
   "id": "d520a4ba",
   "metadata": {},
   "outputs": [],
   "source": [
    "fc_parcellation.prepare_seed_map(group_labels)"
   ]
  },
  {
   "cell_type": "code",
   "execution_count": null,
   "id": "db42df20",
   "metadata": {},
   "outputs": [],
   "source": [
    "fc_parcellation.prepare_target_maps(indiv_labels_relabeled, load_from_file=False, save_results=True)"
   ]
  },
  {
   "cell_type": "code",
   "execution_count": null,
   "id": "f413c9b5",
   "metadata": {},
   "outputs": [],
   "source": []
  },
  {
   "cell_type": "code",
   "execution_count": null,
   "id": "bff1dd0e",
   "metadata": {},
   "outputs": [],
   "source": []
  },
  {
   "cell_type": "code",
   "execution_count": null,
   "id": "703462cd",
   "metadata": {},
   "outputs": [],
   "source": [
    "S = np.corrcoef(dict_corr['correlations'])"
   ]
  },
  {
   "cell_type": "code",
   "execution_count": null,
   "id": "9ea11d2c",
   "metadata": {},
   "outputs": [],
   "source": [
    "from sklearn.cluster import KMeans\n",
    "kmeans_kwargs = {'n_clusters': 8, 'init': 'k-means++', 'max_iter': 300, 'n_init': 100}\n",
    "kmeans_clusters = KMeans(**kmeans_kwargs)\n",
    "kmeans_clusters.fit(S)\n",
    "labels = kmeans_clusters.labels_"
   ]
  },
  {
   "cell_type": "code",
   "execution_count": null,
   "id": "9a615dd1",
   "metadata": {},
   "outputs": [],
   "source": [
    "import matplotlib.pyplot as plt\n",
    "plt.imshow(S)"
   ]
  },
  {
   "cell_type": "code",
   "execution_count": null,
   "id": "fd8039e9",
   "metadata": {},
   "outputs": [],
   "source": [
    "idx_sort = np.argsort(labels)"
   ]
  },
  {
   "cell_type": "code",
   "execution_count": null,
   "id": "9054dace",
   "metadata": {},
   "outputs": [],
   "source": [
    "S_reordered = S[idx_sort,:]\n",
    "S_reordered = S_reordered[:,idx_sort]"
   ]
  },
  {
   "cell_type": "code",
   "execution_count": null,
   "id": "a6cb092f",
   "metadata": {},
   "outputs": [],
   "source": [
    "import matplotlib.pyplot as plt\n",
    "plt.imshow(S_reordered);"
   ]
  },
  {
   "cell_type": "code",
   "execution_count": null,
   "id": "40302250",
   "metadata": {},
   "outputs": [],
   "source": []
  },
  {
   "cell_type": "code",
   "execution_count": null,
   "id": "5797aaa1",
   "metadata": {},
   "outputs": [],
   "source": []
  },
  {
   "cell_type": "code",
   "execution_count": null,
   "id": "fc627dd4",
   "metadata": {},
   "outputs": [],
   "source": []
  },
  {
   "cell_type": "code",
   "execution_count": null,
   "id": "8efe55ec",
   "metadata": {},
   "outputs": [],
   "source": []
  },
  {
   "cell_type": "code",
   "execution_count": null,
   "id": "ff808672",
   "metadata": {},
   "outputs": [],
   "source": []
  },
  {
   "cell_type": "code",
   "execution_count": null,
   "id": "29e3b32b",
   "metadata": {},
   "outputs": [],
   "source": [
    "group_labels, indiv_labels_relabeled = fc_parcellation.group_clustering(subject_labels)"
   ]
  },
  {
   "cell_type": "code",
   "execution_count": null,
   "id": "59e0b0e4",
   "metadata": {},
   "outputs": [],
   "source": [
    "indiv_labels_relabeled.shape"
   ]
  },
  {
   "cell_type": "code",
   "execution_count": null,
   "id": "d1e500a5",
   "metadata": {},
   "outputs": [],
   "source": [
    "fc_parcellation.prepare_seed_map(group_labels)"
   ]
  },
  {
   "cell_type": "code",
   "execution_count": null,
   "id": "41ed29a7",
   "metadata": {},
   "outputs": [],
   "source": [
    "import matplotlib.pyplot as plt\n",
    "from matplotlib.pyplot import figure\n",
    "figure(figsize=(8, 6), dpi=80)\n",
    "plt.imshow(subject_labels, interpolation='nearest', aspect='auto');"
   ]
  },
  {
   "cell_type": "code",
   "execution_count": null,
   "id": "bf7bddb3",
   "metadata": {},
   "outputs": [],
   "source": [
    "figure(figsize=(8, 6), dpi=80)\n",
    "plt.imshow(indiv_labels_relabeled, interpolation='nearest', aspect='auto');"
   ]
  },
  {
   "cell_type": "code",
   "execution_count": null,
   "id": "1d5694ab",
   "metadata": {},
   "outputs": [],
   "source": [
    "plt.imshow(group_labels);"
   ]
  },
  {
   "cell_type": "code",
   "execution_count": null,
   "id": "994321a1",
   "metadata": {},
   "outputs": [],
   "source": []
  },
  {
   "cell_type": "code",
   "execution_count": null,
   "id": "ce201e41",
   "metadata": {},
   "outputs": [],
   "source": []
  },
  {
   "cell_type": "code",
   "execution_count": null,
   "id": "e0724fee",
   "metadata": {},
   "outputs": [],
   "source": [
    "fc_parcellation.compute_voxelwise_correlation(load_from_file=False, save_results=False, mask_source_path=config['main_dir']+config['masks']['spinalcord'],mask_target_path=config['main_dir']+config['masks']['brain'])"
   ]
  },
  {
   "cell_type": "code",
   "execution_count": null,
   "id": "09555888",
   "metadata": {},
   "outputs": [],
   "source": [
    "fc_parcellation.define_n_clusters(range(4,50))"
   ]
  },
  {
   "cell_type": "code",
   "execution_count": null,
   "id": "3783b5c0",
   "metadata": {},
   "outputs": [],
   "source": [
    "fc_parcellation.run_clustering(8,algorithm='kmeans')"
   ]
  },
  {
   "cell_type": "code",
   "execution_count": null,
   "id": "be179b2c",
   "metadata": {},
   "outputs": [],
   "source": [
    "fc_parcellation.prepare_seed_map()"
   ]
  },
  {
   "cell_type": "code",
   "execution_count": null,
   "id": "1de6f175",
   "metadata": {},
   "outputs": [],
   "source": [
    "fc_parcellation.prepare_target_maps()"
   ]
  },
  {
   "cell_type": "code",
   "execution_count": null,
   "id": "a8402713",
   "metadata": {},
   "outputs": [],
   "source": [
    "fc_parcellation.run_clustering(13,algorithm='kmeans')"
   ]
  },
  {
   "cell_type": "code",
   "execution_count": null,
   "id": "75ae8276",
   "metadata": {},
   "outputs": [],
   "source": [
    "fc_parcellation.prepare_seed_map()"
   ]
  },
  {
   "cell_type": "code",
   "execution_count": null,
   "id": "cccab738",
   "metadata": {},
   "outputs": [],
   "source": [
    "fc_parcellation.prepare_target_maps()"
   ]
  },
  {
   "cell_type": "code",
   "execution_count": null,
   "id": "22671ee9",
   "metadata": {},
   "outputs": [],
   "source": [
    "A = np.array([0,2,43,4,2,3,4,2,3])"
   ]
  },
  {
   "cell_type": "code",
   "execution_count": null,
   "id": "8f56c09c",
   "metadata": {},
   "outputs": [],
   "source": [
    "std = A.std(axis=0)\n",
    "A = A/ std"
   ]
  },
  {
   "cell_type": "code",
   "execution_count": null,
   "id": "d9ee7507",
   "metadata": {},
   "outputs": [],
   "source": [
    "A.std(axis=0)"
   ]
  },
  {
   "cell_type": "code",
   "execution_count": null,
   "id": "4f61f8b5",
   "metadata": {},
   "outputs": [],
   "source": []
  }
 ],
 "metadata": {
  "kernelspec": {
   "display_name": "Python 3 (ipykernel)",
   "language": "python",
   "name": "python3"
  },
  "language_info": {
   "codemirror_mode": {
    "name": "ipython",
    "version": 3
   },
   "file_extension": ".py",
   "mimetype": "text/x-python",
   "name": "python",
   "nbconvert_exporter": "python",
   "pygments_lexer": "ipython3",
   "version": "3.9.12"
  }
 },
 "nbformat": 4,
 "nbformat_minor": 5
}
