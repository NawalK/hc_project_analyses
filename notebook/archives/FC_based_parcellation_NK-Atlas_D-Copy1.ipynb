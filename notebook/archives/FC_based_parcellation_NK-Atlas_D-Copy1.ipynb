{
 "cells": [
  {
   "cell_type": "markdown",
   "id": "3f8d447d",
   "metadata": {},
   "source": [
    "# <font color=black> Analysis - FC-based parcellation </font>\n",
    "<hr style=\"border:1px solid black\">"
   ]
  },
  {
   "cell_type": "markdown",
   "id": "af18d097",
   "metadata": {},
   "source": [
    "## <font color=black> <span style=\"background-color: #A0B0C0\"> Imports "
   ]
  },
  {
   "cell_type": "code",
   "execution_count": 2,
   "id": "75af82ae",
   "metadata": {},
   "outputs": [],
   "source": [
    "import sys,json\n",
    "import glob, os\n",
    "import numpy as np\n",
    "import nibabel as nib\n",
    "import time\n",
    "\n",
    "sys.path.append('/media/miplab-nas2/Data3/BMPD/hc_project/analysis/code/')\n",
    "\n",
    "from fctest import FC_Parcellation\n",
    "\n",
    "%matplotlib inline\n",
    "%load_ext autoreload\n",
    "%autoreload 2"
   ]
  },
  {
   "cell_type": "markdown",
   "id": "e72a9ea2",
   "metadata": {},
   "source": [
    "## <font color=black> <span style=\"background-color: #A0B0C0\"> Initialization"
   ]
  },
  {
   "cell_type": "markdown",
   "id": "170dfff1",
   "metadata": {},
   "source": [
    "### <font color=#A0B0C0> Configuration & parameters </font>"
   ]
  },
  {
   "cell_type": "code",
   "execution_count": 8,
   "id": "a2ad247f",
   "metadata": {},
   "outputs": [],
   "source": [
    "with open('../../config/config_fc_based_parcellation_NK_BRtoSC.json') as config_file:\n",
    "    config = json.load(config_file) # load config file"
   ]
  },
  {
   "cell_type": "markdown",
   "id": "3f257742",
   "metadata": {},
   "source": [
    "### <font color=#A0B0C0> Class instantiation </font>"
   ]
  },
  {
   "cell_type": "code",
   "execution_count": 10,
   "id": "1b58d098",
   "metadata": {},
   "outputs": [
    {
     "name": "stdout",
     "output_type": "stream",
     "text": [
      "/media/miplab-nas2/Data3/BMPD/hc_project//brain&spine/sub-A006/spinalcord/sub-A006_task-rest_bold_stc_sc_moco_brsc_BP_inTemplate.nii.gz\n"
     ]
    }
   ],
   "source": [
    "fc_parcellation = FC_Parcellation(config,'spinalcord','brain')"
   ]
  },
  {
   "cell_type": "markdown",
   "id": "f19984e1",
   "metadata": {},
   "source": [
    "## <font color=black> <span style=\"background-color: #A0B0C0\"> Analyses"
   ]
  },
  {
   "cell_type": "code",
   "execution_count": 11,
   "id": "f774b901",
   "metadata": {},
   "outputs": [
    {
     "name": "stdout",
     "output_type": "stream",
     "text": [
      "COMPUTE VOXELWISE CORRELATION\n",
      "... Computing correlations for all possibilities\n",
      "...... Subject A006\n"
     ]
    },
    {
     "name": "stderr",
     "output_type": "stream",
     "text": [
      "/media/miplab-nas2/Data3/BMPD/hc_project/analysis/code/fctest.py:286: RuntimeWarning: invalid value encountered in true_divide\n",
      "  return np.dot(A_mA, B_mB.T) / np.sqrt(np.dot(ssA[:, None],ssB[None]))\n"
     ]
    },
    {
     "name": "stdout",
     "output_type": "stream",
     "text": [
      "... Computing mean correlation over subjects\n",
      "DONE!\n",
      "... Operation performed in 37.26 s!\n"
     ]
    }
   ],
   "source": [
    "start = time.time()\n",
    "# Initialize empty array for individual labels\n",
    "mask_source_path = config['main_dir']+config['masks']['spinalcord']\n",
    "nvox_source = np.count_nonzero(nib.load(mask_source_path).get_fdata().astype(bool))\n",
    "dict_corr = fc_parcellation.compute_voxelwise_correlation(load_from_file=False, \n",
    "                                                  save_results=True, \n",
    "                                                  mask_source_path=mask_source_path, \n",
    "                                                  mask_target_path=config['main_dir']+config['masks']['brain'])\n",
    "print(\"... Operation performed in %.2f s!\" % (time.time() - start))"
   ]
  },
  {
   "cell_type": "code",
   "execution_count": 9,
   "id": "ab39f62e",
   "metadata": {},
   "outputs": [
    {
     "name": "stdout",
     "output_type": "stream",
     "text": [
      "RUN GROUP CLUSTERING\n",
      "DONE\n"
     ]
    }
   ],
   "source": [
    "group_labels, indiv_labels_relabeled = fc_parcellation.group_clustering(subject_labels)"
   ]
  },
  {
   "cell_type": "code",
   "execution_count": 10,
   "id": "89ed4e3a",
   "metadata": {},
   "outputs": [
    {
     "name": "stdout",
     "output_type": "stream",
     "text": [
      "PREPARE SEED MAP\n",
      "DONE\n"
     ]
    }
   ],
   "source": [
    "fc_parcellation.prepare_seed_map(group_labels)"
   ]
  },
  {
   "cell_type": "code",
   "execution_count": 11,
   "id": "f6b01574",
   "metadata": {},
   "outputs": [
    {
     "name": "stdout",
     "output_type": "stream",
     "text": [
      "PREPARE BRAIN MAPS\n",
      "Subject P028\n",
      "... Load correlations\n",
      "... Compute mean map per label\n",
      "... Save as nifti files\n",
      "Subject P030\n",
      "... Load correlations\n",
      "... Compute mean map per label\n",
      "... Save as nifti files\n",
      "Subject P033\n",
      "... Load correlations\n",
      "... Compute mean map per label\n",
      "... Save as nifti files\n",
      "Subject P043\n",
      "... Load correlations\n",
      "... Compute mean map per label\n",
      "... Save as nifti files\n",
      "Subject P047\n",
      "... Load correlations\n",
      "... Compute mean map per label\n",
      "... Save as nifti files\n",
      "Subject P050\n",
      "... Load correlations\n",
      "... Compute mean map per label\n",
      "... Save as nifti files\n",
      "Subject P057\n",
      "... Load correlations\n",
      "... Compute mean map per label\n",
      "... Save as nifti files\n",
      "Subject P099\n",
      "... Load correlations\n",
      "... Compute mean map per label\n",
      "... Save as nifti files\n",
      "Subject P100\n",
      "... Load correlations\n",
      "... Compute mean map per label\n",
      "... Save as nifti files\n",
      "Subject P105\n",
      "... Load correlations\n",
      "... Compute mean map per label\n",
      "... Save as nifti files\n",
      "Subject P108\n",
      "... Load correlations\n",
      "... Compute mean map per label\n",
      "... Save as nifti files\n",
      "Subject P109\n",
      "... Load correlations\n",
      "... Compute mean map per label\n",
      "... Save as nifti files\n",
      "Subject A003\n",
      "... Load correlations\n",
      "... Compute mean map per label\n",
      "... Save as nifti files\n",
      "Subject A004\n",
      "... Load correlations\n",
      "... Compute mean map per label\n",
      "... Save as nifti files\n",
      "Subject A005\n",
      "... Load correlations\n",
      "... Compute mean map per label\n",
      "... Save as nifti files\n",
      "Subject A006\n",
      "... Load correlations\n",
      "... Compute mean map per label\n",
      "... Save as nifti files\n",
      "Subject A007\n",
      "... Load correlations\n",
      "... Compute mean map per label\n",
      "... Save as nifti files\n",
      "Subject A008\n",
      "... Load correlations\n",
      "... Compute mean map per label\n",
      "... Save as nifti files\n",
      "Subject A009\n",
      "... Load correlations\n",
      "... Compute mean map per label\n",
      "... Save as nifti files\n",
      "Subject A011\n",
      "... Load correlations\n",
      "... Compute mean map per label\n",
      "... Save as nifti files\n",
      "Subject A013\n",
      "... Load correlations\n",
      "... Compute mean map per label\n",
      "... Save as nifti files\n",
      "Subject P031\n",
      "... Load correlations\n",
      "... Compute mean map per label\n",
      "... Save as nifti files\n",
      "Subject P089\n",
      "... Load correlations\n",
      "... Compute mean map per label\n",
      "... Save as nifti files\n",
      "Subject P094\n",
      "... Load correlations\n",
      "... Compute mean map per label\n",
      "... Save as nifti files\n",
      "Subject P096\n",
      "... Load correlations\n",
      "... Compute mean map per label\n",
      "... Save as nifti files\n",
      "Subject P097\n",
      "... Load correlations\n",
      "... Compute mean map per label\n",
      "... Save as nifti files\n",
      "Subject P098\n",
      "... Load correlations\n",
      "... Compute mean map per label\n",
      "... Save as nifti files\n",
      "Subject P103\n",
      "... Load correlations\n",
      "... Compute mean map per label\n",
      "... Save as nifti files\n",
      "Subject P104\n",
      "... Load correlations\n",
      "... Compute mean map per label\n",
      "... Save as nifti files\n",
      "Subject P106\n",
      "... Load correlations\n",
      "... Compute mean map per label\n",
      "... Save as nifti files\n",
      "Subject P111\n",
      "... Load correlations\n",
      "... Compute mean map per label\n",
      "... Save as nifti files\n",
      "Subject A002\n",
      "... Load correlations\n",
      "... Compute mean map per label\n",
      "... Save as nifti files\n",
      "Subject A010\n",
      "... Load correlations\n",
      "... Compute mean map per label\n",
      "... Save as nifti files\n",
      "Subject A012\n",
      "... Load correlations\n",
      "... Compute mean map per label\n",
      "... Save as nifti files\n",
      "Subject A015\n",
      "... Load correlations\n",
      "... Compute mean map per label\n",
      "... Save as nifti files\n",
      "Subject A017\n",
      "... Load correlations\n",
      "... Compute mean map per label\n",
      "... Save as nifti files\n",
      "DONE\n"
     ]
    }
   ],
   "source": [
    "fc_parcellation.prepare_target_maps(indiv_labels_relabeled, load_from_file=True, save_results=True)"
   ]
  },
  {
   "cell_type": "code",
   "execution_count": null,
   "id": "daa7fc44",
   "metadata": {},
   "outputs": [],
   "source": []
  },
  {
   "cell_type": "code",
   "execution_count": null,
   "id": "f9de4c9b",
   "metadata": {},
   "outputs": [],
   "source": []
  },
  {
   "cell_type": "code",
   "execution_count": null,
   "id": "a7f33b11",
   "metadata": {},
   "outputs": [],
   "source": []
  },
  {
   "cell_type": "code",
   "execution_count": null,
   "id": "b583bc89",
   "metadata": {},
   "outputs": [],
   "source": []
  },
  {
   "cell_type": "code",
   "execution_count": null,
   "id": "ae6a25f3",
   "metadata": {},
   "outputs": [],
   "source": []
  },
  {
   "cell_type": "code",
   "execution_count": null,
   "id": "e1e1a322",
   "metadata": {},
   "outputs": [],
   "source": []
  },
  {
   "cell_type": "code",
   "execution_count": null,
   "id": "f71a8528",
   "metadata": {},
   "outputs": [],
   "source": []
  },
  {
   "cell_type": "code",
   "execution_count": null,
   "id": "4752c9a4",
   "metadata": {},
   "outputs": [],
   "source": [
    "S = np.corrcoef(dict_corr['correlations'])"
   ]
  },
  {
   "cell_type": "code",
   "execution_count": null,
   "id": "d90bbe63",
   "metadata": {},
   "outputs": [],
   "source": [
    "from sklearn.cluster import KMeans\n",
    "kmeans_kwargs = {'n_clusters': 8, 'init': 'k-means++', 'max_iter': 300, 'n_init': 100}\n",
    "kmeans_clusters = KMeans(**kmeans_kwargs)\n",
    "kmeans_clusters.fit(S)\n",
    "labels = kmeans_clusters.labels_"
   ]
  },
  {
   "cell_type": "code",
   "execution_count": null,
   "id": "3c04202f",
   "metadata": {},
   "outputs": [],
   "source": [
    "import matplotlib.pyplot as plt\n",
    "plt.imshow(S)"
   ]
  },
  {
   "cell_type": "code",
   "execution_count": null,
   "id": "9da038ee",
   "metadata": {},
   "outputs": [],
   "source": [
    "idx_sort = np.argsort(labels)"
   ]
  },
  {
   "cell_type": "code",
   "execution_count": null,
   "id": "ce11a13a",
   "metadata": {},
   "outputs": [],
   "source": [
    "S_reordered = S[idx_sort,:]\n",
    "S_reordered = S_reordered[:,idx_sort]"
   ]
  },
  {
   "cell_type": "code",
   "execution_count": null,
   "id": "31b01c36",
   "metadata": {},
   "outputs": [],
   "source": [
    "import matplotlib.pyplot as plt\n",
    "plt.imshow(S_reordered);"
   ]
  },
  {
   "cell_type": "code",
   "execution_count": null,
   "id": "25ee0c39",
   "metadata": {},
   "outputs": [],
   "source": []
  },
  {
   "cell_type": "code",
   "execution_count": null,
   "id": "f8b07180",
   "metadata": {},
   "outputs": [],
   "source": []
  },
  {
   "cell_type": "code",
   "execution_count": null,
   "id": "e95c715e",
   "metadata": {},
   "outputs": [],
   "source": []
  },
  {
   "cell_type": "code",
   "execution_count": null,
   "id": "f8699281",
   "metadata": {},
   "outputs": [],
   "source": []
  },
  {
   "cell_type": "code",
   "execution_count": null,
   "id": "81b9e45f",
   "metadata": {},
   "outputs": [],
   "source": []
  },
  {
   "cell_type": "code",
   "execution_count": null,
   "id": "d4821132",
   "metadata": {},
   "outputs": [],
   "source": [
    "group_labels, indiv_labels_relabeled = fc_parcellation.group_clustering(subject_labels)"
   ]
  },
  {
   "cell_type": "code",
   "execution_count": null,
   "id": "d131d7a2",
   "metadata": {},
   "outputs": [],
   "source": [
    "indiv_labels_relabeled.shape"
   ]
  },
  {
   "cell_type": "code",
   "execution_count": null,
   "id": "df0a3996",
   "metadata": {},
   "outputs": [],
   "source": [
    "fc_parcellation.prepare_seed_map(group_labels)"
   ]
  },
  {
   "cell_type": "code",
   "execution_count": null,
   "id": "edbe4546",
   "metadata": {},
   "outputs": [],
   "source": [
    "import matplotlib.pyplot as plt\n",
    "from matplotlib.pyplot import figure\n",
    "figure(figsize=(8, 6), dpi=80)\n",
    "plt.imshow(subject_labels, interpolation='nearest', aspect='auto');"
   ]
  },
  {
   "cell_type": "code",
   "execution_count": null,
   "id": "84291e67",
   "metadata": {},
   "outputs": [],
   "source": [
    "figure(figsize=(8, 6), dpi=80)\n",
    "plt.imshow(indiv_labels_relabeled, interpolation='nearest', aspect='auto');"
   ]
  },
  {
   "cell_type": "code",
   "execution_count": null,
   "id": "22f6596a",
   "metadata": {},
   "outputs": [],
   "source": [
    "plt.imshow(group_labels);"
   ]
  },
  {
   "cell_type": "code",
   "execution_count": null,
   "id": "96d15fcc",
   "metadata": {},
   "outputs": [],
   "source": []
  },
  {
   "cell_type": "code",
   "execution_count": null,
   "id": "d650bec4",
   "metadata": {},
   "outputs": [],
   "source": []
  },
  {
   "cell_type": "code",
   "execution_count": null,
   "id": "e0724fee",
   "metadata": {},
   "outputs": [],
   "source": [
    "fc_parcellation.compute_voxelwise_correlation(load_from_file=False, save_results=False, mask_source_path=config['main_dir']+config['masks']['spinalcord'],mask_target_path=config['main_dir']+config['masks']['brain'])"
   ]
  },
  {
   "cell_type": "code",
   "execution_count": null,
   "id": "09555888",
   "metadata": {},
   "outputs": [],
   "source": [
    "fc_parcellation.define_n_clusters(range(4,50))"
   ]
  },
  {
   "cell_type": "code",
   "execution_count": null,
   "id": "3783b5c0",
   "metadata": {},
   "outputs": [],
   "source": [
    "fc_parcellation.run_clustering(8,algorithm='kmeans')"
   ]
  },
  {
   "cell_type": "code",
   "execution_count": null,
   "id": "be179b2c",
   "metadata": {},
   "outputs": [],
   "source": [
    "fc_parcellation.prepare_seed_map()"
   ]
  },
  {
   "cell_type": "code",
   "execution_count": null,
   "id": "1de6f175",
   "metadata": {},
   "outputs": [],
   "source": [
    "fc_parcellation.prepare_target_maps()"
   ]
  },
  {
   "cell_type": "code",
   "execution_count": null,
   "id": "a8402713",
   "metadata": {},
   "outputs": [],
   "source": [
    "fc_parcellation.run_clustering(13,algorithm='kmeans')"
   ]
  },
  {
   "cell_type": "code",
   "execution_count": null,
   "id": "75ae8276",
   "metadata": {},
   "outputs": [],
   "source": [
    "fc_parcellation.prepare_seed_map()"
   ]
  },
  {
   "cell_type": "code",
   "execution_count": null,
   "id": "cccab738",
   "metadata": {},
   "outputs": [],
   "source": [
    "fc_parcellation.prepare_target_maps()"
   ]
  },
  {
   "cell_type": "code",
   "execution_count": null,
   "id": "22671ee9",
   "metadata": {},
   "outputs": [],
   "source": [
    "A = np.array([0,2,43,4,2,3,4,2,3])"
   ]
  },
  {
   "cell_type": "code",
   "execution_count": null,
   "id": "8f56c09c",
   "metadata": {},
   "outputs": [],
   "source": [
    "std = A.std(axis=0)\n",
    "A = A/ std"
   ]
  },
  {
   "cell_type": "code",
   "execution_count": null,
   "id": "d9ee7507",
   "metadata": {},
   "outputs": [],
   "source": [
    "A.std(axis=0)"
   ]
  },
  {
   "cell_type": "code",
   "execution_count": null,
   "id": "4f61f8b5",
   "metadata": {},
   "outputs": [],
   "source": []
  }
 ],
 "metadata": {
  "kernelspec": {
   "display_name": "Python 3 (ipykernel)",
   "language": "python",
   "name": "python3"
  },
  "language_info": {
   "codemirror_mode": {
    "name": "ipython",
    "version": 3
   },
   "file_extension": ".py",
   "mimetype": "text/x-python",
   "name": "python",
   "nbconvert_exporter": "python",
   "pygments_lexer": "ipython3",
   "version": "3.9.12"
  }
 },
 "nbformat": 4,
 "nbformat_minor": 5
}
