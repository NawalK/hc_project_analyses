{
 "cells": [
  {
   "cell_type": "markdown",
   "id": "fced7dd8",
   "metadata": {},
   "source": [
    "# <font color=black> Analysis - ICA vs iCAP in the spinal cord </font>\n",
    "<hr style=\"border:1px solid black\">"
   ]
  },
  {
   "cell_type": "markdown",
   "id": "65877588",
   "metadata": {},
   "source": [
    "**The goal of this analysis is to investigate the reproducibility of spinal networks extracted using different methods and datasets.**\n",
    "\n",
    "**METHODS CONSIDERED:**\n",
    "- Independent Component Analysis – called `ica` in this script\n",
    "- Innovation-driven CoActivation Pattern analysis – called `icap` in this script\n",
    "\n",
    "**DATASETS:**\n",
    "- A dataset covering C1 to C8 spinal levels, with a resolution of 1.6x1.6x4mm<sup>3</sup>  and a TR of 1.55s – called `mtl` in this script\n",
    "- A dataset covering C5 to C8 spinal levels, with a resolution of 1x1x3mm<sup>3</sup> and a TR of 2.5s – called `gva` in this script\n",
    "\n",
    "**ANALYSES:**\n",
    "- _**Qualitative:**_ matching & visualization of one or two set(s) of components\n",
    "- _**Quantitative:**_\n",
    "    * Analysis of spatial similarity (for a single K, or across multiple Ks)\n",
    "    * Distribution across axial subdvisions (D,V,L,R) for different Ks"
   ]
  },
  {
   "cell_type": "code",
   "execution_count": 2,
   "id": "575e767a",
   "metadata": {},
   "outputs": [],
   "source": [
    "import sys,json\n",
    "import glob\n",
    "import pandas as pd\n",
    "import numpy as np\n",
    "import nibabel as nib\n",
    "import seaborn as sns\n",
    "\n",
    "sys.path.append('/media/miplab-nas2/Data3/BMPD/hc_project/analysis/code/')\n",
    "#sys.path.append('/cerebro/cerebro1/dataset/bmpd/derivatives/HealthyControls_project/hc_project_analyses/code/')\n",
    "\n",
    "from plotting import Plotting\n",
    "from spine_only_analysis import SpineOnlyAnalysis\n",
    "from compute_similarity import compute_similarity\n",
    "\n",
    "%matplotlib inline\n",
    "%load_ext autoreload\n",
    "%autoreload 2"
   ]
  },
  {
   "cell_type": "markdown",
   "id": "d99cc70a",
   "metadata": {},
   "source": [
    "<hr style=\"border:1px solid black\">\n",
    "\n",
    "# Initialization"
   ]
  },
  {
   "cell_type": "markdown",
   "id": "880330b2",
   "metadata": {},
   "source": [
    "### Load configuration file "
   ]
  },
  {
   "cell_type": "code",
   "execution_count": 51,
   "id": "9555438b",
   "metadata": {},
   "outputs": [],
   "source": [
    "# Load the config files with all informations (i.e., all datasets, methods, etc.)\n",
    "with open('../config/config_spine_only_NK.json') as config_file:\n",
    "    config = json.load(config_file)\n",
    "    \n",
    "#with open('../config/config_spine_only_CL.json') as config_file:\n",
    "#    config = json.load(config_file)\n",
    "    "
   ]
  },
  {
   "cell_type": "markdown",
   "id": "1f3999a6",
   "metadata": {},
   "source": [
    "<hr style=\"border:1px solid black\">\n",
    "\n",
    "# Figure 1 – Defining number of components"
   ]
  },
  {
   "cell_type": "markdown",
   "id": "eaadc507",
   "metadata": {},
   "source": [
    "## Stability across subsampling\n",
    "Here, we take 100 subsamples of 10 subjects and assess the similarity with respect to the entire group"
   ]
  },
  {
   "cell_type": "code",
   "execution_count": 57,
   "id": "1eb1ed6c",
   "metadata": {},
   "outputs": [
    {
     "name": "stdout",
     "output_type": "stream",
     "text": [
      "Computing stability for ica in gva\n",
      "K = 3\n",
      "K = 4\n",
      "K = 5\n",
      "K = 6\n",
      "K = 7\n"
     ]
    }
   ],
   "source": [
    "# Initializing parameters\n",
    "methods = ['ica']\n",
    "datasets = ['gva']\n",
    "nperm = 75\n",
    "\n",
    "# Create structure to save results\n",
    "all_methods = []\n",
    "all_datasets = []\n",
    "all_kmax = []\n",
    "all_sim = []\n",
    "all_n = []\n",
    "# For each method & dataset\n",
    "for method in methods:\n",
    "    for dataset in datasets:\n",
    "        krange = range(7,12) if dataset == 'mtl' else range(3,8)\n",
    "        print(f'Computing stability for {method} in {dataset}')\n",
    "        # Looping through K and permutations\n",
    "        for k_i,kmax in enumerate(krange):\n",
    "            print(f'K = {kmax}')\n",
    "             # Load reference data (entire group)\n",
    "            data_ref = nib.load(glob.glob(config['main_dir']+config['data'][dataset][method]['spinalcord']['dir'] + '/K_' + str(kmax) + '/comp_zscored/*' + config['data'][dataset][method]['spinalcord'][\"tag_filename\"] + '*')[0]).get_fdata()\n",
    "            for n in range(0,nperm):\n",
    "                all_methods.append(method)\n",
    "                all_datasets.append(dataset)\n",
    "                all_kmax.append(kmax)\n",
    "                all_n.append(n)\n",
    "                # Load permutation data\n",
    "                data_perm = nib.load(glob.glob(config['main_dir']+config['data'][dataset][method + '_perm']['spinalcord']['dir'] + str(n+1) + '*/K_' + str(kmax) + '*/' + config['data'][dataset][method + '_perm']['spinalcord']['comp_folder'] + '/*' + config['data'][dataset][method + '_perm']['spinalcord'][\"tag_filename\"] + '*.nii*')[0]).get_fdata()            \n",
    "                # Compute similarity matrix between perm data and ref \n",
    "                [tmp_mat,_,_] = compute_similarity(config,data_ref,data_perm,thresh1=1.6,thresh2=1.6,verbose=False)\n",
    "                # Take mean of the diagonal as a summary measure of similarity\n",
    "                all_sim.append(np.mean(np.diag(tmp_mat)))\n",
    "colnames = [\"method\",\"dataset\",\"kmax\",\"perm\",\"sim\"]\n",
    "perm_df = pd.DataFrame(list(zip(all_methods, all_datasets, all_kmax, all_n, all_sim)), columns=colnames)"
   ]
  },
  {
   "cell_type": "code",
   "execution_count": 54,
   "id": "4b0e8b13",
   "metadata": {},
   "outputs": [
    {
     "data": {
      "text/plain": [
       "<AxesSubplot:xlabel='kmax', ylabel='sim'>"
      ]
     },
     "execution_count": 54,
     "metadata": {},
     "output_type": "execute_result"
    },
    {
     "data": {
      "image/png": "[encoded data removed]",
      "text/plain": [
       "<Figure size 720x360 with 1 Axes>"
      ]
     },
     "metadata": {},
     "output_type": "display_data"
    }
   ],
   "source": [
    "method='ica'\n",
    "colors=['#efb537','#20b5bf'] #'#273248'\n",
    "sns.set(style=\"ticks\",  font='sans-serif')\n",
    "g=sns.catplot(y=\"sim\",x=\"kmax\",data=perm_df[perm_df['method']==method], kind=\"box\", hue=\"method\", legend=True, legend_out=True,\n",
    "             linewidth=2,medianprops=dict(color=\"white\"),palette=colors, \n",
    "            boxprops=dict(alpha=.9),fliersize=0, aspect=1) #fliersize=0)\n",
    "g.fig.set_size_inches(10,5)\n",
    "\n",
    "sns.stripplot(y=\"sim\",x=\"kmax\",data=perm_df[perm_df['method']==method], hue=\"method\",\n",
    "             size=6, palette=colors, linewidth=1,edgecolor='white',dodge=True)\n",
    "\n",
    "#g.set_axis_labels(\" \", \"Mean dice coefficient\",fontsize=12, fontweight='bold')\n",
    "#g.set_xticklabels([\"mtl dataset\",\"gva dataset\"],weight='bold',fontsize=12);\n",
    "\n",
    "\n"
   ]
  },
  {
   "cell_type": "markdown",
   "id": "71cc8dcd",
   "metadata": {},
   "source": [
    "<hr style=\"border:1px solid black\">\n",
    "\n",
    "# Figure 2 – Robustness (across methods)"
   ]
  },
  {
   "cell_type": "markdown",
   "id": "670e25b7",
   "metadata": {},
   "source": [
    "## `GVA` dataset"
   ]
  },
  {
   "cell_type": "markdown",
   "id": "a71479b8",
   "metadata": {},
   "source": [
    "### Qualitative evaluation"
   ]
  },
  {
   "cell_type": "code",
   "execution_count": null,
   "id": "2b027fbd",
   "metadata": {},
   "outputs": [],
   "source": [
    "# Define parameters for the dataset to visualize\n",
    "# Note: it is possible to look at a single dataset (in that case, just define params1), or to compare two (in that case, also add params2)\n",
    "# Each param dict has 3 values: k, dataset and analysis\n",
    "params_qual_robustness_gva_ica = {'k':5, 'dataset':'gva', 'analysis':'ica', 'lthresh':1.6}\n",
    "params_qual_robustness_gva_icap = {'k':5, 'dataset':'gva', 'analysis':'icap', 'lthresh':1.6}\n",
    "\n",
    "plotting_robustness_gva = Plotting(config,'spinalcord',params1=params_qual_robustness_gva_ica,params2=params_qual_robustness_gva_icap)"
   ]
  },
  {
   "cell_type": "code",
   "execution_count": null,
   "id": "746ae23f",
   "metadata": {},
   "outputs": [],
   "source": [
    "#plotting_robustness_gva.sc_plot(show_spinal_levels=False, k_per_line=5, lthresh=1.6, uthresh=3.5, save_results=True, similarity_method='Dice', template=config['main_dir']+'/templates/PAM50_hc_project/template/T2w_gva_group_mean_resampled.nii.gz')\n",
    "plotting_robustness_gva.sc_plot(show_spinal_levels=False, k_per_line=5, lthresh=1.6, uthresh=3.5, save_results=True, similarity_method='Dice')\n"
   ]
  },
  {
   "cell_type": "markdown",
   "id": "8c0e102c",
   "metadata": {},
   "source": [
    "_Note: the component numbers refer to the ones of the original datasets (i.e., before any type of reordering)_"
   ]
  },
  {
   "cell_type": "markdown",
   "id": "2b8cd744",
   "metadata": {},
   "source": [
    "### Quantitative evaluation - Number of voxels & Dice"
   ]
  },
  {
   "cell_type": "code",
   "execution_count": null,
   "id": "a83a4bc2",
   "metadata": {},
   "outputs": [],
   "source": [
    "# Define parameters for the datasets to compare\n",
    "# Each param dict has 3 values: k_range, dataset and analysis\n",
    "params_quant_robustness_gva_ica = {'k_range':range(5,6), 'dataset':'gva', 'analysis':'ica', 'lthresh':1.6}\n",
    "params_quant_robustness_gva_icap = {'k_range':range(5,6), 'dataset':'gva', 'analysis':'icap', 'lthresh':1.6}\n",
    "\n",
    "spine_analysis_robustness_gva = SpineOnlyAnalysis(config,params1=params_quant_robustness_gva_ica,params2=params_quant_robustness_gva_icap)"
   ]
  },
  {
   "cell_type": "code",
   "execution_count": null,
   "id": "fa48e9a0",
   "metadata": {},
   "outputs": [],
   "source": [
    "spine_analysis_robustness_gva.extract_voxels_nb(K=5,params=params_quant_robustness_gva_ica) \n",
    "spine_analysis_robustness_gva.extract_voxels_nb(K=5,params=params_quant_robustness_gva_icap) "
   ]
  },
  {
   "cell_type": "code",
   "execution_count": null,
   "id": "26307645",
   "metadata": {},
   "outputs": [],
   "source": [
    "# Similarity has been computed using 'Dice', but 'Cosine' or 'Euclidean distance' could be used instad\n",
    "spine_analysis_robustness_gva.spatial_similarity(k1=5,similarity_method='Dice',save_figure=True)"
   ]
  },
  {
   "cell_type": "markdown",
   "id": "5e42376b",
   "metadata": {},
   "source": [
    "## `MTL` dataset"
   ]
  },
  {
   "cell_type": "markdown",
   "id": "a8eb6dbc",
   "metadata": {},
   "source": [
    "### Qualitative evaluation"
   ]
  },
  {
   "cell_type": "code",
   "execution_count": null,
   "id": "2ae29a3c",
   "metadata": {},
   "outputs": [],
   "source": [
    "# Define parameters for the dataset to visualize\n",
    "# Note: it is possible to look at a single dataset (in that case, just define params1), or to compare two (in that case, also add params2)\n",
    "# Each param dict has 3 values: k, dataset and analysis\n",
    "params_qual_robustness_mtl_ica = {'k':10, 'dataset':'mtl', 'analysis':'ica', 'lthresh':1.6}\n",
    "params_qual_robustness_mtl_icap = {'k':10, 'dataset':'mtl', 'analysis':'icap', 'lthresh':1.6}\n",
    "\n",
    "plotting_robustness_mtl = Plotting(config,'spinalcord',params1=params_qual_robustness_mtl_ica,params2=params_qual_robustness_mtl_icap)"
   ]
  },
  {
   "cell_type": "code",
   "execution_count": null,
   "id": "7b545a2c",
   "metadata": {
    "scrolled": true
   },
   "outputs": [],
   "source": [
    "#plotting_robustness_mtl.sc_plot(show_spinal_levels=False, k_per_line=9, lthresh=1.6, uthresh=3.5, save_results=True, similarity_method='Dice', template=config['main_dir']+'/templates/PAM50_hc_project/template/T2w_mtl_group_mean_resampled.nii.gz')\n",
    "plotting_robustness_mtl.sc_plot(show_spinal_levels=False, k_per_line=10, lthresh=1.6, uthresh=3.5, save_results=True, similarity_method='Dice')"
   ]
  },
  {
   "cell_type": "markdown",
   "id": "afff1757",
   "metadata": {},
   "source": [
    "_Note: the component numbers refer to the ones of the original datasets (i.e., before any type of reordering)_"
   ]
  },
  {
   "cell_type": "markdown",
   "id": "39833ed6",
   "metadata": {},
   "source": [
    "### Quantitative evaluation"
   ]
  },
  {
   "cell_type": "code",
   "execution_count": null,
   "id": "975903f4",
   "metadata": {},
   "outputs": [],
   "source": [
    "# Define parameters for the datasets to compare\n",
    "# Each param dict has 3 values: k_range, dataset and analysis\n",
    "params_quant_robustness_mtl_ica = {'k_range':range(9,10), 'dataset':'mtl', 'analysis':'ica', 'lthresh':1.6}\n",
    "params_quant_robustness_mtl_icap = {'k_range':range(9,10), 'dataset':'mtl', 'analysis':'icap', 'lthresh':1.6}\n",
    "\n",
    "spine_analysis_robustness_mtl = SpineOnlyAnalysis(config,params1=params_quant_robustness_mtl_ica,params2=params_quant_robustness_mtl_icap)"
   ]
  },
  {
   "cell_type": "code",
   "execution_count": null,
   "id": "72ebfb34",
   "metadata": {},
   "outputs": [],
   "source": [
    "spine_analysis_robustness_mtl.extract_voxels_nb(K=9,params=params_quant_robustness_mtl_icap) \n",
    "spine_analysis_robustness_mtl.extract_voxels_nb(K=9,params=params_quant_robustness_mtl_ica) "
   ]
  },
  {
   "cell_type": "code",
   "execution_count": null,
   "id": "d1a3d38c",
   "metadata": {},
   "outputs": [],
   "source": [
    "# Similarity has been computed using 'Dice', but 'Cosine' or 'Euclidean distance' could be used instad\n",
    "spine_analysis_robustness_mtl.spatial_similarity(k1=9,similarity_method='Dice',save_figure=True)"
   ]
  },
  {
   "cell_type": "markdown",
   "id": "9b5c093b",
   "metadata": {},
   "source": [
    "<hr style=\"border:1px solid black\">\n",
    "\n",
    "# Figure 3 – Replicability (across datasets)"
   ]
  },
  {
   "cell_type": "markdown",
   "id": "43ea78c7",
   "metadata": {},
   "source": [
    "## `ICA` method"
   ]
  },
  {
   "cell_type": "markdown",
   "id": "a481d745",
   "metadata": {},
   "source": [
    "### Qualitative evaluation"
   ]
  },
  {
   "cell_type": "code",
   "execution_count": null,
   "id": "cf65420b",
   "metadata": {},
   "outputs": [],
   "source": [
    "# Define parameters for the dataset to visualize\n",
    "# Note: it is possible to look at a single dataset (in that case, just define params1), or to compare two (in that case, also add params2)\n",
    "# Each param dict has 3 values: k, dataset and analysis\n",
    "params_qual_replic_ica_gva = {'k':5, 'dataset':'gva', 'analysis':'ica', 'lthresh':1.6}\n",
    "params_qual_replic_ica_mtl = {'k':9, 'dataset':'mtl', 'analysis':'ica', 'lthresh':1.6}\n",
    "\n",
    "plotting_replicability_ica = Plotting(config,'spinalcord',params1=params_qual_replic_ica_gva,params2=params_qual_replic_ica_mtl)"
   ]
  },
  {
   "cell_type": "code",
   "execution_count": null,
   "id": "b6e9b76a",
   "metadata": {},
   "outputs": [],
   "source": [
    "plotting_replicability_ica.sc_plot(show_spinal_levels=False, k_per_line=9, lthresh=1.6, uthresh=3.5, save_results=True, colormap_two=['summer','RdPu_r'], similarity_method='Dice', centering_method='middle')"
   ]
  },
  {
   "cell_type": "markdown",
   "id": "86b2a3af",
   "metadata": {},
   "source": [
    "_Note: the component numbers refer to the ones of the original datasets (i.e., before any type of reordering)_"
   ]
  },
  {
   "cell_type": "markdown",
   "id": "028715ba",
   "metadata": {},
   "source": [
    "### Quantitative evaluation"
   ]
  },
  {
   "cell_type": "code",
   "execution_count": null,
   "id": "3408a2bb",
   "metadata": {},
   "outputs": [],
   "source": [
    "# Define parameters for the datasets to compare\n",
    "# Each param dict has 3 values: k_range, dataset and analysis\n",
    "params_quant_replicability_ica_gva = {'k_range':range(5,6), 'dataset':'gva', 'analysis':'ica', 'lthresh':1.6}\n",
    "params_quant_replicability_ica_mtl = {'k_range':range(9,10), 'dataset':'mtl', 'analysis':'ica', 'lthresh':1.6}\n",
    "\n",
    "spine_analysis_replicability_ica = SpineOnlyAnalysis(config,params1=params_quant_replicability_ica_gva,params2=params_quant_replicability_ica_mtl)"
   ]
  },
  {
   "cell_type": "code",
   "execution_count": null,
   "id": "01015594",
   "metadata": {},
   "outputs": [],
   "source": [
    "# Similarity has been computed using 'Dice', but 'Cosine' or 'Euclidean distance' could be used instad\n",
    "spine_analysis_replicability_ica.spatial_similarity(k1=5,k2=9,similarity_method='Dice',save_figure=True)"
   ]
  },
  {
   "cell_type": "markdown",
   "id": "270ae18b",
   "metadata": {},
   "source": [
    "## `iCAP` method"
   ]
  },
  {
   "cell_type": "markdown",
   "id": "8bed4a5e",
   "metadata": {},
   "source": [
    "### Qualitative evaluation"
   ]
  },
  {
   "cell_type": "code",
   "execution_count": null,
   "id": "6ee0a57e",
   "metadata": {},
   "outputs": [],
   "source": [
    "# Define parameters for the dataset to visualize\n",
    "# Note: it is possible to look at a single dataset (in that case, just define params1), or to compare two (in that case, also add params2)\n",
    "# Each param dict has 3 values: k, dataset and analysis\n",
    "params_qual_replic_icap_gva = {'k':5, 'dataset':'gva', 'analysis':'icap', 'lthresh':1.6}\n",
    "params_qual_replic_icap_mtl = {'k':9, 'dataset':'mtl', 'analysis':'icap', 'lthresh':1.6}\n",
    "\n",
    "plotting_replicability_icap = Plotting(config,'spinalcord',params1=params_qual_replic_icap_gva,params2=params_qual_replic_icap_mtl)"
   ]
  },
  {
   "cell_type": "code",
   "execution_count": null,
   "id": "a26b08e5",
   "metadata": {},
   "outputs": [],
   "source": [
    "plotting_replicability_icap.sc_plot(show_spinal_levels=False, k_per_line=9, lthresh=1.6, uthresh=3.5, save_results=True, colormap_two=['summer','RdPu_r'], similarity_method='Dice', centering_method='middle')"
   ]
  },
  {
   "cell_type": "markdown",
   "id": "1ad92c5a",
   "metadata": {},
   "source": [
    "_Note: the component numbers refer to the ones of the original datasets (i.e., before any type of reordering)_"
   ]
  },
  {
   "cell_type": "markdown",
   "id": "b20d680d",
   "metadata": {},
   "source": [
    "### Quantitative evaluation"
   ]
  },
  {
   "cell_type": "code",
   "execution_count": null,
   "id": "3524f5bd",
   "metadata": {},
   "outputs": [],
   "source": [
    "# Define parameters for the datasets to compare\n",
    "# Each param dict has 3 values: k_range, dataset and analysis\n",
    "params_quant_replicability_icap_gva = {'k_range':range(5,6), 'dataset':'gva', 'analysis':'icap', 'lthresh':1.6}\n",
    "params_quant_replicability_icap_mtl = {'k_range':range(9,10), 'dataset':'mtl', 'analysis':'icap', 'lthresh':1.6}\n",
    "\n",
    "spine_analysis_replicability_icap = SpineOnlyAnalysis(config,params1=params_quant_replicability_icap_gva,params2=params_quant_replicability_icap_mtl)"
   ]
  },
  {
   "cell_type": "code",
   "execution_count": null,
   "id": "b4f00413",
   "metadata": {},
   "outputs": [],
   "source": [
    "# Similarity has been computed using 'Dice', but 'Cosine' or 'Euclidean distance' could be used instad\n",
    "spine_analysis_replicability_icap.spatial_similarity(k1=5,k2=9,similarity_method='Dice',save_figure=True)"
   ]
  },
  {
   "cell_type": "markdown",
   "id": "6af41beb",
   "metadata": {},
   "source": [
    "<hr style=\"border:1px solid black\">\n",
    "\n",
    "# Figure 4 – Subject-specific"
   ]
  },
  {
   "cell_type": "markdown",
   "id": "3741454e",
   "metadata": {},
   "source": [
    "## `GVA` dataset"
   ]
  },
  {
   "cell_type": "markdown",
   "id": "14e2783f",
   "metadata": {},
   "source": [
    "### Qualitative evaluation\n",
    "Here, we just display one example subject for each dataset, displayed on its own mean T2 image"
   ]
  },
  {
   "cell_type": "code",
   "execution_count": null,
   "id": "a3044818",
   "metadata": {},
   "outputs": [],
   "source": [
    "# Define parameters for the dataset to visualize\n",
    "# Note: it is possible to look at a single dataset (in that case, just define params1), or to compare two (in that case, also add params2)\n",
    "# Each param dict has 3 values: k, dataset and analysis\n",
    "\n",
    "sub='07'\n",
    "params_qual_1 = {'k':5, 'dataset':'gva', 'analysis':'icap', 'subject':sub,'lthresh':1.6}   \n",
    "\n",
    "plotting = Plotting(config,'spinalcord',params1=params_qual_1,sorting_method='rostrocaudal')\n",
    "plotting.sc_plot(show_spinal_levels=False, k_per_line=5, lthresh=1.6, uthresh=3.5, template=config['main_dir']+'spine_only/gva/sub-'+sub+'/sub-'+sub+'_anat2template_resampled.nii.gz',colormap_one='RdPu_r', save_results=True)"
   ]
  },
  {
   "cell_type": "markdown",
   "id": "265e41da",
   "metadata": {},
   "source": [
    "### `MTL` dataset"
   ]
  },
  {
   "cell_type": "code",
   "execution_count": null,
   "id": "62421548",
   "metadata": {},
   "outputs": [],
   "source": [
    "# Define parameters for the dataset to visualize\n",
    "# Note: it is possible to look at a single dataset (in that case, just define params1), or to compare two (in that case, also add params2)\n",
    "# Each param dict has 3 values: k, dataset and analysis\n",
    "\n",
    "subject = 'A011'\n",
    "params_qual_1 = {'k':9, 'dataset':'mtl', 'analysis':'icap','lthresh':1.6}   \n",
    "params_qual_2 = {'k':9, 'dataset':'mtl', 'analysis':'icap', 'subject':subject,'lthresh':1.6}   \n",
    "\n",
    "plotting = Plotting(config,'spinalcord',params1=params_qual_1,params2=params_qual_2,sorting_method='rostrocaudal_CoM')\n",
    "#plotting = Plotting(config,'spinalcord',params1=params_qual_1,sorting_method='rostrocaudal_CoM')\n",
    "plotting.sc_plot(show_spinal_levels=False, k_per_line=9, lthresh=1.6, uthresh=3.5, template=config['main_dir']+'spine_only/mtl/sub-'+subject+'/sub-'+subject+'_T2w_coreg_in_PAM50_resampled.nii.gz', colormap_two=['gray','winter'], save_results=False)"
   ]
  },
  {
   "cell_type": "code",
   "execution_count": null,
   "id": "5af03315",
   "metadata": {},
   "outputs": [],
   "source": [
    "plotting = Plotting(config,'spinalcord',params1=params_qual_1,sorting_method='rostrocaudal_CoM')\n",
    "plotting.sc_plot(show_spinal_levels=False, k_per_line=9, lthresh=1.6, uthresh=4, template=config['main_dir']+'spine_only/mtl/sub-'+subject+'/sub-'+subject+'_T2w_coreg_in_PAM50_resampled.nii.gz', colormap_one='winter', save_results=False)"
   ]
  },
  {
   "cell_type": "markdown",
   "id": "26d2714f",
   "metadata": {},
   "source": [
    "## Heatmap of the distribution"
   ]
  },
  {
   "cell_type": "code",
   "execution_count": null,
   "id": "7b5143ae",
   "metadata": {},
   "outputs": [],
   "source": [
    "redo_distribution_map=False\n",
    "if redo_distribution_map==True:\n",
    "    for dataset in [\"gva\",\"mtl\"]:\n",
    "        for ana in [\"ica\",\"icap\"]:\n",
    "            params_heat_1 = {'k_range':(range(9,10) if dataset == 'mtl' else range(5,6)),'dataset':dataset, 'analysis':ana,'lthresh':1.6}   \n",
    "            spine_analysis = SpineOnlyAnalysis(config,params1=params_heat_1,params2=params_heat_1,load_subjects=True)\n",
    "            spine_analysis.subject_distribution(spine_analysis.name1, k=params_heat_1['k_range'][0])\n",
    "            \n",
    "save_plots=True\n",
    "for dataset in [\"mtl\",\"gva\"]:\n",
    "    for ana in [\"ica\",\"icap\"]:\n",
    "        config[\"output_tag\"]= \"Distribution\"\n",
    "        config[\"data\"][dataset][ana][\"spinalcord\"][\"tag_filename\"]=\".nii.gz\"\n",
    "        params_qual_1 = {'k':(9 if dataset == 'mtl' else 5), 'dataset':dataset, 'analysis':ana, 'subject':\"distribution\"}\n",
    "        plotting = Plotting(config,'spinalcord',params1=params_qual_1,params2=None,sorting_method='no_sorting')\n",
    "        plotting.sc_plot(show_spinal_levels=False, k_per_line=params_qual_1['k'], lthresh=0, uthresh=len(config[\"list_subjects\"][dataset]), save_results=save_plots,colormap_one='inferno')\n",
    "\n",
    "with open('../config/config_spine_only_NK.json') as config_file:\n",
    "    config = json.load(config_file)"
   ]
  },
  {
   "cell_type": "code",
   "execution_count": null,
   "id": "93798f65",
   "metadata": {},
   "outputs": [],
   "source": [
    "dataframe={};dataframe_comp={}\n",
    "extract=True # put extract=True to extract the values \n",
    "for dataset in [\"mtl\",\"gva\"]:\n",
    "    dataframe[dataset]={};dataframe_comp[dataset]={}\n",
    "    for ana in [\"ica\",\"icap\"]:\n",
    "        dataframe[dataset][ana]={};dataframe_comp[dataset][ana]={}\n",
    "        for measure in [\"Dice\"]:\n",
    "            config[\"output_dir\"]= \"/spine_only/results/individual_analyses/\" + dataset + \"/\"+measure+\"/\"\n",
    "            config[\"output_tag\"]= \"Indiv\"\n",
    "            \n",
    "            if extract == True:\n",
    "                params_quant_1 = {'k_range':(range(9,10) if dataset == 'mtl' else range(5,6)),'dataset':dataset, 'analysis':ana, 'lthresh':1.6}\n",
    "\n",
    "                for sub in config['list_subjects'][dataset]:\n",
    "                    params_quant_2 = {'k_range':(range(9,10) if dataset == 'mtl' else range(5,6)), 'dataset':dataset, 'analysis':ana, 'subject':'sub-'+sub, 'lthresh':1.6}\n",
    "\n",
    "                spine_analysis = SpineOnlyAnalysis(config,params1=params_quant_1,params2=params_quant_2,load_subjects=True)\n",
    "                print(params_quant_1[\"k_range\"][0])\n",
    "                spine_analysis.spatial_similarity(k1=params_quant_1[\"k_range\"][0],k2=params_quant_2[\"k_range\"][0],similarity_method='Dice',save_results=True,save_figure=False)\n",
    "\n",
    "            input_comp= glob.glob(config[\"main_dir\"] +config[\"output_dir\"] + config[\"output_tag\"] + \"*_\" +ana+ \"_*indiv_comp.txt\")[0]\n",
    "            input= glob.glob(config[\"main_dir\"] +config[\"output_dir\"] + config[\"output_tag\"] + \"*_\" +ana+ \"_*indiv.txt\")[0]\n",
    "            \n",
    "            dataframe_comp[dataset][ana][measure]=pd.read_csv(input_comp, header=0,sep=' ')\n",
    "            dataframe[dataset][ana][measure]=pd.read_csv(input, header=0,sep=' ')\n",
    "            \n",
    "frames=[dataframe[\"mtl\"][\"ica\"][\"Dice\"],dataframe[\"gva\"][\"ica\"][\"Dice\"],dataframe[\"mtl\"][\"icap\"][\"Dice\"],dataframe[\"gva\"][\"icap\"][\"Dice\"]]; frames=pd.concat(frames)\n",
    "frames_comp=[dataframe_comp[\"mtl\"][\"ica\"][\"Dice\"],dataframe_comp[\"gva\"][\"ica\"][\"Dice\"],dataframe_comp[\"mtl\"][\"icap\"][\"Dice\"],dataframe_comp[\"gva\"][\"icap\"][\"Dice\"]] ; frames_comp=pd.concat(frames_comp)"
   ]
  },
  {
   "cell_type": "code",
   "execution_count": null,
   "id": "c8861ad5",
   "metadata": {},
   "outputs": [],
   "source": [
    "#frames=[dataframe[\"mtl\"][\"ica\"][\"Dice\"],dataframe[\"gva\"][\"ica\"][\"Dice\"]]; frames=pd.concat(frames)\n",
    "\n",
    "import seaborn as sns\n",
    "colors=['#efb537','#20b5bf'] #'#273248'\n",
    "sns.set(style=\"ticks\",  font='sans-serif')\n",
    "g=sns.catplot(y=\"Dice\",x=\"dataset\",data=frames, kind=\"box\", hue=\"analysis\", legend=True, legend_out=True,\n",
    "             linewidth=2,medianprops=dict(color=\"white\"),palette=colors, \n",
    "              boxprops=dict(alpha=.9),fliersize=0, aspect=1) #fliersize=0)\n",
    "g.fig.set_size_inches(10,5)\n",
    "\n",
    "sns.stripplot(x=\"dataset\", y=\"Dice\",data=frames, hue=\"analysis\",\n",
    "             size=6, palette=colors, linewidth=1,edgecolor='white',dodge=True)\n",
    "\n",
    "g.set_axis_labels(\" \", \"Mean dice coefficient\",fontsize=12, fontweight='bold')\n",
    "g.set_xticklabels([\"mtl dataset\",\"gva dataset\"],weight='bold',fontsize=12);\n",
    "\n",
    "\n"
   ]
  },
  {
   "cell_type": "code",
   "execution_count": null,
   "id": "dac5c32b",
   "metadata": {},
   "outputs": [],
   "source": []
  }
 ],
 "metadata": {
  "kernelspec": {
   "display_name": "Python 3 (ipykernel)",
   "language": "python",
   "name": "python3"
  },
  "language_info": {
   "codemirror_mode": {
    "name": "ipython",
    "version": 3
   },
   "file_extension": ".py",
   "mimetype": "text/x-python",
   "name": "python",
   "nbconvert_exporter": "python",
   "pygments_lexer": "ipython3",
   "version": "3.9.12"
  }
 },
 "nbformat": 4,
 "nbformat_minor": 5
}
