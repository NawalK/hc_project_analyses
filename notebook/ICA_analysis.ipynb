{
 "cells": [
  {
   "cell_type": "markdown",
   "metadata": {},
   "source": [
    "# <font color=#f4665a>  ICA analysis </font>"
   ]
  },
  {
   "cell_type": "markdown",
   "metadata": {},
   "source": [
    "### Project: BMPD HC\n",
    "____________________________________________________\n",
    "\n",
    "**Description:** This notebook provides code for BOLD signal fMRI resting-state processing for the Biomarker for Parkinson's Disease (BMPD)data. \n",
    "We will used ICA analysis:\n",
    "CanICA is an ICA package for group-level analysis of fMRI data.  \n",
    "It brings a well-controlled group model, as well as a thresholding algorithm controlling for specificity and sensitivity with an explicit model of the signal.  \n",
    "The reference papers are: G. Varoquaux et al. \"A group model for stable multi-subject ICA on fMRI datasets\", NeuroImage Vol 51 (2010), p. 288-299\n",
    "G. Varoquaux et al. \"ICA-based sparse features recovery from fMRI datasets\", IEEE ISBI 2010, p. 1177\n",
    "\n",
    "\n",
    "**Toolbox required:** SpinalCordToolbox, FSL, nilearn toolbox, nipype, matlab\n",
    "\n",
    "**Inputs**:  \n",
    "This notebook required this the following prepross anatomical,fmri images \n",
    "\n",
    "**Ouputs**:\n",
    "See the output description at each step of the Notebook.\n",
    "\n",
    "____________________________________________________\n"
   ]
  },
  {
   "cell_type": "markdown",
   "metadata": {},
   "source": [
    "## <font color=#00988c> Imports </font>"
   ]
  },
  {
   "cell_type": "code",
   "execution_count": 1,
   "metadata": {},
   "outputs": [
    {
     "name": "stderr",
     "output_type": "stream",
     "text": [
      "/cerebro/cerebro1/dataset/bmpd/derivatives/thibault_test/code/toolbox/bmpd_python/lib/python3.6/site-packages/nilearn/__init__.py:69: FutureWarning: Python 3.6 support is deprecated and will be removed in release 0.10 of Nilearn. Consider switching to Python 3.8 or 3.9.\n",
      "  _python_deprecation_warnings()\n"
     ]
    }
   ],
   "source": [
    "import sys\n",
    "import json\n",
    "# Spinal cord Toolbox_________________________________________\n",
    "### Cerebro:\n",
    "sys.path.append(\"/cerebro/cerebro1/dataset/bmpd/derivatives/thibault_test/code/toolbox/spinalcordtoolbox-5.0.0\")\n",
    "sys.path.append(\"/cerebro/cerebro1/dataset/bmpd/derivatives/thibault_test/code/toolbox/spinalcordtoolbox-5.0.0/scripts\") #sys.path.insert(0, \"/cerebro/cerebro1/dataset/bmpd/derivatives/sc_preproc/code/sct/spinalcordtoolbox\")\n",
    "sys.path.append(\"/cerebro/cerebro1/dataset/bmpd/derivatives/HealthyControls_project/hc_project_analyses/code/\") #sys.path.insert(0, \"/cerebro/cerebro1/dataset/bmpd/derivatives/sc_preproc/code/sct/spinalcordtoolbox\")\n",
    "\n",
    "from spinalcordtoolbox.utils.sys import run_proc\n",
    "\n",
    "from canICA_analyses import ICA\n",
    "%matplotlib inline\n",
    "%load_ext autoreload\n",
    "%autoreload 2\n"
   ]
  },
  {
   "cell_type": "markdown",
   "metadata": {},
   "source": [
    "## <font color=#00988c>  Run the ICA analysis </font>"
   ]
  },
  {
   "cell_type": "code",
   "execution_count": 3,
   "metadata": {},
   "outputs": [
    {
     "name": "stdout",
     "output_type": "stream",
     "text": [
      "4\n",
      "Analyse will be run on spinalcord structure\n",
      "Mask: /cerebro/cerebro1/dataset/bmpd/derivatives/HealthyControls_project//templates/PAM50/template/PAM50_cord_C1toC8.nii.gz\n"
     ]
    }
   ],
   "source": [
    "# Load the dataset config\n",
    "#config_BMPD_HC_CL.json #config_SPiCiCAP_CL.json\n",
    "with open('../config/config_BMPD_HC_CL.json') as config_file:\n",
    "    config = json.load(config_file)\n",
    "    \n",
    "for k in config[\"k_range\"][\"spinalcord\"]:\n",
    "    config[\"n_comp\"]=k # usefull if you want to test only on k\n",
    "    print(config[\"n_comp\"])\n",
    "    icas = ICA(\"spinalcord\",config) # \"brain_spinalcord\" or \"brain\" or \"spinalcord\"\n",
    "    all_data=icas.get_data(run='extract',t_r=config[\"t_r\"],n_jobs=8) # load or extract\n",
    "    #all_data=icas.get_data(run='load',t_r=config[\"t_r\"],n_jobs=8) # load or extract\n",
    "    #reducedata_all=icas.indiv_PCA(all_data,save_indiv_img=True)\n",
    "    #components=icas.get_CCA(reducedata_all)\n",
    "    #components_final,components_final_z=icas.get_ICA(components)\n",
    "    #zcomponents4D_filename=icas.save_components(components_final,components_final_z)\n",
    "    \n",
    "    "
   ]
  },
  {
   "cell_type": "markdown",
   "metadata": {},
   "source": [
    "## <font color=#00988c>  Create masks </font>\n",
    "### <font color=#00988c>  > Binarize IC maps </font> #_nindiv40"
   ]
  },
  {
   "cell_type": "code",
   "execution_count": 10,
   "metadata": {},
   "outputs": [
    {
     "name": "stdout",
     "output_type": "stream",
     "text": [
      "fslmaths /cerebro/cerebro1/dataset/bmpd/derivatives/HealthyControls_project//ICA//spinalcord/K_9/comp_zscored/zCanICA_22sbj_spinalcord_spinalcord_k_1.nii.gz -thr 2 -bin /cerebro/cerebro1/dataset/bmpd/derivatives/HealthyControls_project//ICA//spinalcord/K_9/comp_bin/zCanICA_22sbj_spinalcord_spinalcord_k_1_bin.nii.gz # in /cerebro/cerebro1/dataset/bmpd/derivatives/HealthyControls_project/ICA/code\n",
      "fslmaths /cerebro/cerebro1/dataset/bmpd/derivatives/HealthyControls_project//ICA//spinalcord/K_9/comp_zscored/zCanICA_22sbj_spinalcord_spinalcord_k_2.nii.gz -thr 2 -bin /cerebro/cerebro1/dataset/bmpd/derivatives/HealthyControls_project//ICA//spinalcord/K_9/comp_bin/zCanICA_22sbj_spinalcord_spinalcord_k_2_bin.nii.gz # in /cerebro/cerebro1/dataset/bmpd/derivatives/HealthyControls_project/ICA/code\n",
      "fslmaths /cerebro/cerebro1/dataset/bmpd/derivatives/HealthyControls_project//ICA//spinalcord/K_9/comp_zscored/zCanICA_22sbj_spinalcord_spinalcord_k_3.nii.gz -thr 2 -bin /cerebro/cerebro1/dataset/bmpd/derivatives/HealthyControls_project//ICA//spinalcord/K_9/comp_bin/zCanICA_22sbj_spinalcord_spinalcord_k_3_bin.nii.gz # in /cerebro/cerebro1/dataset/bmpd/derivatives/HealthyControls_project/ICA/code\n",
      "fslmaths /cerebro/cerebro1/dataset/bmpd/derivatives/HealthyControls_project//ICA//spinalcord/K_9/comp_zscored/zCanICA_22sbj_spinalcord_spinalcord_k_4.nii.gz -thr 2 -bin /cerebro/cerebro1/dataset/bmpd/derivatives/HealthyControls_project//ICA//spinalcord/K_9/comp_bin/zCanICA_22sbj_spinalcord_spinalcord_k_4_bin.nii.gz # in /cerebro/cerebro1/dataset/bmpd/derivatives/HealthyControls_project/ICA/code\n",
      "fslmaths /cerebro/cerebro1/dataset/bmpd/derivatives/HealthyControls_project//ICA//spinalcord/K_9/comp_zscored/zCanICA_22sbj_spinalcord_spinalcord_k_5.nii.gz -thr 2 -bin /cerebro/cerebro1/dataset/bmpd/derivatives/HealthyControls_project//ICA//spinalcord/K_9/comp_bin/zCanICA_22sbj_spinalcord_spinalcord_k_5_bin.nii.gz # in /cerebro/cerebro1/dataset/bmpd/derivatives/HealthyControls_project/ICA/code\n",
      "fslmaths /cerebro/cerebro1/dataset/bmpd/derivatives/HealthyControls_project//ICA//spinalcord/K_9/comp_zscored/zCanICA_22sbj_spinalcord_spinalcord_k_6.nii.gz -thr 2 -bin /cerebro/cerebro1/dataset/bmpd/derivatives/HealthyControls_project//ICA//spinalcord/K_9/comp_bin/zCanICA_22sbj_spinalcord_spinalcord_k_6_bin.nii.gz # in /cerebro/cerebro1/dataset/bmpd/derivatives/HealthyControls_project/ICA/code\n",
      "fslmaths /cerebro/cerebro1/dataset/bmpd/derivatives/HealthyControls_project//ICA//spinalcord/K_9/comp_zscored/zCanICA_22sbj_spinalcord_spinalcord_k_7.nii.gz -thr 2 -bin /cerebro/cerebro1/dataset/bmpd/derivatives/HealthyControls_project//ICA//spinalcord/K_9/comp_bin/zCanICA_22sbj_spinalcord_spinalcord_k_7_bin.nii.gz # in /cerebro/cerebro1/dataset/bmpd/derivatives/HealthyControls_project/ICA/code\n",
      "fslmaths /cerebro/cerebro1/dataset/bmpd/derivatives/HealthyControls_project//ICA//spinalcord/K_9/comp_zscored/zCanICA_22sbj_spinalcord_spinalcord_k_8.nii.gz -thr 2 -bin /cerebro/cerebro1/dataset/bmpd/derivatives/HealthyControls_project//ICA//spinalcord/K_9/comp_bin/zCanICA_22sbj_spinalcord_spinalcord_k_8_bin.nii.gz # in /cerebro/cerebro1/dataset/bmpd/derivatives/HealthyControls_project/ICA/code\n",
      "fslmaths /cerebro/cerebro1/dataset/bmpd/derivatives/HealthyControls_project//ICA//spinalcord/K_9/comp_zscored/zCanICA_22sbj_spinalcord_spinalcord_k_9.nii.gz -thr 2 -bin /cerebro/cerebro1/dataset/bmpd/derivatives/HealthyControls_project//ICA//spinalcord/K_9/comp_bin/zCanICA_22sbj_spinalcord_spinalcord_k_9_bin.nii.gz # in /cerebro/cerebro1/dataset/bmpd/derivatives/HealthyControls_project/ICA/code\n"
     ]
    }
   ],
   "source": [
    "import glob\n",
    "sys.path.append(\"/cerebro/cerebro1/dataset/bmpd/derivatives/thibault_test/code/toolbox/spinalcordtoolbox-5.0.0\")\n",
    "sys.path.append(\"/cerebro/cerebro1/dataset/bmpd/derivatives/thibault_test/code/toolbox/spinalcordtoolbox-5.0.0/scripts\") #sys.path.insert(0, \"/cerebro/cerebro1/dataset/bmpd/derivatives/sc_preproc/code/sct/spinalcordtoolbox\")\n",
    "from spinalcordtoolbox.utils.sys import run_proc\n",
    "structure='spinalcord'\n",
    "import os\n",
    "for K in range(9,10):\n",
    "    input_dir=config[\"main_dir\"]+config[\"ica_root\"]+ '/'+structure +'/K_'+ str(K) + '/comp_zscored/'\n",
    "    output_dir=config[\"main_dir\"]+config[\"ica_root\"]+ '/'+structure +'/K_'+ str(K) + '/comp_bin/'\n",
    "    for k in range(len(sorted(glob.glob(input_dir + '*_k_*')))):\n",
    "        input_image=sorted(glob.glob(input_dir + '*_k_*'))[k]\n",
    "        output_image=output_dir+os.path.basename(input_image).split('.')[0]+'_bin.nii.gz'\n",
    "        run_proc('fslmaths {} -thr 2 -bin {}'.format(input_image,output_image)) # thre and binarize the image"
   ]
  },
  {
   "cell_type": "markdown",
   "metadata": {},
   "source": [
    "### <font color=#00988c>  > Mask with GM </font>"
   ]
  },
  {
   "cell_type": "code",
   "execution_count": 11,
   "metadata": {},
   "outputs": [
    {
     "name": "stdout",
     "output_type": "stream",
     "text": [
      "fslmaths /cerebro/cerebro1/dataset/bmpd/derivatives/HealthyControls_project//ICA//spinalcord/K_9/comp_bin/zCanICA_22sbj_spinalcord_spinalcord_k_1_C7_bin.nii.gz -mas /cerebro/cerebro1/dataset/bmpd/derivatives/HealthyControls_project//templates/PAM50/atlas_bin/GM_LV_bin.nii.gz /cerebro/cerebro1/dataset/bmpd/derivatives/HealthyControls_project//ICA//spinalcord/K_9/comp_rois/zCanICA_22sbj_spinalcord_spinalcord_k_1_C7_LV_bin.nii.gz # in /cerebro/cerebro1/dataset/bmpd/derivatives/HealthyControls_project/ICA/code\n",
      "fslmaths /cerebro/cerebro1/dataset/bmpd/derivatives/HealthyControls_project//ICA//spinalcord/K_9/comp_bin/zCanICA_22sbj_spinalcord_spinalcord_k_1_C7_bin.nii.gz -mas /cerebro/cerebro1/dataset/bmpd/derivatives/HealthyControls_project//templates/PAM50/atlas_bin/GM_RV_bin.nii.gz /cerebro/cerebro1/dataset/bmpd/derivatives/HealthyControls_project//ICA//spinalcord/K_9/comp_rois/zCanICA_22sbj_spinalcord_spinalcord_k_1_C7_RV_bin.nii.gz # in /cerebro/cerebro1/dataset/bmpd/derivatives/HealthyControls_project/ICA/code\n",
      "fslmaths /cerebro/cerebro1/dataset/bmpd/derivatives/HealthyControls_project//ICA//spinalcord/K_9/comp_bin/zCanICA_22sbj_spinalcord_spinalcord_k_1_C7_bin.nii.gz -mas /cerebro/cerebro1/dataset/bmpd/derivatives/HealthyControls_project//templates/PAM50/atlas_bin/GM_LD_bin.nii.gz /cerebro/cerebro1/dataset/bmpd/derivatives/HealthyControls_project//ICA//spinalcord/K_9/comp_rois/zCanICA_22sbj_spinalcord_spinalcord_k_1_C7_LD_bin.nii.gz # in /cerebro/cerebro1/dataset/bmpd/derivatives/HealthyControls_project/ICA/code\n",
      "fslmaths /cerebro/cerebro1/dataset/bmpd/derivatives/HealthyControls_project//ICA//spinalcord/K_9/comp_bin/zCanICA_22sbj_spinalcord_spinalcord_k_1_C7_bin.nii.gz -mas /cerebro/cerebro1/dataset/bmpd/derivatives/HealthyControls_project//templates/PAM50/atlas_bin/GM_RD_bin.nii.gz /cerebro/cerebro1/dataset/bmpd/derivatives/HealthyControls_project//ICA//spinalcord/K_9/comp_rois/zCanICA_22sbj_spinalcord_spinalcord_k_1_C7_RD_bin.nii.gz # in /cerebro/cerebro1/dataset/bmpd/derivatives/HealthyControls_project/ICA/code\n",
      "fslmaths /cerebro/cerebro1/dataset/bmpd/derivatives/HealthyControls_project//ICA//spinalcord/K_9/comp_bin/zCanICA_22sbj_spinalcord_spinalcord_k_1_C7_bin.nii.gz -mas /cerebro/cerebro1/dataset/bmpd/derivatives/HealthyControls_project//templates/PAM50/atlas_bin/GM_interm_bin.nii.gz /cerebro/cerebro1/dataset/bmpd/derivatives/HealthyControls_project//ICA//spinalcord/K_9/comp_rois/zCanICA_22sbj_spinalcord_spinalcord_k_1_C7_interm_bin.nii.gz # in /cerebro/cerebro1/dataset/bmpd/derivatives/HealthyControls_project/ICA/code\n",
      "fslmaths /cerebro/cerebro1/dataset/bmpd/derivatives/HealthyControls_project//ICA//spinalcord/K_9/comp_bin/zCanICA_22sbj_spinalcord_spinalcord_k_1_C7_bin.nii.gz -mas /cerebro/cerebro1/dataset/bmpd/derivatives/HealthyControls_project//templates/PAM50/atlas_bin/GM_whole_bin.nii.gz /cerebro/cerebro1/dataset/bmpd/derivatives/HealthyControls_project//ICA//spinalcord/K_9/comp_rois/zCanICA_22sbj_spinalcord_spinalcord_k_1_C7_whole_bin.nii.gz # in /cerebro/cerebro1/dataset/bmpd/derivatives/HealthyControls_project/ICA/code\n",
      "fslmaths /cerebro/cerebro1/dataset/bmpd/derivatives/HealthyControls_project//ICA//spinalcord/K_9/comp_bin/zCanICA_22sbj_spinalcord_spinalcord_k_2_C1_bin.nii.gz -mas /cerebro/cerebro1/dataset/bmpd/derivatives/HealthyControls_project//templates/PAM50/atlas_bin/GM_LV_bin.nii.gz /cerebro/cerebro1/dataset/bmpd/derivatives/HealthyControls_project//ICA//spinalcord/K_9/comp_rois/zCanICA_22sbj_spinalcord_spinalcord_k_2_C1_LV_bin.nii.gz # in /cerebro/cerebro1/dataset/bmpd/derivatives/HealthyControls_project/ICA/code\n",
      "fslmaths /cerebro/cerebro1/dataset/bmpd/derivatives/HealthyControls_project//ICA//spinalcord/K_9/comp_bin/zCanICA_22sbj_spinalcord_spinalcord_k_2_C1_bin.nii.gz -mas /cerebro/cerebro1/dataset/bmpd/derivatives/HealthyControls_project//templates/PAM50/atlas_bin/GM_RV_bin.nii.gz /cerebro/cerebro1/dataset/bmpd/derivatives/HealthyControls_project//ICA//spinalcord/K_9/comp_rois/zCanICA_22sbj_spinalcord_spinalcord_k_2_C1_RV_bin.nii.gz # in /cerebro/cerebro1/dataset/bmpd/derivatives/HealthyControls_project/ICA/code\n",
      "fslmaths /cerebro/cerebro1/dataset/bmpd/derivatives/HealthyControls_project//ICA//spinalcord/K_9/comp_bin/zCanICA_22sbj_spinalcord_spinalcord_k_2_C1_bin.nii.gz -mas /cerebro/cerebro1/dataset/bmpd/derivatives/HealthyControls_project//templates/PAM50/atlas_bin/GM_LD_bin.nii.gz /cerebro/cerebro1/dataset/bmpd/derivatives/HealthyControls_project//ICA//spinalcord/K_9/comp_rois/zCanICA_22sbj_spinalcord_spinalcord_k_2_C1_LD_bin.nii.gz # in /cerebro/cerebro1/dataset/bmpd/derivatives/HealthyControls_project/ICA/code\n",
      "fslmaths /cerebro/cerebro1/dataset/bmpd/derivatives/HealthyControls_project//ICA//spinalcord/K_9/comp_bin/zCanICA_22sbj_spinalcord_spinalcord_k_2_C1_bin.nii.gz -mas /cerebro/cerebro1/dataset/bmpd/derivatives/HealthyControls_project//templates/PAM50/atlas_bin/GM_RD_bin.nii.gz /cerebro/cerebro1/dataset/bmpd/derivatives/HealthyControls_project//ICA//spinalcord/K_9/comp_rois/zCanICA_22sbj_spinalcord_spinalcord_k_2_C1_RD_bin.nii.gz # in /cerebro/cerebro1/dataset/bmpd/derivatives/HealthyControls_project/ICA/code\n",
      "fslmaths /cerebro/cerebro1/dataset/bmpd/derivatives/HealthyControls_project//ICA//spinalcord/K_9/comp_bin/zCanICA_22sbj_spinalcord_spinalcord_k_2_C1_bin.nii.gz -mas /cerebro/cerebro1/dataset/bmpd/derivatives/HealthyControls_project//templates/PAM50/atlas_bin/GM_interm_bin.nii.gz /cerebro/cerebro1/dataset/bmpd/derivatives/HealthyControls_project//ICA//spinalcord/K_9/comp_rois/zCanICA_22sbj_spinalcord_spinalcord_k_2_C1_interm_bin.nii.gz # in /cerebro/cerebro1/dataset/bmpd/derivatives/HealthyControls_project/ICA/code\n",
      "fslmaths /cerebro/cerebro1/dataset/bmpd/derivatives/HealthyControls_project//ICA//spinalcord/K_9/comp_bin/zCanICA_22sbj_spinalcord_spinalcord_k_2_C1_bin.nii.gz -mas /cerebro/cerebro1/dataset/bmpd/derivatives/HealthyControls_project//templates/PAM50/atlas_bin/GM_whole_bin.nii.gz /cerebro/cerebro1/dataset/bmpd/derivatives/HealthyControls_project//ICA//spinalcord/K_9/comp_rois/zCanICA_22sbj_spinalcord_spinalcord_k_2_C1_whole_bin.nii.gz # in /cerebro/cerebro1/dataset/bmpd/derivatives/HealthyControls_project/ICA/code\n",
      "fslmaths /cerebro/cerebro1/dataset/bmpd/derivatives/HealthyControls_project//ICA//spinalcord/K_9/comp_bin/zCanICA_22sbj_spinalcord_spinalcord_k_3_C3_bin.nii.gz -mas /cerebro/cerebro1/dataset/bmpd/derivatives/HealthyControls_project//templates/PAM50/atlas_bin/GM_LV_bin.nii.gz /cerebro/cerebro1/dataset/bmpd/derivatives/HealthyControls_project//ICA//spinalcord/K_9/comp_rois/zCanICA_22sbj_spinalcord_spinalcord_k_3_C3_LV_bin.nii.gz # in /cerebro/cerebro1/dataset/bmpd/derivatives/HealthyControls_project/ICA/code\n",
      "fslmaths /cerebro/cerebro1/dataset/bmpd/derivatives/HealthyControls_project//ICA//spinalcord/K_9/comp_bin/zCanICA_22sbj_spinalcord_spinalcord_k_3_C3_bin.nii.gz -mas /cerebro/cerebro1/dataset/bmpd/derivatives/HealthyControls_project//templates/PAM50/atlas_bin/GM_RV_bin.nii.gz /cerebro/cerebro1/dataset/bmpd/derivatives/HealthyControls_project//ICA//spinalcord/K_9/comp_rois/zCanICA_22sbj_spinalcord_spinalcord_k_3_C3_RV_bin.nii.gz # in /cerebro/cerebro1/dataset/bmpd/derivatives/HealthyControls_project/ICA/code\n",
      "fslmaths /cerebro/cerebro1/dataset/bmpd/derivatives/HealthyControls_project//ICA//spinalcord/K_9/comp_bin/zCanICA_22sbj_spinalcord_spinalcord_k_3_C3_bin.nii.gz -mas /cerebro/cerebro1/dataset/bmpd/derivatives/HealthyControls_project//templates/PAM50/atlas_bin/GM_LD_bin.nii.gz /cerebro/cerebro1/dataset/bmpd/derivatives/HealthyControls_project//ICA//spinalcord/K_9/comp_rois/zCanICA_22sbj_spinalcord_spinalcord_k_3_C3_LD_bin.nii.gz # in /cerebro/cerebro1/dataset/bmpd/derivatives/HealthyControls_project/ICA/code\n",
      "fslmaths /cerebro/cerebro1/dataset/bmpd/derivatives/HealthyControls_project//ICA//spinalcord/K_9/comp_bin/zCanICA_22sbj_spinalcord_spinalcord_k_3_C3_bin.nii.gz -mas /cerebro/cerebro1/dataset/bmpd/derivatives/HealthyControls_project//templates/PAM50/atlas_bin/GM_RD_bin.nii.gz /cerebro/cerebro1/dataset/bmpd/derivatives/HealthyControls_project//ICA//spinalcord/K_9/comp_rois/zCanICA_22sbj_spinalcord_spinalcord_k_3_C3_RD_bin.nii.gz # in /cerebro/cerebro1/dataset/bmpd/derivatives/HealthyControls_project/ICA/code\n",
      "fslmaths /cerebro/cerebro1/dataset/bmpd/derivatives/HealthyControls_project//ICA//spinalcord/K_9/comp_bin/zCanICA_22sbj_spinalcord_spinalcord_k_3_C3_bin.nii.gz -mas /cerebro/cerebro1/dataset/bmpd/derivatives/HealthyControls_project//templates/PAM50/atlas_bin/GM_interm_bin.nii.gz /cerebro/cerebro1/dataset/bmpd/derivatives/HealthyControls_project//ICA//spinalcord/K_9/comp_rois/zCanICA_22sbj_spinalcord_spinalcord_k_3_C3_interm_bin.nii.gz # in /cerebro/cerebro1/dataset/bmpd/derivatives/HealthyControls_project/ICA/code\n",
      "fslmaths /cerebro/cerebro1/dataset/bmpd/derivatives/HealthyControls_project//ICA//spinalcord/K_9/comp_bin/zCanICA_22sbj_spinalcord_spinalcord_k_3_C3_bin.nii.gz -mas /cerebro/cerebro1/dataset/bmpd/derivatives/HealthyControls_project//templates/PAM50/atlas_bin/GM_whole_bin.nii.gz /cerebro/cerebro1/dataset/bmpd/derivatives/HealthyControls_project//ICA//spinalcord/K_9/comp_rois/zCanICA_22sbj_spinalcord_spinalcord_k_3_C3_whole_bin.nii.gz # in /cerebro/cerebro1/dataset/bmpd/derivatives/HealthyControls_project/ICA/code\n",
      "fslmaths /cerebro/cerebro1/dataset/bmpd/derivatives/HealthyControls_project//ICA//spinalcord/K_9/comp_bin/zCanICA_22sbj_spinalcord_spinalcord_k_4_C5_bin.nii.gz -mas /cerebro/cerebro1/dataset/bmpd/derivatives/HealthyControls_project//templates/PAM50/atlas_bin/GM_LV_bin.nii.gz /cerebro/cerebro1/dataset/bmpd/derivatives/HealthyControls_project//ICA//spinalcord/K_9/comp_rois/zCanICA_22sbj_spinalcord_spinalcord_k_4_C5_LV_bin.nii.gz # in /cerebro/cerebro1/dataset/bmpd/derivatives/HealthyControls_project/ICA/code\n",
      "fslmaths /cerebro/cerebro1/dataset/bmpd/derivatives/HealthyControls_project//ICA//spinalcord/K_9/comp_bin/zCanICA_22sbj_spinalcord_spinalcord_k_4_C5_bin.nii.gz -mas /cerebro/cerebro1/dataset/bmpd/derivatives/HealthyControls_project//templates/PAM50/atlas_bin/GM_RV_bin.nii.gz /cerebro/cerebro1/dataset/bmpd/derivatives/HealthyControls_project//ICA//spinalcord/K_9/comp_rois/zCanICA_22sbj_spinalcord_spinalcord_k_4_C5_RV_bin.nii.gz # in /cerebro/cerebro1/dataset/bmpd/derivatives/HealthyControls_project/ICA/code\n",
      "fslmaths /cerebro/cerebro1/dataset/bmpd/derivatives/HealthyControls_project//ICA//spinalcord/K_9/comp_bin/zCanICA_22sbj_spinalcord_spinalcord_k_4_C5_bin.nii.gz -mas /cerebro/cerebro1/dataset/bmpd/derivatives/HealthyControls_project//templates/PAM50/atlas_bin/GM_LD_bin.nii.gz /cerebro/cerebro1/dataset/bmpd/derivatives/HealthyControls_project//ICA//spinalcord/K_9/comp_rois/zCanICA_22sbj_spinalcord_spinalcord_k_4_C5_LD_bin.nii.gz # in /cerebro/cerebro1/dataset/bmpd/derivatives/HealthyControls_project/ICA/code\n",
      "fslmaths /cerebro/cerebro1/dataset/bmpd/derivatives/HealthyControls_project//ICA//spinalcord/K_9/comp_bin/zCanICA_22sbj_spinalcord_spinalcord_k_4_C5_bin.nii.gz -mas /cerebro/cerebro1/dataset/bmpd/derivatives/HealthyControls_project//templates/PAM50/atlas_bin/GM_RD_bin.nii.gz /cerebro/cerebro1/dataset/bmpd/derivatives/HealthyControls_project//ICA//spinalcord/K_9/comp_rois/zCanICA_22sbj_spinalcord_spinalcord_k_4_C5_RD_bin.nii.gz # in /cerebro/cerebro1/dataset/bmpd/derivatives/HealthyControls_project/ICA/code\n",
      "fslmaths /cerebro/cerebro1/dataset/bmpd/derivatives/HealthyControls_project//ICA//spinalcord/K_9/comp_bin/zCanICA_22sbj_spinalcord_spinalcord_k_4_C5_bin.nii.gz -mas /cerebro/cerebro1/dataset/bmpd/derivatives/HealthyControls_project//templates/PAM50/atlas_bin/GM_interm_bin.nii.gz /cerebro/cerebro1/dataset/bmpd/derivatives/HealthyControls_project//ICA//spinalcord/K_9/comp_rois/zCanICA_22sbj_spinalcord_spinalcord_k_4_C5_interm_bin.nii.gz # in /cerebro/cerebro1/dataset/bmpd/derivatives/HealthyControls_project/ICA/code\n",
      "fslmaths /cerebro/cerebro1/dataset/bmpd/derivatives/HealthyControls_project//ICA//spinalcord/K_9/comp_bin/zCanICA_22sbj_spinalcord_spinalcord_k_4_C5_bin.nii.gz -mas /cerebro/cerebro1/dataset/bmpd/derivatives/HealthyControls_project//templates/PAM50/atlas_bin/GM_whole_bin.nii.gz /cerebro/cerebro1/dataset/bmpd/derivatives/HealthyControls_project//ICA//spinalcord/K_9/comp_rois/zCanICA_22sbj_spinalcord_spinalcord_k_4_C5_whole_bin.nii.gz # in /cerebro/cerebro1/dataset/bmpd/derivatives/HealthyControls_project/ICA/code\n",
      "fslmaths /cerebro/cerebro1/dataset/bmpd/derivatives/HealthyControls_project//ICA//spinalcord/K_9/comp_bin/zCanICA_22sbj_spinalcord_spinalcord_k_5_C8_bin.nii.gz -mas /cerebro/cerebro1/dataset/bmpd/derivatives/HealthyControls_project//templates/PAM50/atlas_bin/GM_LV_bin.nii.gz /cerebro/cerebro1/dataset/bmpd/derivatives/HealthyControls_project//ICA//spinalcord/K_9/comp_rois/zCanICA_22sbj_spinalcord_spinalcord_k_5_C8_LV_bin.nii.gz # in /cerebro/cerebro1/dataset/bmpd/derivatives/HealthyControls_project/ICA/code\n",
      "fslmaths /cerebro/cerebro1/dataset/bmpd/derivatives/HealthyControls_project//ICA//spinalcord/K_9/comp_bin/zCanICA_22sbj_spinalcord_spinalcord_k_5_C8_bin.nii.gz -mas /cerebro/cerebro1/dataset/bmpd/derivatives/HealthyControls_project//templates/PAM50/atlas_bin/GM_RV_bin.nii.gz /cerebro/cerebro1/dataset/bmpd/derivatives/HealthyControls_project//ICA//spinalcord/K_9/comp_rois/zCanICA_22sbj_spinalcord_spinalcord_k_5_C8_RV_bin.nii.gz # in /cerebro/cerebro1/dataset/bmpd/derivatives/HealthyControls_project/ICA/code\n",
      "fslmaths /cerebro/cerebro1/dataset/bmpd/derivatives/HealthyControls_project//ICA//spinalcord/K_9/comp_bin/zCanICA_22sbj_spinalcord_spinalcord_k_5_C8_bin.nii.gz -mas /cerebro/cerebro1/dataset/bmpd/derivatives/HealthyControls_project//templates/PAM50/atlas_bin/GM_LD_bin.nii.gz /cerebro/cerebro1/dataset/bmpd/derivatives/HealthyControls_project//ICA//spinalcord/K_9/comp_rois/zCanICA_22sbj_spinalcord_spinalcord_k_5_C8_LD_bin.nii.gz # in /cerebro/cerebro1/dataset/bmpd/derivatives/HealthyControls_project/ICA/code\n",
      "fslmaths /cerebro/cerebro1/dataset/bmpd/derivatives/HealthyControls_project//ICA//spinalcord/K_9/comp_bin/zCanICA_22sbj_spinalcord_spinalcord_k_5_C8_bin.nii.gz -mas /cerebro/cerebro1/dataset/bmpd/derivatives/HealthyControls_project//templates/PAM50/atlas_bin/GM_RD_bin.nii.gz /cerebro/cerebro1/dataset/bmpd/derivatives/HealthyControls_project//ICA//spinalcord/K_9/comp_rois/zCanICA_22sbj_spinalcord_spinalcord_k_5_C8_RD_bin.nii.gz # in /cerebro/cerebro1/dataset/bmpd/derivatives/HealthyControls_project/ICA/code\n",
      "fslmaths /cerebro/cerebro1/dataset/bmpd/derivatives/HealthyControls_project//ICA//spinalcord/K_9/comp_bin/zCanICA_22sbj_spinalcord_spinalcord_k_5_C8_bin.nii.gz -mas /cerebro/cerebro1/dataset/bmpd/derivatives/HealthyControls_project//templates/PAM50/atlas_bin/GM_interm_bin.nii.gz /cerebro/cerebro1/dataset/bmpd/derivatives/HealthyControls_project//ICA//spinalcord/K_9/comp_rois/zCanICA_22sbj_spinalcord_spinalcord_k_5_C8_interm_bin.nii.gz # in /cerebro/cerebro1/dataset/bmpd/derivatives/HealthyControls_project/ICA/code\n",
      "fslmaths /cerebro/cerebro1/dataset/bmpd/derivatives/HealthyControls_project//ICA//spinalcord/K_9/comp_bin/zCanICA_22sbj_spinalcord_spinalcord_k_5_C8_bin.nii.gz -mas /cerebro/cerebro1/dataset/bmpd/derivatives/HealthyControls_project//templates/PAM50/atlas_bin/GM_whole_bin.nii.gz /cerebro/cerebro1/dataset/bmpd/derivatives/HealthyControls_project//ICA//spinalcord/K_9/comp_rois/zCanICA_22sbj_spinalcord_spinalcord_k_5_C8_whole_bin.nii.gz # in /cerebro/cerebro1/dataset/bmpd/derivatives/HealthyControls_project/ICA/code\n",
      "fslmaths /cerebro/cerebro1/dataset/bmpd/derivatives/HealthyControls_project//ICA//spinalcord/K_9/comp_bin/zCanICA_22sbj_spinalcord_spinalcord_k_6_C4_bin.nii.gz -mas /cerebro/cerebro1/dataset/bmpd/derivatives/HealthyControls_project//templates/PAM50/atlas_bin/GM_LV_bin.nii.gz /cerebro/cerebro1/dataset/bmpd/derivatives/HealthyControls_project//ICA//spinalcord/K_9/comp_rois/zCanICA_22sbj_spinalcord_spinalcord_k_6_C4_LV_bin.nii.gz # in /cerebro/cerebro1/dataset/bmpd/derivatives/HealthyControls_project/ICA/code\n",
      "fslmaths /cerebro/cerebro1/dataset/bmpd/derivatives/HealthyControls_project//ICA//spinalcord/K_9/comp_bin/zCanICA_22sbj_spinalcord_spinalcord_k_6_C4_bin.nii.gz -mas /cerebro/cerebro1/dataset/bmpd/derivatives/HealthyControls_project//templates/PAM50/atlas_bin/GM_RV_bin.nii.gz /cerebro/cerebro1/dataset/bmpd/derivatives/HealthyControls_project//ICA//spinalcord/K_9/comp_rois/zCanICA_22sbj_spinalcord_spinalcord_k_6_C4_RV_bin.nii.gz # in /cerebro/cerebro1/dataset/bmpd/derivatives/HealthyControls_project/ICA/code\n",
      "fslmaths /cerebro/cerebro1/dataset/bmpd/derivatives/HealthyControls_project//ICA//spinalcord/K_9/comp_bin/zCanICA_22sbj_spinalcord_spinalcord_k_6_C4_bin.nii.gz -mas /cerebro/cerebro1/dataset/bmpd/derivatives/HealthyControls_project//templates/PAM50/atlas_bin/GM_LD_bin.nii.gz /cerebro/cerebro1/dataset/bmpd/derivatives/HealthyControls_project//ICA//spinalcord/K_9/comp_rois/zCanICA_22sbj_spinalcord_spinalcord_k_6_C4_LD_bin.nii.gz # in /cerebro/cerebro1/dataset/bmpd/derivatives/HealthyControls_project/ICA/code\n",
      "fslmaths /cerebro/cerebro1/dataset/bmpd/derivatives/HealthyControls_project//ICA//spinalcord/K_9/comp_bin/zCanICA_22sbj_spinalcord_spinalcord_k_6_C4_bin.nii.gz -mas /cerebro/cerebro1/dataset/bmpd/derivatives/HealthyControls_project//templates/PAM50/atlas_bin/GM_RD_bin.nii.gz /cerebro/cerebro1/dataset/bmpd/derivatives/HealthyControls_project//ICA//spinalcord/K_9/comp_rois/zCanICA_22sbj_spinalcord_spinalcord_k_6_C4_RD_bin.nii.gz # in /cerebro/cerebro1/dataset/bmpd/derivatives/HealthyControls_project/ICA/code\n",
      "fslmaths /cerebro/cerebro1/dataset/bmpd/derivatives/HealthyControls_project//ICA//spinalcord/K_9/comp_bin/zCanICA_22sbj_spinalcord_spinalcord_k_6_C4_bin.nii.gz -mas /cerebro/cerebro1/dataset/bmpd/derivatives/HealthyControls_project//templates/PAM50/atlas_bin/GM_interm_bin.nii.gz /cerebro/cerebro1/dataset/bmpd/derivatives/HealthyControls_project//ICA//spinalcord/K_9/comp_rois/zCanICA_22sbj_spinalcord_spinalcord_k_6_C4_interm_bin.nii.gz # in /cerebro/cerebro1/dataset/bmpd/derivatives/HealthyControls_project/ICA/code\n",
      "fslmaths /cerebro/cerebro1/dataset/bmpd/derivatives/HealthyControls_project//ICA//spinalcord/K_9/comp_bin/zCanICA_22sbj_spinalcord_spinalcord_k_6_C4_bin.nii.gz -mas /cerebro/cerebro1/dataset/bmpd/derivatives/HealthyControls_project//templates/PAM50/atlas_bin/GM_whole_bin.nii.gz /cerebro/cerebro1/dataset/bmpd/derivatives/HealthyControls_project//ICA//spinalcord/K_9/comp_rois/zCanICA_22sbj_spinalcord_spinalcord_k_6_C4_whole_bin.nii.gz # in /cerebro/cerebro1/dataset/bmpd/derivatives/HealthyControls_project/ICA/code\n",
      "fslmaths /cerebro/cerebro1/dataset/bmpd/derivatives/HealthyControls_project//ICA//spinalcord/K_9/comp_bin/zCanICA_22sbj_spinalcord_spinalcord_k_7_C2_bin.nii.gz -mas /cerebro/cerebro1/dataset/bmpd/derivatives/HealthyControls_project//templates/PAM50/atlas_bin/GM_LV_bin.nii.gz /cerebro/cerebro1/dataset/bmpd/derivatives/HealthyControls_project//ICA//spinalcord/K_9/comp_rois/zCanICA_22sbj_spinalcord_spinalcord_k_7_C2_LV_bin.nii.gz # in /cerebro/cerebro1/dataset/bmpd/derivatives/HealthyControls_project/ICA/code\n",
      "fslmaths /cerebro/cerebro1/dataset/bmpd/derivatives/HealthyControls_project//ICA//spinalcord/K_9/comp_bin/zCanICA_22sbj_spinalcord_spinalcord_k_7_C2_bin.nii.gz -mas /cerebro/cerebro1/dataset/bmpd/derivatives/HealthyControls_project//templates/PAM50/atlas_bin/GM_RV_bin.nii.gz /cerebro/cerebro1/dataset/bmpd/derivatives/HealthyControls_project//ICA//spinalcord/K_9/comp_rois/zCanICA_22sbj_spinalcord_spinalcord_k_7_C2_RV_bin.nii.gz # in /cerebro/cerebro1/dataset/bmpd/derivatives/HealthyControls_project/ICA/code\n",
      "fslmaths /cerebro/cerebro1/dataset/bmpd/derivatives/HealthyControls_project//ICA//spinalcord/K_9/comp_bin/zCanICA_22sbj_spinalcord_spinalcord_k_7_C2_bin.nii.gz -mas /cerebro/cerebro1/dataset/bmpd/derivatives/HealthyControls_project//templates/PAM50/atlas_bin/GM_LD_bin.nii.gz /cerebro/cerebro1/dataset/bmpd/derivatives/HealthyControls_project//ICA//spinalcord/K_9/comp_rois/zCanICA_22sbj_spinalcord_spinalcord_k_7_C2_LD_bin.nii.gz # in /cerebro/cerebro1/dataset/bmpd/derivatives/HealthyControls_project/ICA/code\n",
      "fslmaths /cerebro/cerebro1/dataset/bmpd/derivatives/HealthyControls_project//ICA//spinalcord/K_9/comp_bin/zCanICA_22sbj_spinalcord_spinalcord_k_7_C2_bin.nii.gz -mas /cerebro/cerebro1/dataset/bmpd/derivatives/HealthyControls_project//templates/PAM50/atlas_bin/GM_RD_bin.nii.gz /cerebro/cerebro1/dataset/bmpd/derivatives/HealthyControls_project//ICA//spinalcord/K_9/comp_rois/zCanICA_22sbj_spinalcord_spinalcord_k_7_C2_RD_bin.nii.gz # in /cerebro/cerebro1/dataset/bmpd/derivatives/HealthyControls_project/ICA/code\n",
      "fslmaths /cerebro/cerebro1/dataset/bmpd/derivatives/HealthyControls_project//ICA//spinalcord/K_9/comp_bin/zCanICA_22sbj_spinalcord_spinalcord_k_7_C2_bin.nii.gz -mas /cerebro/cerebro1/dataset/bmpd/derivatives/HealthyControls_project//templates/PAM50/atlas_bin/GM_interm_bin.nii.gz /cerebro/cerebro1/dataset/bmpd/derivatives/HealthyControls_project//ICA//spinalcord/K_9/comp_rois/zCanICA_22sbj_spinalcord_spinalcord_k_7_C2_interm_bin.nii.gz # in /cerebro/cerebro1/dataset/bmpd/derivatives/HealthyControls_project/ICA/code\n",
      "fslmaths /cerebro/cerebro1/dataset/bmpd/derivatives/HealthyControls_project//ICA//spinalcord/K_9/comp_bin/zCanICA_22sbj_spinalcord_spinalcord_k_7_C2_bin.nii.gz -mas /cerebro/cerebro1/dataset/bmpd/derivatives/HealthyControls_project//templates/PAM50/atlas_bin/GM_whole_bin.nii.gz /cerebro/cerebro1/dataset/bmpd/derivatives/HealthyControls_project//ICA//spinalcord/K_9/comp_rois/zCanICA_22sbj_spinalcord_spinalcord_k_7_C2_whole_bin.nii.gz # in /cerebro/cerebro1/dataset/bmpd/derivatives/HealthyControls_project/ICA/code\n",
      "fslmaths /cerebro/cerebro1/dataset/bmpd/derivatives/HealthyControls_project//ICA//spinalcord/K_9/comp_bin/zCanICA_22sbj_spinalcord_spinalcord_k_8_C6_bin.nii.gz -mas /cerebro/cerebro1/dataset/bmpd/derivatives/HealthyControls_project//templates/PAM50/atlas_bin/GM_LV_bin.nii.gz /cerebro/cerebro1/dataset/bmpd/derivatives/HealthyControls_project//ICA//spinalcord/K_9/comp_rois/zCanICA_22sbj_spinalcord_spinalcord_k_8_C6_LV_bin.nii.gz # in /cerebro/cerebro1/dataset/bmpd/derivatives/HealthyControls_project/ICA/code\n",
      "fslmaths /cerebro/cerebro1/dataset/bmpd/derivatives/HealthyControls_project//ICA//spinalcord/K_9/comp_bin/zCanICA_22sbj_spinalcord_spinalcord_k_8_C6_bin.nii.gz -mas /cerebro/cerebro1/dataset/bmpd/derivatives/HealthyControls_project//templates/PAM50/atlas_bin/GM_RV_bin.nii.gz /cerebro/cerebro1/dataset/bmpd/derivatives/HealthyControls_project//ICA//spinalcord/K_9/comp_rois/zCanICA_22sbj_spinalcord_spinalcord_k_8_C6_RV_bin.nii.gz # in /cerebro/cerebro1/dataset/bmpd/derivatives/HealthyControls_project/ICA/code\n",
      "fslmaths /cerebro/cerebro1/dataset/bmpd/derivatives/HealthyControls_project//ICA//spinalcord/K_9/comp_bin/zCanICA_22sbj_spinalcord_spinalcord_k_8_C6_bin.nii.gz -mas /cerebro/cerebro1/dataset/bmpd/derivatives/HealthyControls_project//templates/PAM50/atlas_bin/GM_LD_bin.nii.gz /cerebro/cerebro1/dataset/bmpd/derivatives/HealthyControls_project//ICA//spinalcord/K_9/comp_rois/zCanICA_22sbj_spinalcord_spinalcord_k_8_C6_LD_bin.nii.gz # in /cerebro/cerebro1/dataset/bmpd/derivatives/HealthyControls_project/ICA/code\n",
      "fslmaths /cerebro/cerebro1/dataset/bmpd/derivatives/HealthyControls_project//ICA//spinalcord/K_9/comp_bin/zCanICA_22sbj_spinalcord_spinalcord_k_8_C6_bin.nii.gz -mas /cerebro/cerebro1/dataset/bmpd/derivatives/HealthyControls_project//templates/PAM50/atlas_bin/GM_RD_bin.nii.gz /cerebro/cerebro1/dataset/bmpd/derivatives/HealthyControls_project//ICA//spinalcord/K_9/comp_rois/zCanICA_22sbj_spinalcord_spinalcord_k_8_C6_RD_bin.nii.gz # in /cerebro/cerebro1/dataset/bmpd/derivatives/HealthyControls_project/ICA/code\n",
      "fslmaths /cerebro/cerebro1/dataset/bmpd/derivatives/HealthyControls_project//ICA//spinalcord/K_9/comp_bin/zCanICA_22sbj_spinalcord_spinalcord_k_8_C6_bin.nii.gz -mas /cerebro/cerebro1/dataset/bmpd/derivatives/HealthyControls_project//templates/PAM50/atlas_bin/GM_interm_bin.nii.gz /cerebro/cerebro1/dataset/bmpd/derivatives/HealthyControls_project//ICA//spinalcord/K_9/comp_rois/zCanICA_22sbj_spinalcord_spinalcord_k_8_C6_interm_bin.nii.gz # in /cerebro/cerebro1/dataset/bmpd/derivatives/HealthyControls_project/ICA/code\n",
      "fslmaths /cerebro/cerebro1/dataset/bmpd/derivatives/HealthyControls_project//ICA//spinalcord/K_9/comp_bin/zCanICA_22sbj_spinalcord_spinalcord_k_8_C6_bin.nii.gz -mas /cerebro/cerebro1/dataset/bmpd/derivatives/HealthyControls_project//templates/PAM50/atlas_bin/GM_whole_bin.nii.gz /cerebro/cerebro1/dataset/bmpd/derivatives/HealthyControls_project//ICA//spinalcord/K_9/comp_rois/zCanICA_22sbj_spinalcord_spinalcord_k_8_C6_whole_bin.nii.gz # in /cerebro/cerebro1/dataset/bmpd/derivatives/HealthyControls_project/ICA/code\n",
      "fslmaths /cerebro/cerebro1/dataset/bmpd/derivatives/HealthyControls_project//ICA//spinalcord/K_9/comp_bin/zCanICA_22sbj_spinalcord_spinalcord_k_9_C9_bin.nii.gz -mas /cerebro/cerebro1/dataset/bmpd/derivatives/HealthyControls_project//templates/PAM50/atlas_bin/GM_LV_bin.nii.gz /cerebro/cerebro1/dataset/bmpd/derivatives/HealthyControls_project//ICA//spinalcord/K_9/comp_rois/zCanICA_22sbj_spinalcord_spinalcord_k_9_C9_LV_bin.nii.gz # in /cerebro/cerebro1/dataset/bmpd/derivatives/HealthyControls_project/ICA/code\n",
      "fslmaths /cerebro/cerebro1/dataset/bmpd/derivatives/HealthyControls_project//ICA//spinalcord/K_9/comp_bin/zCanICA_22sbj_spinalcord_spinalcord_k_9_C9_bin.nii.gz -mas /cerebro/cerebro1/dataset/bmpd/derivatives/HealthyControls_project//templates/PAM50/atlas_bin/GM_RV_bin.nii.gz /cerebro/cerebro1/dataset/bmpd/derivatives/HealthyControls_project//ICA//spinalcord/K_9/comp_rois/zCanICA_22sbj_spinalcord_spinalcord_k_9_C9_RV_bin.nii.gz # in /cerebro/cerebro1/dataset/bmpd/derivatives/HealthyControls_project/ICA/code\n",
      "fslmaths /cerebro/cerebro1/dataset/bmpd/derivatives/HealthyControls_project//ICA//spinalcord/K_9/comp_bin/zCanICA_22sbj_spinalcord_spinalcord_k_9_C9_bin.nii.gz -mas /cerebro/cerebro1/dataset/bmpd/derivatives/HealthyControls_project//templates/PAM50/atlas_bin/GM_LD_bin.nii.gz /cerebro/cerebro1/dataset/bmpd/derivatives/HealthyControls_project//ICA//spinalcord/K_9/comp_rois/zCanICA_22sbj_spinalcord_spinalcord_k_9_C9_LD_bin.nii.gz # in /cerebro/cerebro1/dataset/bmpd/derivatives/HealthyControls_project/ICA/code\n",
      "fslmaths /cerebro/cerebro1/dataset/bmpd/derivatives/HealthyControls_project//ICA//spinalcord/K_9/comp_bin/zCanICA_22sbj_spinalcord_spinalcord_k_9_C9_bin.nii.gz -mas /cerebro/cerebro1/dataset/bmpd/derivatives/HealthyControls_project//templates/PAM50/atlas_bin/GM_RD_bin.nii.gz /cerebro/cerebro1/dataset/bmpd/derivatives/HealthyControls_project//ICA//spinalcord/K_9/comp_rois/zCanICA_22sbj_spinalcord_spinalcord_k_9_C9_RD_bin.nii.gz # in /cerebro/cerebro1/dataset/bmpd/derivatives/HealthyControls_project/ICA/code\n",
      "fslmaths /cerebro/cerebro1/dataset/bmpd/derivatives/HealthyControls_project//ICA//spinalcord/K_9/comp_bin/zCanICA_22sbj_spinalcord_spinalcord_k_9_C9_bin.nii.gz -mas /cerebro/cerebro1/dataset/bmpd/derivatives/HealthyControls_project//templates/PAM50/atlas_bin/GM_interm_bin.nii.gz /cerebro/cerebro1/dataset/bmpd/derivatives/HealthyControls_project//ICA//spinalcord/K_9/comp_rois/zCanICA_22sbj_spinalcord_spinalcord_k_9_C9_interm_bin.nii.gz # in /cerebro/cerebro1/dataset/bmpd/derivatives/HealthyControls_project/ICA/code\n",
      "fslmaths /cerebro/cerebro1/dataset/bmpd/derivatives/HealthyControls_project//ICA//spinalcord/K_9/comp_bin/zCanICA_22sbj_spinalcord_spinalcord_k_9_C9_bin.nii.gz -mas /cerebro/cerebro1/dataset/bmpd/derivatives/HealthyControls_project//templates/PAM50/atlas_bin/GM_whole_bin.nii.gz /cerebro/cerebro1/dataset/bmpd/derivatives/HealthyControls_project//ICA//spinalcord/K_9/comp_rois/zCanICA_22sbj_spinalcord_spinalcord_k_9_C9_whole_bin.nii.gz # in /cerebro/cerebro1/dataset/bmpd/derivatives/HealthyControls_project/ICA/code\n"
     ]
    }
   ],
   "source": [
    "quadrants=['LV','RV','LD','RD','interm','whole']\n",
    "quadrants_files={'LV': config[\"main_dir\"]+\"/templates/PAM50/atlas_bin/GM_LV_bin.nii.gz\", # GM left ventral horn\n",
    "                'RV': config[\"main_dir\"]+\"/templates/PAM50/atlas_bin/GM_RV_bin.nii.gz\",# GM righ ventral horn\n",
    "                'LD': config[\"main_dir\"]+\"/templates/PAM50/atlas_bin/GM_LD_bin.nii.gz\",  # GM left dorsal horn\n",
    "                'RD': config[\"main_dir\"]+\"/templates/PAM50/atlas_bin/GM_RD_bin.nii.gz\",#  GM righ dorsal horn\n",
    "                'interm': config[\"main_dir\"]+\"/templates/PAM50/atlas_bin/GM_interm_bin.nii.gz\", #GM left and right intermediate zone\n",
    "                'whole': config[\"main_dir\"]+\"/templates/PAM50/atlas_bin/GM_whole_bin.nii.gz\"}\n",
    "\n",
    "\n",
    "for K in range(9,10):\n",
    "    input_dir=config[\"main_dir\"]+config[\"ica_root\"]+ '/'+structure +'/K_'+ str(K) + '/comp_bin/'\n",
    "    output_dir=config[\"main_dir\"]+config[\"ica_root\"]+ '/'+structure +'/K_'+ str(K) + '/comp_rois/'\n",
    "    for k in range(len(sorted(glob.glob(input_dir + '*_k_*')))):\n",
    "        for quadrant in quadrants:\n",
    "            input_image=sorted(glob.glob(input_dir + '*_k_*'))[k]\n",
    "            output_image=output_dir+os.path.basename(input_image).split('_bin.')[0]+'_'+quadrant+'_bin.nii.gz'\n",
    "            run_proc('fslmaths {} -mas {} {}'.format(input_image,quadrants_files[quadrant],output_image)) # thre and binarize the image"
   ]
  },
  {
   "cell_type": "code",
   "execution_count": null,
   "metadata": {},
   "outputs": [],
   "source": []
  }
 ],
 "metadata": {
  "kernelspec": {
   "display_name": "Python 3 (ipykernel)",
   "language": "python",
   "name": "python3"
  },
  "language_info": {
   "codemirror_mode": {
    "name": "ipython",
    "version": 3
   },
   "file_extension": ".py",
   "mimetype": "text/x-python",
   "name": "python",
   "nbconvert_exporter": "python",
   "pygments_lexer": "ipython3",
   "version": "3.9.12"
  }
 },
 "nbformat": 4,
 "nbformat_minor": 4
}
