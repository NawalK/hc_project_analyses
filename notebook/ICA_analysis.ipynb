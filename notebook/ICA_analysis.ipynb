{
 "cells": [
  {
   "cell_type": "markdown",
   "metadata": {},
   "source": [
    "# <font color=#f4665a>  ICA analysis </font>"
   ]
  },
  {
   "cell_type": "markdown",
   "metadata": {},
   "source": [
    "### Project: BMPD HC\n",
    "____________________________________________________\n",
    "\n",
    "**Description:** This notebook provides code for BOLD signal fMRI resting-state processing for the Biomarker for Parkinson's Disease (BMPD)data. \n",
    "We will used ICA analysis:\n",
    "CanICA is an ICA package for group-level analysis of fMRI data.  \n",
    "It brings a well-controlled group model, as well as a thresholding algorithm controlling for specificity and sensitivity with an explicit model of the signal.  \n",
    "The reference papers are: G. Varoquaux et al. \"A group model for stable multi-subject ICA on fMRI datasets\", NeuroImage Vol 51 (2010), p. 288-299\n",
    "G. Varoquaux et al. \"ICA-based sparse features recovery from fMRI datasets\", IEEE ISBI 2010, p. 1177\n",
    "\n",
    "\n",
    "**Toolbox required:** SpinalCordToolbox, FSL, nilearn toolbox, nipype, matlab\n",
    "\n",
    "**Inputs**:  \n",
    "This notebook required this the following prepross anatomical,fmri images \n",
    "\n",
    "**Ouputs**:\n",
    "See the output description at each step of the Notebook.\n",
    "\n",
    "____________________________________________________\n"
   ]
  },
  {
   "cell_type": "markdown",
   "metadata": {},
   "source": [
    "## <font color=#00988c> Imports </font>"
   ]
  },
  {
   "cell_type": "code",
   "execution_count": 55,
   "metadata": {},
   "outputs": [
    {
     "name": "stdout",
     "output_type": "stream",
     "text": [
      "The autoreload extension is already loaded. To reload it, use:\n",
      "  %reload_ext autoreload\n"
     ]
    }
   ],
   "source": [
    "import sys\n",
    "import json\n",
    "# Spinal cord Toolbox_________________________________________\n",
    "### Cerebro:\n",
    "sys.path.append(\"/cerebro/cerebro1/dataset/bmpd/derivatives/thibault_test/code/toolbox/spinalcordtoolbox-5.0.0\")\n",
    "sys.path.append(\"/cerebro/cerebro1/dataset/bmpd/derivatives/thibault_test/code/toolbox/spinalcordtoolbox-5.0.0/scripts\") #sys.path.insert(0, \"/cerebro/cerebro1/dataset/bmpd/derivatives/sc_preproc/code/sct/spinalcordtoolbox\")\n",
    "sys.path.append(\"/cerebro/cerebro1/dataset/bmpd/derivatives/HealthyControls_project/hc_project_analyses/code/\") #sys.path.insert(0, \"/cerebro/cerebro1/dataset/bmpd/derivatives/sc_preproc/code/sct/spinalcordtoolbox\")\n",
    "\n",
    "from spinalcordtoolbox.utils.sys import run_proc\n",
    "\n",
    "from canICA_analyses import ICA\n",
    "%matplotlib inline\n",
    "%load_ext autoreload\n",
    "%autoreload 2\n"
   ]
  },
  {
   "cell_type": "markdown",
   "metadata": {},
   "source": [
    "## <font color=#00988c>  Run the ICA analysis </font>"
   ]
  },
  {
   "cell_type": "code",
   "execution_count": 56,
   "metadata": {},
   "outputs": [
    {
     "name": "stdout",
     "output_type": "stream",
     "text": [
      "5\n",
      "Analyse will be run on spinalcord structure\n",
      "Mask: /cerebro/cerebro1/dataset/bmpd/derivatives/HealthyControls_project//templates/PAM50/PAM50_SPiCiCAP/template/PAM50_cord.nii.gz\n"
     ]
    },
    {
     "ename": "OSError",
     "evalue": "[Errno 12] Cannot allocate memory",
     "output_type": "error",
     "traceback": [
      "\u001b[0;31m---------------------------------------------------------------------------\u001b[0m",
      "\u001b[0;31mOSError\u001b[0m                                   Traceback (most recent call last)",
      "\u001b[0;32m<ipython-input-56-a0041c0b49f1>\u001b[0m in \u001b[0;36m<module>\u001b[0;34m\u001b[0m\n\u001b[1;32m      8\u001b[0m     \u001b[0micas\u001b[0m \u001b[0;34m=\u001b[0m \u001b[0mICA\u001b[0m\u001b[0;34m(\u001b[0m\u001b[0;34m\"spinalcord\"\u001b[0m\u001b[0;34m,\u001b[0m\u001b[0mconfig\u001b[0m\u001b[0;34m)\u001b[0m \u001b[0;31m# \"brain_spinalcord\" or \"brain\" or \"spinalcord\"\u001b[0m\u001b[0;34m\u001b[0m\u001b[0;34m\u001b[0m\u001b[0m\n\u001b[1;32m      9\u001b[0m     \u001b[0;31m#all_data=icas.get_data(run='extract',t_r=config[\"t_r\"],n_jobs=8) # load or extract\u001b[0m\u001b[0;34m\u001b[0m\u001b[0;34m\u001b[0m\u001b[0;34m\u001b[0m\u001b[0m\n\u001b[0;32m---> 10\u001b[0;31m     \u001b[0mall_data\u001b[0m\u001b[0;34m=\u001b[0m\u001b[0micas\u001b[0m\u001b[0;34m.\u001b[0m\u001b[0mget_data\u001b[0m\u001b[0;34m(\u001b[0m\u001b[0mrun\u001b[0m\u001b[0;34m=\u001b[0m\u001b[0;34m'load'\u001b[0m\u001b[0;34m,\u001b[0m\u001b[0mt_r\u001b[0m\u001b[0;34m=\u001b[0m\u001b[0mconfig\u001b[0m\u001b[0;34m[\u001b[0m\u001b[0;34m\"t_r\"\u001b[0m\u001b[0;34m]\u001b[0m\u001b[0;34m,\u001b[0m\u001b[0mn_jobs\u001b[0m\u001b[0;34m=\u001b[0m\u001b[0;36m8\u001b[0m\u001b[0;34m)\u001b[0m \u001b[0;31m# load or extract\u001b[0m\u001b[0;34m\u001b[0m\u001b[0;34m\u001b[0m\u001b[0m\n\u001b[0m\u001b[1;32m     11\u001b[0m     \u001b[0mreducedata_all\u001b[0m\u001b[0;34m=\u001b[0m\u001b[0micas\u001b[0m\u001b[0;34m.\u001b[0m\u001b[0mindiv_PCA\u001b[0m\u001b[0;34m(\u001b[0m\u001b[0mall_data\u001b[0m\u001b[0;34m,\u001b[0m\u001b[0msave_indiv_img\u001b[0m\u001b[0;34m=\u001b[0m\u001b[0;32mTrue\u001b[0m\u001b[0;34m)\u001b[0m\u001b[0;34m\u001b[0m\u001b[0;34m\u001b[0m\u001b[0m\n\u001b[1;32m     12\u001b[0m     \u001b[0mcomponents\u001b[0m\u001b[0;34m=\u001b[0m\u001b[0micas\u001b[0m\u001b[0;34m.\u001b[0m\u001b[0mget_CCA\u001b[0m\u001b[0;34m(\u001b[0m\u001b[0mreducedata_all\u001b[0m\u001b[0;34m)\u001b[0m\u001b[0;34m\u001b[0m\u001b[0;34m\u001b[0m\u001b[0m\n",
      "\u001b[0;32m/cerebro/cerebro1/dataset/bmpd/derivatives/HealthyControls_project/hc_project_analyses/code/canICA_analyses.py\u001b[0m in \u001b[0;36mget_data\u001b[0;34m(self, t_r, run, n_jobs)\u001b[0m\n\u001b[1;32m    126\u001b[0m \u001b[0;34m\u001b[0m\u001b[0m\n\u001b[1;32m    127\u001b[0m             \u001b[0;32mif\u001b[0m \u001b[0mrun\u001b[0m\u001b[0;34m==\u001b[0m\u001b[0;34m'load'\u001b[0m\u001b[0;34m:\u001b[0m\u001b[0;34m\u001b[0m\u001b[0;34m\u001b[0m\u001b[0m\n\u001b[0;32m--> 128\u001b[0;31m                 \u001b[0mdata_sbj\u001b[0m\u001b[0;34m[\u001b[0m\u001b[0mstructure\u001b[0m\u001b[0;34m]\u001b[0m\u001b[0;34m=\u001b[0m\u001b[0mParallel\u001b[0m\u001b[0;34m(\u001b[0m\u001b[0mn_jobs\u001b[0m\u001b[0;34m=\u001b[0m\u001b[0mn_jobs\u001b[0m\u001b[0;34m)\u001b[0m\u001b[0;34m(\u001b[0m\u001b[0mdelayed\u001b[0m\u001b[0;34m(\u001b[0m\u001b[0mnp\u001b[0m\u001b[0;34m.\u001b[0m\u001b[0mloadtxt\u001b[0m\u001b[0;34m)\u001b[0m\u001b[0;34m(\u001b[0m\u001b[0mself\u001b[0m\u001b[0;34m.\u001b[0m\u001b[0mdata_txt\u001b[0m\u001b[0;34m[\u001b[0m\u001b[0msubject_name\u001b[0m\u001b[0;34m]\u001b[0m\u001b[0;34m)\u001b[0m \u001b[0;32mfor\u001b[0m \u001b[0msubject_name\u001b[0m \u001b[0;32min\u001b[0m \u001b[0mself\u001b[0m\u001b[0;34m.\u001b[0m\u001b[0mconfig\u001b[0m\u001b[0;34m[\u001b[0m\u001b[0;34m\"list_subjects\"\u001b[0m\u001b[0;34m]\u001b[0m\u001b[0;34m)\u001b[0m\u001b[0;34m\u001b[0m\u001b[0;34m\u001b[0m\u001b[0m\n\u001b[0m\u001b[1;32m    129\u001b[0m \u001b[0;34m\u001b[0m\u001b[0m\n\u001b[1;32m    130\u001b[0m             \u001b[0;32mif\u001b[0m \u001b[0mrun\u001b[0m\u001b[0;34m==\u001b[0m\u001b[0;34m'extract'\u001b[0m\u001b[0;34m:\u001b[0m\u001b[0;34m\u001b[0m\u001b[0;34m\u001b[0m\u001b[0m\n",
      "\u001b[0;32m/cerebro/cerebro1/dataset/bmpd/derivatives/thibault_test/code/toolbox/bmpd_python/lib/python3.6/site-packages/joblib/parallel.py\u001b[0m in \u001b[0;36m__call__\u001b[0;34m(self, iterable)\u001b[0m\n\u001b[1;32m   1027\u001b[0m             \u001b[0;31m# remaining jobs.\u001b[0m\u001b[0;34m\u001b[0m\u001b[0;34m\u001b[0m\u001b[0;34m\u001b[0m\u001b[0m\n\u001b[1;32m   1028\u001b[0m             \u001b[0mself\u001b[0m\u001b[0;34m.\u001b[0m\u001b[0m_iterating\u001b[0m \u001b[0;34m=\u001b[0m \u001b[0;32mFalse\u001b[0m\u001b[0;34m\u001b[0m\u001b[0;34m\u001b[0m\u001b[0m\n\u001b[0;32m-> 1029\u001b[0;31m             \u001b[0;32mif\u001b[0m \u001b[0mself\u001b[0m\u001b[0;34m.\u001b[0m\u001b[0mdispatch_one_batch\u001b[0m\u001b[0;34m(\u001b[0m\u001b[0miterator\u001b[0m\u001b[0;34m)\u001b[0m\u001b[0;34m:\u001b[0m\u001b[0;34m\u001b[0m\u001b[0;34m\u001b[0m\u001b[0m\n\u001b[0m\u001b[1;32m   1030\u001b[0m                 \u001b[0mself\u001b[0m\u001b[0;34m.\u001b[0m\u001b[0m_iterating\u001b[0m \u001b[0;34m=\u001b[0m \u001b[0mself\u001b[0m\u001b[0;34m.\u001b[0m\u001b[0m_original_iterator\u001b[0m \u001b[0;32mis\u001b[0m \u001b[0;32mnot\u001b[0m \u001b[0;32mNone\u001b[0m\u001b[0;34m\u001b[0m\u001b[0;34m\u001b[0m\u001b[0m\n\u001b[1;32m   1031\u001b[0m \u001b[0;34m\u001b[0m\u001b[0m\n",
      "\u001b[0;32m/cerebro/cerebro1/dataset/bmpd/derivatives/thibault_test/code/toolbox/bmpd_python/lib/python3.6/site-packages/joblib/parallel.py\u001b[0m in \u001b[0;36mdispatch_one_batch\u001b[0;34m(self, iterator)\u001b[0m\n\u001b[1;32m    845\u001b[0m                 \u001b[0;32mreturn\u001b[0m \u001b[0;32mFalse\u001b[0m\u001b[0;34m\u001b[0m\u001b[0;34m\u001b[0m\u001b[0m\n\u001b[1;32m    846\u001b[0m             \u001b[0;32melse\u001b[0m\u001b[0;34m:\u001b[0m\u001b[0;34m\u001b[0m\u001b[0;34m\u001b[0m\u001b[0m\n\u001b[0;32m--> 847\u001b[0;31m                 \u001b[0mself\u001b[0m\u001b[0;34m.\u001b[0m\u001b[0m_dispatch\u001b[0m\u001b[0;34m(\u001b[0m\u001b[0mtasks\u001b[0m\u001b[0;34m)\u001b[0m\u001b[0;34m\u001b[0m\u001b[0;34m\u001b[0m\u001b[0m\n\u001b[0m\u001b[1;32m    848\u001b[0m                 \u001b[0;32mreturn\u001b[0m \u001b[0;32mTrue\u001b[0m\u001b[0;34m\u001b[0m\u001b[0;34m\u001b[0m\u001b[0m\n\u001b[1;32m    849\u001b[0m \u001b[0;34m\u001b[0m\u001b[0m\n",
      "\u001b[0;32m/cerebro/cerebro1/dataset/bmpd/derivatives/thibault_test/code/toolbox/bmpd_python/lib/python3.6/site-packages/joblib/parallel.py\u001b[0m in \u001b[0;36m_dispatch\u001b[0;34m(self, batch)\u001b[0m\n\u001b[1;32m    763\u001b[0m         \u001b[0;32mwith\u001b[0m \u001b[0mself\u001b[0m\u001b[0;34m.\u001b[0m\u001b[0m_lock\u001b[0m\u001b[0;34m:\u001b[0m\u001b[0;34m\u001b[0m\u001b[0;34m\u001b[0m\u001b[0m\n\u001b[1;32m    764\u001b[0m             \u001b[0mjob_idx\u001b[0m \u001b[0;34m=\u001b[0m \u001b[0mlen\u001b[0m\u001b[0;34m(\u001b[0m\u001b[0mself\u001b[0m\u001b[0;34m.\u001b[0m\u001b[0m_jobs\u001b[0m\u001b[0;34m)\u001b[0m\u001b[0;34m\u001b[0m\u001b[0;34m\u001b[0m\u001b[0m\n\u001b[0;32m--> 765\u001b[0;31m             \u001b[0mjob\u001b[0m \u001b[0;34m=\u001b[0m \u001b[0mself\u001b[0m\u001b[0;34m.\u001b[0m\u001b[0m_backend\u001b[0m\u001b[0;34m.\u001b[0m\u001b[0mapply_async\u001b[0m\u001b[0;34m(\u001b[0m\u001b[0mbatch\u001b[0m\u001b[0;34m,\u001b[0m \u001b[0mcallback\u001b[0m\u001b[0;34m=\u001b[0m\u001b[0mcb\u001b[0m\u001b[0;34m)\u001b[0m\u001b[0;34m\u001b[0m\u001b[0;34m\u001b[0m\u001b[0m\n\u001b[0m\u001b[1;32m    766\u001b[0m             \u001b[0;31m# A job can complete so quickly than its callback is\u001b[0m\u001b[0;34m\u001b[0m\u001b[0;34m\u001b[0m\u001b[0;34m\u001b[0m\u001b[0m\n\u001b[1;32m    767\u001b[0m             \u001b[0;31m# called before we get here, causing self._jobs to\u001b[0m\u001b[0;34m\u001b[0m\u001b[0;34m\u001b[0m\u001b[0;34m\u001b[0m\u001b[0m\n",
      "\u001b[0;32m/cerebro/cerebro1/dataset/bmpd/derivatives/thibault_test/code/toolbox/bmpd_python/lib/python3.6/site-packages/joblib/_parallel_backends.py\u001b[0m in \u001b[0;36mapply_async\u001b[0;34m(self, func, callback)\u001b[0m\n\u001b[1;32m    529\u001b[0m     \u001b[0;32mdef\u001b[0m \u001b[0mapply_async\u001b[0m\u001b[0;34m(\u001b[0m\u001b[0mself\u001b[0m\u001b[0;34m,\u001b[0m \u001b[0mfunc\u001b[0m\u001b[0;34m,\u001b[0m \u001b[0mcallback\u001b[0m\u001b[0;34m=\u001b[0m\u001b[0;32mNone\u001b[0m\u001b[0;34m)\u001b[0m\u001b[0;34m:\u001b[0m\u001b[0;34m\u001b[0m\u001b[0;34m\u001b[0m\u001b[0m\n\u001b[1;32m    530\u001b[0m         \u001b[0;34m\"\"\"Schedule a func to be run\"\"\"\u001b[0m\u001b[0;34m\u001b[0m\u001b[0;34m\u001b[0m\u001b[0m\n\u001b[0;32m--> 531\u001b[0;31m         \u001b[0mfuture\u001b[0m \u001b[0;34m=\u001b[0m \u001b[0mself\u001b[0m\u001b[0;34m.\u001b[0m\u001b[0m_workers\u001b[0m\u001b[0;34m.\u001b[0m\u001b[0msubmit\u001b[0m\u001b[0;34m(\u001b[0m\u001b[0mSafeFunction\u001b[0m\u001b[0;34m(\u001b[0m\u001b[0mfunc\u001b[0m\u001b[0;34m)\u001b[0m\u001b[0;34m)\u001b[0m\u001b[0;34m\u001b[0m\u001b[0;34m\u001b[0m\u001b[0m\n\u001b[0m\u001b[1;32m    532\u001b[0m         \u001b[0mfuture\u001b[0m\u001b[0;34m.\u001b[0m\u001b[0mget\u001b[0m \u001b[0;34m=\u001b[0m \u001b[0mfunctools\u001b[0m\u001b[0;34m.\u001b[0m\u001b[0mpartial\u001b[0m\u001b[0;34m(\u001b[0m\u001b[0mself\u001b[0m\u001b[0;34m.\u001b[0m\u001b[0mwrap_future_result\u001b[0m\u001b[0;34m,\u001b[0m \u001b[0mfuture\u001b[0m\u001b[0;34m)\u001b[0m\u001b[0;34m\u001b[0m\u001b[0;34m\u001b[0m\u001b[0m\n\u001b[1;32m    533\u001b[0m         \u001b[0;32mif\u001b[0m \u001b[0mcallback\u001b[0m \u001b[0;32mis\u001b[0m \u001b[0;32mnot\u001b[0m \u001b[0;32mNone\u001b[0m\u001b[0;34m:\u001b[0m\u001b[0;34m\u001b[0m\u001b[0;34m\u001b[0m\u001b[0m\n",
      "\u001b[0;32m/cerebro/cerebro1/dataset/bmpd/derivatives/thibault_test/code/toolbox/bmpd_python/lib/python3.6/site-packages/joblib/externals/loky/reusable_executor.py\u001b[0m in \u001b[0;36msubmit\u001b[0;34m(self, fn, *args, **kwargs)\u001b[0m\n\u001b[1;32m    176\u001b[0m         \u001b[0;32mwith\u001b[0m \u001b[0mself\u001b[0m\u001b[0;34m.\u001b[0m\u001b[0m_submit_resize_lock\u001b[0m\u001b[0;34m:\u001b[0m\u001b[0;34m\u001b[0m\u001b[0;34m\u001b[0m\u001b[0m\n\u001b[1;32m    177\u001b[0m             return super(_ReusablePoolExecutor, self).submit(\n\u001b[0;32m--> 178\u001b[0;31m                 fn, *args, **kwargs)\n\u001b[0m\u001b[1;32m    179\u001b[0m \u001b[0;34m\u001b[0m\u001b[0m\n\u001b[1;32m    180\u001b[0m     \u001b[0;32mdef\u001b[0m \u001b[0m_resize\u001b[0m\u001b[0;34m(\u001b[0m\u001b[0mself\u001b[0m\u001b[0;34m,\u001b[0m \u001b[0mmax_workers\u001b[0m\u001b[0;34m)\u001b[0m\u001b[0;34m:\u001b[0m\u001b[0;34m\u001b[0m\u001b[0;34m\u001b[0m\u001b[0m\n",
      "\u001b[0;32m/cerebro/cerebro1/dataset/bmpd/derivatives/thibault_test/code/toolbox/bmpd_python/lib/python3.6/site-packages/joblib/externals/loky/process_executor.py\u001b[0m in \u001b[0;36msubmit\u001b[0;34m(self, fn, *args, **kwargs)\u001b[0m\n\u001b[1;32m   1120\u001b[0m             \u001b[0mself\u001b[0m\u001b[0;34m.\u001b[0m\u001b[0m_executor_manager_thread_wakeup\u001b[0m\u001b[0;34m.\u001b[0m\u001b[0mwakeup\u001b[0m\u001b[0;34m(\u001b[0m\u001b[0;34m)\u001b[0m\u001b[0;34m\u001b[0m\u001b[0;34m\u001b[0m\u001b[0m\n\u001b[1;32m   1121\u001b[0m \u001b[0;34m\u001b[0m\u001b[0m\n\u001b[0;32m-> 1122\u001b[0;31m             \u001b[0mself\u001b[0m\u001b[0;34m.\u001b[0m\u001b[0m_ensure_executor_running\u001b[0m\u001b[0;34m(\u001b[0m\u001b[0;34m)\u001b[0m\u001b[0;34m\u001b[0m\u001b[0;34m\u001b[0m\u001b[0m\n\u001b[0m\u001b[1;32m   1123\u001b[0m             \u001b[0;32mreturn\u001b[0m \u001b[0mf\u001b[0m\u001b[0;34m\u001b[0m\u001b[0;34m\u001b[0m\u001b[0m\n\u001b[1;32m   1124\u001b[0m     \u001b[0msubmit\u001b[0m\u001b[0;34m.\u001b[0m\u001b[0m__doc__\u001b[0m \u001b[0;34m=\u001b[0m \u001b[0m_base\u001b[0m\u001b[0;34m.\u001b[0m\u001b[0mExecutor\u001b[0m\u001b[0;34m.\u001b[0m\u001b[0msubmit\u001b[0m\u001b[0;34m.\u001b[0m\u001b[0m__doc__\u001b[0m\u001b[0;34m\u001b[0m\u001b[0;34m\u001b[0m\u001b[0m\n",
      "\u001b[0;32m/cerebro/cerebro1/dataset/bmpd/derivatives/thibault_test/code/toolbox/bmpd_python/lib/python3.6/site-packages/joblib/externals/loky/process_executor.py\u001b[0m in \u001b[0;36m_ensure_executor_running\u001b[0;34m(self)\u001b[0m\n\u001b[1;32m   1094\u001b[0m         \u001b[0;32mwith\u001b[0m \u001b[0mself\u001b[0m\u001b[0;34m.\u001b[0m\u001b[0m_processes_management_lock\u001b[0m\u001b[0;34m:\u001b[0m\u001b[0;34m\u001b[0m\u001b[0;34m\u001b[0m\u001b[0m\n\u001b[1;32m   1095\u001b[0m             \u001b[0;32mif\u001b[0m \u001b[0mlen\u001b[0m\u001b[0;34m(\u001b[0m\u001b[0mself\u001b[0m\u001b[0;34m.\u001b[0m\u001b[0m_processes\u001b[0m\u001b[0;34m)\u001b[0m \u001b[0;34m!=\u001b[0m \u001b[0mself\u001b[0m\u001b[0;34m.\u001b[0m\u001b[0m_max_workers\u001b[0m\u001b[0;34m:\u001b[0m\u001b[0;34m\u001b[0m\u001b[0;34m\u001b[0m\u001b[0m\n\u001b[0;32m-> 1096\u001b[0;31m                 \u001b[0mself\u001b[0m\u001b[0;34m.\u001b[0m\u001b[0m_adjust_process_count\u001b[0m\u001b[0;34m(\u001b[0m\u001b[0;34m)\u001b[0m\u001b[0;34m\u001b[0m\u001b[0;34m\u001b[0m\u001b[0m\n\u001b[0m\u001b[1;32m   1097\u001b[0m             \u001b[0mself\u001b[0m\u001b[0;34m.\u001b[0m\u001b[0m_start_executor_manager_thread\u001b[0m\u001b[0;34m(\u001b[0m\u001b[0;34m)\u001b[0m\u001b[0;34m\u001b[0m\u001b[0;34m\u001b[0m\u001b[0m\n\u001b[1;32m   1098\u001b[0m \u001b[0;34m\u001b[0m\u001b[0m\n",
      "\u001b[0;32m/cerebro/cerebro1/dataset/bmpd/derivatives/thibault_test/code/toolbox/bmpd_python/lib/python3.6/site-packages/joblib/externals/loky/process_executor.py\u001b[0m in \u001b[0;36m_adjust_process_count\u001b[0;34m(self)\u001b[0m\n\u001b[1;32m   1085\u001b[0m                 \u001b[0mp\u001b[0m \u001b[0;34m=\u001b[0m \u001b[0mself\u001b[0m\u001b[0;34m.\u001b[0m\u001b[0m_context\u001b[0m\u001b[0;34m.\u001b[0m\u001b[0mProcess\u001b[0m\u001b[0;34m(\u001b[0m\u001b[0mtarget\u001b[0m\u001b[0;34m=\u001b[0m\u001b[0m_process_worker\u001b[0m\u001b[0;34m,\u001b[0m \u001b[0margs\u001b[0m\u001b[0;34m=\u001b[0m\u001b[0margs\u001b[0m\u001b[0;34m)\u001b[0m\u001b[0;34m\u001b[0m\u001b[0;34m\u001b[0m\u001b[0m\n\u001b[1;32m   1086\u001b[0m             \u001b[0mp\u001b[0m\u001b[0;34m.\u001b[0m\u001b[0m_worker_exit_lock\u001b[0m \u001b[0;34m=\u001b[0m \u001b[0mworker_exit_lock\u001b[0m\u001b[0;34m\u001b[0m\u001b[0;34m\u001b[0m\u001b[0m\n\u001b[0;32m-> 1087\u001b[0;31m             \u001b[0mp\u001b[0m\u001b[0;34m.\u001b[0m\u001b[0mstart\u001b[0m\u001b[0;34m(\u001b[0m\u001b[0;34m)\u001b[0m\u001b[0;34m\u001b[0m\u001b[0;34m\u001b[0m\u001b[0m\n\u001b[0m\u001b[1;32m   1088\u001b[0m             \u001b[0mself\u001b[0m\u001b[0;34m.\u001b[0m\u001b[0m_processes\u001b[0m\u001b[0;34m[\u001b[0m\u001b[0mp\u001b[0m\u001b[0;34m.\u001b[0m\u001b[0mpid\u001b[0m\u001b[0;34m]\u001b[0m \u001b[0;34m=\u001b[0m \u001b[0mp\u001b[0m\u001b[0;34m\u001b[0m\u001b[0;34m\u001b[0m\u001b[0m\n\u001b[1;32m   1089\u001b[0m         \u001b[0mmp\u001b[0m\u001b[0;34m.\u001b[0m\u001b[0mutil\u001b[0m\u001b[0;34m.\u001b[0m\u001b[0mdebug\u001b[0m\u001b[0;34m(\u001b[0m\u001b[0;34m'Adjust process count : {}'\u001b[0m\u001b[0;34m.\u001b[0m\u001b[0mformat\u001b[0m\u001b[0;34m(\u001b[0m\u001b[0mself\u001b[0m\u001b[0;34m.\u001b[0m\u001b[0m_processes\u001b[0m\u001b[0;34m)\u001b[0m\u001b[0;34m)\u001b[0m\u001b[0;34m\u001b[0m\u001b[0;34m\u001b[0m\u001b[0m\n",
      "\u001b[0;32m/usr/lib/python3.6/multiprocessing/process.py\u001b[0m in \u001b[0;36mstart\u001b[0;34m(self)\u001b[0m\n\u001b[1;32m    103\u001b[0m                \u001b[0;34m'daemonic processes are not allowed to have children'\u001b[0m\u001b[0;34m\u001b[0m\u001b[0;34m\u001b[0m\u001b[0m\n\u001b[1;32m    104\u001b[0m         \u001b[0m_cleanup\u001b[0m\u001b[0;34m(\u001b[0m\u001b[0;34m)\u001b[0m\u001b[0;34m\u001b[0m\u001b[0;34m\u001b[0m\u001b[0m\n\u001b[0;32m--> 105\u001b[0;31m         \u001b[0mself\u001b[0m\u001b[0;34m.\u001b[0m\u001b[0m_popen\u001b[0m \u001b[0;34m=\u001b[0m \u001b[0mself\u001b[0m\u001b[0;34m.\u001b[0m\u001b[0m_Popen\u001b[0m\u001b[0;34m(\u001b[0m\u001b[0mself\u001b[0m\u001b[0;34m)\u001b[0m\u001b[0;34m\u001b[0m\u001b[0;34m\u001b[0m\u001b[0m\n\u001b[0m\u001b[1;32m    106\u001b[0m         \u001b[0mself\u001b[0m\u001b[0;34m.\u001b[0m\u001b[0m_sentinel\u001b[0m \u001b[0;34m=\u001b[0m \u001b[0mself\u001b[0m\u001b[0;34m.\u001b[0m\u001b[0m_popen\u001b[0m\u001b[0;34m.\u001b[0m\u001b[0msentinel\u001b[0m\u001b[0;34m\u001b[0m\u001b[0;34m\u001b[0m\u001b[0m\n\u001b[1;32m    107\u001b[0m         \u001b[0;31m# Avoid a refcycle if the target function holds an indirect\u001b[0m\u001b[0;34m\u001b[0m\u001b[0;34m\u001b[0m\u001b[0;34m\u001b[0m\u001b[0m\n",
      "\u001b[0;32m/cerebro/cerebro1/dataset/bmpd/derivatives/thibault_test/code/toolbox/bmpd_python/lib/python3.6/site-packages/joblib/externals/loky/backend/process.py\u001b[0m in \u001b[0;36m_Popen\u001b[0;34m(process_obj)\u001b[0m\n\u001b[1;32m     37\u001b[0m         \u001b[0;32melse\u001b[0m\u001b[0;34m:\u001b[0m\u001b[0;34m\u001b[0m\u001b[0;34m\u001b[0m\u001b[0m\n\u001b[1;32m     38\u001b[0m             \u001b[0;32mfrom\u001b[0m \u001b[0;34m.\u001b[0m\u001b[0mpopen_loky_posix\u001b[0m \u001b[0;32mimport\u001b[0m \u001b[0mPopen\u001b[0m\u001b[0;34m\u001b[0m\u001b[0;34m\u001b[0m\u001b[0m\n\u001b[0;32m---> 39\u001b[0;31m         \u001b[0;32mreturn\u001b[0m \u001b[0mPopen\u001b[0m\u001b[0;34m(\u001b[0m\u001b[0mprocess_obj\u001b[0m\u001b[0;34m)\u001b[0m\u001b[0;34m\u001b[0m\u001b[0;34m\u001b[0m\u001b[0m\n\u001b[0m\u001b[1;32m     40\u001b[0m \u001b[0;34m\u001b[0m\u001b[0m\n\u001b[1;32m     41\u001b[0m     \u001b[0;32mif\u001b[0m \u001b[0msys\u001b[0m\u001b[0;34m.\u001b[0m\u001b[0mversion_info\u001b[0m \u001b[0;34m<\u001b[0m \u001b[0;34m(\u001b[0m\u001b[0;36m3\u001b[0m\u001b[0;34m,\u001b[0m \u001b[0;36m3\u001b[0m\u001b[0;34m)\u001b[0m\u001b[0;34m:\u001b[0m\u001b[0;34m\u001b[0m\u001b[0;34m\u001b[0m\u001b[0m\n",
      "\u001b[0;32m/cerebro/cerebro1/dataset/bmpd/derivatives/thibault_test/code/toolbox/bmpd_python/lib/python3.6/site-packages/joblib/externals/loky/backend/popen_loky_posix.py\u001b[0m in \u001b[0;36m__init__\u001b[0;34m(self, process_obj)\u001b[0m\n\u001b[1;32m     50\u001b[0m             \u001b[0mself\u001b[0m\u001b[0;34m.\u001b[0m\u001b[0mreturncode\u001b[0m \u001b[0;34m=\u001b[0m \u001b[0;32mNone\u001b[0m\u001b[0;34m\u001b[0m\u001b[0;34m\u001b[0m\u001b[0m\n\u001b[1;32m     51\u001b[0m             \u001b[0mself\u001b[0m\u001b[0;34m.\u001b[0m\u001b[0m_fds\u001b[0m \u001b[0;34m=\u001b[0m \u001b[0;34m[\u001b[0m\u001b[0;34m]\u001b[0m\u001b[0;34m\u001b[0m\u001b[0;34m\u001b[0m\u001b[0m\n\u001b[0;32m---> 52\u001b[0;31m             \u001b[0mself\u001b[0m\u001b[0;34m.\u001b[0m\u001b[0m_launch\u001b[0m\u001b[0;34m(\u001b[0m\u001b[0mprocess_obj\u001b[0m\u001b[0;34m)\u001b[0m\u001b[0;34m\u001b[0m\u001b[0;34m\u001b[0m\u001b[0m\n\u001b[0m\u001b[1;32m     53\u001b[0m \u001b[0;34m\u001b[0m\u001b[0m\n\u001b[1;32m     54\u001b[0m         \u001b[0;32mif\u001b[0m \u001b[0msys\u001b[0m\u001b[0;34m.\u001b[0m\u001b[0mversion_info\u001b[0m \u001b[0;34m<\u001b[0m \u001b[0;34m(\u001b[0m\u001b[0;36m3\u001b[0m\u001b[0;34m,\u001b[0m \u001b[0;36m4\u001b[0m\u001b[0;34m)\u001b[0m\u001b[0;34m:\u001b[0m\u001b[0;34m\u001b[0m\u001b[0;34m\u001b[0m\u001b[0m\n",
      "\u001b[0;32m/cerebro/cerebro1/dataset/bmpd/derivatives/thibault_test/code/toolbox/bmpd_python/lib/python3.6/site-packages/joblib/externals/loky/backend/popen_loky_posix.py\u001b[0m in \u001b[0;36m_launch\u001b[0;34m(self, process_obj)\u001b[0m\n\u001b[1;32m    155\u001b[0m \u001b[0;34m\u001b[0m\u001b[0m\n\u001b[1;32m    156\u001b[0m                 \u001b[0;32mfrom\u001b[0m \u001b[0;34m.\u001b[0m\u001b[0mfork_exec\u001b[0m \u001b[0;32mimport\u001b[0m \u001b[0mfork_exec\u001b[0m\u001b[0;34m\u001b[0m\u001b[0;34m\u001b[0m\u001b[0m\n\u001b[0;32m--> 157\u001b[0;31m                 \u001b[0mpid\u001b[0m \u001b[0;34m=\u001b[0m \u001b[0mfork_exec\u001b[0m\u001b[0;34m(\u001b[0m\u001b[0mcmd_python\u001b[0m\u001b[0;34m,\u001b[0m \u001b[0mself\u001b[0m\u001b[0;34m.\u001b[0m\u001b[0m_fds\u001b[0m\u001b[0;34m,\u001b[0m \u001b[0menv\u001b[0m\u001b[0;34m=\u001b[0m\u001b[0mprocess_obj\u001b[0m\u001b[0;34m.\u001b[0m\u001b[0menv\u001b[0m\u001b[0;34m)\u001b[0m\u001b[0;34m\u001b[0m\u001b[0;34m\u001b[0m\u001b[0m\n\u001b[0m\u001b[1;32m    158\u001b[0m                 util.debug(\"launched python with pid {} and cmd:\\n{}\"\n\u001b[1;32m    159\u001b[0m                            .format(pid, cmd_python))\n",
      "\u001b[0;32m/cerebro/cerebro1/dataset/bmpd/derivatives/thibault_test/code/toolbox/bmpd_python/lib/python3.6/site-packages/joblib/externals/loky/backend/fork_exec.py\u001b[0m in \u001b[0;36mfork_exec\u001b[0;34m(cmd, keep_fds, env)\u001b[0m\n\u001b[1;32m     41\u001b[0m     \u001b[0mchild_env\u001b[0m\u001b[0;34m.\u001b[0m\u001b[0mupdate\u001b[0m\u001b[0;34m(\u001b[0m\u001b[0menv\u001b[0m\u001b[0;34m)\u001b[0m\u001b[0;34m\u001b[0m\u001b[0;34m\u001b[0m\u001b[0m\n\u001b[1;32m     42\u001b[0m \u001b[0;34m\u001b[0m\u001b[0m\n\u001b[0;32m---> 43\u001b[0;31m     \u001b[0mpid\u001b[0m \u001b[0;34m=\u001b[0m \u001b[0mos\u001b[0m\u001b[0;34m.\u001b[0m\u001b[0mfork\u001b[0m\u001b[0;34m(\u001b[0m\u001b[0;34m)\u001b[0m\u001b[0;34m\u001b[0m\u001b[0;34m\u001b[0m\u001b[0m\n\u001b[0m\u001b[1;32m     44\u001b[0m     \u001b[0;32mif\u001b[0m \u001b[0mpid\u001b[0m \u001b[0;34m==\u001b[0m \u001b[0;36m0\u001b[0m\u001b[0;34m:\u001b[0m  \u001b[0;31m# pragma: no cover\u001b[0m\u001b[0;34m\u001b[0m\u001b[0;34m\u001b[0m\u001b[0m\n\u001b[1;32m     45\u001b[0m         \u001b[0mclose_fds\u001b[0m\u001b[0;34m(\u001b[0m\u001b[0mkeep_fds\u001b[0m\u001b[0;34m)\u001b[0m\u001b[0;34m\u001b[0m\u001b[0;34m\u001b[0m\u001b[0m\n",
      "\u001b[0;31mOSError\u001b[0m: [Errno 12] Cannot allocate memory"
     ]
    }
   ],
   "source": [
    "# Load the dataset config\n",
    "with open('/cerebro/cerebro1/dataset/bmpd/derivatives/HealthyControls_project/hc_project_analyses/config/config_SPiCiCAP_CL.json') as config_file:\n",
    "    config = json.load(config_file)\n",
    "    \n",
    "for k in config[\"k_range\"][\"spinalcord\"]:\n",
    "    config[\"n_comp\"]=k # usefull if you want to test only on k\n",
    "    print(config[\"n_comp\"])\n",
    "    icas = ICA(\"spinalcord\",config) # \"brain_spinalcord\" or \"brain\" or \"spinalcord\"\n",
    "    #all_data=icas.get_data(run='extract',t_r=config[\"t_r\"],n_jobs=8) # load or extract\n",
    "    all_data=icas.get_data(run='load',t_r=config[\"t_r\"],n_jobs=8) # load or extract\n",
    "    reducedata_all=icas.indiv_PCA(all_data,save_indiv_img=True)\n",
    "    components=icas.get_CCA(reducedata_all)\n",
    "    components_final,components_final_z=icas.get_ICA(components)\n",
    "    zcomponents4D_filename=icas.save_components(components_final,components_final_z)\n",
    "    \n",
    "    "
   ]
  },
  {
   "cell_type": "code",
   "execution_count": 39,
   "metadata": {},
   "outputs": [],
   "source": [
    "from nilearn.maskers import NiftiMasker\n",
    "nifti_masker =  NiftiMasker(mask_img='/cerebro/cerebro1/dataset/bmpd/derivatives/HealthyControls_project//templates/PAM50/PAM50_SPiCiCAP/template/PAM50_cord_resampled.nii.gz')\n",
    "new =nifti_masker.fit_transform('/cerebro/cerebro1/dataset/caroline/2022_SPiCiCAP_NK_CL/CL_analyses/denoising/2_func_in_template/sub-01/spinalcord/sub-01_fmri_moco_outliers_2reg_HP01_std_sc_inTemplate.nii.gz')\n",
    "fmri_masked=nifti_masker.inverse_transform(new)\n",
    "\n",
    "#fmri_masked = nifti_masker.transform('/cerebro/cerebro1/dataset/caroline/2022_SPiCiCAP_NK_CL/CL_analyses/denoising/2_func_in_template/sub-01/spinalcord/sub-01_fmri_moco_outliers_2reg_HP01_std_sc_inTemplate.nii.gz')\n",
    "#fmri_masked = nifti_masker.inverse_transform('/cerebro/cerebro1/dataset/caroline/2022_SPiCiCAP_NK_CL/CL_analyses/denoising/2_func_in_template/sub-01/spinalcord/sub-01_fmri_moco_outliers_2reg_HP01_std_sc_inTemplate.nii.gz')\n",
    "fmri_masked.to_filename('/cerebro/cerebro1/dataset/caroline/2022_SPiCiCAP_NK_CL/CL_analyses/denoising/2_func_in_template/sub-01/spinalcord/sub-01_fmri_moco_outliers_2reg_HP01_std_sc_inTemplate_masked.nii.gz') #save the n components for each subjects\n"
   ]
  },
  {
   "cell_type": "code",
   "execution_count": 122,
   "metadata": {},
   "outputs": [
    {
     "data": {
      "text/plain": [
       "(73794, 5)"
      ]
     },
     "execution_count": 122,
     "metadata": {},
     "output_type": "execute_result"
    }
   ],
   "source": [
    "components.shape # 73794,5"
   ]
  },
  {
   "cell_type": "code",
   "execution_count": 3,
   "metadata": {},
   "outputs": [],
   "source": [
    " zcomponents4D_filename=icas.save_components(components_final,components_final_z)"
   ]
  },
  {
   "cell_type": "markdown",
   "metadata": {},
   "source": [
    "## <font color=#00988c>  Create masks </font>\n",
    "### <font color=#00988c>  > Binarize IC maps </font> #_nindiv40"
   ]
  },
  {
   "cell_type": "code",
   "execution_count": 10,
   "metadata": {},
   "outputs": [
    {
     "name": "stdout",
     "output_type": "stream",
     "text": [
      "fslmaths /cerebro/cerebro1/dataset/bmpd/derivatives/HealthyControls_project//ICA//spinalcord/K_9/comp_zscored/zCanICA_22sbj_spinalcord_spinalcord_k_1.nii.gz -thr 2 -bin /cerebro/cerebro1/dataset/bmpd/derivatives/HealthyControls_project//ICA//spinalcord/K_9/comp_bin/zCanICA_22sbj_spinalcord_spinalcord_k_1_bin.nii.gz # in /cerebro/cerebro1/dataset/bmpd/derivatives/HealthyControls_project/ICA/code\n",
      "fslmaths /cerebro/cerebro1/dataset/bmpd/derivatives/HealthyControls_project//ICA//spinalcord/K_9/comp_zscored/zCanICA_22sbj_spinalcord_spinalcord_k_2.nii.gz -thr 2 -bin /cerebro/cerebro1/dataset/bmpd/derivatives/HealthyControls_project//ICA//spinalcord/K_9/comp_bin/zCanICA_22sbj_spinalcord_spinalcord_k_2_bin.nii.gz # in /cerebro/cerebro1/dataset/bmpd/derivatives/HealthyControls_project/ICA/code\n",
      "fslmaths /cerebro/cerebro1/dataset/bmpd/derivatives/HealthyControls_project//ICA//spinalcord/K_9/comp_zscored/zCanICA_22sbj_spinalcord_spinalcord_k_3.nii.gz -thr 2 -bin /cerebro/cerebro1/dataset/bmpd/derivatives/HealthyControls_project//ICA//spinalcord/K_9/comp_bin/zCanICA_22sbj_spinalcord_spinalcord_k_3_bin.nii.gz # in /cerebro/cerebro1/dataset/bmpd/derivatives/HealthyControls_project/ICA/code\n",
      "fslmaths /cerebro/cerebro1/dataset/bmpd/derivatives/HealthyControls_project//ICA//spinalcord/K_9/comp_zscored/zCanICA_22sbj_spinalcord_spinalcord_k_4.nii.gz -thr 2 -bin /cerebro/cerebro1/dataset/bmpd/derivatives/HealthyControls_project//ICA//spinalcord/K_9/comp_bin/zCanICA_22sbj_spinalcord_spinalcord_k_4_bin.nii.gz # in /cerebro/cerebro1/dataset/bmpd/derivatives/HealthyControls_project/ICA/code\n",
      "fslmaths /cerebro/cerebro1/dataset/bmpd/derivatives/HealthyControls_project//ICA//spinalcord/K_9/comp_zscored/zCanICA_22sbj_spinalcord_spinalcord_k_5.nii.gz -thr 2 -bin /cerebro/cerebro1/dataset/bmpd/derivatives/HealthyControls_project//ICA//spinalcord/K_9/comp_bin/zCanICA_22sbj_spinalcord_spinalcord_k_5_bin.nii.gz # in /cerebro/cerebro1/dataset/bmpd/derivatives/HealthyControls_project/ICA/code\n",
      "fslmaths /cerebro/cerebro1/dataset/bmpd/derivatives/HealthyControls_project//ICA//spinalcord/K_9/comp_zscored/zCanICA_22sbj_spinalcord_spinalcord_k_6.nii.gz -thr 2 -bin /cerebro/cerebro1/dataset/bmpd/derivatives/HealthyControls_project//ICA//spinalcord/K_9/comp_bin/zCanICA_22sbj_spinalcord_spinalcord_k_6_bin.nii.gz # in /cerebro/cerebro1/dataset/bmpd/derivatives/HealthyControls_project/ICA/code\n",
      "fslmaths /cerebro/cerebro1/dataset/bmpd/derivatives/HealthyControls_project//ICA//spinalcord/K_9/comp_zscored/zCanICA_22sbj_spinalcord_spinalcord_k_7.nii.gz -thr 2 -bin /cerebro/cerebro1/dataset/bmpd/derivatives/HealthyControls_project//ICA//spinalcord/K_9/comp_bin/zCanICA_22sbj_spinalcord_spinalcord_k_7_bin.nii.gz # in /cerebro/cerebro1/dataset/bmpd/derivatives/HealthyControls_project/ICA/code\n",
      "fslmaths /cerebro/cerebro1/dataset/bmpd/derivatives/HealthyControls_project//ICA//spinalcord/K_9/comp_zscored/zCanICA_22sbj_spinalcord_spinalcord_k_8.nii.gz -thr 2 -bin /cerebro/cerebro1/dataset/bmpd/derivatives/HealthyControls_project//ICA//spinalcord/K_9/comp_bin/zCanICA_22sbj_spinalcord_spinalcord_k_8_bin.nii.gz # in /cerebro/cerebro1/dataset/bmpd/derivatives/HealthyControls_project/ICA/code\n",
      "fslmaths /cerebro/cerebro1/dataset/bmpd/derivatives/HealthyControls_project//ICA//spinalcord/K_9/comp_zscored/zCanICA_22sbj_spinalcord_spinalcord_k_9.nii.gz -thr 2 -bin /cerebro/cerebro1/dataset/bmpd/derivatives/HealthyControls_project//ICA//spinalcord/K_9/comp_bin/zCanICA_22sbj_spinalcord_spinalcord_k_9_bin.nii.gz # in /cerebro/cerebro1/dataset/bmpd/derivatives/HealthyControls_project/ICA/code\n"
     ]
    }
   ],
   "source": [
    "import glob\n",
    "sys.path.append(\"/cerebro/cerebro1/dataset/bmpd/derivatives/thibault_test/code/toolbox/spinalcordtoolbox-5.0.0\")\n",
    "sys.path.append(\"/cerebro/cerebro1/dataset/bmpd/derivatives/thibault_test/code/toolbox/spinalcordtoolbox-5.0.0/scripts\") #sys.path.insert(0, \"/cerebro/cerebro1/dataset/bmpd/derivatives/sc_preproc/code/sct/spinalcordtoolbox\")\n",
    "from spinalcordtoolbox.utils.sys import run_proc\n",
    "structure='spinalcord'\n",
    "import os\n",
    "for K in range(9,10):\n",
    "    input_dir=config[\"main_dir\"]+config[\"ica_root\"]+ '/'+structure +'/K_'+ str(K) + '/comp_zscored/'\n",
    "    output_dir=config[\"main_dir\"]+config[\"ica_root\"]+ '/'+structure +'/K_'+ str(K) + '/comp_bin/'\n",
    "    for k in range(len(sorted(glob.glob(input_dir + '*_k_*')))):\n",
    "        input_image=sorted(glob.glob(input_dir + '*_k_*'))[k]\n",
    "        output_image=output_dir+os.path.basename(input_image).split('.')[0]+'_bin.nii.gz'\n",
    "        run_proc('fslmaths {} -thr 2 -bin {}'.format(input_image,output_image)) # thre and binarize the image"
   ]
  },
  {
   "cell_type": "markdown",
   "metadata": {},
   "source": [
    "### <font color=#00988c>  > Mask with GM </font>"
   ]
  },
  {
   "cell_type": "code",
   "execution_count": 11,
   "metadata": {},
   "outputs": [
    {
     "name": "stdout",
     "output_type": "stream",
     "text": [
      "fslmaths /cerebro/cerebro1/dataset/bmpd/derivatives/HealthyControls_project//ICA//spinalcord/K_9/comp_bin/zCanICA_22sbj_spinalcord_spinalcord_k_1_C7_bin.nii.gz -mas /cerebro/cerebro1/dataset/bmpd/derivatives/HealthyControls_project//templates/PAM50/atlas_bin/GM_LV_bin.nii.gz /cerebro/cerebro1/dataset/bmpd/derivatives/HealthyControls_project//ICA//spinalcord/K_9/comp_rois/zCanICA_22sbj_spinalcord_spinalcord_k_1_C7_LV_bin.nii.gz # in /cerebro/cerebro1/dataset/bmpd/derivatives/HealthyControls_project/ICA/code\n",
      "fslmaths /cerebro/cerebro1/dataset/bmpd/derivatives/HealthyControls_project//ICA//spinalcord/K_9/comp_bin/zCanICA_22sbj_spinalcord_spinalcord_k_1_C7_bin.nii.gz -mas /cerebro/cerebro1/dataset/bmpd/derivatives/HealthyControls_project//templates/PAM50/atlas_bin/GM_RV_bin.nii.gz /cerebro/cerebro1/dataset/bmpd/derivatives/HealthyControls_project//ICA//spinalcord/K_9/comp_rois/zCanICA_22sbj_spinalcord_spinalcord_k_1_C7_RV_bin.nii.gz # in /cerebro/cerebro1/dataset/bmpd/derivatives/HealthyControls_project/ICA/code\n",
      "fslmaths /cerebro/cerebro1/dataset/bmpd/derivatives/HealthyControls_project//ICA//spinalcord/K_9/comp_bin/zCanICA_22sbj_spinalcord_spinalcord_k_1_C7_bin.nii.gz -mas /cerebro/cerebro1/dataset/bmpd/derivatives/HealthyControls_project//templates/PAM50/atlas_bin/GM_LD_bin.nii.gz /cerebro/cerebro1/dataset/bmpd/derivatives/HealthyControls_project//ICA//spinalcord/K_9/comp_rois/zCanICA_22sbj_spinalcord_spinalcord_k_1_C7_LD_bin.nii.gz # in /cerebro/cerebro1/dataset/bmpd/derivatives/HealthyControls_project/ICA/code\n",
      "fslmaths /cerebro/cerebro1/dataset/bmpd/derivatives/HealthyControls_project//ICA//spinalcord/K_9/comp_bin/zCanICA_22sbj_spinalcord_spinalcord_k_1_C7_bin.nii.gz -mas /cerebro/cerebro1/dataset/bmpd/derivatives/HealthyControls_project//templates/PAM50/atlas_bin/GM_RD_bin.nii.gz /cerebro/cerebro1/dataset/bmpd/derivatives/HealthyControls_project//ICA//spinalcord/K_9/comp_rois/zCanICA_22sbj_spinalcord_spinalcord_k_1_C7_RD_bin.nii.gz # in /cerebro/cerebro1/dataset/bmpd/derivatives/HealthyControls_project/ICA/code\n",
      "fslmaths /cerebro/cerebro1/dataset/bmpd/derivatives/HealthyControls_project//ICA//spinalcord/K_9/comp_bin/zCanICA_22sbj_spinalcord_spinalcord_k_1_C7_bin.nii.gz -mas /cerebro/cerebro1/dataset/bmpd/derivatives/HealthyControls_project//templates/PAM50/atlas_bin/GM_interm_bin.nii.gz /cerebro/cerebro1/dataset/bmpd/derivatives/HealthyControls_project//ICA//spinalcord/K_9/comp_rois/zCanICA_22sbj_spinalcord_spinalcord_k_1_C7_interm_bin.nii.gz # in /cerebro/cerebro1/dataset/bmpd/derivatives/HealthyControls_project/ICA/code\n",
      "fslmaths /cerebro/cerebro1/dataset/bmpd/derivatives/HealthyControls_project//ICA//spinalcord/K_9/comp_bin/zCanICA_22sbj_spinalcord_spinalcord_k_1_C7_bin.nii.gz -mas /cerebro/cerebro1/dataset/bmpd/derivatives/HealthyControls_project//templates/PAM50/atlas_bin/GM_whole_bin.nii.gz /cerebro/cerebro1/dataset/bmpd/derivatives/HealthyControls_project//ICA//spinalcord/K_9/comp_rois/zCanICA_22sbj_spinalcord_spinalcord_k_1_C7_whole_bin.nii.gz # in /cerebro/cerebro1/dataset/bmpd/derivatives/HealthyControls_project/ICA/code\n",
      "fslmaths /cerebro/cerebro1/dataset/bmpd/derivatives/HealthyControls_project//ICA//spinalcord/K_9/comp_bin/zCanICA_22sbj_spinalcord_spinalcord_k_2_C1_bin.nii.gz -mas /cerebro/cerebro1/dataset/bmpd/derivatives/HealthyControls_project//templates/PAM50/atlas_bin/GM_LV_bin.nii.gz /cerebro/cerebro1/dataset/bmpd/derivatives/HealthyControls_project//ICA//spinalcord/K_9/comp_rois/zCanICA_22sbj_spinalcord_spinalcord_k_2_C1_LV_bin.nii.gz # in /cerebro/cerebro1/dataset/bmpd/derivatives/HealthyControls_project/ICA/code\n",
      "fslmaths /cerebro/cerebro1/dataset/bmpd/derivatives/HealthyControls_project//ICA//spinalcord/K_9/comp_bin/zCanICA_22sbj_spinalcord_spinalcord_k_2_C1_bin.nii.gz -mas /cerebro/cerebro1/dataset/bmpd/derivatives/HealthyControls_project//templates/PAM50/atlas_bin/GM_RV_bin.nii.gz /cerebro/cerebro1/dataset/bmpd/derivatives/HealthyControls_project//ICA//spinalcord/K_9/comp_rois/zCanICA_22sbj_spinalcord_spinalcord_k_2_C1_RV_bin.nii.gz # in /cerebro/cerebro1/dataset/bmpd/derivatives/HealthyControls_project/ICA/code\n",
      "fslmaths /cerebro/cerebro1/dataset/bmpd/derivatives/HealthyControls_project//ICA//spinalcord/K_9/comp_bin/zCanICA_22sbj_spinalcord_spinalcord_k_2_C1_bin.nii.gz -mas /cerebro/cerebro1/dataset/bmpd/derivatives/HealthyControls_project//templates/PAM50/atlas_bin/GM_LD_bin.nii.gz /cerebro/cerebro1/dataset/bmpd/derivatives/HealthyControls_project//ICA//spinalcord/K_9/comp_rois/zCanICA_22sbj_spinalcord_spinalcord_k_2_C1_LD_bin.nii.gz # in /cerebro/cerebro1/dataset/bmpd/derivatives/HealthyControls_project/ICA/code\n",
      "fslmaths /cerebro/cerebro1/dataset/bmpd/derivatives/HealthyControls_project//ICA//spinalcord/K_9/comp_bin/zCanICA_22sbj_spinalcord_spinalcord_k_2_C1_bin.nii.gz -mas /cerebro/cerebro1/dataset/bmpd/derivatives/HealthyControls_project//templates/PAM50/atlas_bin/GM_RD_bin.nii.gz /cerebro/cerebro1/dataset/bmpd/derivatives/HealthyControls_project//ICA//spinalcord/K_9/comp_rois/zCanICA_22sbj_spinalcord_spinalcord_k_2_C1_RD_bin.nii.gz # in /cerebro/cerebro1/dataset/bmpd/derivatives/HealthyControls_project/ICA/code\n",
      "fslmaths /cerebro/cerebro1/dataset/bmpd/derivatives/HealthyControls_project//ICA//spinalcord/K_9/comp_bin/zCanICA_22sbj_spinalcord_spinalcord_k_2_C1_bin.nii.gz -mas /cerebro/cerebro1/dataset/bmpd/derivatives/HealthyControls_project//templates/PAM50/atlas_bin/GM_interm_bin.nii.gz /cerebro/cerebro1/dataset/bmpd/derivatives/HealthyControls_project//ICA//spinalcord/K_9/comp_rois/zCanICA_22sbj_spinalcord_spinalcord_k_2_C1_interm_bin.nii.gz # in /cerebro/cerebro1/dataset/bmpd/derivatives/HealthyControls_project/ICA/code\n",
      "fslmaths /cerebro/cerebro1/dataset/bmpd/derivatives/HealthyControls_project//ICA//spinalcord/K_9/comp_bin/zCanICA_22sbj_spinalcord_spinalcord_k_2_C1_bin.nii.gz -mas /cerebro/cerebro1/dataset/bmpd/derivatives/HealthyControls_project//templates/PAM50/atlas_bin/GM_whole_bin.nii.gz /cerebro/cerebro1/dataset/bmpd/derivatives/HealthyControls_project//ICA//spinalcord/K_9/comp_rois/zCanICA_22sbj_spinalcord_spinalcord_k_2_C1_whole_bin.nii.gz # in /cerebro/cerebro1/dataset/bmpd/derivatives/HealthyControls_project/ICA/code\n",
      "fslmaths /cerebro/cerebro1/dataset/bmpd/derivatives/HealthyControls_project//ICA//spinalcord/K_9/comp_bin/zCanICA_22sbj_spinalcord_spinalcord_k_3_C3_bin.nii.gz -mas /cerebro/cerebro1/dataset/bmpd/derivatives/HealthyControls_project//templates/PAM50/atlas_bin/GM_LV_bin.nii.gz /cerebro/cerebro1/dataset/bmpd/derivatives/HealthyControls_project//ICA//spinalcord/K_9/comp_rois/zCanICA_22sbj_spinalcord_spinalcord_k_3_C3_LV_bin.nii.gz # in /cerebro/cerebro1/dataset/bmpd/derivatives/HealthyControls_project/ICA/code\n",
      "fslmaths /cerebro/cerebro1/dataset/bmpd/derivatives/HealthyControls_project//ICA//spinalcord/K_9/comp_bin/zCanICA_22sbj_spinalcord_spinalcord_k_3_C3_bin.nii.gz -mas /cerebro/cerebro1/dataset/bmpd/derivatives/HealthyControls_project//templates/PAM50/atlas_bin/GM_RV_bin.nii.gz /cerebro/cerebro1/dataset/bmpd/derivatives/HealthyControls_project//ICA//spinalcord/K_9/comp_rois/zCanICA_22sbj_spinalcord_spinalcord_k_3_C3_RV_bin.nii.gz # in /cerebro/cerebro1/dataset/bmpd/derivatives/HealthyControls_project/ICA/code\n",
      "fslmaths /cerebro/cerebro1/dataset/bmpd/derivatives/HealthyControls_project//ICA//spinalcord/K_9/comp_bin/zCanICA_22sbj_spinalcord_spinalcord_k_3_C3_bin.nii.gz -mas /cerebro/cerebro1/dataset/bmpd/derivatives/HealthyControls_project//templates/PAM50/atlas_bin/GM_LD_bin.nii.gz /cerebro/cerebro1/dataset/bmpd/derivatives/HealthyControls_project//ICA//spinalcord/K_9/comp_rois/zCanICA_22sbj_spinalcord_spinalcord_k_3_C3_LD_bin.nii.gz # in /cerebro/cerebro1/dataset/bmpd/derivatives/HealthyControls_project/ICA/code\n",
      "fslmaths /cerebro/cerebro1/dataset/bmpd/derivatives/HealthyControls_project//ICA//spinalcord/K_9/comp_bin/zCanICA_22sbj_spinalcord_spinalcord_k_3_C3_bin.nii.gz -mas /cerebro/cerebro1/dataset/bmpd/derivatives/HealthyControls_project//templates/PAM50/atlas_bin/GM_RD_bin.nii.gz /cerebro/cerebro1/dataset/bmpd/derivatives/HealthyControls_project//ICA//spinalcord/K_9/comp_rois/zCanICA_22sbj_spinalcord_spinalcord_k_3_C3_RD_bin.nii.gz # in /cerebro/cerebro1/dataset/bmpd/derivatives/HealthyControls_project/ICA/code\n",
      "fslmaths /cerebro/cerebro1/dataset/bmpd/derivatives/HealthyControls_project//ICA//spinalcord/K_9/comp_bin/zCanICA_22sbj_spinalcord_spinalcord_k_3_C3_bin.nii.gz -mas /cerebro/cerebro1/dataset/bmpd/derivatives/HealthyControls_project//templates/PAM50/atlas_bin/GM_interm_bin.nii.gz /cerebro/cerebro1/dataset/bmpd/derivatives/HealthyControls_project//ICA//spinalcord/K_9/comp_rois/zCanICA_22sbj_spinalcord_spinalcord_k_3_C3_interm_bin.nii.gz # in /cerebro/cerebro1/dataset/bmpd/derivatives/HealthyControls_project/ICA/code\n",
      "fslmaths /cerebro/cerebro1/dataset/bmpd/derivatives/HealthyControls_project//ICA//spinalcord/K_9/comp_bin/zCanICA_22sbj_spinalcord_spinalcord_k_3_C3_bin.nii.gz -mas /cerebro/cerebro1/dataset/bmpd/derivatives/HealthyControls_project//templates/PAM50/atlas_bin/GM_whole_bin.nii.gz /cerebro/cerebro1/dataset/bmpd/derivatives/HealthyControls_project//ICA//spinalcord/K_9/comp_rois/zCanICA_22sbj_spinalcord_spinalcord_k_3_C3_whole_bin.nii.gz # in /cerebro/cerebro1/dataset/bmpd/derivatives/HealthyControls_project/ICA/code\n",
      "fslmaths /cerebro/cerebro1/dataset/bmpd/derivatives/HealthyControls_project//ICA//spinalcord/K_9/comp_bin/zCanICA_22sbj_spinalcord_spinalcord_k_4_C5_bin.nii.gz -mas /cerebro/cerebro1/dataset/bmpd/derivatives/HealthyControls_project//templates/PAM50/atlas_bin/GM_LV_bin.nii.gz /cerebro/cerebro1/dataset/bmpd/derivatives/HealthyControls_project//ICA//spinalcord/K_9/comp_rois/zCanICA_22sbj_spinalcord_spinalcord_k_4_C5_LV_bin.nii.gz # in /cerebro/cerebro1/dataset/bmpd/derivatives/HealthyControls_project/ICA/code\n",
      "fslmaths /cerebro/cerebro1/dataset/bmpd/derivatives/HealthyControls_project//ICA//spinalcord/K_9/comp_bin/zCanICA_22sbj_spinalcord_spinalcord_k_4_C5_bin.nii.gz -mas /cerebro/cerebro1/dataset/bmpd/derivatives/HealthyControls_project//templates/PAM50/atlas_bin/GM_RV_bin.nii.gz /cerebro/cerebro1/dataset/bmpd/derivatives/HealthyControls_project//ICA//spinalcord/K_9/comp_rois/zCanICA_22sbj_spinalcord_spinalcord_k_4_C5_RV_bin.nii.gz # in /cerebro/cerebro1/dataset/bmpd/derivatives/HealthyControls_project/ICA/code\n",
      "fslmaths /cerebro/cerebro1/dataset/bmpd/derivatives/HealthyControls_project//ICA//spinalcord/K_9/comp_bin/zCanICA_22sbj_spinalcord_spinalcord_k_4_C5_bin.nii.gz -mas /cerebro/cerebro1/dataset/bmpd/derivatives/HealthyControls_project//templates/PAM50/atlas_bin/GM_LD_bin.nii.gz /cerebro/cerebro1/dataset/bmpd/derivatives/HealthyControls_project//ICA//spinalcord/K_9/comp_rois/zCanICA_22sbj_spinalcord_spinalcord_k_4_C5_LD_bin.nii.gz # in /cerebro/cerebro1/dataset/bmpd/derivatives/HealthyControls_project/ICA/code\n",
      "fslmaths /cerebro/cerebro1/dataset/bmpd/derivatives/HealthyControls_project//ICA//spinalcord/K_9/comp_bin/zCanICA_22sbj_spinalcord_spinalcord_k_4_C5_bin.nii.gz -mas /cerebro/cerebro1/dataset/bmpd/derivatives/HealthyControls_project//templates/PAM50/atlas_bin/GM_RD_bin.nii.gz /cerebro/cerebro1/dataset/bmpd/derivatives/HealthyControls_project//ICA//spinalcord/K_9/comp_rois/zCanICA_22sbj_spinalcord_spinalcord_k_4_C5_RD_bin.nii.gz # in /cerebro/cerebro1/dataset/bmpd/derivatives/HealthyControls_project/ICA/code\n",
      "fslmaths /cerebro/cerebro1/dataset/bmpd/derivatives/HealthyControls_project//ICA//spinalcord/K_9/comp_bin/zCanICA_22sbj_spinalcord_spinalcord_k_4_C5_bin.nii.gz -mas /cerebro/cerebro1/dataset/bmpd/derivatives/HealthyControls_project//templates/PAM50/atlas_bin/GM_interm_bin.nii.gz /cerebro/cerebro1/dataset/bmpd/derivatives/HealthyControls_project//ICA//spinalcord/K_9/comp_rois/zCanICA_22sbj_spinalcord_spinalcord_k_4_C5_interm_bin.nii.gz # in /cerebro/cerebro1/dataset/bmpd/derivatives/HealthyControls_project/ICA/code\n",
      "fslmaths /cerebro/cerebro1/dataset/bmpd/derivatives/HealthyControls_project//ICA//spinalcord/K_9/comp_bin/zCanICA_22sbj_spinalcord_spinalcord_k_4_C5_bin.nii.gz -mas /cerebro/cerebro1/dataset/bmpd/derivatives/HealthyControls_project//templates/PAM50/atlas_bin/GM_whole_bin.nii.gz /cerebro/cerebro1/dataset/bmpd/derivatives/HealthyControls_project//ICA//spinalcord/K_9/comp_rois/zCanICA_22sbj_spinalcord_spinalcord_k_4_C5_whole_bin.nii.gz # in /cerebro/cerebro1/dataset/bmpd/derivatives/HealthyControls_project/ICA/code\n",
      "fslmaths /cerebro/cerebro1/dataset/bmpd/derivatives/HealthyControls_project//ICA//spinalcord/K_9/comp_bin/zCanICA_22sbj_spinalcord_spinalcord_k_5_C8_bin.nii.gz -mas /cerebro/cerebro1/dataset/bmpd/derivatives/HealthyControls_project//templates/PAM50/atlas_bin/GM_LV_bin.nii.gz /cerebro/cerebro1/dataset/bmpd/derivatives/HealthyControls_project//ICA//spinalcord/K_9/comp_rois/zCanICA_22sbj_spinalcord_spinalcord_k_5_C8_LV_bin.nii.gz # in /cerebro/cerebro1/dataset/bmpd/derivatives/HealthyControls_project/ICA/code\n",
      "fslmaths /cerebro/cerebro1/dataset/bmpd/derivatives/HealthyControls_project//ICA//spinalcord/K_9/comp_bin/zCanICA_22sbj_spinalcord_spinalcord_k_5_C8_bin.nii.gz -mas /cerebro/cerebro1/dataset/bmpd/derivatives/HealthyControls_project//templates/PAM50/atlas_bin/GM_RV_bin.nii.gz /cerebro/cerebro1/dataset/bmpd/derivatives/HealthyControls_project//ICA//spinalcord/K_9/comp_rois/zCanICA_22sbj_spinalcord_spinalcord_k_5_C8_RV_bin.nii.gz # in /cerebro/cerebro1/dataset/bmpd/derivatives/HealthyControls_project/ICA/code\n",
      "fslmaths /cerebro/cerebro1/dataset/bmpd/derivatives/HealthyControls_project//ICA//spinalcord/K_9/comp_bin/zCanICA_22sbj_spinalcord_spinalcord_k_5_C8_bin.nii.gz -mas /cerebro/cerebro1/dataset/bmpd/derivatives/HealthyControls_project//templates/PAM50/atlas_bin/GM_LD_bin.nii.gz /cerebro/cerebro1/dataset/bmpd/derivatives/HealthyControls_project//ICA//spinalcord/K_9/comp_rois/zCanICA_22sbj_spinalcord_spinalcord_k_5_C8_LD_bin.nii.gz # in /cerebro/cerebro1/dataset/bmpd/derivatives/HealthyControls_project/ICA/code\n",
      "fslmaths /cerebro/cerebro1/dataset/bmpd/derivatives/HealthyControls_project//ICA//spinalcord/K_9/comp_bin/zCanICA_22sbj_spinalcord_spinalcord_k_5_C8_bin.nii.gz -mas /cerebro/cerebro1/dataset/bmpd/derivatives/HealthyControls_project//templates/PAM50/atlas_bin/GM_RD_bin.nii.gz /cerebro/cerebro1/dataset/bmpd/derivatives/HealthyControls_project//ICA//spinalcord/K_9/comp_rois/zCanICA_22sbj_spinalcord_spinalcord_k_5_C8_RD_bin.nii.gz # in /cerebro/cerebro1/dataset/bmpd/derivatives/HealthyControls_project/ICA/code\n",
      "fslmaths /cerebro/cerebro1/dataset/bmpd/derivatives/HealthyControls_project//ICA//spinalcord/K_9/comp_bin/zCanICA_22sbj_spinalcord_spinalcord_k_5_C8_bin.nii.gz -mas /cerebro/cerebro1/dataset/bmpd/derivatives/HealthyControls_project//templates/PAM50/atlas_bin/GM_interm_bin.nii.gz /cerebro/cerebro1/dataset/bmpd/derivatives/HealthyControls_project//ICA//spinalcord/K_9/comp_rois/zCanICA_22sbj_spinalcord_spinalcord_k_5_C8_interm_bin.nii.gz # in /cerebro/cerebro1/dataset/bmpd/derivatives/HealthyControls_project/ICA/code\n",
      "fslmaths /cerebro/cerebro1/dataset/bmpd/derivatives/HealthyControls_project//ICA//spinalcord/K_9/comp_bin/zCanICA_22sbj_spinalcord_spinalcord_k_5_C8_bin.nii.gz -mas /cerebro/cerebro1/dataset/bmpd/derivatives/HealthyControls_project//templates/PAM50/atlas_bin/GM_whole_bin.nii.gz /cerebro/cerebro1/dataset/bmpd/derivatives/HealthyControls_project//ICA//spinalcord/K_9/comp_rois/zCanICA_22sbj_spinalcord_spinalcord_k_5_C8_whole_bin.nii.gz # in /cerebro/cerebro1/dataset/bmpd/derivatives/HealthyControls_project/ICA/code\n",
      "fslmaths /cerebro/cerebro1/dataset/bmpd/derivatives/HealthyControls_project//ICA//spinalcord/K_9/comp_bin/zCanICA_22sbj_spinalcord_spinalcord_k_6_C4_bin.nii.gz -mas /cerebro/cerebro1/dataset/bmpd/derivatives/HealthyControls_project//templates/PAM50/atlas_bin/GM_LV_bin.nii.gz /cerebro/cerebro1/dataset/bmpd/derivatives/HealthyControls_project//ICA//spinalcord/K_9/comp_rois/zCanICA_22sbj_spinalcord_spinalcord_k_6_C4_LV_bin.nii.gz # in /cerebro/cerebro1/dataset/bmpd/derivatives/HealthyControls_project/ICA/code\n",
      "fslmaths /cerebro/cerebro1/dataset/bmpd/derivatives/HealthyControls_project//ICA//spinalcord/K_9/comp_bin/zCanICA_22sbj_spinalcord_spinalcord_k_6_C4_bin.nii.gz -mas /cerebro/cerebro1/dataset/bmpd/derivatives/HealthyControls_project//templates/PAM50/atlas_bin/GM_RV_bin.nii.gz /cerebro/cerebro1/dataset/bmpd/derivatives/HealthyControls_project//ICA//spinalcord/K_9/comp_rois/zCanICA_22sbj_spinalcord_spinalcord_k_6_C4_RV_bin.nii.gz # in /cerebro/cerebro1/dataset/bmpd/derivatives/HealthyControls_project/ICA/code\n",
      "fslmaths /cerebro/cerebro1/dataset/bmpd/derivatives/HealthyControls_project//ICA//spinalcord/K_9/comp_bin/zCanICA_22sbj_spinalcord_spinalcord_k_6_C4_bin.nii.gz -mas /cerebro/cerebro1/dataset/bmpd/derivatives/HealthyControls_project//templates/PAM50/atlas_bin/GM_LD_bin.nii.gz /cerebro/cerebro1/dataset/bmpd/derivatives/HealthyControls_project//ICA//spinalcord/K_9/comp_rois/zCanICA_22sbj_spinalcord_spinalcord_k_6_C4_LD_bin.nii.gz # in /cerebro/cerebro1/dataset/bmpd/derivatives/HealthyControls_project/ICA/code\n",
      "fslmaths /cerebro/cerebro1/dataset/bmpd/derivatives/HealthyControls_project//ICA//spinalcord/K_9/comp_bin/zCanICA_22sbj_spinalcord_spinalcord_k_6_C4_bin.nii.gz -mas /cerebro/cerebro1/dataset/bmpd/derivatives/HealthyControls_project//templates/PAM50/atlas_bin/GM_RD_bin.nii.gz /cerebro/cerebro1/dataset/bmpd/derivatives/HealthyControls_project//ICA//spinalcord/K_9/comp_rois/zCanICA_22sbj_spinalcord_spinalcord_k_6_C4_RD_bin.nii.gz # in /cerebro/cerebro1/dataset/bmpd/derivatives/HealthyControls_project/ICA/code\n",
      "fslmaths /cerebro/cerebro1/dataset/bmpd/derivatives/HealthyControls_project//ICA//spinalcord/K_9/comp_bin/zCanICA_22sbj_spinalcord_spinalcord_k_6_C4_bin.nii.gz -mas /cerebro/cerebro1/dataset/bmpd/derivatives/HealthyControls_project//templates/PAM50/atlas_bin/GM_interm_bin.nii.gz /cerebro/cerebro1/dataset/bmpd/derivatives/HealthyControls_project//ICA//spinalcord/K_9/comp_rois/zCanICA_22sbj_spinalcord_spinalcord_k_6_C4_interm_bin.nii.gz # in /cerebro/cerebro1/dataset/bmpd/derivatives/HealthyControls_project/ICA/code\n",
      "fslmaths /cerebro/cerebro1/dataset/bmpd/derivatives/HealthyControls_project//ICA//spinalcord/K_9/comp_bin/zCanICA_22sbj_spinalcord_spinalcord_k_6_C4_bin.nii.gz -mas /cerebro/cerebro1/dataset/bmpd/derivatives/HealthyControls_project//templates/PAM50/atlas_bin/GM_whole_bin.nii.gz /cerebro/cerebro1/dataset/bmpd/derivatives/HealthyControls_project//ICA//spinalcord/K_9/comp_rois/zCanICA_22sbj_spinalcord_spinalcord_k_6_C4_whole_bin.nii.gz # in /cerebro/cerebro1/dataset/bmpd/derivatives/HealthyControls_project/ICA/code\n",
      "fslmaths /cerebro/cerebro1/dataset/bmpd/derivatives/HealthyControls_project//ICA//spinalcord/K_9/comp_bin/zCanICA_22sbj_spinalcord_spinalcord_k_7_C2_bin.nii.gz -mas /cerebro/cerebro1/dataset/bmpd/derivatives/HealthyControls_project//templates/PAM50/atlas_bin/GM_LV_bin.nii.gz /cerebro/cerebro1/dataset/bmpd/derivatives/HealthyControls_project//ICA//spinalcord/K_9/comp_rois/zCanICA_22sbj_spinalcord_spinalcord_k_7_C2_LV_bin.nii.gz # in /cerebro/cerebro1/dataset/bmpd/derivatives/HealthyControls_project/ICA/code\n",
      "fslmaths /cerebro/cerebro1/dataset/bmpd/derivatives/HealthyControls_project//ICA//spinalcord/K_9/comp_bin/zCanICA_22sbj_spinalcord_spinalcord_k_7_C2_bin.nii.gz -mas /cerebro/cerebro1/dataset/bmpd/derivatives/HealthyControls_project//templates/PAM50/atlas_bin/GM_RV_bin.nii.gz /cerebro/cerebro1/dataset/bmpd/derivatives/HealthyControls_project//ICA//spinalcord/K_9/comp_rois/zCanICA_22sbj_spinalcord_spinalcord_k_7_C2_RV_bin.nii.gz # in /cerebro/cerebro1/dataset/bmpd/derivatives/HealthyControls_project/ICA/code\n",
      "fslmaths /cerebro/cerebro1/dataset/bmpd/derivatives/HealthyControls_project//ICA//spinalcord/K_9/comp_bin/zCanICA_22sbj_spinalcord_spinalcord_k_7_C2_bin.nii.gz -mas /cerebro/cerebro1/dataset/bmpd/derivatives/HealthyControls_project//templates/PAM50/atlas_bin/GM_LD_bin.nii.gz /cerebro/cerebro1/dataset/bmpd/derivatives/HealthyControls_project//ICA//spinalcord/K_9/comp_rois/zCanICA_22sbj_spinalcord_spinalcord_k_7_C2_LD_bin.nii.gz # in /cerebro/cerebro1/dataset/bmpd/derivatives/HealthyControls_project/ICA/code\n",
      "fslmaths /cerebro/cerebro1/dataset/bmpd/derivatives/HealthyControls_project//ICA//spinalcord/K_9/comp_bin/zCanICA_22sbj_spinalcord_spinalcord_k_7_C2_bin.nii.gz -mas /cerebro/cerebro1/dataset/bmpd/derivatives/HealthyControls_project//templates/PAM50/atlas_bin/GM_RD_bin.nii.gz /cerebro/cerebro1/dataset/bmpd/derivatives/HealthyControls_project//ICA//spinalcord/K_9/comp_rois/zCanICA_22sbj_spinalcord_spinalcord_k_7_C2_RD_bin.nii.gz # in /cerebro/cerebro1/dataset/bmpd/derivatives/HealthyControls_project/ICA/code\n",
      "fslmaths /cerebro/cerebro1/dataset/bmpd/derivatives/HealthyControls_project//ICA//spinalcord/K_9/comp_bin/zCanICA_22sbj_spinalcord_spinalcord_k_7_C2_bin.nii.gz -mas /cerebro/cerebro1/dataset/bmpd/derivatives/HealthyControls_project//templates/PAM50/atlas_bin/GM_interm_bin.nii.gz /cerebro/cerebro1/dataset/bmpd/derivatives/HealthyControls_project//ICA//spinalcord/K_9/comp_rois/zCanICA_22sbj_spinalcord_spinalcord_k_7_C2_interm_bin.nii.gz # in /cerebro/cerebro1/dataset/bmpd/derivatives/HealthyControls_project/ICA/code\n",
      "fslmaths /cerebro/cerebro1/dataset/bmpd/derivatives/HealthyControls_project//ICA//spinalcord/K_9/comp_bin/zCanICA_22sbj_spinalcord_spinalcord_k_7_C2_bin.nii.gz -mas /cerebro/cerebro1/dataset/bmpd/derivatives/HealthyControls_project//templates/PAM50/atlas_bin/GM_whole_bin.nii.gz /cerebro/cerebro1/dataset/bmpd/derivatives/HealthyControls_project//ICA//spinalcord/K_9/comp_rois/zCanICA_22sbj_spinalcord_spinalcord_k_7_C2_whole_bin.nii.gz # in /cerebro/cerebro1/dataset/bmpd/derivatives/HealthyControls_project/ICA/code\n",
      "fslmaths /cerebro/cerebro1/dataset/bmpd/derivatives/HealthyControls_project//ICA//spinalcord/K_9/comp_bin/zCanICA_22sbj_spinalcord_spinalcord_k_8_C6_bin.nii.gz -mas /cerebro/cerebro1/dataset/bmpd/derivatives/HealthyControls_project//templates/PAM50/atlas_bin/GM_LV_bin.nii.gz /cerebro/cerebro1/dataset/bmpd/derivatives/HealthyControls_project//ICA//spinalcord/K_9/comp_rois/zCanICA_22sbj_spinalcord_spinalcord_k_8_C6_LV_bin.nii.gz # in /cerebro/cerebro1/dataset/bmpd/derivatives/HealthyControls_project/ICA/code\n",
      "fslmaths /cerebro/cerebro1/dataset/bmpd/derivatives/HealthyControls_project//ICA//spinalcord/K_9/comp_bin/zCanICA_22sbj_spinalcord_spinalcord_k_8_C6_bin.nii.gz -mas /cerebro/cerebro1/dataset/bmpd/derivatives/HealthyControls_project//templates/PAM50/atlas_bin/GM_RV_bin.nii.gz /cerebro/cerebro1/dataset/bmpd/derivatives/HealthyControls_project//ICA//spinalcord/K_9/comp_rois/zCanICA_22sbj_spinalcord_spinalcord_k_8_C6_RV_bin.nii.gz # in /cerebro/cerebro1/dataset/bmpd/derivatives/HealthyControls_project/ICA/code\n",
      "fslmaths /cerebro/cerebro1/dataset/bmpd/derivatives/HealthyControls_project//ICA//spinalcord/K_9/comp_bin/zCanICA_22sbj_spinalcord_spinalcord_k_8_C6_bin.nii.gz -mas /cerebro/cerebro1/dataset/bmpd/derivatives/HealthyControls_project//templates/PAM50/atlas_bin/GM_LD_bin.nii.gz /cerebro/cerebro1/dataset/bmpd/derivatives/HealthyControls_project//ICA//spinalcord/K_9/comp_rois/zCanICA_22sbj_spinalcord_spinalcord_k_8_C6_LD_bin.nii.gz # in /cerebro/cerebro1/dataset/bmpd/derivatives/HealthyControls_project/ICA/code\n",
      "fslmaths /cerebro/cerebro1/dataset/bmpd/derivatives/HealthyControls_project//ICA//spinalcord/K_9/comp_bin/zCanICA_22sbj_spinalcord_spinalcord_k_8_C6_bin.nii.gz -mas /cerebro/cerebro1/dataset/bmpd/derivatives/HealthyControls_project//templates/PAM50/atlas_bin/GM_RD_bin.nii.gz /cerebro/cerebro1/dataset/bmpd/derivatives/HealthyControls_project//ICA//spinalcord/K_9/comp_rois/zCanICA_22sbj_spinalcord_spinalcord_k_8_C6_RD_bin.nii.gz # in /cerebro/cerebro1/dataset/bmpd/derivatives/HealthyControls_project/ICA/code\n",
      "fslmaths /cerebro/cerebro1/dataset/bmpd/derivatives/HealthyControls_project//ICA//spinalcord/K_9/comp_bin/zCanICA_22sbj_spinalcord_spinalcord_k_8_C6_bin.nii.gz -mas /cerebro/cerebro1/dataset/bmpd/derivatives/HealthyControls_project//templates/PAM50/atlas_bin/GM_interm_bin.nii.gz /cerebro/cerebro1/dataset/bmpd/derivatives/HealthyControls_project//ICA//spinalcord/K_9/comp_rois/zCanICA_22sbj_spinalcord_spinalcord_k_8_C6_interm_bin.nii.gz # in /cerebro/cerebro1/dataset/bmpd/derivatives/HealthyControls_project/ICA/code\n",
      "fslmaths /cerebro/cerebro1/dataset/bmpd/derivatives/HealthyControls_project//ICA//spinalcord/K_9/comp_bin/zCanICA_22sbj_spinalcord_spinalcord_k_8_C6_bin.nii.gz -mas /cerebro/cerebro1/dataset/bmpd/derivatives/HealthyControls_project//templates/PAM50/atlas_bin/GM_whole_bin.nii.gz /cerebro/cerebro1/dataset/bmpd/derivatives/HealthyControls_project//ICA//spinalcord/K_9/comp_rois/zCanICA_22sbj_spinalcord_spinalcord_k_8_C6_whole_bin.nii.gz # in /cerebro/cerebro1/dataset/bmpd/derivatives/HealthyControls_project/ICA/code\n",
      "fslmaths /cerebro/cerebro1/dataset/bmpd/derivatives/HealthyControls_project//ICA//spinalcord/K_9/comp_bin/zCanICA_22sbj_spinalcord_spinalcord_k_9_C9_bin.nii.gz -mas /cerebro/cerebro1/dataset/bmpd/derivatives/HealthyControls_project//templates/PAM50/atlas_bin/GM_LV_bin.nii.gz /cerebro/cerebro1/dataset/bmpd/derivatives/HealthyControls_project//ICA//spinalcord/K_9/comp_rois/zCanICA_22sbj_spinalcord_spinalcord_k_9_C9_LV_bin.nii.gz # in /cerebro/cerebro1/dataset/bmpd/derivatives/HealthyControls_project/ICA/code\n",
      "fslmaths /cerebro/cerebro1/dataset/bmpd/derivatives/HealthyControls_project//ICA//spinalcord/K_9/comp_bin/zCanICA_22sbj_spinalcord_spinalcord_k_9_C9_bin.nii.gz -mas /cerebro/cerebro1/dataset/bmpd/derivatives/HealthyControls_project//templates/PAM50/atlas_bin/GM_RV_bin.nii.gz /cerebro/cerebro1/dataset/bmpd/derivatives/HealthyControls_project//ICA//spinalcord/K_9/comp_rois/zCanICA_22sbj_spinalcord_spinalcord_k_9_C9_RV_bin.nii.gz # in /cerebro/cerebro1/dataset/bmpd/derivatives/HealthyControls_project/ICA/code\n",
      "fslmaths /cerebro/cerebro1/dataset/bmpd/derivatives/HealthyControls_project//ICA//spinalcord/K_9/comp_bin/zCanICA_22sbj_spinalcord_spinalcord_k_9_C9_bin.nii.gz -mas /cerebro/cerebro1/dataset/bmpd/derivatives/HealthyControls_project//templates/PAM50/atlas_bin/GM_LD_bin.nii.gz /cerebro/cerebro1/dataset/bmpd/derivatives/HealthyControls_project//ICA//spinalcord/K_9/comp_rois/zCanICA_22sbj_spinalcord_spinalcord_k_9_C9_LD_bin.nii.gz # in /cerebro/cerebro1/dataset/bmpd/derivatives/HealthyControls_project/ICA/code\n",
      "fslmaths /cerebro/cerebro1/dataset/bmpd/derivatives/HealthyControls_project//ICA//spinalcord/K_9/comp_bin/zCanICA_22sbj_spinalcord_spinalcord_k_9_C9_bin.nii.gz -mas /cerebro/cerebro1/dataset/bmpd/derivatives/HealthyControls_project//templates/PAM50/atlas_bin/GM_RD_bin.nii.gz /cerebro/cerebro1/dataset/bmpd/derivatives/HealthyControls_project//ICA//spinalcord/K_9/comp_rois/zCanICA_22sbj_spinalcord_spinalcord_k_9_C9_RD_bin.nii.gz # in /cerebro/cerebro1/dataset/bmpd/derivatives/HealthyControls_project/ICA/code\n",
      "fslmaths /cerebro/cerebro1/dataset/bmpd/derivatives/HealthyControls_project//ICA//spinalcord/K_9/comp_bin/zCanICA_22sbj_spinalcord_spinalcord_k_9_C9_bin.nii.gz -mas /cerebro/cerebro1/dataset/bmpd/derivatives/HealthyControls_project//templates/PAM50/atlas_bin/GM_interm_bin.nii.gz /cerebro/cerebro1/dataset/bmpd/derivatives/HealthyControls_project//ICA//spinalcord/K_9/comp_rois/zCanICA_22sbj_spinalcord_spinalcord_k_9_C9_interm_bin.nii.gz # in /cerebro/cerebro1/dataset/bmpd/derivatives/HealthyControls_project/ICA/code\n",
      "fslmaths /cerebro/cerebro1/dataset/bmpd/derivatives/HealthyControls_project//ICA//spinalcord/K_9/comp_bin/zCanICA_22sbj_spinalcord_spinalcord_k_9_C9_bin.nii.gz -mas /cerebro/cerebro1/dataset/bmpd/derivatives/HealthyControls_project//templates/PAM50/atlas_bin/GM_whole_bin.nii.gz /cerebro/cerebro1/dataset/bmpd/derivatives/HealthyControls_project//ICA//spinalcord/K_9/comp_rois/zCanICA_22sbj_spinalcord_spinalcord_k_9_C9_whole_bin.nii.gz # in /cerebro/cerebro1/dataset/bmpd/derivatives/HealthyControls_project/ICA/code\n"
     ]
    }
   ],
   "source": [
    "quadrants=['LV','RV','LD','RD','interm','whole']\n",
    "quadrants_files={'LV': config[\"main_dir\"]+\"/templates/PAM50/atlas_bin/GM_LV_bin.nii.gz\", # GM left ventral horn\n",
    "                'RV': config[\"main_dir\"]+\"/templates/PAM50/atlas_bin/GM_RV_bin.nii.gz\",# GM righ ventral horn\n",
    "                'LD': config[\"main_dir\"]+\"/templates/PAM50/atlas_bin/GM_LD_bin.nii.gz\",  # GM left dorsal horn\n",
    "                'RD': config[\"main_dir\"]+\"/templates/PAM50/atlas_bin/GM_RD_bin.nii.gz\",#  GM righ dorsal horn\n",
    "                'interm': config[\"main_dir\"]+\"/templates/PAM50/atlas_bin/GM_interm_bin.nii.gz\", #GM left and right intermediate zone\n",
    "                'whole': config[\"main_dir\"]+\"/templates/PAM50/atlas_bin/GM_whole_bin.nii.gz\"}\n",
    "\n",
    "\n",
    "for K in range(9,10):\n",
    "    input_dir=config[\"main_dir\"]+config[\"ica_root\"]+ '/'+structure +'/K_'+ str(K) + '/comp_bin/'\n",
    "    output_dir=config[\"main_dir\"]+config[\"ica_root\"]+ '/'+structure +'/K_'+ str(K) + '/comp_rois/'\n",
    "    for k in range(len(sorted(glob.glob(input_dir + '*_k_*')))):\n",
    "        for quadrant in quadrants:\n",
    "            input_image=sorted(glob.glob(input_dir + '*_k_*'))[k]\n",
    "            output_image=output_dir+os.path.basename(input_image).split('_bin.')[0]+'_'+quadrant+'_bin.nii.gz'\n",
    "            run_proc('fslmaths {} -mas {} {}'.format(input_image,quadrants_files[quadrant],output_image)) # thre and binarize the image"
   ]
  },
  {
   "cell_type": "code",
   "execution_count": null,
   "metadata": {},
   "outputs": [],
   "source": []
  }
 ],
 "metadata": {
  "kernelspec": {
   "display_name": "Python 3",
   "language": "python",
   "name": "python3"
  },
  "language_info": {
   "codemirror_mode": {
    "name": "ipython",
    "version": 3
   },
   "file_extension": ".py",
   "mimetype": "text/x-python",
   "name": "python",
   "nbconvert_exporter": "python",
   "pygments_lexer": "ipython3",
   "version": "3.6.9"
  }
 },
 "nbformat": 4,
 "nbformat_minor": 4
}
