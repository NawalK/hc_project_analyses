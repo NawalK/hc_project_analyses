{
 "cells": [
  {
   "cell_type": "markdown",
   "metadata": {},
   "source": [
    "# <font color=#f4665a>  ICA analysis </font>"
   ]
  },
  {
   "cell_type": "markdown",
   "metadata": {},
   "source": [
    "### Project: BMPD HC\n",
    "____________________________________________________\n",
    "\n",
    "**Description:** This notebook provides code for BOLD signal fMRI resting-state processing for the Biomarker for Parkinson's Disease (BMPD)data. \n",
    "We will used ICA analysis:\n",
    "CanICA is an ICA package for group-level analysis of fMRI data.  \n",
    "It brings a well-controlled group model, as well as a thresholding algorithm controlling for specificity and sensitivity with an explicit model of the signal.  \n",
    "The reference papers are: G. Varoquaux et al. \"A group model for stable multi-subject ICA on fMRI datasets\", NeuroImage Vol 51 (2010), p. 288-299\n",
    "G. Varoquaux et al. \"ICA-based sparse features recovery from fMRI datasets\", IEEE ISBI 2010, p. 1177\n",
    "\n",
    "\n",
    "**Toolbox required:** SpinalCordToolbox, FSL, nilearn toolbox, nipype, matlab\n",
    "\n",
    "**Inputs**:  \n",
    "This notebook required this the following prepross anatomical,fmri images \n",
    "\n",
    "**Ouputs**:\n",
    "See the output description at each step of the Notebook.\n",
    "\n",
    "____________________________________________________\n"
   ]
  },
  {
   "cell_type": "markdown",
   "metadata": {},
   "source": [
    "## <font color=#00988c> Imports </font>"
   ]
  },
  {
   "cell_type": "code",
   "execution_count": 1,
   "metadata": {},
   "outputs": [
    {
     "name": "stderr",
     "output_type": "stream",
     "text": [
      "/cerebro/cerebro1/dataset/bmpd/derivatives/thibault_test/code/toolbox/bmpd_python/lib/python3.6/site-packages/nilearn/__init__.py:69: FutureWarning: Python 3.6 support is deprecated and will be removed in release 0.10 of Nilearn. Consider switching to Python 3.8 or 3.9.\n",
      "  _python_deprecation_warnings()\n"
     ]
    }
   ],
   "source": [
    "import sys\n",
    "import json\n",
    "# Spinal cord Toolbox_________________________________________\n",
    "### Cerebro:\n",
    "sys.path.append(\"/cerebro/cerebro1/dataset/bmpd/derivatives/thibault_test/code/toolbox/spinalcordtoolbox-5.0.0\")\n",
    "sys.path.append(\"/cerebro/cerebro1/dataset/bmpd/derivatives/thibault_test/code/toolbox/spinalcordtoolbox-5.0.0/scripts\") #sys.path.insert(0, \"/cerebro/cerebro1/dataset/bmpd/derivatives/sc_preproc/code/sct/spinalcordtoolbox\")\n",
    "sys.path.append(\"/cerebro/cerebro1/dataset/bmpd/derivatives/HealthyControls_project/hc_project_analyses/code/\") #sys.path.insert(0, \"/cerebro/cerebro1/dataset/bmpd/derivatives/sc_preproc/code/sct/spinalcordtoolbox\")\n",
    "\n",
    "from spinalcordtoolbox.utils.sys import run_proc\n",
    "\n",
    "from canICA_analyses import ICA\n",
    "%matplotlib inline\n",
    "%load_ext autoreload\n",
    "%autoreload 2\n"
   ]
  },
  {
   "cell_type": "markdown",
   "metadata": {},
   "source": [
    "## <font color=#00988c>  Run the ICA analysis </font>"
   ]
  },
  {
   "cell_type": "code",
   "execution_count": 12,
   "metadata": {},
   "outputs": [],
   "source": [
    "# Load the dataset config\n",
    "#config_BMPD_HC_CL.json #config_SPiCiCAP_CL.json\n",
    "with open('../config/config_brsc_CL.json') as config_file:\n",
    "    config = json.load(config_file)\n",
    "dataset=\"mtl_younger\"\n",
    "structures=[\"brain\",\"spinalcord\"] # [\"spinalcord\"] or [\"brain\",\"spinalcord\"] . double check the script for brainsc"
   ]
  },
  {
   "cell_type": "code",
   "execution_count": 13,
   "metadata": {},
   "outputs": [],
   "source": [
    "import glob\n",
    "files_func={};func_allsbj={}\n",
    "for structure in structures:\n",
    "    if len(structures) == 1:\n",
    "        ana=structure\n",
    "    else:\n",
    "        ana= \"brain_spinalcord\"\n",
    "    files_func[structure]=[];func_allsbj[structure]=[]\n",
    "    for sbj_nb in range(len(config[\"list_subjects\"][dataset])):\n",
    "        subject_name=config[\"list_subjects\"][dataset][sbj_nb]\n",
    "        files_func[structure].append(glob.glob(config[\"data\"][dataset][\"inputs_ica\"][\"dir\"]+ '/sub-' + subject_name + '/'  + structure + '/*' + config[\"data\"][dataset][\"inputs_ica\"][structure][\"tag_filename_\" + ana] + '*')[0])\n",
    "        "
   ]
  },
  {
   "cell_type": "code",
   "execution_count": 14,
   "metadata": {},
   "outputs": [
    {
     "data": {
      "text/plain": [
       "{'brain': ['/cerebro/cerebro1/dataset/bmpd/derivatives/HealthyControls_project/func_preparation/3_func_smoothed//sub-P028/brain/sub-P028_task-rest_bold_stc_brain_moco_BP_brsc_reg_SPM_inTemplate_s.nii.gz',\n",
       "  '/cerebro/cerebro1/dataset/bmpd/derivatives/HealthyControls_project/func_preparation/3_func_smoothed//sub-P030/brain/sub-P030_task-rest_bold_stc_brain_moco_BP_brsc_reg_SPM_inTemplate_s.nii.gz'],\n",
       " 'spinalcord': ['/cerebro/cerebro1/dataset/bmpd/derivatives/HealthyControls_project/func_preparation/3_func_smoothed//sub-P028/spinalcord/sub-P028_task-rest_bold_stc_sc_moco_BP_brsc_inTemplate_s.nii.gz',\n",
       "  '/cerebro/cerebro1/dataset/bmpd/derivatives/HealthyControls_project/func_preparation/3_func_smoothed//sub-P030/spinalcord/sub-P030_task-rest_bold_stc_sc_moco_BP_brsc_inTemplate_s.nii.gz']}"
      ]
     },
     "execution_count": 14,
     "metadata": {},
     "output_type": "execute_result"
    }
   ],
   "source": [
    "files_func"
   ]
  },
  {
   "cell_type": "code",
   "execution_count": 45,
   "metadata": {},
   "outputs": [
    {
     "name": "stdout",
     "output_type": "stream",
     "text": [
      "4\n",
      "Analyse will be run on brain and spinalcord structures simultaneously\n",
      ">> data extraction done <<\n",
      ">> data extraction done <<\n",
      ">> data extraction done <<\n",
      ">> data extraction done <<\n",
      "(265, 110051)\n",
      "(265, 110051)\n"
     ]
    }
   ],
   "source": [
    "for k in config[\"ica_ana\"][\"k_range\"][\"spinalcord\"]:\n",
    "    config[\"ica_ana\"][\"n_comp\"]=k # usefull if you want to test only on k\n",
    "    print(config[\"ica_ana\"][\"n_comp\"])\n",
    "    #icas = ICA(files_func[structure][0],[''],structures,dataset,config) # \"brain_spinalcord\" or \"brain\" or \"spinalcord\"\n",
    "    icas = ICA(files_func[structures[0]],files_func[structures[1]],structures,dataset,config) # \"brain_spinalcord\" or \"brain\" or \"spinalcord\"\n",
    "    if k==4:\n",
    "        all_data=icas.get_data(run='extract',t_r=config[\"acq_params\"][dataset][\"TR\"],n_jobs=1) # load or extract\n",
    "    #all_data=icas.get_data(run='load',t_r=config[\"acq_params\"][dataset][\"TR\"],n_jobs=8) # load or extract\n",
    "\n",
    "\n"
   ]
  },
  {
   "cell_type": "code",
   "execution_count": 47,
   "metadata": {},
   "outputs": [
    {
     "ename": "TypeError",
     "evalue": "X must be of shape (samples, 44238).",
     "output_type": "error",
     "traceback": [
      "\u001b[0;31m---------------------------------------------------------------------------\u001b[0m",
      "\u001b[0;31mTypeError\u001b[0m                                 Traceback (most recent call last)",
      "\u001b[0;32m<ipython-input-47-8889bf44274b>\u001b[0m in \u001b[0;36m<module>\u001b[0;34m\u001b[0m\n\u001b[0;32m----> 1\u001b[0;31m \u001b[0mreducedata_all\u001b[0m\u001b[0;34m=\u001b[0m\u001b[0micas\u001b[0m\u001b[0;34m.\u001b[0m\u001b[0mindiv_PCA\u001b[0m\u001b[0;34m(\u001b[0m\u001b[0mall_data\u001b[0m\u001b[0;34m,\u001b[0m\u001b[0msave_indiv_img\u001b[0m\u001b[0;34m=\u001b[0m\u001b[0;32mTrue\u001b[0m\u001b[0;34m)\u001b[0m\u001b[0;34m\u001b[0m\u001b[0;34m\u001b[0m\u001b[0m\n\u001b[0m",
      "\u001b[0;32m/cerebro/cerebro1/dataset/bmpd/derivatives/HealthyControls_project/hc_project_analyses/code/canICA_analyses.py\u001b[0m in \u001b[0;36mindiv_PCA\u001b[0;34m(self, data_all_structure, save_indiv_img)\u001b[0m\n\u001b[1;32m    230\u001b[0m \u001b[0;34m\u001b[0m\u001b[0m\n\u001b[1;32m    231\u001b[0m                     \u001b[0mj\u001b[0m\u001b[0;34m=\u001b[0m\u001b[0;34m+\u001b[0m\u001b[0mi\u001b[0m\u001b[0;34m+\u001b[0m\u001b[0;36m1\u001b[0m\u001b[0;34m\u001b[0m\u001b[0;34m\u001b[0m\u001b[0m\n\u001b[0;32m--> 232\u001b[0;31m                     \u001b[0mcomponents_img\u001b[0m \u001b[0;34m=\u001b[0m \u001b[0mself\u001b[0m\u001b[0;34m.\u001b[0m\u001b[0mnifti_masker\u001b[0m\u001b[0;34m[\u001b[0m\u001b[0mstructure\u001b[0m\u001b[0;34m]\u001b[0m\u001b[0;34m.\u001b[0m\u001b[0minverse_transform\u001b[0m\u001b[0;34m(\u001b[0m\u001b[0mreducedata_all\u001b[0m\u001b[0;34m[\u001b[0m\u001b[0mj\u001b[0m\u001b[0;34m-\u001b[0m\u001b[0mn_comp_pca\u001b[0m\u001b[0;34m:\u001b[0m\u001b[0mj\u001b[0m\u001b[0;34m]\u001b[0m\u001b[0;34m)\u001b[0m \u001b[0;31m# transform the components in nifti\u001b[0m\u001b[0;34m\u001b[0m\u001b[0;34m\u001b[0m\u001b[0m\n\u001b[0m\u001b[1;32m    233\u001b[0m                     \u001b[0mcomponents_img\u001b[0m\u001b[0;34m.\u001b[0m\u001b[0mto_filename\u001b[0m\u001b[0;34m(\u001b[0m\u001b[0mself\u001b[0m\u001b[0;34m.\u001b[0m\u001b[0manalyse_dir\u001b[0m \u001b[0;34m+\u001b[0m \u001b[0;34m'/comp_indiv/sub-'\u001b[0m \u001b[0;34m+\u001b[0m \u001b[0msubject_name\u001b[0m \u001b[0;34m+\u001b[0m\u001b[0;34m'_comp_ICA.nii.gz'\u001b[0m\u001b[0;34m)\u001b[0m \u001b[0;31m#save the n components for each subjects\u001b[0m\u001b[0;34m\u001b[0m\u001b[0;34m\u001b[0m\u001b[0m\n\u001b[1;32m    234\u001b[0m                     \u001b[0mprint\u001b[0m\u001b[0;34m(\u001b[0m\u001b[0;34m\"- 4D image create for sbj  \"\u001b[0m \u001b[0;34m+\u001b[0m\u001b[0msubject_name\u001b[0m\u001b[0;34m)\u001b[0m\u001b[0;34m\u001b[0m\u001b[0;34m\u001b[0m\u001b[0m\n",
      "\u001b[0;32m/cerebro/cerebro1/dataset/bmpd/derivatives/thibault_test/code/toolbox/bmpd_python/lib/python3.6/site-packages/nilearn/maskers/base_masker.py\u001b[0m in \u001b[0;36minverse_transform\u001b[0;34m(self, X)\u001b[0m\n\u001b[1;32m    284\u001b[0m         \"\"\"\n\u001b[1;32m    285\u001b[0m         \u001b[0mself\u001b[0m\u001b[0;34m.\u001b[0m\u001b[0m_check_fitted\u001b[0m\u001b[0;34m(\u001b[0m\u001b[0;34m)\u001b[0m\u001b[0;34m\u001b[0m\u001b[0;34m\u001b[0m\u001b[0m\n\u001b[0;32m--> 286\u001b[0;31m         \u001b[0mimg\u001b[0m \u001b[0;34m=\u001b[0m \u001b[0mself\u001b[0m\u001b[0;34m.\u001b[0m\u001b[0m_cache\u001b[0m\u001b[0;34m(\u001b[0m\u001b[0mmasking\u001b[0m\u001b[0;34m.\u001b[0m\u001b[0munmask\u001b[0m\u001b[0;34m)\u001b[0m\u001b[0;34m(\u001b[0m\u001b[0mX\u001b[0m\u001b[0;34m,\u001b[0m \u001b[0mself\u001b[0m\u001b[0;34m.\u001b[0m\u001b[0mmask_img_\u001b[0m\u001b[0;34m)\u001b[0m\u001b[0;34m\u001b[0m\u001b[0;34m\u001b[0m\u001b[0m\n\u001b[0m\u001b[1;32m    287\u001b[0m         \u001b[0;31m# Be robust again memmapping that will create read-only arrays in\u001b[0m\u001b[0;34m\u001b[0m\u001b[0;34m\u001b[0m\u001b[0;34m\u001b[0m\u001b[0m\n\u001b[1;32m    288\u001b[0m         \u001b[0;31m# internal structures of the header: remove the memmaped array\u001b[0m\u001b[0;34m\u001b[0m\u001b[0;34m\u001b[0m\u001b[0;34m\u001b[0m\u001b[0m\n",
      "\u001b[0;32m/cerebro/cerebro1/dataset/bmpd/derivatives/thibault_test/code/toolbox/bmpd_python/lib/python3.6/site-packages/joblib/memory.py\u001b[0m in \u001b[0;36m__call__\u001b[0;34m(self, *args, **kwargs)\u001b[0m\n\u001b[1;32m    350\u001b[0m \u001b[0;34m\u001b[0m\u001b[0m\n\u001b[1;32m    351\u001b[0m     \u001b[0;32mdef\u001b[0m \u001b[0m__call__\u001b[0m\u001b[0;34m(\u001b[0m\u001b[0mself\u001b[0m\u001b[0;34m,\u001b[0m \u001b[0;34m*\u001b[0m\u001b[0margs\u001b[0m\u001b[0;34m,\u001b[0m \u001b[0;34m**\u001b[0m\u001b[0mkwargs\u001b[0m\u001b[0;34m)\u001b[0m\u001b[0;34m:\u001b[0m\u001b[0;34m\u001b[0m\u001b[0;34m\u001b[0m\u001b[0m\n\u001b[0;32m--> 352\u001b[0;31m         \u001b[0;32mreturn\u001b[0m \u001b[0mself\u001b[0m\u001b[0;34m.\u001b[0m\u001b[0mfunc\u001b[0m\u001b[0;34m(\u001b[0m\u001b[0;34m*\u001b[0m\u001b[0margs\u001b[0m\u001b[0;34m,\u001b[0m \u001b[0;34m**\u001b[0m\u001b[0mkwargs\u001b[0m\u001b[0;34m)\u001b[0m\u001b[0;34m\u001b[0m\u001b[0;34m\u001b[0m\u001b[0m\n\u001b[0m\u001b[1;32m    353\u001b[0m \u001b[0;34m\u001b[0m\u001b[0m\n\u001b[1;32m    354\u001b[0m     \u001b[0;32mdef\u001b[0m \u001b[0mcall_and_shelve\u001b[0m\u001b[0;34m(\u001b[0m\u001b[0mself\u001b[0m\u001b[0;34m,\u001b[0m \u001b[0;34m*\u001b[0m\u001b[0margs\u001b[0m\u001b[0;34m,\u001b[0m \u001b[0;34m**\u001b[0m\u001b[0mkwargs\u001b[0m\u001b[0;34m)\u001b[0m\u001b[0;34m:\u001b[0m\u001b[0;34m\u001b[0m\u001b[0;34m\u001b[0m\u001b[0m\n",
      "\u001b[0;32m/cerebro/cerebro1/dataset/bmpd/derivatives/thibault_test/code/toolbox/bmpd_python/lib/python3.6/site-packages/nilearn/masking.py\u001b[0m in \u001b[0;36munmask\u001b[0;34m(X, mask_img, order)\u001b[0m\n\u001b[1;32m    903\u001b[0m \u001b[0;34m\u001b[0m\u001b[0m\n\u001b[1;32m    904\u001b[0m     \u001b[0;32mif\u001b[0m \u001b[0mnp\u001b[0m\u001b[0;34m.\u001b[0m\u001b[0mndim\u001b[0m\u001b[0;34m(\u001b[0m\u001b[0mX\u001b[0m\u001b[0;34m)\u001b[0m \u001b[0;34m==\u001b[0m \u001b[0;36m2\u001b[0m\u001b[0;34m:\u001b[0m\u001b[0;34m\u001b[0m\u001b[0;34m\u001b[0m\u001b[0m\n\u001b[0;32m--> 905\u001b[0;31m         \u001b[0munmasked\u001b[0m \u001b[0;34m=\u001b[0m \u001b[0m_unmask_4d\u001b[0m\u001b[0;34m(\u001b[0m\u001b[0mX\u001b[0m\u001b[0;34m,\u001b[0m \u001b[0mmask\u001b[0m\u001b[0;34m,\u001b[0m \u001b[0morder\u001b[0m\u001b[0;34m=\u001b[0m\u001b[0morder\u001b[0m\u001b[0;34m)\u001b[0m\u001b[0;34m\u001b[0m\u001b[0;34m\u001b[0m\u001b[0m\n\u001b[0m\u001b[1;32m    906\u001b[0m     \u001b[0;32melif\u001b[0m \u001b[0mnp\u001b[0m\u001b[0;34m.\u001b[0m\u001b[0mndim\u001b[0m\u001b[0;34m(\u001b[0m\u001b[0mX\u001b[0m\u001b[0;34m)\u001b[0m \u001b[0;34m==\u001b[0m \u001b[0;36m1\u001b[0m\u001b[0;34m:\u001b[0m\u001b[0;34m\u001b[0m\u001b[0;34m\u001b[0m\u001b[0m\n\u001b[1;32m    907\u001b[0m         \u001b[0munmasked\u001b[0m \u001b[0;34m=\u001b[0m \u001b[0m_unmask_3d\u001b[0m\u001b[0;34m(\u001b[0m\u001b[0mX\u001b[0m\u001b[0;34m,\u001b[0m \u001b[0mmask\u001b[0m\u001b[0;34m,\u001b[0m \u001b[0morder\u001b[0m\u001b[0;34m=\u001b[0m\u001b[0morder\u001b[0m\u001b[0;34m)\u001b[0m\u001b[0;34m\u001b[0m\u001b[0;34m\u001b[0m\u001b[0m\n",
      "\u001b[0;32m/cerebro/cerebro1/dataset/bmpd/derivatives/thibault_test/code/toolbox/bmpd_python/lib/python3.6/site-packages/nilearn/masking.py\u001b[0m in \u001b[0;36m_unmask_4d\u001b[0;34m(X, mask, order)\u001b[0m\n\u001b[1;32m    855\u001b[0m     \u001b[0mn_features\u001b[0m \u001b[0;34m=\u001b[0m \u001b[0mmask\u001b[0m\u001b[0;34m.\u001b[0m\u001b[0msum\u001b[0m\u001b[0;34m(\u001b[0m\u001b[0;34m)\u001b[0m\u001b[0;34m\u001b[0m\u001b[0;34m\u001b[0m\u001b[0m\n\u001b[1;32m    856\u001b[0m     \u001b[0;32mif\u001b[0m \u001b[0mX\u001b[0m\u001b[0;34m.\u001b[0m\u001b[0mshape\u001b[0m\u001b[0;34m[\u001b[0m\u001b[0;36m1\u001b[0m\u001b[0;34m]\u001b[0m \u001b[0;34m!=\u001b[0m \u001b[0mn_features\u001b[0m\u001b[0;34m:\u001b[0m\u001b[0;34m\u001b[0m\u001b[0;34m\u001b[0m\u001b[0m\n\u001b[0;32m--> 857\u001b[0;31m         \u001b[0;32mraise\u001b[0m \u001b[0mTypeError\u001b[0m\u001b[0;34m(\u001b[0m\u001b[0;34m'X must be of shape (samples, %d).'\u001b[0m \u001b[0;34m%\u001b[0m \u001b[0mn_features\u001b[0m\u001b[0;34m)\u001b[0m\u001b[0;34m\u001b[0m\u001b[0;34m\u001b[0m\u001b[0m\n\u001b[0m\u001b[1;32m    858\u001b[0m \u001b[0;34m\u001b[0m\u001b[0m\n\u001b[1;32m    859\u001b[0m     \u001b[0mdata\u001b[0m \u001b[0;34m=\u001b[0m \u001b[0mnp\u001b[0m\u001b[0;34m.\u001b[0m\u001b[0mzeros\u001b[0m\u001b[0;34m(\u001b[0m\u001b[0mmask\u001b[0m\u001b[0;34m.\u001b[0m\u001b[0mshape\u001b[0m \u001b[0;34m+\u001b[0m \u001b[0;34m(\u001b[0m\u001b[0mX\u001b[0m\u001b[0;34m.\u001b[0m\u001b[0mshape\u001b[0m\u001b[0;34m[\u001b[0m\u001b[0;36m0\u001b[0m\u001b[0;34m]\u001b[0m\u001b[0;34m,\u001b[0m\u001b[0;34m)\u001b[0m\u001b[0;34m,\u001b[0m \u001b[0mdtype\u001b[0m\u001b[0;34m=\u001b[0m\u001b[0mX\u001b[0m\u001b[0;34m.\u001b[0m\u001b[0mdtype\u001b[0m\u001b[0;34m,\u001b[0m \u001b[0morder\u001b[0m\u001b[0;34m=\u001b[0m\u001b[0morder\u001b[0m\u001b[0;34m)\u001b[0m\u001b[0;34m\u001b[0m\u001b[0;34m\u001b[0m\u001b[0m\n",
      "\u001b[0;31mTypeError\u001b[0m: X must be of shape (samples, 44238)."
     ]
    }
   ],
   "source": [
    "reducedata_all=icas.indiv_PCA(all_data,save_indiv_img=True)"
   ]
  },
  {
   "cell_type": "code",
   "execution_count": null,
   "metadata": {},
   "outputs": [],
   "source": [
    "reducedata_all=icas.indiv_PCA(all_data,save_indiv_img=True)"
   ]
  },
  {
   "cell_type": "code",
   "execution_count": null,
   "metadata": {},
   "outputs": [],
   "source": [
    "import glob\n",
    "files_func={};func_allsbj={}\n",
    "for structure in structures:\n",
    "    files_func[structure]=[];func_allsbj[structure]=[]\n",
    "    for sbj_nb in range(len(config[\"list_subjects\"][dataset])):\n",
    "        subject_name=config[\"list_subjects\"][dataset][sbj_nb]\n",
    "        if len(structures) == 1:\n",
    "            files_func[structure].append(glob.glob(config[\"data\"][dataset][\"inputs_ica\"][\"dir\"]+ '/sub-' + subject_name + '/'  + structure + '/*' + config[\"data\"][dataset][\"inputs_ica\"][structure][\"tag_filename_\" + structure] + '*')[0])\n",
    "        if len(structures) == 2:\n",
    "            files_func[structure].append(glob.glob(config[\"data\"][dataset][\"inputs_ica\"][\"dir\"]+ '/sub-' + subject_name + '/'  + structure + '/*' + config[\"data\"][dataset][\"inputs_ica\"][structure][\"tag_filename_\" + structures[0] +'-'+structures[1]] + '*')[0])\n",
    "\n",
    "for k in config[\"ica_ana\"][\"k_range\"][\"spinalcord\"]:\n",
    "    config[\"ica_ana\"][\"n_comp\"]=k # usefull if you want to test only on k\n",
    "    print(config[\"ica_ana\"][\"n_comp\"])\n",
    "    icas = ICA(files_func[structure],structures,dataset,config) # \"brain_spinalcord\" or \"brain\" or \"spinalcord\"\n",
    "    if k==4:\n",
    "        all_data=icas.get_data(run='extract',t_r=config[\"acq_params\"][dataset][\"TR\"],n_jobs=8) # load or extract\n",
    "        all_data=icas.get_data(run='load',t_r=config[\"acq_params\"][dataset][\"TR\"],n_jobs=8) # load or extract\n",
    "    all_data=icas.get_data(run='load',t_r=config[\"acq_params\"][dataset][\"TR\"],n_jobs=8) # load or extract\n",
    "    reducedata_all=icas.indiv_PCA(all_data,save_indiv_img=True)\n",
    "    components=icas.get_CCA(reducedata_all)\n",
    "    components_final,components_final_z=icas.get_ICA(components)\n",
    "    zcomponents4D_filename=icas.save_components(components_final,components_final_z)"
   ]
  },
  {
   "cell_type": "markdown",
   "metadata": {},
   "source": [
    "## <font color=#00988c>  Create masks </font>\n",
    "### <font color=#00988c>  > Binarize IC maps </font> #_nindiv40"
   ]
  },
  {
   "cell_type": "code",
   "execution_count": 10,
   "metadata": {},
   "outputs": [
    {
     "name": "stdout",
     "output_type": "stream",
     "text": [
      "fslmaths /cerebro/cerebro1/dataset/bmpd/derivatives/HealthyControls_project//ICA//spinalcord/K_9/comp_zscored/zCanICA_22sbj_spinalcord_spinalcord_k_1.nii.gz -thr 2 -bin /cerebro/cerebro1/dataset/bmpd/derivatives/HealthyControls_project//ICA//spinalcord/K_9/comp_bin/zCanICA_22sbj_spinalcord_spinalcord_k_1_bin.nii.gz # in /cerebro/cerebro1/dataset/bmpd/derivatives/HealthyControls_project/ICA/code\n",
      "fslmaths /cerebro/cerebro1/dataset/bmpd/derivatives/HealthyControls_project//ICA//spinalcord/K_9/comp_zscored/zCanICA_22sbj_spinalcord_spinalcord_k_2.nii.gz -thr 2 -bin /cerebro/cerebro1/dataset/bmpd/derivatives/HealthyControls_project//ICA//spinalcord/K_9/comp_bin/zCanICA_22sbj_spinalcord_spinalcord_k_2_bin.nii.gz # in /cerebro/cerebro1/dataset/bmpd/derivatives/HealthyControls_project/ICA/code\n",
      "fslmaths /cerebro/cerebro1/dataset/bmpd/derivatives/HealthyControls_project//ICA//spinalcord/K_9/comp_zscored/zCanICA_22sbj_spinalcord_spinalcord_k_3.nii.gz -thr 2 -bin /cerebro/cerebro1/dataset/bmpd/derivatives/HealthyControls_project//ICA//spinalcord/K_9/comp_bin/zCanICA_22sbj_spinalcord_spinalcord_k_3_bin.nii.gz # in /cerebro/cerebro1/dataset/bmpd/derivatives/HealthyControls_project/ICA/code\n",
      "fslmaths /cerebro/cerebro1/dataset/bmpd/derivatives/HealthyControls_project//ICA//spinalcord/K_9/comp_zscored/zCanICA_22sbj_spinalcord_spinalcord_k_4.nii.gz -thr 2 -bin /cerebro/cerebro1/dataset/bmpd/derivatives/HealthyControls_project//ICA//spinalcord/K_9/comp_bin/zCanICA_22sbj_spinalcord_spinalcord_k_4_bin.nii.gz # in /cerebro/cerebro1/dataset/bmpd/derivatives/HealthyControls_project/ICA/code\n",
      "fslmaths /cerebro/cerebro1/dataset/bmpd/derivatives/HealthyControls_project//ICA//spinalcord/K_9/comp_zscored/zCanICA_22sbj_spinalcord_spinalcord_k_5.nii.gz -thr 2 -bin /cerebro/cerebro1/dataset/bmpd/derivatives/HealthyControls_project//ICA//spinalcord/K_9/comp_bin/zCanICA_22sbj_spinalcord_spinalcord_k_5_bin.nii.gz # in /cerebro/cerebro1/dataset/bmpd/derivatives/HealthyControls_project/ICA/code\n",
      "fslmaths /cerebro/cerebro1/dataset/bmpd/derivatives/HealthyControls_project//ICA//spinalcord/K_9/comp_zscored/zCanICA_22sbj_spinalcord_spinalcord_k_6.nii.gz -thr 2 -bin /cerebro/cerebro1/dataset/bmpd/derivatives/HealthyControls_project//ICA//spinalcord/K_9/comp_bin/zCanICA_22sbj_spinalcord_spinalcord_k_6_bin.nii.gz # in /cerebro/cerebro1/dataset/bmpd/derivatives/HealthyControls_project/ICA/code\n",
      "fslmaths /cerebro/cerebro1/dataset/bmpd/derivatives/HealthyControls_project//ICA//spinalcord/K_9/comp_zscored/zCanICA_22sbj_spinalcord_spinalcord_k_7.nii.gz -thr 2 -bin /cerebro/cerebro1/dataset/bmpd/derivatives/HealthyControls_project//ICA//spinalcord/K_9/comp_bin/zCanICA_22sbj_spinalcord_spinalcord_k_7_bin.nii.gz # in /cerebro/cerebro1/dataset/bmpd/derivatives/HealthyControls_project/ICA/code\n",
      "fslmaths /cerebro/cerebro1/dataset/bmpd/derivatives/HealthyControls_project//ICA//spinalcord/K_9/comp_zscored/zCanICA_22sbj_spinalcord_spinalcord_k_8.nii.gz -thr 2 -bin /cerebro/cerebro1/dataset/bmpd/derivatives/HealthyControls_project//ICA//spinalcord/K_9/comp_bin/zCanICA_22sbj_spinalcord_spinalcord_k_8_bin.nii.gz # in /cerebro/cerebro1/dataset/bmpd/derivatives/HealthyControls_project/ICA/code\n",
      "fslmaths /cerebro/cerebro1/dataset/bmpd/derivatives/HealthyControls_project//ICA//spinalcord/K_9/comp_zscored/zCanICA_22sbj_spinalcord_spinalcord_k_9.nii.gz -thr 2 -bin /cerebro/cerebro1/dataset/bmpd/derivatives/HealthyControls_project//ICA//spinalcord/K_9/comp_bin/zCanICA_22sbj_spinalcord_spinalcord_k_9_bin.nii.gz # in /cerebro/cerebro1/dataset/bmpd/derivatives/HealthyControls_project/ICA/code\n"
     ]
    }
   ],
   "source": [
    "import glob\n",
    "sys.path.append(\"/cerebro/cerebro1/dataset/bmpd/derivatives/thibault_test/code/toolbox/spinalcordtoolbox-5.0.0\")\n",
    "sys.path.append(\"/cerebro/cerebro1/dataset/bmpd/derivatives/thibault_test/code/toolbox/spinalcordtoolbox-5.0.0/scripts\") #sys.path.insert(0, \"/cerebro/cerebro1/dataset/bmpd/derivatives/sc_preproc/code/sct/spinalcordtoolbox\")\n",
    "from spinalcordtoolbox.utils.sys import run_proc\n",
    "structure='spinalcord'\n",
    "import os\n",
    "for K in range(9,10):\n",
    "    input_dir=config[\"main_dir\"]+config[\"ica_root\"]+ '/'+structure +'/K_'+ str(K) + '/comp_zscored/'\n",
    "    output_dir=config[\"main_dir\"]+config[\"ica_root\"]+ '/'+structure +'/K_'+ str(K) + '/comp_bin/'\n",
    "    for k in range(len(sorted(glob.glob(input_dir + '*_k_*')))):\n",
    "        input_image=sorted(glob.glob(input_dir + '*_k_*'))[k]\n",
    "        output_image=output_dir+os.path.basename(input_image).split('.')[0]+'_bin.nii.gz'\n",
    "        run_proc('fslmaths {} -thr 2 -bin {}'.format(input_image,output_image)) # thre and binarize the image"
   ]
  },
  {
   "cell_type": "markdown",
   "metadata": {},
   "source": [
    "### <font color=#00988c>  > Mask with GM </font>"
   ]
  },
  {
   "cell_type": "code",
   "execution_count": 11,
   "metadata": {},
   "outputs": [
    {
     "name": "stdout",
     "output_type": "stream",
     "text": [
      "fslmaths /cerebro/cerebro1/dataset/bmpd/derivatives/HealthyControls_project//ICA//spinalcord/K_9/comp_bin/zCanICA_22sbj_spinalcord_spinalcord_k_1_C7_bin.nii.gz -mas /cerebro/cerebro1/dataset/bmpd/derivatives/HealthyControls_project//templates/PAM50/atlas_bin/GM_LV_bin.nii.gz /cerebro/cerebro1/dataset/bmpd/derivatives/HealthyControls_project//ICA//spinalcord/K_9/comp_rois/zCanICA_22sbj_spinalcord_spinalcord_k_1_C7_LV_bin.nii.gz # in /cerebro/cerebro1/dataset/bmpd/derivatives/HealthyControls_project/ICA/code\n",
      "fslmaths /cerebro/cerebro1/dataset/bmpd/derivatives/HealthyControls_project//ICA//spinalcord/K_9/comp_bin/zCanICA_22sbj_spinalcord_spinalcord_k_1_C7_bin.nii.gz -mas /cerebro/cerebro1/dataset/bmpd/derivatives/HealthyControls_project//templates/PAM50/atlas_bin/GM_RV_bin.nii.gz /cerebro/cerebro1/dataset/bmpd/derivatives/HealthyControls_project//ICA//spinalcord/K_9/comp_rois/zCanICA_22sbj_spinalcord_spinalcord_k_1_C7_RV_bin.nii.gz # in /cerebro/cerebro1/dataset/bmpd/derivatives/HealthyControls_project/ICA/code\n",
      "fslmaths /cerebro/cerebro1/dataset/bmpd/derivatives/HealthyControls_project//ICA//spinalcord/K_9/comp_bin/zCanICA_22sbj_spinalcord_spinalcord_k_1_C7_bin.nii.gz -mas /cerebro/cerebro1/dataset/bmpd/derivatives/HealthyControls_project//templates/PAM50/atlas_bin/GM_LD_bin.nii.gz /cerebro/cerebro1/dataset/bmpd/derivatives/HealthyControls_project//ICA//spinalcord/K_9/comp_rois/zCanICA_22sbj_spinalcord_spinalcord_k_1_C7_LD_bin.nii.gz # in /cerebro/cerebro1/dataset/bmpd/derivatives/HealthyControls_project/ICA/code\n",
      "fslmaths /cerebro/cerebro1/dataset/bmpd/derivatives/HealthyControls_project//ICA//spinalcord/K_9/comp_bin/zCanICA_22sbj_spinalcord_spinalcord_k_1_C7_bin.nii.gz -mas /cerebro/cerebro1/dataset/bmpd/derivatives/HealthyControls_project//templates/PAM50/atlas_bin/GM_RD_bin.nii.gz /cerebro/cerebro1/dataset/bmpd/derivatives/HealthyControls_project//ICA//spinalcord/K_9/comp_rois/zCanICA_22sbj_spinalcord_spinalcord_k_1_C7_RD_bin.nii.gz # in /cerebro/cerebro1/dataset/bmpd/derivatives/HealthyControls_project/ICA/code\n",
      "fslmaths /cerebro/cerebro1/dataset/bmpd/derivatives/HealthyControls_project//ICA//spinalcord/K_9/comp_bin/zCanICA_22sbj_spinalcord_spinalcord_k_1_C7_bin.nii.gz -mas /cerebro/cerebro1/dataset/bmpd/derivatives/HealthyControls_project//templates/PAM50/atlas_bin/GM_interm_bin.nii.gz /cerebro/cerebro1/dataset/bmpd/derivatives/HealthyControls_project//ICA//spinalcord/K_9/comp_rois/zCanICA_22sbj_spinalcord_spinalcord_k_1_C7_interm_bin.nii.gz # in /cerebro/cerebro1/dataset/bmpd/derivatives/HealthyControls_project/ICA/code\n",
      "fslmaths /cerebro/cerebro1/dataset/bmpd/derivatives/HealthyControls_project//ICA//spinalcord/K_9/comp_bin/zCanICA_22sbj_spinalcord_spinalcord_k_1_C7_bin.nii.gz -mas /cerebro/cerebro1/dataset/bmpd/derivatives/HealthyControls_project//templates/PAM50/atlas_bin/GM_whole_bin.nii.gz /cerebro/cerebro1/dataset/bmpd/derivatives/HealthyControls_project//ICA//spinalcord/K_9/comp_rois/zCanICA_22sbj_spinalcord_spinalcord_k_1_C7_whole_bin.nii.gz # in /cerebro/cerebro1/dataset/bmpd/derivatives/HealthyControls_project/ICA/code\n",
      "fslmaths /cerebro/cerebro1/dataset/bmpd/derivatives/HealthyControls_project//ICA//spinalcord/K_9/comp_bin/zCanICA_22sbj_spinalcord_spinalcord_k_2_C1_bin.nii.gz -mas /cerebro/cerebro1/dataset/bmpd/derivatives/HealthyControls_project//templates/PAM50/atlas_bin/GM_LV_bin.nii.gz /cerebro/cerebro1/dataset/bmpd/derivatives/HealthyControls_project//ICA//spinalcord/K_9/comp_rois/zCanICA_22sbj_spinalcord_spinalcord_k_2_C1_LV_bin.nii.gz # in /cerebro/cerebro1/dataset/bmpd/derivatives/HealthyControls_project/ICA/code\n",
      "fslmaths /cerebro/cerebro1/dataset/bmpd/derivatives/HealthyControls_project//ICA//spinalcord/K_9/comp_bin/zCanICA_22sbj_spinalcord_spinalcord_k_2_C1_bin.nii.gz -mas /cerebro/cerebro1/dataset/bmpd/derivatives/HealthyControls_project//templates/PAM50/atlas_bin/GM_RV_bin.nii.gz /cerebro/cerebro1/dataset/bmpd/derivatives/HealthyControls_project//ICA//spinalcord/K_9/comp_rois/zCanICA_22sbj_spinalcord_spinalcord_k_2_C1_RV_bin.nii.gz # in /cerebro/cerebro1/dataset/bmpd/derivatives/HealthyControls_project/ICA/code\n",
      "fslmaths /cerebro/cerebro1/dataset/bmpd/derivatives/HealthyControls_project//ICA//spinalcord/K_9/comp_bin/zCanICA_22sbj_spinalcord_spinalcord_k_2_C1_bin.nii.gz -mas /cerebro/cerebro1/dataset/bmpd/derivatives/HealthyControls_project//templates/PAM50/atlas_bin/GM_LD_bin.nii.gz /cerebro/cerebro1/dataset/bmpd/derivatives/HealthyControls_project//ICA//spinalcord/K_9/comp_rois/zCanICA_22sbj_spinalcord_spinalcord_k_2_C1_LD_bin.nii.gz # in /cerebro/cerebro1/dataset/bmpd/derivatives/HealthyControls_project/ICA/code\n",
      "fslmaths /cerebro/cerebro1/dataset/bmpd/derivatives/HealthyControls_project//ICA//spinalcord/K_9/comp_bin/zCanICA_22sbj_spinalcord_spinalcord_k_2_C1_bin.nii.gz -mas /cerebro/cerebro1/dataset/bmpd/derivatives/HealthyControls_project//templates/PAM50/atlas_bin/GM_RD_bin.nii.gz /cerebro/cerebro1/dataset/bmpd/derivatives/HealthyControls_project//ICA//spinalcord/K_9/comp_rois/zCanICA_22sbj_spinalcord_spinalcord_k_2_C1_RD_bin.nii.gz # in /cerebro/cerebro1/dataset/bmpd/derivatives/HealthyControls_project/ICA/code\n",
      "fslmaths /cerebro/cerebro1/dataset/bmpd/derivatives/HealthyControls_project//ICA//spinalcord/K_9/comp_bin/zCanICA_22sbj_spinalcord_spinalcord_k_2_C1_bin.nii.gz -mas /cerebro/cerebro1/dataset/bmpd/derivatives/HealthyControls_project//templates/PAM50/atlas_bin/GM_interm_bin.nii.gz /cerebro/cerebro1/dataset/bmpd/derivatives/HealthyControls_project//ICA//spinalcord/K_9/comp_rois/zCanICA_22sbj_spinalcord_spinalcord_k_2_C1_interm_bin.nii.gz # in /cerebro/cerebro1/dataset/bmpd/derivatives/HealthyControls_project/ICA/code\n",
      "fslmaths /cerebro/cerebro1/dataset/bmpd/derivatives/HealthyControls_project//ICA//spinalcord/K_9/comp_bin/zCanICA_22sbj_spinalcord_spinalcord_k_2_C1_bin.nii.gz -mas /cerebro/cerebro1/dataset/bmpd/derivatives/HealthyControls_project//templates/PAM50/atlas_bin/GM_whole_bin.nii.gz /cerebro/cerebro1/dataset/bmpd/derivatives/HealthyControls_project//ICA//spinalcord/K_9/comp_rois/zCanICA_22sbj_spinalcord_spinalcord_k_2_C1_whole_bin.nii.gz # in /cerebro/cerebro1/dataset/bmpd/derivatives/HealthyControls_project/ICA/code\n",
      "fslmaths /cerebro/cerebro1/dataset/bmpd/derivatives/HealthyControls_project//ICA//spinalcord/K_9/comp_bin/zCanICA_22sbj_spinalcord_spinalcord_k_3_C3_bin.nii.gz -mas /cerebro/cerebro1/dataset/bmpd/derivatives/HealthyControls_project//templates/PAM50/atlas_bin/GM_LV_bin.nii.gz /cerebro/cerebro1/dataset/bmpd/derivatives/HealthyControls_project//ICA//spinalcord/K_9/comp_rois/zCanICA_22sbj_spinalcord_spinalcord_k_3_C3_LV_bin.nii.gz # in /cerebro/cerebro1/dataset/bmpd/derivatives/HealthyControls_project/ICA/code\n",
      "fslmaths /cerebro/cerebro1/dataset/bmpd/derivatives/HealthyControls_project//ICA//spinalcord/K_9/comp_bin/zCanICA_22sbj_spinalcord_spinalcord_k_3_C3_bin.nii.gz -mas /cerebro/cerebro1/dataset/bmpd/derivatives/HealthyControls_project//templates/PAM50/atlas_bin/GM_RV_bin.nii.gz /cerebro/cerebro1/dataset/bmpd/derivatives/HealthyControls_project//ICA//spinalcord/K_9/comp_rois/zCanICA_22sbj_spinalcord_spinalcord_k_3_C3_RV_bin.nii.gz # in /cerebro/cerebro1/dataset/bmpd/derivatives/HealthyControls_project/ICA/code\n",
      "fslmaths /cerebro/cerebro1/dataset/bmpd/derivatives/HealthyControls_project//ICA//spinalcord/K_9/comp_bin/zCanICA_22sbj_spinalcord_spinalcord_k_3_C3_bin.nii.gz -mas /cerebro/cerebro1/dataset/bmpd/derivatives/HealthyControls_project//templates/PAM50/atlas_bin/GM_LD_bin.nii.gz /cerebro/cerebro1/dataset/bmpd/derivatives/HealthyControls_project//ICA//spinalcord/K_9/comp_rois/zCanICA_22sbj_spinalcord_spinalcord_k_3_C3_LD_bin.nii.gz # in /cerebro/cerebro1/dataset/bmpd/derivatives/HealthyControls_project/ICA/code\n",
      "fslmaths /cerebro/cerebro1/dataset/bmpd/derivatives/HealthyControls_project//ICA//spinalcord/K_9/comp_bin/zCanICA_22sbj_spinalcord_spinalcord_k_3_C3_bin.nii.gz -mas /cerebro/cerebro1/dataset/bmpd/derivatives/HealthyControls_project//templates/PAM50/atlas_bin/GM_RD_bin.nii.gz /cerebro/cerebro1/dataset/bmpd/derivatives/HealthyControls_project//ICA//spinalcord/K_9/comp_rois/zCanICA_22sbj_spinalcord_spinalcord_k_3_C3_RD_bin.nii.gz # in /cerebro/cerebro1/dataset/bmpd/derivatives/HealthyControls_project/ICA/code\n",
      "fslmaths /cerebro/cerebro1/dataset/bmpd/derivatives/HealthyControls_project//ICA//spinalcord/K_9/comp_bin/zCanICA_22sbj_spinalcord_spinalcord_k_3_C3_bin.nii.gz -mas /cerebro/cerebro1/dataset/bmpd/derivatives/HealthyControls_project//templates/PAM50/atlas_bin/GM_interm_bin.nii.gz /cerebro/cerebro1/dataset/bmpd/derivatives/HealthyControls_project//ICA//spinalcord/K_9/comp_rois/zCanICA_22sbj_spinalcord_spinalcord_k_3_C3_interm_bin.nii.gz # in /cerebro/cerebro1/dataset/bmpd/derivatives/HealthyControls_project/ICA/code\n",
      "fslmaths /cerebro/cerebro1/dataset/bmpd/derivatives/HealthyControls_project//ICA//spinalcord/K_9/comp_bin/zCanICA_22sbj_spinalcord_spinalcord_k_3_C3_bin.nii.gz -mas /cerebro/cerebro1/dataset/bmpd/derivatives/HealthyControls_project//templates/PAM50/atlas_bin/GM_whole_bin.nii.gz /cerebro/cerebro1/dataset/bmpd/derivatives/HealthyControls_project//ICA//spinalcord/K_9/comp_rois/zCanICA_22sbj_spinalcord_spinalcord_k_3_C3_whole_bin.nii.gz # in /cerebro/cerebro1/dataset/bmpd/derivatives/HealthyControls_project/ICA/code\n",
      "fslmaths /cerebro/cerebro1/dataset/bmpd/derivatives/HealthyControls_project//ICA//spinalcord/K_9/comp_bin/zCanICA_22sbj_spinalcord_spinalcord_k_4_C5_bin.nii.gz -mas /cerebro/cerebro1/dataset/bmpd/derivatives/HealthyControls_project//templates/PAM50/atlas_bin/GM_LV_bin.nii.gz /cerebro/cerebro1/dataset/bmpd/derivatives/HealthyControls_project//ICA//spinalcord/K_9/comp_rois/zCanICA_22sbj_spinalcord_spinalcord_k_4_C5_LV_bin.nii.gz # in /cerebro/cerebro1/dataset/bmpd/derivatives/HealthyControls_project/ICA/code\n",
      "fslmaths /cerebro/cerebro1/dataset/bmpd/derivatives/HealthyControls_project//ICA//spinalcord/K_9/comp_bin/zCanICA_22sbj_spinalcord_spinalcord_k_4_C5_bin.nii.gz -mas /cerebro/cerebro1/dataset/bmpd/derivatives/HealthyControls_project//templates/PAM50/atlas_bin/GM_RV_bin.nii.gz /cerebro/cerebro1/dataset/bmpd/derivatives/HealthyControls_project//ICA//spinalcord/K_9/comp_rois/zCanICA_22sbj_spinalcord_spinalcord_k_4_C5_RV_bin.nii.gz # in /cerebro/cerebro1/dataset/bmpd/derivatives/HealthyControls_project/ICA/code\n",
      "fslmaths /cerebro/cerebro1/dataset/bmpd/derivatives/HealthyControls_project//ICA//spinalcord/K_9/comp_bin/zCanICA_22sbj_spinalcord_spinalcord_k_4_C5_bin.nii.gz -mas /cerebro/cerebro1/dataset/bmpd/derivatives/HealthyControls_project//templates/PAM50/atlas_bin/GM_LD_bin.nii.gz /cerebro/cerebro1/dataset/bmpd/derivatives/HealthyControls_project//ICA//spinalcord/K_9/comp_rois/zCanICA_22sbj_spinalcord_spinalcord_k_4_C5_LD_bin.nii.gz # in /cerebro/cerebro1/dataset/bmpd/derivatives/HealthyControls_project/ICA/code\n",
      "fslmaths /cerebro/cerebro1/dataset/bmpd/derivatives/HealthyControls_project//ICA//spinalcord/K_9/comp_bin/zCanICA_22sbj_spinalcord_spinalcord_k_4_C5_bin.nii.gz -mas /cerebro/cerebro1/dataset/bmpd/derivatives/HealthyControls_project//templates/PAM50/atlas_bin/GM_RD_bin.nii.gz /cerebro/cerebro1/dataset/bmpd/derivatives/HealthyControls_project//ICA//spinalcord/K_9/comp_rois/zCanICA_22sbj_spinalcord_spinalcord_k_4_C5_RD_bin.nii.gz # in /cerebro/cerebro1/dataset/bmpd/derivatives/HealthyControls_project/ICA/code\n",
      "fslmaths /cerebro/cerebro1/dataset/bmpd/derivatives/HealthyControls_project//ICA//spinalcord/K_9/comp_bin/zCanICA_22sbj_spinalcord_spinalcord_k_4_C5_bin.nii.gz -mas /cerebro/cerebro1/dataset/bmpd/derivatives/HealthyControls_project//templates/PAM50/atlas_bin/GM_interm_bin.nii.gz /cerebro/cerebro1/dataset/bmpd/derivatives/HealthyControls_project//ICA//spinalcord/K_9/comp_rois/zCanICA_22sbj_spinalcord_spinalcord_k_4_C5_interm_bin.nii.gz # in /cerebro/cerebro1/dataset/bmpd/derivatives/HealthyControls_project/ICA/code\n",
      "fslmaths /cerebro/cerebro1/dataset/bmpd/derivatives/HealthyControls_project//ICA//spinalcord/K_9/comp_bin/zCanICA_22sbj_spinalcord_spinalcord_k_4_C5_bin.nii.gz -mas /cerebro/cerebro1/dataset/bmpd/derivatives/HealthyControls_project//templates/PAM50/atlas_bin/GM_whole_bin.nii.gz /cerebro/cerebro1/dataset/bmpd/derivatives/HealthyControls_project//ICA//spinalcord/K_9/comp_rois/zCanICA_22sbj_spinalcord_spinalcord_k_4_C5_whole_bin.nii.gz # in /cerebro/cerebro1/dataset/bmpd/derivatives/HealthyControls_project/ICA/code\n",
      "fslmaths /cerebro/cerebro1/dataset/bmpd/derivatives/HealthyControls_project//ICA//spinalcord/K_9/comp_bin/zCanICA_22sbj_spinalcord_spinalcord_k_5_C8_bin.nii.gz -mas /cerebro/cerebro1/dataset/bmpd/derivatives/HealthyControls_project//templates/PAM50/atlas_bin/GM_LV_bin.nii.gz /cerebro/cerebro1/dataset/bmpd/derivatives/HealthyControls_project//ICA//spinalcord/K_9/comp_rois/zCanICA_22sbj_spinalcord_spinalcord_k_5_C8_LV_bin.nii.gz # in /cerebro/cerebro1/dataset/bmpd/derivatives/HealthyControls_project/ICA/code\n",
      "fslmaths /cerebro/cerebro1/dataset/bmpd/derivatives/HealthyControls_project//ICA//spinalcord/K_9/comp_bin/zCanICA_22sbj_spinalcord_spinalcord_k_5_C8_bin.nii.gz -mas /cerebro/cerebro1/dataset/bmpd/derivatives/HealthyControls_project//templates/PAM50/atlas_bin/GM_RV_bin.nii.gz /cerebro/cerebro1/dataset/bmpd/derivatives/HealthyControls_project//ICA//spinalcord/K_9/comp_rois/zCanICA_22sbj_spinalcord_spinalcord_k_5_C8_RV_bin.nii.gz # in /cerebro/cerebro1/dataset/bmpd/derivatives/HealthyControls_project/ICA/code\n",
      "fslmaths /cerebro/cerebro1/dataset/bmpd/derivatives/HealthyControls_project//ICA//spinalcord/K_9/comp_bin/zCanICA_22sbj_spinalcord_spinalcord_k_5_C8_bin.nii.gz -mas /cerebro/cerebro1/dataset/bmpd/derivatives/HealthyControls_project//templates/PAM50/atlas_bin/GM_LD_bin.nii.gz /cerebro/cerebro1/dataset/bmpd/derivatives/HealthyControls_project//ICA//spinalcord/K_9/comp_rois/zCanICA_22sbj_spinalcord_spinalcord_k_5_C8_LD_bin.nii.gz # in /cerebro/cerebro1/dataset/bmpd/derivatives/HealthyControls_project/ICA/code\n",
      "fslmaths /cerebro/cerebro1/dataset/bmpd/derivatives/HealthyControls_project//ICA//spinalcord/K_9/comp_bin/zCanICA_22sbj_spinalcord_spinalcord_k_5_C8_bin.nii.gz -mas /cerebro/cerebro1/dataset/bmpd/derivatives/HealthyControls_project//templates/PAM50/atlas_bin/GM_RD_bin.nii.gz /cerebro/cerebro1/dataset/bmpd/derivatives/HealthyControls_project//ICA//spinalcord/K_9/comp_rois/zCanICA_22sbj_spinalcord_spinalcord_k_5_C8_RD_bin.nii.gz # in /cerebro/cerebro1/dataset/bmpd/derivatives/HealthyControls_project/ICA/code\n",
      "fslmaths /cerebro/cerebro1/dataset/bmpd/derivatives/HealthyControls_project//ICA//spinalcord/K_9/comp_bin/zCanICA_22sbj_spinalcord_spinalcord_k_5_C8_bin.nii.gz -mas /cerebro/cerebro1/dataset/bmpd/derivatives/HealthyControls_project//templates/PAM50/atlas_bin/GM_interm_bin.nii.gz /cerebro/cerebro1/dataset/bmpd/derivatives/HealthyControls_project//ICA//spinalcord/K_9/comp_rois/zCanICA_22sbj_spinalcord_spinalcord_k_5_C8_interm_bin.nii.gz # in /cerebro/cerebro1/dataset/bmpd/derivatives/HealthyControls_project/ICA/code\n",
      "fslmaths /cerebro/cerebro1/dataset/bmpd/derivatives/HealthyControls_project//ICA//spinalcord/K_9/comp_bin/zCanICA_22sbj_spinalcord_spinalcord_k_5_C8_bin.nii.gz -mas /cerebro/cerebro1/dataset/bmpd/derivatives/HealthyControls_project//templates/PAM50/atlas_bin/GM_whole_bin.nii.gz /cerebro/cerebro1/dataset/bmpd/derivatives/HealthyControls_project//ICA//spinalcord/K_9/comp_rois/zCanICA_22sbj_spinalcord_spinalcord_k_5_C8_whole_bin.nii.gz # in /cerebro/cerebro1/dataset/bmpd/derivatives/HealthyControls_project/ICA/code\n",
      "fslmaths /cerebro/cerebro1/dataset/bmpd/derivatives/HealthyControls_project//ICA//spinalcord/K_9/comp_bin/zCanICA_22sbj_spinalcord_spinalcord_k_6_C4_bin.nii.gz -mas /cerebro/cerebro1/dataset/bmpd/derivatives/HealthyControls_project//templates/PAM50/atlas_bin/GM_LV_bin.nii.gz /cerebro/cerebro1/dataset/bmpd/derivatives/HealthyControls_project//ICA//spinalcord/K_9/comp_rois/zCanICA_22sbj_spinalcord_spinalcord_k_6_C4_LV_bin.nii.gz # in /cerebro/cerebro1/dataset/bmpd/derivatives/HealthyControls_project/ICA/code\n",
      "fslmaths /cerebro/cerebro1/dataset/bmpd/derivatives/HealthyControls_project//ICA//spinalcord/K_9/comp_bin/zCanICA_22sbj_spinalcord_spinalcord_k_6_C4_bin.nii.gz -mas /cerebro/cerebro1/dataset/bmpd/derivatives/HealthyControls_project//templates/PAM50/atlas_bin/GM_RV_bin.nii.gz /cerebro/cerebro1/dataset/bmpd/derivatives/HealthyControls_project//ICA//spinalcord/K_9/comp_rois/zCanICA_22sbj_spinalcord_spinalcord_k_6_C4_RV_bin.nii.gz # in /cerebro/cerebro1/dataset/bmpd/derivatives/HealthyControls_project/ICA/code\n",
      "fslmaths /cerebro/cerebro1/dataset/bmpd/derivatives/HealthyControls_project//ICA//spinalcord/K_9/comp_bin/zCanICA_22sbj_spinalcord_spinalcord_k_6_C4_bin.nii.gz -mas /cerebro/cerebro1/dataset/bmpd/derivatives/HealthyControls_project//templates/PAM50/atlas_bin/GM_LD_bin.nii.gz /cerebro/cerebro1/dataset/bmpd/derivatives/HealthyControls_project//ICA//spinalcord/K_9/comp_rois/zCanICA_22sbj_spinalcord_spinalcord_k_6_C4_LD_bin.nii.gz # in /cerebro/cerebro1/dataset/bmpd/derivatives/HealthyControls_project/ICA/code\n",
      "fslmaths /cerebro/cerebro1/dataset/bmpd/derivatives/HealthyControls_project//ICA//spinalcord/K_9/comp_bin/zCanICA_22sbj_spinalcord_spinalcord_k_6_C4_bin.nii.gz -mas /cerebro/cerebro1/dataset/bmpd/derivatives/HealthyControls_project//templates/PAM50/atlas_bin/GM_RD_bin.nii.gz /cerebro/cerebro1/dataset/bmpd/derivatives/HealthyControls_project//ICA//spinalcord/K_9/comp_rois/zCanICA_22sbj_spinalcord_spinalcord_k_6_C4_RD_bin.nii.gz # in /cerebro/cerebro1/dataset/bmpd/derivatives/HealthyControls_project/ICA/code\n",
      "fslmaths /cerebro/cerebro1/dataset/bmpd/derivatives/HealthyControls_project//ICA//spinalcord/K_9/comp_bin/zCanICA_22sbj_spinalcord_spinalcord_k_6_C4_bin.nii.gz -mas /cerebro/cerebro1/dataset/bmpd/derivatives/HealthyControls_project//templates/PAM50/atlas_bin/GM_interm_bin.nii.gz /cerebro/cerebro1/dataset/bmpd/derivatives/HealthyControls_project//ICA//spinalcord/K_9/comp_rois/zCanICA_22sbj_spinalcord_spinalcord_k_6_C4_interm_bin.nii.gz # in /cerebro/cerebro1/dataset/bmpd/derivatives/HealthyControls_project/ICA/code\n",
      "fslmaths /cerebro/cerebro1/dataset/bmpd/derivatives/HealthyControls_project//ICA//spinalcord/K_9/comp_bin/zCanICA_22sbj_spinalcord_spinalcord_k_6_C4_bin.nii.gz -mas /cerebro/cerebro1/dataset/bmpd/derivatives/HealthyControls_project//templates/PAM50/atlas_bin/GM_whole_bin.nii.gz /cerebro/cerebro1/dataset/bmpd/derivatives/HealthyControls_project//ICA//spinalcord/K_9/comp_rois/zCanICA_22sbj_spinalcord_spinalcord_k_6_C4_whole_bin.nii.gz # in /cerebro/cerebro1/dataset/bmpd/derivatives/HealthyControls_project/ICA/code\n",
      "fslmaths /cerebro/cerebro1/dataset/bmpd/derivatives/HealthyControls_project//ICA//spinalcord/K_9/comp_bin/zCanICA_22sbj_spinalcord_spinalcord_k_7_C2_bin.nii.gz -mas /cerebro/cerebro1/dataset/bmpd/derivatives/HealthyControls_project//templates/PAM50/atlas_bin/GM_LV_bin.nii.gz /cerebro/cerebro1/dataset/bmpd/derivatives/HealthyControls_project//ICA//spinalcord/K_9/comp_rois/zCanICA_22sbj_spinalcord_spinalcord_k_7_C2_LV_bin.nii.gz # in /cerebro/cerebro1/dataset/bmpd/derivatives/HealthyControls_project/ICA/code\n",
      "fslmaths /cerebro/cerebro1/dataset/bmpd/derivatives/HealthyControls_project//ICA//spinalcord/K_9/comp_bin/zCanICA_22sbj_spinalcord_spinalcord_k_7_C2_bin.nii.gz -mas /cerebro/cerebro1/dataset/bmpd/derivatives/HealthyControls_project//templates/PAM50/atlas_bin/GM_RV_bin.nii.gz /cerebro/cerebro1/dataset/bmpd/derivatives/HealthyControls_project//ICA//spinalcord/K_9/comp_rois/zCanICA_22sbj_spinalcord_spinalcord_k_7_C2_RV_bin.nii.gz # in /cerebro/cerebro1/dataset/bmpd/derivatives/HealthyControls_project/ICA/code\n",
      "fslmaths /cerebro/cerebro1/dataset/bmpd/derivatives/HealthyControls_project//ICA//spinalcord/K_9/comp_bin/zCanICA_22sbj_spinalcord_spinalcord_k_7_C2_bin.nii.gz -mas /cerebro/cerebro1/dataset/bmpd/derivatives/HealthyControls_project//templates/PAM50/atlas_bin/GM_LD_bin.nii.gz /cerebro/cerebro1/dataset/bmpd/derivatives/HealthyControls_project//ICA//spinalcord/K_9/comp_rois/zCanICA_22sbj_spinalcord_spinalcord_k_7_C2_LD_bin.nii.gz # in /cerebro/cerebro1/dataset/bmpd/derivatives/HealthyControls_project/ICA/code\n",
      "fslmaths /cerebro/cerebro1/dataset/bmpd/derivatives/HealthyControls_project//ICA//spinalcord/K_9/comp_bin/zCanICA_22sbj_spinalcord_spinalcord_k_7_C2_bin.nii.gz -mas /cerebro/cerebro1/dataset/bmpd/derivatives/HealthyControls_project//templates/PAM50/atlas_bin/GM_RD_bin.nii.gz /cerebro/cerebro1/dataset/bmpd/derivatives/HealthyControls_project//ICA//spinalcord/K_9/comp_rois/zCanICA_22sbj_spinalcord_spinalcord_k_7_C2_RD_bin.nii.gz # in /cerebro/cerebro1/dataset/bmpd/derivatives/HealthyControls_project/ICA/code\n",
      "fslmaths /cerebro/cerebro1/dataset/bmpd/derivatives/HealthyControls_project//ICA//spinalcord/K_9/comp_bin/zCanICA_22sbj_spinalcord_spinalcord_k_7_C2_bin.nii.gz -mas /cerebro/cerebro1/dataset/bmpd/derivatives/HealthyControls_project//templates/PAM50/atlas_bin/GM_interm_bin.nii.gz /cerebro/cerebro1/dataset/bmpd/derivatives/HealthyControls_project//ICA//spinalcord/K_9/comp_rois/zCanICA_22sbj_spinalcord_spinalcord_k_7_C2_interm_bin.nii.gz # in /cerebro/cerebro1/dataset/bmpd/derivatives/HealthyControls_project/ICA/code\n",
      "fslmaths /cerebro/cerebro1/dataset/bmpd/derivatives/HealthyControls_project//ICA//spinalcord/K_9/comp_bin/zCanICA_22sbj_spinalcord_spinalcord_k_7_C2_bin.nii.gz -mas /cerebro/cerebro1/dataset/bmpd/derivatives/HealthyControls_project//templates/PAM50/atlas_bin/GM_whole_bin.nii.gz /cerebro/cerebro1/dataset/bmpd/derivatives/HealthyControls_project//ICA//spinalcord/K_9/comp_rois/zCanICA_22sbj_spinalcord_spinalcord_k_7_C2_whole_bin.nii.gz # in /cerebro/cerebro1/dataset/bmpd/derivatives/HealthyControls_project/ICA/code\n",
      "fslmaths /cerebro/cerebro1/dataset/bmpd/derivatives/HealthyControls_project//ICA//spinalcord/K_9/comp_bin/zCanICA_22sbj_spinalcord_spinalcord_k_8_C6_bin.nii.gz -mas /cerebro/cerebro1/dataset/bmpd/derivatives/HealthyControls_project//templates/PAM50/atlas_bin/GM_LV_bin.nii.gz /cerebro/cerebro1/dataset/bmpd/derivatives/HealthyControls_project//ICA//spinalcord/K_9/comp_rois/zCanICA_22sbj_spinalcord_spinalcord_k_8_C6_LV_bin.nii.gz # in /cerebro/cerebro1/dataset/bmpd/derivatives/HealthyControls_project/ICA/code\n",
      "fslmaths /cerebro/cerebro1/dataset/bmpd/derivatives/HealthyControls_project//ICA//spinalcord/K_9/comp_bin/zCanICA_22sbj_spinalcord_spinalcord_k_8_C6_bin.nii.gz -mas /cerebro/cerebro1/dataset/bmpd/derivatives/HealthyControls_project//templates/PAM50/atlas_bin/GM_RV_bin.nii.gz /cerebro/cerebro1/dataset/bmpd/derivatives/HealthyControls_project//ICA//spinalcord/K_9/comp_rois/zCanICA_22sbj_spinalcord_spinalcord_k_8_C6_RV_bin.nii.gz # in /cerebro/cerebro1/dataset/bmpd/derivatives/HealthyControls_project/ICA/code\n",
      "fslmaths /cerebro/cerebro1/dataset/bmpd/derivatives/HealthyControls_project//ICA//spinalcord/K_9/comp_bin/zCanICA_22sbj_spinalcord_spinalcord_k_8_C6_bin.nii.gz -mas /cerebro/cerebro1/dataset/bmpd/derivatives/HealthyControls_project//templates/PAM50/atlas_bin/GM_LD_bin.nii.gz /cerebro/cerebro1/dataset/bmpd/derivatives/HealthyControls_project//ICA//spinalcord/K_9/comp_rois/zCanICA_22sbj_spinalcord_spinalcord_k_8_C6_LD_bin.nii.gz # in /cerebro/cerebro1/dataset/bmpd/derivatives/HealthyControls_project/ICA/code\n",
      "fslmaths /cerebro/cerebro1/dataset/bmpd/derivatives/HealthyControls_project//ICA//spinalcord/K_9/comp_bin/zCanICA_22sbj_spinalcord_spinalcord_k_8_C6_bin.nii.gz -mas /cerebro/cerebro1/dataset/bmpd/derivatives/HealthyControls_project//templates/PAM50/atlas_bin/GM_RD_bin.nii.gz /cerebro/cerebro1/dataset/bmpd/derivatives/HealthyControls_project//ICA//spinalcord/K_9/comp_rois/zCanICA_22sbj_spinalcord_spinalcord_k_8_C6_RD_bin.nii.gz # in /cerebro/cerebro1/dataset/bmpd/derivatives/HealthyControls_project/ICA/code\n",
      "fslmaths /cerebro/cerebro1/dataset/bmpd/derivatives/HealthyControls_project//ICA//spinalcord/K_9/comp_bin/zCanICA_22sbj_spinalcord_spinalcord_k_8_C6_bin.nii.gz -mas /cerebro/cerebro1/dataset/bmpd/derivatives/HealthyControls_project//templates/PAM50/atlas_bin/GM_interm_bin.nii.gz /cerebro/cerebro1/dataset/bmpd/derivatives/HealthyControls_project//ICA//spinalcord/K_9/comp_rois/zCanICA_22sbj_spinalcord_spinalcord_k_8_C6_interm_bin.nii.gz # in /cerebro/cerebro1/dataset/bmpd/derivatives/HealthyControls_project/ICA/code\n",
      "fslmaths /cerebro/cerebro1/dataset/bmpd/derivatives/HealthyControls_project//ICA//spinalcord/K_9/comp_bin/zCanICA_22sbj_spinalcord_spinalcord_k_8_C6_bin.nii.gz -mas /cerebro/cerebro1/dataset/bmpd/derivatives/HealthyControls_project//templates/PAM50/atlas_bin/GM_whole_bin.nii.gz /cerebro/cerebro1/dataset/bmpd/derivatives/HealthyControls_project//ICA//spinalcord/K_9/comp_rois/zCanICA_22sbj_spinalcord_spinalcord_k_8_C6_whole_bin.nii.gz # in /cerebro/cerebro1/dataset/bmpd/derivatives/HealthyControls_project/ICA/code\n",
      "fslmaths /cerebro/cerebro1/dataset/bmpd/derivatives/HealthyControls_project//ICA//spinalcord/K_9/comp_bin/zCanICA_22sbj_spinalcord_spinalcord_k_9_C9_bin.nii.gz -mas /cerebro/cerebro1/dataset/bmpd/derivatives/HealthyControls_project//templates/PAM50/atlas_bin/GM_LV_bin.nii.gz /cerebro/cerebro1/dataset/bmpd/derivatives/HealthyControls_project//ICA//spinalcord/K_9/comp_rois/zCanICA_22sbj_spinalcord_spinalcord_k_9_C9_LV_bin.nii.gz # in /cerebro/cerebro1/dataset/bmpd/derivatives/HealthyControls_project/ICA/code\n",
      "fslmaths /cerebro/cerebro1/dataset/bmpd/derivatives/HealthyControls_project//ICA//spinalcord/K_9/comp_bin/zCanICA_22sbj_spinalcord_spinalcord_k_9_C9_bin.nii.gz -mas /cerebro/cerebro1/dataset/bmpd/derivatives/HealthyControls_project//templates/PAM50/atlas_bin/GM_RV_bin.nii.gz /cerebro/cerebro1/dataset/bmpd/derivatives/HealthyControls_project//ICA//spinalcord/K_9/comp_rois/zCanICA_22sbj_spinalcord_spinalcord_k_9_C9_RV_bin.nii.gz # in /cerebro/cerebro1/dataset/bmpd/derivatives/HealthyControls_project/ICA/code\n",
      "fslmaths /cerebro/cerebro1/dataset/bmpd/derivatives/HealthyControls_project//ICA//spinalcord/K_9/comp_bin/zCanICA_22sbj_spinalcord_spinalcord_k_9_C9_bin.nii.gz -mas /cerebro/cerebro1/dataset/bmpd/derivatives/HealthyControls_project//templates/PAM50/atlas_bin/GM_LD_bin.nii.gz /cerebro/cerebro1/dataset/bmpd/derivatives/HealthyControls_project//ICA//spinalcord/K_9/comp_rois/zCanICA_22sbj_spinalcord_spinalcord_k_9_C9_LD_bin.nii.gz # in /cerebro/cerebro1/dataset/bmpd/derivatives/HealthyControls_project/ICA/code\n",
      "fslmaths /cerebro/cerebro1/dataset/bmpd/derivatives/HealthyControls_project//ICA//spinalcord/K_9/comp_bin/zCanICA_22sbj_spinalcord_spinalcord_k_9_C9_bin.nii.gz -mas /cerebro/cerebro1/dataset/bmpd/derivatives/HealthyControls_project//templates/PAM50/atlas_bin/GM_RD_bin.nii.gz /cerebro/cerebro1/dataset/bmpd/derivatives/HealthyControls_project//ICA//spinalcord/K_9/comp_rois/zCanICA_22sbj_spinalcord_spinalcord_k_9_C9_RD_bin.nii.gz # in /cerebro/cerebro1/dataset/bmpd/derivatives/HealthyControls_project/ICA/code\n",
      "fslmaths /cerebro/cerebro1/dataset/bmpd/derivatives/HealthyControls_project//ICA//spinalcord/K_9/comp_bin/zCanICA_22sbj_spinalcord_spinalcord_k_9_C9_bin.nii.gz -mas /cerebro/cerebro1/dataset/bmpd/derivatives/HealthyControls_project//templates/PAM50/atlas_bin/GM_interm_bin.nii.gz /cerebro/cerebro1/dataset/bmpd/derivatives/HealthyControls_project//ICA//spinalcord/K_9/comp_rois/zCanICA_22sbj_spinalcord_spinalcord_k_9_C9_interm_bin.nii.gz # in /cerebro/cerebro1/dataset/bmpd/derivatives/HealthyControls_project/ICA/code\n",
      "fslmaths /cerebro/cerebro1/dataset/bmpd/derivatives/HealthyControls_project//ICA//spinalcord/K_9/comp_bin/zCanICA_22sbj_spinalcord_spinalcord_k_9_C9_bin.nii.gz -mas /cerebro/cerebro1/dataset/bmpd/derivatives/HealthyControls_project//templates/PAM50/atlas_bin/GM_whole_bin.nii.gz /cerebro/cerebro1/dataset/bmpd/derivatives/HealthyControls_project//ICA//spinalcord/K_9/comp_rois/zCanICA_22sbj_spinalcord_spinalcord_k_9_C9_whole_bin.nii.gz # in /cerebro/cerebro1/dataset/bmpd/derivatives/HealthyControls_project/ICA/code\n"
     ]
    }
   ],
   "source": [
    "quadrants=['LV','RV','LD','RD','interm','whole']\n",
    "quadrants_files={'LV': config[\"main_dir\"]+\"/templates/PAM50/atlas_bin/GM_LV_bin.nii.gz\", # GM left ventral horn\n",
    "                'RV': config[\"main_dir\"]+\"/templates/PAM50/atlas_bin/GM_RV_bin.nii.gz\",# GM righ ventral horn\n",
    "                'LD': config[\"main_dir\"]+\"/templates/PAM50/atlas_bin/GM_LD_bin.nii.gz\",  # GM left dorsal horn\n",
    "                'RD': config[\"main_dir\"]+\"/templates/PAM50/atlas_bin/GM_RD_bin.nii.gz\",#  GM righ dorsal horn\n",
    "                'interm': config[\"main_dir\"]+\"/templates/PAM50/atlas_bin/GM_interm_bin.nii.gz\", #GM left and right intermediate zone\n",
    "                'whole': config[\"main_dir\"]+\"/templates/PAM50/atlas_bin/GM_whole_bin.nii.gz\"}\n",
    "\n",
    "\n",
    "for K in range(9,10):\n",
    "    input_dir=config[\"main_dir\"]+config[\"ica_root\"]+ '/'+structure +'/K_'+ str(K) + '/comp_bin/'\n",
    "    output_dir=config[\"main_dir\"]+config[\"ica_root\"]+ '/'+structure +'/K_'+ str(K) + '/comp_rois/'\n",
    "    for k in range(len(sorted(glob.glob(input_dir + '*_k_*')))):\n",
    "        for quadrant in quadrants:\n",
    "            input_image=sorted(glob.glob(input_dir + '*_k_*'))[k]\n",
    "            output_image=output_dir+os.path.basename(input_image).split('_bin.')[0]+'_'+quadrant+'_bin.nii.gz'\n",
    "            run_proc('fslmaths {} -mas {} {}'.format(input_image,quadrants_files[quadrant],output_image)) # thre and binarize the image"
   ]
  },
  {
   "cell_type": "code",
   "execution_count": null,
   "metadata": {},
   "outputs": [],
   "source": []
  }
 ],
 "metadata": {
  "kernelspec": {
   "display_name": "Python 3",
   "language": "python",
   "name": "python3"
  },
  "language_info": {
   "codemirror_mode": {
    "name": "ipython",
    "version": 3
   },
   "file_extension": ".py",
   "mimetype": "text/x-python",
   "name": "python",
   "nbconvert_exporter": "python",
   "pygments_lexer": "ipython3",
   "version": "3.6.9"
  }
 },
 "nbformat": 4,
 "nbformat_minor": 4
}
