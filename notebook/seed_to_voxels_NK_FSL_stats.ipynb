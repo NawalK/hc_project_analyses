{
 "cells": [
  {
   "cell_type": "markdown",
   "id": "af18d097",
   "metadata": {},
   "source": [
    "## <font color=009DD2> <span style=\"background-color: #A9C4C0\"> Imports"
   ]
  },
  {
   "cell_type": "code",
   "execution_count": 1,
   "id": "75af82ae",
   "metadata": {},
   "outputs": [],
   "source": [
    "import sys,json\n",
    "import glob, os\n",
    "sys.path.append('/media/miplab-nas2/Data3/BMPD/hc_project/analysis/code/')\n",
    "\n",
    "from seed_to_voxels import Seed2voxels\n",
    "\n",
    "%matplotlib inline\n",
    "%load_ext autoreload\n",
    "%autoreload 2"
   ]
  },
  {
   "cell_type": "markdown",
   "id": "e72a9ea2",
   "metadata": {},
   "source": [
    "## <font color=009DD2> <span style=\"background-color: #A9C4C0\"> Initialization"
   ]
  },
  {
   "cell_type": "code",
   "execution_count": 22,
   "id": "a2ad247f",
   "metadata": {},
   "outputs": [],
   "source": [
    "with open('../config/config_NK.json') as config_file:\n",
    "    config = json.load(config_file) # load config file\n",
    "\n",
    "# Parameters (maybe we should move them to config?)\n",
    "signal='raw'\n",
    "\n",
    "level_names = ['C1','C2','C3','C4','C5','C6','C7']\n",
    "quadrant_names = ['LD','RD','LV','RV']\n",
    "\n",
    "seed_names = []\n",
    "for lvl in level_names:\n",
    "    for qd in quadrant_names:\n",
    "        seed_names.append(lvl + '-' + qd)\n",
    "\n",
    "seed_structure = 'spinalcord'\n",
    "target_structure = 'brain' # Define structure to use as target (brain or spinal cord)\n",
    "seed_folder = '/ica_based_quadrants/' # Name of folder containing seed tcs, etc.\n",
    "data_dir = config['main_dir'] + config['seed2vox_dir'] + seed_folder \n",
    "stats_templates_dir = config['main_dir'] + config['seed2vox_dir'] + '_stats_templates/'\n",
    "mask_target=config['main_dir'] + config['masks'][target_structure]"
   ]
  },
  {
   "cell_type": "markdown",
   "id": "dfdf6f62",
   "metadata": {},
   "source": [
    "## <font color=009DD2> <span style=\"background-color: #A9C4C0\"> Statistics"
   ]
  },
  {
   "cell_type": "markdown",
   "id": "a129b81b",
   "metadata": {},
   "source": [
    "### <font color=009DD2> I. FC for all quadrants / Per level </font>"
   ]
  },
  {
   "cell_type": "code",
   "execution_count": 28,
   "id": "2a2faf4d",
   "metadata": {},
   "outputs": [
    {
     "name": "stdout",
     "output_type": "stream",
     "text": [
      "Log directory is: /media/miplab-nas2/Data3/BMPD/hc_project//seed_to_voxels//ica_based_quadrants/spinalcord_C1-LD_RD_LV_RV/22subjects_concat_LD_RD_LV_RV.nii.gz++\n",
      "Setting up:\n",
      "ntptsing=88.000000 \n",
      "\n",
      "evs_group=1.000000 \n",
      "1.000000 \n",
      "1.000000 \n",
      "1.000000 \n",
      "1.000000 \n",
      "1.000000 \n",
      "1.000000 \n",
      "1.000000 \n",
      "1.000000 \n",
      "1.000000 \n",
      "1.000000 \n",
      "1.000000 \n",
      "1.000000 \n",
      "1.000000 \n",
      "1.000000 \n",
      "1.000000 \n",
      "1.000000 \n",
      "1.000000 \n",
      "1.000000 \n",
      "1.000000 \n",
      "1.000000 \n",
      "1.000000 \n",
      "\n",
      "No f contrasts\n",
      "nevs=22\n",
      "ntpts=88\n",
      "ngs=1\n",
      "nvoxels=44238\n",
      "Running:\n",
      "Fixed effects requires lower level variance, this must be passed in when doing fixed effects using the --varcope option.\n"
     ]
    },
    {
     "name": "stderr",
     "output_type": "stream",
     "text": [
      "\n",
      "Fixed effects requires lower level variance, this must be passed in when doing fixed effects using the --varcope option.\n"
     ]
    },
    {
     "name": "stdout",
     "output_type": "stream",
     "text": [
      "Log directory is: /media/miplab-nas2/Data3/BMPD/hc_project//seed_to_voxels//ica_based_quadrants/spinalcord_C2-LD_RD_LV_RV/22subjects_concat_LD_RD_LV_RV.nii.gz++\n",
      "Setting up:\n",
      "ntptsing=88.000000 \n",
      "\n",
      "evs_group=1.000000 \n",
      "1.000000 \n",
      "1.000000 \n",
      "1.000000 \n",
      "1.000000 \n",
      "1.000000 \n",
      "1.000000 \n",
      "1.000000 \n",
      "1.000000 \n",
      "1.000000 \n",
      "1.000000 \n",
      "1.000000 \n",
      "1.000000 \n",
      "1.000000 \n",
      "1.000000 \n",
      "1.000000 \n",
      "1.000000 \n",
      "1.000000 \n",
      "1.000000 \n",
      "1.000000 \n",
      "1.000000 \n",
      "1.000000 \n",
      "\n",
      "No f contrasts\n",
      "nevs=22\n",
      "ntpts=88\n",
      "ngs=1\n",
      "nvoxels=44238\n",
      "Running:\n",
      "Fixed effects requires lower level variance, this must be passed in when doing fixed effects using the --varcope option.\n"
     ]
    },
    {
     "name": "stderr",
     "output_type": "stream",
     "text": [
      "\n",
      "Fixed effects requires lower level variance, this must be passed in when doing fixed effects using the --varcope option.\n"
     ]
    },
    {
     "name": "stdout",
     "output_type": "stream",
     "text": [
      "Log directory is: /media/miplab-nas2/Data3/BMPD/hc_project//seed_to_voxels//ica_based_quadrants/spinalcord_C3-LD_RD_LV_RV/22subjects_concat_LD_RD_LV_RV.nii.gz++\n",
      "Setting up:\n",
      "ntptsing=88.000000 \n",
      "\n",
      "evs_group=1.000000 \n",
      "1.000000 \n",
      "1.000000 \n",
      "1.000000 \n",
      "1.000000 \n",
      "1.000000 \n",
      "1.000000 \n",
      "1.000000 \n",
      "1.000000 \n",
      "1.000000 \n",
      "1.000000 \n",
      "1.000000 \n",
      "1.000000 \n",
      "1.000000 \n",
      "1.000000 \n",
      "1.000000 \n",
      "1.000000 \n",
      "1.000000 \n",
      "1.000000 \n",
      "1.000000 \n",
      "1.000000 \n",
      "1.000000 \n",
      "\n",
      "No f contrasts\n",
      "nevs=22\n",
      "ntpts=88\n",
      "ngs=1\n",
      "nvoxels=44238\n",
      "Running:\n",
      "Fixed effects requires lower level variance, this must be passed in when doing fixed effects using the --varcope option.\n"
     ]
    },
    {
     "name": "stderr",
     "output_type": "stream",
     "text": [
      "\n",
      "Fixed effects requires lower level variance, this must be passed in when doing fixed effects using the --varcope option.\n"
     ]
    },
    {
     "name": "stdout",
     "output_type": "stream",
     "text": [
      "Log directory is: /media/miplab-nas2/Data3/BMPD/hc_project//seed_to_voxels//ica_based_quadrants/spinalcord_C4-LD_RD_LV_RV/22subjects_concat_LD_RD_LV_RV.nii.gz++\n",
      "Setting up:\n",
      "ntptsing=88.000000 \n",
      "\n",
      "evs_group=1.000000 \n",
      "1.000000 \n",
      "1.000000 \n",
      "1.000000 \n",
      "1.000000 \n",
      "1.000000 \n",
      "1.000000 \n",
      "1.000000 \n",
      "1.000000 \n",
      "1.000000 \n",
      "1.000000 \n",
      "1.000000 \n",
      "1.000000 \n",
      "1.000000 \n",
      "1.000000 \n",
      "1.000000 \n",
      "1.000000 \n",
      "1.000000 \n",
      "1.000000 \n",
      "1.000000 \n",
      "1.000000 \n",
      "1.000000 \n",
      "\n",
      "No f contrasts\n",
      "nevs=22\n",
      "ntpts=88\n",
      "ngs=1\n",
      "nvoxels=44238\n",
      "Running:\n",
      "Fixed effects requires lower level variance, this must be passed in when doing fixed effects using the --varcope option.\n"
     ]
    },
    {
     "name": "stderr",
     "output_type": "stream",
     "text": [
      "\n",
      "Fixed effects requires lower level variance, this must be passed in when doing fixed effects using the --varcope option.\n"
     ]
    },
    {
     "name": "stdout",
     "output_type": "stream",
     "text": [
      "Log directory is: /media/miplab-nas2/Data3/BMPD/hc_project//seed_to_voxels//ica_based_quadrants/spinalcord_C5-LD_RD_LV_RV/22subjects_concat_LD_RD_LV_RV.nii.gz++\n",
      "Setting up:\n",
      "ntptsing=88.000000 \n",
      "\n",
      "evs_group=1.000000 \n",
      "1.000000 \n",
      "1.000000 \n",
      "1.000000 \n",
      "1.000000 \n",
      "1.000000 \n",
      "1.000000 \n",
      "1.000000 \n",
      "1.000000 \n",
      "1.000000 \n",
      "1.000000 \n",
      "1.000000 \n",
      "1.000000 \n",
      "1.000000 \n",
      "1.000000 \n",
      "1.000000 \n",
      "1.000000 \n",
      "1.000000 \n",
      "1.000000 \n",
      "1.000000 \n",
      "1.000000 \n",
      "1.000000 \n",
      "\n",
      "No f contrasts\n",
      "nevs=22\n",
      "ntpts=88\n",
      "ngs=1\n",
      "nvoxels=44238\n",
      "Running:\n",
      "Fixed effects requires lower level variance, this must be passed in when doing fixed effects using the --varcope option.\n",
      "Log directory is: /media/miplab-nas2/Data3/BMPD/hc_project//seed_to_voxels//ica_based_quadrants/spinalcord_C6-LD_RD_LV_RV/22subjects_concat_LD_RD_LV_RV.nii.gz++\n",
      "Setting up:\n"
     ]
    },
    {
     "name": "stderr",
     "output_type": "stream",
     "text": [
      "\n",
      "Fixed effects requires lower level variance, this must be passed in when doing fixed effects using the --varcope option.\n"
     ]
    },
    {
     "name": "stdout",
     "output_type": "stream",
     "text": [
      "ntptsing=88.000000 \n",
      "\n",
      "evs_group=1.000000 \n",
      "1.000000 \n",
      "1.000000 \n",
      "1.000000 \n",
      "1.000000 \n",
      "1.000000 \n",
      "1.000000 \n",
      "1.000000 \n",
      "1.000000 \n",
      "1.000000 \n",
      "1.000000 \n",
      "1.000000 \n",
      "1.000000 \n",
      "1.000000 \n",
      "1.000000 \n",
      "1.000000 \n",
      "1.000000 \n",
      "1.000000 \n",
      "1.000000 \n",
      "1.000000 \n",
      "1.000000 \n",
      "1.000000 \n",
      "\n",
      "No f contrasts\n",
      "nevs=22\n",
      "ntpts=88\n",
      "ngs=1\n",
      "nvoxels=44238\n",
      "Running:\n",
      "Fixed effects requires lower level variance, this must be passed in when doing fixed effects using the --varcope option.\n",
      "Log directory is: /media/miplab-nas2/Data3/BMPD/hc_project//seed_to_voxels//ica_based_quadrants/spinalcord_C7-LD_RD_LV_RV/22subjects_concat_LD_RD_LV_RV.nii.gz++\n",
      "Setting up:\n"
     ]
    },
    {
     "name": "stderr",
     "output_type": "stream",
     "text": [
      "\n",
      "Fixed effects requires lower level variance, this must be passed in when doing fixed effects using the --varcope option.\n"
     ]
    },
    {
     "name": "stdout",
     "output_type": "stream",
     "text": [
      "ntptsing=88.000000 \n",
      "\n",
      "evs_group=1.000000 \n",
      "1.000000 \n",
      "1.000000 \n",
      "1.000000 \n",
      "1.000000 \n",
      "1.000000 \n",
      "1.000000 \n",
      "1.000000 \n",
      "1.000000 \n",
      "1.000000 \n",
      "1.000000 \n",
      "1.000000 \n",
      "1.000000 \n",
      "1.000000 \n",
      "1.000000 \n",
      "1.000000 \n",
      "1.000000 \n",
      "1.000000 \n",
      "1.000000 \n",
      "1.000000 \n",
      "1.000000 \n",
      "1.000000 \n",
      "\n",
      "No f contrasts\n",
      "nevs=22\n",
      "ntpts=88\n",
      "ngs=1\n",
      "nvoxels=44238\n",
      "Running:\n",
      "Fixed effects requires lower level variance, this must be passed in when doing fixed effects using the --varcope option.\n"
     ]
    },
    {
     "name": "stderr",
     "output_type": "stream",
     "text": [
      "\n",
      "Fixed effects requires lower level variance, this must be passed in when doing fixed effects using the --varcope option.\n"
     ]
    }
   ],
   "source": [
    "for lvl in level_names:\n",
    "    contrast_dir = data_dir + seed_structure + '_' + lvl + '-' + quadrant_names[0] + '_' + quadrant_names[1] + '_' + quadrant_names[2] + '_' + quadrant_names[3] + '/'\n",
    "    contrast_file = str(len(config['list_subjects'])) + 'subjects_concat_' + quadrant_names[0] + '_' + quadrant_names[1] + '_' + quadrant_names[2] + '_' + quadrant_names[3] + '.nii.gz'\n",
    "    # First, we need to create folder for this contrast if needed\n",
    "    if not os.path.exists(contrast_dir):\n",
    "        os.mkdir(contrast_dir)\n",
    "    # Then, merge files if not already done\n",
    "    if not os.path.exists(contrast_dir + contrast_file):\n",
    "        root_file = data_dir + seed_structure + '_' + lvl + '-'\n",
    "        concat_string = 'fslmerge -t ' + contrast_dir + contrast_file + ' ' +  glob.glob(root_file + quadrant_names[0] + '/brain_fc_maps/*.gz')[0]  + ' ' +  glob.glob(root_file + quadrant_names[1] + '/brain_fc_maps/*.gz')[0] + ' ' +  glob.glob(root_file + quadrant_names[2] + '/brain_fc_maps/*.gz')[0] + ' ' +  glob.glob(root_file + quadrant_names[3] + '/brain_fc_maps/*.gz')[0]\n",
    "        os.system(concat_string)\n",
    "    flame_string = 'flameo --cope=' + contrast_dir + contrast_file + ' --ld=' + contrast_dir + contrast_file + ' --dm=' + stats_templates_dir + str(len(config['list_subjects'])) + 'sub_secondlevel_4cond.mat' + ' --tc=' + stats_templates_dir + str(len(config['list_subjects'])) + 'sub_secondlevel_4cond.con' + ' --cs=' + stats_templates_dir + str(len(config['list_subjects'])) + 'sub_secondlevel_4cond.grp --mask=' + mask_target + ' --runmode=fe' \n",
    "    os.system(flame_string)"
   ]
  },
  {
   "cell_type": "code",
   "execution_count": null,
   "id": "4d5b1c60",
   "metadata": {},
   "outputs": [],
   "source": []
  }
 ],
 "metadata": {
  "kernelspec": {
   "display_name": "Python 3 (ipykernel)",
   "language": "python",
   "name": "python3"
  },
  "language_info": {
   "codemirror_mode": {
    "name": "ipython",
    "version": 3
   },
   "file_extension": ".py",
   "mimetype": "text/x-python",
   "name": "python",
   "nbconvert_exporter": "python",
   "pygments_lexer": "ipython3",
   "version": "3.9.12"
  }
 },
 "nbformat": 4,
 "nbformat_minor": 5
}
