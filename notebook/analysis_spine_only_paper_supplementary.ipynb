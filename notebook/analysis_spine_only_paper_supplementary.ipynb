{
 "cells": [
  {
   "cell_type": "markdown",
   "metadata": {},
   "source": [
    "# <font color=black> Analysis - ICA vs iCAP in the spinal cord </font>\n",
    "<hr style=\"border:1px solid black\">"
   ]
  },
  {
   "cell_type": "markdown",
   "metadata": {},
   "source": [
    "**The goal of this analysis is to investigate the reproducibility of spinal networks extracted using different methods and datasets.**\n",
    "\n",
    "**METHODS CONSIDERED:**\n",
    "- Independent Component Analysis – called `ica` in this script\n",
    "- Innovation-driven CoActivation Pattern analysis – called `icap` in this script\n",
    "\n",
    "**DATASETS:**\n",
    "- A dataset covering C1 to C8 spinal levels, with a resolution of 1.6x1.6x4mm<sup>3</sup>  and a TR of 1.55s – called `mtl` in this script\n",
    "- A dataset covering C5 to C8 spinal levels, with a resolution of 1x1x3mm<sup>3</sup> and a TR of 2.5s – called `gva` in this script\n",
    "\n",
    "**ANALYSES:**\n",
    "- _**Qualitative:**_ matching & visualization of one or two set(s) of components\n",
    "- _**Quantitative:**_\n",
    "    * Analysis of spatial similarity (for a single K, or across multiple Ks)\n",
    "    * Distribution across axial subdvisions (D,V,L,R) for different Ks"
   ]
  },
  {
   "cell_type": "code",
   "execution_count": 4,
   "metadata": {},
   "outputs": [
    {
     "name": "stderr",
     "output_type": "stream",
     "text": [
      "/cerebro/cerebro1/dataset/bmpd/derivatives/thibault_test/code/toolbox/bmpd_python/lib/python3.6/site-packages/nilearn/__init__.py:69: FutureWarning: Python 3.6 support is deprecated and will be removed in release 0.10 of Nilearn. Consider switching to Python 3.8 or 3.9.\n",
      "  _python_deprecation_warnings()\n"
     ]
    }
   ],
   "source": [
    "import sys,json,glob\n",
    "import numpy as np\n",
    "import pandas as pd\n",
    "\n",
    "# Load config file ------------------------------------------------------------\n",
    "with open('../config/config_spine_only_CL.json') as config_file: # the notebook should be in 'xx/notebook/' folder #config_proprio\n",
    "    config = json.load(config_file) # load config file should be open first and the path inside modified\n",
    "\n",
    "sys.path.append(config[\"tools_dir\"][\"sct_toolbox\"]); sys.path.append(config[\"tools_dir\"][\"sct_toolbox\"] +\"/scripts\")\n",
    "from spinalcordtoolbox.utils.sys import run_proc\n",
    "import sc_utilities as utils\n",
    "\n",
    "# R package\n",
    "import rpy2.ipython\n",
    "from rpy2.robjects.packages import importr\n",
    "from rpy2.robjects.vectors import StrVector\n",
    "%load_ext rpy2.ipython\n",
    "\n",
    "%matplotlib inline\n",
    "%load_ext autoreload\n",
    "%autoreload 2"
   ]
  },
  {
   "cell_type": "markdown",
   "metadata": {},
   "source": [
    "# Initialization"
   ]
  },
  {
   "cell_type": "markdown",
   "metadata": {},
   "source": [
    "### Load configuration file "
   ]
  },
  {
   "cell_type": "code",
   "execution_count": 5,
   "metadata": {},
   "outputs": [],
   "source": [
    "# Load the config files with all informations (i.e., all datasets, methods, etc.)\n",
    "with open('../config/config_spine_only_CL.json') as config_file:\n",
    "    config = json.load(config_file)"
   ]
  },
  {
   "cell_type": "markdown",
   "metadata": {},
   "source": [
    "# Figure 1  – tSNR\n",
    "## Calculate tSNR in native space"
   ]
  },
  {
   "cell_type": "code",
   "execution_count": 6,
   "metadata": {},
   "outputs": [],
   "source": [
    "Files_func_sc={}; Files_func_mask={};tSNR_files={};tSNR_means={}; warp_PAM50={}\n",
    "# Select datas\n",
    "for dataset in [\"mtl\",\"gva\"]:\n",
    "    Files_func_sc[dataset]=[]; Files_func_mask[dataset]=[];warp_PAM50[dataset]=[];\n",
    "    for sbj_nb in range(len(config[\"list_subjects\"][dataset])):\n",
    "        subject_name=config[\"list_subjects\"][dataset][sbj_nb]\n",
    "        if dataset==\"mtl\":\n",
    "            directory= (config[\"data\"][dataset][\"Prepross\"]['dir_stratals'] if subject_name[0] ==\"A\" else config[\"data\"][dataset][\"Prepross\"]['dir_bmpd'])\n",
    "            Files_func_sc[dataset].append(glob.glob(directory + \"/sub-\" + subject_name + \"/func/1_STC/spinalcord/\" + \"*stc_sc.nii.gz\")[0])\n",
    "            \n",
    "        elif dataset==\"gva\":\n",
    "            directory=config[\"data\"][dataset][\"Prepross\"]['dir']\n",
    "            Files_func_sc[dataset].append(glob.glob(config[\"data\"][dataset][\"Prepross\"]['dir_raw'] + \"/sub-\"+subject_name+ \"/func/mfmri.nii.gz\")[0])\n",
    "        \n",
    "        Files_func_mask[dataset].append(glob.glob(directory + \"/sub-\"+subject_name+ \"/func/4_Segmentation/spinalcord/*mean_seg.nii.gz\")[0])\n",
    "        warp_PAM50[dataset].append(glob.glob(directory + \"/sub-\" + subject_name + \"/func/5_Coregistration/spinalcord/*func_to_T*w_to_PAM50_mode-image_xfm.nii.gz\")[0])\n",
    "    \n",
    "    # calculate the tSNR\n",
    "    tSNR_files[dataset],tSNR_means[dataset]=utils.tSNR(config,Files_func_sc[dataset],dataset,mask_files=Files_func_mask[dataset],outputdir=np.repeat(config[\"main_dir\"]+config[\"tSNR_dir\"] + \"/indiv_maps/\" + dataset +\"/native/\",len(config[\"list_subjects\"][dataset])), redo=False)\n",
    "    \n",
    "            \n",
    "dataframe=pd.concat((pd.DataFrame({\"subject\":config[\"list_subjects\"][\"mtl\"],\"dataset\":np.repeat(\"mtl\",len(config[\"list_subjects\"][\"mtl\"])),\"tsnr\":tSNR_means[\"mtl\"]}),pd.DataFrame({\"subject\":config[\"list_subjects\"][\"gva\"],\"dataset\":np.repeat(\"gva\",len(config[\"list_subjects\"][\"gva\"])),\"tsnr\":tSNR_means[\"gva\"]})),0)\n",
    "dataframe.to_csv(config[\"main_dir\"]+config[\"tSNR_dir\"] + \"/indiv_maps/tsnr_dataframe.csv\")"
   ]
  },
  {
   "cell_type": "markdown",
   "metadata": {},
   "source": [
    "## Nomalise tSNR maps in native PAM50"
   ]
  },
  {
   "cell_type": "code",
   "execution_count": 78,
   "metadata": {},
   "outputs": [
    {
     "name": "stdout",
     "output_type": "stream",
     "text": [
      "Normalisation into PAM50 space was already done, set redo=True to run it again\n",
      "Normalisation into PAM50 space was already done, set redo=True to run it again\n"
     ]
    }
   ],
   "source": [
    "tSNR_in_PAM50_files={}\n",
    "for dataset in [\"mtl\",\"gva\"]:\n",
    "    tSNR_in_PAM50_files[dataset]=[];\n",
    "    for sbj_nb in range(len(config[\"list_subjects\"][dataset])):\n",
    "    # Coreg into PAM50\n",
    "        tSNR_in_PAM50_files[dataset].append(config[\"main_dir\"]+config[\"tSNR_dir\"] + \"/indiv_maps/\" + dataset +\"/PAM50/\" + os.path.basename(tSNR_files[dataset][sbj_nb].split(\".\")[0]+\"_in_PAM50.nii.gz\"))\n",
    "    \n",
    "    preproc=utils.Preproc(config)\n",
    "    preproc.normalisation_sc(warp_PAM50[dataset],tSNR_files[dataset],tSNR_in_PAM50_files[dataset],config[\"main_dir\"] + config['templates']['spinalcord'],n_jobs=8,redo=False)\n",
    "\n",
    "# Calculate the mean image over the group:\n",
    "for dataset in [\"mtl\",\"gva\"]:\n",
    "    fourD_image=config[\"main_dir\"]+config[\"tSNR_dir\"] + \"/indiv_maps/\" + dataset +\"/PAM50/4D_\"+dataset+\"_group_tSNR_in_PAM50.nii.gz\"\n",
    "    mean_image=config[\"main_dir\"]+config[\"tSNR_dir\"] + \"/indiv_maps/\" + dataset +\"/PAM50/mean_\"+dataset+\"_group_tSNR_in_PAM50.nii.gz\"\n",
    "    \n",
    "    if not os.path.exists(mean_image):\n",
    "        run_proc('fslmerge -t {} {}'.format(fourD_image,str(tSNR_in_PAM50_files[dataset]).replace(\"[\",\" \").replace(\"]\",\" \").replace(\"'\",\"\").replace(\",\",\"\")))\n",
    "        run_proc('fslmaths {} -Tmean {}'.format(fourD_image,mean_image))"
   ]
  },
  {
   "cell_type": "code",
   "execution_count": 113,
   "metadata": {},
   "outputs": [
    {
     "data": {
      "text/plain": [
       "<matplotlib.axes._subplots.AxesSubplot at 0x7f7fea73bfd0>"
      ]
     },
     "execution_count": 113,
     "metadata": {},
     "output_type": "execute_result"
    },
    {
     "data": {
      "text/plain": [
       "<Figure size 432x288 with 0 Axes>"
      ]
     },
     "metadata": {},
     "output_type": "display_data"
    },
    {
     "data": {
      "image/png": "[encoded data removed]",
      "text/plain": [
       "<Figure size 720x360 with 1 Axes>"
      ]
     },
     "metadata": {},
     "output_type": "display_data"
    }
   ],
   "source": [
    "import seaborn as sns\n",
    "import matplotlib.pyplot as plt\n",
    "sns.set(style=\"ticks\",  font='sans-serif')\n",
    "fig = plt.figure()\n",
    "\n",
    "colors=[\"#72ac3bff\",\"#b0297dff\"]\n",
    "sns.set(style=\"ticks\",  font='sans-serif')\n",
    "g=sns.catplot(y=\"tsnr\",x=\"dataset\",data=dataframe, kind=\"box\", legend=True, legend_out=True,\n",
    "             linewidth=2,medianprops=dict(color=\"white\"),palette=colors, \n",
    "              boxprops=dict(alpha=.9),fliersize=0, aspect=1) #fliersize=0)\n",
    "g.fig.set_size_inches(10,5)\n",
    "\n",
    "sns.stripplot(x=\"dataset\", y=\"tsnr\",data=dataframe,\n",
    "             size=6, palette=colors, linewidth=1,edgecolor='white',dodge=True)\n",
    "\n"
   ]
  },
  {
   "cell_type": "code",
   "execution_count": 197,
   "metadata": {},
   "outputs": [
    {
     "name": "stdout",
     "output_type": "stream",
     "text": [
      "* 'mtl', median: 15.86 [2.65]\n",
      "* 'gva', median: 6.36 [0.9]\n"
     ]
    }
   ],
   "source": [
    "q1, q3 =np.percentile(dataframe['tsnr'][dataframe['dataset']=='mtl'],[25,75])\n",
    "iqr=q3-q1\n",
    "print(\"* 'mtl', median: \" + str(np.round(dataframe['tsnr'][dataframe['dataset']=='mtl'].median(),2)) + \" [\"+str(np.round(iqr,2)) + \"]\")\n",
    "\n",
    "q1, q3 =np.percentile(dataframe['tsnr'][dataframe['dataset']=='gva'],[25,75])\n",
    "iqr=q3-q1\n",
    "print(\"* 'gva', median: \" + str(np.round(dataframe['tsnr'][dataframe['dataset']=='gva'].median(),2)) + \" [\"+str(np.round(iqr,2)) + \"]\")"
   ]
  },
  {
   "cell_type": "code",
   "execution_count": 183,
   "metadata": {},
   "outputs": [
    {
     "name": "stdout",
     "output_type": "stream",
     "text": [
      "[1] \" \"\n",
      "[1] \"linear model  __________________________________________________\"\n",
      "Anova Table (Type II tests)\n",
      "\n",
      "Response: tsnr\n",
      "          Sum Sq Df F value    Pr(>F)    \n",
      "dataset   739.60  1  256.52 < 2.2e-16 ***\n",
      "Residuals 109.56 38                      \n",
      "---\n",
      "Signif. codes:  0 ‘***’ 0.001 ‘**’ 0.01 ‘*’ 0.05 ‘.’ 0.1 ‘ ’ 1\n"
     ]
    }
   ],
   "source": [
    "%%R -i dataframe\n",
    "library(lme4); library(emmeans); library(car) #library(lmerTest); \n",
    "\n",
    "# Linear models with kmax as fixed factor:\n",
    "print(\" \")\n",
    "print('linear model  __________________________________________________')\n",
    "LM=lm('tsnr ~ dataset ', REML = FALSE,data=dataframe); \n",
    "print(Anova(LM))\n"
   ]
  },
  {
   "cell_type": "markdown",
   "metadata": {},
   "source": [
    "# Figure 2  – FD"
   ]
  },
  {
   "cell_type": "code",
   "execution_count": 179,
   "metadata": {},
   "outputs": [],
   "source": [
    "Files_FD={};meanFD={}\n",
    "# Select datas\n",
    "params_data_all=pd.DataFrame({'dataset': [0],'subject_name': [0],'FD_x': [0],'FD_y': [0],'FD_mean': [0]})\n",
    "for dataset in [\"mtl\",\"gva\"]:\n",
    "    Files_FD[dataset]=[]; meanFD[dataset]=[]\n",
    "    for sbj_nb in range(len(config[\"list_subjects\"][dataset])):\n",
    "        subject_name=config[\"list_subjects\"][dataset][sbj_nb]\n",
    "        if dataset==\"mtl\":\n",
    "            directory= (config[\"data\"][dataset][\"Prepross\"]['dir_stratals'] if subject_name[0] ==\"A\" else config[\"data\"][dataset][\"Prepross\"]['dir_bmpd'])\n",
    "                       \n",
    "        elif dataset==\"gva\":\n",
    "            directory=config[\"data\"][dataset][\"Prepross\"]['dir']\n",
    "        \n",
    "        Files_FD[dataset].append(glob.glob(directory+ \"/sub-\" + subject_name + \"/func/QC_mectrics/spinalcord/Diff_displacement__sc.txt\")[0])\n",
    "            \n",
    "        \n",
    "        params_data=pd.read_csv(Files_FD[dataset][sbj_nb], ',', header=None).T\n",
    "        params_data=params_data.rename(columns={0:\"FD_x\",1:\"FD_y\"})\n",
    "        #params_data=pd.concat((params_data,pd.DataFrame([np.mean([params_data[\"FD_x\"],params_data[\"FD_y\"]])]),dataset),axis=1)\n",
    "        params_data=pd.concat((pd.DataFrame({\"dataset\":[dataset]}),pd.DataFrame({\"subject_name\":[subject_name]}),params_data,pd.DataFrame({\"FD_mean\":[np.mean([params_data[\"FD_x\"],params_data[\"FD_y\"]])]})),axis=1)\n",
    "    \n",
    "        params_data_all=pd.concat((params_data_all,params_data))\n",
    "params_data_all=params_data_all[1:]\n",
    "\n",
    "params_data_all.to_csv(config[\"main_dir\"]+\"/ICA/results_spine_only/results/FD/fd_dataframe.csv\")"
   ]
  },
  {
   "cell_type": "code",
   "execution_count": 195,
   "metadata": {},
   "outputs": [
    {
     "name": "stdout",
     "output_type": "stream",
     "text": [
      "* 'mtl', median: 0.1 [0.04]\n",
      "* 'gva', median: 0.1 [0.03]\n"
     ]
    }
   ],
   "source": [
    "q1, q3 =np.percentile(params_data_all['FD_mean'][params_data_all['dataset']=='mtl'],[25,75])\n",
    "iqr=q3-q1\n",
    "print(\"* 'mtl', median: \" + str(np.round(params_data_all['FD_mean'][params_data_all['dataset']=='mtl'].median(),2)) + \" [\"+str(np.round(iqr,2)) + \"]\")\n",
    "\n",
    "q1, q3 =np.percentile(params_data_all['FD_mean'][params_data_all['dataset']=='gva'],[25,75])\n",
    "iqr=q3-q1\n",
    "print(\"* 'gva', median: \" + str(np.round(params_data_all['FD_mean'][params_data_all['dataset']=='gva'].median(),2)) + \" [\"+str(np.round(iqr,2)) + \"]\")"
   ]
  },
  {
   "cell_type": "code",
   "execution_count": null,
   "metadata": {},
   "outputs": [],
   "source": [
    "median Dice coefficient [interquartile range, IQR]"
   ]
  },
  {
   "cell_type": "code",
   "execution_count": 176,
   "metadata": {},
   "outputs": [
    {
     "data": {
      "text/plain": [
       "<matplotlib.axes._subplots.AxesSubplot at 0x7f1022b19390>"
      ]
     },
     "execution_count": 176,
     "metadata": {},
     "output_type": "execute_result"
    },
    {
     "data": {
      "text/plain": [
       "<Figure size 432x288 with 0 Axes>"
      ]
     },
     "metadata": {},
     "output_type": "display_data"
    },
    {
     "data": {
      "image/png": "[encoded data removed]",
      "text/plain": [
       "<Figure size 720x360 with 1 Axes>"
      ]
     },
     "metadata": {},
     "output_type": "display_data"
    }
   ],
   "source": [
    "import seaborn as sns\n",
    "import matplotlib.pyplot as plt\n",
    "sns.set(style=\"ticks\",  font='sans-serif')\n",
    "fig = plt.figure()\n",
    "\n",
    "colors=[\"#72ac3bff\",\"#b0297dff\"]\n",
    "sns.set(style=\"ticks\",  font='sans-serif')\n",
    "g=sns.catplot(y=\"FD_x\",x=\"dataset\",data=params_data_all, kind=\"box\", legend=True, legend_out=True,\n",
    "             linewidth=2,medianprops=dict(color=\"white\"),palette=colors, \n",
    "              boxprops=dict(alpha=.9),fliersize=0, aspect=1) #fliersize=0)\n",
    "g.fig.set_size_inches(10,5)\n",
    "\n",
    "sns.stripplot(x=\"dataset\", y=\"FD_x\",data=params_data_all,\n",
    "             size=6, palette=colors, linewidth=1,edgecolor='white',dodge=True)\n",
    "\n"
   ]
  },
  {
   "cell_type": "code",
   "execution_count": 184,
   "metadata": {},
   "outputs": [
    {
     "name": "stdout",
     "output_type": "stream",
     "text": [
      "[1] \" \"\n",
      "[1] \"linear model  __________________________________________________\"\n",
      "Anova Table (Type II tests)\n",
      "\n",
      "Response: FD_mean\n",
      "            Sum Sq Df F value Pr(>F)\n",
      "dataset   0.001360  1  1.4377 0.2379\n",
      "Residuals 0.035956 38               \n"
     ]
    }
   ],
   "source": [
    "%%R -i params_data_all\n",
    "library(lme4); library(emmeans); library(car) #library(lmerTest); \n",
    "\n",
    "# Linear models with kmax as fixed factor:\n",
    "print(\" \")\n",
    "print('linear model  __________________________________________________')\n",
    "LM=lm('FD_mean ~ dataset ', REML = FALSE,data=params_data_all); \n",
    "print(Anova(LM))"
   ]
  },
  {
   "cell_type": "code",
   "execution_count": null,
   "metadata": {},
   "outputs": [],
   "source": []
  }
 ],
 "metadata": {
  "kernelspec": {
   "display_name": "Python 3",
   "language": "python",
   "name": "python3"
  },
  "language_info": {
   "codemirror_mode": {
    "name": "ipython",
    "version": 3
   },
   "file_extension": ".py",
   "mimetype": "text/x-python",
   "name": "python",
   "nbconvert_exporter": "python",
   "pygments_lexer": "ipython3",
   "version": "3.6.9"
  }
 },
 "nbformat": 4,
 "nbformat_minor": 5
}
