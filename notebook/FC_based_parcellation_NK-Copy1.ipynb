{
 "cells": [
  {
   "cell_type": "markdown",
   "metadata": {},
   "source": [
    "# Voxel-to-voxel correlation maps\n",
    "### This notebook is used to perform correlation-based parcellation"
   ]
  },
  {
   "cell_type": "markdown",
   "metadata": {},
   "source": [
    "## <font color=009DD2> <span style=\"background-color: #A9C4C0\"> Imports"
   ]
  },
  {
   "cell_type": "code",
   "execution_count": 1,
   "metadata": {},
   "outputs": [],
   "source": [
    "import sys,json\n",
    "import glob, os\n",
    "import numpy as np\n",
    "sys.path.append('/media/miplab-nas2/Data3/BMPD/hc_project/analysis/code/')\n",
    "\n",
    "from seed_to_voxels import Seed2voxels\n",
    "from fc_based_parcellation import FC_Parcellation\n",
    "\n",
    "%matplotlib inline\n",
    "%load_ext autoreload\n",
    "%autoreload 2"
   ]
  },
  {
   "cell_type": "markdown",
   "metadata": {},
   "source": [
    "## <font color=009DD2> <span style=\"background-color: #A9C4C0\"> Initialization"
   ]
  },
  {
   "cell_type": "markdown",
   "metadata": {},
   "source": [
    "### <font color=009DD2> I Configuration & parameters </font>"
   ]
  },
  {
   "cell_type": "code",
   "execution_count": 2,
   "metadata": {},
   "outputs": [],
   "source": [
    "with open('../config/config_NK.json') as config_file:\n",
    "    config = json.load(config_file) # load config file\n",
    "\n",
    "# Parameters (maybe we should move them to config?)\n",
    "signal='raw'\n",
    "seed_names=['C3','C4','C5','C6','C7'] # Define seed names\n",
    "seed_structure='spinalcord' # Define structure in which seeds are defined (brain or spinal cord)\n",
    "target_structure='brain' # Define structure to use as target (brain or spinal cord)\n",
    "ktot = 9\n",
    "seed_folder = '/scbr_spinalcord_icas_k' + str(ktot) + '/' # Name of folder containing seed tcs, etc."
   ]
  },
  {
   "cell_type": "markdown",
   "metadata": {},
   "source": [
    "### <font color=009DD2> II Select files </font>"
   ]
  },
  {
   "cell_type": "code",
   "execution_count": 3,
   "metadata": {},
   "outputs": [],
   "source": [
    "# /!\\ Important notes: \n",
    "# Different from ai-based correlation analyses, no _ai suffix appended here for the timeseries txt files\n",
    "\n",
    "# One target per subject\n",
    "# We use the unsmoothed data in template space (smoothing can be applied during time courses extraction if needed)\n",
    "data_target=[];ts_target_txt=[]\n",
    "for subject_name in config['list_subjects']:\n",
    "    data_target.append(config['coreg_dir'] + '/sub-' + subject_name + '/' + target_structure + '/sub-' + subject_name + '_task-rest_bold_stc_' + target_structure + '_' + config['coreg_tag'][target_structure] + '.nii')\n",
    "    ts_target_txt.append(config['main_dir'] + config['seed2vox_dir'] + '/' + target_structure +'_all/timeseries/sub-' + subject_name + '_' + target_structure + '_all_timeseries')\n",
    "mask_target=config['main_dir'] + config['masks'][target_structure]\n",
    "\n",
    "# Create directories if needed\n",
    "if not os.path.exists(config['main_dir'] + config['seed2vox_dir'] + '/' + target_structure + '_all/timeseries/'):\n",
    "    os.mkdir(config['main_dir'] + config['seed2vox_dir'] + '/' + target_structure + '_all')\n",
    "    os.mkdir(config['main_dir'] + config['seed2vox_dir'] + '/' + target_structure + '_all/timeseries/') # folder to store timeseries extraction\n",
    "    \n",
    "# But possible to have multiple seeds (so create a dictionary to store list of each seed)\n",
    "data_seed={}; ts_seed_txt={}; mask_seed={}\n",
    "for seed_name in seed_names:\n",
    "    data_seed[seed_name] = []\n",
    "    ts_seed_txt[seed_name] = []\n",
    "    \n",
    "    # Create directory for seed if it doesn't exist\n",
    "    if not os.path.exists(config['main_dir'] + config['seed2vox_dir'] + seed_folder):\n",
    "        os.mkdir(config['main_dir'] + config['seed2vox_dir'] + seed_folder) \n",
    "    if not os.path.exists(config['main_dir'] + config['seed2vox_dir'] + seed_folder + seed_name):\n",
    "        os.mkdir(config['main_dir'] + config['seed2vox_dir'] + seed_folder + seed_name)\n",
    "\n",
    "    # For ICA-based seeds\n",
    "    # We take the binarized ICs (here, matched to individual spinal elvels)\n",
    "    mask_seed[seed_name] = glob.glob(config['main_dir'] + config['data']['ICA']['spinalcord_dir'] + 'K_' + str(ktot) + '/' + 'comp_bin/' + config['data']['ICA']['tag_filename'] + '*' + seed_name + '*.gz')[0]\n",
    "    for subject_name in config['list_subjects']:\n",
    "        data_seed[seed_name].append(config['coreg_dir'] + 'sub-'+ subject_name + '/' + seed_structure + '/sub-' + subject_name + '_task-rest_bold_stc_sc_' + config['coreg_tag'][seed_structure] + '.nii')\n",
    "        \n",
    "        # Here, spinal cord is going to be smoothed, hence the tag _s3x3x6 to avoid confusion\n",
    "        ts_seed_txt[seed_name].append(config['main_dir'] + config['seed2vox_dir'] + seed_folder + seed_name+'/timeseries/sub-' + subject_name + '_' + seed_name + '_timeseries_s3x3x6')\n",
    "    \n",
    "    # Create folder for timeseries\n",
    "    if not os.path.exists(config['main_dir'] + config['seed2vox_dir'] + seed_folder + seed_name + '/timeseries/'):\n",
    "        os.mkdir(config['main_dir'] + config['seed2vox_dir'] + seed_folder + seed_name + '/timeseries/')\n",
    "    \n",
    "    # Create folder for connectivity-based parcellation\n",
    "    if not os.path.exists(config['main_dir'] + config['seed2vox_dir'] + seed_folder + seed_name + '/cbp/'):\n",
    "        os.mkdir(config['main_dir'] + config['seed2vox_dir'] + seed_folder + seed_name + '/cbp/')\n",
    "\n"
   ]
  },
  {
   "cell_type": "markdown",
   "metadata": {},
   "source": [
    "### <font color=009DD2> III Initialize class based on this </font>"
   ]
  },
  {
   "cell_type": "code",
   "execution_count": null,
   "metadata": {},
   "outputs": [],
   "source": [
    "seed2voxels=Seed2voxels(config,signal,seed_names,target_structure) # initialize the function"
   ]
  },
  {
   "cell_type": "markdown",
   "metadata": {},
   "source": [
    "## <font color=009DD2> <span style=\"background-color: #A9C4C0\"> Data extraction\n"
   ]
  },
  {
   "cell_type": "markdown",
   "metadata": {},
   "source": [
    "### <font color=009DD2> I. Time series extraction - Seed </font>"
   ]
  },
  {
   "cell_type": "code",
   "execution_count": null,
   "metadata": {},
   "outputs": [],
   "source": [
    "# Dictionary with seed names\n",
    "# Contains one array per subject\n",
    "\n",
    "# !! Here, smooth seed with 3x3x6 kernel\n",
    "\n",
    "seed_timeseries={};seed_timeseries_mean={};seed_timeseries_pc1={};\n",
    "for seed_name in seed_names:\n",
    "    seed_timeseries[seed_name]=[]\n",
    "    seed_timeseries_mean[seed_name]=[]\n",
    "    seed_timeseries_pc1[seed_name]=[]\n",
    "    (seed_timeseries[seed_name],seed_timeseries_mean[seed_name],seed_timeseries_pc1[seed_name])=seed2voxels.extract_data(img=data_seed[seed_name], smoothing_fwhm=[3,3,6], mask=mask_seed[seed_name],timeseries_txt=ts_seed_txt[seed_name],run=\"extract\",n_jobs=8) # Load or extract timecourses in seed"
   ]
  },
  {
   "cell_type": "markdown",
   "metadata": {},
   "source": [
    "### <font color=009DD2> II. Time series extraction - Target </font>"
   ]
  },
  {
   "cell_type": "code",
   "execution_count": null,
   "metadata": {},
   "outputs": [],
   "source": [
    "(target_timeseries,target_timeseries_mean,target_timeseries_pc1)=seed2voxels.extract_data(img=data_target, smoothing_fwhm=[6,6,6], mask=mask_target, timeseries_txt=ts_target_txt,\n",
    "                run=\"extract\",n_jobs=8) # Load voxelwise brain signals as target"
   ]
  },
  {
   "cell_type": "markdown",
   "metadata": {},
   "source": [
    "## <font color=009DD2> <span style=\"background-color: #A9C4C0\"> Correlation analysis voxelwise"
   ]
  },
  {
   "cell_type": "code",
   "execution_count": null,
   "metadata": {},
   "outputs": [],
   "source": [
    "import numpy as np\n",
    "from joblib import Parallel, delayed\n",
    "from tqdm import tqdm\n",
    "\n",
    "output_img={};\n",
    "for seed_name in seed_names: # For each seed\n",
    "    output_img[seed_name]=[]\n",
    "    seed = np.array(seed_timeseries[seed_name])\n",
    "    # Compute in parallel for all voxels\n",
    "    output_img[seed_name] = Parallel(n_jobs=8)(delayed(seed2voxels.correlation_maps)(seed[:,:,voxel],target_timeseries,mask=mask_target,output_img=None,Fisher=True,save_maps=False,n_jobs=8)\n",
    "                                               for voxel in tqdm(range(seed.shape[2])))\n",
    "    # Save seed results as .npy\n",
    "    np.save(config['main_dir'] + config['seed2vox_dir'] + seed_folder + seed_name + '/cbp' + '/allsub_' + seed_name + '_voxels2' + target_structure + 'brain+sc_smoothed',np.array(output_img[seed_name]))\n",
    "               "
   ]
  },
  {
   "cell_type": "code",
   "execution_count": null,
   "metadata": {},
   "outputs": [],
   "source": [
    "import numpy as np\n",
    "from tqdm.notebook import tqdm, trange\n",
    "import time\n",
    "\n",
    "output_img={};\n",
    "for seed_name in seed_names: # For each seed\n",
    "    output_img[seed_name]=[]\n",
    "    seed = np.array(seed_timeseries[seed_name])\n",
    "    # Loop through voxels\n",
    "    p_bar = tqdm(range(seed.shape[2]))\n",
    "    for voxel in range(seed.shape[2]):\n",
    "        p_bar.set_description(f'Voxel {voxel} out of {seed.shape[2]}')\n",
    "        seed_voxel = seed[:,:,voxel]\n",
    "        output_img[seed_name].append(seed2voxels.correlation_maps(seed_voxel,target_timeseries,mask=mask_target,output_img=None,Fisher=True,save_maps=False,n_jobs=8))\n",
    "    # Save seed results as .npy\n",
    "    np.save(config['main_dir'] + config['seed2vox_dir'] + seed_folder + seed_name + '/cbp' + '/allsub_' + seed_name + '_voxels2' + target_structure + 'brain+sc_smoothed',np.array(output_img[seed_name]))\n",
    "               "
   ]
  },
  {
   "cell_type": "markdown",
   "metadata": {},
   "source": [
    "## <font color=009DD2> <span style=\"background-color: #A9C4C0\"> FC-based parcellation"
   ]
  },
  {
   "cell_type": "markdown",
   "metadata": {},
   "source": [
    "### <font color=009DD2> Method 1: https://www.jneurosci.org/content/32/18/6240 </font>\n",
    "<font color=009DD2> **Since this method is based on averaging maps from a single voxel in spine, use smoothing in brain + spine** </font>"
   ]
  },
  {
   "cell_type": "code",
   "execution_count": 20,
   "metadata": {},
   "outputs": [],
   "source": [
    "connectivity = np.load(config['main_dir'] + config['seed2vox_dir'] + seed_folder +'/C6/' + 'cbp/allsub_C6_voxels2brainbrain+sc_smoothed.npy')"
   ]
  },
  {
   "cell_type": "code",
   "execution_count": 21,
   "metadata": {},
   "outputs": [],
   "source": [
    "kmeans_params = {\n",
    "     \"init\": \"k-means++\",\n",
    "     \"n_init\": 100,\n",
    "     \"max_iter\": 300,\n",
    "     }"
   ]
  },
  {
   "cell_type": "code",
   "execution_count": 22,
   "metadata": {},
   "outputs": [],
   "source": [
    "FCP = FC_Parcellation(config,connectivity,seed_folder,mask_seed['C6'],'C6',mask_target, kmeans_params )"
   ]
  },
  {
   "cell_type": "code",
   "execution_count": 23,
   "metadata": {},
   "outputs": [
    {
     "name": "stdout",
     "output_type": "stream",
     "text": [
      "DEFINE NUMBER OF CLUSTERS\n",
      "...Loading k-means parameters\n",
      "...Computing SSE and silhouette coefficients\n",
      "......K = 2\n",
      "......K = 3\n",
      "......K = 4\n",
      "......K = 5\n",
      "......K = 6\n",
      "......K = 7\n",
      "......K = 8\n",
      "......K = 9\n",
      "DONE\n"
     ]
    },
    {
     "data": {
      "image/png": "[encoded data removed]",
      "text/plain": [
       "<Figure size 432x288 with 2 Axes>"
      ]
     },
     "metadata": {
      "needs_background": "light"
     },
     "output_type": "display_data"
    }
   ],
   "source": [
    "FCP.define_n_clusters(range(2,10))"
   ]
  },
  {
   "cell_type": "code",
   "execution_count": 27,
   "metadata": {},
   "outputs": [
    {
     "name": "stdout",
     "output_type": "stream",
     "text": [
      "RUN K-MEANS CLUSTERING FOR K = 5\n",
      "DONE\n"
     ]
    }
   ],
   "source": [
    "FCP.run_clustering(5)"
   ]
  },
  {
   "cell_type": "code",
   "execution_count": 28,
   "metadata": {},
   "outputs": [
    {
     "name": "stdout",
     "output_type": "stream",
     "text": [
      "PREPARE BRAIN MAPS\n",
      "...Compute mean connectivity profiles\n",
      "...Save as nifti files\n",
      "DONE\n"
     ]
    }
   ],
   "source": [
    "FCP.prepare_brain_maps()"
   ]
  },
  {
   "cell_type": "code",
   "execution_count": 29,
   "metadata": {},
   "outputs": [
    {
     "name": "stdout",
     "output_type": "stream",
     "text": [
      "PREPARE SEED MAP\n",
      "DONE\n"
     ]
    }
   ],
   "source": [
    "FCP.prepare_seed_map()"
   ]
  },
  {
   "cell_type": "code",
   "execution_count": null,
   "metadata": {},
   "outputs": [],
   "source": []
  }
 ],
 "metadata": {
  "kernelspec": {
   "display_name": "Python 3",
   "language": "python",
   "name": "python3"
  },
  "language_info": {
   "codemirror_mode": {
    "name": "ipython",
    "version": 3
   },
   "file_extension": ".py",
   "mimetype": "text/x-python",
   "name": "python",
   "nbconvert_exporter": "python",
   "pygments_lexer": "ipython3",
   "version": "3.6.9"
  }
 },
 "nbformat": 4,
 "nbformat_minor": 5
}
