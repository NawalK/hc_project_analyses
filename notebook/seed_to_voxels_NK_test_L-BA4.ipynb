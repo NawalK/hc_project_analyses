{
 "cells": [
  {
   "cell_type": "markdown",
   "id": "af18d097",
   "metadata": {},
   "source": [
    "## <font color=009DD2> <span style=\"background-color: #A9C4C0\"> Imports"
   ]
  },
  {
   "cell_type": "code",
   "execution_count": 1,
   "id": "75af82ae",
   "metadata": {},
   "outputs": [],
   "source": [
    "import sys,json\n",
    "import glob, os\n",
    "sys.path.append('/media/miplab-nas2/Data3/BMPD/hc_project/analysis/code/')\n",
    "\n",
    "from seed_to_voxels_inprogress_nk import Seed2voxels\n",
    "\n",
    "%matplotlib inline\n",
    "%load_ext autoreload\n",
    "%autoreload 2"
   ]
  },
  {
   "cell_type": "markdown",
   "id": "e72a9ea2",
   "metadata": {},
   "source": [
    "## <font color=009DD2> <span style=\"background-color: #A9C4C0\"> Initialization"
   ]
  },
  {
   "cell_type": "markdown",
   "id": "170dfff1",
   "metadata": {},
   "source": [
    "### <font color=009DD2> I Configuration & parameters </font>"
   ]
  },
  {
   "cell_type": "code",
   "execution_count": 2,
   "id": "a2ad247f",
   "metadata": {},
   "outputs": [],
   "source": [
    "with open('../config/config_NK.json') as config_file:\n",
    "    config = json.load(config_file) # load config file\n",
    "\n",
    "# Parameters (maybe we should move them to config?)\n",
    "signal='ai'\n",
    "seed_names=['L-BA4'] # Define seed names (here, icap numbers)\n",
    "target_name=['brain'] # Define structure to use as target (brain or spinal cord)\n"
   ]
  },
  {
   "cell_type": "markdown",
   "id": "dfdf6f62",
   "metadata": {},
   "source": [
    "### <font color=009DD2> II Select files </font>"
   ]
  },
  {
   "cell_type": "code",
   "execution_count": 3,
   "id": "8eaf939f",
   "metadata": {},
   "outputs": [],
   "source": [
    "# One target per subject\n",
    "data_target=[];ts_target_txt=[]\n",
    "for subject_name in config['list_subjects']:\n",
    "    data_target.append(config['main_dir'] + '1_nilearn-based/3_func_smoothed/sub-'+ subject_name + '/TA_results/MNI_srv4/TotalActivation/Activity_inducing.nii')\n",
    "    ts_target_txt.append(config['main_dir'] + config['seed2vox_dir'] + '/' +target_name[0]+'_all/timeseries/sub-' + subject_name + '_' + target_name[0] + '_all_timeseries_ai')\n",
    "\n",
    "\n",
    "ts_seed_txt = []\n",
    "seed_name = 'L-BA4'\n",
    "for subject_name in config['list_subjects']:\n",
    "    ts_seed_txt.append(config['main_dir'] + config['seed2vox_dir'] +'/'+seed_name+'/timeseries/sub-' + subject_name + '_' + seed_name + '_timeseries_ai')\n",
    "    if not os.path.exists(config['main_dir'] + config['seed2vox_dir'] + '/' +seed_name+'/'+target_name[0]+'_fc_maps/'):\n",
    "        os.mkdir(config['main_dir'] + config['seed2vox_dir'] +'/'+seed_name+'/'+target_name[0]+'_fc_maps/')\n",
    "    if not os.path.exists(config['main_dir'] + config['seed2vox_dir'] + '/' +seed_name+'/timeseries/'):\n",
    "        os.mkdir(config['main_dir'] + config['seed2vox_dir'] +'/'+seed_name+'/timeseries/')\n",
    "\n",
    "mask_target=config['main_dir'] + config['masks'][target_name[0].split('_')[0]]\n",
    " \n",
    "# Create directories if needed\n",
    "if not os.path.exists(config['main_dir'] + config['seed2vox_dir'] + '/' +target_name[0]+'_all/timeseries/'):\n",
    "    os.mkdir(config['main_dir'] + config['seed2vox_dir'] + '/' +target_name[0]+'_all')\n",
    "    os.mkdir(config['main_dir'] + config['seed2vox_dir'] + '/' +target_name[0]+'_all/timeseries/') # folder to store timeseries extraction"
   ]
  },
  {
   "cell_type": "markdown",
   "id": "443bccc1",
   "metadata": {},
   "source": [
    "### <font color=009DD2> III Initialize class based on this </font>"
   ]
  },
  {
   "cell_type": "code",
   "execution_count": 4,
   "id": "94ee5867",
   "metadata": {},
   "outputs": [],
   "source": [
    "seed2voxels=Seed2voxels(config,signal,seed_names,target_name) # initialize the function"
   ]
  },
  {
   "cell_type": "markdown",
   "id": "577ce1f3",
   "metadata": {},
   "source": [
    "## <font color=009DD2> <span style=\"background-color: #A9C4C0\"> Data extraction\n"
   ]
  },
  {
   "cell_type": "markdown",
   "id": "fde3cace",
   "metadata": {},
   "source": [
    "### <font color=009DD2> I. Time series extraction - Seed </font>"
   ]
  },
  {
   "cell_type": "code",
   "execution_count": 5,
   "id": "b61aa554",
   "metadata": {},
   "outputs": [
    {
     "name": "stdout",
     "output_type": "stream",
     "text": [
      "Note: signals can only be extracted for targets for activity-inducing signals.\n"
     ]
    }
   ],
   "source": [
    "seed_timeseries=[]\n",
    "seed_timeseries=seed2voxels.extract_data(img=data_target, mask='/media/miplab-nas2/Data3/BMPD/hc_project/seed_to_voxels/L-BA4/L-BA4.nii.gz', timeseries_txt=ts_seed_txt,\n",
    "                                         run=\"extract\",n_jobs=8) # Load iCAP timecourses as seed"
   ]
  },
  {
   "cell_type": "code",
   "execution_count": 9,
   "id": "1d27d6a0",
   "metadata": {},
   "outputs": [],
   "source": [
    "import numpy as np \n",
    "seed_timeseries_mean = []\n",
    "for sub in range(len(seed2voxels.subject_names)):\n",
    "    seed_timeseries_mean.append(np.mean(seed_timeseries[sub],axis=1))"
   ]
  },
  {
   "cell_type": "markdown",
   "id": "43650e48",
   "metadata": {},
   "source": [
    "### <font color=009DD2> II. Time series extraction - Target </font>"
   ]
  },
  {
   "cell_type": "code",
   "execution_count": 14,
   "id": "0c573394",
   "metadata": {},
   "outputs": [
    {
     "name": "stdout",
     "output_type": "stream",
     "text": [
      "Note: signals can only be extracted for targets for activity-inducing signals.\n"
     ]
    }
   ],
   "source": [
    "target_timeseries=seed2voxels.extract_data(img=data_target, mask=mask_target, timeseries_txt=ts_target_txt,\n",
    "                run=\"extract\",n_jobs=8) # Load voxelwise brain AI as target"
   ]
  },
  {
   "cell_type": "markdown",
   "id": "81d44179",
   "metadata": {},
   "source": [
    "## <font color=009DD2> <span style=\"background-color: #A9C4C0\"> Correlation analysis"
   ]
  },
  {
   "cell_type": "code",
   "execution_count": 16,
   "id": "281819d2",
   "metadata": {},
   "outputs": [],
   "source": [
    "output_img=[]\n",
    "output_img=config['main_dir'] + config['seed2vox_dir'] + '/L-BA4/'+target_name[0]+'_fc_maps/' + str(len(config['list_subjects'])) + 'subjects_' + seed_name\n",
    "seed2voxels.correlation_maps(seed_timeseries_mean,target_timeseries,mask=mask_target,output_img=output_img,Fisher=True,n_jobs=8)\n"
   ]
  },
  {
   "cell_type": "markdown",
   "id": "be9b95e2",
   "metadata": {},
   "source": [
    "## <font color=009DD2> <span style=\"background-color: #A9C4C0\"> Statistics"
   ]
  },
  {
   "cell_type": "markdown",
   "id": "a7601567",
   "metadata": {},
   "source": [
    "### <font color=009DD2> Using non-parametric permutation testing on smoothed images</font>"
   ]
  },
  {
   "cell_type": "code",
   "execution_count": null,
   "id": "ebccbbe0",
   "metadata": {},
   "outputs": [],
   "source": [
    "run_string = 'randomise -i ' + output_img['icap2'] + '_zcorr.nii -o ' + output_img['icap1'] + ' -1 -T -m ' + mask_target\n",
    "os.system(run_string)"
   ]
  },
  {
   "cell_type": "code",
   "execution_count": null,
   "id": "2f800ee6",
   "metadata": {},
   "outputs": [],
   "source": []
  }
 ],
 "metadata": {
  "kernelspec": {
   "display_name": "Python 3 (ipykernel)",
   "language": "python",
   "name": "python3"
  },
  "language_info": {
   "codemirror_mode": {
    "name": "ipython",
    "version": 3
   },
   "file_extension": ".py",
   "mimetype": "text/x-python",
   "name": "python",
   "nbconvert_exporter": "python",
   "pygments_lexer": "ipython3",
   "version": "3.9.7"
  }
 },
 "nbformat": 4,
 "nbformat_minor": 5
}
