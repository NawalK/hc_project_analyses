{
 "cells": [
  {
   "cell_type": "markdown",
   "metadata": {},
   "source": [
    "# <font color=#f4665a>  ICA analysis </font>"
   ]
  },
  {
   "cell_type": "markdown",
   "metadata": {},
   "source": [
    "### Project: BMPD HC\n",
    "____________________________________________________\n",
    "\n",
    "**Description:** This notebook provides code for BOLD signal fMRI resting-state processing for the Biomarker for Parkinson's Disease (BMPD)data. \n",
    "We will used ICA analysis:\n",
    "CanICA is an ICA package for group-level analysis of fMRI data.  \n",
    "It brings a well-controlled group model, as well as a thresholding algorithm controlling for specificity and sensitivity with an explicit model of the signal.  \n",
    "The reference papers are: G. Varoquaux et al. \"A group model for stable multi-subject ICA on fMRI datasets\", NeuroImage Vol 51 (2010), p. 288-299\n",
    "G. Varoquaux et al. \"ICA-based sparse features recovery from fMRI datasets\", IEEE ISBI 2010, p. 1177\n",
    "\n",
    "\n",
    "**Toolbox required:** SpinalCordToolbox, FSL, nilearn toolbox, nipype, matlab\n",
    "\n",
    "**Inputs**:  \n",
    "This notebook required this the following prepross anatomical,fmri images \n",
    "\n",
    "**Ouputs**:\n",
    "See the output description at each step of the Notebook.\n",
    "\n",
    "____________________________________________________\n"
   ]
  },
  {
   "cell_type": "markdown",
   "metadata": {},
   "source": [
    "## <font color=#00988c> Imports </font>"
   ]
  },
  {
   "cell_type": "code",
   "execution_count": 9,
   "metadata": {},
   "outputs": [
    {
     "name": "stdout",
     "output_type": "stream",
     "text": [
      "The autoreload extension is already loaded. To reload it, use:\n",
      "  %reload_ext autoreload\n"
     ]
    }
   ],
   "source": [
    "import sys\n",
    "import json\n",
    "# Spinal cord Toolbox_________________________________________\n",
    "### Cerebro:\n",
    "sys.path.append(\"/cerebro/cerebro1/dataset/bmpd/derivatives/thibault_test/code/toolbox/spinalcordtoolbox-5.0.0\")\n",
    "sys.path.append(\"/cerebro/cerebro1/dataset/bmpd/derivatives/thibault_test/code/toolbox/spinalcordtoolbox-5.0.0/scripts\") #sys.path.insert(0, \"/cerebro/cerebro1/dataset/bmpd/derivatives/sc_preproc/code/sct/spinalcordtoolbox\")\n",
    "sys.path.append(\"/cerebro/cerebro1/dataset/bmpd/derivatives/HealthyControls_project/hc_project_analyses/code/\") #sys.path.insert(0, \"/cerebro/cerebro1/dataset/bmpd/derivatives/sc_preproc/code/sct/spinalcordtoolbox\")\n",
    "sys.path.append(\"/cerebro/cerebro1/dataset/bmpd/derivatives/HealthyControls_project/hc_project_analyses/code/\")\n",
    "\n",
    "from spinalcordtoolbox.utils.sys import run_proc\n",
    "import glob, os\n",
    "from nilearn.maskers import NiftiMasker\n",
    "import numpy as np\n",
    "import random\n",
    "import pandas as pd\n",
    "\n",
    "from canICA_analyses import ICA\n",
    "%matplotlib inline\n",
    "%load_ext autoreload\n",
    "%autoreload 2\n"
   ]
  },
  {
   "cell_type": "markdown",
   "metadata": {},
   "source": [
    "## <font color=#00988c>  I. Run the canICA analysis </font>"
   ]
  },
  {
   "cell_type": "markdown",
   "metadata": {},
   "source": [
    "### <font color=#00988c>  > Full dataset (main analysis) </font>"
   ]
  },
  {
   "cell_type": "code",
   "execution_count": 15,
   "metadata": {},
   "outputs": [],
   "source": [
    "# Load the dataset config\n",
    "#config_spine_only_CL.json #../config/config_brsc_CL.json\n",
    "with open('/cerebro/cerebro1/dataset/bmpd/derivatives/HealthyControls_project/hc_project_analyses/config/config_spine_only_CL.json') as config_file:\n",
    "    config = json.load(config_file)\n",
    "dataset=\"mtl\" \n",
    "structures=[\"brain\"] # [\"spinalcord\"] or [\"brain\",\"spinalcord\"] . double check the script for brainsc\n",
    "\n",
    "config[\"list_subjects\"][dataset]\n",
    "\n",
    "files_func={};func_allsbj={}\n",
    "for structure in structures:\n",
    "    if len(structures) == 1:\n",
    "        ana=structure\n",
    "    else:\n",
    "        ana= \"brain_spinalcord\"\n",
    "    files_func[structure]=[];func_allsbj[structure]=[]\n",
    "    for sbj_nb in range(len(config[\"list_subjects\"][dataset])):\n",
    "        subject_name=config[\"list_subjects\"][dataset][sbj_nb]\n",
    "        files_func[structure].append(glob.glob(config[\"data\"][dataset][\"inputs_ica\"][\"dir\"]+ '/sub-' + subject_name + '/'  + structure + '/*' + config[\"data\"][dataset][\"inputs_ica\"][structure][\"tag_filename_\" + ana] + '*')[0])\n"
   ]
  },
  {
   "cell_type": "code",
   "execution_count": 19,
   "metadata": {},
   "outputs": [
    {
     "name": "stdout",
     "output_type": "stream",
     "text": [
      "100\n",
      "Analyse will be run on brain structure\n",
      "Mask: /cerebro/cerebro1/dataset/bmpd/derivatives/HealthyControls_project//templates/MNI/MNI_GM_2mm_new.nii.gz\n",
      "/cerebro/cerebro1/dataset/bmpd/derivatives/HealthyControls_project//templates/MNI/MNI_GM_2mm_new.nii.gz\n",
      "- 4D image create for sbj  P030\n",
      "- 4D image create for sbj  P099\n",
      "- 4D image create for sbj  A006\n",
      "- 4D image create for sbj  A007\n",
      "- 4D image create for sbj  A008\n",
      "- 4D image create for sbj  A009\n",
      "- 4D image create for sbj  A011\n",
      "- 4D image create for sbj  A013\n",
      "- 4D image create for sbj  A023\n",
      "- 4D image create for sbj  A024\n",
      "- 4D image create for sbj  A025\n",
      "- 4D image create for sbj  A026\n",
      "- 4D image create for sbj  A027\n",
      "- 4D image create for sbj  A028\n",
      "- 4D image create for sbj  A029\n",
      "- 4D image create for sbj  A030\n",
      "- 4D image create for sbj  A032\n",
      "- 4D image create for sbj  A033\n",
      "- 4D image create for sbj  A034\n",
      "- 4D image create for sbj  A036\n",
      "- 4D image create for sbj  A037\n",
      "- 4D image create for sbj  A038\n",
      "- 4D image create for sbj  A039\n",
      "- 4D image create for sbj  A043\n",
      "- 4D image create for sbj  A044\n",
      "- 4D image create for sbj  A045\n",
      "- 4D image create for sbj  A046\n",
      "- 4D image create for sbj  A048\n",
      "- 4D image create for sbj  A050\n",
      "- 4D image create for sbj  A051\n",
      "- 4D image create for sbj  A052\n",
      ">> Individual PCA done <<\n"
     ]
    },
    {
     "name": "stderr",
     "output_type": "stream",
     "text": [
      "/cerebro/cerebro1/dataset/bmpd/derivatives/thibault_test/code/toolbox/bmpd_python/lib/python3.6/site-packages/sklearn/decomposition/_fastica.py:60: RuntimeWarning: invalid value encountered in sqrt\n",
      "  return np.linalg.multi_dot([u * (1. / np.sqrt(s)), u.T, W])\n"
     ]
    },
    {
     "ename": "ValueError",
     "evalue": "array must not contain infs or NaNs",
     "output_type": "error",
     "traceback": [
      "\u001b[0;31m---------------------------------------------------------------------------\u001b[0m",
      "\u001b[0;31mValueError\u001b[0m                                Traceback (most recent call last)",
      "\u001b[0;32m<ipython-input-19-377fd79760f3>\u001b[0m in \u001b[0;36m<module>\u001b[0;34m\u001b[0m\n\u001b[1;32m     16\u001b[0m         \u001b[0mconfig\u001b[0m\u001b[0;34m[\u001b[0m\u001b[0;34m\"ica_ana\"\u001b[0m\u001b[0;34m]\u001b[0m\u001b[0;34m[\u001b[0m\u001b[0;34m\"iter\"\u001b[0m\u001b[0;34m]\u001b[0m\u001b[0;34m=\u001b[0m\u001b[0;36m50\u001b[0m\u001b[0;34m\u001b[0m\u001b[0;34m\u001b[0m\u001b[0m\n\u001b[1;32m     17\u001b[0m         \u001b[0mcomponents\u001b[0m\u001b[0;34m=\u001b[0m\u001b[0micas\u001b[0m\u001b[0;34m.\u001b[0m\u001b[0mget_CCA\u001b[0m\u001b[0;34m(\u001b[0m\u001b[0mreducedata_all\u001b[0m\u001b[0;34m)\u001b[0m\u001b[0;34m\u001b[0m\u001b[0;34m\u001b[0m\u001b[0m\n\u001b[0;32m---> 18\u001b[0;31m         \u001b[0mcomponents_final\u001b[0m\u001b[0;34m,\u001b[0m\u001b[0mcomponents_final_z\u001b[0m\u001b[0;34m=\u001b[0m\u001b[0micas\u001b[0m\u001b[0;34m.\u001b[0m\u001b[0mget_ICA\u001b[0m\u001b[0;34m(\u001b[0m\u001b[0mcomponents\u001b[0m\u001b[0;34m)\u001b[0m\u001b[0;34m\u001b[0m\u001b[0;34m\u001b[0m\u001b[0m\n\u001b[0m\u001b[1;32m     19\u001b[0m         \u001b[0mzcomponents4D_filename\u001b[0m\u001b[0;34m=\u001b[0m\u001b[0micas\u001b[0m\u001b[0;34m.\u001b[0m\u001b[0msave_components\u001b[0m\u001b[0;34m(\u001b[0m\u001b[0mcomponents_final\u001b[0m\u001b[0;34m,\u001b[0m\u001b[0mcomponents_final_z\u001b[0m\u001b[0;34m)\u001b[0m\u001b[0;34m\u001b[0m\u001b[0;34m\u001b[0m\u001b[0m\n\u001b[1;32m     20\u001b[0m \u001b[0;34m\u001b[0m\u001b[0m\n",
      "\u001b[0;32m/cerebro/cerebro1/dataset/bmpd/derivatives/HealthyControls_project/hc_project_analyses/code/canICA_analyses.py\u001b[0m in \u001b[0;36mget_ICA\u001b[0;34m(self, components_, k)\u001b[0m\n\u001b[1;32m    348\u001b[0m                                     np.sum(np.abs(ica_map), axis=1).max())\n\u001b[1;32m    349\u001b[0m                                    for ica_map in ica_maps_gen_)\n\u001b[0;32m--> 350\u001b[0;31m         \u001b[0mica_maps\u001b[0m\u001b[0;34m,\u001b[0m \u001b[0m_\u001b[0m \u001b[0;34m=\u001b[0m \u001b[0mmin\u001b[0m\u001b[0;34m(\u001b[0m\u001b[0mica_maps_and_sparsities\u001b[0m\u001b[0;34m,\u001b[0m \u001b[0mkey\u001b[0m\u001b[0;34m=\u001b[0m\u001b[0mitemgetter\u001b[0m\u001b[0;34m(\u001b[0m\u001b[0;34m-\u001b[0m\u001b[0;36m1\u001b[0m\u001b[0;34m)\u001b[0m\u001b[0;34m)\u001b[0m\u001b[0;34m\u001b[0m\u001b[0;34m\u001b[0m\u001b[0m\n\u001b[0m\u001b[1;32m    351\u001b[0m \u001b[0;34m\u001b[0m\u001b[0m\n\u001b[1;32m    352\u001b[0m         \u001b[0;31m#abs_ica_maps = np.abs(ica_maps)\u001b[0m\u001b[0;34m\u001b[0m\u001b[0;34m\u001b[0m\u001b[0;34m\u001b[0m\u001b[0m\n",
      "\u001b[0;32m/cerebro/cerebro1/dataset/bmpd/derivatives/HealthyControls_project/hc_project_analyses/code/canICA_analyses.py\u001b[0m in \u001b[0;36m<genexpr>\u001b[0;34m(.0)\u001b[0m\n\u001b[1;32m    345\u001b[0m \u001b[0;34m\u001b[0m\u001b[0m\n\u001b[1;32m    346\u001b[0m         \u001b[0mica_maps_gen_\u001b[0m \u001b[0;34m=\u001b[0m \u001b[0;34m(\u001b[0m\u001b[0mresult\u001b[0m\u001b[0;34m[\u001b[0m\u001b[0;36m2\u001b[0m\u001b[0;34m]\u001b[0m \u001b[0;32mfor\u001b[0m \u001b[0mresult\u001b[0m \u001b[0;32min\u001b[0m \u001b[0mresults\u001b[0m\u001b[0;34m)\u001b[0m\u001b[0;34m\u001b[0m\u001b[0;34m\u001b[0m\u001b[0m\n\u001b[0;32m--> 347\u001b[0;31m         ica_maps_and_sparsities = ((ica_map,\n\u001b[0m\u001b[1;32m    348\u001b[0m                                     np.sum(np.abs(ica_map), axis=1).max())\n\u001b[1;32m    349\u001b[0m                                    for ica_map in ica_maps_gen_)\n",
      "\u001b[0;32m/cerebro/cerebro1/dataset/bmpd/derivatives/HealthyControls_project/hc_project_analyses/code/canICA_analyses.py\u001b[0m in \u001b[0;36m<genexpr>\u001b[0;34m(.0)\u001b[0m\n\u001b[1;32m    344\u001b[0m \u001b[0;34m\u001b[0m\u001b[0m\n\u001b[1;32m    345\u001b[0m \u001b[0;34m\u001b[0m\u001b[0m\n\u001b[0;32m--> 346\u001b[0;31m         \u001b[0mica_maps_gen_\u001b[0m \u001b[0;34m=\u001b[0m \u001b[0;34m(\u001b[0m\u001b[0mresult\u001b[0m\u001b[0;34m[\u001b[0m\u001b[0;36m2\u001b[0m\u001b[0;34m]\u001b[0m \u001b[0;32mfor\u001b[0m \u001b[0mresult\u001b[0m \u001b[0;32min\u001b[0m \u001b[0mresults\u001b[0m\u001b[0;34m)\u001b[0m\u001b[0;34m\u001b[0m\u001b[0;34m\u001b[0m\u001b[0m\n\u001b[0m\u001b[1;32m    347\u001b[0m         ica_maps_and_sparsities = ((ica_map,\n\u001b[1;32m    348\u001b[0m                                     np.sum(np.abs(ica_map), axis=1).max())\n",
      "\u001b[0;32m/cerebro/cerebro1/dataset/bmpd/derivatives/HealthyControls_project/hc_project_analyses/code/canICA_analyses.py\u001b[0m in \u001b[0;36m<genexpr>\u001b[0;34m(.0)\u001b[0m\n\u001b[1;32m    334\u001b[0m         \u001b[0;32mif\u001b[0m \u001b[0mk\u001b[0m \u001b[0;34m==\u001b[0m \u001b[0;32mNone\u001b[0m\u001b[0;34m:\u001b[0m\u001b[0;34m\u001b[0m\u001b[0;34m\u001b[0m\u001b[0m\n\u001b[1;32m    335\u001b[0m             results = (fastica(components_, whiten=True, fun='cube',random_state=seed)\n\u001b[0;32m--> 336\u001b[0;31m             for seed in seeds)\n\u001b[0m\u001b[1;32m    337\u001b[0m \u001b[0;34m\u001b[0m\u001b[0m\n\u001b[1;32m    338\u001b[0m         \u001b[0;32melse\u001b[0m \u001b[0;34m:\u001b[0m\u001b[0;34m\u001b[0m\u001b[0;34m\u001b[0m\u001b[0m\n",
      "\u001b[0;32m/cerebro/cerebro1/dataset/bmpd/derivatives/thibault_test/code/toolbox/bmpd_python/lib/python3.6/site-packages/sklearn/utils/validation.py\u001b[0m in \u001b[0;36minner_f\u001b[0;34m(*args, **kwargs)\u001b[0m\n\u001b[1;32m     61\u001b[0m             \u001b[0mextra_args\u001b[0m \u001b[0;34m=\u001b[0m \u001b[0mlen\u001b[0m\u001b[0;34m(\u001b[0m\u001b[0margs\u001b[0m\u001b[0;34m)\u001b[0m \u001b[0;34m-\u001b[0m \u001b[0mlen\u001b[0m\u001b[0;34m(\u001b[0m\u001b[0mall_args\u001b[0m\u001b[0;34m)\u001b[0m\u001b[0;34m\u001b[0m\u001b[0;34m\u001b[0m\u001b[0m\n\u001b[1;32m     62\u001b[0m             \u001b[0;32mif\u001b[0m \u001b[0mextra_args\u001b[0m \u001b[0;34m<=\u001b[0m \u001b[0;36m0\u001b[0m\u001b[0;34m:\u001b[0m\u001b[0;34m\u001b[0m\u001b[0;34m\u001b[0m\u001b[0m\n\u001b[0;32m---> 63\u001b[0;31m                 \u001b[0;32mreturn\u001b[0m \u001b[0mf\u001b[0m\u001b[0;34m(\u001b[0m\u001b[0;34m*\u001b[0m\u001b[0margs\u001b[0m\u001b[0;34m,\u001b[0m \u001b[0;34m**\u001b[0m\u001b[0mkwargs\u001b[0m\u001b[0;34m)\u001b[0m\u001b[0;34m\u001b[0m\u001b[0;34m\u001b[0m\u001b[0m\n\u001b[0m\u001b[1;32m     64\u001b[0m \u001b[0;34m\u001b[0m\u001b[0m\n\u001b[1;32m     65\u001b[0m             \u001b[0;31m# extra_args > 0\u001b[0m\u001b[0;34m\u001b[0m\u001b[0;34m\u001b[0m\u001b[0;34m\u001b[0m\u001b[0m\n",
      "\u001b[0;32m/cerebro/cerebro1/dataset/bmpd/derivatives/thibault_test/code/toolbox/bmpd_python/lib/python3.6/site-packages/sklearn/decomposition/_fastica.py\u001b[0m in \u001b[0;36mfastica\u001b[0;34m(X, n_components, algorithm, whiten, fun, fun_args, max_iter, tol, w_init, random_state, return_X_mean, compute_sources, return_n_iter)\u001b[0m\n\u001b[1;32m    274\u001b[0m                   \u001b[0mmax_iter\u001b[0m\u001b[0;34m=\u001b[0m\u001b[0mmax_iter\u001b[0m\u001b[0;34m,\u001b[0m \u001b[0mtol\u001b[0m\u001b[0;34m=\u001b[0m\u001b[0mtol\u001b[0m\u001b[0;34m,\u001b[0m \u001b[0mw_init\u001b[0m\u001b[0;34m=\u001b[0m\u001b[0mw_init\u001b[0m\u001b[0;34m,\u001b[0m\u001b[0;34m\u001b[0m\u001b[0;34m\u001b[0m\u001b[0m\n\u001b[1;32m    275\u001b[0m                   random_state=random_state)\n\u001b[0;32m--> 276\u001b[0;31m     \u001b[0msources\u001b[0m \u001b[0;34m=\u001b[0m \u001b[0mest\u001b[0m\u001b[0;34m.\u001b[0m\u001b[0m_fit\u001b[0m\u001b[0;34m(\u001b[0m\u001b[0mX\u001b[0m\u001b[0;34m,\u001b[0m \u001b[0mcompute_sources\u001b[0m\u001b[0;34m=\u001b[0m\u001b[0mcompute_sources\u001b[0m\u001b[0;34m)\u001b[0m\u001b[0;34m\u001b[0m\u001b[0;34m\u001b[0m\u001b[0m\n\u001b[0m\u001b[1;32m    277\u001b[0m \u001b[0;34m\u001b[0m\u001b[0m\n\u001b[1;32m    278\u001b[0m     \u001b[0;32mif\u001b[0m \u001b[0mwhiten\u001b[0m\u001b[0;34m:\u001b[0m\u001b[0;34m\u001b[0m\u001b[0;34m\u001b[0m\u001b[0m\n",
      "\u001b[0;32m/cerebro/cerebro1/dataset/bmpd/derivatives/thibault_test/code/toolbox/bmpd_python/lib/python3.6/site-packages/sklearn/decomposition/_fastica.py\u001b[0m in \u001b[0;36m_fit\u001b[0;34m(self, X, compute_sources)\u001b[0m\n\u001b[1;32m    510\u001b[0m \u001b[0;34m\u001b[0m\u001b[0m\n\u001b[1;32m    511\u001b[0m         \u001b[0;32mif\u001b[0m \u001b[0mself\u001b[0m\u001b[0;34m.\u001b[0m\u001b[0malgorithm\u001b[0m \u001b[0;34m==\u001b[0m \u001b[0;34m'parallel'\u001b[0m\u001b[0;34m:\u001b[0m\u001b[0;34m\u001b[0m\u001b[0;34m\u001b[0m\u001b[0m\n\u001b[0;32m--> 512\u001b[0;31m             \u001b[0mW\u001b[0m\u001b[0;34m,\u001b[0m \u001b[0mn_iter\u001b[0m \u001b[0;34m=\u001b[0m \u001b[0m_ica_par\u001b[0m\u001b[0;34m(\u001b[0m\u001b[0mX1\u001b[0m\u001b[0;34m,\u001b[0m \u001b[0;34m**\u001b[0m\u001b[0mkwargs\u001b[0m\u001b[0;34m)\u001b[0m\u001b[0;34m\u001b[0m\u001b[0;34m\u001b[0m\u001b[0m\n\u001b[0m\u001b[1;32m    513\u001b[0m         \u001b[0;32melif\u001b[0m \u001b[0mself\u001b[0m\u001b[0;34m.\u001b[0m\u001b[0malgorithm\u001b[0m \u001b[0;34m==\u001b[0m \u001b[0;34m'deflation'\u001b[0m\u001b[0;34m:\u001b[0m\u001b[0;34m\u001b[0m\u001b[0;34m\u001b[0m\u001b[0m\n\u001b[1;32m    514\u001b[0m             \u001b[0mW\u001b[0m\u001b[0;34m,\u001b[0m \u001b[0mn_iter\u001b[0m \u001b[0;34m=\u001b[0m \u001b[0m_ica_def\u001b[0m\u001b[0;34m(\u001b[0m\u001b[0mX1\u001b[0m\u001b[0;34m,\u001b[0m \u001b[0;34m**\u001b[0m\u001b[0mkwargs\u001b[0m\u001b[0;34m)\u001b[0m\u001b[0;34m\u001b[0m\u001b[0;34m\u001b[0m\u001b[0m\n",
      "\u001b[0;32m/cerebro/cerebro1/dataset/bmpd/derivatives/thibault_test/code/toolbox/bmpd_python/lib/python3.6/site-packages/sklearn/decomposition/_fastica.py\u001b[0m in \u001b[0;36m_ica_par\u001b[0;34m(***failed resolving arguments***)\u001b[0m\n\u001b[1;32m    108\u001b[0m         \u001b[0mgwtx\u001b[0m\u001b[0;34m,\u001b[0m \u001b[0mg_wtx\u001b[0m \u001b[0;34m=\u001b[0m \u001b[0mg\u001b[0m\u001b[0;34m(\u001b[0m\u001b[0mnp\u001b[0m\u001b[0;34m.\u001b[0m\u001b[0mdot\u001b[0m\u001b[0;34m(\u001b[0m\u001b[0mW\u001b[0m\u001b[0;34m,\u001b[0m \u001b[0mX\u001b[0m\u001b[0;34m)\u001b[0m\u001b[0;34m,\u001b[0m \u001b[0mfun_args\u001b[0m\u001b[0;34m)\u001b[0m\u001b[0;34m\u001b[0m\u001b[0;34m\u001b[0m\u001b[0m\n\u001b[1;32m    109\u001b[0m         W1 = _sym_decorrelation(np.dot(gwtx, X.T) / p_\n\u001b[0;32m--> 110\u001b[0;31m                                 - g_wtx[:, np.newaxis] * W)\n\u001b[0m\u001b[1;32m    111\u001b[0m         \u001b[0;32mdel\u001b[0m \u001b[0mgwtx\u001b[0m\u001b[0;34m,\u001b[0m \u001b[0mg_wtx\u001b[0m\u001b[0;34m\u001b[0m\u001b[0;34m\u001b[0m\u001b[0m\n\u001b[1;32m    112\u001b[0m         \u001b[0;31m# builtin max, abs are faster than numpy counter parts.\u001b[0m\u001b[0;34m\u001b[0m\u001b[0;34m\u001b[0m\u001b[0;34m\u001b[0m\u001b[0m\n",
      "\u001b[0;32m/cerebro/cerebro1/dataset/bmpd/derivatives/thibault_test/code/toolbox/bmpd_python/lib/python3.6/site-packages/sklearn/decomposition/_fastica.py\u001b[0m in \u001b[0;36m_sym_decorrelation\u001b[0;34m(W)\u001b[0m\n\u001b[1;32m     55\u001b[0m     \u001b[0mi\u001b[0m\u001b[0;34m.\u001b[0m\u001b[0me\u001b[0m\u001b[0;34m.\u001b[0m \u001b[0mW\u001b[0m \u001b[0;34m<\u001b[0m\u001b[0;34m-\u001b[0m \u001b[0;34m(\u001b[0m\u001b[0mW\u001b[0m \u001b[0;34m*\u001b[0m \u001b[0mW\u001b[0m\u001b[0;34m.\u001b[0m\u001b[0mT\u001b[0m\u001b[0;34m)\u001b[0m \u001b[0;34m^\u001b[0m\u001b[0;34m{\u001b[0m\u001b[0;34m-\u001b[0m\u001b[0;36m1\u001b[0m\u001b[0;34m/\u001b[0m\u001b[0;36m2\u001b[0m\u001b[0;34m}\u001b[0m \u001b[0;34m*\u001b[0m \u001b[0mW\u001b[0m\u001b[0;34m\u001b[0m\u001b[0;34m\u001b[0m\u001b[0m\n\u001b[1;32m     56\u001b[0m     \"\"\"\n\u001b[0;32m---> 57\u001b[0;31m     \u001b[0ms\u001b[0m\u001b[0;34m,\u001b[0m \u001b[0mu\u001b[0m \u001b[0;34m=\u001b[0m \u001b[0mlinalg\u001b[0m\u001b[0;34m.\u001b[0m\u001b[0meigh\u001b[0m\u001b[0;34m(\u001b[0m\u001b[0mnp\u001b[0m\u001b[0;34m.\u001b[0m\u001b[0mdot\u001b[0m\u001b[0;34m(\u001b[0m\u001b[0mW\u001b[0m\u001b[0;34m,\u001b[0m \u001b[0mW\u001b[0m\u001b[0;34m.\u001b[0m\u001b[0mT\u001b[0m\u001b[0;34m)\u001b[0m\u001b[0;34m)\u001b[0m\u001b[0;34m\u001b[0m\u001b[0;34m\u001b[0m\u001b[0m\n\u001b[0m\u001b[1;32m     58\u001b[0m     \u001b[0;31m# u (resp. s) contains the eigenvectors (resp. square roots of\u001b[0m\u001b[0;34m\u001b[0m\u001b[0;34m\u001b[0m\u001b[0;34m\u001b[0m\u001b[0m\n\u001b[1;32m     59\u001b[0m     \u001b[0;31m# the eigenvalues) of W * W.T\u001b[0m\u001b[0;34m\u001b[0m\u001b[0;34m\u001b[0m\u001b[0;34m\u001b[0m\u001b[0m\n",
      "\u001b[0;32m/cerebro/cerebro1/dataset/bmpd/derivatives/thibault_test/code/toolbox/bmpd_python/lib/python3.6/site-packages/scipy/linalg/decomp.py\u001b[0m in \u001b[0;36meigh\u001b[0;34m(a, b, lower, eigvals_only, overwrite_a, overwrite_b, turbo, eigvals, type, check_finite, subset_by_index, subset_by_value, driver)\u001b[0m\n\u001b[1;32m    443\u001b[0m                          ''.format(driver, '\", \"'.join(drv_str[1:])))\n\u001b[1;32m    444\u001b[0m \u001b[0;34m\u001b[0m\u001b[0m\n\u001b[0;32m--> 445\u001b[0;31m     \u001b[0ma1\u001b[0m \u001b[0;34m=\u001b[0m \u001b[0m_asarray_validated\u001b[0m\u001b[0;34m(\u001b[0m\u001b[0ma\u001b[0m\u001b[0;34m,\u001b[0m \u001b[0mcheck_finite\u001b[0m\u001b[0;34m=\u001b[0m\u001b[0mcheck_finite\u001b[0m\u001b[0;34m)\u001b[0m\u001b[0;34m\u001b[0m\u001b[0;34m\u001b[0m\u001b[0m\n\u001b[0m\u001b[1;32m    446\u001b[0m     \u001b[0;32mif\u001b[0m \u001b[0mlen\u001b[0m\u001b[0;34m(\u001b[0m\u001b[0ma1\u001b[0m\u001b[0;34m.\u001b[0m\u001b[0mshape\u001b[0m\u001b[0;34m)\u001b[0m \u001b[0;34m!=\u001b[0m \u001b[0;36m2\u001b[0m \u001b[0;32mor\u001b[0m \u001b[0ma1\u001b[0m\u001b[0;34m.\u001b[0m\u001b[0mshape\u001b[0m\u001b[0;34m[\u001b[0m\u001b[0;36m0\u001b[0m\u001b[0;34m]\u001b[0m \u001b[0;34m!=\u001b[0m \u001b[0ma1\u001b[0m\u001b[0;34m.\u001b[0m\u001b[0mshape\u001b[0m\u001b[0;34m[\u001b[0m\u001b[0;36m1\u001b[0m\u001b[0;34m]\u001b[0m\u001b[0;34m:\u001b[0m\u001b[0;34m\u001b[0m\u001b[0;34m\u001b[0m\u001b[0m\n\u001b[1;32m    447\u001b[0m         \u001b[0;32mraise\u001b[0m \u001b[0mValueError\u001b[0m\u001b[0;34m(\u001b[0m\u001b[0;34m'expected square \"a\" matrix'\u001b[0m\u001b[0;34m)\u001b[0m\u001b[0;34m\u001b[0m\u001b[0;34m\u001b[0m\u001b[0m\n",
      "\u001b[0;32m/cerebro/cerebro1/dataset/bmpd/derivatives/thibault_test/code/toolbox/bmpd_python/lib/python3.6/site-packages/scipy/_lib/_util.py\u001b[0m in \u001b[0;36m_asarray_validated\u001b[0;34m(a, check_finite, sparse_ok, objects_ok, mask_ok, as_inexact)\u001b[0m\n\u001b[1;32m    270\u001b[0m             \u001b[0;32mraise\u001b[0m \u001b[0mValueError\u001b[0m\u001b[0;34m(\u001b[0m\u001b[0;34m'masked arrays are not supported'\u001b[0m\u001b[0;34m)\u001b[0m\u001b[0;34m\u001b[0m\u001b[0;34m\u001b[0m\u001b[0m\n\u001b[1;32m    271\u001b[0m     \u001b[0mtoarray\u001b[0m \u001b[0;34m=\u001b[0m \u001b[0mnp\u001b[0m\u001b[0;34m.\u001b[0m\u001b[0masarray_chkfinite\u001b[0m \u001b[0;32mif\u001b[0m \u001b[0mcheck_finite\u001b[0m \u001b[0;32melse\u001b[0m \u001b[0mnp\u001b[0m\u001b[0;34m.\u001b[0m\u001b[0masarray\u001b[0m\u001b[0;34m\u001b[0m\u001b[0;34m\u001b[0m\u001b[0m\n\u001b[0;32m--> 272\u001b[0;31m     \u001b[0ma\u001b[0m \u001b[0;34m=\u001b[0m \u001b[0mtoarray\u001b[0m\u001b[0;34m(\u001b[0m\u001b[0ma\u001b[0m\u001b[0;34m)\u001b[0m\u001b[0;34m\u001b[0m\u001b[0;34m\u001b[0m\u001b[0m\n\u001b[0m\u001b[1;32m    273\u001b[0m     \u001b[0;32mif\u001b[0m \u001b[0;32mnot\u001b[0m \u001b[0mobjects_ok\u001b[0m\u001b[0;34m:\u001b[0m\u001b[0;34m\u001b[0m\u001b[0;34m\u001b[0m\u001b[0m\n\u001b[1;32m    274\u001b[0m         \u001b[0;32mif\u001b[0m \u001b[0ma\u001b[0m\u001b[0;34m.\u001b[0m\u001b[0mdtype\u001b[0m \u001b[0;32mis\u001b[0m \u001b[0mnp\u001b[0m\u001b[0;34m.\u001b[0m\u001b[0mdtype\u001b[0m\u001b[0;34m(\u001b[0m\u001b[0;34m'O'\u001b[0m\u001b[0;34m)\u001b[0m\u001b[0;34m:\u001b[0m\u001b[0;34m\u001b[0m\u001b[0;34m\u001b[0m\u001b[0m\n",
      "\u001b[0;32m/cerebro/cerebro1/dataset/bmpd/derivatives/thibault_test/code/toolbox/bmpd_python/lib/python3.6/site-packages/numpy/lib/function_base.py\u001b[0m in \u001b[0;36masarray_chkfinite\u001b[0;34m(a, dtype, order)\u001b[0m\n\u001b[1;32m    484\u001b[0m     \u001b[0;32mif\u001b[0m \u001b[0ma\u001b[0m\u001b[0;34m.\u001b[0m\u001b[0mdtype\u001b[0m\u001b[0;34m.\u001b[0m\u001b[0mchar\u001b[0m \u001b[0;32min\u001b[0m \u001b[0mtypecodes\u001b[0m\u001b[0;34m[\u001b[0m\u001b[0;34m'AllFloat'\u001b[0m\u001b[0;34m]\u001b[0m \u001b[0;32mand\u001b[0m \u001b[0;32mnot\u001b[0m \u001b[0mnp\u001b[0m\u001b[0;34m.\u001b[0m\u001b[0misfinite\u001b[0m\u001b[0;34m(\u001b[0m\u001b[0ma\u001b[0m\u001b[0;34m)\u001b[0m\u001b[0;34m.\u001b[0m\u001b[0mall\u001b[0m\u001b[0;34m(\u001b[0m\u001b[0;34m)\u001b[0m\u001b[0;34m:\u001b[0m\u001b[0;34m\u001b[0m\u001b[0;34m\u001b[0m\u001b[0m\n\u001b[1;32m    485\u001b[0m         raise ValueError(\n\u001b[0;32m--> 486\u001b[0;31m             \"array must not contain infs or NaNs\")\n\u001b[0m\u001b[1;32m    487\u001b[0m     \u001b[0;32mreturn\u001b[0m \u001b[0ma\u001b[0m\u001b[0;34m\u001b[0m\u001b[0;34m\u001b[0m\u001b[0m\n\u001b[1;32m    488\u001b[0m \u001b[0;34m\u001b[0m\u001b[0m\n",
      "\u001b[0;31mValueError\u001b[0m: array must not contain infs or NaNs"
     ]
    }
   ],
   "source": [
    "config[\"ica_ana\"][\"iter\"]=100\n",
    "redo=True\n",
    "#config[\"ica_ana\"][\"k_range\"][\"spinalcord\"]=[3]\n",
    "for k in config[\"ica_ana\"][\"k_range\"][\"brain\"]:\n",
    "    config[\"ica_ana\"][\"n_comp\"]=k # usefull if you want to test only on k\n",
    "    print(config[\"ica_ana\"][\"iter\"])\n",
    "\n",
    "    icas = ICA(files_func[structure],[''],structures,dataset,config) # \"brain_spinalcord\" or \"brain\" or \"spinalcord\"\n",
    "    #icas = ICA(files_func[structures[0]],files_func[structures[1]],structures,dataset,config) # \"brain_spinalcord\" or \"brain\" or \"spinalcord\"\n",
    "    if k==4:\n",
    "        all_data=icas.get_data(run='extract',t_r=config[\"acq_params\"][dataset][\"TR\"],n_jobs=1) # load or extract\n",
    "    if redo==True:\n",
    "        all_data=icas.get_data(run='extract',t_r=config[\"acq_params\"][dataset][\"TR\"],n_jobs=8) # load or extract, if NaN issues put both\n",
    "        #all_data=icas.get_data(run='load',t_r=config[\"acq_params\"][dataset][\"TR\"],n_jobs=8) # load or extract, if NaN issues put both\n",
    "        reducedata_all=icas.indiv_PCA(all_data,save_indiv_img=True) # that step is not implanted to save individual maps for brain + sc yet\n",
    "        config[\"ica_ana\"][\"iter\"]=50\n",
    "        components=icas.get_CCA(reducedata_all)\n",
    "        components_final,components_final_z=icas.get_ICA(components)\n",
    "        zcomponents4D_filename=icas.save_components(components_final,components_final_z)\n",
    "    "
   ]
  },
  {
   "cell_type": "code",
   "execution_count": 20,
   "metadata": {},
   "outputs": [
    {
     "name": "stdout",
     "output_type": "stream",
     "text": [
      ">> Group ICA done <<\n",
      ">> Components z-scored done <<\n"
     ]
    }
   ],
   "source": [
    "#components=icas.get_CCA(reducedata_all)\n",
    "components_final,components_final_z=icas.get_ICA(components)\n",
    "zcomponents4D_filename=icas.save_components(components_final,components_final_z)\n",
    "    "
   ]
  },
  {
   "cell_type": "code",
   "execution_count": 17,
   "metadata": {},
   "outputs": [
    {
     "name": "stdout",
     "output_type": "stream",
     "text": [
      ">> Components z-scored done <<\n"
     ]
    }
   ],
   "source": [
    "zcomponents4D_filename=icas.save_components(components_final,components_final_z)\n",
    " "
   ]
  },
  {
   "cell_type": "markdown",
   "metadata": {},
   "source": [
    "### <font color=#00988c>  > Split dataset in subvolumes </font>"
   ]
  },
  {
   "cell_type": "code",
   "execution_count": null,
   "metadata": {},
   "outputs": [],
   "source": [
    "# Load the dataset config\n",
    "#config_spine_only_CL.json #../config/config_brsc_CL.json\n",
    "with open('../config/config_spine_only_CL.json') as config_file:\n",
    "    config = json.load(config_file)\n",
    "dataset=\"mtl\" \n",
    "structures=[\"spinalcord\"] # [\"spinalcord\"] or [\"brain\",\"spinalcord\"] . double check the script for brainsc\n",
    "analysis=\"split_volumes\"\n",
    "if dataset ==\"gva\":\n",
    "    splits=[\"quart1\",\"quart2\",\"quart3\",\"quart4\"]\n",
    "    config[\"ica_ana\"][\"k_range\"][\"spinalcord\"]=[5]\n",
    "elif dataset ==\"mtl\":\n",
    "    splits=[\"half1\",\"half2\"]\n",
    "    config[\"ica_ana\"][\"k_range\"][\"spinalcord\"]=[9]\n",
    "\n",
    "for split in splits:\n",
    "    config[\"data\"][dataset][\"ica\"][\"spinalcord\"][\"dir\"]='/ICA/results_spine_only/'+dataset+'/spinalcord/' + analysis +\"/\" + split +\"/\"\n",
    "    \n",
    "    if not os.path.exists(config['main_dir']+ config[\"data\"][dataset][\"ica\"][\"spinalcord\"][\"dir\"]):\n",
    "        os.mkdir(config['main_dir'] + config[\"data\"][dataset][\"ica\"][\"spinalcord\"][\"dir\"])\n",
    "        \n",
    "    files_func={};func_allsbj={}\n",
    "    for structure in structures:\n",
    "        if len(structures) == 1:\n",
    "            ana=structure\n",
    "        else:\n",
    "            ana= \"brain_spinalcord\"\n",
    "        files_func[structure]=[];func_allsbj[structure]=[]\n",
    "        for sbj_nb in range(len(config[\"list_subjects\"][dataset])):\n",
    "            subject_name=config[\"list_subjects\"][dataset][sbj_nb]\n",
    "            files_func[structure].append(glob.glob(config[\"data\"][dataset][\"inputs_ica\"][\"dir\"]+ '/sub-' + subject_name + '/'  + structure + '/*' + config[\"data\"][dataset][\"inputs_ica\"][structure][\"tag_filename_spinalcord\"].split(\"s.nii.gz\")[0] + split + \"_s.nii.gz\")[0])\n",
    "\n",
    "    redo=True\n",
    "    \n",
    "    for k in config[\"ica_ana\"][\"k_range\"][\"spinalcord\"]:\n",
    "        config[\"ica_ana\"][\"n_comp\"]=k # usefull if you want to test only on k\n",
    "        print(config[\"ica_ana\"][\"iter\"])\n",
    "\n",
    "        icas = ICA(files_func[structure],[''],structures,dataset,config) # \"brain_spinalcord\" or \"brain\" or \"spinalcord\"\n",
    "        #icas = ICA(files_func[structures[0]],files_func[structures[1]],structures,dataset,config) # \"brain_spinalcord\" or \"brain\" or \"spinalcord\"\n",
    "        if k==4:\n",
    "            all_data=icas.get_data(run='extract',t_r=config[\"acq_params\"][dataset][\"TR\"],n_jobs=1) # load or extract\n",
    "        if redo==True:\n",
    "            #all_data=icas.get_data(run='extract',t_r=config[\"acq_params\"][dataset][\"TR\"],n_jobs=8) # load or extract, if NaN issues put both\n",
    "            all_data=icas.get_data(run='extract',t_r=config[\"acq_params\"][dataset][\"TR\"],n_jobs=8) # load or extract, if NaN issues put both\n",
    "            reducedata_all=icas.indiv_PCA(all_data,save_indiv_img=True) # that step is not implanted to save individual maps for brain + sc yet\n",
    "            components=icas.get_CCA(reducedata_all)\n",
    "            components_final,components_final_z=icas.get_ICA(components)\n",
    "            zcomponents4D_filename=icas.save_components(components_final,components_final_z)\n"
   ]
  },
  {
   "cell_type": "markdown",
   "metadata": {},
   "source": [
    "### <font color=#00988c>  > Random subjects (n=) </font>"
   ]
  },
  {
   "cell_type": "code",
   "execution_count": null,
   "metadata": {},
   "outputs": [],
   "source": [
    "# Load the dataset config\n",
    "#config_spine_only_CL.json #../config/config_brsc_CL.json\n",
    "with open('../config/config_spine_only_CL.json') as config_file:\n",
    "    config = json.load(config_file)\n",
    "dataset=\"mtl\" \n",
    "structures=[\"spinalcord\"] # [\"spinalcord\"] or [\"brain\",\"spinalcord\"] . double check the script for brainsc\n",
    "n_subject=5\n",
    "\n",
    "\n",
    "split_file=pd.read_csv(config['main_dir']+ '/ICA/results_spine_only/'+dataset+'/spinalcord/split_'+str(n_subject)+'subjects/' + \"subperm.csv\",header=None)\n",
    "\n",
    "for iter in range(0,5):\n",
    "    config[\"data\"][dataset][\"ica\"][\"spinalcord\"][\"dir\"]='/ICA/results_spine_only/'+dataset+'/spinalcord/split_'+str(n_subject)+'subjects/n' + str(iter+1) + '/'\n",
    "    if not os.path.exists(config['main_dir']+ config[\"data\"][dataset][\"ica\"][\"spinalcord\"][\"dir\"]):\n",
    "        os.mkdir(config['main_dir'] + config[\"data\"][dataset][\"ica\"][\"spinalcord\"][\"dir\"])\n",
    "    config[\"list_subjects\"][dataset]\n",
    "\n",
    "    config[\"list_subjects\"][dataset]=split_file[iter].to_list()#config[\"list_subjects\"][dataset]=random.sample(config[\"list_subjects\"][dataset],k=n_subject)\n",
    "\n",
    "    files_func={};func_allsbj={}\n",
    "    for structure in structures:\n",
    "        if len(structures) == 1:\n",
    "            ana=structure\n",
    "        else:\n",
    "            ana= \"brain_spinalcord\"\n",
    "        files_func[structure]=[];func_allsbj[structure]=[]\n",
    "        for sbj_nb in range(len(config[\"list_subjects\"][dataset])):\n",
    "            subject_name=config[\"list_subjects\"][dataset][sbj_nb]\n",
    "            files_func[structure].append(glob.glob(config[\"data\"][dataset][\"inputs_ica\"][\"dir\"]+ '/sub-' + subject_name + '/'  + structure + '/*' + config[\"data\"][dataset][\"inputs_ica\"][structure][\"tag_filename_\" + ana] + '*')[0])\n",
    "  \n",
    "    redo=True\n",
    "    config[\"ica_ana\"][\"k_range\"][\"spinalcord\"]=[5]\n",
    "    for k in config[\"ica_ana\"][\"k_range\"][\"spinalcord\"]:\n",
    "        config[\"ica_ana\"][\"n_comp\"]=k # usefull if you want to test only on k\n",
    "        print(config[\"ica_ana\"][\"iter\"])\n",
    "\n",
    "        icas = ICA(files_func[structure],[''],structures,dataset,config) # \"brain_spinalcord\" or \"brain\" or \"spinalcord\"\n",
    "        #icas = ICA(files_func[structures[0]],files_func[structures[1]],structures,dataset,config) # \"brain_spinalcord\" or \"brain\" or \"spinalcord\"\n",
    "        if k==4:\n",
    "            all_data=icas.get_data(run='extract',t_r=config[\"acq_params\"][dataset][\"TR\"],n_jobs=1) # load or extract\n",
    "        if redo==True:\n",
    "            #all_data=icas.get_data(run='extract',t_r=config[\"acq_params\"][dataset][\"TR\"],n_jobs=8) # load or extract, if NaN issues put both\n",
    "            all_data=icas.get_data(run='extract',t_r=config[\"acq_params\"][dataset][\"TR\"],n_jobs=8) # load or extract, if NaN issues put both\n",
    "            reducedata_all=icas.indiv_PCA(all_data,save_indiv_img=True) # that step is not implanted to save individual maps for brain + sc yet\n",
    "            components=icas.get_CCA(reducedata_all)\n",
    "            components_final,components_final_z=icas.get_ICA(components)\n",
    "            zcomponents4D_filename=icas.save_components(components_final,components_final_z)\n",
    "    "
   ]
  },
  {
   "cell_type": "code",
   "execution_count": null,
   "metadata": {},
   "outputs": [],
   "source": [
    "config[\"data\"][dataset][\"inputs_ica\"][structure][\"tag_filename_\" + ana]"
   ]
  },
  {
   "cell_type": "markdown",
   "metadata": {},
   "source": [
    "## <font color=#00988c> II.  Run individual ICA </font>"
   ]
  },
  {
   "cell_type": "code",
   "execution_count": null,
   "metadata": {},
   "outputs": [],
   "source": [
    "import os \n",
    "outputdir=[]\n",
    "config[\"ica_ana\"][\"iter\"]=500\n",
    "for sbj_nb in range(0,1):#len(config[\"list_subjects\"][dataset])):\n",
    "    subject_name=config[\"list_subjects\"][dataset][sbj_nb]\n",
    "    print(subject_name)\n",
    "    config[\"ica_ana\"][\"n_comp\"]=9\n",
    "    \n",
    "    icas = ICA([files_func[structure][sbj_nb]],[''],structures,dataset,config,subject_name) \n",
    "    \n",
    "    # extract individual data\n",
    "    components=icas.get_data(run='extract',t_r=config[\"acq_params\"][dataset][\"TR\"],n_jobs=8) # load or extract, if NaN issues put both\n",
    "    components_final,components_final_z=icas.get_ICA(components.T,k=9) # components (n_voxels,n_volumes)\n",
    "    zcomponents4D_filename=icas.save_components(components_final,components_final_z,one_subject=subject_name)\n",
    "    "
   ]
  },
  {
   "cell_type": "code",
   "execution_count": null,
   "metadata": {},
   "outputs": [],
   "source": [
    "config[\"ica_ana\"][\"iter\"]=5\n",
    "\n",
    "components_final,components_final_z=icas.get_ICA(components.T,k=9)"
   ]
  },
  {
   "cell_type": "code",
   "execution_count": null,
   "metadata": {},
   "outputs": [],
   "source": [
    "zcomponents4D_filename=icas.save_components(components_final,components_final_z)\n",
    "   "
   ]
  },
  {
   "cell_type": "markdown",
   "metadata": {},
   "source": [
    "## <font color=#00988c> III.  Analyse to test iteration </font>"
   ]
  },
  {
   "cell_type": "code",
   "execution_count": null,
   "metadata": {},
   "outputs": [],
   "source": [
    "redo=False\n",
    "for iter in [2000,5000]:\n",
    "    config[\"data\"][dataset]['ica'][\"spinalcord\"]['dir']='/ICA/results_spine_only/mtl/spinalcord/iterations_tests/' + str(iter) + \"/\"\n",
    "    config['ica_ana']['iter']=iter\n",
    "    config[\"ica_ana\"][\"k_range\"][\"spinalcord\"]=[9]\n",
    "    print(\"Analyse is running for \" + dataset + \"and k= \" + str(config[\"ica_ana\"][\"k_range\"][\"spinalcord\"]) + \" iter: \" + str(iter))\n",
    "    for k in config[\"ica_ana\"][\"k_range\"][\"spinalcord\"]:\n",
    "        config[\"ica_ana\"][\"n_comp\"]=k # usefull if you want to test only on k\n",
    "        print(config[\"ica_ana\"][\"n_comp\"])\n",
    "        icas = ICA(files_func[structure],[''],structures,dataset,config) # \"brain_spinalcord\" or \"brain\" or \"spinalcord\"\n",
    "        \n",
    "        if k==4:\n",
    "            all_data=icas.get_data(run='extract',t_r=config[\"acq_params\"][dataset][\"TR\"],n_jobs=1) # load or extract\n",
    "        if redo==True:\n",
    "            all_data=icas.get_data(run='extract',t_r=config[\"acq_params\"][dataset][\"TR\"],n_jobs=8) # load or extract, if NaN issues put both\n",
    "            all_data=icas.get_data(run='load',t_r=config[\"acq_params\"][dataset][\"TR\"],n_jobs=8) # load or extract, if NaN issues put both\n",
    "            reducedata_all=icas.indiv_PCA(all_data,save_indiv_img=True) # that step is not implanted to save individual maps for brain + sc yet\n",
    "            components=icas.get_CCA(reducedata_all)\n",
    "            components_final,components_final_z=icas.get_ICA(components)\n",
    "            zcomponents4D_filename=icas.save_components(components_final,components_final_z)"
   ]
  },
  {
   "cell_type": "markdown",
   "metadata": {},
   "source": [
    "## <font color=#00988c>  IV. Run spatial regression </font>\n",
    "To obtain matrices describing temporal dynamics for each component and subject"
   ]
  },
  {
   "cell_type": "code",
   "execution_count": null,
   "metadata": {},
   "outputs": [],
   "source": [
    "# transform image into array\n",
    "load_img=True\n",
    "if load_img==True:\n",
    "    comp_raw_dir= config[\"main_dir\"] + config[\"data\"][dataset][\"ica\"][structure][\"dir\"] + '/' + '/K_' + str(config[\"ica_ana\"][\"n_comp\"]) + '/comp_raw/'\n",
    "    zcomponents4D_filename= glob.glob(comp_raw_dir + \"*4D*\")[0]\n",
    "    nifti_masker= NiftiMasker(mask_img=config[\"main_dir\"] + config[\"masks\"][dataset][structure]).fit() #Extract the data inside the mask and create a vector\n",
    "    components_final=nifti_masker.transform(zcomponents4D_filename).T # array for one subject, shape: n_volumes,n_voxels\n",
    "else:\n",
    "    components_final=components_final\n",
    "    \n",
    "output_dir=config[\"main_dir\"] + config[\"data\"][dataset][\"ica\"][structure][\"dir\"] + '/' + '/K_' + str(config[\"ica_ana\"][\"n_comp\"]) + '/comp_indiv_dynamic/'\n",
    "if not os.path.exists(output_dir):\n",
    "    os.mkdir(output_dir)  "
   ]
  },
  {
   "cell_type": "code",
   "execution_count": null,
   "metadata": {},
   "outputs": [],
   "source": [
    "temporal_dynamics_txt=[]\n",
    "temporal_dynamics=[]\n",
    "for sbj_nb in range(len(config[\"list_subjects\"][dataset])):\n",
    "    subject_name=config[\"list_subjects\"][dataset][sbj_nb]\n",
    "    temporal_dynamics_txt.append(output_dir + \"sub-\" + subject_name + \"_K_\" + str(config[\"ica_ana\"][\"n_comp\"]) + \"_temporal_dynamic.txt\")\n",
    "    temporal_dynamics.append(icas.spatial_regression(components_final,all_data[sbj_nb],save=True,output_filename=temporal_dynamics_txt[sbj_nb]))"
   ]
  },
  {
   "cell_type": "code",
   "execution_count": null,
   "metadata": {},
   "outputs": [],
   "source": [
    "import glob\n",
    "dataset=\"mtl\"\n",
    "func=[]\n",
    "root_prep=\"/cerebro/cerebro1/dataset/\"\n",
    "for sbj_nb in range(len(config[\"list_subjects\"][dataset])):\n",
    "    subject_name=config[\"list_subjects\"][dataset][sbj_nb]\n",
    "    if sbj_nb <12:\n",
    "        datas=\"bmpd/derivatives/spinalcord_processing/\"\n",
    "    else:\n",
    "        datas=\"stratals/derivatives/preprocessing/\"\n",
    "    func.append(glob.glob(root_prep + datas + \"sub-\" + subject_name + \"/func/5_Coregistration/spinalcord/*moco_mean_coreg_in_PAM50.nii.gz\")[0])"
   ]
  },
  {
   "cell_type": "code",
   "execution_count": null,
   "metadata": {},
   "outputs": [],
   "source": [
    "from nilearn import image"
   ]
  },
  {
   "cell_type": "code",
   "execution_count": null,
   "metadata": {},
   "outputs": [],
   "source": [
    "new_4D=image.concat_imgs(func)"
   ]
  },
  {
   "cell_type": "code",
   "execution_count": null,
   "metadata": {},
   "outputs": [],
   "source": [
    "func_4D=\"/cerebro/cerebro1/dataset/bmpd/derivatives/HealthyControls_project/templates/PAM50/template/func_group_4D.nii.gz\"\n",
    "new_4D.to_filename(func_4D)"
   ]
  },
  {
   "cell_type": "code",
   "execution_count": null,
   "metadata": {},
   "outputs": [],
   "source": [
    "func_mean=\"/cerebro/cerebro1/dataset/bmpd/derivatives/HealthyControls_project/templates/PAM50/template/func_group_mean.nii.gz\"\n",
    "run_proc(\"fslmaths {} -Tmean {}\".format(func_4D,func_mean))"
   ]
  },
  {
   "cell_type": "code",
   "execution_count": null,
   "metadata": {},
   "outputs": [],
   "source": [
    "range(len(config[\"list_subjects\"][dataset]))"
   ]
  }
 ],
 "metadata": {
  "kernelspec": {
   "display_name": "Python 3",
   "language": "python",
   "name": "python3"
  },
  "language_info": {
   "codemirror_mode": {
    "name": "ipython",
    "version": 3
   },
   "file_extension": ".py",
   "mimetype": "text/x-python",
   "name": "python",
   "nbconvert_exporter": "python",
   "pygments_lexer": "ipython3",
   "version": "3.6.9"
  }
 },
 "nbformat": 4,
 "nbformat_minor": 4
}
