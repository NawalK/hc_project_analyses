{
 "cells": [
  {
   "cell_type": "markdown",
   "metadata": {},
   "source": [
    "# <font color=#f4665a>  Temporal cropping</font>"
   ]
  },
  {
   "cell_type": "markdown",
   "metadata": {},
   "source": [
    "### Project: BMPD HC\n",
    "____________________________________________________\n",
    "\n",
    "**Description:** Crop functional images by different number of volumes\n",
    "\n",
    "**Toolbox required:** SpinalCordToolbox, FSL, \n",
    "\n",
    "**Inputs**:  \n",
    "This notebook required this the following prepross fmri images \n",
    "\n",
    "\n",
    "__________________________________________________\n"
   ]
  },
  {
   "cell_type": "markdown",
   "metadata": {},
   "source": [
    "## <font color=#00988c> Imports </font>"
   ]
  },
  {
   "cell_type": "code",
   "execution_count": 51,
   "metadata": {},
   "outputs": [],
   "source": [
    "import sys, os\n",
    "import json\n",
    "# Spinal cord Toolbox_________________________________________\n",
    "### Cerebro:\n",
    "sys.path.append(\"/cerebro/cerebro1/dataset/bmpd/derivatives/thibault_test/code/toolbox/spinalcordtoolbox-5.0.0\")\n",
    "sys.path.append(\"/cerebro/cerebro1/dataset/bmpd/derivatives/thibault_test/code/toolbox/spinalcordtoolbox-5.0.0/scripts\") #sys.path.insert(0, \"/cerebro/cerebro1/dataset/bmpd/derivatives/sc_preproc/code/sct/spinalcordtoolbox\")\n",
    "\n",
    "from spinalcordtoolbox.utils.sys import run_proc\n",
    "import glob"
   ]
  },
  {
   "cell_type": "markdown",
   "metadata": {},
   "source": [
    "## <font color=#00988c>  Open config file & define files </font>"
   ]
  },
  {
   "cell_type": "code",
   "execution_count": 9,
   "metadata": {},
   "outputs": [],
   "source": [
    "# Load the dataset config\n",
    "#config_spine_only_CL.json #../config/config_brsc_CL.json\n",
    "with open('../config/config_spine_only_CL.json') as config_file:\n",
    "    config = json.load(config_file)\n",
    "dataset=\"mtl\" \n",
    "structures=[\"spinalcord\"] \n",
    "structure=structures[0]"
   ]
  },
  {
   "cell_type": "code",
   "execution_count": 36,
   "metadata": {},
   "outputs": [],
   "source": [
    "files_func={};func_allsbj={}; \n",
    "files_func[structure]=[];func_allsbj[structure]=[]\n",
    "for sbj_nb in range(len(config[\"list_subjects\"][dataset])):\n",
    "    subject_name=config[\"list_subjects\"][dataset][sbj_nb]\n",
    "    files_func[structure].append(glob.glob(config[\"data\"][dataset][\"inputs_ica\"][\"dir\"]+ '/sub-' + subject_name + '/'  + structure + '/*' + config[\"data\"][dataset][\"inputs_ica\"][structure][\"tag_filename_\" + ana] + '*')[0])\n",
    "        "
   ]
  },
  {
   "cell_type": "markdown",
   "metadata": {},
   "source": [
    "## <font color=#00988c>  Crop the data in different duration </font>\n",
    "> **mtl** :  60, 120, 180, 240, 300 sec  \n",
    "> **gva**: 60, 120, 180, 240, 300, 360, 420, 480, 540, 600, 660, 720, 780 and 840 sec"
   ]
  },
  {
   "cell_type": "code",
   "execution_count": null,
   "metadata": {},
   "outputs": [
    {
     "name": "stdout",
     "output_type": "stream",
     "text": [
      "39\n",
      "fslroi /cerebro/cerebro1/dataset/bmpd/derivatives/HealthyControls_project/func_preparation/3_func_smoothed//sub-P030/spinalcord/sub-P030_task-rest_bold_stc_sc_moco_HP_sc_inTemplate_s.nii.gz /cerebro/cerebro1/dataset/bmpd/derivatives/HealthyControls_project/func_preparation/3_func_smoothed//sub-P030/spinalcord/sub-P030_task-rest_bold_stc_sc_moco_HP_sc_inTemplate_39vol_s.nii.gz 0 39 # in /cerebro/cerebro1/dataset/bmpd/derivatives/HealthyControls_project/hc_project_analyses/notebook\n",
      "fslroi /cerebro/cerebro1/dataset/bmpd/derivatives/HealthyControls_project/func_preparation/3_func_smoothed//sub-P033/spinalcord/sub-P033_task-rest_bold_stc_sc_moco_HP_sc_inTemplate_s.nii.gz /cerebro/cerebro1/dataset/bmpd/derivatives/HealthyControls_project/func_preparation/3_func_smoothed//sub-P033/spinalcord/sub-P033_task-rest_bold_stc_sc_moco_HP_sc_inTemplate_39vol_s.nii.gz 0 39 # in /cerebro/cerebro1/dataset/bmpd/derivatives/HealthyControls_project/hc_project_analyses/notebook\n",
      "fslroi /cerebro/cerebro1/dataset/bmpd/derivatives/HealthyControls_project/func_preparation/3_func_smoothed//sub-P043/spinalcord/sub-P043_task-rest_bold_stc_sc_moco_HP_sc_inTemplate_s.nii.gz /cerebro/cerebro1/dataset/bmpd/derivatives/HealthyControls_project/func_preparation/3_func_smoothed//sub-P043/spinalcord/sub-P043_task-rest_bold_stc_sc_moco_HP_sc_inTemplate_39vol_s.nii.gz 0 39 # in /cerebro/cerebro1/dataset/bmpd/derivatives/HealthyControls_project/hc_project_analyses/notebook\n",
      "fslroi /cerebro/cerebro1/dataset/bmpd/derivatives/HealthyControls_project/func_preparation/3_func_smoothed//sub-P047/spinalcord/sub-P047_task-rest_bold_stc_sc_moco_HP_sc_inTemplate_s.nii.gz /cerebro/cerebro1/dataset/bmpd/derivatives/HealthyControls_project/func_preparation/3_func_smoothed//sub-P047/spinalcord/sub-P047_task-rest_bold_stc_sc_moco_HP_sc_inTemplate_39vol_s.nii.gz 0 39 # in /cerebro/cerebro1/dataset/bmpd/derivatives/HealthyControls_project/hc_project_analyses/notebook\n",
      "fslroi /cerebro/cerebro1/dataset/bmpd/derivatives/HealthyControls_project/func_preparation/3_func_smoothed//sub-P050/spinalcord/sub-P050_task-rest_bold_stc_sc_moco_HP_sc_inTemplate_s.nii.gz /cerebro/cerebro1/dataset/bmpd/derivatives/HealthyControls_project/func_preparation/3_func_smoothed//sub-P050/spinalcord/sub-P050_task-rest_bold_stc_sc_moco_HP_sc_inTemplate_39vol_s.nii.gz 0 39 # in /cerebro/cerebro1/dataset/bmpd/derivatives/HealthyControls_project/hc_project_analyses/notebook\n",
      "fslroi /cerebro/cerebro1/dataset/bmpd/derivatives/HealthyControls_project/func_preparation/3_func_smoothed//sub-P057/spinalcord/sub-P057_task-rest_run-02_bold_stc_sc_moco_HP_sc_inTemplate_s.nii.gz /cerebro/cerebro1/dataset/bmpd/derivatives/HealthyControls_project/func_preparation/3_func_smoothed//sub-P057/spinalcord/sub-P057_task-rest_run-02_bold_stc_sc_moco_HP_sc_inTemplate_39vol_s.nii.gz 0 39 # in /cerebro/cerebro1/dataset/bmpd/derivatives/HealthyControls_project/hc_project_analyses/notebook\n",
      "fslroi /cerebro/cerebro1/dataset/bmpd/derivatives/HealthyControls_project/func_preparation/3_func_smoothed//sub-P099/spinalcord/sub-P099_task-rest_run-02_bold_stc_sc_moco_HP_sc_inTemplate_s.nii.gz /cerebro/cerebro1/dataset/bmpd/derivatives/HealthyControls_project/func_preparation/3_func_smoothed//sub-P099/spinalcord/sub-P099_task-rest_run-02_bold_stc_sc_moco_HP_sc_inTemplate_39vol_s.nii.gz 0 39 # in /cerebro/cerebro1/dataset/bmpd/derivatives/HealthyControls_project/hc_project_analyses/notebook\n",
      "fslroi /cerebro/cerebro1/dataset/bmpd/derivatives/HealthyControls_project/func_preparation/3_func_smoothed//sub-P100/spinalcord/sub-P100_task-rest_bold_stc_sc_moco_HP_sc_inTemplate_s.nii.gz /cerebro/cerebro1/dataset/bmpd/derivatives/HealthyControls_project/func_preparation/3_func_smoothed//sub-P100/spinalcord/sub-P100_task-rest_bold_stc_sc_moco_HP_sc_inTemplate_39vol_s.nii.gz 0 39 # in /cerebro/cerebro1/dataset/bmpd/derivatives/HealthyControls_project/hc_project_analyses/notebook\n",
      "fslroi /cerebro/cerebro1/dataset/bmpd/derivatives/HealthyControls_project/func_preparation/3_func_smoothed//sub-P105/spinalcord/sub-P105_task-rest_bold_stc_sc_moco_HP_sc_inTemplate_s.nii.gz /cerebro/cerebro1/dataset/bmpd/derivatives/HealthyControls_project/func_preparation/3_func_smoothed//sub-P105/spinalcord/sub-P105_task-rest_bold_stc_sc_moco_HP_sc_inTemplate_39vol_s.nii.gz 0 39 # in /cerebro/cerebro1/dataset/bmpd/derivatives/HealthyControls_project/hc_project_analyses/notebook\n",
      "fslroi /cerebro/cerebro1/dataset/bmpd/derivatives/HealthyControls_project/func_preparation/3_func_smoothed//sub-P108/spinalcord/sub-P108_task-rest_bold_stc_sc_moco_HP_sc_inTemplate_s.nii.gz /cerebro/cerebro1/dataset/bmpd/derivatives/HealthyControls_project/func_preparation/3_func_smoothed//sub-P108/spinalcord/sub-P108_task-rest_bold_stc_sc_moco_HP_sc_inTemplate_39vol_s.nii.gz 0 39 # in /cerebro/cerebro1/dataset/bmpd/derivatives/HealthyControls_project/hc_project_analyses/notebook\n",
      "fslroi /cerebro/cerebro1/dataset/bmpd/derivatives/HealthyControls_project/func_preparation/3_func_smoothed//sub-P109/spinalcord/sub-P109_task-rest_bold_stc_sc_moco_HP_sc_inTemplate_s.nii.gz /cerebro/cerebro1/dataset/bmpd/derivatives/HealthyControls_project/func_preparation/3_func_smoothed//sub-P109/spinalcord/sub-P109_task-rest_bold_stc_sc_moco_HP_sc_inTemplate_39vol_s.nii.gz 0 39 # in /cerebro/cerebro1/dataset/bmpd/derivatives/HealthyControls_project/hc_project_analyses/notebook\n",
      "fslroi /cerebro/cerebro1/dataset/bmpd/derivatives/HealthyControls_project/func_preparation/3_func_smoothed//sub-A003/spinalcord/sub-A003_task-rest_bold_stc_sc_moco_HP_sc_inTemplate_s.nii.gz /cerebro/cerebro1/dataset/bmpd/derivatives/HealthyControls_project/func_preparation/3_func_smoothed//sub-A003/spinalcord/sub-A003_task-rest_bold_stc_sc_moco_HP_sc_inTemplate_39vol_s.nii.gz 0 39 # in /cerebro/cerebro1/dataset/bmpd/derivatives/HealthyControls_project/hc_project_analyses/notebook\n",
      "fslroi /cerebro/cerebro1/dataset/bmpd/derivatives/HealthyControls_project/func_preparation/3_func_smoothed//sub-A004/spinalcord/sub-A004_task-rest_bold_stc_sc_moco_HP_sc_inTemplate_s.nii.gz /cerebro/cerebro1/dataset/bmpd/derivatives/HealthyControls_project/func_preparation/3_func_smoothed//sub-A004/spinalcord/sub-A004_task-rest_bold_stc_sc_moco_HP_sc_inTemplate_39vol_s.nii.gz 0 39 # in /cerebro/cerebro1/dataset/bmpd/derivatives/HealthyControls_project/hc_project_analyses/notebook\n",
      "fslroi /cerebro/cerebro1/dataset/bmpd/derivatives/HealthyControls_project/func_preparation/3_func_smoothed//sub-A005/spinalcord/sub-A005_task-rest_bold_stc_sc_moco_HP_sc_inTemplate_s.nii.gz /cerebro/cerebro1/dataset/bmpd/derivatives/HealthyControls_project/func_preparation/3_func_smoothed//sub-A005/spinalcord/sub-A005_task-rest_bold_stc_sc_moco_HP_sc_inTemplate_39vol_s.nii.gz 0 39 # in /cerebro/cerebro1/dataset/bmpd/derivatives/HealthyControls_project/hc_project_analyses/notebook\n",
      "fslroi /cerebro/cerebro1/dataset/bmpd/derivatives/HealthyControls_project/func_preparation/3_func_smoothed//sub-A006/spinalcord/sub-A006_task-rest_bold_stc_sc_moco_HP_sc_inTemplate_s.nii.gz /cerebro/cerebro1/dataset/bmpd/derivatives/HealthyControls_project/func_preparation/3_func_smoothed//sub-A006/spinalcord/sub-A006_task-rest_bold_stc_sc_moco_HP_sc_inTemplate_39vol_s.nii.gz 0 39 # in /cerebro/cerebro1/dataset/bmpd/derivatives/HealthyControls_project/hc_project_analyses/notebook\n",
      "fslroi /cerebro/cerebro1/dataset/bmpd/derivatives/HealthyControls_project/func_preparation/3_func_smoothed//sub-A007/spinalcord/sub-A007_task-rest_bold_stc_sc_moco_HP_sc_inTemplate_s.nii.gz /cerebro/cerebro1/dataset/bmpd/derivatives/HealthyControls_project/func_preparation/3_func_smoothed//sub-A007/spinalcord/sub-A007_task-rest_bold_stc_sc_moco_HP_sc_inTemplate_39vol_s.nii.gz 0 39 # in /cerebro/cerebro1/dataset/bmpd/derivatives/HealthyControls_project/hc_project_analyses/notebook\n",
      "fslroi /cerebro/cerebro1/dataset/bmpd/derivatives/HealthyControls_project/func_preparation/3_func_smoothed//sub-A008/spinalcord/sub-A008_task-rest_bold_stc_sc_moco_HP_sc_inTemplate_s.nii.gz /cerebro/cerebro1/dataset/bmpd/derivatives/HealthyControls_project/func_preparation/3_func_smoothed//sub-A008/spinalcord/sub-A008_task-rest_bold_stc_sc_moco_HP_sc_inTemplate_39vol_s.nii.gz 0 39 # in /cerebro/cerebro1/dataset/bmpd/derivatives/HealthyControls_project/hc_project_analyses/notebook\n",
      "fslroi /cerebro/cerebro1/dataset/bmpd/derivatives/HealthyControls_project/func_preparation/3_func_smoothed//sub-A009/spinalcord/sub-A009_task-rest_bold_stc_sc_moco_HP_sc_inTemplate_s.nii.gz /cerebro/cerebro1/dataset/bmpd/derivatives/HealthyControls_project/func_preparation/3_func_smoothed//sub-A009/spinalcord/sub-A009_task-rest_bold_stc_sc_moco_HP_sc_inTemplate_39vol_s.nii.gz 0 39 # in /cerebro/cerebro1/dataset/bmpd/derivatives/HealthyControls_project/hc_project_analyses/notebook\n",
      "fslroi /cerebro/cerebro1/dataset/bmpd/derivatives/HealthyControls_project/func_preparation/3_func_smoothed//sub-A011/spinalcord/sub-A011_task-rest_bold_stc_sc_moco_HP_sc_inTemplate_s.nii.gz /cerebro/cerebro1/dataset/bmpd/derivatives/HealthyControls_project/func_preparation/3_func_smoothed//sub-A011/spinalcord/sub-A011_task-rest_bold_stc_sc_moco_HP_sc_inTemplate_39vol_s.nii.gz 0 39 # in /cerebro/cerebro1/dataset/bmpd/derivatives/HealthyControls_project/hc_project_analyses/notebook\n",
      "fslroi /cerebro/cerebro1/dataset/bmpd/derivatives/HealthyControls_project/func_preparation/3_func_smoothed//sub-A013/spinalcord/sub-A013_task-rest_bold_stc_sc_moco_HP_sc_inTemplate_s.nii.gz /cerebro/cerebro1/dataset/bmpd/derivatives/HealthyControls_project/func_preparation/3_func_smoothed//sub-A013/spinalcord/sub-A013_task-rest_bold_stc_sc_moco_HP_sc_inTemplate_39vol_s.nii.gz 0 39 # in /cerebro/cerebro1/dataset/bmpd/derivatives/HealthyControls_project/hc_project_analyses/notebook\n",
      "77\n",
      "fslroi /cerebro/cerebro1/dataset/bmpd/derivatives/HealthyControls_project/func_preparation/3_func_smoothed//sub-P030/spinalcord/sub-P030_task-rest_bold_stc_sc_moco_HP_sc_inTemplate_s.nii.gz /cerebro/cerebro1/dataset/bmpd/derivatives/HealthyControls_project/func_preparation/3_func_smoothed//sub-P030/spinalcord/sub-P030_task-rest_bold_stc_sc_moco_HP_sc_inTemplate_77vol_s.nii.gz 0 77 # in /cerebro/cerebro1/dataset/bmpd/derivatives/HealthyControls_project/hc_project_analyses/notebook\n",
      "fslroi /cerebro/cerebro1/dataset/bmpd/derivatives/HealthyControls_project/func_preparation/3_func_smoothed//sub-P033/spinalcord/sub-P033_task-rest_bold_stc_sc_moco_HP_sc_inTemplate_s.nii.gz /cerebro/cerebro1/dataset/bmpd/derivatives/HealthyControls_project/func_preparation/3_func_smoothed//sub-P033/spinalcord/sub-P033_task-rest_bold_stc_sc_moco_HP_sc_inTemplate_77vol_s.nii.gz 0 77 # in /cerebro/cerebro1/dataset/bmpd/derivatives/HealthyControls_project/hc_project_analyses/notebook\n",
      "fslroi /cerebro/cerebro1/dataset/bmpd/derivatives/HealthyControls_project/func_preparation/3_func_smoothed//sub-P043/spinalcord/sub-P043_task-rest_bold_stc_sc_moco_HP_sc_inTemplate_s.nii.gz /cerebro/cerebro1/dataset/bmpd/derivatives/HealthyControls_project/func_preparation/3_func_smoothed//sub-P043/spinalcord/sub-P043_task-rest_bold_stc_sc_moco_HP_sc_inTemplate_77vol_s.nii.gz 0 77 # in /cerebro/cerebro1/dataset/bmpd/derivatives/HealthyControls_project/hc_project_analyses/notebook\n",
      "fslroi /cerebro/cerebro1/dataset/bmpd/derivatives/HealthyControls_project/func_preparation/3_func_smoothed//sub-P047/spinalcord/sub-P047_task-rest_bold_stc_sc_moco_HP_sc_inTemplate_s.nii.gz /cerebro/cerebro1/dataset/bmpd/derivatives/HealthyControls_project/func_preparation/3_func_smoothed//sub-P047/spinalcord/sub-P047_task-rest_bold_stc_sc_moco_HP_sc_inTemplate_77vol_s.nii.gz 0 77 # in /cerebro/cerebro1/dataset/bmpd/derivatives/HealthyControls_project/hc_project_analyses/notebook\n",
      "fslroi /cerebro/cerebro1/dataset/bmpd/derivatives/HealthyControls_project/func_preparation/3_func_smoothed//sub-P050/spinalcord/sub-P050_task-rest_bold_stc_sc_moco_HP_sc_inTemplate_s.nii.gz /cerebro/cerebro1/dataset/bmpd/derivatives/HealthyControls_project/func_preparation/3_func_smoothed//sub-P050/spinalcord/sub-P050_task-rest_bold_stc_sc_moco_HP_sc_inTemplate_77vol_s.nii.gz 0 77 # in /cerebro/cerebro1/dataset/bmpd/derivatives/HealthyControls_project/hc_project_analyses/notebook\n",
      "fslroi /cerebro/cerebro1/dataset/bmpd/derivatives/HealthyControls_project/func_preparation/3_func_smoothed//sub-P057/spinalcord/sub-P057_task-rest_run-02_bold_stc_sc_moco_HP_sc_inTemplate_s.nii.gz /cerebro/cerebro1/dataset/bmpd/derivatives/HealthyControls_project/func_preparation/3_func_smoothed//sub-P057/spinalcord/sub-P057_task-rest_run-02_bold_stc_sc_moco_HP_sc_inTemplate_77vol_s.nii.gz 0 77 # in /cerebro/cerebro1/dataset/bmpd/derivatives/HealthyControls_project/hc_project_analyses/notebook\n",
      "fslroi /cerebro/cerebro1/dataset/bmpd/derivatives/HealthyControls_project/func_preparation/3_func_smoothed//sub-P099/spinalcord/sub-P099_task-rest_run-02_bold_stc_sc_moco_HP_sc_inTemplate_s.nii.gz /cerebro/cerebro1/dataset/bmpd/derivatives/HealthyControls_project/func_preparation/3_func_smoothed//sub-P099/spinalcord/sub-P099_task-rest_run-02_bold_stc_sc_moco_HP_sc_inTemplate_77vol_s.nii.gz 0 77 # in /cerebro/cerebro1/dataset/bmpd/derivatives/HealthyControls_project/hc_project_analyses/notebook\n",
      "fslroi /cerebro/cerebro1/dataset/bmpd/derivatives/HealthyControls_project/func_preparation/3_func_smoothed//sub-P100/spinalcord/sub-P100_task-rest_bold_stc_sc_moco_HP_sc_inTemplate_s.nii.gz /cerebro/cerebro1/dataset/bmpd/derivatives/HealthyControls_project/func_preparation/3_func_smoothed//sub-P100/spinalcord/sub-P100_task-rest_bold_stc_sc_moco_HP_sc_inTemplate_77vol_s.nii.gz 0 77 # in /cerebro/cerebro1/dataset/bmpd/derivatives/HealthyControls_project/hc_project_analyses/notebook\n",
      "fslroi /cerebro/cerebro1/dataset/bmpd/derivatives/HealthyControls_project/func_preparation/3_func_smoothed//sub-P105/spinalcord/sub-P105_task-rest_bold_stc_sc_moco_HP_sc_inTemplate_s.nii.gz /cerebro/cerebro1/dataset/bmpd/derivatives/HealthyControls_project/func_preparation/3_func_smoothed//sub-P105/spinalcord/sub-P105_task-rest_bold_stc_sc_moco_HP_sc_inTemplate_77vol_s.nii.gz 0 77 # in /cerebro/cerebro1/dataset/bmpd/derivatives/HealthyControls_project/hc_project_analyses/notebook\n",
      "fslroi /cerebro/cerebro1/dataset/bmpd/derivatives/HealthyControls_project/func_preparation/3_func_smoothed//sub-P108/spinalcord/sub-P108_task-rest_bold_stc_sc_moco_HP_sc_inTemplate_s.nii.gz /cerebro/cerebro1/dataset/bmpd/derivatives/HealthyControls_project/func_preparation/3_func_smoothed//sub-P108/spinalcord/sub-P108_task-rest_bold_stc_sc_moco_HP_sc_inTemplate_77vol_s.nii.gz 0 77 # in /cerebro/cerebro1/dataset/bmpd/derivatives/HealthyControls_project/hc_project_analyses/notebook\n",
      "fslroi /cerebro/cerebro1/dataset/bmpd/derivatives/HealthyControls_project/func_preparation/3_func_smoothed//sub-P109/spinalcord/sub-P109_task-rest_bold_stc_sc_moco_HP_sc_inTemplate_s.nii.gz /cerebro/cerebro1/dataset/bmpd/derivatives/HealthyControls_project/func_preparation/3_func_smoothed//sub-P109/spinalcord/sub-P109_task-rest_bold_stc_sc_moco_HP_sc_inTemplate_77vol_s.nii.gz 0 77 # in /cerebro/cerebro1/dataset/bmpd/derivatives/HealthyControls_project/hc_project_analyses/notebook\n",
      "fslroi /cerebro/cerebro1/dataset/bmpd/derivatives/HealthyControls_project/func_preparation/3_func_smoothed//sub-A003/spinalcord/sub-A003_task-rest_bold_stc_sc_moco_HP_sc_inTemplate_s.nii.gz /cerebro/cerebro1/dataset/bmpd/derivatives/HealthyControls_project/func_preparation/3_func_smoothed//sub-A003/spinalcord/sub-A003_task-rest_bold_stc_sc_moco_HP_sc_inTemplate_77vol_s.nii.gz 0 77 # in /cerebro/cerebro1/dataset/bmpd/derivatives/HealthyControls_project/hc_project_analyses/notebook\n",
      "fslroi /cerebro/cerebro1/dataset/bmpd/derivatives/HealthyControls_project/func_preparation/3_func_smoothed//sub-A004/spinalcord/sub-A004_task-rest_bold_stc_sc_moco_HP_sc_inTemplate_s.nii.gz /cerebro/cerebro1/dataset/bmpd/derivatives/HealthyControls_project/func_preparation/3_func_smoothed//sub-A004/spinalcord/sub-A004_task-rest_bold_stc_sc_moco_HP_sc_inTemplate_77vol_s.nii.gz 0 77 # in /cerebro/cerebro1/dataset/bmpd/derivatives/HealthyControls_project/hc_project_analyses/notebook\n",
      "fslroi /cerebro/cerebro1/dataset/bmpd/derivatives/HealthyControls_project/func_preparation/3_func_smoothed//sub-A005/spinalcord/sub-A005_task-rest_bold_stc_sc_moco_HP_sc_inTemplate_s.nii.gz /cerebro/cerebro1/dataset/bmpd/derivatives/HealthyControls_project/func_preparation/3_func_smoothed//sub-A005/spinalcord/sub-A005_task-rest_bold_stc_sc_moco_HP_sc_inTemplate_77vol_s.nii.gz 0 77 # in /cerebro/cerebro1/dataset/bmpd/derivatives/HealthyControls_project/hc_project_analyses/notebook\n",
      "fslroi /cerebro/cerebro1/dataset/bmpd/derivatives/HealthyControls_project/func_preparation/3_func_smoothed//sub-A006/spinalcord/sub-A006_task-rest_bold_stc_sc_moco_HP_sc_inTemplate_s.nii.gz /cerebro/cerebro1/dataset/bmpd/derivatives/HealthyControls_project/func_preparation/3_func_smoothed//sub-A006/spinalcord/sub-A006_task-rest_bold_stc_sc_moco_HP_sc_inTemplate_77vol_s.nii.gz 0 77 # in /cerebro/cerebro1/dataset/bmpd/derivatives/HealthyControls_project/hc_project_analyses/notebook\n",
      "fslroi /cerebro/cerebro1/dataset/bmpd/derivatives/HealthyControls_project/func_preparation/3_func_smoothed//sub-A007/spinalcord/sub-A007_task-rest_bold_stc_sc_moco_HP_sc_inTemplate_s.nii.gz /cerebro/cerebro1/dataset/bmpd/derivatives/HealthyControls_project/func_preparation/3_func_smoothed//sub-A007/spinalcord/sub-A007_task-rest_bold_stc_sc_moco_HP_sc_inTemplate_77vol_s.nii.gz 0 77 # in /cerebro/cerebro1/dataset/bmpd/derivatives/HealthyControls_project/hc_project_analyses/notebook\n"
     ]
    }
   ],
   "source": [
    "output_files={};\n",
    "if dataset ==\"mtl\":\n",
    "    timing_sec=[60,120,180,240,300]\n",
    "    \n",
    "elif dataset == \"gva\":\n",
    "    timing_sec=[60,120,180,240,300,360,540,720]\n",
    "import numpy as np6*60\n",
    "for timing in timing_sec:\n",
    "    nb_vol=np.round(timing/config[\"acq_params\"][dataset][\"TR\"])\n",
    "    print(int(nb_vol))\n",
    "    output_files[structure]=[];\n",
    "    for sbj_nb in range(len(config[\"list_subjects\"][dataset])):\n",
    "        subject_name=config[\"list_subjects\"][dataset][sbj_nb]\n",
    "        output_files[structure].append(files_func[structure][sbj_nb].split('inTemplate_s')[0] + \"inTemplate_\" + str(int(nb_vol)) +\"vol_s.nii.gz\")\n",
    "        if not os.path.exists(output_files[structure][sbj_nb]):\n",
    "            run_proc('fslroi {} {} 0 {}'.format(files_func[structure][sbj_nb],output_files[structure][sbj_nb],int(nb_vol)))\n"
   ]
  }
 ],
 "metadata": {
  "kernelspec": {
   "display_name": "Python 3",
   "language": "python",
   "name": "python3"
  },
  "language_info": {
   "codemirror_mode": {
    "name": "ipython",
    "version": 3
   },
   "file_extension": ".py",
   "mimetype": "text/x-python",
   "name": "python",
   "nbconvert_exporter": "python",
   "pygments_lexer": "ipython3",
   "version": "3.6.9"
  }
 },
 "nbformat": 4,
 "nbformat_minor": 4
}
