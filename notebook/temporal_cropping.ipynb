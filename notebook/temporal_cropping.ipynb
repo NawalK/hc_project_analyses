{
 "cells": [
  {
   "cell_type": "markdown",
   "metadata": {},
   "source": [
    "# <font color=#f4665a>  Temporal cropping</font>"
   ]
  },
  {
   "cell_type": "markdown",
   "metadata": {},
   "source": [
    "### Project: BMPD HC\n",
    "____________________________________________________\n",
    "\n",
    "**Description:** Crop functional images by different number of volumes\n",
    "\n",
    "**Toolbox required:** SpinalCordToolbox, FSL, \n",
    "\n",
    "**Inputs**:  \n",
    "This notebook required this the following prepross fmri images \n",
    "\n",
    "\n",
    "__________________________________________________\n"
   ]
  },
  {
   "cell_type": "markdown",
   "metadata": {},
   "source": [
    "## <font color=#00988c> Imports </font>"
   ]
  },
  {
   "cell_type": "code",
   "execution_count": 72,
   "metadata": {},
   "outputs": [],
   "source": [
    "import sys, os\n",
    "import json\n",
    "# Spinal cord Toolbox_________________________________________\n",
    "### Cerebro:\n",
    "sys.path.append(\"/cerebro/cerebro1/dataset/bmpd/derivatives/thibault_test/code/toolbox/spinalcordtoolbox-5.0.0\")\n",
    "sys.path.append(\"/cerebro/cerebro1/dataset/bmpd/derivatives/thibault_test/code/toolbox/spinalcordtoolbox-5.0.0/scripts\") #sys.path.insert(0, \"/cerebro/cerebro1/dataset/bmpd/derivatives/sc_preproc/code/sct/spinalcordtoolbox\")\n",
    "\n",
    "from spinalcordtoolbox.utils.sys import run_proc\n",
    "import glob"
   ]
  },
  {
   "cell_type": "markdown",
   "metadata": {},
   "source": [
    "## <font color=#00988c>  Open config file & define files </font>"
   ]
  },
  {
   "cell_type": "code",
   "execution_count": 78,
   "metadata": {},
   "outputs": [],
   "source": [
    "# Load the dataset config\n",
    "#config_spine_only_CL.json #../config/config_brsc_CL.json\n",
    "with open('../config/config_spine_only_CL.json') as config_file:\n",
    "    config = json.load(config_file)\n",
    "dataset=\"gva\" \n",
    "structures=[\"spinalcord\"] \n",
    "structure=structures[0]"
   ]
  },
  {
   "cell_type": "code",
   "execution_count": 86,
   "metadata": {},
   "outputs": [],
   "source": [
    "files_func={};func_allsbj={}; \n",
    "files_func[structure]=[];func_allsbj[structure]=[]\n",
    "for sbj_nb in range(len(config[\"list_subjects\"][dataset])):\n",
    "    subject_name=config[\"list_subjects\"][dataset][sbj_nb]\n",
    "    if dataset ==\"mtl\":\n",
    "        files_func[structure].append(glob.glob(config[\"data\"][dataset][\"inputs_ica\"][\"dir\"]+ '/sub-' + subject_name + '/'  + structure + '/*' + config[\"data\"][dataset][\"inputs_ica\"][structure][\"tag_filename_\" + ana] + '*' )[0])\n",
    "    elif dataset == \"gva\":\n",
    "        files_func[structure].append(glob.glob(config[\"data\"][dataset][\"inputs_ica\"][\"dir\"]+ '/sub-' + subject_name + '/'  + structure + '/sub-'+subject_name  + config[\"data\"][dataset][\"inputs_ica\"][structure][\"tag_filename_\" + ana] )[0])\n",
    "       "
   ]
  },
  {
   "cell_type": "code",
   "execution_count": 87,
   "metadata": {},
   "outputs": [
    {
     "data": {
      "text/plain": [
       "['/cerebro/cerebro1/dataset/caroline/2022_SPiCiCAP_NK_CL/CL_analyses/denoising/Denoised_CL_DCT_NK//sub-01/spinalcord/sub-01.nii.gz',\n",
       " '/cerebro/cerebro1/dataset/caroline/2022_SPiCiCAP_NK_CL/CL_analyses/denoising/Denoised_CL_DCT_NK//sub-02/spinalcord/sub-02.nii.gz',\n",
       " '/cerebro/cerebro1/dataset/caroline/2022_SPiCiCAP_NK_CL/CL_analyses/denoising/Denoised_CL_DCT_NK//sub-03/spinalcord/sub-03.nii.gz',\n",
       " '/cerebro/cerebro1/dataset/caroline/2022_SPiCiCAP_NK_CL/CL_analyses/denoising/Denoised_CL_DCT_NK//sub-04/spinalcord/sub-04.nii.gz',\n",
       " '/cerebro/cerebro1/dataset/caroline/2022_SPiCiCAP_NK_CL/CL_analyses/denoising/Denoised_CL_DCT_NK//sub-05/spinalcord/sub-05.nii.gz',\n",
       " '/cerebro/cerebro1/dataset/caroline/2022_SPiCiCAP_NK_CL/CL_analyses/denoising/Denoised_CL_DCT_NK//sub-06/spinalcord/sub-06.nii.gz',\n",
       " '/cerebro/cerebro1/dataset/caroline/2022_SPiCiCAP_NK_CL/CL_analyses/denoising/Denoised_CL_DCT_NK//sub-07/spinalcord/sub-07.nii.gz',\n",
       " '/cerebro/cerebro1/dataset/caroline/2022_SPiCiCAP_NK_CL/CL_analyses/denoising/Denoised_CL_DCT_NK//sub-08/spinalcord/sub-08.nii.gz',\n",
       " '/cerebro/cerebro1/dataset/caroline/2022_SPiCiCAP_NK_CL/CL_analyses/denoising/Denoised_CL_DCT_NK//sub-09/spinalcord/sub-09.nii.gz',\n",
       " '/cerebro/cerebro1/dataset/caroline/2022_SPiCiCAP_NK_CL/CL_analyses/denoising/Denoised_CL_DCT_NK//sub-10/spinalcord/sub-10.nii.gz',\n",
       " '/cerebro/cerebro1/dataset/caroline/2022_SPiCiCAP_NK_CL/CL_analyses/denoising/Denoised_CL_DCT_NK//sub-12/spinalcord/sub-12.nii.gz',\n",
       " '/cerebro/cerebro1/dataset/caroline/2022_SPiCiCAP_NK_CL/CL_analyses/denoising/Denoised_CL_DCT_NK//sub-11/spinalcord/sub-11.nii.gz',\n",
       " '/cerebro/cerebro1/dataset/caroline/2022_SPiCiCAP_NK_CL/CL_analyses/denoising/Denoised_CL_DCT_NK//sub-13/spinalcord/sub-13.nii.gz',\n",
       " '/cerebro/cerebro1/dataset/caroline/2022_SPiCiCAP_NK_CL/CL_analyses/denoising/Denoised_CL_DCT_NK//sub-14/spinalcord/sub-14.nii.gz',\n",
       " '/cerebro/cerebro1/dataset/caroline/2022_SPiCiCAP_NK_CL/CL_analyses/denoising/Denoised_CL_DCT_NK//sub-15/spinalcord/sub-15.nii.gz',\n",
       " '/cerebro/cerebro1/dataset/caroline/2022_SPiCiCAP_NK_CL/CL_analyses/denoising/Denoised_CL_DCT_NK//sub-16/spinalcord/sub-16.nii.gz',\n",
       " '/cerebro/cerebro1/dataset/caroline/2022_SPiCiCAP_NK_CL/CL_analyses/denoising/Denoised_CL_DCT_NK//sub-17/spinalcord/sub-17.nii.gz',\n",
       " '/cerebro/cerebro1/dataset/caroline/2022_SPiCiCAP_NK_CL/CL_analyses/denoising/Denoised_CL_DCT_NK//sub-18/spinalcord/sub-18.nii.gz',\n",
       " '/cerebro/cerebro1/dataset/caroline/2022_SPiCiCAP_NK_CL/CL_analyses/denoising/Denoised_CL_DCT_NK//sub-19/spinalcord/sub-19.nii.gz']"
      ]
     },
     "execution_count": 87,
     "metadata": {},
     "output_type": "execute_result"
    }
   ],
   "source": [
    "files_func[structure]"
   ]
  },
  {
   "cell_type": "markdown",
   "metadata": {},
   "source": [
    "## <font color=#00988c>  Crop the data in different duration </font>\n",
    "> **mtl** :  60, 120, 180, 240, 300 sec  \n",
    "> **gva**: 60, 120, 180, 240, 300, 360, 420, 480, 540, 600, 660, 720, 780 and 840 sec"
   ]
  },
  {
   "cell_type": "code",
   "execution_count": 88,
   "metadata": {},
   "outputs": [
    {
     "name": "stdout",
     "output_type": "stream",
     "text": [
      "24\n",
      "48\n",
      "72\n",
      "96\n",
      "120\n",
      "144\n",
      "216\n",
      "288\n"
     ]
    }
   ],
   "source": [
    "output_files={};\n",
    "if dataset ==\"mtl\":\n",
    "    timing_sec=[60,120,180,240,300]\n",
    "    \n",
    "elif dataset == \"gva\":\n",
    "    timing_sec=[60,120,180,240,300,360,540,720]\n",
    "import numpy as np\n",
    "for timing in timing_sec:\n",
    "    nb_vol=np.round(timing/config[\"acq_params\"][dataset][\"TR\"])\n",
    "    print(int(nb_vol))\n",
    "    output_files[structure]=[];\n",
    "    for sbj_nb in range(len(config[\"list_subjects\"][dataset])):\n",
    "        subject_name=config[\"list_subjects\"][dataset][sbj_nb]\n",
    "        if dataset ==\"mtl\":\n",
    "            output_files[structure].append(files_func[structure][sbj_nb].split('inTemplate_s')[0] + \"inTemplate_\" + str(int(nb_vol)) +\"vol_s.nii.gz\")\n",
    "        \n",
    "        elif dataset == \"gva\":\n",
    "            output_files[structure].append(files_func[structure][sbj_nb].split('.')[0] + \"_\" + str(int(nb_vol)) +\"vol.nii.gz\")\n",
    "            \n",
    "        if not os.path.exists(output_files[structure][sbj_nb]):\n",
    "            run_proc('fslroi {} {} 0 {}'.format(files_func[structure][sbj_nb],output_files[structure][sbj_nb],int(nb_vol)))\n",
    "        "
   ]
  },
  {
   "cell_type": "code",
   "execution_count": null,
   "metadata": {},
   "outputs": [],
   "source": []
  }
 ],
 "metadata": {
  "kernelspec": {
   "display_name": "Python 3",
   "language": "python",
   "name": "python3"
  },
  "language_info": {
   "codemirror_mode": {
    "name": "ipython",
    "version": 3
   },
   "file_extension": ".py",
   "mimetype": "text/x-python",
   "name": "python",
   "nbconvert_exporter": "python",
   "pygments_lexer": "ipython3",
   "version": "3.6.9"
  }
 },
 "nbformat": 4,
 "nbformat_minor": 4
}
