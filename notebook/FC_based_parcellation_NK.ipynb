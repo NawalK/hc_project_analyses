{
 "cells": [
  {
   "cell_type": "markdown",
   "id": "3f8d447d",
   "metadata": {},
   "source": [
    "# <font color=black> Analysis - FC-based parcellation </font>\n",
    "<hr style=\"border:1px solid black\">"
   ]
  },
  {
   "cell_type": "markdown",
   "id": "af18d097",
   "metadata": {},
   "source": [
    "## <font color=black> <span style=\"background-color: #A0B0C0\"> Imports "
   ]
  },
  {
   "cell_type": "code",
   "execution_count": 5,
   "id": "75af82ae",
   "metadata": {},
   "outputs": [],
   "source": [
    "import sys,json\n",
    "import glob, os\n",
    "import numpy as np\n",
    "sys.path.append('/media/miplab-nas2/Data3/BMPD/hc_project/analysis/code/')\n",
    "\n",
    "from fc_based_parcellation import FC_Parcellation\n",
    "\n",
    "%matplotlib inline\n",
    "%load_ext autoreload\n",
    "%autoreload 2"
   ]
  },
  {
   "cell_type": "markdown",
   "id": "e72a9ea2",
   "metadata": {},
   "source": [
    "## <font color=black> <span style=\"background-color: #A0B0C0\"> Initialization"
   ]
  },
  {
   "cell_type": "markdown",
   "id": "170dfff1",
   "metadata": {},
   "source": [
    "### <font color=#A0B0C0> I Configuration & parameters </font>"
   ]
  },
  {
   "cell_type": "code",
   "execution_count": 16,
   "id": "a2ad247f",
   "metadata": {},
   "outputs": [],
   "source": [
    "with open('../config/config_fc_based_parcellation_NK.json') as config_file:\n",
    "    config = json.load(config_file) # load config file"
   ]
  },
  {
   "cell_type": "markdown",
   "id": "01e59735",
   "metadata": {},
   "source": [
    "### <font color=#A0B0C0> II Class instance </font>"
   ]
  },
  {
   "cell_type": "code",
   "execution_count": 17,
   "id": "ca604ed3",
   "metadata": {},
   "outputs": [],
   "source": [
    "fc_parcellation = FC_Parcellation(config,'spinalcord','brain')"
   ]
  },
  {
   "cell_type": "code",
   "execution_count": 18,
   "id": "e0724fee",
   "metadata": {},
   "outputs": [
    {
     "name": "stdout",
     "output_type": "stream",
     "text": [
      "COMPUTE VOXELWISE CORRELATION\n",
      "... Computing correlations for all possibilities\n",
      "...... Subject P028\n",
      "...... Subject P030\n",
      "...... Subject P033\n",
      "...... Subject P043\n",
      "...... Subject P047\n",
      "...... Subject P050\n",
      "...... Subject P100\n",
      "...... Subject P105\n",
      "...... Subject P108\n",
      "...... Subject P109\n",
      "...... Subject P001\n",
      "...... Subject P003\n",
      "...... Subject P004\n",
      "...... Subject P005\n",
      "...... Subject P006\n",
      "...... Subject P007\n",
      "...... Subject P008\n",
      "...... Subject P009\n",
      "...... Subject P011\n",
      "...... Subject P013\n",
      "... Computing mean correlation over subjects\n",
      "DONE!\n"
     ]
    }
   ],
   "source": [
    "fc_parcellation.compute_voxelwise_correlation(load_from_file=False, mask_source_path=config['main_dir']+config['masks']['spinalcord'],mask_target_path=config['main_dir']+config['masks']['brain'])"
   ]
  },
  {
   "cell_type": "code",
   "execution_count": 19,
   "id": "09555888",
   "metadata": {},
   "outputs": [
    {
     "name": "stdout",
     "output_type": "stream",
     "text": [
      "DEFINE NUMBER OF CLUSTERS\n",
      "...Loading k-means parameters\n",
      "...Computing SSE and silhouette coefficients\n",
      "......K = 10\n",
      "......K = 11\n",
      "......K = 12\n",
      "......K = 13\n",
      "......K = 14\n",
      "......K = 15\n",
      "......K = 16\n",
      "......K = 17\n",
      "......K = 18\n",
      "......K = 19\n"
     ]
    },
    {
     "name": "stderr",
     "output_type": "stream",
     "text": [
      "/home/kinany/anaconda3/lib/python3.9/site-packages/kneed/knee_locator.py:311: UserWarning: No knee/elbow found\n",
      "  warnings.warn(\"No knee/elbow found\")\n"
     ]
    },
    {
     "name": "stdout",
     "output_type": "stream",
     "text": [
      "Knee of SSE curve is at K = None\n",
      "DONE\n"
     ]
    },
    {
     "data": {
      "image/png": "[encoded data removed]",
      "text/plain": [
       "<Figure size 720x216 with 2 Axes>"
      ]
     },
     "metadata": {
      "needs_background": "light"
     },
     "output_type": "display_data"
    }
   ],
   "source": [
    "fc_parcellation.define_n_clusters(range(10,20))"
   ]
  },
  {
   "cell_type": "code",
   "execution_count": 20,
   "id": "3783b5c0",
   "metadata": {},
   "outputs": [
    {
     "name": "stdout",
     "output_type": "stream",
     "text": [
      "RUN K-MEANS CLUSTERING FOR K = 13\n",
      "DONE\n"
     ]
    }
   ],
   "source": [
    "fc_parcellation.run_clustering(13)"
   ]
  },
  {
   "cell_type": "code",
   "execution_count": 21,
   "id": "be179b2c",
   "metadata": {},
   "outputs": [
    {
     "name": "stdout",
     "output_type": "stream",
     "text": [
      "PREPARE SEED MAP\n",
      "DONE\n"
     ]
    }
   ],
   "source": [
    "fc_parcellation.prepare_seed_map()"
   ]
  },
  {
   "cell_type": "code",
   "execution_count": 23,
   "id": "1de6f175",
   "metadata": {},
   "outputs": [
    {
     "name": "stdout",
     "output_type": "stream",
     "text": [
      "PREPARE BRAIN MAPS\n",
      "...Compute mean connectivity profiles\n",
      "...Save as nifti files\n",
      "DONE\n"
     ]
    }
   ],
   "source": [
    "fc_parcellation.prepare_target_maps()"
   ]
  },
  {
   "cell_type": "code",
   "execution_count": 44,
   "id": "dfd28620",
   "metadata": {},
   "outputs": [
    {
     "data": {
      "text/html": [
       "<style>#sk-container-id-1 {color: black;background-color: white;}#sk-container-id-1 pre{padding: 0;}#sk-container-id-1 div.sk-toggleable {background-color: white;}#sk-container-id-1 label.sk-toggleable__label {cursor: pointer;display: block;width: 100%;margin-bottom: 0;padding: 0.3em;box-sizing: border-box;text-align: center;}#sk-container-id-1 label.sk-toggleable__label-arrow:before {content: \"▸\";float: left;margin-right: 0.25em;color: #696969;}#sk-container-id-1 label.sk-toggleable__label-arrow:hover:before {color: black;}#sk-container-id-1 div.sk-estimator:hover label.sk-toggleable__label-arrow:before {color: black;}#sk-container-id-1 div.sk-toggleable__content {max-height: 0;max-width: 0;overflow: hidden;text-align: left;background-color: #f0f8ff;}#sk-container-id-1 div.sk-toggleable__content pre {margin: 0.2em;color: black;border-radius: 0.25em;background-color: #f0f8ff;}#sk-container-id-1 input.sk-toggleable__control:checked~div.sk-toggleable__content {max-height: 200px;max-width: 100%;overflow: auto;}#sk-container-id-1 input.sk-toggleable__control:checked~label.sk-toggleable__label-arrow:before {content: \"▾\";}#sk-container-id-1 div.sk-estimator input.sk-toggleable__control:checked~label.sk-toggleable__label {background-color: #d4ebff;}#sk-container-id-1 div.sk-label input.sk-toggleable__control:checked~label.sk-toggleable__label {background-color: #d4ebff;}#sk-container-id-1 input.sk-hidden--visually {border: 0;clip: rect(1px 1px 1px 1px);clip: rect(1px, 1px, 1px, 1px);height: 1px;margin: -1px;overflow: hidden;padding: 0;position: absolute;width: 1px;}#sk-container-id-1 div.sk-estimator {font-family: monospace;background-color: #f0f8ff;border: 1px dotted black;border-radius: 0.25em;box-sizing: border-box;margin-bottom: 0.5em;}#sk-container-id-1 div.sk-estimator:hover {background-color: #d4ebff;}#sk-container-id-1 div.sk-parallel-item::after {content: \"\";width: 100%;border-bottom: 1px solid gray;flex-grow: 1;}#sk-container-id-1 div.sk-label:hover label.sk-toggleable__label {background-color: #d4ebff;}#sk-container-id-1 div.sk-serial::before {content: \"\";position: absolute;border-left: 1px solid gray;box-sizing: border-box;top: 0;bottom: 0;left: 50%;z-index: 0;}#sk-container-id-1 div.sk-serial {display: flex;flex-direction: column;align-items: center;background-color: white;padding-right: 0.2em;padding-left: 0.2em;position: relative;}#sk-container-id-1 div.sk-item {position: relative;z-index: 1;}#sk-container-id-1 div.sk-parallel {display: flex;align-items: stretch;justify-content: center;background-color: white;position: relative;}#sk-container-id-1 div.sk-item::before, #sk-container-id-1 div.sk-parallel-item::before {content: \"\";position: absolute;border-left: 1px solid gray;box-sizing: border-box;top: 0;bottom: 0;left: 50%;z-index: -1;}#sk-container-id-1 div.sk-parallel-item {display: flex;flex-direction: column;z-index: 1;position: relative;background-color: white;}#sk-container-id-1 div.sk-parallel-item:first-child::after {align-self: flex-end;width: 50%;}#sk-container-id-1 div.sk-parallel-item:last-child::after {align-self: flex-start;width: 50%;}#sk-container-id-1 div.sk-parallel-item:only-child::after {width: 0;}#sk-container-id-1 div.sk-dashed-wrapped {border: 1px dashed gray;margin: 0 0.4em 0.5em 0.4em;box-sizing: border-box;padding-bottom: 0.4em;background-color: white;}#sk-container-id-1 div.sk-label label {font-family: monospace;font-weight: bold;display: inline-block;line-height: 1.2em;}#sk-container-id-1 div.sk-label-container {text-align: center;}#sk-container-id-1 div.sk-container {/* jupyter's `normalize.less` sets `[hidden] { display: none; }` but bootstrap.min.css set `[hidden] { display: none !important; }` so we also need the `!important` here to be able to override the default hidden behavior on the sphinx rendered scikit-learn.org. See: https://github.com/scikit-learn/scikit-learn/issues/21755 */display: inline-block !important;position: relative;}#sk-container-id-1 div.sk-text-repr-fallback {display: none;}</style><div id=\"sk-container-id-1\" class=\"sk-top-container\"><div class=\"sk-text-repr-fallback\"><pre>NiftiMasker(mask_img=&#x27;/media/miplab-nas2/Data3/BMPD/hc_project//templates/MNI_hc_project/MNI_T1w_GM_AverageHCs_3mm_bin_corrected.nii&#x27;)</pre><b>In a Jupyter environment, please rerun this cell to show the HTML representation or trust the notebook. <br />On GitHub, the HTML representation is unable to render, please try loading this page with nbviewer.org.</b></div><div class=\"sk-container\" hidden><div class=\"sk-item\"><div class=\"sk-estimator sk-toggleable\"><input class=\"sk-toggleable__control sk-hidden--visually\" id=\"sk-estimator-id-1\" type=\"checkbox\" checked><label for=\"sk-estimator-id-1\" class=\"sk-toggleable__label sk-toggleable__label-arrow\">NiftiMasker</label><div class=\"sk-toggleable__content\"><pre>NiftiMasker(mask_img=&#x27;/media/miplab-nas2/Data3/BMPD/hc_project//templates/MNI_hc_project/MNI_T1w_GM_AverageHCs_3mm_bin_corrected.nii&#x27;)</pre></div></div></div></div></div>"
      ],
      "text/plain": [
       "NiftiMasker(mask_img='/media/miplab-nas2/Data3/BMPD/hc_project//templates/MNI_hc_project/MNI_T1w_GM_AverageHCs_3mm_bin_corrected.nii')"
      ]
     },
     "execution_count": 44,
     "metadata": {},
     "output_type": "execute_result"
    }
   ],
   "source": [
    "test"
   ]
  },
  {
   "cell_type": "code",
   "execution_count": 38,
   "id": "001955c1",
   "metadata": {},
   "outputs": [
    {
     "data": {
      "text/plain": [
       "(8592, 5478)"
      ]
     },
     "execution_count": 38,
     "metadata": {},
     "output_type": "execute_result"
    }
   ],
   "source": [
    "fc_parcellation.correlations_mean.shape"
   ]
  },
  {
   "cell_type": "code",
   "execution_count": 49,
   "id": "d8d478e9",
   "metadata": {},
   "outputs": [
    {
     "data": {
      "text/plain": [
       "5478"
      ]
     },
     "execution_count": 49,
     "metadata": {},
     "output_type": "execute_result"
    }
   ],
   "source": [
    "np.count_nonzero(fc_parcellation.mask_target)"
   ]
  },
  {
   "cell_type": "code",
   "execution_count": null,
   "id": "6e962ab1",
   "metadata": {},
   "outputs": [],
   "source": []
  }
 ],
 "metadata": {
  "kernelspec": {
   "display_name": "Python 3 (ipykernel)",
   "language": "python",
   "name": "python3"
  },
  "language_info": {
   "codemirror_mode": {
    "name": "ipython",
    "version": 3
   },
   "file_extension": ".py",
   "mimetype": "text/x-python",
   "name": "python",
   "nbconvert_exporter": "python",
   "pygments_lexer": "ipython3",
   "version": "3.9.12"
  }
 },
 "nbformat": 4,
 "nbformat_minor": 5
}
