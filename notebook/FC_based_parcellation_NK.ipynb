{
 "cells": [
  {
   "cell_type": "markdown",
   "id": "3f8d447d",
   "metadata": {},
   "source": [
    "# <font color=black> Analysis - FC-based parcellation </font>\n",
    "<hr style=\"border:1px solid black\">"
   ]
  },
  {
   "cell_type": "markdown",
   "id": "af18d097",
   "metadata": {},
   "source": [
    "## <font color=black> <span style=\"background-color: #A0B0C0\"> Imports "
   ]
  },
  {
   "cell_type": "code",
   "execution_count": 2,
   "id": "75af82ae",
   "metadata": {},
   "outputs": [],
   "source": [
    "import sys,json\n",
    "import glob, os\n",
    "import numpy as np\n",
    "sys.path.append('/media/miplab-nas2/Data3/BMPD/hc_project/analysis/code/')\n",
    "\n",
    "from fc_based_parcellation import FC_Parcellation\n",
    "\n",
    "%matplotlib inline\n",
    "%load_ext autoreload\n",
    "%autoreload 2"
   ]
  },
  {
   "cell_type": "markdown",
   "id": "e72a9ea2",
   "metadata": {},
   "source": [
    "## <font color=black> <span style=\"background-color: #A0B0C0\"> Initialization"
   ]
  },
  {
   "cell_type": "markdown",
   "id": "170dfff1",
   "metadata": {},
   "source": [
    "### <font color=#A0B0C0> I Configuration & parameters </font>"
   ]
  },
  {
   "cell_type": "code",
   "execution_count": 3,
   "id": "a2ad247f",
   "metadata": {},
   "outputs": [],
   "source": [
    "with open('../config/config_fc_based_parcellation_NK.json') as config_file:\n",
    "    config = json.load(config_file) # load config file"
   ]
  },
  {
   "cell_type": "markdown",
   "id": "01e59735",
   "metadata": {},
   "source": [
    "### <font color=#A0B0C0> II Class instance </font>"
   ]
  },
  {
   "cell_type": "code",
   "execution_count": 4,
   "id": "ca604ed3",
   "metadata": {},
   "outputs": [],
   "source": [
    "fc_parcellation = FC_Parcellation(config,'spinalcord','brain')"
   ]
  },
  {
   "cell_type": "code",
   "execution_count": 5,
   "id": "e0724fee",
   "metadata": {},
   "outputs": [
    {
     "name": "stdout",
     "output_type": "stream",
     "text": [
      "COMPUTE VOXELWISE CORRELATION\n",
      "... Computing correlations for all possibilities\n",
      "...... Subject P028\n",
      "... Computing mean correlation over subjects\n",
      "DONE!\n"
     ]
    }
   ],
   "source": [
    "fc_parcellation.compute_voxelwise_correlation(load_from_file=False, mask_source_path=config['main_dir']+config['masks']['spinalcord'],mask_target_path=config['main_dir']+config['masks']['brain'])"
   ]
  },
  {
   "cell_type": "code",
   "execution_count": 7,
   "id": "09555888",
   "metadata": {},
   "outputs": [
    {
     "name": "stdout",
     "output_type": "stream",
     "text": [
      "DEFINE NUMBER OF CLUSTERS\n",
      "...Loading clustering parameters, method agglom\n",
      "...Computing SSE and silhouette coefficients\n",
      "......K = 5\n",
      "......K = 6\n",
      "......K = 7\n",
      "......K = 8\n",
      "......K = 9\n",
      "......K = 10\n",
      "......K = 11\n",
      "......K = 12\n",
      "......K = 13\n",
      "......K = 14\n",
      "......K = 15\n",
      "......K = 16\n",
      "......K = 17\n",
      "......K = 18\n",
      "......K = 19\n"
     ]
    },
    {
     "name": "stderr",
     "output_type": "stream",
     "text": [
      "/home/kinany/anaconda3/lib/python3.9/site-packages/kneed/knee_locator.py:225: RuntimeWarning: invalid value encountered in true_divide\n",
      "  return (a - min(a)) / (max(a) - min(a))\n",
      "/home/kinany/anaconda3/lib/python3.9/site-packages/kneed/knee_locator.py:244: RuntimeWarning: No local maxima found in the difference curve\n",
      "The line is probably not polynomial, try plotting\n",
      "the difference curve with plt.plot(knee.x_difference, knee.y_difference)\n",
      "Also check that you aren't mistakenly setting the curve argument\n",
      "  warnings.warn(\n"
     ]
    },
    {
     "name": "stdout",
     "output_type": "stream",
     "text": [
      "Knee of SSE curve is at K = None\n",
      "DONE\n"
     ]
    },
    {
     "data": {
      "image/png": "[encoded data removed]",
      "text/plain": [
       "<Figure size 720x216 with 2 Axes>"
      ]
     },
     "metadata": {
      "needs_background": "light"
     },
     "output_type": "display_data"
    }
   ],
   "source": [
    "fc_parcellation.define_n_clusters(range(5,20),algorithm='agglom')"
   ]
  },
  {
   "cell_type": "code",
   "execution_count": 10,
   "id": "3783b5c0",
   "metadata": {},
   "outputs": [
    {
     "name": "stdout",
     "output_type": "stream",
     "text": [
      "RUN AGGLOMERATIVE CLUSTERING FOR K = 13\n",
      "DONE\n"
     ]
    }
   ],
   "source": [
    "fc_parcellation.run_clustering(13,algorithm='agglom')"
   ]
  },
  {
   "cell_type": "code",
   "execution_count": 11,
   "id": "be179b2c",
   "metadata": {},
   "outputs": [
    {
     "name": "stdout",
     "output_type": "stream",
     "text": [
      "PREPARE SEED MAP\n",
      "DONE\n"
     ]
    }
   ],
   "source": [
    "fc_parcellation.prepare_seed_map()"
   ]
  },
  {
   "cell_type": "code",
   "execution_count": 12,
   "id": "1de6f175",
   "metadata": {},
   "outputs": [
    {
     "name": "stdout",
     "output_type": "stream",
     "text": [
      "PREPARE BRAIN MAPS\n",
      "...Compute mean connectivity profiles\n",
      "...Save as nifti files\n",
      "DONE\n"
     ]
    }
   ],
   "source": [
    "fc_parcellation.prepare_target_maps()"
   ]
  },
  {
   "cell_type": "code",
   "execution_count": 13,
   "id": "a8402713",
   "metadata": {},
   "outputs": [
    {
     "name": "stdout",
     "output_type": "stream",
     "text": [
      "RUN K-MEANS CLUSTERING FOR K = 13\n",
      "DONE\n"
     ]
    }
   ],
   "source": [
    "fc_parcellation.run_clustering(13,algorithm='kmeans')"
   ]
  },
  {
   "cell_type": "code",
   "execution_count": 14,
   "id": "75ae8276",
   "metadata": {},
   "outputs": [
    {
     "name": "stdout",
     "output_type": "stream",
     "text": [
      "PREPARE SEED MAP\n",
      "DONE\n"
     ]
    }
   ],
   "source": [
    "fc_parcellation.prepare_seed_map()"
   ]
  },
  {
   "cell_type": "code",
   "execution_count": 15,
   "id": "cccab738",
   "metadata": {},
   "outputs": [
    {
     "name": "stdout",
     "output_type": "stream",
     "text": [
      "PREPARE BRAIN MAPS\n",
      "...Compute mean connectivity profiles\n",
      "...Save as nifti files\n",
      "DONE\n"
     ]
    }
   ],
   "source": [
    "fc_parcellation.prepare_target_maps()"
   ]
  },
  {
   "cell_type": "code",
   "execution_count": 18,
   "id": "22671ee9",
   "metadata": {},
   "outputs": [],
   "source": [
    "A = np.array([0,2,43,4,2,3,4,2,3])"
   ]
  },
  {
   "cell_type": "code",
   "execution_count": 22,
   "id": "8f56c09c",
   "metadata": {},
   "outputs": [],
   "source": [
    "std = A.std(axis=0)\n",
    "A = A/ std"
   ]
  },
  {
   "cell_type": "code",
   "execution_count": 23,
   "id": "d9ee7507",
   "metadata": {},
   "outputs": [
    {
     "data": {
      "text/plain": [
       "0.9999999999999999"
      ]
     },
     "execution_count": 23,
     "metadata": {},
     "output_type": "execute_result"
    }
   ],
   "source": [
    "A.std(axis=0)"
   ]
  },
  {
   "cell_type": "code",
   "execution_count": null,
   "id": "4f61f8b5",
   "metadata": {},
   "outputs": [],
   "source": []
  }
 ],
 "metadata": {
  "kernelspec": {
   "display_name": "Python 3 (ipykernel)",
   "language": "python",
   "name": "python3"
  },
  "language_info": {
   "codemirror_mode": {
    "name": "ipython",
    "version": 3
   },
   "file_extension": ".py",
   "mimetype": "text/x-python",
   "name": "python",
   "nbconvert_exporter": "python",
   "pygments_lexer": "ipython3",
   "version": "3.9.12"
  }
 },
 "nbformat": 4,
 "nbformat_minor": 5
}
