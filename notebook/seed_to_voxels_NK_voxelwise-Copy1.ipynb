{
 "cells": [
  {
   "cell_type": "markdown",
   "id": "3f8d447d",
   "metadata": {},
   "source": [
    "# Voxel-to-voxel correlation maps\n",
    "### This notebook is used to perform correlation-based parcellation"
   ]
  },
  {
   "cell_type": "markdown",
   "id": "af18d097",
   "metadata": {},
   "source": [
    "## <font color=009DD2> <span style=\"background-color: #A9C4C0\"> Imports"
   ]
  },
  {
   "cell_type": "code",
   "execution_count": 5,
   "id": "75af82ae",
   "metadata": {},
   "outputs": [],
   "source": [
    "import sys,json\n",
    "import glob, os\n",
    "sys.path.append('/media/miplab-nas2/Data3/BMPD/hc_project/analysis/code/')\n",
    "\n",
    "from seed_to_voxels import Seed2voxels\n",
    "\n",
    "#%matplotlib inline\n",
    "%load_ext autoreload\n",
    "%autoreload 2"
   ]
  },
  {
   "cell_type": "markdown",
   "id": "e72a9ea2",
   "metadata": {},
   "source": [
    "## <font color=009DD2> <span style=\"background-color: #A9C4C0\"> Initialization"
   ]
  },
  {
   "cell_type": "markdown",
   "id": "170dfff1",
   "metadata": {},
   "source": [
    "### <font color=009DD2> I Configuration & parameters </font>"
   ]
  },
  {
   "cell_type": "code",
   "execution_count": 6,
   "id": "a2ad247f",
   "metadata": {},
   "outputs": [],
   "source": [
    "with open('../config/config_NK.json') as config_file:\n",
    "    config = json.load(config_file) # load config file\n",
    "\n",
    "# Parameters (maybe we should move them to config?)\n",
    "signal='raw'\n",
    "seed_names=['C3'] # Define seed names\n",
    "target_name=['brain'] # Define structure to use as target (brain or spinal cord)\n",
    "ktot = 9"
   ]
  },
  {
   "cell_type": "markdown",
   "id": "dfdf6f62",
   "metadata": {},
   "source": [
    "### <font color=009DD2> II Select files </font>"
   ]
  },
  {
   "cell_type": "code",
   "execution_count": 9,
   "id": "8eaf939f",
   "metadata": {},
   "outputs": [],
   "source": [
    "# /!\\ Important notes: \n",
    "# Different from ai-based correlation analyses, no _ai suffix appended here for the timeseries txt files\n",
    "\n",
    "# One target per subject\n",
    "data_target=[];ts_target_txt=[]\n",
    "for subject_name in config['list_subjects']:\n",
    "    data_target.append(config['main_dir'] + '1_nilearn-based/2_func_in_template/sub-'+ subject_name + '/brain/sub-' + subject_name + '_task-rest_bold_stc_brain_moco_denoised_reg_SPM_inTemplate.nii.gz')\n",
    "    ts_target_txt.append(config['main_dir'] + config['seed2vox_dir'] + '/' +target_name[0]+'_all/timeseries/sub-' + subject_name + '_' + target_name[0] + '_all_timeseries')\n",
    "mask_target=config['main_dir'] + config['masks'][target_name[0].split('_')[0]]\n",
    "\n",
    "# But possible to have multiple seeds (so create a dictionary to store list of each seed)\n",
    "data_seed={}; ts_seed_txt={}; mask_seed={}\n",
    "for seed_name in seed_names:\n",
    "    data_seed[seed_name] = []\n",
    "    ts_seed_txt[seed_name] = []\n",
    "    \n",
    "    # For ICA-based seeds\n",
    "    mask_seed[seed_name] = glob.glob(config['main_dir'] + config['data']['ica']['spinalcord_dir'] + 'k_' + str(ktot) + '/' + 'comp_bin/' + config['data']['ica']['tag_filename'] + '*' + seed_name + '*.gz')[0]\n",
    "    for subject_name in config['list_subjects']:\n",
    "        data_seed[seed_name].append(config['main_dir'] + '1_nilearn-based/2_func_in_template/sub-'+ subject_name + '/spinalcord/sub-' + subject_name + '_task-rest_bold_stc_sc_moco_denoised_inTemplate.nii.gz')\n",
    "        ts_seed_txt[seed_name].append(config['main_dir'] + config['seed2vox_dir'] + '/spinalcord_icas_k' + str(ktot) +'/'+seed_name+'/timeseries/sub-' + subject_name + '_' + seed_name + '_timeseries_s3x3x6')\n",
    "    \n",
    "    if not os.path.exists(config['main_dir'] + config['seed2vox_dir'] + '/spinalcord_icas_k' + str(ktot) + '/' +seed_name+'/'+target_name[0]+'_fc_maps/'):\n",
    "        os.mkdir(config['main_dir'] + config['seed2vox_dir'] + '/spinalcord_icas_k' + str(ktot) +'/'+seed_name+'/'+target_name[0]+'_fc_maps/')\n",
    "\n",
    "# Create directories if needed\n",
    "if not os.path.exists(config['main_dir'] + config['seed2vox_dir'] + '/' +target_name[0]+'_all/timeseries/'):\n",
    "    os.mkdir(config['main_dir'] + config['seed2vox_dir'] + '/' +target_name[0]+'_all')\n",
    "    os.mkdir(config['main_dir'] + config['seed2vox_dir'] + '/' +target_name[0]+'_all/timeseries/') # folder to store timeseries extraction"
   ]
  },
  {
   "cell_type": "markdown",
   "id": "443bccc1",
   "metadata": {},
   "source": [
    "### <font color=009DD2> III Initialize class based on this </font>"
   ]
  },
  {
   "cell_type": "code",
   "execution_count": 10,
   "id": "94ee5867",
   "metadata": {},
   "outputs": [],
   "source": [
    "seed2voxels=Seed2voxels(config,signal,seed_names,target_name) # initialize the function"
   ]
  },
  {
   "cell_type": "markdown",
   "id": "577ce1f3",
   "metadata": {},
   "source": [
    "## <font color=009DD2> <span style=\"background-color: #A9C4C0\"> Data extraction\n"
   ]
  },
  {
   "cell_type": "markdown",
   "id": "fde3cace",
   "metadata": {},
   "source": [
    "### <font color=009DD2> I. Time series extraction - Seed </font>"
   ]
  },
  {
   "cell_type": "code",
   "execution_count": 11,
   "id": "b61aa554",
   "metadata": {},
   "outputs": [],
   "source": [
    "# Dictionary with seed names\n",
    "# Contains one array per subject\n",
    "\n",
    "# !! Here, smooth seed with 3x3x6 kernel\n",
    "\n",
    "seed_timeseries={};seed_timeseries_mean={};seed_timeseries_pc1={};\n",
    "for seed_name in seed_names:\n",
    "    seed_timeseries[seed_name]=[]\n",
    "    seed_timeseries_mean[seed_name]=[]\n",
    "    seed_timeseries_pc1[seed_name]=[]\n",
    "    (seed_timeseries[seed_name],seed_timeseries_mean[seed_name],seed_timeseries_pc1[seed_name])=seed2voxels.extract_data(img=data_seed[seed_name], smoothing_fwhm=[3,3,6], mask=mask_seed[seed_name],timeseries_txt=ts_seed_txt[seed_name],run=\"extract\",n_jobs=8) # Load iCAP timecourses as seed"
   ]
  },
  {
   "cell_type": "markdown",
   "id": "43650e48",
   "metadata": {},
   "source": [
    "### <font color=009DD2> II. Time series extraction - Target </font>"
   ]
  },
  {
   "cell_type": "code",
   "execution_count": 12,
   "id": "0c573394",
   "metadata": {},
   "outputs": [],
   "source": [
    "(target_timeseries,target_timeseries_mean,target_timeseries_pc1)=seed2voxels.extract_data(img=data_target, smoothing_fwhm=[6,6,6], mask=mask_target, timeseries_txt=ts_target_txt,\n",
    "                run=\"load\",n_jobs=8) # Load voxelwise brain signals as target\n"
   ]
  },
  {
   "cell_type": "markdown",
   "id": "81d44179",
   "metadata": {},
   "source": [
    "## <font color=009DD2> <span style=\"background-color: #A9C4C0\"> Correlation analysis voxelwise"
   ]
  },
  {
   "cell_type": "code",
   "execution_count": null,
   "id": "73f148c9",
   "metadata": {},
   "outputs": [],
   "source": [
    "import numpy as np\n",
    "\n",
    "output_img={};\n",
    "for seed_name in seed_names: # For each seed\n",
    "    output_img[seed_name]=[]\n",
    "    seed = np.array(seed_timeseries[seed_name])\n",
    "    # Loop through voxels\n",
    "    for voxel in range(seed.shape[2]):\n",
    "        seed_voxel = seed[:,:,voxel]\n",
    "        output_img[seed_name].append(seed2voxels.correlation_maps(seed_voxel,target_timeseries,mask=mask_target,output_img=None,Fisher=True,save_maps=False,n_jobs=8))\n",
    "    # Save seed results as .npy\n",
    "    np.save(config['main_dir'] + config['seed2vox_dir'] + '/spinalcord_icas_k' + str(ktot) +'/C3/' +target_name[0]+'_fc_maps/allsub_C3_voxels2brain_brain+sc_smoothed',np.array(output_img[seed_name]))\n"
   ]
  },
  {
   "cell_type": "markdown",
   "id": "7a825266",
   "metadata": {},
   "source": [
    "## <font color=009DD2> <span style=\"background-color: #A9C4C0\"> FC-based parcellation"
   ]
  },
  {
   "cell_type": "markdown",
   "id": "29d47fbc",
   "metadata": {},
   "source": [
    "### <font color=009DD2> Method 1: https://www.jneurosci.org/content/32/18/6240 </font>\n",
    "**Since this method is based on averaging maps from a single voxel in spine, maybe use smoothing in spine too?**"
   ]
  },
  {
   "cell_type": "code",
   "execution_count": null,
   "id": "cb9b62c8",
   "metadata": {},
   "outputs": [],
   "source": [
    "for sub_ix,sub in enumerate(seed2voxels.subject_names):\n",
    "    np.save(config['main_dir'] + config['seed2vox_dir'] + '/spinalcord_icas_k' + str(ktot) +'/C3/' +target_name[0]+'_fc_maps/sub-' + sub + '_C3_voxels2brain',np.squeeze(np.array(output_img['C3'])[:,sub_ix,:,]))"
   ]
  },
  {
   "cell_type": "code",
   "execution_count": 2,
   "id": "63f6871c",
   "metadata": {},
   "outputs": [
    {
     "ename": "NameError",
     "evalue": "name 'output_img' is not defined",
     "output_type": "error",
     "traceback": [
      "\u001b[0;31m---------------------------------------------------------------------------\u001b[0m",
      "\u001b[0;31mNameError\u001b[0m                                 Traceback (most recent call last)",
      "Input \u001b[0;32mIn [2]\u001b[0m, in \u001b[0;36m<cell line: 2>\u001b[0;34m()\u001b[0m\n\u001b[1;32m      1\u001b[0m \u001b[38;5;28;01mimport\u001b[39;00m \u001b[38;5;21;01mnumpy\u001b[39;00m \u001b[38;5;28;01mas\u001b[39;00m \u001b[38;5;21;01mnp\u001b[39;00m\n\u001b[0;32m----> 2\u001b[0m mean_correlation \u001b[38;5;241m=\u001b[39m np\u001b[38;5;241m.\u001b[39mmean(np\u001b[38;5;241m.\u001b[39marray(\u001b[43moutput_img\u001b[49m[\u001b[38;5;124m'\u001b[39m\u001b[38;5;124mC3\u001b[39m\u001b[38;5;124m'\u001b[39m]),axis\u001b[38;5;241m=\u001b[39m\u001b[38;5;241m1\u001b[39m)\n",
      "\u001b[0;31mNameError\u001b[0m: name 'output_img' is not defined"
     ]
    }
   ],
   "source": [
    "import numpy as np\n",
    "mean_correlation = np.mean(np.array(output_img['C3']),axis=1)"
   ]
  },
  {
   "cell_type": "code",
   "execution_count": null,
   "id": "435cf751",
   "metadata": {},
   "outputs": [],
   "source": []
  }
 ],
 "metadata": {
  "kernelspec": {
   "display_name": "Python 3 (ipykernel)",
   "language": "python",
   "name": "python3"
  },
  "language_info": {
   "codemirror_mode": {
    "name": "ipython",
    "version": 3
   },
   "file_extension": ".py",
   "mimetype": "text/x-python",
   "name": "python",
   "nbconvert_exporter": "python",
   "pygments_lexer": "ipython3",
   "version": "3.9.12"
  }
 },
 "nbformat": 4,
 "nbformat_minor": 5
}
