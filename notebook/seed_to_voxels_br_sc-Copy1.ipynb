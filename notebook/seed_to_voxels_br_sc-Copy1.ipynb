{
 "cells": [
  {
   "cell_type": "markdown",
   "metadata": {},
   "source": [
    "## <font color=#B2D732> <span style=\"background-color: #4424D6\"> Imports"
   ]
  },
  {
   "cell_type": "code",
   "execution_count": 73,
   "metadata": {},
   "outputs": [
    {
     "name": "stdout",
     "output_type": "stream",
     "text": [
      "/cerebro/cerebro1/dataset/bmpd/derivatives/HealthyControls_project/hc_project_analyses/code\n",
      "The autoreload extension is already loaded. To reload it, use:\n",
      "  %reload_ext autoreload\n"
     ]
    }
   ],
   "source": [
    "%cd /cerebro/cerebro1/dataset/bmpd/derivatives/HealthyControls_project/hc_project_analyses/code/\n",
    "import sys,json\n",
    "import glob, os\n",
    "sys.path.append(\"/cerebro/cerebro1/dataset/bmpd/derivatives/HealthyControls_project/hc_project_analyses/code/\")\n",
    "\n",
    "sys.path.append(\"/cerebro/cerebro1/dataset/bmpd/derivatives/thibault_test/code/toolbox/spinalcordtoolbox-5.0.0\")\n",
    "sys.path.append(\"/cerebro/cerebro1/dataset/bmpd/derivatives/thibault_test/code/toolbox/spinalcordtoolbox-5.0.0/scripts\") \n",
    "from spinalcordtoolbox.utils.sys import run_proc\n",
    "\n",
    "from seed_to_voxels import Seed2voxels\n",
    "\n",
    "%matplotlib inline\n",
    "%load_ext autoreload\n",
    "%autoreload 2"
   ]
  },
  {
   "cell_type": "code",
   "execution_count": 74,
   "metadata": {},
   "outputs": [],
   "source": [
    "# to do: C5toC6 => D,V,R,VI"
   ]
  },
  {
   "cell_type": "markdown",
   "metadata": {},
   "source": [
    "## <font color=#B2D732> <span style=\"background-color: #4424D6\"> A/ Initialization"
   ]
  },
  {
   "cell_type": "markdown",
   "metadata": {},
   "source": [
    " ### <font color=#4424D6> I. Configuration & parameters </font >"
   ]
  },
  {
   "cell_type": "code",
   "execution_count": 75,
   "metadata": {},
   "outputs": [],
   "source": [
    "# Load config file ------------------------------------------------------------\n",
    "with open('../config/config_CL.json') as config_file: # the notebook should be in 'xx/notebook/' folder #config_proprio\n",
    "    config = json.load(config_file) # load config file should be open first and the path inside modified\n",
    "    config['list_subjects']=config[\"list_subjects_2\"]\n",
    "signal='raw'\n",
    "    \n",
    "seed_names=['spinalcord_ica-C6-V']\n",
    "target_name=['brain_mask'] # define structure target\n"
   ]
  },
  {
   "cell_type": "markdown",
   "metadata": {},
   "source": [
    "### <font color=#4424D6> II. Select files </font>"
   ]
  },
  {
   "cell_type": "code",
   "execution_count": 86,
   "metadata": {},
   "outputs": [],
   "source": [
    "moco_mean=[];data_target=[];ts_target_txt=[];ts_seed_txt ={};data_seed=[];mask_seed={};mask_target=[];mask_target_main=[];mask_seed_main={}; mask_target_inT1w=[]\n",
    "warp_PAM50_T1w=[];warp_T1w_func=[];warp_from_PAM50_to_T1w_to_func=[];warp_from_func_to_T1w_to_PAM50=[];warp_brain_iy=[]; warp_brain_func=[];moco_brain_mean=[]\n",
    "#>>> Select data for extraction and target files -------------------------------------\n",
    "for subject_name in config['list_subjects']:\n",
    "    # select target files:\n",
    "    mask_target_main.append(glob.glob(config[\"main_dir\"] + config[\"masks\"][target_name[0].split('_')[0]])[0].split('.gz')[0])\n",
    "        \n",
    "    moco_mean.append(glob.glob('/cerebro/cerebro1/dataset/bmpd/derivatives/spinalcord_processing/sub-'+subject_name+'/func/3_MOCO/spinalcord/*mean.nii.gz')[0])\n",
    "    moco_brain_mean.append(glob.glob('/cerebro/cerebro1/dataset/bmpd/derivatives/spinalcord_processing/sub-'+subject_name+'/func/3_MOCO/brain/*mean.nii.gz')[0])\n",
    "   \n",
    "    warp_brain_iy.append(glob.glob('/cerebro/cerebro1/dataset/bmpd/derivatives/spinalcord_processing/sub-'+subject_name+'/anat/brain/segmentation/mri/iy*')[0])\n",
    "    warp_brain_func.append(glob.glob('/cerebro/cerebro1/dataset/bmpd/derivatives/spinalcord_processing/sub-' + subject_name  + '/func/5_Coregistration/brain/*reg.mat')[0])\n",
    "                \n",
    "        \n",
    "    warp_PAM50_T1w.append(glob.glob('/cerebro/cerebro1/dataset/bmpd/derivatives/spinalcord_processing/sub-'+subject_name+'/anat/T1w_sc_coreg_new_CL/sub-*from-PAM50_to-T1w_mode-image_xfm.nii.gz')[0])\n",
    "    warp_T1w_func.append(glob.glob('/cerebro/cerebro1/dataset/bmpd/derivatives/spinalcord_processing/sub-'+subject_name+'/func//5_Coregistration/spinalcord/warp_T1w*.nii.gz')[0])\n",
    "    warp_from_PAM50_to_T1w_to_func.append('/cerebro/cerebro1/dataset/bmpd/derivatives/spinalcord_processing/sub-'+subject_name+'/func//5_Coregistration/spinalcord/sub-'+subject_name+'_from-PAM50_to_T1w_to_func_mode-image_xfm.nii.gz')\n",
    "    warp_from_func_to_T1w_to_PAM50.append('/cerebro/cerebro1/dataset/bmpd/derivatives/spinalcord_processing/sub-'+subject_name+'/func//5_Coregistration/spinalcord/sub-'+subject_name+'_from-func_to_T1w_to_PAM50_mode-image_xfm.nii.gz')\n",
    "   \n",
    "    # select data for extraction:\n",
    "    #data_seed.append(glob.glob(config[\"coreg_dir\"] + 'sub-'+ subject_name +'/'+seed_names[0].split('_')[0]+'/*' + config[\"coreg_tag\"][seed_names[0].split('_')[0]] +'*')[0])\n",
    "    #data_target.append(glob.glob(config[\"coreg_dir\"] + 'sub-'+ subject_name +'/'+target_name[0].split('_')[0]+'/*' + config[\"coreg_tag\"][target_name[0].split('_')[0]] +'*.gz')[0])\n",
    "    data_seed.append(glob.glob(config[\"denoised_dir\"] + 'sub-'+ subject_name +'/'+seed_names[0].split('_')[0]+'/*' + config[\"coreg_tag\"][seed_names[0].split('_')[0]] +'*.nii.gz')[0])\n",
    "    data_target.append(glob.glob(config[\"denoised_dir\"] + 'sub-'+ subject_name +'/'+target_name[0].split('_')[0]+'/*' + config[\"coreg_tag\"][target_name[0].split('_')[0]] +'*.gz')[0])\n",
    "    \n",
    "    # Output filename (timeseries)\n",
    "    ts_target_txt.append(config['main_dir'] + config['seed2vox_dir'] + '/1_first_level/ica_V1/'+target_name[0]+'/test_nativespace/timeseries/sub_' + subject_name + '_mask_' + target_name[0] + '_timeseries')\n",
    "\n",
    "#>>> Select seed files and ts -------------------------------------\n",
    "for seed_name in seed_names:\n",
    "    mask_seed[seed_name]=[];mask_seed_main[seed_name]=[]\n",
    "    ts_seed_txt[seed_name]=[]\n",
    "    for subject_name in config['list_subjects']:\n",
    "        mask_target_inT1w.append(config['main_dir'] + config['seed2vox_dir'] + '/1_first_level/ica_V1/'+seed_name+'/test_nativespace/masks/sub_' + subject_name + '_mask_' + target_name[0].split('_')[0] + '_inT1w.nii')\n",
    "   \n",
    "        mask_target.append(config['main_dir'] + config['seed2vox_dir'] + '/1_first_level/ica_V1/'+seed_name+'/test_nativespace/masks/sub_' + subject_name + '_mask_' + target_name[0].split('_')[0] + '.nii.gz')\n",
    "\n",
    "        mask_seed_main[seed_name].append(glob.glob(config[\"main_dir\"] + config[\"seed2vox_dir\"] + '/masks/'+ seed_name + '.nii.gz')[0])\n",
    "        mask_seed[seed_name].append(config['main_dir'] + config['seed2vox_dir'] + '/1_first_level/ica_V1/'+seed_name+'/test_nativespace/masks/sub_' + subject_name + '_mask_' + seed_name.split('_')[-1] + '.nii.gz')\n",
    "        ts_seed_txt[seed_name].append(config['main_dir'] + config['seed2vox_dir'] + '/1_first_level/ica_V1/'+seed_name+'/test_nativespace/timeseries/sub_' + subject_name + '_mask_' + seed_name.split('_')[-1] + '_timeseries')\n",
    "\n",
    "#>>> create output directory if needed -------------------------------------\n",
    "for seed_name in seed_names:\n",
    "    if not os.path.exists(config['main_dir'] + config['seed2vox_dir'] + '/1_first_level/ica_V1/'+seed_name + '/test_nativespace/'):\n",
    "        os.mkdir(config['main_dir'] + config['seed2vox_dir'] + '/1_first_level/ica_V1/'+seed_name)\n",
    "        os.mkdir(config['main_dir'] + config['seed2vox_dir'] + '/1_first_level/ica_V1/'+seed_name+'/test_nativespace/timeseries/') # folder to store timeseries extraction\n",
    "        os.mkdir(config['main_dir'] + config['seed2vox_dir'] + '/1_first_level/ica_V1/'+seed_name+'/test_nativespace/brain_fc_maps/') # folder to store maps of FC\n",
    "\n",
    " "
   ]
  },
  {
   "cell_type": "code",
   "execution_count": 90,
   "metadata": {},
   "outputs": [
    {
     "name": "stdout",
     "output_type": "stream",
     "text": [
      "/cerebro/cerebro1/dataset/bmpd/derivatives/HealthyControls_project/func_preparation/codes/code\n",
      " \n",
      ">>>>> Run spinal cord coregistration for 2 participant(s)\n",
      "Spinal coregistration was already done please put redo=True to redo that step\n",
      "Spinal coregistration was already done please put redo=True to redo that step\n",
      "Normalisation into MNI space was already done, set redo=True to run again the coregistration\n",
      " \n",
      ">>>>> Run brain coregistration for 2 participant(s)\n",
      "convert_xfm -omat /cerebro/cerebro1/dataset/bmpd/derivatives/spinalcord_processing/sub-P100/func/5_Coregistration/brain/sub-P100_task-rest_bold_stc_brain_moco_mean_reg_inv.mat -inverse /cerebro/cerebro1/dataset/bmpd/derivatives/spinalcord_processing/sub-P100/func/5_Coregistration/brain/sub-P100_task-rest_bold_stc_brain_moco_mean_reg.mat # in /cerebro/cerebro1/dataset/bmpd/derivatives/HealthyControls_project/func_preparation/codes/code\n",
      "flirt -in /cerebro/cerebro1/dataset/bmpd/derivatives/HealthyControls_project//seed_to_voxels//1_first_level/ica_V1/spinalcord_ica-C6-V/test_nativespace/masks/sub_P100_mask_brain_inT1w.nii.gz -ref /cerebro/cerebro1/dataset/bmpd/derivatives/spinalcord_processing/sub-P100/func/3_MOCO/brain/sub-P100_task-rest_bold_stc_brain_moco_mean.nii.gz -o /cerebro/cerebro1/dataset/bmpd/derivatives/HealthyControls_project//seed_to_voxels//1_first_level/ica_V1/spinalcord_ica-C6-V/test_nativespace/masks/sub_P100_mask_brain.nii.gz -omat /cerebro/cerebro1/dataset/bmpd/derivatives/spinalcord_processing/sub-P100/func/5_Coregistration/brain/sub-P100_task-rest_bold_stc_brain_moco_mean_reg_inv.mat -dof 6 -interp spline # in /cerebro/cerebro1/dataset/bmpd/derivatives/HealthyControls_project/func_preparation/codes/code\n",
      "fslmaths /cerebro/cerebro1/dataset/bmpd/derivatives/HealthyControls_project//seed_to_voxels//1_first_level/ica_V1/spinalcord_ica-C6-V/test_nativespace/masks/sub_P100_mask_brain.nii.gz -thr 0.5 -bin /cerebro/cerebro1/dataset/bmpd/derivatives/HealthyControls_project//seed_to_voxels//1_first_level/ica_V1/spinalcord_ica-C6-V/test_nativespace/masks/sub_P100_mask_brain.nii.gz # in /cerebro/cerebro1/dataset/bmpd/derivatives/HealthyControls_project/func_preparation/codes/code\n",
      "convert_xfm -omat /cerebro/cerebro1/dataset/bmpd/derivatives/spinalcord_processing/sub-P105/func/5_Coregistration/brain/sub-P105_task-rest_bold_stc_brain_moco_mean_reg_inv.mat -inverse /cerebro/cerebro1/dataset/bmpd/derivatives/spinalcord_processing/sub-P105/func/5_Coregistration/brain/sub-P105_task-rest_bold_stc_brain_moco_mean_reg.mat # in /cerebro/cerebro1/dataset/bmpd/derivatives/HealthyControls_project/func_preparation/codes/code\n",
      "flirt -in /cerebro/cerebro1/dataset/bmpd/derivatives/HealthyControls_project//seed_to_voxels//1_first_level/ica_V1/spinalcord_ica-C6-V/test_nativespace/masks/sub_P105_mask_brain_inT1w.nii.gz -ref /cerebro/cerebro1/dataset/bmpd/derivatives/spinalcord_processing/sub-P105/func/3_MOCO/brain/sub-P105_task-rest_bold_stc_brain_moco_mean.nii.gz -o /cerebro/cerebro1/dataset/bmpd/derivatives/HealthyControls_project//seed_to_voxels//1_first_level/ica_V1/spinalcord_ica-C6-V/test_nativespace/masks/sub_P105_mask_brain.nii.gz -omat /cerebro/cerebro1/dataset/bmpd/derivatives/spinalcord_processing/sub-P105/func/5_Coregistration/brain/sub-P105_task-rest_bold_stc_brain_moco_mean_reg_inv.mat -dof 6 -interp spline # in /cerebro/cerebro1/dataset/bmpd/derivatives/HealthyControls_project/func_preparation/codes/code\n",
      "fslmaths /cerebro/cerebro1/dataset/bmpd/derivatives/HealthyControls_project//seed_to_voxels//1_first_level/ica_V1/spinalcord_ica-C6-V/test_nativespace/masks/sub_P105_mask_brain.nii.gz -thr 0.5 -bin /cerebro/cerebro1/dataset/bmpd/derivatives/HealthyControls_project//seed_to_voxels//1_first_level/ica_V1/spinalcord_ica-C6-V/test_nativespace/masks/sub_P105_mask_brain.nii.gz # in /cerebro/cerebro1/dataset/bmpd/derivatives/HealthyControls_project/func_preparation/codes/code\n"
     ]
    },
    {
     "data": {
      "text/plain": [
       "'/cerebro/cerebro1/dataset/bmpd/derivatives/HealthyControls_project//seed_to_voxels//1_first_level/ica_V1/spinalcord_ica-C6-V/test_nativespace/masks/sub_P105_mask_brain.nii.gz'"
      ]
     },
     "execution_count": 90,
     "metadata": {},
     "output_type": "execute_result"
    }
   ],
   "source": [
    "%cd \"/cerebro/cerebro1/dataset/bmpd/derivatives/HealthyControls_project/func_preparation/codes/code/\"\n",
    "sys.path.append(\"/cerebro/cerebro1/dataset/bmpd/derivatives/HealthyControls_project/func_preparation/codes/code/\")\n",
    "from preprocessings import Preproc\n",
    "preproc=Preproc(config)\n",
    "# wrap seed\n",
    "# create the warping fields by concatenation\n",
    "for sbj_nb in range(0,len(config['list_subjects'])):\n",
    "    if not os.path.exists(warp_from_PAM50_to_T1w_to_func[sbj_nb]):\n",
    "        run_proc('sct_concat_transfo -d {} -w {} {} -o {}'.format(moco_mean[sbj_nb],warp_PAM50_T1w[sbj_nb],warp_T1w_func[sbj_nb],warp_from_PAM50_to_T1w_to_func[sbj_nb]))\n",
    "\n",
    "# wrap spinal mask into func space    \n",
    "preproc.coregistration_sc(mask_seed_main[seed_name],moco_mean, mask_seed[seed_name],warp_from_PAM50_to_T1w_to_func,redo=False)\n",
    "\n",
    "#wrap brain mask to T1w\n",
    "preproc.normalisation_brain(warp_brain_iy,mask_target_main,mask_target_inT1w,brain_mask=None,n_jobs=1,redo=False)\n",
    "for sbj_nb in range(0,len(config['list_subjects'])):\n",
    "    subject_name=config['list_subjects'][sbj_nb]\n",
    "    if not os.path.exists(mask_target_inT1w[0].split('.')[0]+'.nii.gz'):\n",
    "        run_proc('fslmaths {} -nan -thr 0.5 -bin '.format(mask_target_inT1w[sbj_nb],mask_target_inT1w[sbj_nb].split('.')[0]+'.nii.gz'))\n",
    "mask_target_inT1w=[] \n",
    "for sbj_nb in range(0,len(config['list_subjects'])):\n",
    "    subject_name=config['list_subjects'][sbj_nb]\n",
    "    mask_target_inT1w.append(config['main_dir'] + config['seed2vox_dir'] + '/1_first_level/ica_V1/'+seed_name+'/test_nativespace/masks/sub_' + subject_name + '_mask_' + target_name[0].split('_')[0] + '_inT1w.nii.gz')\n",
    " \n",
    "# wrap bmask_target_inT1wrain masl from T1w to func\n",
    "Preproc.coregistration_flirt_brain(mask_target_inT1w,\n",
    "                                   moco_brain_mean,\n",
    "                                   mask_target,\n",
    "                                   warp_brain_func, binarized=True,redo=False) # put redo=True to rerun that step even if the file already exists\n",
    "     "
   ]
  },
  {
   "cell_type": "markdown",
   "metadata": {},
   "source": [
    "### <font color=#4424D6> III. Initialize class based on this </font>"
   ]
  },
  {
   "cell_type": "code",
   "execution_count": 91,
   "metadata": {},
   "outputs": [],
   "source": [
    "for seed_name in seed_names:\n",
    "    seed2voxels=Seed2voxels(config,signal,seed_name,target_name) # initialize the function"
   ]
  },
  {
   "cell_type": "markdown",
   "metadata": {},
   "source": [
    "## <font color=#B2D732> <span style=\"background-color: #4424D6\"> B/ Data extraction </font></span>\n",
    "### <font color=#4424D6> I. Time series extraction - Target </font>\n"
   ]
  },
  {
   "cell_type": "code",
   "execution_count": 92,
   "metadata": {},
   "outputs": [],
   "source": [
    "target_timeseries,target_timeseries_mean,target_timeseries_pc1=seed2voxels.extract_data(img=data_target, mask=mask_target, timeseries_txt=ts_target_txt,\n",
    "                                                                run=\"extract\",n_jobs=8,smoothing_fwhm=[6,6,6]) # run the analyse for target voxels\n"
   ]
  },
  {
   "cell_type": "markdown",
   "metadata": {},
   "source": [
    "### <font color=#4424D6> II. Time series extraction - Seed </font>"
   ]
  },
  {
   "cell_type": "code",
   "execution_count": 93,
   "metadata": {},
   "outputs": [],
   "source": [
    "seed_timeseries={};seed_timeseries_mean={};seed_timeseries_pc1={}\n",
    "for seed_name in seed_names:\n",
    "    seed_timeseries[seed_name],seed_timeseries_mean[seed_name],seed_timeseries_pc1[seed_name]=seed2voxels.extract_data(img=data_seed, mask= mask_seed[seed_name], timeseries_txt=ts_seed_txt[seed_name],\n",
    "                                                                run=\"extract\",n_jobs=8) # run the analyse for target voxels"
   ]
  },
  {
   "cell_type": "markdown",
   "metadata": {},
   "source": [
    "## <font color=#B2D732> <span style=\"background-color: #4424D6\"> C/ Correlation analysis"
   ]
  },
  {
   "cell_type": "code",
   "execution_count": 94,
   "metadata": {},
   "outputs": [
    {
     "ename": "ValueError",
     "evalue": "Field of view of image #1 is different from reference FOV.\nReference affine:\narray([[ -1.60000002,   0.        ,  -0.        ,  95.99998474],\n       [  0.        ,   1.58442891,   0.61236167, -92.11682129],\n       [  0.        ,  -0.22267698,   4.35717964,  43.74253464],\n       [  0.        ,   0.        ,   0.        ,   1.        ]])\nImage affine:\narray([[-1.60000002e+00,  0.00000000e+00, -0.00000000e+00,\n         9.89999847e+01],\n       [-0.00000000e+00,  1.59701574e+00, -2.68613577e-01,\n        -8.22239227e+01],\n       [ 0.00000000e+00,  9.76776704e-02,  4.39179325e+00,\n         1.02370148e+01],\n       [ 0.00000000e+00,  0.00000000e+00,  0.00000000e+00,\n         1.00000000e+00]])\nReference shape:\n(120, 120, 35)\nImage shape:\n(120, 120, 35, 1)\n",
     "output_type": "error",
     "traceback": [
      "\u001b[0;31m---------------------------------------------------------------------------\u001b[0m",
      "\u001b[0;31mValueError\u001b[0m                                Traceback (most recent call last)",
      "\u001b[0;32m<ipython-input-94-9fa166d332e0>\u001b[0m in \u001b[0;36m<module>\u001b[0;34m\u001b[0m\n\u001b[1;32m      5\u001b[0m     \u001b[0moutput_img\u001b[0m\u001b[0;34m[\u001b[0m\u001b[0mseed_name\u001b[0m\u001b[0;34m]\u001b[0m\u001b[0;34m=\u001b[0m\u001b[0mconfig\u001b[0m\u001b[0;34m[\u001b[0m\u001b[0;34m'main_dir'\u001b[0m\u001b[0;34m]\u001b[0m \u001b[0;34m+\u001b[0m \u001b[0mconfig\u001b[0m\u001b[0;34m[\u001b[0m\u001b[0;34m'seed2vox_dir'\u001b[0m\u001b[0;34m]\u001b[0m \u001b[0;34m+\u001b[0m \u001b[0;34m'/1_first_level/ica_V1/'\u001b[0m\u001b[0;34m+\u001b[0m\u001b[0mseed_name\u001b[0m\u001b[0;34m+\u001b[0m\u001b[0;34m'/test_nativespace/'\u001b[0m\u001b[0;34m+\u001b[0m\u001b[0mtarget_name\u001b[0m\u001b[0;34m[\u001b[0m\u001b[0;36m0\u001b[0m\u001b[0;34m]\u001b[0m\u001b[0;34m.\u001b[0m\u001b[0msplit\u001b[0m\u001b[0;34m(\u001b[0m\u001b[0;34m'_'\u001b[0m\u001b[0;34m)\u001b[0m\u001b[0;34m[\u001b[0m\u001b[0;36m0\u001b[0m\u001b[0;34m]\u001b[0m\u001b[0;34m+\u001b[0m \u001b[0;34m'_fc_maps/'\u001b[0m \u001b[0;34m+\u001b[0m \u001b[0mstr\u001b[0m\u001b[0;34m(\u001b[0m\u001b[0mlen\u001b[0m\u001b[0;34m(\u001b[0m\u001b[0mconfig\u001b[0m\u001b[0;34m[\u001b[0m\u001b[0;34m'list_subjects'\u001b[0m\u001b[0;34m]\u001b[0m\u001b[0;34m)\u001b[0m\u001b[0;34m)\u001b[0m \u001b[0;34m+\u001b[0m \u001b[0;34m'subjects_seed_'\u001b[0m \u001b[0;34m+\u001b[0m \u001b[0mseed_name\u001b[0m\u001b[0;34m.\u001b[0m\u001b[0msplit\u001b[0m\u001b[0;34m(\u001b[0m\u001b[0;34m'_'\u001b[0m\u001b[0;34m)\u001b[0m\u001b[0;34m[\u001b[0m\u001b[0;34m-\u001b[0m\u001b[0;36m1\u001b[0m\u001b[0;34m]\u001b[0m \u001b[0;34m+\u001b[0m \u001b[0;34m'_s'\u001b[0m\u001b[0;34m\u001b[0m\u001b[0;34m\u001b[0m\u001b[0m\n\u001b[1;32m      6\u001b[0m \u001b[0;34m\u001b[0m\u001b[0m\n\u001b[0;32m----> 7\u001b[0;31m     \u001b[0mseed2voxels\u001b[0m\u001b[0;34m.\u001b[0m\u001b[0mcorrelation_maps\u001b[0m\u001b[0;34m(\u001b[0m\u001b[0mseed_timeseries_mean\u001b[0m\u001b[0;34m[\u001b[0m\u001b[0mseed_name\u001b[0m\u001b[0;34m]\u001b[0m\u001b[0;34m,\u001b[0m\u001b[0mtarget_timeseries\u001b[0m\u001b[0;34m,\u001b[0m\u001b[0mmask_files\u001b[0m\u001b[0;34m=\u001b[0m\u001b[0mmask_target\u001b[0m\u001b[0;34m,\u001b[0m\u001b[0moutput_img\u001b[0m\u001b[0;34m=\u001b[0m\u001b[0moutput_img\u001b[0m\u001b[0;34m[\u001b[0m\u001b[0mseed_name\u001b[0m\u001b[0;34m]\u001b[0m\u001b[0;34m,\u001b[0m\u001b[0mFisher\u001b[0m\u001b[0;34m=\u001b[0m\u001b[0;32mTrue\u001b[0m\u001b[0;34m,\u001b[0m\u001b[0mpartial\u001b[0m\u001b[0;34m=\u001b[0m\u001b[0;32mFalse\u001b[0m\u001b[0;34m,\u001b[0m\u001b[0msave_maps\u001b[0m\u001b[0;34m=\u001b[0m\u001b[0;32mTrue\u001b[0m\u001b[0;34m,\u001b[0m\u001b[0mredo\u001b[0m\u001b[0;34m=\u001b[0m\u001b[0;32mFalse\u001b[0m\u001b[0;34m,\u001b[0m\u001b[0mn_jobs\u001b[0m\u001b[0;34m=\u001b[0m\u001b[0;36m8\u001b[0m\u001b[0;34m)\u001b[0m\u001b[0;34m\u001b[0m\u001b[0;34m\u001b[0m\u001b[0m\n\u001b[0m",
      "\u001b[0;32m/cerebro/cerebro1/dataset/bmpd/derivatives/HealthyControls_project/hc_project_analyses/code/seed_to_voxels.py\u001b[0m in \u001b[0;36mcorrelation_maps\u001b[0;34m(self, seed_ts, voxels_ts, mask_files, output_img, Fisher, partial, save_maps, redo, n_jobs)\u001b[0m\n\u001b[1;32m    168\u001b[0m                     \u001b[0mimage\u001b[0m\u001b[0;34m.\u001b[0m\u001b[0mconcat_imgs\u001b[0m\u001b[0;34m(\u001b[0m\u001b[0msorted\u001b[0m\u001b[0;34m(\u001b[0m\u001b[0mglob\u001b[0m\u001b[0;34m.\u001b[0m\u001b[0mglob\u001b[0m\u001b[0;34m(\u001b[0m\u001b[0mos\u001b[0m\u001b[0;34m.\u001b[0m\u001b[0mpath\u001b[0m\u001b[0;34m.\u001b[0m\u001b[0mdirname\u001b[0m\u001b[0;34m(\u001b[0m\u001b[0moutput_img\u001b[0m\u001b[0;34m)\u001b[0m \u001b[0;34m+\u001b[0m \u001b[0;34m'/tmp_*.nii'\u001b[0m\u001b[0;34m)\u001b[0m\u001b[0;34m)\u001b[0m\u001b[0;34m)\u001b[0m\u001b[0;34m.\u001b[0m\u001b[0mto_filename\u001b[0m\u001b[0;34m(\u001b[0m\u001b[0moutput_img\u001b[0m \u001b[0;34m+\u001b[0m \u001b[0;34m'_zPcorr.nii'\u001b[0m\u001b[0;34m)\u001b[0m\u001b[0;34m\u001b[0m\u001b[0;34m\u001b[0m\u001b[0m\n\u001b[1;32m    169\u001b[0m                 \u001b[0;32melif\u001b[0m \u001b[0mFisher\u001b[0m \u001b[0;34m==\u001b[0m \u001b[0;32mTrue\u001b[0m \u001b[0;32mand\u001b[0m \u001b[0mpartial\u001b[0m\u001b[0;34m==\u001b[0m\u001b[0;32mFalse\u001b[0m\u001b[0;34m:\u001b[0m\u001b[0;34m\u001b[0m\u001b[0;34m\u001b[0m\u001b[0m\n\u001b[0;32m--> 170\u001b[0;31m                     \u001b[0mimage\u001b[0m\u001b[0;34m.\u001b[0m\u001b[0mconcat_imgs\u001b[0m\u001b[0;34m(\u001b[0m\u001b[0msorted\u001b[0m\u001b[0;34m(\u001b[0m\u001b[0mglob\u001b[0m\u001b[0;34m.\u001b[0m\u001b[0mglob\u001b[0m\u001b[0;34m(\u001b[0m\u001b[0mos\u001b[0m\u001b[0;34m.\u001b[0m\u001b[0mpath\u001b[0m\u001b[0;34m.\u001b[0m\u001b[0mdirname\u001b[0m\u001b[0;34m(\u001b[0m\u001b[0moutput_img\u001b[0m\u001b[0;34m)\u001b[0m \u001b[0;34m+\u001b[0m \u001b[0;34m'/tmp_*.nii'\u001b[0m\u001b[0;34m)\u001b[0m\u001b[0;34m)\u001b[0m\u001b[0;34m)\u001b[0m\u001b[0;34m.\u001b[0m\u001b[0mto_filename\u001b[0m\u001b[0;34m(\u001b[0m\u001b[0moutput_img\u001b[0m \u001b[0;34m+\u001b[0m \u001b[0;34m'_zcorr.nii'\u001b[0m\u001b[0;34m)\u001b[0m\u001b[0;34m\u001b[0m\u001b[0;34m\u001b[0m\u001b[0m\n\u001b[0m\u001b[1;32m    171\u001b[0m                 \u001b[0;32melif\u001b[0m \u001b[0mFisher\u001b[0m \u001b[0;34m==\u001b[0m \u001b[0;32mFalse\u001b[0m \u001b[0;32mand\u001b[0m \u001b[0mpartial\u001b[0m\u001b[0;34m==\u001b[0m\u001b[0;32mTrue\u001b[0m\u001b[0;34m:\u001b[0m\u001b[0;34m\u001b[0m\u001b[0;34m\u001b[0m\u001b[0m\n\u001b[1;32m    172\u001b[0m                     \u001b[0mimage\u001b[0m\u001b[0;34m.\u001b[0m\u001b[0mconcat_imgs\u001b[0m\u001b[0;34m(\u001b[0m\u001b[0msorted\u001b[0m\u001b[0;34m(\u001b[0m\u001b[0mglob\u001b[0m\u001b[0;34m.\u001b[0m\u001b[0mglob\u001b[0m\u001b[0;34m(\u001b[0m\u001b[0mos\u001b[0m\u001b[0;34m.\u001b[0m\u001b[0mpath\u001b[0m\u001b[0;34m.\u001b[0m\u001b[0mdirname\u001b[0m\u001b[0;34m(\u001b[0m\u001b[0moutput_img\u001b[0m\u001b[0;34m)\u001b[0m \u001b[0;34m+\u001b[0m \u001b[0;34m'/tmp_*.nii'\u001b[0m\u001b[0;34m)\u001b[0m\u001b[0;34m)\u001b[0m\u001b[0;34m)\u001b[0m\u001b[0;34m.\u001b[0m\u001b[0mto_filename\u001b[0m\u001b[0;34m(\u001b[0m\u001b[0moutput_img\u001b[0m \u001b[0;34m+\u001b[0m \u001b[0;34m'_Pcorr.nii'\u001b[0m\u001b[0;34m)\u001b[0m\u001b[0;34m\u001b[0m\u001b[0;34m\u001b[0m\u001b[0m\n",
      "\u001b[0;32m/cerebro/cerebro1/dataset/bmpd/derivatives/thibault_test/code/toolbox/bmpd_python/lib/python3.6/site-packages/nilearn/_utils/niimg_conversions.py\u001b[0m in \u001b[0;36mconcat_niimgs\u001b[0;34m(niimgs, dtype, ensure_ndim, memory, memory_level, auto_resample, verbose)\u001b[0m\n\u001b[1;32m    484\u001b[0m     for index, (size, niimg) in enumerate(zip(lengths, _iter_check_niimg(\n\u001b[1;32m    485\u001b[0m             \u001b[0miterator\u001b[0m\u001b[0;34m,\u001b[0m \u001b[0matleast_4d\u001b[0m\u001b[0;34m=\u001b[0m\u001b[0;32mTrue\u001b[0m\u001b[0;34m,\u001b[0m \u001b[0mtarget_fov\u001b[0m\u001b[0;34m=\u001b[0m\u001b[0mtarget_fov\u001b[0m\u001b[0;34m,\u001b[0m\u001b[0;34m\u001b[0m\u001b[0;34m\u001b[0m\u001b[0m\n\u001b[0;32m--> 486\u001b[0;31m             memory=memory, memory_level=memory_level))):\n\u001b[0m\u001b[1;32m    487\u001b[0m \u001b[0;34m\u001b[0m\u001b[0m\n\u001b[1;32m    488\u001b[0m         \u001b[0;32mif\u001b[0m \u001b[0mverbose\u001b[0m \u001b[0;34m>\u001b[0m \u001b[0;36m0\u001b[0m\u001b[0;34m:\u001b[0m\u001b[0;34m\u001b[0m\u001b[0;34m\u001b[0m\u001b[0m\n",
      "\u001b[0;32m/cerebro/cerebro1/dataset/bmpd/derivatives/thibault_test/code/toolbox/bmpd_python/lib/python3.6/site-packages/nilearn/_utils/niimg_conversions.py\u001b[0m in \u001b[0;36m_iter_check_niimg\u001b[0;34m(niimgs, ensure_ndim, atleast_4d, target_fov, dtype, memory, memory_level, verbose)\u001b[0m\n\u001b[1;32m    163\u001b[0m                         \u001b[0;34m\"Reference shape:\\n%r\\nImage shape:\\n%r\\n\"\u001b[0m\u001b[0;34m\u001b[0m\u001b[0;34m\u001b[0m\u001b[0m\n\u001b[1;32m    164\u001b[0m                         % (i, ref_fov[0], niimg.affine, ref_fov[1],\n\u001b[0;32m--> 165\u001b[0;31m                            niimg.shape))\n\u001b[0m\u001b[1;32m    166\u001b[0m             \u001b[0;32myield\u001b[0m \u001b[0mniimg\u001b[0m\u001b[0;34m\u001b[0m\u001b[0;34m\u001b[0m\u001b[0m\n\u001b[1;32m    167\u001b[0m         \u001b[0;32mexcept\u001b[0m \u001b[0mDimensionError\u001b[0m \u001b[0;32mas\u001b[0m \u001b[0mexc\u001b[0m\u001b[0;34m:\u001b[0m\u001b[0;34m\u001b[0m\u001b[0;34m\u001b[0m\u001b[0m\n",
      "\u001b[0;31mValueError\u001b[0m: Field of view of image #1 is different from reference FOV.\nReference affine:\narray([[ -1.60000002,   0.        ,  -0.        ,  95.99998474],\n       [  0.        ,   1.58442891,   0.61236167, -92.11682129],\n       [  0.        ,  -0.22267698,   4.35717964,  43.74253464],\n       [  0.        ,   0.        ,   0.        ,   1.        ]])\nImage affine:\narray([[-1.60000002e+00,  0.00000000e+00, -0.00000000e+00,\n         9.89999847e+01],\n       [-0.00000000e+00,  1.59701574e+00, -2.68613577e-01,\n        -8.22239227e+01],\n       [ 0.00000000e+00,  9.76776704e-02,  4.39179325e+00,\n         1.02370148e+01],\n       [ 0.00000000e+00,  0.00000000e+00,  0.00000000e+00,\n         1.00000000e+00]])\nReference shape:\n(120, 120, 35)\nImage shape:\n(120, 120, 35, 1)\n"
     ]
    }
   ],
   "source": [
    "output_img={};\n",
    "\n",
    "for seed_name in seed_names:\n",
    "    output_img[seed_name]=[]\n",
    "    output_img[seed_name]=config['main_dir'] + config['seed2vox_dir'] + '/1_first_level/ica_V1/'+seed_name+'/test_nativespace/'+target_name[0].split('_')[0]+ '_fc_maps/' + str(len(config['list_subjects'])) + 'subjects_seed_' + seed_name.split('_')[-1] + '_s'\n",
    "\n",
    "    seed2voxels.correlation_maps(seed_timeseries_mean[seed_name],target_timeseries,mask_files=mask_target,output_img=output_img[seed_name],Fisher=True,partial=False,save_maps=True,redo=False,n_jobs=8)\n"
   ]
  },
  {
   "cell_type": "code",
   "execution_count": 120,
   "metadata": {},
   "outputs": [
    {
     "name": "stdout",
     "output_type": "stream",
     "text": [
      "['']\n",
      "Unzip data for SPM\n",
      "Unzip done for: sub-P100_T1w_brain_masked.nii.gz\n",
      "Unzip done for: sub-P105_T1w_brain_masked.nii.gz\n",
      "Coregistration into anat space done\n"
     ]
    }
   ],
   "source": [
    "corr_maps=[];corr_maps_inT1w=[]; anat_brain=[]\n",
    "for sbj_nb in range(0,len(config['list_subjects'])):\n",
    "    subject_name=config['list_subjects'][sbj_nb]\n",
    "    corr_maps.append(config['main_dir'] + config['seed2vox_dir'] + '/1_first_level/ica_V1/'+seed_name+'/test_nativespace/'+target_name[0].split('_')[0]+ '_fc_maps/sub-' + subject_name + '_SPM.nii')\n",
    "    corr_maps_inT1w.append(config['main_dir'] + config['seed2vox_dir'] + '/1_first_level/ica_V1/'+seed_name+'/test_nativespace/'+target_name[0].split('_')[0]+ '_fc_maps/sub-' + subject_name + '_inT1w.nii')\n",
    "    anat_brain.append(glob.glob('/cerebro/cerebro1/dataset/bmpd/derivatives/spinalcord_processing/'+ 'sub-' + subject_name + '/anat/brain/segmentation/*brain_masked.nii.gz')[0])\n",
    "\n",
    "preproc.coregistration_SPM_brain(anat_brain,\n",
    "                         corr_maps,[\"\"],\n",
    "                         corr_maps_inT1w,[\"\"],\n",
    "                         n_jobs=1,redo=True)"
   ]
  },
  {
   "cell_type": "code",
   "execution_count": 123,
   "metadata": {},
   "outputs": [
    {
     "name": "stdout",
     "output_type": "stream",
     "text": [
      "Normalisation to MNI space Done\n",
      "output: sub-P100_inMNI.nii\n",
      "Normalisation to MNI space Done\n",
      "output: sub-P105_inMNI.nii\n",
      "Normalisation into MNI space done\n"
     ]
    }
   ],
   "source": [
    "#wrap brain mask to T1w\n",
    "warp_brain_y=[];corr_maps_inMNI=[]\n",
    "for sbj_nb in range(0,len(config['list_subjects'])):\n",
    "    subject_name=config['list_subjects'][sbj_nb]\n",
    "    warp_brain_y.append(glob.glob('/cerebro/cerebro1/dataset/bmpd/derivatives/spinalcord_processing/sub-'+subject_name+'/anat/brain/segmentation/mri/y*')[0])\n",
    "    corr_maps_inMNI.append(config['main_dir'] + config['seed2vox_dir'] + '/1_first_level/ica_V1/'+seed_name+'/test_nativespace/'+target_name[0].split('_')[0]+ '_fc_maps/sub-' + subject_name + '_inMNI.nii')\n",
    "preproc.normalisation_brain(warp_brain_y,corr_maps_inT1w,\n",
    "                            corr_maps_inMNI,brain_mask=None,n_jobs=1,redo=False)\n",
    "\n"
   ]
  },
  {
   "cell_type": "markdown",
   "metadata": {},
   "source": [
    "## <font color=#B2D732> <span style=\"background-color: #4424D6\"> D/ Statistics\n",
    "#### <font color=#4424D6> One sample t-test"
   ]
  },
  {
   "cell_type": "code",
   "execution_count": null,
   "metadata": {},
   "outputs": [],
   "source": [
    "seed_name=seed_names[0]\n",
    "ouput_dir='/cerebro/cerebro1/dataset/bmpd/derivatives/HealthyControls_project/seed_to_voxels/2_second_level/' + target_name[0] + '/spinalcord_GM/'+seed_name +'/'\n",
    "if not os.path.exists('ouput_dir'):\n",
    "    #os.mkdir(ouput_dir)\n",
    "    run_proc('randomise -i {} -o {} -1 -v 5 -n 500  -T'.format(config['main_dir'] + config['seed2vox_dir'] + '/1_first_level/' + seed_name + '/' + target_name[0].split('_')[0]+ '_fc_maps/' + str(len(config['list_subjects'])) + 'subjects_seed_' + seed_name.split('_')[-1] + '_s_zcorr.nii',\n",
    "                                                           ouput_dir + seed_name ,\n",
    "                                                           mask_target))"
   ]
  },
  {
   "cell_type": "markdown",
   "metadata": {},
   "source": [
    "#### <font color=#4424D6> Two sample t-test"
   ]
  },
  {
   "cell_type": "code",
   "execution_count": 22,
   "metadata": {},
   "outputs": [
    {
     "name": "stdout",
     "output_type": "stream",
     "text": [
      "fslmerge -t /cerebro/cerebro1/dataset/bmpd/derivatives/HealthyControls_project//seed_to_voxels//2_second_level/spinalcord_GM-C6C8R-C6C8L/spinalcord_GM-C6C8R-C6C8L_images.nii /cerebro/cerebro1/dataset/bmpd/derivatives/HealthyControls_project//seed_to_voxels//1_first_level/spinalcord_GM-C6C8R/brain_fc_maps/21subjects_seed_GM-C6C8R_s_zcorr /cerebro/cerebro1/dataset/bmpd/derivatives/HealthyControls_project//seed_to_voxels//1_first_level/spinalcord_GM-C6C8L/brain_fc_maps/21subjects_seed_GM-C6C8L_s_zcorr # in /cerebro/cerebro1/dataset/bmpd/derivatives/HealthyControls_project/hc_project_analyses/notebook\n"
     ]
    },
    {
     "ename": "RuntimeError",
     "evalue": "Image Exception : #63 :: No image files match: /cerebro/cerebro1/dataset/bmpd/derivatives/HealthyControls_project//seed_to_voxels//1_first_level/spinalcord_GM-C6C8R/brain_fc_maps/21subjects_seed_GM-C6C8R_s_zcorr\nterminate called after throwing an instance of 'std::runtime_error'\nwhat():  No image files match: /cerebro/cerebro1/dataset/bmpd/derivatives/HealthyControls_project//seed_to_voxels//1_first_level/spinalcord_GM-C6C8R/brain_fc_maps/21subjects_seed_GM-C6C8R_s_zcorr",
     "output_type": "error",
     "traceback": [
      "\u001b[0;31m---------------------------------------------------------------------------\u001b[0m",
      "\u001b[0;31mRuntimeError\u001b[0m                              Traceback (most recent call last)",
      "\u001b[0;32m<ipython-input-22-e7980340ec07>\u001b[0m in \u001b[0;36m<module>\u001b[0;34m\u001b[0m\n\u001b[1;32m     12\u001b[0m     run_proc('fslmerge -t {} {} {}'.format(output_dir + '/'+seed1+'-'+seed2.split('-')[-1]+'_images.nii', \n\u001b[1;32m     13\u001b[0m                                     \u001b[0mconfig\u001b[0m\u001b[0;34m[\u001b[0m\u001b[0;34m'main_dir'\u001b[0m\u001b[0;34m]\u001b[0m \u001b[0;34m+\u001b[0m \u001b[0mconfig\u001b[0m\u001b[0;34m[\u001b[0m\u001b[0;34m'seed2vox_dir'\u001b[0m\u001b[0;34m]\u001b[0m \u001b[0;34m+\u001b[0m \u001b[0;34m'/1_first_level/'\u001b[0m \u001b[0;34m+\u001b[0m\u001b[0mseed1\u001b[0m \u001b[0;34m+\u001b[0m \u001b[0;34m'/'\u001b[0m \u001b[0;34m+\u001b[0m \u001b[0mtarget_name\u001b[0m\u001b[0;34m[\u001b[0m\u001b[0;36m0\u001b[0m\u001b[0;34m]\u001b[0m\u001b[0;34m.\u001b[0m\u001b[0msplit\u001b[0m\u001b[0;34m(\u001b[0m\u001b[0;34m'_'\u001b[0m\u001b[0;34m)\u001b[0m\u001b[0;34m[\u001b[0m\u001b[0;36m0\u001b[0m\u001b[0;34m]\u001b[0m\u001b[0;34m+\u001b[0m \u001b[0;34m'_fc_maps/21subjects_seed_'\u001b[0m\u001b[0;34m+\u001b[0m\u001b[0mseed1\u001b[0m\u001b[0;34m.\u001b[0m\u001b[0msplit\u001b[0m\u001b[0;34m(\u001b[0m\u001b[0;34m'_'\u001b[0m\u001b[0;34m)\u001b[0m\u001b[0;34m[\u001b[0m\u001b[0;34m-\u001b[0m\u001b[0;36m1\u001b[0m\u001b[0;34m]\u001b[0m\u001b[0;34m+\u001b[0m\u001b[0;34m'_s_zcorr'\u001b[0m\u001b[0;34m,\u001b[0m\u001b[0;34m\u001b[0m\u001b[0;34m\u001b[0m\u001b[0m\n\u001b[0;32m---> 14\u001b[0;31m                                     config['main_dir'] + config['seed2vox_dir'] + '/1_first_level/' +seed2 + '/' + target_name[0].split('_')[0]+ '_fc_maps/21subjects_seed_'+seed2.split('_')[-1]+'_s_zcorr'))\n\u001b[0m\u001b[1;32m     15\u001b[0m \u001b[0;34m\u001b[0m\u001b[0m\n\u001b[1;32m     16\u001b[0m \u001b[0;31m#3. Run randomize\u001b[0m\u001b[0;34m\u001b[0m\u001b[0;34m\u001b[0m\u001b[0;34m\u001b[0m\u001b[0m\n",
      "\u001b[0;32m/cerebro/cerebro1/dataset/bmpd/derivatives/thibault_test/code/toolbox/spinalcordtoolbox-5.0.0/spinalcordtoolbox/utils/sys.py\u001b[0m in \u001b[0;36mrun_proc\u001b[0;34m(cmd, verbose, raise_exception, cwd, env, is_sct_binary)\u001b[0m\n\u001b[1;32m    294\u001b[0m \u001b[0;34m\u001b[0m\u001b[0m\n\u001b[1;32m    295\u001b[0m     \u001b[0;32mif\u001b[0m \u001b[0mstatus\u001b[0m \u001b[0;34m!=\u001b[0m \u001b[0;36m0\u001b[0m \u001b[0;32mand\u001b[0m \u001b[0mraise_exception\u001b[0m\u001b[0;34m:\u001b[0m\u001b[0;34m\u001b[0m\u001b[0;34m\u001b[0m\u001b[0m\n\u001b[0;32m--> 296\u001b[0;31m         \u001b[0;32mraise\u001b[0m \u001b[0mRuntimeError\u001b[0m\u001b[0;34m(\u001b[0m\u001b[0moutput\u001b[0m\u001b[0;34m)\u001b[0m\u001b[0;34m\u001b[0m\u001b[0;34m\u001b[0m\u001b[0m\n\u001b[0m\u001b[1;32m    297\u001b[0m \u001b[0;34m\u001b[0m\u001b[0m\n\u001b[1;32m    298\u001b[0m     \u001b[0;32mreturn\u001b[0m \u001b[0mstatus\u001b[0m\u001b[0;34m,\u001b[0m \u001b[0moutput\u001b[0m\u001b[0;34m\u001b[0m\u001b[0;34m\u001b[0m\u001b[0m\n",
      "\u001b[0;31mRuntimeError\u001b[0m: Image Exception : #63 :: No image files match: /cerebro/cerebro1/dataset/bmpd/derivatives/HealthyControls_project//seed_to_voxels//1_first_level/spinalcord_GM-C6C8R/brain_fc_maps/21subjects_seed_GM-C6C8R_s_zcorr\nterminate called after throwing an instance of 'std::runtime_error'\nwhat():  No image files match: /cerebro/cerebro1/dataset/bmpd/derivatives/HealthyControls_project//seed_to_voxels//1_first_level/spinalcord_GM-C6C8R/brain_fc_maps/21subjects_seed_GM-C6C8R_s_zcorr"
     ]
    }
   ],
   "source": [
    "import shutil\n",
    "#1. select the analyses to compared\n",
    "#'spinalcord_GM-C4C5L','spinalcord_GM-C4C5R',\n",
    "#'spinalcord_GM-C6C8L','spinalcord_GM-C6C8R'\n",
    "        \n",
    "seed1='spinalcord_GM-C6C8R'\n",
    "seed2='spinalcord_GM-C6C8L'\n",
    "output_dir=config['main_dir'] + config['seed2vox_dir'] + '/2_second_level/'+seed1+'-'+seed2.split('-')[-1]\n",
    "if not os.path.exists(output_dir):\n",
    "    os.mkdir(output_dir)\n",
    "#2. merge the images from the 2 contrasts in one 4D image\n",
    "    run_proc('fslmerge -t {} {} {}'.format(output_dir + '/'+seed1+'-'+seed2.split('-')[-1]+'_images.nii', \n",
    "                                    config['main_dir'] + config['seed2vox_dir'] + '/1_first_level/' +seed1 + '/' + target_name[0].split('_')[0]+ '_fc_maps/21subjects_seed_'+seed1.split('_')[-1]+'_s_zcorr',\n",
    "                                    config['main_dir'] + config['seed2vox_dir'] + '/1_first_level/' +seed2 + '/' + target_name[0].split('_')[0]+ '_fc_maps/21subjects_seed_'+seed2.split('_')[-1]+'_s_zcorr'))\n",
    "\n",
    "#3. Run randomize\n",
    "    run_proc('randomise -i {} -o {} -d {} -t {} -e {} -m {} -v 5 -n 500  -T'.format(output_dir + '/'+seed1+'-'+seed2.split('-')[-1]+'_images.nii',\n",
    "                                                                                    output_dir + '/'+seed1+'-'+seed2.split('-')[-1],\n",
    "                                                                                    config['main_dir'] + config['seed2vox_dir'] + '/2_second_level/fsl_designs/2paired-t-test/design_group.mat',\n",
    "                                                                                    config['main_dir'] + config['seed2vox_dir'] + '/2_second_level/fsl_designs/2paired-t-test/design_group.con',\n",
    "                                                                                    config['main_dir'] + config['seed2vox_dir'] + '/2_second_level/fsl_designs/2paired-t-test/design_group.grp',\n",
    "                                                                                mask_target))"
   ]
  },
  {
   "cell_type": "code",
   "execution_count": null,
   "metadata": {},
   "outputs": [],
   "source": []
  },
  {
   "cell_type": "code",
   "execution_count": 98,
   "metadata": {},
   "outputs": [
    {
     "name": "stdout",
     "output_type": "stream",
     "text": [
      "fslmaths /cerebro/cerebro1/dataset/bmpd/derivatives/HealthyControls_project/seed_to_voxels/masks/spinalcord_C1C8-L.nii.gz -mas /cerebro/cerebro1/dataset/bmpd/derivatives/HealthyControls_project/seed_to_voxels/masks/spinalcord_GM-cord.nii.gz /cerebro/cerebro1/dataset/bmpd/derivatives/HealthyControls_project/seed_to_voxels/masks/spinalcord_GM-L.nii.gz # in /cerebro/cerebro1/dataset/bmpd/derivatives/HealthyControls_project/hc_project_analyses/notebook\n"
     ]
    },
    {
     "data": {
      "text/plain": [
       "(0, '')"
      ]
     },
     "execution_count": 98,
     "metadata": {},
     "output_type": "execute_result"
    }
   ],
   "source": [
    "input='/cerebro/cerebro1/dataset/bmpd/derivatives/HealthyControls_project/seed_to_voxels/masks/spinalcord_C1C8-L.nii.gz'\n",
    "mask='/cerebro/cerebro1/dataset/bmpd/derivatives/HealthyControls_project/seed_to_voxels/masks/spinalcord_GM-cord.nii.gz'\n",
    "output='/cerebro/cerebro1/dataset/bmpd/derivatives/HealthyControls_project/seed_to_voxels/masks/spinalcord_GM-L.nii.gz'\n",
    "run_proc('fslmaths {} -mas {} {}'.format(input,mask,output))"
   ]
  },
  {
   "cell_type": "code",
   "execution_count": null,
   "metadata": {},
   "outputs": [],
   "source": []
  }
 ],
 "metadata": {
  "kernelspec": {
   "display_name": "Python 3",
   "language": "python",
   "name": "python3"
  },
  "language_info": {
   "codemirror_mode": {
    "name": "ipython",
    "version": 3
   },
   "file_extension": ".py",
   "mimetype": "text/x-python",
   "name": "python",
   "nbconvert_exporter": "python",
   "pygments_lexer": "ipython3",
   "version": "3.6.9"
  }
 },
 "nbformat": 4,
 "nbformat_minor": 5
}
