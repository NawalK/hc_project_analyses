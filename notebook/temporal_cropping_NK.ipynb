{
 "cells": [
  {
   "cell_type": "markdown",
   "metadata": {},
   "source": [
    "# <font color=#f4665a>  Temporal cropping</font>"
   ]
  },
  {
   "cell_type": "markdown",
   "metadata": {},
   "source": [
    "### Project: BMPD HC\n",
    "____________________________________________________\n",
    "\n",
    "**Description:** Crop functional images by different number of volumes\n",
    "\n",
    "**Toolbox required:** SpinalCordToolbox, FSL, \n",
    "\n",
    "**Inputs**:  \n",
    "This notebook required this the following prepross fmri images \n",
    "\n",
    "\n",
    "__________________________________________________\n"
   ]
  },
  {
   "cell_type": "markdown",
   "metadata": {},
   "source": [
    "## <font color=#00988c> Imports </font>"
   ]
  },
  {
   "cell_type": "code",
   "execution_count": 1,
   "metadata": {},
   "outputs": [],
   "source": [
    "import sys, os\n",
    "import json\n",
    "import glob"
   ]
  },
  {
   "cell_type": "markdown",
   "metadata": {},
   "source": [
    "## <font color=#00988c>  Open config file & define files </font>"
   ]
  },
  {
   "cell_type": "code",
   "execution_count": 12,
   "metadata": {},
   "outputs": [],
   "source": [
    "# Load the dataset config\n",
    "with open('../config/config_spine_only_NK.json') as config_file:\n",
    "    config = json.load(config_file)\n",
    "dataset=\"mtl\" \n",
    "structures=[\"spinalcord\"] \n",
    "structure=structures[0]"
   ]
  },
  {
   "cell_type": "code",
   "execution_count": 7,
   "metadata": {},
   "outputs": [],
   "source": [
    "files_func={};func_allsbj={}; \n",
    "files_func[structure]=[];func_allsbj[structure]=[]\n",
    "for sbj_nb in range(len(config[\"list_subjects\"][dataset])):\n",
    "    subject_name=config[\"list_subjects\"][dataset][sbj_nb]\n",
    "    if dataset ==\"mtl\":\n",
    "        files_func[structure].append(glob.glob(config[\"data\"][dataset][\"raw\"][\"dir\"]+ '/sub-' + subject_name + '/*' + config[\"data\"][dataset][\"raw\"][structure][\"tag_filename_spinalcord\"] + '*' )[0])\n",
    "    elif dataset == \"gva\":\n",
    "        files_func[structure].append(glob.glob(config[\"data\"][dataset][\"raw\"][\"dir\"]+ '/sub-' + subject_name + '/*' + config[\"data\"][dataset][\"raw\"][structure][\"tag_filename_spinalcord\"] + '*' )[0])\n",
    "       "
   ]
  },
  {
   "cell_type": "code",
   "execution_count": 8,
   "metadata": {},
   "outputs": [
    {
     "data": {
      "text/plain": [
       "['/media/miplab-nas2/Data3/BMPD/hc_project/spine_only/gva//sub-01/sub-01_fmri_moco_HP_sc_inTemplate_s.nii.gz',\n",
       " '/media/miplab-nas2/Data3/BMPD/hc_project/spine_only/gva//sub-02/sub-02_fmri_moco_HP_sc_inTemplate_s.nii.gz',\n",
       " '/media/miplab-nas2/Data3/BMPD/hc_project/spine_only/gva//sub-03/sub-03_fmri_moco_HP_sc_inTemplate_s.nii.gz',\n",
       " '/media/miplab-nas2/Data3/BMPD/hc_project/spine_only/gva//sub-04/sub-04_fmri_moco_HP_sc_inTemplate_s.nii.gz',\n",
       " '/media/miplab-nas2/Data3/BMPD/hc_project/spine_only/gva//sub-05/sub-05_fmri_moco_HP_sc_inTemplate_s.nii.gz',\n",
       " '/media/miplab-nas2/Data3/BMPD/hc_project/spine_only/gva//sub-06/sub-06_fmri_moco_HP_sc_inTemplate_s.nii.gz',\n",
       " '/media/miplab-nas2/Data3/BMPD/hc_project/spine_only/gva//sub-07/sub-07_fmri_moco_HP_sc_inTemplate_s.nii.gz',\n",
       " '/media/miplab-nas2/Data3/BMPD/hc_project/spine_only/gva//sub-08/sub-08_fmri_moco_HP_sc_inTemplate_s.nii.gz',\n",
       " '/media/miplab-nas2/Data3/BMPD/hc_project/spine_only/gva//sub-09/sub-09_fmri_moco_HP_sc_inTemplate_s.nii.gz',\n",
       " '/media/miplab-nas2/Data3/BMPD/hc_project/spine_only/gva//sub-10/sub-10_fmri_moco_HP_sc_inTemplate_s.nii.gz',\n",
       " '/media/miplab-nas2/Data3/BMPD/hc_project/spine_only/gva//sub-12/sub-12_fmri_moco_HP_sc_inTemplate_s.nii.gz',\n",
       " '/media/miplab-nas2/Data3/BMPD/hc_project/spine_only/gva//sub-11/sub-11_fmri_moco_HP_sc_inTemplate_s.nii.gz',\n",
       " '/media/miplab-nas2/Data3/BMPD/hc_project/spine_only/gva//sub-13/sub-13_fmri_moco_HP_sc_inTemplate_s.nii.gz',\n",
       " '/media/miplab-nas2/Data3/BMPD/hc_project/spine_only/gva//sub-14/sub-14_fmri_moco_HP_sc_inTemplate_s.nii.gz',\n",
       " '/media/miplab-nas2/Data3/BMPD/hc_project/spine_only/gva//sub-15/sub-15_fmri_moco_HP_sc_inTemplate_s.nii.gz',\n",
       " '/media/miplab-nas2/Data3/BMPD/hc_project/spine_only/gva//sub-16/sub-16_fmri_moco_HP_sc_inTemplate_s.nii.gz',\n",
       " '/media/miplab-nas2/Data3/BMPD/hc_project/spine_only/gva//sub-17/sub-17_fmri_moco_HP_sc_inTemplate_s.nii.gz',\n",
       " '/media/miplab-nas2/Data3/BMPD/hc_project/spine_only/gva//sub-18/sub-18_fmri_moco_HP_sc_inTemplate_s.nii.gz',\n",
       " '/media/miplab-nas2/Data3/BMPD/hc_project/spine_only/gva//sub-19/sub-19_fmri_moco_HP_sc_inTemplate_s.nii.gz']"
      ]
     },
     "execution_count": 8,
     "metadata": {},
     "output_type": "execute_result"
    }
   ],
   "source": [
    "files_func[structure]"
   ]
  },
  {
   "cell_type": "markdown",
   "metadata": {},
   "source": [
    "## <font color=#00988c>  Crop the data in different duration </font>\n",
    "> **mtl** :  60, 120, 180, 240, 300 sec  \n",
    "> **gva**: 60, 120, 180, 240, 300, 360, 420, 480, 540, 600, 660, 720, 780 and 840 sec"
   ]
  },
  {
   "cell_type": "code",
   "execution_count": 14,
   "metadata": {},
   "outputs": [
    {
     "name": "stdout",
     "output_type": "stream",
     "text": [
      "39\n"
     ]
    },
    {
     "name": "stderr",
     "output_type": "stream",
     "text": [
      "\n",
      "KeyboardInterrupt\n",
      "\n"
     ]
    }
   ],
   "source": [
    "output_files={};\n",
    "if dataset ==\"mtl\":\n",
    "    timing_sec=[60,120,180,240,300]\n",
    "    \n",
    "elif dataset == \"gva\":\n",
    "    timing_sec=[60,120,180,240,300,360,540,720]\n",
    "import numpy as np\n",
    "for timing in timing_sec:\n",
    "    nb_vol=np.round(timing/config[\"acq_params\"][dataset][\"TR\"])\n",
    "    print(int(nb_vol))\n",
    "    output_files[structure]=[];\n",
    "    for sbj_nb in range(len(config[\"list_subjects\"][dataset])):\n",
    "        subject_name=config[\"list_subjects\"][dataset][sbj_nb]\n",
    "        if dataset ==\"mtl\":\n",
    "            output_files[structure].append(files_func[structure][sbj_nb].split('inTemplate_s')[0] + \"inTemplate_\" + str(int(nb_vol)) +\"vol_s.nii.gz\")\n",
    "        \n",
    "        elif dataset == \"gva\":\n",
    "            output_files[structure].append(files_func[structure][sbj_nb].split('.')[0] + \"_\" + str(int(nb_vol)) +\"vol.nii.gz\")\n",
    "            \n",
    "        if not os.path.exists(output_files[structure][sbj_nb]):\n",
    "            run_string = 'fslroi {} {} 0 {}'.format(files_func[structure][sbj_nb],output_files[structure][sbj_nb],int(nb_vol))                 \n",
    "            os.system(run_string)  "
   ]
  },
  {
   "cell_type": "code",
   "execution_count": 11,
   "metadata": {},
   "outputs": [
    {
     "name": "stdout",
     "output_type": "stream",
     "text": [
      "24\n",
      "48\n",
      "72\n",
      "96\n",
      "120\n",
      "144\n",
      "216\n",
      "288\n"
     ]
    }
   ],
   "source": [
    "output_files={};\n",
    "if dataset ==\"mtl\":\n",
    "    timing_sec=[60,120,180,240,300]\n",
    "    \n",
    "elif dataset == \"gva\":\n",
    "    timing_sec=[60,120,180,240,300,360,540,720]\n",
    "import numpy as np\n",
    "for timing in timing_sec:\n",
    "    nb_vol=np.round(timing/config[\"acq_params\"][dataset][\"TR\"])\n",
    "    print(int(nb_vol))"
   ]
  },
  {
   "cell_type": "code",
   "execution_count": 13,
   "metadata": {},
   "outputs": [
    {
     "name": "stdout",
     "output_type": "stream",
     "text": [
      "39\n",
      "77\n",
      "116\n",
      "155\n",
      "194\n"
     ]
    }
   ],
   "source": [
    "output_files={};\n",
    "if dataset ==\"mtl\":\n",
    "    timing_sec=[60,120,180,240,300]\n",
    "    \n",
    "elif dataset == \"gva\":\n",
    "    timing_sec=[60,120,180,240,300,360,540,720]\n",
    "import numpy as np\n",
    "for timing in timing_sec:\n",
    "    nb_vol=np.round(timing/config[\"acq_params\"][dataset][\"TR\"])\n",
    "    print(int(nb_vol))"
   ]
  },
  {
   "cell_type": "code",
   "execution_count": null,
   "metadata": {},
   "outputs": [],
   "source": []
  }
 ],
 "metadata": {
  "kernelspec": {
   "display_name": "Python 3 (ipykernel)",
   "language": "python",
   "name": "python3"
  },
  "language_info": {
   "codemirror_mode": {
    "name": "ipython",
    "version": 3
   },
   "file_extension": ".py",
   "mimetype": "text/x-python",
   "name": "python",
   "nbconvert_exporter": "python",
   "pygments_lexer": "ipython3",
   "version": "3.9.12"
  }
 },
 "nbformat": 4,
 "nbformat_minor": 4
}
