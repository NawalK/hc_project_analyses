{
 "cells": [
  {
   "cell_type": "markdown",
   "id": "298f76e3",
   "metadata": {},
   "source": [
    "## <font color=#B2D732> <span style=\"background-color: #4424D6\"> Imports"
   ]
  },
  {
   "cell_type": "code",
   "execution_count": 2,
   "id": "346bb693",
   "metadata": {},
   "outputs": [],
   "source": [
    "import sys,json\n",
    "import glob, os\n",
    "sys.path.append(\"/cerebro/cerebro1/dataset/bmpd/derivatives/HealthyControls_project/hc_project_analyses/code/\")\n",
    "\n",
    "from seed_to_voxels import Seed2voxels\n",
    "\n",
    "%matplotlib inline\n",
    "%load_ext autoreload\n",
    "%autoreload 2"
   ]
  },
  {
   "cell_type": "markdown",
   "id": "fe7be115",
   "metadata": {},
   "source": [
    "## <font color=#B2D732> <span style=\"background-color: #4424D6\"> Initialization"
   ]
  },
  {
   "cell_type": "code",
   "execution_count": 12,
   "id": "f30b927a",
   "metadata": {},
   "outputs": [],
   "source": [
    "with open('../config/config_CL.json') as config_file:\n",
    "    config = json.load(config_file) # load config file\n",
    "\n",
    "seed_names=['brain_L-BA4'] # define seed names ex: 'spinalcord_ICA-C4'\n",
    "target_name=['brain_mask'] # define structure target\n",
    "seed2voxels=Seed2voxels(config,seed_names,target_name) # initial the function"
   ]
  },
  {
   "cell_type": "markdown",
   "id": "08cdbbdf",
   "metadata": {},
   "source": [
    "## <font color=#B2D732> <span style=\"background-color: #4424D6\"> Data extraction </font></span>\n",
    "### <font color=#4424D6> I Select files </font>"
   ]
  },
  {
   "cell_type": "code",
   "execution_count": 22,
   "id": "cf779540",
   "metadata": {},
   "outputs": [],
   "source": [
    "data_seed=[];data_target=[];ts_seed_txt=[];ts_target_txt=[]\n",
    "for seed_name in seed_names:\n",
    "    for subject_name in config['list_subjects']:\n",
    "        data_seed.append(glob.glob(config[\"coreg_dir\"] + 'sub-'+ subject_name +'/'+seed_name.split('_')[0]+'/*' + config[\"coreg_tag\"][seed_name.split('_')[0]] +'*.gz')[0])\n",
    "        data_target.append(glob.glob(config[\"coreg_dir\"] + 'sub-'+ subject_name +'/'+target_name[0].split('_')[0]+'/*' + config[\"coreg_tag\"][target_name[0].split('_')[0]] +'*.gz')[0])\n",
    "        ts_seed_txt.append(config['main_dir'] + config['seed2vox_dir'] + '/1_first_level/'+seed_name+'/timeseries/sub_' + subject_name + '_mask_' + seed_name.split('_')[-1] + '_timeseries')\n",
    "        ts_target_txt.append(config['main_dir'] + config['seed2vox_dir'] + '/1_first_level/'+target_name[0]+'/timeseries/sub_' + subject_name + '_mask_' + target_name[0] + '_timeseries')\n",
    "\n",
    "#mask_seed=glob.glob(\"/cerebro/cerebro1/dataset/bmpd/derivatives/HealthyControls_project/ICA/spinalcord_9/Comp_masked/zCanICA_23sbj_spinalcord_component_1_bin.nii.gz\")[0]#glob.glob(config[\"main_dir\"] + config[\"templates\"][seed_name.split('_')[0]+\"_seeds\"] + seed_name.split('_')[-1].split('_')[-1] +'*.gz')[0]\n",
    "mask_seed=glob.glob(config[\"main_dir\"] + config[\"templates\"][seed_name.split('_')[0]+\"_seeds\"] + seed_name.split('_')[-1].split('_')[-1] +'*.gz')[0]\n",
    "mask_target=glob.glob(config[\"main_dir\"] + config[\"masks\"][target_name[0].split('_')[0]])[0]\n",
    " \n",
    "# create output directory if not exist\n",
    "if not os.path.exists(config['main_dir'] + config['seed2vox_dir'] + '/1_first_level/'+seed_name):\n",
    "    os.mkdir(config['main_dir'] + config['seed2vox_dir'] + '/1_first_level/'+seed_name)\n",
    "    os.mkdir(config['main_dir'] + config['seed2vox_dir'] + '/1_first_level/'+seed_name+'/timeseries/') # folder to store timeseries extraction\n",
    "    os.mkdir(config['main_dir'] + config['seed2vox_dir'] + '/1_first_level/'+seed_name+'/brain_fc_maps/') # folder to store maps of FC"
   ]
  },
  {
   "cell_type": "markdown",
   "id": "6acbf407",
   "metadata": {},
   "source": [
    "### <font color=#4424D6> II. Time series extraction </font>"
   ]
  },
  {
   "cell_type": "code",
   "execution_count": 24,
   "id": "4d35143a",
   "metadata": {},
   "outputs": [],
   "source": [
    "seed_timeseries,seed_timeseries_mean,seed_timeseries_pc1=seed2voxels.extract_data(img=data_seed, mask=mask_seed, timeseries_txt=ts_seed_txt,\n",
    "                                                                run=\"extract\",n_jobs=8) # run the analyse for target voxels\n",
    "target_timeseries,target_timeseries_mean,target_timeseries_pc1=seed2voxels.extract_data(img=data_target, mask=mask_target, timeseries_txt=ts_target_txt,\n",
    "                                                                run=\"load\",n_jobs=8) # run the analyse for target voxels\n"
   ]
  },
  {
   "cell_type": "markdown",
   "id": "00702db3",
   "metadata": {},
   "source": [
    "## <font color=#B2D732> <span style=\"background-color: #4424D6\"> Correlation analysis"
   ]
  },
  {
   "cell_type": "code",
   "execution_count": 27,
   "id": "f567dd05",
   "metadata": {},
   "outputs": [],
   "source": [
    "output_img={};\n",
    "for seed_name in seed_names:\n",
    "    output_img[seed_name]=[]\n",
    "    output_img[seed_name]=config['main_dir'] + config['seed2vox_dir'] + '/1_first_level/' + seed_name + '/' + target_name[0].split('_')[0]+ '_fc_maps/' + str(len(config['list_subjects'])) + 'subjects_seedmean_' + seed_name.split('_')[-1] + '_zcorr_.nii'\n",
    "\n",
    "seed2voxels.correlation_maps(seed_timeseries_mean,target_timeseries,mask=mask_target,output_img=output_img[seed_name],Fisher=True,n_jobs=8)"
   ]
  },
  {
   "cell_type": "markdown",
   "id": "b801c73c",
   "metadata": {},
   "source": [
    "## <font color=#B2D732> <span style=\"background-color: #4424D6\"> Smoothing"
   ]
  },
  {
   "cell_type": "code",
   "execution_count": 28,
   "id": "1ed0ce05",
   "metadata": {},
   "outputs": [],
   "source": [
    "from nilearn import image\n",
    "img_smoothed=image.smooth_img(output_img[seed_name],[6,6,6])\n",
    "img_smoothed.to_filename(output_img[seed_name].split('.')[0] + '_s.nii' )"
   ]
  },
  {
   "cell_type": "raw",
   "id": "9f37e32a",
   "metadata": {},
   "source": [
    "for comp in {1..9}; do\n",
    "    fslmaths /cerebro/cerebro1/dataset/bmpd/derivatives/HealthyControls_project/ICA/spinalcord_9/Comp_zscored/zCanICA_23sbj_spinalcord_component_\"$comp\".nii.gz -thr 3 -bin /cerebro/cerebro1/dataset/bmpd/derivatives/HealthyControls_project/ICA/spinalcord_9/Comp_masked/zCanICA_23sbj_spinalcord_component_\"$comp\"_bin.nii.gz\n",
    "done"
   ]
  }
 ],
 "metadata": {
  "kernelspec": {
   "display_name": "Python 3 (ipykernel)",
   "language": "python",
   "name": "python3"
  },
  "language_info": {
   "codemirror_mode": {
    "name": "ipython",
    "version": 3
   },
   "file_extension": ".py",
   "mimetype": "text/x-python",
   "name": "python",
   "nbconvert_exporter": "python",
   "pygments_lexer": "ipython3",
   "version": "3.9.7"
  }
 },
 "nbformat": 4,
 "nbformat_minor": 5
}
