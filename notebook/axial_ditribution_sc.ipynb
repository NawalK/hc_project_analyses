{
 "cells": [
  {
   "cell_type": "code",
   "execution_count": 15,
   "metadata": {},
   "outputs": [
    {
     "name": "stdout",
     "output_type": "stream",
     "text": [
      "The autoreload extension is already loaded. To reload it, use:\n",
      "  %reload_ext autoreload\n"
     ]
    }
   ],
   "source": [
    "import sys,json\n",
    "\n",
    "sys.path.append(\"/cerebro/cerebro1/dataset/bmpd/derivatives/HealthyControls_project/hc_project_analyses/code/\")\n",
    "\n",
    "from k_axial_distribution import k_axial_distribution\n",
    "\n",
    "%matplotlib inline\n",
    "%load_ext autoreload\n",
    "%autoreload 2"
   ]
  },
  {
   "cell_type": "markdown",
   "metadata": {},
   "source": [
    "## <font color=#B2D732> <span style=\"background-color: #4424D6\"> Load configuration file"
   ]
  },
  {
   "cell_type": "code",
   "execution_count": 27,
   "metadata": {},
   "outputs": [],
   "source": [
    "with open('../config/config_CL.json') as config_file:\n",
    "    config = json.load(config_file) # load config file"
   ]
  },
  {
   "cell_type": "markdown",
   "metadata": {},
   "source": [
    "## <font color=#B2D732> <span style=\"background-color: #4424D6\"> k axial distribution </font></span>"
   ]
  },
  {
   "cell_type": "code",
   "execution_count": 29,
   "metadata": {},
   "outputs": [
    {
     "name": "stdout",
     "output_type": "stream",
     "text": [
      "COMPUTING AXIAL DISTRIBUTION \n",
      " ––– Method: ica \n",
      " ––– Range: {'spinalcord': [5, 6, 7, 8, 9, 10, 11, 12, 13, 14, 15, 16, 17, 18, 19, 20, 21, 22, 23, 24, 25, 26, 27, 28, 29, 30, 35, 39], 'brain': 15} \n",
      " ––– Threshold: 3 \n",
      " ––– % for matching: 70\n",
      "...Loading data for the different spinal masks\n",
      "...Computing distribution for each K\n",
      "......K = 5\n",
      "......K = 6\n"
     ]
    },
    {
     "name": "stderr",
     "output_type": "stream",
     "text": [
      "/cerebro/cerebro1/dataset/bmpd/derivatives/HealthyControls_project/hc_project_analyses/code/k_axial_distribution.py:78: RuntimeWarning: invalid value encountered in double_scalars\n",
      "  perc_in_masks[mask] = (counts_in_masks / total_voxels) * 100\n"
     ]
    },
    {
     "name": "stdout",
     "output_type": "stream",
     "text": [
      "......K = 7\n",
      "......K = 8\n",
      "......K = 9\n",
      "......K = 10\n",
      "......K = 11\n",
      "......K = 12\n",
      "......K = 13\n",
      "......K = 14\n",
      "......K = 15\n",
      "......K = 16\n",
      "......K = 17\n",
      "......K = 18\n",
      "......K = 19\n",
      "......K = 20\n",
      "......K = 21\n",
      "......K = 22\n",
      "......K = 23\n",
      "......K = 24\n",
      "......K = 25\n",
      "......K = 26\n",
      "......K = 27\n",
      "......K = 28\n",
      "......K = 29\n",
      "......K = 30\n",
      "......K = 35\n",
      "......K = 39\n",
      "DONE!\n"
     ]
    },
    {
     "data": {
      "text/plain": [
       "{5: {'Q': 1, 'LR': 0, 'DV': 2, 'F': 2},\n",
       " 6: {'Q': 0, 'LR': 0, 'DV': 1, 'F': 5},\n",
       " 7: {'Q': 0, 'LR': 1, 'DV': 1, 'F': 5},\n",
       " 8: {'Q': 0, 'LR': 1, 'DV': 1, 'F': 6},\n",
       " 9: {'Q': 0, 'LR': 1, 'DV': 1, 'F': 7},\n",
       " 10: {'Q': 0, 'LR': 0, 'DV': 0, 'F': 10},\n",
       " 11: {'Q': 0, 'LR': 0, 'DV': 3, 'F': 8},\n",
       " 12: {'Q': 1, 'LR': 1, 'DV': 4, 'F': 6},\n",
       " 13: {'Q': 0, 'LR': 0, 'DV': 3, 'F': 10},\n",
       " 14: {'Q': 0, 'LR': 0, 'DV': 4, 'F': 10},\n",
       " 15: {'Q': 0, 'LR': 0, 'DV': 6, 'F': 9},\n",
       " 16: {'Q': 0, 'LR': 0, 'DV': 6, 'F': 10},\n",
       " 17: {'Q': 0, 'LR': 1, 'DV': 7, 'F': 9},\n",
       " 18: {'Q': 0, 'LR': 0, 'DV': 7, 'F': 11},\n",
       " 19: {'Q': 0, 'LR': 1, 'DV': 9, 'F': 9},\n",
       " 20: {'Q': 0, 'LR': 2, 'DV': 12, 'F': 6},\n",
       " 21: {'Q': 0, 'LR': 4, 'DV': 10, 'F': 7},\n",
       " 22: {'Q': 1, 'LR': 3, 'DV': 13, 'F': 5},\n",
       " 23: {'Q': 0, 'LR': 3, 'DV': 10, 'F': 10},\n",
       " 24: {'Q': 0, 'LR': 3, 'DV': 13, 'F': 8},\n",
       " 25: {'Q': 0, 'LR': 3, 'DV': 15, 'F': 7},\n",
       " 26: {'Q': 0, 'LR': 8, 'DV': 12, 'F': 6},\n",
       " 27: {'Q': 0, 'LR': 7, 'DV': 13, 'F': 7},\n",
       " 28: {'Q': 0, 'LR': 9, 'DV': 15, 'F': 4},\n",
       " 29: {'Q': 1, 'LR': 10, 'DV': 15, 'F': 3},\n",
       " 30: {'Q': 0, 'LR': 11, 'DV': 16, 'F': 3},\n",
       " 35: {'Q': 0, 'LR': 12, 'DV': 19, 'F': 4},\n",
       " 39: {'Q': 0, 'LR': 16, 'DV': 19, 'F': 4}}"
      ]
     },
     "execution_count": 29,
     "metadata": {},
     "output_type": "execute_result"
    },
    {
     "data": {
      "image/png": "[encoded data removed]",
      "text/plain": [
       "<Figure size 432x288 with 2 Axes>"
      ]
     },
     "metadata": {
      "needs_background": "light"
     },
     "output_type": "display_data"
    }
   ],
   "source": [
    "k_axial_distribution(config, 'ica', thresh=3, vox_percentage=70, save_results=False)"
   ]
  }
 ],
 "metadata": {
  "kernelspec": {
   "display_name": "Python 3",
   "language": "python",
   "name": "python3"
  },
  "language_info": {
   "codemirror_mode": {
    "name": "ipython",
    "version": 3
   },
   "file_extension": ".py",
   "mimetype": "text/x-python",
   "name": "python",
   "nbconvert_exporter": "python",
   "pygments_lexer": "ipython3",
   "version": "3.6.9"
  }
 },
 "nbformat": 4,
 "nbformat_minor": 4
}
