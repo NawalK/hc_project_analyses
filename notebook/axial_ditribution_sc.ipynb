{
 "cells": [
  {
   "cell_type": "code",
   "execution_count": 1,
   "metadata": {},
   "outputs": [],
   "source": [
    "import sys,json\n",
    "\n",
    "sys.path.append(\"/cerebro/cerebro1/dataset/bmpd/derivatives/HealthyControls_project/hc_project_analyses/code/\")\n",
    "\n",
    "from k_axial_distribution import k_axial_distribution\n",
    "\n",
    "%matplotlib inline\n",
    "%load_ext autoreload\n",
    "%autoreload 2"
   ]
  },
  {
   "cell_type": "markdown",
   "metadata": {},
   "source": [
    "## <font color=#B2D732> <span style=\"background-color: #4424D6\"> Load configuration file"
   ]
  },
  {
   "cell_type": "code",
   "execution_count": 32,
   "metadata": {},
   "outputs": [],
   "source": [
    "#config_BMPD_HC_CL.json #config_SPiCiCAP_CL.json\n",
    "with open('../config/config_BMPD_HC_CL.json') as config_file:\n",
    "    config = json.load(config_file) # load config file"
   ]
  },
  {
   "cell_type": "markdown",
   "metadata": {},
   "source": [
    "## <font color=#B2D732> <span style=\"background-color: #4424D6\"> k axial distribution </font></span>"
   ]
  },
  {
   "cell_type": "code",
   "execution_count": 33,
   "metadata": {},
   "outputs": [
    {
     "name": "stdout",
     "output_type": "stream",
     "text": [
      "COMPUTING AXIAL DISTRIBUTION \n",
      " ––– Method: ica \n",
      " ––– Range: {'spinalcord': [4, 5, 6, 8, 10, 12, 14, 16, 18, 20, 24, 28, 32]} \n",
      " ––– Threshold: 2 \n",
      " ––– % for matching: 70\n",
      "...Loading data for the different spinal masks\n",
      "...Computing distribution for each K\n",
      "......K = 4\n",
      "......K = 5\n",
      "......K = 6\n",
      "......K = 8\n",
      "......K = 10\n",
      "......K = 12\n",
      "......K = 14\n",
      "......K = 16\n",
      "......K = 18\n",
      "......K = 20\n",
      "......K = 24\n",
      "......K = 28\n",
      "......K = 32\n",
      "DONE!\n"
     ]
    },
    {
     "data": {
      "text/plain": [
       "{4: {'Q': 0, 'LR': 0, 'DV': 0, 'F': 4},\n",
       " 5: {'Q': 0, 'LR': 0, 'DV': 1, 'F': 4},\n",
       " 6: {'Q': 0, 'LR': 0, 'DV': 1, 'F': 5},\n",
       " 8: {'Q': 0, 'LR': 0, 'DV': 0, 'F': 8},\n",
       " 10: {'Q': 0, 'LR': 0, 'DV': 0, 'F': 10},\n",
       " 12: {'Q': 0, 'LR': 0, 'DV': 0, 'F': 12},\n",
       " 14: {'Q': 0, 'LR': 0, 'DV': 2, 'F': 12},\n",
       " 16: {'Q': 0, 'LR': 2, 'DV': 3, 'F': 11},\n",
       " 18: {'Q': 0, 'LR': 3, 'DV': 3, 'F': 12},\n",
       " 20: {'Q': 0, 'LR': 4, 'DV': 4, 'F': 12},\n",
       " 24: {'Q': 0, 'LR': 7, 'DV': 7, 'F': 10},\n",
       " 28: {'Q': 0, 'LR': 11, 'DV': 7, 'F': 10},\n",
       " 32: {'Q': 0, 'LR': 16, 'DV': 9, 'F': 7}}"
      ]
     },
     "execution_count": 33,
     "metadata": {},
     "output_type": "execute_result"
    },
    {
     "data": {
      "image/png": "[encoded data removed]",
      "text/plain": [
       "<Figure size 432x288 with 2 Axes>"
      ]
     },
     "metadata": {
      "needs_background": "light"
     },
     "output_type": "display_data"
    }
   ],
   "source": [
    "k_axial_distribution(config, 'ica', thresh=2, vox_percentage=70, save_results=False)"
   ]
  },
  {
   "cell_type": "code",
   "execution_count": 34,
   "metadata": {},
   "outputs": [],
   "source": [
    "#config_BMPD_HC_CL.json #config_SPiCiCAP_CL.json\n",
    "with open('../config/config_SPiCiCAP_CL.json') as config_file:\n",
    "    config = json.load(config_file) # load config file"
   ]
  },
  {
   "cell_type": "code",
   "execution_count": 35,
   "metadata": {},
   "outputs": [
    {
     "name": "stdout",
     "output_type": "stream",
     "text": [
      "COMPUTING AXIAL DISTRIBUTION \n",
      " ––– Method: ica \n",
      " ––– Range: {'spinalcord': [4, 5, 6, 8, 10, 12, 14, 16, 18, 20, 24, 28, 32, 40]} \n",
      " ––– Threshold: 2 \n",
      " ––– % for matching: 70\n",
      "...Loading data for the different spinal masks\n",
      "...Computing distribution for each K\n",
      "......K = 4\n",
      "......K = 5\n",
      "......K = 6\n",
      "......K = 8\n",
      "......K = 10\n",
      "......K = 12\n",
      "......K = 14\n",
      "......K = 16\n",
      "......K = 18\n",
      "......K = 20\n",
      "......K = 24\n",
      "......K = 28\n",
      "......K = 32\n",
      "......K = 40\n",
      "DONE!\n"
     ]
    },
    {
     "data": {
      "text/plain": [
       "{4: {'Q': 0, 'LR': 0, 'DV': 2, 'F': 2},\n",
       " 5: {'Q': 0, 'LR': 0, 'DV': 2, 'F': 3},\n",
       " 6: {'Q': 0, 'LR': 0, 'DV': 3, 'F': 3},\n",
       " 8: {'Q': 0, 'LR': 2, 'DV': 3, 'F': 3},\n",
       " 10: {'Q': 0, 'LR': 2, 'DV': 2, 'F': 6},\n",
       " 12: {'Q': 0, 'LR': 4, 'DV': 5, 'F': 3},\n",
       " 14: {'Q': 0, 'LR': 3, 'DV': 6, 'F': 5},\n",
       " 16: {'Q': 1, 'LR': 4, 'DV': 8, 'F': 3},\n",
       " 18: {'Q': 0, 'LR': 7, 'DV': 7, 'F': 4},\n",
       " 20: {'Q': 0, 'LR': 8, 'DV': 7, 'F': 5},\n",
       " 24: {'Q': 0, 'LR': 10, 'DV': 11, 'F': 3},\n",
       " 28: {'Q': 2, 'LR': 10, 'DV': 11, 'F': 5},\n",
       " 32: {'Q': 2, 'LR': 12, 'DV': 11, 'F': 7},\n",
       " 40: {'Q': 2, 'LR': 16, 'DV': 19, 'F': 3}}"
      ]
     },
     "execution_count": 35,
     "metadata": {},
     "output_type": "execute_result"
    },
    {
     "data": {
      "image/png": "[encoded data removed]",
      "text/plain": [
       "<Figure size 432x288 with 2 Axes>"
      ]
     },
     "metadata": {
      "needs_background": "light"
     },
     "output_type": "display_data"
    }
   ],
   "source": [
    "k_axial_distribution(config, 'ica', thresh=2, vox_percentage=70, save_results=False)"
   ]
  },
  {
   "cell_type": "code",
   "execution_count": null,
   "metadata": {},
   "outputs": [],
   "source": []
  }
 ],
 "metadata": {
  "kernelspec": {
   "display_name": "Python 3",
   "language": "python",
   "name": "python3"
  },
  "language_info": {
   "codemirror_mode": {
    "name": "ipython",
    "version": 3
   },
   "file_extension": ".py",
   "mimetype": "text/x-python",
   "name": "python",
   "nbconvert_exporter": "python",
   "pygments_lexer": "ipython3",
   "version": "3.6.9"
  }
 },
 "nbformat": 4,
 "nbformat_minor": 4
}
