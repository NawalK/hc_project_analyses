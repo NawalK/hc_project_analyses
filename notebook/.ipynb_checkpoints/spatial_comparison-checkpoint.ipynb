{
 "cells": [
  {
   "cell_type": "code",
   "execution_count": 8,
   "id": "8e71c958",
   "metadata": {},
   "outputs": [
    {
     "name": "stdout",
     "output_type": "stream",
     "text": [
      "The autoreload extension is already loaded. To reload it, use:\n",
      "  %reload_ext autoreload\n"
     ]
    }
   ],
   "source": [
    "import sys\n",
    "\n",
    "sys.path.append('/media/miplab-nas2/Data3/BMPD/hc_project/analysis/code/')\n",
    "from compute_similarity import compute_similarity\n",
    "from k_axial_distribution import k_axial_distribution\n",
    "\n",
    "\n",
    "import numpy as np\n",
    "import seaborn as sns\n",
    "import matplotlib.pyplot as plt\n",
    "import nibabel as nib\n",
    "import os.path\n",
    "import json\n",
    "import random\n",
    "\n",
    "# Set numpy to print only 2 decimal digits for neatness\n",
    "np.set_printoptions(precision=2, suppress=True)\n",
    "\n",
    "%matplotlib inline\n",
    "%load_ext autoreload\n",
    "%autoreload 2"
   ]
  },
  {
   "cell_type": "markdown",
   "id": "f75991f4",
   "metadata": {},
   "source": [
    "## Load configuration file"
   ]
  },
  {
   "cell_type": "code",
   "execution_count": 21,
   "id": "6917b789",
   "metadata": {},
   "outputs": [],
   "source": [
    "with open('../config/config_test.json') as config_file:\n",
    "    config = json.load(config_file)"
   ]
  },
  {
   "cell_type": "markdown",
   "id": "9aaac68c",
   "metadata": {},
   "source": [
    "## Read ICA/iCAP data"
   ]
  },
  {
   "cell_type": "code",
   "execution_count": 22,
   "id": "d672768f",
   "metadata": {},
   "outputs": [],
   "source": [
    "icap_img = nib.load(config['main_dir'] + config['data']['icap']['main_dir'] + config['data']['icap']['sc_dir'] + 'K_9_' + config['data']['icap']['k_dir'] + config['data']['icap']['filename'])\n",
    "icap_data = icap_img.get_fdata()"
   ]
  },
  {
   "cell_type": "code",
   "execution_count": 23,
   "id": "b913270d",
   "metadata": {},
   "outputs": [
    {
     "data": {
      "text/plain": [
       "(61, 56, 298, 9)"
      ]
     },
     "execution_count": 23,
     "metadata": {},
     "output_type": "execute_result"
    }
   ],
   "source": [
    "icap_data.shape"
   ]
  },
  {
   "cell_type": "code",
   "execution_count": 26,
   "id": "851292cc",
   "metadata": {},
   "outputs": [
    {
     "data": {
      "text/plain": [
       "27641.76029698015"
      ]
     },
     "execution_count": 26,
     "metadata": {},
     "output_type": "execute_result"
    }
   ],
   "source": [
    "np.sum(icap_data[:,:,:,2])"
   ]
  },
  {
   "cell_type": "code",
   "execution_count": 5,
   "id": "26c0a012",
   "metadata": {},
   "outputs": [
    {
     "data": {
      "text/plain": [
       "('rr', 'tt')"
      ]
     },
     "execution_count": 5,
     "metadata": {},
     "output_type": "execute_result"
    }
   ],
   "source": [
    "test"
   ]
  },
  {
   "cell_type": "code",
   "execution_count": 7,
   "id": "a64d93e5",
   "metadata": {},
   "outputs": [
    {
     "data": {
      "text/plain": [
       "'rr'"
      ]
     },
     "execution_count": 7,
     "metadata": {},
     "output_type": "execute_result"
    }
   ],
   "source": [
    "test[0]"
   ]
  },
  {
   "cell_type": "code",
   "execution_count": 32,
   "id": "ef8751cd",
   "metadata": {},
   "outputs": [],
   "source": [
    "test = dict(zip(('d','a','c'), [0,0,0]))"
   ]
  },
  {
   "cell_type": "code",
   "execution_count": 34,
   "id": "c6f3693a",
   "metadata": {},
   "outputs": [],
   "source": [
    "test['d'] = test['d']+1"
   ]
  },
  {
   "cell_type": "code",
   "execution_count": 35,
   "id": "3fa28c1c",
   "metadata": {},
   "outputs": [
    {
     "data": {
      "text/plain": [
       "1"
      ]
     },
     "execution_count": 35,
     "metadata": {},
     "output_type": "execute_result"
    }
   ],
   "source": [
    "test['d']"
   ]
  },
  {
   "cell_type": "code",
   "execution_count": null,
   "id": "55742852",
   "metadata": {},
   "outputs": [],
   "source": []
  }
 ],
 "metadata": {
  "kernelspec": {
   "display_name": "Python 3 (ipykernel)",
   "language": "python",
   "name": "python3"
  },
  "language_info": {
   "codemirror_mode": {
    "name": "ipython",
    "version": 3
   },
   "file_extension": ".py",
   "mimetype": "text/x-python",
   "name": "python",
   "nbconvert_exporter": "python",
   "pygments_lexer": "ipython3",
   "version": "3.9.7"
  }
 },
 "nbformat": 4,
 "nbformat_minor": 5
}
