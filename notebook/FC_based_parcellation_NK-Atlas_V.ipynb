{
 "cells": [
  {
   "cell_type": "markdown",
   "id": "3f8d447d",
   "metadata": {},
   "source": [
    "# <font color=black> Analysis - FC-based parcellation </font>\n",
    "<hr style=\"border:1px solid black\">"
   ]
  },
  {
   "cell_type": "markdown",
   "id": "af18d097",
   "metadata": {},
   "source": [
    "## <font color=black> <span style=\"background-color: #A0B0C0\"> Imports "
   ]
  },
  {
   "cell_type": "code",
   "execution_count": 2,
   "id": "75af82ae",
   "metadata": {},
   "outputs": [],
   "source": [
    "import sys,json\n",
    "import glob, os\n",
    "import numpy as np\n",
    "import nibabel as nib\n",
    "import time\n",
    "\n",
    "sys.path.append('/media/miplab-nas2/Data3/BMPD/hc_project/analysis/code/')\n",
    "\n",
    "from fc_based_parcellation import FC_Parcellation\n",
    "\n",
    "%matplotlib inline\n",
    "%load_ext autoreload\n",
    "%autoreload 2"
   ]
  },
  {
   "cell_type": "markdown",
   "id": "e72a9ea2",
   "metadata": {},
   "source": [
    "## <font color=black> <span style=\"background-color: #A0B0C0\"> Initialization"
   ]
  },
  {
   "cell_type": "markdown",
   "id": "170dfff1",
   "metadata": {},
   "source": [
    "### <font color=#A0B0C0> Configuration & parameters </font>"
   ]
  },
  {
   "cell_type": "code",
   "execution_count": 3,
   "id": "a2ad247f",
   "metadata": {},
   "outputs": [],
   "source": [
    "with open('../config/config_fc_based_parcellation_NK.json') as config_file:\n",
    "    config = json.load(config_file) # load config file"
   ]
  },
  {
   "cell_type": "markdown",
   "id": "d8af9bb5",
   "metadata": {},
   "source": [
    "### <font color=#A0B0C0> Class instantiation </font>"
   ]
  },
  {
   "cell_type": "code",
   "execution_count": 4,
   "id": "7f69017a",
   "metadata": {},
   "outputs": [],
   "source": [
    "fc_parcellation = FC_Parcellation(config,'spinalcord','brain')"
   ]
  },
  {
   "cell_type": "markdown",
   "id": "b671d2c8",
   "metadata": {},
   "source": [
    "## <font color=black> <span style=\"background-color: #A0B0C0\"> Analyses"
   ]
  },
  {
   "cell_type": "code",
   "execution_count": 5,
   "id": "5ef0f4c7",
   "metadata": {},
   "outputs": [
    {
     "name": "stdout",
     "output_type": "stream",
     "text": [
      "SUBJECT P028\n",
      "COMPUTE VOXELWISE CORRELATION\n",
      "... Load correlations from file\n",
      "... Load labels from file\n",
      "SUBJECT P030\n",
      "COMPUTE VOXELWISE CORRELATION\n",
      "... Load correlations from file\n",
      "... Load labels from file\n",
      "SUBJECT P033\n",
      "COMPUTE VOXELWISE CORRELATION\n",
      "... Load correlations from file\n",
      "... Load labels from file\n",
      "SUBJECT P043\n",
      "COMPUTE VOXELWISE CORRELATION\n",
      "... Load correlations from file\n",
      "... Load labels from file\n",
      "SUBJECT P047\n",
      "COMPUTE VOXELWISE CORRELATION\n",
      "... Load correlations from file\n",
      "... Load labels from file\n",
      "SUBJECT P050\n",
      "COMPUTE VOXELWISE CORRELATION\n",
      "... Load correlations from file\n",
      "... Load labels from file\n",
      "SUBJECT P057\n",
      "COMPUTE VOXELWISE CORRELATION\n",
      "... Load correlations from file\n",
      "... Load labels from file\n",
      "SUBJECT P099\n",
      "COMPUTE VOXELWISE CORRELATION\n",
      "... Load correlations from file\n",
      "... Load labels from file\n",
      "SUBJECT P100\n",
      "COMPUTE VOXELWISE CORRELATION\n",
      "... Load correlations from file\n",
      "... Load labels from file\n",
      "SUBJECT P105\n",
      "COMPUTE VOXELWISE CORRELATION\n",
      "... Load correlations from file\n",
      "... Load labels from file\n",
      "SUBJECT P108\n",
      "COMPUTE VOXELWISE CORRELATION\n",
      "... Load correlations from file\n",
      "... Load labels from file\n",
      "SUBJECT P109\n",
      "COMPUTE VOXELWISE CORRELATION\n",
      "... Load correlations from file\n",
      "... Load labels from file\n",
      "SUBJECT A003\n",
      "COMPUTE VOXELWISE CORRELATION\n",
      "... Load correlations from file\n",
      "... Load labels from file\n",
      "SUBJECT A004\n",
      "COMPUTE VOXELWISE CORRELATION\n",
      "... Load correlations from file\n",
      "... Load labels from file\n",
      "SUBJECT A005\n",
      "COMPUTE VOXELWISE CORRELATION\n",
      "... Load correlations from file\n",
      "RUN K-MEANS CLUSTERING FOR K = 8\n",
      "SUBJECT A006\n",
      "COMPUTE VOXELWISE CORRELATION\n",
      "... Computing correlations for all possibilities\n",
      "... Fisher transforming correlations\n",
      "RUN K-MEANS CLUSTERING FOR K = 8\n",
      "SUBJECT A007\n",
      "COMPUTE VOXELWISE CORRELATION\n",
      "... Computing correlations for all possibilities\n",
      "... Fisher transforming correlations\n",
      "RUN K-MEANS CLUSTERING FOR K = 8\n",
      "SUBJECT A008\n",
      "COMPUTE VOXELWISE CORRELATION\n",
      "... Computing correlations for all possibilities\n",
      "... Fisher transforming correlations\n",
      "RUN K-MEANS CLUSTERING FOR K = 8\n",
      "SUBJECT A009\n",
      "COMPUTE VOXELWISE CORRELATION\n",
      "... Computing correlations for all possibilities\n",
      "... Fisher transforming correlations\n",
      "RUN K-MEANS CLUSTERING FOR K = 8\n",
      "SUBJECT A011\n",
      "COMPUTE VOXELWISE CORRELATION\n",
      "... Computing correlations for all possibilities\n",
      "... Fisher transforming correlations\n",
      "RUN K-MEANS CLUSTERING FOR K = 8\n",
      "SUBJECT A013\n",
      "COMPUTE VOXELWISE CORRELATION\n",
      "... Computing correlations for all possibilities\n",
      "... Fisher transforming correlations\n",
      "RUN K-MEANS CLUSTERING FOR K = 8\n",
      "SUBJECT P031\n",
      "COMPUTE VOXELWISE CORRELATION\n",
      "... Computing correlations for all possibilities\n",
      "... Fisher transforming correlations\n",
      "RUN K-MEANS CLUSTERING FOR K = 8\n",
      "SUBJECT P089\n",
      "COMPUTE VOXELWISE CORRELATION\n",
      "... Computing correlations for all possibilities\n",
      "... Fisher transforming correlations\n",
      "RUN K-MEANS CLUSTERING FOR K = 8\n",
      "SUBJECT P094\n",
      "COMPUTE VOXELWISE CORRELATION\n",
      "... Computing correlations for all possibilities\n",
      "... Fisher transforming correlations\n",
      "RUN K-MEANS CLUSTERING FOR K = 8\n",
      "SUBJECT P096\n",
      "COMPUTE VOXELWISE CORRELATION\n",
      "... Computing correlations for all possibilities\n",
      "... Fisher transforming correlations\n",
      "RUN K-MEANS CLUSTERING FOR K = 8\n",
      "SUBJECT P097\n",
      "COMPUTE VOXELWISE CORRELATION\n",
      "... Computing correlations for all possibilities\n",
      "... Fisher transforming correlations\n",
      "RUN K-MEANS CLUSTERING FOR K = 8\n",
      "SUBJECT P098\n",
      "COMPUTE VOXELWISE CORRELATION\n",
      "... Computing correlations for all possibilities\n",
      "... Fisher transforming correlations\n",
      "RUN K-MEANS CLUSTERING FOR K = 8\n",
      "SUBJECT P103\n",
      "COMPUTE VOXELWISE CORRELATION\n",
      "... Computing correlations for all possibilities\n",
      "... Fisher transforming correlations\n",
      "RUN K-MEANS CLUSTERING FOR K = 8\n",
      "SUBJECT P104\n",
      "COMPUTE VOXELWISE CORRELATION\n",
      "... Computing correlations for all possibilities\n",
      "... Fisher transforming correlations\n",
      "RUN K-MEANS CLUSTERING FOR K = 8\n",
      "SUBJECT P106\n",
      "COMPUTE VOXELWISE CORRELATION\n",
      "... Computing correlations for all possibilities\n",
      "... Fisher transforming correlations\n",
      "RUN K-MEANS CLUSTERING FOR K = 8\n",
      "SUBJECT P111\n",
      "COMPUTE VOXELWISE CORRELATION\n",
      "... Computing correlations for all possibilities\n",
      "... Fisher transforming correlations\n",
      "RUN K-MEANS CLUSTERING FOR K = 8\n",
      "SUBJECT A002\n",
      "COMPUTE VOXELWISE CORRELATION\n",
      "... Computing correlations for all possibilities\n",
      "SUBJECT A010\n",
      "COMPUTE VOXELWISE CORRELATION\n",
      "... Computing correlations for all possibilities\n",
      "... Fisher transforming correlations\n",
      "RUN K-MEANS CLUSTERING FOR K = 8\n",
      "SUBJECT A012\n",
      "COMPUTE VOXELWISE CORRELATION\n",
      "... Computing correlations for all possibilities\n",
      "... Fisher transforming correlations\n",
      "RUN K-MEANS CLUSTERING FOR K = 8\n",
      "SUBJECT A015\n",
      "COMPUTE VOXELWISE CORRELATION\n",
      "... Computing correlations for all possibilities\n",
      "... Fisher transforming correlations\n",
      "RUN K-MEANS CLUSTERING FOR K = 8\n",
      "SUBJECT A017\n",
      "COMPUTE VOXELWISE CORRELATION\n",
      "... Computing correlations for all possibilities\n",
      "... Fisher transforming correlations\n",
      "RUN K-MEANS CLUSTERING FOR K = 8\n",
      "... Operation performed in 7538.41 s!\n"
     ]
    }
   ],
   "source": [
    "start = time.time()\n",
    "# Initialize empty array for individual labels\n",
    "mask_source_path = config['main_dir']+config['masks']['spinalcord']\n",
    "nvox_source = np.count_nonzero(nib.load(mask_source_path).get_fdata().astype(bool))\n",
    "subject_labels = np.zeros((len(fc_parcellation.config['list_subjects']),nvox_source))\n",
    "for sub_id,sub in enumerate(fc_parcellation.config['list_subjects']): \n",
    "    print(f'SUBJECT {sub}')\n",
    "    # Compute correlation without saving files\n",
    "    dict_corr = fc_parcellation.compute_voxelwise_correlation(sub=sub, \n",
    "                                                  load_from_file=True, \n",
    "                                                  save_results=True, \n",
    "                                                  mask_source_path=mask_source_path, \n",
    "                                                  mask_target_path=config['main_dir']+config['masks']['brain'])\n",
    "    # Run clustering and save labels\n",
    "    subject_labels[sub_id,:] = fc_parcellation.run_clustering(dict_corr,\n",
    "                                                              k=8,algorithm='kmeans',\n",
    "                                                              load_from_file=True,\n",
    "                                                              save_results=True)\n",
    "print(\"... Operation performed in %.2f s!\" % (time.time() - start))"
   ]
  },
  {
   "cell_type": "code",
   "execution_count": 6,
   "id": "a72bac79",
   "metadata": {},
   "outputs": [
    {
     "name": "stdout",
     "output_type": "stream",
     "text": [
      "RUN GROUP CLUSTERING\n",
      "DONE\n"
     ]
    }
   ],
   "source": [
    "group_labels, indiv_labels_relabeled = fc_parcellation.group_clustering(subject_labels)"
   ]
  },
  {
   "cell_type": "code",
   "execution_count": 7,
   "id": "d520a4ba",
   "metadata": {},
   "outputs": [
    {
     "name": "stdout",
     "output_type": "stream",
     "text": [
      "PREPARE SEED MAP\n",
      "DONE\n"
     ]
    }
   ],
   "source": [
    "fc_parcellation.prepare_seed_map(group_labels)"
   ]
  },
  {
   "cell_type": "code",
   "execution_count": 8,
   "id": "db42df20",
   "metadata": {},
   "outputs": [
    {
     "name": "stdout",
     "output_type": "stream",
     "text": [
      "PREPARE BRAIN MAPS\n",
      "Subject P028\n",
      "... Load correlations\n",
      "... Compute mean map per label\n",
      "... Save as nifti files\n",
      "Subject P030\n",
      "... Load correlations\n",
      "... Compute mean map per label\n",
      "... Save as nifti files\n",
      "Subject P033\n",
      "... Load correlations\n",
      "... Compute mean map per label\n",
      "... Save as nifti files\n",
      "Subject P043\n",
      "... Load correlations\n",
      "... Compute mean map per label\n",
      "... Save as nifti files\n",
      "Subject P047\n",
      "... Load correlations\n",
      "... Compute mean map per label\n",
      "... Save as nifti files\n",
      "Subject P050\n",
      "... Load correlations\n",
      "... Compute mean map per label\n",
      "... Save as nifti files\n",
      "Subject P057\n",
      "... Load correlations\n",
      "... Compute mean map per label\n",
      "... Save as nifti files\n",
      "Subject P099\n",
      "... Load correlations\n",
      "... Compute mean map per label\n",
      "... Save as nifti files\n",
      "Subject P100\n",
      "... Load correlations\n",
      "... Compute mean map per label\n",
      "... Save as nifti files\n",
      "Subject P105\n",
      "... Load correlations\n",
      "... Compute mean map per label\n",
      "... Save as nifti files\n",
      "Subject P108\n",
      "... Load correlations\n",
      "... Compute mean map per label\n",
      "... Save as nifti files\n",
      "Subject P109\n",
      "... Load correlations\n",
      "... Compute mean map per label\n",
      "... Save as nifti files\n",
      "Subject A003\n",
      "... Load correlations\n",
      "... Compute mean map per label\n",
      "... Save as nifti files\n",
      "Subject A004\n",
      "... Load correlations\n",
      "... Compute mean map per label\n",
      "... Save as nifti files\n",
      "Subject A005\n",
      "... Load correlations\n",
      "... Compute mean map per label\n",
      "... Save as nifti files\n",
      "Subject A006\n",
      "... Load correlations\n",
      "... Compute mean map per label\n",
      "... Save as nifti files\n",
      "Subject A007\n",
      "... Load correlations\n",
      "... Compute mean map per label\n",
      "... Save as nifti files\n",
      "Subject A008\n",
      "... Load correlations\n",
      "... Compute mean map per label\n",
      "... Save as nifti files\n",
      "Subject A009\n",
      "... Load correlations\n",
      "... Compute mean map per label\n",
      "... Save as nifti files\n",
      "Subject A011\n",
      "... Load correlations\n",
      "... Compute mean map per label\n",
      "... Save as nifti files\n",
      "Subject A013\n",
      "... Load correlations\n",
      "... Compute mean map per label\n",
      "... Save as nifti files\n",
      "Subject P031\n",
      "... Load correlations\n",
      "... Compute mean map per label\n",
      "... Save as nifti files\n",
      "Subject P089\n",
      "... Load correlations\n",
      "... Compute mean map per label\n",
      "... Save as nifti files\n",
      "Subject P094\n",
      "... Load correlations\n",
      "... Compute mean map per label\n",
      "... Save as nifti files\n",
      "Subject P096\n",
      "... Load correlations\n",
      "... Compute mean map per label\n",
      "... Save as nifti files\n",
      "Subject P097\n",
      "... Load correlations\n",
      "... Compute mean map per label\n",
      "... Save as nifti files\n",
      "Subject P098\n",
      "... Load correlations\n",
      "... Compute mean map per label\n",
      "... Save as nifti files\n",
      "Subject P103\n",
      "... Load correlations\n",
      "... Compute mean map per label\n",
      "... Save as nifti files\n",
      "Subject P104\n",
      "... Load correlations\n",
      "... Compute mean map per label\n",
      "... Save as nifti files\n",
      "Subject P106\n",
      "... Load correlations\n",
      "... Compute mean map per label\n",
      "... Save as nifti files\n",
      "Subject P111\n",
      "... Load correlations\n",
      "... Compute mean map per label\n",
      "... Save as nifti files\n",
      "Subject A002\n",
      "... Load correlations\n",
      "... Compute mean map per label\n",
      "... Save as nifti files\n",
      "Subject A010\n",
      "... Load correlations\n",
      "... Compute mean map per label\n",
      "... Save as nifti files\n",
      "Subject A012\n",
      "... Load correlations\n",
      "... Compute mean map per label\n",
      "... Save as nifti files\n",
      "Subject A015\n",
      "... Load correlations\n",
      "... Compute mean map per label\n",
      "... Save as nifti files\n",
      "Subject A017\n",
      "... Load correlations\n",
      "... Compute mean map per label\n",
      "... Save as nifti files\n",
      "DONE\n"
     ]
    }
   ],
   "source": [
    "fc_parcellation.prepare_target_maps(indiv_labels_relabeled, load_from_file=True, save_results=True)"
   ]
  },
  {
   "cell_type": "code",
   "execution_count": null,
   "id": "07d54b99",
   "metadata": {},
   "outputs": [],
   "source": []
  },
  {
   "cell_type": "code",
   "execution_count": null,
   "id": "f413c9b5",
   "metadata": {},
   "outputs": [],
   "source": []
  },
  {
   "cell_type": "code",
   "execution_count": null,
   "id": "0329b794",
   "metadata": {},
   "outputs": [],
   "source": []
  },
  {
   "cell_type": "code",
   "execution_count": null,
   "id": "79a856e3",
   "metadata": {},
   "outputs": [],
   "source": []
  },
  {
   "cell_type": "code",
   "execution_count": null,
   "id": "72afedbe",
   "metadata": {},
   "outputs": [],
   "source": []
  },
  {
   "cell_type": "code",
   "execution_count": null,
   "id": "7e50dda9",
   "metadata": {},
   "outputs": [],
   "source": []
  },
  {
   "cell_type": "code",
   "execution_count": null,
   "id": "4436c5dc",
   "metadata": {},
   "outputs": [],
   "source": []
  },
  {
   "cell_type": "code",
   "execution_count": null,
   "id": "29a0b62d",
   "metadata": {},
   "outputs": [],
   "source": []
  },
  {
   "cell_type": "code",
   "execution_count": null,
   "id": "bff1dd0e",
   "metadata": {},
   "outputs": [],
   "source": []
  },
  {
   "cell_type": "code",
   "execution_count": null,
   "id": "703462cd",
   "metadata": {},
   "outputs": [],
   "source": [
    "S = np.corrcoef(dict_corr['correlations'])"
   ]
  },
  {
   "cell_type": "code",
   "execution_count": null,
   "id": "9ea11d2c",
   "metadata": {},
   "outputs": [],
   "source": [
    "from sklearn.cluster import KMeans\n",
    "kmeans_kwargs = {'n_clusters': 8, 'init': 'k-means++', 'max_iter': 300, 'n_init': 100}\n",
    "kmeans_clusters = KMeans(**kmeans_kwargs)\n",
    "kmeans_clusters.fit(S)\n",
    "labels = kmeans_clusters.labels_"
   ]
  },
  {
   "cell_type": "code",
   "execution_count": null,
   "id": "9a615dd1",
   "metadata": {},
   "outputs": [],
   "source": [
    "import matplotlib.pyplot as plt\n",
    "plt.imshow(S)"
   ]
  },
  {
   "cell_type": "code",
   "execution_count": null,
   "id": "fd8039e9",
   "metadata": {},
   "outputs": [],
   "source": [
    "idx_sort = np.argsort(labels)"
   ]
  },
  {
   "cell_type": "code",
   "execution_count": null,
   "id": "9054dace",
   "metadata": {},
   "outputs": [],
   "source": [
    "S_reordered = S[idx_sort,:]\n",
    "S_reordered = S_reordered[:,idx_sort]"
   ]
  },
  {
   "cell_type": "code",
   "execution_count": null,
   "id": "a6cb092f",
   "metadata": {},
   "outputs": [],
   "source": [
    "import matplotlib.pyplot as plt\n",
    "plt.imshow(S_reordered);"
   ]
  },
  {
   "cell_type": "code",
   "execution_count": null,
   "id": "40302250",
   "metadata": {},
   "outputs": [],
   "source": []
  },
  {
   "cell_type": "code",
   "execution_count": null,
   "id": "5797aaa1",
   "metadata": {},
   "outputs": [],
   "source": []
  },
  {
   "cell_type": "code",
   "execution_count": null,
   "id": "fc627dd4",
   "metadata": {},
   "outputs": [],
   "source": []
  },
  {
   "cell_type": "code",
   "execution_count": null,
   "id": "8efe55ec",
   "metadata": {},
   "outputs": [],
   "source": []
  },
  {
   "cell_type": "code",
   "execution_count": null,
   "id": "ff808672",
   "metadata": {},
   "outputs": [],
   "source": []
  },
  {
   "cell_type": "code",
   "execution_count": null,
   "id": "29e3b32b",
   "metadata": {},
   "outputs": [],
   "source": [
    "group_labels, indiv_labels_relabeled = fc_parcellation.group_clustering(subject_labels)"
   ]
  },
  {
   "cell_type": "code",
   "execution_count": null,
   "id": "59e0b0e4",
   "metadata": {},
   "outputs": [],
   "source": [
    "indiv_labels_relabeled.shape"
   ]
  },
  {
   "cell_type": "code",
   "execution_count": null,
   "id": "d1e500a5",
   "metadata": {},
   "outputs": [],
   "source": [
    "fc_parcellation.prepare_seed_map(group_labels)"
   ]
  },
  {
   "cell_type": "code",
   "execution_count": null,
   "id": "41ed29a7",
   "metadata": {},
   "outputs": [],
   "source": [
    "import matplotlib.pyplot as plt\n",
    "from matplotlib.pyplot import figure\n",
    "figure(figsize=(8, 6), dpi=80)\n",
    "plt.imshow(subject_labels, interpolation='nearest', aspect='auto');"
   ]
  },
  {
   "cell_type": "code",
   "execution_count": null,
   "id": "bf7bddb3",
   "metadata": {},
   "outputs": [],
   "source": [
    "figure(figsize=(8, 6), dpi=80)\n",
    "plt.imshow(indiv_labels_relabeled, interpolation='nearest', aspect='auto');"
   ]
  },
  {
   "cell_type": "code",
   "execution_count": null,
   "id": "1d5694ab",
   "metadata": {},
   "outputs": [],
   "source": [
    "plt.imshow(group_labels);"
   ]
  },
  {
   "cell_type": "code",
   "execution_count": null,
   "id": "994321a1",
   "metadata": {},
   "outputs": [],
   "source": []
  },
  {
   "cell_type": "code",
   "execution_count": null,
   "id": "ce201e41",
   "metadata": {},
   "outputs": [],
   "source": []
  },
  {
   "cell_type": "code",
   "execution_count": null,
   "id": "e0724fee",
   "metadata": {},
   "outputs": [],
   "source": [
    "fc_parcellation.compute_voxelwise_correlation(load_from_file=False, save_results=False, mask_source_path=config['main_dir']+config['masks']['spinalcord'],mask_target_path=config['main_dir']+config['masks']['brain'])"
   ]
  },
  {
   "cell_type": "code",
   "execution_count": null,
   "id": "09555888",
   "metadata": {},
   "outputs": [],
   "source": [
    "fc_parcellation.define_n_clusters(range(4,50))"
   ]
  },
  {
   "cell_type": "code",
   "execution_count": null,
   "id": "3783b5c0",
   "metadata": {},
   "outputs": [],
   "source": [
    "fc_parcellation.run_clustering(8,algorithm='kmeans')"
   ]
  },
  {
   "cell_type": "code",
   "execution_count": null,
   "id": "be179b2c",
   "metadata": {},
   "outputs": [],
   "source": [
    "fc_parcellation.prepare_seed_map()"
   ]
  },
  {
   "cell_type": "code",
   "execution_count": null,
   "id": "1de6f175",
   "metadata": {},
   "outputs": [],
   "source": [
    "fc_parcellation.prepare_target_maps()"
   ]
  },
  {
   "cell_type": "code",
   "execution_count": null,
   "id": "a8402713",
   "metadata": {},
   "outputs": [],
   "source": [
    "fc_parcellation.run_clustering(13,algorithm='kmeans')"
   ]
  },
  {
   "cell_type": "code",
   "execution_count": null,
   "id": "75ae8276",
   "metadata": {},
   "outputs": [],
   "source": [
    "fc_parcellation.prepare_seed_map()"
   ]
  },
  {
   "cell_type": "code",
   "execution_count": null,
   "id": "cccab738",
   "metadata": {},
   "outputs": [],
   "source": [
    "fc_parcellation.prepare_target_maps()"
   ]
  },
  {
   "cell_type": "code",
   "execution_count": null,
   "id": "22671ee9",
   "metadata": {},
   "outputs": [],
   "source": [
    "A = np.array([0,2,43,4,2,3,4,2,3])"
   ]
  },
  {
   "cell_type": "code",
   "execution_count": null,
   "id": "8f56c09c",
   "metadata": {},
   "outputs": [],
   "source": [
    "std = A.std(axis=0)\n",
    "A = A/ std"
   ]
  },
  {
   "cell_type": "code",
   "execution_count": null,
   "id": "d9ee7507",
   "metadata": {},
   "outputs": [],
   "source": [
    "A.std(axis=0)"
   ]
  },
  {
   "cell_type": "code",
   "execution_count": null,
   "id": "4f61f8b5",
   "metadata": {},
   "outputs": [],
   "source": []
  }
 ],
 "metadata": {
  "kernelspec": {
   "display_name": "Python 3 (ipykernel)",
   "language": "python",
   "name": "python3"
  },
  "language_info": {
   "codemirror_mode": {
    "name": "ipython",
    "version": 3
   },
   "file_extension": ".py",
   "mimetype": "text/x-python",
   "name": "python",
   "nbconvert_exporter": "python",
   "pygments_lexer": "ipython3",
   "version": "3.9.12"
  }
 },
 "nbformat": 4,
 "nbformat_minor": 5
}
