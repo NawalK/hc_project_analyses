{
 "cells": [
  {
   "cell_type": "markdown",
   "metadata": {},
   "source": [
    "# <font color=black> Analysis - Resting state duration in the spinal cord </font>\n",
    "<hr style=\"border:1px solid black\">"
   ]
  },
  {
   "cell_type": "markdown",
   "metadata": {},
   "source": [
    "**The goal of this analysis is to investigate the reproducibility of spinal networks extracted using different resting state duration.**\n",
    "\n",
    "**METHODS CONSIDERED:**\n",
    "- Independent Component Analysis – called `ica` in this script\n",
    "- Innovation-driven CoActivation Pattern analysis – called `icap` in this script\n",
    "\n",
    "**DATASETS:**\n",
    "- A dataset covering C1 to C8 spinal levels, with a resolution of 1.6x1.6x4mm<sup>3</sup>  and a TR of 1.55s – called `mtl` in this script\n",
    "- A dataset covering C5 to C8 spinal levels, with a resolution of 1x1x3mm<sup>3</sup> and a TR of 2.5s – called `gva` in this script\n",
    "\n",
    "**DURATION CONSIDERED:**\n",
    "- mtl: 1,2,3,4 and 5 minutes + 6 minutes as the reference  \n",
    "- gva: 1,2,3,4,5,6,9 and 12 minutes + 15 minutes as the reference  \n",
    "\n",
    "**ANALYSES:**\n",
    "- _**Qualitative:**_ matching & visualization of one or two set(s) of components\n",
    "- _**Quantitative:**_Analysis of spatial similarity (for a single K, or across multiple Ks)\n",
    "    "
   ]
  },
  {
   "cell_type": "code",
   "execution_count": 62,
   "metadata": {},
   "outputs": [
    {
     "name": "stdout",
     "output_type": "stream",
     "text": [
      "The autoreload extension is already loaded. To reload it, use:\n",
      "  %reload_ext autoreload\n"
     ]
    }
   ],
   "source": [
    "import sys,json\n",
    "\n",
    "sys.path.append('/cerebro/cerebro1/dataset/bmpd/derivatives/HealthyControls_project/hc_project_analyses/code/')\n",
    "\n",
    "from plotting import Plotting\n",
    "from spine_only_analysis_RSduration import SpineOnlyAnalysis\n",
    "\n",
    "%matplotlib inline\n",
    "%load_ext autoreload\n",
    "%autoreload 2"
   ]
  },
  {
   "cell_type": "markdown",
   "metadata": {},
   "source": [
    "# Initialization"
   ]
  },
  {
   "cell_type": "markdown",
   "metadata": {},
   "source": [
    "### Load configuration file "
   ]
  },
  {
   "cell_type": "code",
   "execution_count": 73,
   "metadata": {},
   "outputs": [],
   "source": [
    "# Load the config files with all informations (i.e., all datasets, methods, etc.)\n",
    "with open('../config/config_spine_only_CL.json') as config_file:\n",
    "    config = json.load(config_file)"
   ]
  },
  {
   "cell_type": "markdown",
   "metadata": {},
   "source": [
    "# Qualitative evaluation"
   ]
  },
  {
   "cell_type": "markdown",
   "metadata": {},
   "source": [
    "### Create instance of class"
   ]
  },
  {
   "cell_type": "raw",
   "metadata": {},
   "source": [
    "# Define parameters for the dataset to visualize\n",
    "# Note: it is possible to look at a single dataset (in that case, just define params1), or to compare two (in that case, also add params2)\n",
    "# Each param dict has 3 values: k, dataset and analysis\n",
    "params_qual_1 = {'k':9, 'dataset':'mtl', 'analysis':'ica'}\n",
    "params_qual_2 = {'k':9, 'dataset':'mtl', 'analysis':'icap'}\n",
    "\n",
    "plotting = Plotting(config,'spinalcord',params1=params_qual_1,params2=params_qual_2)"
   ]
  },
  {
   "cell_type": "markdown",
   "metadata": {},
   "source": [
    "### Visualizing components\n",
    "_Note: the component numbers refer to the ones of the original datasets (i.e., before any type of reordering)_"
   ]
  },
  {
   "cell_type": "raw",
   "metadata": {},
   "source": [
    "plotting.sc_plot(show_spinal_levels=False, k_per_line=8, lthresh=1.5, uthresh=3, save_results=True)"
   ]
  },
  {
   "cell_type": "markdown",
   "metadata": {},
   "source": [
    "# Quantitative analyses"
   ]
  },
  {
   "cell_type": "markdown",
   "metadata": {},
   "source": [
    "## Within-dataset comparison"
   ]
  },
  {
   "cell_type": "markdown",
   "metadata": {},
   "source": [
    "### `GVA` dataset"
   ]
  },
  {
   "cell_type": "markdown",
   "metadata": {},
   "source": [
    "### Instantiate class\n",
    "Note: the idea is to load all the possible K only once when instantiating the class"
   ]
  },
  {
   "cell_type": "code",
   "execution_count": 74,
   "metadata": {},
   "outputs": [
    {
     "data": {
      "text/plain": [
       "[1, 2, 3, 4, 5]"
      ]
     },
     "execution_count": 74,
     "metadata": {},
     "output_type": "execute_result"
    }
   ],
   "source": [
    "t_range"
   ]
  },
  {
   "cell_type": "code",
   "execution_count": 94,
   "metadata": {},
   "outputs": [],
   "source": [
    "# Define parameters for the datasets to compare\n",
    "# Each param dict has 3 values: k_range, dataset and analysis\n",
    "dataset=\"gva\"\n",
    "t_range=config[ \"ica_ana\"][\"rs_duration\"][dataset]\n",
    "params_quant_gva_1 = {'k_range':range(5,6),'dataset':dataset, 'analysis':\"ica\",'t_range':None}\n",
    "params_quant_gva_2 = {'k_range':range(5,6), 'dataset':dataset, 'analysis':\"ica_duration\", 't_range': t_range}\n",
    "\n",
    "spine_analysis_gva = SpineOnlyAnalysis(config,params1=params_quant_gva_1,params2=params_quant_gva_2)"
   ]
  },
  {
   "cell_type": "markdown",
   "metadata": {},
   "source": [
    "### Analyze spatial similarity\n",
    "**Spatial similarity can be explored in two different ways:**\n",
    "1. To obtain a similarity matrix for a particular K per condition\n",
    "> In that case, pass `k1` (and `k2`if different) as arguments <br>\n",
    "2. To look at the evolution of the mean similarity across different Ks\n",
    "> In that case, pass `k_range` as argument"
   ]
  },
  {
   "cell_type": "markdown",
   "metadata": {},
   "source": [
    "#### Matching is not great for low K, but good otherwise"
   ]
  },
  {
   "cell_type": "code",
   "execution_count": 92,
   "metadata": {},
   "outputs": [],
   "source": [
    "# Load the config files with all informations (i.e., all datasets, methods, etc.)\n",
    "with open('../config/config_spine_only_CL.json') as config_file:\n",
    "    config = json.load(config_file)"
   ]
  },
  {
   "cell_type": "code",
   "execution_count": 95,
   "metadata": {},
   "outputs": [
    {
     "name": "stdout",
     "output_type": "stream",
     "text": [
      "METHOD 3: Comparing different sets of components at specific K values\n",
      "... Computing similarity for K=5 between t=1 min and t=15 min\n",
      "... Computing similarity for K=5 between t=2 min and t=15 min\n",
      "... Computing similarity for K=5 between t=3 min and t=15 min\n",
      "... Computing similarity for K=5 between t=4 min and t=15 min\n",
      "... Computing similarity for K=5 between t=5 min and t=15 min\n",
      "... Computing similarity for K=5 between t=6 min and t=15 min\n",
      "... Computing similarity for K=5 between t=9 min and t=15 min\n"
     ]
    },
    {
     "data": {
      "image/png": "[encoded data removed]",
      "text/plain": [
       "<Figure size 720x288 with 1 Axes>"
      ]
     },
     "metadata": {
      "needs_background": "light"
     },
     "output_type": "display_data"
    }
   ],
   "source": [
    "# Similarity has been computed using 'Dice', but 'Cosine' or 'Euclidean distance' could be used instad\n",
    "spine_analysis_gva.spatial_similarity(k1=5,t_range1=15,t_range2=t_range,similarity_method='Dice')"
   ]
  },
  {
   "cell_type": "code",
   "execution_count": 57,
   "metadata": {},
   "outputs": [
    {
     "name": "stdout",
     "output_type": "stream",
     "text": [
      "METHOD 1: Comparing two sets of components at specific K values \n",
      "mtl_ica at K = 20 vs mtl_ica_duration at K = 20 \n",
      "\n"
     ]
    },
    {
     "ename": "KeyError",
     "evalue": "20",
     "output_type": "error",
     "traceback": [
      "\u001b[0;31m---------------------------------------------------------------------------\u001b[0m",
      "\u001b[0;31mKeyError\u001b[0m                                  Traceback (most recent call last)",
      "\u001b[0;32m<ipython-input-57-e5fe0a983143>\u001b[0m in \u001b[0;36m<module>\u001b[0;34m\u001b[0m\n\u001b[0;32m----> 1\u001b[0;31m \u001b[0mspine_analysis_gva\u001b[0m\u001b[0;34m.\u001b[0m\u001b[0mspatial_similarity\u001b[0m\u001b[0;34m(\u001b[0m\u001b[0mk1\u001b[0m\u001b[0;34m=\u001b[0m\u001b[0;36m20\u001b[0m\u001b[0;34m,\u001b[0m\u001b[0msimilarity_method\u001b[0m\u001b[0;34m=\u001b[0m\u001b[0;34m'Dice'\u001b[0m\u001b[0;34m)\u001b[0m\u001b[0;34m\u001b[0m\u001b[0;34m\u001b[0m\u001b[0m\n\u001b[0m",
      "\u001b[0;32m/cerebro/cerebro1/dataset/bmpd/derivatives/HealthyControls_project/hc_project_analyses/code/spine_only_analysis_RSduration.py\u001b[0m in \u001b[0;36mspatial_similarity\u001b[0;34m(self, k1, k2, k_range, t_range1, t_range2, similarity_method, sorting_method, save_results, verbose)\u001b[0m\n\u001b[1;32m    112\u001b[0m         \u001b[0;32mif\u001b[0m \u001b[0mmethod\u001b[0m \u001b[0;34m==\u001b[0m \u001b[0;36m1\u001b[0m\u001b[0;34m:\u001b[0m\u001b[0;34m\u001b[0m\u001b[0;34m\u001b[0m\u001b[0m\n\u001b[1;32m    113\u001b[0m             \u001b[0mprint\u001b[0m\u001b[0;34m(\u001b[0m\u001b[0;34mf'METHOD 1: Comparing two sets of components at specific K values \\n{self.name1} at K = {k1} vs {self.name2} at K = {k2} \\n'\u001b[0m\u001b[0;34m)\u001b[0m\u001b[0;34m\u001b[0m\u001b[0;34m\u001b[0m\u001b[0m\n\u001b[0;32m--> 114\u001b[0;31m             \u001b[0mmap_order\u001b[0m \u001b[0;34m=\u001b[0m \u001b[0msort_maps\u001b[0m\u001b[0;34m(\u001b[0m\u001b[0mself\u001b[0m\u001b[0;34m.\u001b[0m\u001b[0mdata\u001b[0m\u001b[0;34m[\u001b[0m\u001b[0mself\u001b[0m\u001b[0;34m.\u001b[0m\u001b[0mname1\u001b[0m\u001b[0;34m]\u001b[0m\u001b[0;34m[\u001b[0m\u001b[0mk1\u001b[0m\u001b[0;34m]\u001b[0m\u001b[0;34m,\u001b[0m \u001b[0msorting_method\u001b[0m\u001b[0;34m=\u001b[0m\u001b[0msorting_method\u001b[0m\u001b[0;34m)\u001b[0m \u001b[0;31m# The 1st dataset is sorted\u001b[0m\u001b[0;34m\u001b[0m\u001b[0;34m\u001b[0m\u001b[0m\n\u001b[0m\u001b[1;32m    115\u001b[0m             \u001b[0mdata_sorted\u001b[0m \u001b[0;34m=\u001b[0m \u001b[0mself\u001b[0m\u001b[0;34m.\u001b[0m\u001b[0mdata\u001b[0m\u001b[0;34m[\u001b[0m\u001b[0mself\u001b[0m\u001b[0;34m.\u001b[0m\u001b[0mname1\u001b[0m\u001b[0;34m]\u001b[0m\u001b[0;34m[\u001b[0m\u001b[0mk1\u001b[0m\u001b[0;34m]\u001b[0m\u001b[0;34m[\u001b[0m\u001b[0;34m:\u001b[0m\u001b[0;34m,\u001b[0m\u001b[0;34m:\u001b[0m\u001b[0;34m,\u001b[0m\u001b[0;34m:\u001b[0m\u001b[0;34m,\u001b[0m\u001b[0mmap_order\u001b[0m\u001b[0;34m]\u001b[0m\u001b[0;34m\u001b[0m\u001b[0;34m\u001b[0m\u001b[0m\n\u001b[1;32m    116\u001b[0m \u001b[0;34m\u001b[0m\u001b[0m\n",
      "\u001b[0;31mKeyError\u001b[0m: 20"
     ]
    }
   ],
   "source": [
    "spine_analysis_gva.spatial_similarity(k1=20,similarity_method='Dice')"
   ]
  },
  {
   "cell_type": "markdown",
   "metadata": {},
   "source": [
    "### Investigate axial distribution for different Ks"
   ]
  },
  {
   "cell_type": "markdown",
   "metadata": {},
   "source": [
    "### `ICA` method"
   ]
  },
  {
   "cell_type": "markdown",
   "metadata": {},
   "source": [
    "### Instantiate class"
   ]
  },
  {
   "cell_type": "markdown",
   "metadata": {},
   "source": [
    "### Instantiate class"
   ]
  },
  {
   "cell_type": "code",
   "execution_count": 236,
   "metadata": {},
   "outputs": [],
   "source": [
    "# Define parameters for the datasets to compare\n",
    "# Each param dict has 3 values: k_range, dataset and analysis\n",
    "params_quant_icap_1 = {'k_range':range(4,41), 'dataset':'gva', 'analysis':'icap'}\n",
    "params_quant_icap_2 = {'k_range':range(4,41), 'dataset':'mtl', 'analysis':'icap'}\n",
    "\n",
    "spine_analysis_icap = SpineOnlyAnalysis(config,params1=params_quant_icap_1,params2=params_quant_icap_2)"
   ]
  },
  {
   "cell_type": "markdown",
   "metadata": {},
   "source": [
    "### Analyze spatial similarity"
   ]
  },
  {
   "cell_type": "markdown",
   "metadata": {},
   "source": [
    "#### Not great for low K, good for high K"
   ]
  },
  {
   "cell_type": "code",
   "execution_count": 237,
   "metadata": {},
   "outputs": [
    {
     "name": "stdout",
     "output_type": "stream",
     "text": [
      "METHOD 1: Comparing two sets of components at specific K values \n",
      "gva_icap at K = 4 vs mtl_icap at K = 8 \n",
      "\n",
      "The mean similarity is 0.65\n"
     ]
    },
    {
     "data": {
      "image/png": "[encoded data removed]",
      "text/plain": [
       "<Figure size 504x504 with 2 Axes>"
      ]
     },
     "metadata": {
      "needs_background": "light"
     },
     "output_type": "display_data"
    }
   ],
   "source": [
    "spine_analysis_icap.spatial_similarity(k1=4,k2=8,similarity_method='Dice')"
   ]
  },
  {
   "cell_type": "code",
   "execution_count": 238,
   "metadata": {},
   "outputs": [
    {
     "name": "stdout",
     "output_type": "stream",
     "text": [
      "METHOD 1: Comparing two sets of components at specific K values \n",
      "gva_icap at K = 20 vs mtl_icap at K = 40 \n",
      "\n",
      "The mean similarity is 0.54\n"
     ]
    },
    {
     "data": {
      "image/png": "[encoded data removed]",
      "text/plain": [
       "<Figure size 504x504 with 2 Axes>"
      ]
     },
     "metadata": {
      "needs_background": "light"
     },
     "output_type": "display_data"
    }
   ],
   "source": [
    "spine_analysis_icap.spatial_similarity(k1=20,k2=40,similarity_method='Dice')"
   ]
  },
  {
   "cell_type": "code",
   "execution_count": null,
   "metadata": {},
   "outputs": [],
   "source": []
  },
  {
   "cell_type": "code",
   "execution_count": null,
   "metadata": {},
   "outputs": [],
   "source": []
  }
 ],
 "metadata": {
  "kernelspec": {
   "display_name": "Python 3",
   "language": "python",
   "name": "python3"
  },
  "language_info": {
   "codemirror_mode": {
    "name": "ipython",
    "version": 3
   },
   "file_extension": ".py",
   "mimetype": "text/x-python",
   "name": "python",
   "nbconvert_exporter": "python",
   "pygments_lexer": "ipython3",
   "version": "3.6.9"
  }
 },
 "nbformat": 4,
 "nbformat_minor": 5
}
