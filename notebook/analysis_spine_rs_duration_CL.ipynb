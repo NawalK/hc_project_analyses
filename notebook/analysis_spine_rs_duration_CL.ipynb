{
 "cells": [
  {
   "cell_type": "markdown",
   "metadata": {},
   "source": [
    "# <font color=black> Analysis - Resting state duration in the spinal cord </font>\n",
    "<hr style=\"border:1px solid black\">"
   ]
  },
  {
   "cell_type": "markdown",
   "metadata": {},
   "source": [
    "**The goal of this analysis is to investigate the reproducibility of spinal networks extracted using different resting state duration.**\n",
    "\n",
    "**METHODS CONSIDERED:**\n",
    "- Independent Component Analysis – called `ica` in this script\n",
    "- Innovation-driven CoActivation Pattern analysis – called `icap` in this script\n",
    "\n",
    "**DATASETS:**\n",
    "- A dataset covering C1 to C8 spinal levels, with a resolution of 1.6x1.6x4mm<sup>3</sup>  and a TR of 1.55s – called `mtl` in this script\n",
    "- A dataset covering C5 to C8 spinal levels, with a resolution of 1x1x3mm<sup>3</sup> and a TR of 2.5s – called `gva` in this script\n",
    "\n",
    "**DURATION CONSIDERED:**\n",
    "- mtl: 1,2,3,4 and 5 minutes + 6 minutes as the reference  \n",
    "- gva: 1,2,3,4,5,6,9 and 12 minutes + 15 minutes as the reference  \n",
    "\n",
    "**ANALYSES:**\n",
    "- _**Qualitative:**_ matching & visualization of one or two set(s) of components\n",
    "- _**Quantitative:**_Analysis of spatial similarity (for a single K, or across multiple Ks)\n",
    "    "
   ]
  },
  {
   "cell_type": "code",
   "execution_count": 1,
   "metadata": {},
   "outputs": [
    {
     "name": "stderr",
     "output_type": "stream",
     "text": [
      "/cerebro/cerebro1/dataset/bmpd/derivatives/thibault_test/code/toolbox/bmpd_python/lib/python3.6/site-packages/nilearn/__init__.py:69: FutureWarning: Python 3.6 support is deprecated and will be removed in release 0.10 of Nilearn. Consider switching to Python 3.8 or 3.9.\n",
      "  _python_deprecation_warnings()\n"
     ]
    }
   ],
   "source": [
    "import sys,json, glob\n",
    "import pandas as pd\n",
    "sys.path.append('/cerebro/cerebro1/dataset/bmpd/derivatives/HealthyControls_project/hc_project_analyses/code/')\n",
    "\n",
    "from plotting import Plotting\n",
    "from spine_only_analysis import SpineOnlyAnalysis\n",
    "\n",
    "%matplotlib inline\n",
    "%load_ext autoreload\n",
    "%autoreload 2"
   ]
  },
  {
   "cell_type": "markdown",
   "metadata": {},
   "source": [
    "# Initialization"
   ]
  },
  {
   "cell_type": "markdown",
   "metadata": {},
   "source": [
    "### Load configuration file "
   ]
  },
  {
   "cell_type": "code",
   "execution_count": 2,
   "metadata": {},
   "outputs": [],
   "source": [
    "# Load the config files with all informations (i.e., all datasets, methods, etc.)\n",
    "with open('../config/config_spine_only_CL.json') as config_file:\n",
    "    config = json.load(config_file)"
   ]
  },
  {
   "cell_type": "markdown",
   "metadata": {},
   "source": [
    "# <font color=#00988c> I. Qualitative evaluation\n",
    "### <font color=#00988c> I.1  </font> Visualizing gva components: each duration and analysis "
   ]
  },
  {
   "cell_type": "code",
   "execution_count": 3,
   "metadata": {},
   "outputs": [
    {
     "ename": "IndexError",
     "evalue": "list index out of range",
     "output_type": "error",
     "traceback": [
      "\u001b[0;31m---------------------------------------------------------------------------\u001b[0m",
      "\u001b[0;31mIndexError\u001b[0m                                Traceback (most recent call last)",
      "\u001b[0;32m<ipython-input-3-f52e7bb96813>\u001b[0m in \u001b[0;36m<module>\u001b[0;34m\u001b[0m\n\u001b[1;32m     12\u001b[0m     \u001b[0;31m#plotting = Plotting(config,'spinalcord',params1=params_qual_1,params2=None)\u001b[0m\u001b[0;34m\u001b[0m\u001b[0;34m\u001b[0m\u001b[0;34m\u001b[0m\u001b[0m\n\u001b[1;32m     13\u001b[0m     \u001b[0;31m#plotting.sc_plot(show_spinal_levels=False, k_per_line=params_qual_1[\"k\"], lthresh=1.5, uthresh=3, save_results=True)\u001b[0m\u001b[0;34m\u001b[0m\u001b[0;34m\u001b[0m\u001b[0;34m\u001b[0m\u001b[0m\n\u001b[0;32m---> 14\u001b[0;31m \u001b[0mplotting\u001b[0m \u001b[0;34m=\u001b[0m \u001b[0mPlotting\u001b[0m\u001b[0;34m(\u001b[0m\u001b[0mconfig\u001b[0m\u001b[0;34m,\u001b[0m\u001b[0;34m'spinalcord'\u001b[0m\u001b[0;34m,\u001b[0m\u001b[0mparams1\u001b[0m\u001b[0;34m=\u001b[0m\u001b[0mparams_qual_1\u001b[0m\u001b[0;34m,\u001b[0m\u001b[0mparams2\u001b[0m\u001b[0;34m=\u001b[0m\u001b[0mparams_qual_2\u001b[0m\u001b[0;34m)\u001b[0m\u001b[0;34m\u001b[0m\u001b[0;34m\u001b[0m\u001b[0m\n\u001b[0m\u001b[1;32m     15\u001b[0m \u001b[0mplotting\u001b[0m\u001b[0;34m.\u001b[0m\u001b[0msc_plot\u001b[0m\u001b[0;34m(\u001b[0m\u001b[0mshow_spinal_levels\u001b[0m\u001b[0;34m=\u001b[0m\u001b[0;32mFalse\u001b[0m\u001b[0;34m,\u001b[0m \u001b[0mk_per_line\u001b[0m\u001b[0;34m=\u001b[0m\u001b[0mparams_qual_1\u001b[0m\u001b[0;34m[\u001b[0m\u001b[0;34m\"k\"\u001b[0m\u001b[0;34m]\u001b[0m\u001b[0;34m,\u001b[0m \u001b[0mlthresh\u001b[0m\u001b[0;34m=\u001b[0m\u001b[0;36m1.5\u001b[0m\u001b[0;34m,\u001b[0m \u001b[0muthresh\u001b[0m\u001b[0;34m=\u001b[0m\u001b[0;36m3\u001b[0m\u001b[0;34m,\u001b[0m \u001b[0msave_results\u001b[0m\u001b[0;34m=\u001b[0m\u001b[0;32mFalse\u001b[0m\u001b[0;34m)\u001b[0m\u001b[0;34m\u001b[0m\u001b[0;34m\u001b[0m\u001b[0m\n",
      "\u001b[0;32m/cerebro/cerebro1/dataset/bmpd/derivatives/HealthyControls_project/hc_project_analyses/code/plotting.py\u001b[0m in \u001b[0;36m__init__\u001b[0;34m(self, config, region, params1, params2, sorting_method)\u001b[0m\n\u001b[1;32m     85\u001b[0m             \u001b[0;32mif\u001b[0m \u001b[0mself\u001b[0m\u001b[0;34m.\u001b[0m\u001b[0manalysis\u001b[0m\u001b[0;34m[\u001b[0m\u001b[0mset\u001b[0m\u001b[0;34m]\u001b[0m\u001b[0;34m==\u001b[0m\u001b[0;34m\"icap_duration\"\u001b[0m \u001b[0;32mor\u001b[0m \u001b[0mself\u001b[0m\u001b[0;34m.\u001b[0m\u001b[0manalysis\u001b[0m\u001b[0;34m[\u001b[0m\u001b[0mset\u001b[0m\u001b[0;34m]\u001b[0m\u001b[0;34m==\u001b[0m\u001b[0;34m\"ica_duration\"\u001b[0m \u001b[0;32mand\u001b[0m \u001b[0mself\u001b[0m\u001b[0;34m.\u001b[0m\u001b[0mduration\u001b[0m\u001b[0;34m[\u001b[0m\u001b[0mset\u001b[0m\u001b[0;34m]\u001b[0m \u001b[0;34m!=\u001b[0m \u001b[0;32mNone\u001b[0m \u001b[0;32mand\u001b[0m \u001b[0mself\u001b[0m\u001b[0;34m.\u001b[0m\u001b[0msubject\u001b[0m\u001b[0;34m[\u001b[0m\u001b[0mset\u001b[0m\u001b[0;34m]\u001b[0m \u001b[0;34m==\u001b[0m \u001b[0;32mNone\u001b[0m\u001b[0;34m:\u001b[0m\u001b[0;34m\u001b[0m\u001b[0;34m\u001b[0m\u001b[0m\n\u001b[1;32m     86\u001b[0m                 \u001b[0;31m#print(self.config['main_dir']+self.config['data'][self.dataset[set]][self.analysis[set]][self.region]['dir'] + self.duration[set]  + '/K_' + str(self.k[set]) + '/comp_zscored/*' + self.config['data'][self.dataset[set]][self.analysis[set]][self.region][\"tag_filename\"] + '*')\u001b[0m\u001b[0;34m\u001b[0m\u001b[0;34m\u001b[0m\u001b[0;34m\u001b[0m\u001b[0m\n\u001b[0;32m---> 87\u001b[0;31m                 \u001b[0mself\u001b[0m\u001b[0;34m.\u001b[0m\u001b[0mdata\u001b[0m\u001b[0;34m[\u001b[0m\u001b[0mset\u001b[0m\u001b[0;34m]\u001b[0m \u001b[0;34m=\u001b[0m\u001b[0mnib\u001b[0m\u001b[0;34m.\u001b[0m\u001b[0mload\u001b[0m\u001b[0;34m(\u001b[0m\u001b[0mglob\u001b[0m\u001b[0;34m.\u001b[0m\u001b[0mglob\u001b[0m\u001b[0;34m(\u001b[0m\u001b[0mself\u001b[0m\u001b[0;34m.\u001b[0m\u001b[0mconfig\u001b[0m\u001b[0;34m[\u001b[0m\u001b[0;34m'main_dir'\u001b[0m\u001b[0;34m]\u001b[0m\u001b[0;34m+\u001b[0m\u001b[0mself\u001b[0m\u001b[0;34m.\u001b[0m\u001b[0mconfig\u001b[0m\u001b[0;34m[\u001b[0m\u001b[0;34m'data'\u001b[0m\u001b[0;34m]\u001b[0m\u001b[0;34m[\u001b[0m\u001b[0mself\u001b[0m\u001b[0;34m.\u001b[0m\u001b[0mdataset\u001b[0m\u001b[0;34m[\u001b[0m\u001b[0mset\u001b[0m\u001b[0;34m]\u001b[0m\u001b[0;34m]\u001b[0m\u001b[0;34m[\u001b[0m\u001b[0mself\u001b[0m\u001b[0;34m.\u001b[0m\u001b[0manalysis\u001b[0m\u001b[0;34m[\u001b[0m\u001b[0mset\u001b[0m\u001b[0;34m]\u001b[0m\u001b[0;34m]\u001b[0m\u001b[0;34m[\u001b[0m\u001b[0mself\u001b[0m\u001b[0;34m.\u001b[0m\u001b[0mregion\u001b[0m\u001b[0;34m]\u001b[0m\u001b[0;34m[\u001b[0m\u001b[0;34m'dir'\u001b[0m\u001b[0;34m]\u001b[0m \u001b[0;34m+\u001b[0m \u001b[0mself\u001b[0m\u001b[0;34m.\u001b[0m\u001b[0mduration\u001b[0m\u001b[0;34m[\u001b[0m\u001b[0mset\u001b[0m\u001b[0;34m]\u001b[0m  \u001b[0;34m+\u001b[0m \u001b[0;34m'/K_'\u001b[0m \u001b[0;34m+\u001b[0m \u001b[0mstr\u001b[0m\u001b[0;34m(\u001b[0m\u001b[0mself\u001b[0m\u001b[0;34m.\u001b[0m\u001b[0mk\u001b[0m\u001b[0;34m[\u001b[0m\u001b[0mset\u001b[0m\u001b[0;34m]\u001b[0m\u001b[0;34m)\u001b[0m \u001b[0;34m+\u001b[0m \u001b[0;34m'/comp_zscored/*'\u001b[0m \u001b[0;34m+\u001b[0m \u001b[0mself\u001b[0m\u001b[0;34m.\u001b[0m\u001b[0mconfig\u001b[0m\u001b[0;34m[\u001b[0m\u001b[0;34m'data'\u001b[0m\u001b[0;34m]\u001b[0m\u001b[0;34m[\u001b[0m\u001b[0mself\u001b[0m\u001b[0;34m.\u001b[0m\u001b[0mdataset\u001b[0m\u001b[0;34m[\u001b[0m\u001b[0mset\u001b[0m\u001b[0;34m]\u001b[0m\u001b[0;34m]\u001b[0m\u001b[0;34m[\u001b[0m\u001b[0mself\u001b[0m\u001b[0;34m.\u001b[0m\u001b[0manalysis\u001b[0m\u001b[0;34m[\u001b[0m\u001b[0mset\u001b[0m\u001b[0;34m]\u001b[0m\u001b[0;34m]\u001b[0m\u001b[0;34m[\u001b[0m\u001b[0mself\u001b[0m\u001b[0;34m.\u001b[0m\u001b[0mregion\u001b[0m\u001b[0;34m]\u001b[0m\u001b[0;34m[\u001b[0m\u001b[0;34m\"tag_filename\"\u001b[0m\u001b[0;34m]\u001b[0m \u001b[0;34m+\u001b[0m \u001b[0;34m'*'\u001b[0m\u001b[0;34m)\u001b[0m\u001b[0;34m[\u001b[0m\u001b[0;36m0\u001b[0m\u001b[0;34m]\u001b[0m\u001b[0;34m)\u001b[0m\u001b[0;34m.\u001b[0m\u001b[0mget_fdata\u001b[0m\u001b[0;34m(\u001b[0m\u001b[0;34m)\u001b[0m\u001b[0;34m\u001b[0m\u001b[0;34m\u001b[0m\u001b[0m\n\u001b[0m\u001b[1;32m     88\u001b[0m             \u001b[0;32melif\u001b[0m \u001b[0mself\u001b[0m\u001b[0;34m.\u001b[0m\u001b[0mduration\u001b[0m\u001b[0;34m[\u001b[0m\u001b[0mset\u001b[0m\u001b[0;34m]\u001b[0m \u001b[0;34m==\u001b[0m \u001b[0;32mNone\u001b[0m \u001b[0;32mand\u001b[0m \u001b[0mself\u001b[0m\u001b[0;34m.\u001b[0m\u001b[0msubject\u001b[0m\u001b[0;34m[\u001b[0m\u001b[0mset\u001b[0m\u001b[0;34m]\u001b[0m \u001b[0;34m!=\u001b[0m \u001b[0;32mNone\u001b[0m \u001b[0;32mand\u001b[0m \u001b[0mself\u001b[0m\u001b[0;34m.\u001b[0m\u001b[0manalysis\u001b[0m\u001b[0;34m[\u001b[0m\u001b[0mset\u001b[0m\u001b[0;34m]\u001b[0m\u001b[0;34m!=\u001b[0m\u001b[0;34m(\u001b[0m\u001b[0;34m\"icap_duration\"\u001b[0m \u001b[0;32mor\u001b[0m \u001b[0;34m\"ica_duration\"\u001b[0m\u001b[0;34m)\u001b[0m\u001b[0;34m:\u001b[0m\u001b[0;34m\u001b[0m\u001b[0;34m\u001b[0m\u001b[0m\n\u001b[1;32m     89\u001b[0m                 \u001b[0;31m#print(self.config['main_dir']+self.config['data'][self.dataset[set]][self.analysis[set]][self.region]['dir'] + '/K_' + str(self.k[set]) + '/comp_indiv/*' + self.subject[set] + '*' + self.config['data'][self.dataset[set]][self.analysis[set]][self.region][\"tag_filename\"] + '*')\u001b[0m\u001b[0;34m\u001b[0m\u001b[0;34m\u001b[0m\u001b[0;34m\u001b[0m\u001b[0m\n",
      "\u001b[0;31mIndexError\u001b[0m: list index out of range"
     ]
    }
   ],
   "source": [
    "# Define parameters for the dataset to visualize\n",
    "# Note: it is possible to look at a single dataset (in that case, just define params1), or to compare two (in that case, also add params2)\n",
    "# Each param dict has 3 values: k, dataset and analysis\n",
    "dataset=\"gva\"; \n",
    "analysis='ica_duration'\n",
    "config[\"output_dir\"]= \"/ICA/results_spine_only/results/duration_analyses/\" + dataset + \"/maps/\"\n",
    "\n",
    "for duration in config[\"data\"][dataset][analysis][\"spinalcord\"][\"durations\"]:\n",
    "    params_qual_1 = {'k':(9 if dataset == 'mtl' else 5), 'dataset':dataset, 'analysis':analysis,\"duration\": str(duration)+ \"min\"}\n",
    "    params_qual_2 = {'k':(9 if dataset == 'mtl' else 5), 'dataset':dataset, 'analysis':\"ica\"}\n",
    "\n",
    "    #plotting = Plotting(config,'spinalcord',params1=params_qual_1,params2=None)\n",
    "    #plotting.sc_plot(show_spinal_levels=False, k_per_line=params_qual_1[\"k\"], lthresh=1.5, uthresh=3, save_results=True)\n",
    "plotting = Plotting(config,'spinalcord',params1=params_qual_1,params2=params_qual_2)\n",
    "plotting.sc_plot(show_spinal_levels=False, k_per_line=params_qual_1[\"k\"], lthresh=1.5, uthresh=3, save_results=False)"
   ]
  },
  {
   "cell_type": "markdown",
   "metadata": {},
   "source": [
    "### <font color=#00988c> I.2  </font> Visualizing mtl components: each duration and analysis "
   ]
  },
  {
   "cell_type": "code",
   "execution_count": null,
   "metadata": {},
   "outputs": [],
   "source": [
    "# Define parameters for the dataset to visualize\n",
    "# Note: it is possible to look at a single dataset (in that case, just define params1), or to compare two (in that case, also add params2)\n",
    "# Each param dict has 3 values: k, dataset and analysis\n",
    "dataset=\"mtl\"; \n",
    "analysis='icap_duration'\n",
    "config[\"output_dir\"]= \"/ICA/results_spine_only/results/duration_analyses/\" + dataset + \"/maps/\"\n",
    "\n",
    "for duration in config[\"data\"][dataset][analysis][\"spinalcord\"][\"durations\"]:\n",
    "    params_qual_1 = {'k':(9 if dataset == 'mtl' else 5), 'dataset':dataset, 'analysis':analysis,\"duration\": str(duration)+ \"min\"}\n",
    "    #params_qual_2 = {'k':(9 if dataset == 'mtl' else 5), 'dataset':dataset, 'analysis':analysis ,\"duration\":\"12min\"}\n",
    "\n",
    "    #plotting = Plotting(config,'spinalcord',params1=params_qual_1,params2=None)\n",
    "    #plotting.sc_plot(show_spinal_levels=False, k_per_line=params_qual_1[\"k\"], lthresh=1.5, uthresh=3, save_results=True)\n",
    "plotting = Plotting(config,'spinalcord',params1=params_qual_1,params2=None)\n",
    "plotting.sc_plot(show_spinal_levels=False, k_per_line=params_qual_1[\"k\"], lthresh=1.5, uthresh=3, save_results=False)"
   ]
  },
  {
   "cell_type": "markdown",
   "metadata": {},
   "source": [
    "### <font color=#00988c> I.3 </font> Create a video for illustration"
   ]
  },
  {
   "cell_type": "code",
   "execution_count": null,
   "metadata": {},
   "outputs": [],
   "source": [
    "import cv2\n",
    "\n",
    "redo=False # put True for create an other video\n",
    "if redo==True:\n",
    "    dataset=\"gva\"\n",
    "    analysis='icap_duration'\n",
    "    config[\"output_dir\"]= \"/ICA/results_spine_only/results/duration_analyses/\" + dataset + \"/maps/\"\n",
    "\n",
    "    img_array = []\n",
    "    for filename in glob.glob(config[\"main_dir\"] + config[\"output_dir\"] + config[\"output_tag\"] + \"*\"+analysis+\"*.png\"):\n",
    "        img = cv2.imread(filename)\n",
    "        height, width, layers = img.shape\n",
    "        size = (width,height)\n",
    "        img_array.append(img)\n",
    "\n",
    "    out = cv2.VideoWriter(config[\"main_dir\"] + config[\"output_dir\"]  +'Indiv_spinalcord_'+dataset+'_' + analysis + '_movie.avi',cv2.VideoWriter_fourcc(*'MJPG'), 2, size)\n",
    "\n",
    "\n",
    "    for i in range(len(img_array)):\n",
    "        out.write(img_array[i])\n",
    "    out.release()"
   ]
  },
  {
   "cell_type": "markdown",
   "metadata": {},
   "source": [
    "# <font color=#00988c> II. Quantitative analyses\n",
    "### <font color=#00988c>  II.1 </font> Save quantitative measures for each dataset"
   ]
  },
  {
   "cell_type": "code",
   "execution_count": null,
   "metadata": {},
   "outputs": [],
   "source": [
    "\n",
    "dataframe={}\n",
    "extract=True# put extract=True to extract the values \n",
    "for dataset in [\"gva\"]:\n",
    "    dataframe[dataset]={};\n",
    "    for ana in [\"ica_duration\"]:\n",
    "        dataframe[dataset][ana]={};\n",
    "        \n",
    "        for measure in [\"Dice\"]:#,\"EuclideanDistance\"]:\n",
    "            config[\"output_dir\"]= \"/ICA/results_spine_only/results/duration_analyses/\" + dataset + \"/\"+measure +\"/\"\n",
    "            config[\"output_tag\"]= \"Duration\"\n",
    "            if extract==True:\n",
    "                params_quant_1 = {'k_range':(range(9,10) if dataset == 'mtl' else range(5,6)),'dataset':dataset, 'analysis':ana,'t_range':[config[\"data\"][dataset][ana][\"spinalcord\"][\"durations\"][-1]]} \n",
    "                params_quant_2 = {'k_range':(range(9,10) if dataset == 'mtl' else range(5,6)), 'dataset':dataset, 'analysis':ana, 't_range': config[\"data\"][dataset][ana][\"spinalcord\"][\"durations\"]}\n",
    "\n",
    "                spine_analysis = SpineOnlyAnalysis(config,params1=params_quant_1,params2=params_quant_2)\n",
    "\n",
    "                spine_analysis.spatial_similarity(k1=params_quant_1['k_range'][0],t_range1=config[\"data\"][dataset][ana][\"spinalcord\"][\"durations\"][-1],t_range2=config[\"data\"][dataset][ana][\"spinalcord\"][\"durations\"],similarity_method='Dice',\n",
    "                                                  save_results=True,save_figure=True)\n",
    "\n",
    "            input= glob.glob(config[\"main_dir\"] +config[\"output_dir\"] + config[\"output_tag\"] + \"*_\" +ana+ \"_*duration.txt\")[0]\n",
    "            \n",
    "            \n",
    "            dataframe[dataset][ana][measure]=pd.read_csv(input, header=0,sep=' ')\n",
    "         \n",
    "#frames=[dataframe[\"mtl\"][\"ica_duration\"][\"Dice\"],dataframe[\"gva\"][\"ica_duration\"][\"Dice\"],dataframe[\"mtl\"][\"icap_duration\"][\"Dice\"],dataframe[\"gva\"][\"icap_duration\"][\"Dice\"]]; frames=pd.concat(frames)\n"
   ]
  },
  {
   "cell_type": "markdown",
   "metadata": {},
   "source": [
    "### <font color=#00988c>  II.2 </font> Quantative plots"
   ]
  },
  {
   "cell_type": "code",
   "execution_count": 7,
   "metadata": {},
   "outputs": [
    {
     "ename": "NameError",
     "evalue": "name 'frames' is not defined",
     "output_type": "error",
     "traceback": [
      "\u001b[0;31m---------------------------------------------------------------------------\u001b[0m",
      "\u001b[0;31mNameError\u001b[0m                                 Traceback (most recent call last)",
      "\u001b[0;32m<ipython-input-7-c3c3bea8761b>\u001b[0m in \u001b[0;36m<module>\u001b[0;34m\u001b[0m\n\u001b[1;32m      3\u001b[0m \u001b[0msns\u001b[0m\u001b[0;34m.\u001b[0m\u001b[0mset\u001b[0m\u001b[0;34m(\u001b[0m\u001b[0mstyle\u001b[0m\u001b[0;34m=\u001b[0m\u001b[0;34m\"ticks\"\u001b[0m\u001b[0;34m,\u001b[0m  \u001b[0mfont\u001b[0m\u001b[0;34m=\u001b[0m\u001b[0;34m'sans-serif'\u001b[0m\u001b[0;34m)\u001b[0m\u001b[0;34m\u001b[0m\u001b[0;34m\u001b[0m\u001b[0m\n\u001b[1;32m      4\u001b[0m \u001b[0;34m\u001b[0m\u001b[0m\n\u001b[0;32m----> 5\u001b[0;31m g=sns.catplot(y=\"Dice\",x=\"duration\",data=frames,hue=\"analysis\",col=\"dataset\",kind=\"point\",markers=[\"^\", \"o\"],\n\u001b[0m\u001b[1;32m      6\u001b[0m            palette=colors,linewidth=3,edgecolor='white',alpha=1,s=20) #,style=Method\n\u001b[1;32m      7\u001b[0m \u001b[0;34m\u001b[0m\u001b[0m\n",
      "\u001b[0;31mNameError\u001b[0m: name 'frames' is not defined"
     ]
    }
   ],
   "source": [
    "import seaborn as sns\n",
    "colors=['#efb537','#20b5bf'] #'#273248'\n",
    "sns.set(style=\"ticks\",  font='sans-serif')\n",
    "\n",
    "g=sns.catplot(y=\"Dice\",x=\"duration\",data=frames,hue=\"analysis\",col=\"dataset\",kind=\"point\",markers=[\"^\", \"o\"],\n",
    "           palette=colors,linewidth=3,edgecolor='white',alpha=1,s=20) #,style=Method\n",
    "\n",
    "# oupsi rerun duration for gva !\n"
   ]
  },
  {
   "cell_type": "code",
   "execution_count": null,
   "metadata": {},
   "outputs": [],
   "source": []
  }
 ],
 "metadata": {
  "kernelspec": {
   "display_name": "Python 3",
   "language": "python",
   "name": "python3"
  },
  "language_info": {
   "codemirror_mode": {
    "name": "ipython",
    "version": 3
   },
   "file_extension": ".py",
   "mimetype": "text/x-python",
   "name": "python",
   "nbconvert_exporter": "python",
   "pygments_lexer": "ipython3",
   "version": "3.6.9"
  }
 },
 "nbformat": 4,
 "nbformat_minor": 5
}
