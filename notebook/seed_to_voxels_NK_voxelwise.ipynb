{
 "cells": [
  {
   "cell_type": "markdown",
   "id": "a80fb8f3",
   "metadata": {},
   "source": [
    "# Voxel-to-voxel correlation maps\n",
    "### This notebook is used to build the connectivity matrix required by CBP Tools"
   ]
  },
  {
   "cell_type": "markdown",
   "id": "af18d097",
   "metadata": {},
   "source": [
    "## <font color=009DD2> <span style=\"background-color: #A9C4C0\"> Imports"
   ]
  },
  {
   "cell_type": "code",
   "execution_count": 194,
   "id": "75af82ae",
   "metadata": {},
   "outputs": [
    {
     "name": "stdout",
     "output_type": "stream",
     "text": [
      "The autoreload extension is already loaded. To reload it, use:\n",
      "  %reload_ext autoreload\n"
     ]
    }
   ],
   "source": [
    "import sys,json\n",
    "import glob, os\n",
    "sys.path.append('/media/miplab-nas2/Data3/BMPD/hc_project/analysis/code/')\n",
    "\n",
    "from seed_to_voxels import Seed2voxels\n",
    "\n",
    "%matplotlib inline\n",
    "%load_ext autoreload\n",
    "%autoreload 2"
   ]
  },
  {
   "cell_type": "markdown",
   "id": "e72a9ea2",
   "metadata": {},
   "source": [
    "## <font color=009DD2> <span style=\"background-color: #A9C4C0\"> Initialization"
   ]
  },
  {
   "cell_type": "markdown",
   "id": "170dfff1",
   "metadata": {},
   "source": [
    "### <font color=009DD2> I Configuration & parameters </font>"
   ]
  },
  {
   "cell_type": "code",
   "execution_count": 195,
   "id": "a2ad247f",
   "metadata": {},
   "outputs": [],
   "source": [
    "with open('../config/config_NK.json') as config_file:\n",
    "    config = json.load(config_file) # load config file\n",
    "\n",
    "# Parameters (maybe we should move them to config?)\n",
    "signal='raw'\n",
    "seed_names=['C3'] # Define seed names\n",
    "target_name=['brain'] # Define structure to use as target (brain or spinal cord)\n",
    "ktot = 9"
   ]
  },
  {
   "cell_type": "markdown",
   "id": "dfdf6f62",
   "metadata": {},
   "source": [
    "### <font color=009DD2> II Select files </font>"
   ]
  },
  {
   "cell_type": "code",
   "execution_count": 196,
   "id": "8eaf939f",
   "metadata": {},
   "outputs": [],
   "source": [
    "# /!\\ Important notes: \n",
    "# Different from ai-based correlation analyses, no _ai suffix appended here for the timeseries txt files\n",
    "\n",
    "# One target per subject\n",
    "data_target=[];ts_target_txt=[]\n",
    "for subject_name in config['list_subjects']:\n",
    "    data_target.append(config['main_dir'] + '1_nilearn-based/2_func_in_template/sub-'+ subject_name + '/brain/sub-' + subject_name + '_task-rest_bold_stc_brain_moco_denoised_reg_SPM_inTemplate.nii.gz')\n",
    "    ts_target_txt.append(config['main_dir'] + config['seed2vox_dir'] + '/' +target_name[0]+'_all/timeseries/sub-' + subject_name + '_' + target_name[0] + '_all_timeseries')\n",
    "mask_target=config['main_dir'] + config['masks'][target_name[0].split('_')[0]]\n",
    "\n",
    "# But possible to have multiple seeds (so create a dictionary to store list of each seed)\n",
    "data_seed={}; ts_seed_txt={}; mask_seed={}\n",
    "for seed_name in seed_names:\n",
    "    data_seed[seed_name] = []\n",
    "    ts_seed_txt[seed_name] = []\n",
    "    \n",
    "    # For ICA-based seeds\n",
    "    mask_seed[seed_name] = glob.glob(config['main_dir'] + config['data']['ica']['spinalcord_dir'] + 'k_' + str(ktot) + '/' + 'comp_bin/' + config['data']['ica']['tag_filename'] + '*' + seed_name + '*.gz')[0]\n",
    "    for subject_name in config['list_subjects']:\n",
    "        data_seed[seed_name].append(config['main_dir'] + '1_nilearn-based/2_func_in_template/sub-'+ subject_name + '/spinalcord/sub-' + subject_name + '_task-rest_bold_stc_sc_moco_denoised_inTemplate.nii.gz')\n",
    "        ts_seed_txt[seed_name].append(config['main_dir'] + config['seed2vox_dir'] + '/spinalcord_icas_k' + str(ktot) +'/'+seed_name+'/timeseries/sub-' + subject_name + '_' + seed_name + '_timeseries')\n",
    "    \n",
    "    if not os.path.exists(config['main_dir'] + config['seed2vox_dir'] + '/spinalcord_icas_k' + str(ktot) + '/' +seed_name+'/'+target_name[0]+'_fc_maps/'):\n",
    "        os.mkdir(config['main_dir'] + config['seed2vox_dir'] + '/spinalcord_icas_k' + str(ktot) +'/'+seed_name+'/'+target_name[0]+'_fc_maps/')\n",
    "\n",
    "# Create directories if needed\n",
    "if not os.path.exists(config['main_dir'] + config['seed2vox_dir'] + '/' +target_name[0]+'_all/timeseries/'):\n",
    "    os.mkdir(config['main_dir'] + config['seed2vox_dir'] + '/' +target_name[0]+'_all')\n",
    "    os.mkdir(config['main_dir'] + config['seed2vox_dir'] + '/' +target_name[0]+'_all/timeseries/') # folder to store timeseries extraction"
   ]
  },
  {
   "cell_type": "markdown",
   "id": "443bccc1",
   "metadata": {},
   "source": [
    "### <font color=009DD2> III Initialize class based on this </font>"
   ]
  },
  {
   "cell_type": "code",
   "execution_count": 197,
   "id": "94ee5867",
   "metadata": {},
   "outputs": [],
   "source": [
    "seed2voxels=Seed2voxels(config,signal,seed_names,target_name) # initialize the function"
   ]
  },
  {
   "cell_type": "markdown",
   "id": "577ce1f3",
   "metadata": {},
   "source": [
    "## <font color=009DD2> <span style=\"background-color: #A9C4C0\"> Data extraction\n"
   ]
  },
  {
   "cell_type": "markdown",
   "id": "fde3cace",
   "metadata": {},
   "source": [
    "### <font color=009DD2> I. Time series extraction - Seed </font>"
   ]
  },
  {
   "cell_type": "code",
   "execution_count": 73,
   "id": "b61aa554",
   "metadata": {},
   "outputs": [],
   "source": [
    "# Dictionary with seed names\n",
    "# Contains one array per subject\n",
    "seed_timeseries={};seed_timeseries_mean={};seed_timeseries_pc1={};\n",
    "for seed_name in seed_names:\n",
    "    seed_timeseries[seed_name]=[]\n",
    "    seed_timeseries_mean[seed_name]=[]\n",
    "    seed_timeseries_pc1[seed_name]=[]\n",
    "    (seed_timeseries[seed_name],seed_timeseries_mean[seed_name],seed_timeseries_pc1[seed_name])=seed2voxels.extract_data(img=data_seed[seed_name], mask=mask_seed[seed_name],timeseries_txt=ts_seed_txt[seed_name],run=\"extract\",n_jobs=8) # Load iCAP timecourses as seed"
   ]
  },
  {
   "cell_type": "markdown",
   "id": "43650e48",
   "metadata": {},
   "source": [
    "### <font color=009DD2> II. Time series extraction - Target </font>"
   ]
  },
  {
   "cell_type": "code",
   "execution_count": 199,
   "id": "0c573394",
   "metadata": {},
   "outputs": [],
   "source": [
    "(target_timeseries,target_timeseries_mean,target_timeseries_pc1)=seed2voxels.extract_data(img=data_target, smoothing_fwhm=[6,6,6], mask=mask_target, timeseries_txt=ts_target_txt,\n",
    "                run=\"extract\",n_jobs=8) # Load voxelwise brain signals as target\n"
   ]
  },
  {
   "cell_type": "markdown",
   "id": "81d44179",
   "metadata": {},
   "source": [
    "## <font color=009DD2> <span style=\"background-color: #A9C4C0\"> Correlation analysis"
   ]
  },
  {
   "cell_type": "markdown",
   "id": "1ce26e5f",
   "metadata": {},
   "source": [
    "### <font color=009DD2> Loop through voxels to compute correlation maps </font>"
   ]
  },
  {
   "cell_type": "code",
   "execution_count": 200,
   "id": "4a2317c9",
   "metadata": {},
   "outputs": [],
   "source": [
    "import numpy as np\n",
    "\n",
    "output_img={};\n",
    "for seed_name in seed_names: # For each seed\n",
    "    output_img[seed_name]=[]\n",
    "    seed = np.array(seed_timeseries[seed_name])\n",
    "    # Loop through voxels\n",
    "    for voxel in range(seed.shape[2]):\n",
    "        seed_voxel = seed[:,:,voxel]\n",
    "        output_img[seed_name].append(seed2voxels.correlation_maps(seed_voxel,target_timeseries,mask=mask_target,output_img=None,Fisher=True,save_maps=False,n_jobs=8))\n",
    "        "
   ]
  },
  {
   "cell_type": "markdown",
   "id": "86f0d500",
   "metadata": {},
   "source": [
    "### <font color=009DD2> Prepare CBP-style matrix for each subject </font>"
   ]
  },
  {
   "cell_type": "code",
   "execution_count": 170,
   "id": "d831acab",
   "metadata": {},
   "outputs": [
    {
     "data": {
      "text/plain": [
       "(4300, 44238)"
      ]
     },
     "execution_count": 170,
     "metadata": {},
     "output_type": "execute_result"
    }
   ],
   "source": [
    "np.squeeze(np.array(output_img['C3'])[:,0,:,]).shape # To check size"
   ]
  },
  {
   "cell_type": "code",
   "execution_count": 202,
   "id": "4b2c5191",
   "metadata": {},
   "outputs": [],
   "source": [
    "for sub_ix,sub in enumerate(seed2voxels.subject_names):\n",
    "    np.save(config['main_dir'] + config['seed2vox_dir'] + '/spinalcord_icas_k' + str(ktot) +'/C3/' +target_name[0]+'_fc_maps/sub-' + sub + '_C3_voxels2brain',np.squeeze(np.array(output_img['C3'])[:,sub_ix,:,]))"
   ]
  },
  {
   "cell_type": "markdown",
   "id": "136a362f",
   "metadata": {},
   "source": [
    "### <font color=009DD2> Prepare seed_coordinates array for CBP </font>"
   ]
  },
  {
   "cell_type": "code",
   "execution_count": 175,
   "id": "161e5b2b",
   "metadata": {},
   "outputs": [],
   "source": [
    "import nibabel as nib\n",
    "mask_seed_img = nib.load(mask_seed['C3'])\n",
    "mask_seed_data = mask_seed_img.get_fdata()"
   ]
  },
  {
   "cell_type": "code",
   "execution_count": 185,
   "id": "9f198687",
   "metadata": {},
   "outputs": [],
   "source": [
    "seed_coordinates = np.array(np.where(mask_seed_data))\n",
    "# 3 (x,y,z) x number of positive elements"
   ]
  },
  {
   "cell_type": "code",
   "execution_count": 201,
   "id": "6b35776b",
   "metadata": {},
   "outputs": [],
   "source": [
    "np.save(config['main_dir'] + config['seed2vox_dir'] + '/spinalcord_icas_k' + str(ktot) +'/C3/seed_coordinates',seed_coordinates.T)"
   ]
  }
 ],
 "metadata": {
  "kernelspec": {
   "display_name": "Python 3 (ipykernel)",
   "language": "python",
   "name": "python3"
  },
  "language_info": {
   "codemirror_mode": {
    "name": "ipython",
    "version": 3
   },
   "file_extension": ".py",
   "mimetype": "text/x-python",
   "name": "python",
   "nbconvert_exporter": "python",
   "pygments_lexer": "ipython3",
   "version": "3.9.12"
  }
 },
 "nbformat": 4,
 "nbformat_minor": 5
}
