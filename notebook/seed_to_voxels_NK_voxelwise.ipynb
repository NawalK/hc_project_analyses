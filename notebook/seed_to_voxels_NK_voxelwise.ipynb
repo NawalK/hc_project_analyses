{
 "cells": [
  {
   "cell_type": "markdown",
   "id": "3f8d447d",
   "metadata": {},
   "source": [
    "# Voxel-to-voxel correlation maps\n",
    "### This notebook is used to perform correlation-based parcellation"
   ]
  },
  {
   "cell_type": "markdown",
   "id": "af18d097",
   "metadata": {},
   "source": [
    "## <font color=009DD2> <span style=\"background-color: #A9C4C0\"> Imports"
   ]
  },
  {
   "cell_type": "code",
   "execution_count": 38,
   "id": "75af82ae",
   "metadata": {},
   "outputs": [
    {
     "name": "stdout",
     "output_type": "stream",
     "text": [
      "The autoreload extension is already loaded. To reload it, use:\n",
      "  %reload_ext autoreload\n"
     ]
    }
   ],
   "source": [
    "import sys,json\n",
    "import glob, os\n",
    "import numpy as np\n",
    "sys.path.append('/media/miplab-nas2/Data3/BMPD/hc_project/analysis/code/')\n",
    "\n",
    "from seed_to_voxels import Seed2voxels\n",
    "from fc_based_parcellation import FC_Parcellation\n",
    "\n",
    "%matplotlib inline\n",
    "%load_ext autoreload\n",
    "%autoreload 2"
   ]
  },
  {
   "cell_type": "markdown",
   "id": "e72a9ea2",
   "metadata": {},
   "source": [
    "## <font color=009DD2> <span style=\"background-color: #A9C4C0\"> Initialization"
   ]
  },
  {
   "cell_type": "markdown",
   "id": "170dfff1",
   "metadata": {},
   "source": [
    "### <font color=009DD2> I Configuration & parameters </font>"
   ]
  },
  {
   "cell_type": "code",
   "execution_count": 52,
   "id": "a2ad247f",
   "metadata": {},
   "outputs": [],
   "source": [
    "with open('../config/config_NK.json') as config_file:\n",
    "    config = json.load(config_file) # load config file\n",
    "\n",
    "# Parameters (maybe we should move them to config?)\n",
    "signal='raw'\n",
    "seed_names=['C6'] # Define seed names\n",
    "seed_structure='spinalcord' # Define structure in which seeds are defined (brain or spinal cord)\n",
    "target_structure='brain' # Define structure to use as target (brain or spinal cord)\n",
    "ktot = 9\n",
    "seed_folder = '/spinalcord_icas_k' + str(ktot) + '/' # Name of folder containing seed tcs, etc."
   ]
  },
  {
   "cell_type": "markdown",
   "id": "dfdf6f62",
   "metadata": {},
   "source": [
    "### <font color=009DD2> II Select files </font>"
   ]
  },
  {
   "cell_type": "code",
   "execution_count": 67,
   "id": "8eaf939f",
   "metadata": {},
   "outputs": [],
   "source": [
    "# /!\\ Important notes: \n",
    "# Different from ai-based correlation analyses, no _ai suffix appended here for the timeseries txt files\n",
    "\n",
    "# One target per subject\n",
    "# We use the unsmoothed data in template space (smoothing can be applied during time courses extraction if needed)\n",
    "data_target=[];ts_target_txt=[]\n",
    "for subject_name in config['list_subjects']:\n",
    "    data_target.append(config['coreg_dir'] + '/sub-' + subject_name + '/' + target_structure + '/sub-' + subject_name + '_task-rest_bold_stc_' + target_structure + config['coreg_tag'][target_structure] + '.nii.gz')\n",
    "    ts_target_txt.append(config['main_dir'] + config['seed2vox_dir'] + '/' + target_structure +'_all/timeseries/sub-' + subject_name + '_' + target_structure + '_all_timeseries')\n",
    "mask_target=config['main_dir'] + config['masks'][target_structure]\n",
    "\n",
    "# Create directories if needed\n",
    "if not os.path.exists(config['main_dir'] + config['seed2vox_dir'] + '/' + target_structure + '_all/timeseries/'):\n",
    "    os.mkdir(config['main_dir'] + config['seed2vox_dir'] + '/' + target_structure + '_all')\n",
    "    os.mkdir(config['main_dir'] + config['seed2vox_dir'] + '/' + target_structure + '_all/timeseries/') # folder to store timeseries extraction\n",
    "    \n",
    "# But possible to have multiple seeds (so create a dictionary to store list of each seed)\n",
    "data_seed={}; ts_seed_txt={}; mask_seed={}\n",
    "for seed_name in seed_names:\n",
    "    data_seed[seed_name] = []\n",
    "    ts_seed_txt[seed_name] = []\n",
    "    \n",
    "    # Create directory for seed if it doesn't exist\n",
    "    if not os.path.exists(config['main_dir'] + config['seed2vox_dir'] + seed_folder + seed_name):\n",
    "        os.mkdir(config['main_dir'] + config['seed2vox_dir'] + seed_folder + seed_name)\n",
    "\n",
    "    # For ICA-based seeds\n",
    "    # We take the binarized ICs (here, matched to individual spinal elvels)\n",
    "    mask_seed[seed_name] = glob.glob(config['main_dir'] + config['data']['ica']['spinalcord_dir'] + 'k_' + str(ktot) + '/' + 'comp_bin/' + config['data']['ica']['tag_filename'] + '*' + seed_name + '*.gz')[0]\n",
    "    for subject_name in config['list_subjects']:\n",
    "        data_seed[seed_name].append(config['coreg_dir'] + 'sub-'+ subject_name + '/' + seed_structure + '/sub-' + subject_name + '_task-rest_bold_stc_sc_' + config['coreg_tag'][seed_structure] + '.nii.gz')\n",
    "        \n",
    "        # Here, spinal cord is going to be smoothed, hence the tag _s3x3x6 to avoid confusion\n",
    "        ts_seed_txt[seed_name].append(config['main_dir'] + config['seed2vox_dir'] + seed_folder + seed_name+'/timeseries/sub-' + subject_name + '_' + seed_name + '_timeseries_s3x3x6')\n",
    "    \n",
    "    # Create folder for timeseries\n",
    "    if not os.path.exists(config['main_dir'] + config['seed2vox_dir'] + seed_folder + seed_name + '/timeseries/'):\n",
    "        os.mkdir(config['main_dir'] + config['seed2vox_dir'] + seed_folder + seed_name + '/timeseries/')\n",
    "    \n",
    "    # Create folder for connectivity-based parcellation\n",
    "    if not os.path.exists(config['main_dir'] + config['seed2vox_dir'] + seed_folder + seed_name + '/cbp/'):\n",
    "        os.mkdir(config['main_dir'] + config['seed2vox_dir'] + seed_folder + seed_name + '/cbp/')\n",
    "\n"
   ]
  },
  {
   "cell_type": "markdown",
   "id": "443bccc1",
   "metadata": {},
   "source": [
    "### <font color=009DD2> III Initialize class based on this </font>"
   ]
  },
  {
   "cell_type": "code",
   "execution_count": 68,
   "id": "94ee5867",
   "metadata": {},
   "outputs": [],
   "source": [
    "seed2voxels=Seed2voxels(config,signal,seed_names,target_name) # initialize the function"
   ]
  },
  {
   "cell_type": "markdown",
   "id": "577ce1f3",
   "metadata": {},
   "source": [
    "## <font color=009DD2> <span style=\"background-color: #A9C4C0\"> Data extraction\n"
   ]
  },
  {
   "cell_type": "markdown",
   "id": "fde3cace",
   "metadata": {},
   "source": [
    "### <font color=009DD2> I. Time series extraction - Seed </font>"
   ]
  },
  {
   "cell_type": "code",
   "execution_count": 61,
   "id": "b61aa554",
   "metadata": {},
   "outputs": [],
   "source": [
    "# Dictionary with seed names\n",
    "# Contains one array per subject\n",
    "\n",
    "# !! Here, smooth seed with 3x3x6 kernel\n",
    "\n",
    "seed_timeseries={};seed_timeseries_mean={};seed_timeseries_pc1={};\n",
    "for seed_name in seed_names:\n",
    "    seed_timeseries[seed_name]=[]\n",
    "    seed_timeseries_mean[seed_name]=[]\n",
    "    seed_timeseries_pc1[seed_name]=[]\n",
    "    (seed_timeseries[seed_name],seed_timeseries_mean[seed_name],seed_timeseries_pc1[seed_name])=seed2voxels.extract_data(img=data_seed[seed_name], smoothing_fwhm=[3,3,6], mask=mask_seed[seed_name],timeseries_txt=ts_seed_txt[seed_name],run=\"extract\",n_jobs=8) # Load or extract timecourses in seed"
   ]
  },
  {
   "cell_type": "markdown",
   "id": "43650e48",
   "metadata": {},
   "source": [
    "### <font color=009DD2> II. Time series extraction - Target </font>"
   ]
  },
  {
   "cell_type": "code",
   "execution_count": 69,
   "id": "0c573394",
   "metadata": {},
   "outputs": [],
   "source": [
    "(target_timeseries,target_timeseries_mean,target_timeseries_pc1)=seed2voxels.extract_data(img=data_target, smoothing_fwhm=[6,6,6], mask=mask_target, timeseries_txt=ts_target_txt,\n",
    "                run=\"load\",n_jobs=8) # Load voxelwise brain signals as target"
   ]
  },
  {
   "cell_type": "markdown",
   "id": "81d44179",
   "metadata": {},
   "source": [
    "## <font color=009DD2> <span style=\"background-color: #A9C4C0\"> Correlation analysis voxelwise"
   ]
  },
  {
   "cell_type": "code",
   "execution_count": null,
   "id": "a32c84c4",
   "metadata": {},
   "outputs": [],
   "source": [
    "import numpy as np\n",
    "from joblib import Parallel, delayed\n",
    "\n",
    "output_img={};\n",
    "for seed_name in seed_names: # For each seed\n",
    "    output_img[seed_name]=[]\n",
    "    seed = np.array(seed_timeseries[seed_name])\n",
    "    # Compute in parallel for all voxels\n",
    "    output_img[seed_name] = Parallel(n_jobs=8)(delayed(seed2voxels.correlation_maps)(seed[:,:,voxel],target_timeseries,mask=mask_target,output_img=None,Fisher=True,save_maps=False,n_jobs=8)\n",
    "                                               for voxel in range(seed.shape[2]))\n",
    "    # Save seed results as .npy\n",
    "    np.save(config['main_dir'] + config['seed2vox_dir'] + seed_folder + seed_name + 'cbp' + '/allsub_' + seed_name + '_voxels2' + target_structure + 'brain+sc_smoothed',np.array(output_img[seed_name]))\n",
    "               "
   ]
  },
  {
   "cell_type": "code",
   "execution_count": 14,
   "id": "73f148c9",
   "metadata": {},
   "outputs": [],
   "source": [
    "import numpy as np\n",
    "\n",
    "output_img={};\n",
    "for seed_name in seed_names: # For each seed\n",
    "    output_img[seed_name]=[]\n",
    "    seed = np.array(seed_timeseries[seed_name])\n",
    "    # Loop through voxels\n",
    "    for voxel in range(seed.shape[2]):\n",
    "        seed_voxel = seed[:,:,voxel]\n",
    "        output_img[seed_name].append(seed2voxels.correlation_maps(seed_voxel,target_timeseries,mask=mask_target,output_img=None,Fisher=True,save_maps=False,n_jobs=8))\n",
    "    # Save seed results as .npy\n",
    "    np.save(config['main_dir'] + config['seed2vox_dir'] + '/spinalcord_icas_k' + str(ktot) +'/C3/' +target_name[0]+'_fc_maps/allsub_C3_voxels2brain_brain+sc_smoothed',np.array(output_img[seed_name]))\n"
   ]
  },
  {
   "cell_type": "markdown",
   "id": "e3862d38",
   "metadata": {},
   "source": [
    "## <font color=009DD2> <span style=\"background-color: #A9C4C0\"> FC-based parcellation"
   ]
  },
  {
   "cell_type": "markdown",
   "id": "29d47fbc",
   "metadata": {},
   "source": [
    "### <font color=009DD2> Method 1: https://www.jneurosci.org/content/32/18/6240 </font>\n",
    "<font color=009DD2> **Since this method is based on averaging maps from a single voxel in spine, use smoothing in brain + spine** </font>"
   ]
  },
  {
   "cell_type": "code",
   "execution_count": 5,
   "id": "4251b43a",
   "metadata": {},
   "outputs": [],
   "source": [
    "# To load data\n",
    "connectivity = np.load(config['main_dir'] + config['seed2vox_dir'] + '/spinalcord_icas_k' + str(ktot) +'/C3/' +target_name[0]+'_fc_maps/allsub_C3_voxels2brain_brain+sc_smoothed.npy')"
   ]
  },
  {
   "cell_type": "code",
   "execution_count": 13,
   "id": "c1c6ee30",
   "metadata": {},
   "outputs": [
    {
     "ename": "NameError",
     "evalue": "name 'output_img' is not defined",
     "output_type": "error",
     "traceback": [
      "\u001b[0;31m---------------------------------------------------------------------------\u001b[0m",
      "\u001b[0;31mNameError\u001b[0m                                 Traceback (most recent call last)",
      "Input \u001b[0;32mIn [13]\u001b[0m, in \u001b[0;36m<cell line: 2>\u001b[0;34m()\u001b[0m\n\u001b[1;32m      1\u001b[0m \u001b[38;5;66;03m# Alternatively, to use those just extracted\u001b[39;00m\n\u001b[0;32m----> 2\u001b[0m connectivity \u001b[38;5;241m=\u001b[39m np\u001b[38;5;241m.\u001b[39marray(\u001b[43moutput_img\u001b[49m[seed_name])\n",
      "\u001b[0;31mNameError\u001b[0m: name 'output_img' is not defined"
     ]
    }
   ],
   "source": [
    "# Alternatively, to use those just extracted\n",
    "# connectivity = np.array(output_img[seed_name])"
   ]
  },
  {
   "cell_type": "code",
   "execution_count": 6,
   "id": "1d08399f",
   "metadata": {},
   "outputs": [],
   "source": [
    "# Take the mean over subjects\n",
    "mean_connectivity = np.squeeze(np.mean(connectivity,axis=1))"
   ]
  },
  {
   "cell_type": "code",
   "execution_count": 7,
   "id": "b83fa11f",
   "metadata": {},
   "outputs": [],
   "source": [
    "import matplotlib.pyplot as plt\n",
    "from kneed import KneeLocator\n",
    "from sklearn.datasets import make_blobs\n",
    "from sklearn.cluster import KMeans\n",
    "from sklearn.metrics import silhouette_score"
   ]
  },
  {
   "cell_type": "code",
   "execution_count": null,
   "id": "51df51e1",
   "metadata": {},
   "outputs": [],
   "source": [
    "# Question: do we need to scale the input data? I'd say no, as we are comparing voxel correlations and not different types of features with different scales"
   ]
  },
  {
   "cell_type": "code",
   "execution_count": 33,
   "id": "8fe28c1d",
   "metadata": {},
   "outputs": [
    {
     "data": {
      "text/html": [
       "<style>#sk-container-id-1 {color: black;background-color: white;}#sk-container-id-1 pre{padding: 0;}#sk-container-id-1 div.sk-toggleable {background-color: white;}#sk-container-id-1 label.sk-toggleable__label {cursor: pointer;display: block;width: 100%;margin-bottom: 0;padding: 0.3em;box-sizing: border-box;text-align: center;}#sk-container-id-1 label.sk-toggleable__label-arrow:before {content: \"▸\";float: left;margin-right: 0.25em;color: #696969;}#sk-container-id-1 label.sk-toggleable__label-arrow:hover:before {color: black;}#sk-container-id-1 div.sk-estimator:hover label.sk-toggleable__label-arrow:before {color: black;}#sk-container-id-1 div.sk-toggleable__content {max-height: 0;max-width: 0;overflow: hidden;text-align: left;background-color: #f0f8ff;}#sk-container-id-1 div.sk-toggleable__content pre {margin: 0.2em;color: black;border-radius: 0.25em;background-color: #f0f8ff;}#sk-container-id-1 input.sk-toggleable__control:checked~div.sk-toggleable__content {max-height: 200px;max-width: 100%;overflow: auto;}#sk-container-id-1 input.sk-toggleable__control:checked~label.sk-toggleable__label-arrow:before {content: \"▾\";}#sk-container-id-1 div.sk-estimator input.sk-toggleable__control:checked~label.sk-toggleable__label {background-color: #d4ebff;}#sk-container-id-1 div.sk-label input.sk-toggleable__control:checked~label.sk-toggleable__label {background-color: #d4ebff;}#sk-container-id-1 input.sk-hidden--visually {border: 0;clip: rect(1px 1px 1px 1px);clip: rect(1px, 1px, 1px, 1px);height: 1px;margin: -1px;overflow: hidden;padding: 0;position: absolute;width: 1px;}#sk-container-id-1 div.sk-estimator {font-family: monospace;background-color: #f0f8ff;border: 1px dotted black;border-radius: 0.25em;box-sizing: border-box;margin-bottom: 0.5em;}#sk-container-id-1 div.sk-estimator:hover {background-color: #d4ebff;}#sk-container-id-1 div.sk-parallel-item::after {content: \"\";width: 100%;border-bottom: 1px solid gray;flex-grow: 1;}#sk-container-id-1 div.sk-label:hover label.sk-toggleable__label {background-color: #d4ebff;}#sk-container-id-1 div.sk-serial::before {content: \"\";position: absolute;border-left: 1px solid gray;box-sizing: border-box;top: 0;bottom: 0;left: 50%;z-index: 0;}#sk-container-id-1 div.sk-serial {display: flex;flex-direction: column;align-items: center;background-color: white;padding-right: 0.2em;padding-left: 0.2em;position: relative;}#sk-container-id-1 div.sk-item {position: relative;z-index: 1;}#sk-container-id-1 div.sk-parallel {display: flex;align-items: stretch;justify-content: center;background-color: white;position: relative;}#sk-container-id-1 div.sk-item::before, #sk-container-id-1 div.sk-parallel-item::before {content: \"\";position: absolute;border-left: 1px solid gray;box-sizing: border-box;top: 0;bottom: 0;left: 50%;z-index: -1;}#sk-container-id-1 div.sk-parallel-item {display: flex;flex-direction: column;z-index: 1;position: relative;background-color: white;}#sk-container-id-1 div.sk-parallel-item:first-child::after {align-self: flex-end;width: 50%;}#sk-container-id-1 div.sk-parallel-item:last-child::after {align-self: flex-start;width: 50%;}#sk-container-id-1 div.sk-parallel-item:only-child::after {width: 0;}#sk-container-id-1 div.sk-dashed-wrapped {border: 1px dashed gray;margin: 0 0.4em 0.5em 0.4em;box-sizing: border-box;padding-bottom: 0.4em;background-color: white;}#sk-container-id-1 div.sk-label label {font-family: monospace;font-weight: bold;display: inline-block;line-height: 1.2em;}#sk-container-id-1 div.sk-label-container {text-align: center;}#sk-container-id-1 div.sk-container {/* jupyter's `normalize.less` sets `[hidden] { display: none; }` but bootstrap.min.css set `[hidden] { display: none !important; }` so we also need the `!important` here to be able to override the default hidden behavior on the sphinx rendered scikit-learn.org. See: https://github.com/scikit-learn/scikit-learn/issues/21755 */display: inline-block !important;position: relative;}#sk-container-id-1 div.sk-text-repr-fallback {display: none;}</style><div id=\"sk-container-id-1\" class=\"sk-top-container\"><div class=\"sk-text-repr-fallback\"><pre>KMeans(max_iter=100, n_clusters=4)</pre><b>In a Jupyter environment, please rerun this cell to show the HTML representation or trust the notebook. <br />On GitHub, the HTML representation is unable to render, please try loading this page with nbviewer.org.</b></div><div class=\"sk-container\" hidden><div class=\"sk-item\"><div class=\"sk-estimator sk-toggleable\"><input class=\"sk-toggleable__control sk-hidden--visually\" id=\"sk-estimator-id-1\" type=\"checkbox\" checked><label for=\"sk-estimator-id-1\" class=\"sk-toggleable__label sk-toggleable__label-arrow\">KMeans</label><div class=\"sk-toggleable__content\"><pre>KMeans(max_iter=100, n_clusters=4)</pre></div></div></div></div></div>"
      ],
      "text/plain": [
       "KMeans(max_iter=100, n_clusters=4)"
      ]
     },
     "execution_count": 33,
     "metadata": {},
     "output_type": "execute_result"
    }
   ],
   "source": [
    "clustering = KMeans(n_clusters=4,init='k-means++',n_init=10,max_iter=100)\n",
    "clustering.fit(mean_connectivity)"
   ]
  },
  {
   "cell_type": "code",
   "execution_count": 37,
   "id": "32c62cfc",
   "metadata": {},
   "outputs": [
    {
     "data": {
      "text/plain": [
       "array([1, 1, 1, 1, 1, 1, 1, 1, 1, 1, 1, 1, 1, 1, 1, 1, 1, 1, 1, 2, 2, 2,\n",
       "       1, 1, 1, 1, 1, 1, 1, 1, 1, 1, 1, 1, 1, 1, 1, 1, 1, 1, 2, 2, 2, 2,\n",
       "       2, 2, 2, 2, 1, 1, 1, 1, 1, 1, 1, 1, 1, 1, 1, 1, 1, 1, 2, 2, 2, 2,\n",
       "       2, 2, 2, 2, 2, 2, 2, 2, 2, 1, 1, 1, 1, 3, 1, 1, 1, 1, 1, 1, 1, 1,\n",
       "       1, 1, 1, 1, 1, 1, 1, 1, 1, 1, 1, 1, 1, 1, 1, 1, 1, 1, 1, 1, 1, 1,\n",
       "       1, 1, 1, 1, 1, 1, 1, 1, 1, 1, 2, 2, 2, 1, 1, 1, 1, 1, 1, 1, 1, 1,\n",
       "       1, 1, 1, 1, 1, 1, 1, 1, 1, 2, 2, 2, 2, 2, 2, 2, 2, 2, 1, 1, 1, 1,\n",
       "       1, 1, 1, 1, 1, 1, 1, 1, 1, 2, 2, 2, 2, 2, 2, 2, 2, 2, 2, 2, 2, 2,\n",
       "       2, 2, 2, 1, 3, 3, 3, 3, 3, 2, 2, 2, 2, 2, 2, 2, 2, 2, 2, 2, 2, 2,\n",
       "       2, 3, 3, 3, 3, 3, 3, 3, 3, 2, 2, 2, 2, 2, 2, 2, 1, 1, 1, 1, 1, 1,\n",
       "       1, 1, 1, 1, 1, 1, 1, 1, 1, 1, 1, 1, 1, 1, 1, 1, 1, 1, 1, 1, 1, 1,\n",
       "       1, 1, 1, 1, 1, 1, 1, 1, 1, 1, 1, 1, 1, 1, 1, 1, 1, 1, 1, 1, 1, 1,\n",
       "       1, 1, 1, 1, 1, 1, 1, 1, 1, 1, 1, 2, 2, 2, 2, 1, 1, 1, 1, 1, 1, 1,\n",
       "       1, 1, 1, 1, 1, 1, 1, 1, 1, 1, 1, 2, 2, 2], dtype=int32)"
      ]
     },
     "execution_count": 37,
     "metadata": {},
     "output_type": "execute_result"
    }
   ],
   "source": [
    "clustering.labels_[:300]"
   ]
  },
  {
   "cell_type": "code",
   "execution_count": 10,
   "id": "afec3a50",
   "metadata": {},
   "outputs": [],
   "source": [
    "kmeans_kwargs = {\n",
    "     \"init\": \"k-means++\",\n",
    "     \"n_init\": 100,\n",
    "     \"max_iter\": 300,\n",
    "     }"
   ]
  },
  {
   "cell_type": "code",
   "execution_count": 32,
   "id": "f8be6faa",
   "metadata": {},
   "outputs": [],
   "source": [
    "\n",
    "sse = []\n",
    "silhouette_coefficients = []\n",
    "\n",
    "\n",
    "for k in range(2,10):\n",
    "    kmeans = KMeans(n_clusters=k,**kmeans_kwargs)\n",
    "    kmeans.fit(mean_connectivity)\n",
    "    sse.append(kmeans.inertia_)\n",
    "    score = silhouette_score(mean_connectivity, kmeans.labels_)\n",
    "    silhouette_coefficients.append(score)"
   ]
  },
  {
   "cell_type": "code",
   "execution_count": 33,
   "id": "23be9005",
   "metadata": {},
   "outputs": [
    {
     "data": {
      "image/png": "[encoded data removed]",
      "text/plain": [
       "<Figure size 432x288 with 1 Axes>"
      ]
     },
     "metadata": {},
     "output_type": "display_data"
    }
   ],
   "source": [
    "plt.plot(range(2, 10), sse)\n",
    "plt.xticks(range(2, 10))\n",
    "plt.xlabel(\"Number of Clusters\")\n",
    "plt.ylabel(\"SSE\")\n",
    "plt.show()"
   ]
  },
  {
   "cell_type": "code",
   "execution_count": 34,
   "id": "443961a8",
   "metadata": {},
   "outputs": [
    {
     "data": {
      "text/plain": [
       "5"
      ]
     },
     "execution_count": 34,
     "metadata": {},
     "output_type": "execute_result"
    }
   ],
   "source": [
    "kl = KneeLocator(\n",
    "    range(2, 10), sse, curve=\"convex\", direction=\"decreasing\"\n",
    ")\n",
    "\n",
    "kl.elbow"
   ]
  },
  {
   "cell_type": "code",
   "execution_count": 36,
   "id": "cbadfb14",
   "metadata": {},
   "outputs": [
    {
     "data": {
      "image/png": "[encoded data removed]",
      "text/plain": [
       "<Figure size 432x288 with 1 Axes>"
      ]
     },
     "metadata": {},
     "output_type": "display_data"
    }
   ],
   "source": [
    "plt.style.use(\"fivethirtyeight\")\n",
    "plt.plot(range(2, 10), silhouette_coefficients)\n",
    "plt.xticks(range(2, 10))\n",
    "plt.xlabel(\"Number of Clusters\")\n",
    "plt.ylabel(\"Silhouette Coefficient\")\n",
    "plt.show()"
   ]
  },
  {
   "cell_type": "code",
   "execution_count": 11,
   "id": "f80fa486",
   "metadata": {},
   "outputs": [
    {
     "data": {
      "text/html": [
       "<style>#sk-container-id-1 {color: black;background-color: white;}#sk-container-id-1 pre{padding: 0;}#sk-container-id-1 div.sk-toggleable {background-color: white;}#sk-container-id-1 label.sk-toggleable__label {cursor: pointer;display: block;width: 100%;margin-bottom: 0;padding: 0.3em;box-sizing: border-box;text-align: center;}#sk-container-id-1 label.sk-toggleable__label-arrow:before {content: \"▸\";float: left;margin-right: 0.25em;color: #696969;}#sk-container-id-1 label.sk-toggleable__label-arrow:hover:before {color: black;}#sk-container-id-1 div.sk-estimator:hover label.sk-toggleable__label-arrow:before {color: black;}#sk-container-id-1 div.sk-toggleable__content {max-height: 0;max-width: 0;overflow: hidden;text-align: left;background-color: #f0f8ff;}#sk-container-id-1 div.sk-toggleable__content pre {margin: 0.2em;color: black;border-radius: 0.25em;background-color: #f0f8ff;}#sk-container-id-1 input.sk-toggleable__control:checked~div.sk-toggleable__content {max-height: 200px;max-width: 100%;overflow: auto;}#sk-container-id-1 input.sk-toggleable__control:checked~label.sk-toggleable__label-arrow:before {content: \"▾\";}#sk-container-id-1 div.sk-estimator input.sk-toggleable__control:checked~label.sk-toggleable__label {background-color: #d4ebff;}#sk-container-id-1 div.sk-label input.sk-toggleable__control:checked~label.sk-toggleable__label {background-color: #d4ebff;}#sk-container-id-1 input.sk-hidden--visually {border: 0;clip: rect(1px 1px 1px 1px);clip: rect(1px, 1px, 1px, 1px);height: 1px;margin: -1px;overflow: hidden;padding: 0;position: absolute;width: 1px;}#sk-container-id-1 div.sk-estimator {font-family: monospace;background-color: #f0f8ff;border: 1px dotted black;border-radius: 0.25em;box-sizing: border-box;margin-bottom: 0.5em;}#sk-container-id-1 div.sk-estimator:hover {background-color: #d4ebff;}#sk-container-id-1 div.sk-parallel-item::after {content: \"\";width: 100%;border-bottom: 1px solid gray;flex-grow: 1;}#sk-container-id-1 div.sk-label:hover label.sk-toggleable__label {background-color: #d4ebff;}#sk-container-id-1 div.sk-serial::before {content: \"\";position: absolute;border-left: 1px solid gray;box-sizing: border-box;top: 0;bottom: 0;left: 50%;z-index: 0;}#sk-container-id-1 div.sk-serial {display: flex;flex-direction: column;align-items: center;background-color: white;padding-right: 0.2em;padding-left: 0.2em;position: relative;}#sk-container-id-1 div.sk-item {position: relative;z-index: 1;}#sk-container-id-1 div.sk-parallel {display: flex;align-items: stretch;justify-content: center;background-color: white;position: relative;}#sk-container-id-1 div.sk-item::before, #sk-container-id-1 div.sk-parallel-item::before {content: \"\";position: absolute;border-left: 1px solid gray;box-sizing: border-box;top: 0;bottom: 0;left: 50%;z-index: -1;}#sk-container-id-1 div.sk-parallel-item {display: flex;flex-direction: column;z-index: 1;position: relative;background-color: white;}#sk-container-id-1 div.sk-parallel-item:first-child::after {align-self: flex-end;width: 50%;}#sk-container-id-1 div.sk-parallel-item:last-child::after {align-self: flex-start;width: 50%;}#sk-container-id-1 div.sk-parallel-item:only-child::after {width: 0;}#sk-container-id-1 div.sk-dashed-wrapped {border: 1px dashed gray;margin: 0 0.4em 0.5em 0.4em;box-sizing: border-box;padding-bottom: 0.4em;background-color: white;}#sk-container-id-1 div.sk-label label {font-family: monospace;font-weight: bold;display: inline-block;line-height: 1.2em;}#sk-container-id-1 div.sk-label-container {text-align: center;}#sk-container-id-1 div.sk-container {/* jupyter's `normalize.less` sets `[hidden] { display: none; }` but bootstrap.min.css set `[hidden] { display: none !important; }` so we also need the `!important` here to be able to override the default hidden behavior on the sphinx rendered scikit-learn.org. See: https://github.com/scikit-learn/scikit-learn/issues/21755 */display: inline-block !important;position: relative;}#sk-container-id-1 div.sk-text-repr-fallback {display: none;}</style><div id=\"sk-container-id-1\" class=\"sk-top-container\"><div class=\"sk-text-repr-fallback\"><pre>KMeans(n_clusters=5, n_init=100)</pre><b>In a Jupyter environment, please rerun this cell to show the HTML representation or trust the notebook. <br />On GitHub, the HTML representation is unable to render, please try loading this page with nbviewer.org.</b></div><div class=\"sk-container\" hidden><div class=\"sk-item\"><div class=\"sk-estimator sk-toggleable\"><input class=\"sk-toggleable__control sk-hidden--visually\" id=\"sk-estimator-id-1\" type=\"checkbox\" checked><label for=\"sk-estimator-id-1\" class=\"sk-toggleable__label sk-toggleable__label-arrow\">KMeans</label><div class=\"sk-toggleable__content\"><pre>KMeans(n_clusters=5, n_init=100)</pre></div></div></div></div></div>"
      ],
      "text/plain": [
       "KMeans(n_clusters=5, n_init=100)"
      ]
     },
     "execution_count": 11,
     "metadata": {},
     "output_type": "execute_result"
    }
   ],
   "source": [
    "# For K = 5\n",
    "kmeans = KMeans(n_clusters=5,**kmeans_kwargs)\n",
    "kmeans.fit(mean_connectivity)"
   ]
  },
  {
   "cell_type": "code",
   "execution_count": 44,
   "id": "97385b79",
   "metadata": {},
   "outputs": [],
   "source": [
    "import nibabel as nib\n",
    "seed_img = nib.load(mask_seed['C3'])\n",
    "seed_data = seed_img.get_fdata()\n",
    "labels_data = seed_data\n",
    "labels_data[np.where(labels_data==1)] = kmeans.labels_+1\n",
    "labels_img = nib.Nifti1Image(labels_data, seed_img.affine)\n",
    "nib.save(labels_img, config['main_dir'] + config['seed2vox_dir'] + '/spinalcord_icas_k' + str(ktot) +'/C3/labels_k5.nii.gz')"
   ]
  },
  {
   "cell_type": "code",
   "execution_count": 24,
   "id": "aa624292",
   "metadata": {},
   "outputs": [],
   "source": [
    "brain_maps = np.zeros((len(np.unique(kmeans.labels_)), mean_connectivity.shape[1]))\n",
    "for label in np.unique(kmeans.labels_):\n",
    "    brain_maps[label,:] = np.mean(mean_connectivity[np.where(kmeans.labels_==label),:],axis=1)"
   ]
  },
  {
   "cell_type": "code",
   "execution_count": 69,
   "id": "fe55dcea",
   "metadata": {},
   "outputs": [
    {
     "data": {
      "text/plain": [
       "(5, 44238)"
      ]
     },
     "execution_count": 69,
     "metadata": {},
     "output_type": "execute_result"
    }
   ],
   "source": [
    "target_img = nib.load(mask_target)\n",
    "target_data = target_img.get_fdata()\n",
    "for label in np.unique(kmeans.labels_):\n",
    "    clust_data = seed_data\n",
    "    labels_data[np.where(labels_data==1)] = kmeans.labels_+1\n",
    "    labels_img = nib.Nifti1Image(labels_data, seed_img.affine)\n",
    "    nib.save(labels_img, config['main_dir'] + config['seed2vox_dir'] + '/spinalcord_icas_k' + str(ktot) +'/C3/brain_pattern_k_' num2str(label+1) '.nii.gz')"
   ]
  },
  {
   "cell_type": "code",
   "execution_count": 25,
   "id": "5f435d00",
   "metadata": {},
   "outputs": [],
   "source": [
    "from nilearn.maskers import NiftiMasker\n",
    "from nilearn import image\n",
    "masker= NiftiMasker(mask_target).fit()\n",
    "for label in np.unique(kmeans.labels_):\n",
    "    img = masker.inverse_transform(brain_maps[label,:])\n",
    "    img.to_filename(config['main_dir'] + config['seed2vox_dir'] + '/spinalcord_icas_k' + str(ktot) +'/C3/brain_pattern_k_' + str(label+1) + '.nii.gz')"
   ]
  },
  {
   "cell_type": "code",
   "execution_count": 18,
   "id": "ad1f6cdd",
   "metadata": {},
   "outputs": [
    {
     "data": {
      "text/plain": [
       "array([0.03234403, 0.03234403, 0.03234403, ..., 0.03234403, 0.03234403,\n",
       "       0.03234403])"
      ]
     },
     "execution_count": 18,
     "metadata": {},
     "output_type": "execute_result"
    }
   ],
   "source": [
    "brain_maps[label,:]"
   ]
  },
  {
   "cell_type": "code",
   "execution_count": null,
   "id": "937bbe24",
   "metadata": {},
   "outputs": [],
   "source": []
  }
 ],
 "metadata": {
  "kernelspec": {
   "display_name": "Python 3 (ipykernel)",
   "language": "python",
   "name": "python3"
  },
  "language_info": {
   "codemirror_mode": {
    "name": "ipython",
    "version": 3
   },
   "file_extension": ".py",
   "mimetype": "text/x-python",
   "name": "python",
   "nbconvert_exporter": "python",
   "pygments_lexer": "ipython3",
   "version": "3.9.12"
  }
 },
 "nbformat": 4,
 "nbformat_minor": 5
}
