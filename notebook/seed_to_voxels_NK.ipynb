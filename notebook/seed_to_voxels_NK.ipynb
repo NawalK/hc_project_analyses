{
 "cells": [
  {
   "cell_type": "markdown",
   "id": "af18d097",
   "metadata": {},
   "source": [
    "## <font color=009DD2> <span style=\"background-color: #A9C4C0\"> Imports"
   ]
  },
  {
   "cell_type": "code",
   "execution_count": 116,
   "id": "75af82ae",
   "metadata": {},
   "outputs": [
    {
     "name": "stdout",
     "output_type": "stream",
     "text": [
      "The autoreload extension is already loaded. To reload it, use:\n",
      "  %reload_ext autoreload\n"
     ]
    }
   ],
   "source": [
    "import sys,json\n",
    "import glob, os\n",
    "sys.path.append('/media/miplab-nas2/Data3/BMPD/hc_project/analysis/code/')\n",
    "\n",
    "from seed_to_voxels_inprogress_nk import Seed2voxels\n",
    "\n",
    "%matplotlib inline\n",
    "%load_ext autoreload\n",
    "%autoreload 2"
   ]
  },
  {
   "cell_type": "markdown",
   "id": "e72a9ea2",
   "metadata": {},
   "source": [
    "## <font color=009DD2> <span style=\"background-color: #A9C4C0\"> Initialization"
   ]
  },
  {
   "cell_type": "markdown",
   "id": "a18758bc",
   "metadata": {},
   "source": [
    "### <font color=009DD2> I Configuration & parameters </font>"
   ]
  },
  {
   "cell_type": "code",
   "execution_count": 120,
   "id": "a2ad247f",
   "metadata": {},
   "outputs": [],
   "source": [
    "with open('../config/config_NK.json') as config_file:\n",
    "    config = json.load(config_file) # load config file\n",
    "\n",
    "# Parameters (maybe we should move them to config?)\n",
    "signal='ai'\n",
    "seed_names=['icap1','icap2','icap3','icap4','icap5','icap6','icap7','icap8','icap9'] # Define seed names (here, icap numbers)\n",
    "target_name=['brain'] # Define structure to use as target (brain or spinal cord)\n",
    "ktot = 9 # Total number of components to use (just to define path)\n"
   ]
  },
  {
   "cell_type": "markdown",
   "id": "dfdf6f62",
   "metadata": {},
   "source": [
    "### <font color=009DD2> II Select files </font>"
   ]
  },
  {
   "cell_type": "code",
   "execution_count": 121,
   "id": "1ea725c7",
   "metadata": {},
   "outputs": [],
   "source": [
    "data_target=[];ts_seed_txt=[];ts_target_txt=[]\n",
    "for seed_name in seed_names:\n",
    "    for subject_name in config['list_subjects']:\n",
    "        data_target.append(config['main_dir'] + '1_nilearn-based/3_func_smoothed/sub-'+ subject_name + '/TA_results/MNI/TotalActivation/Activity_inducing.nii')\n",
    "        ts_seed_txt.append(config['main_dir'] + config['seed2vox_dir'] + '/spinalcord_icaps_k' + str(ktot) +'/'+seed_name+'/timeseries/sub-' + subject_name + '_' + seed_name + '_timeseries_ai')\n",
    "        ts_target_txt.append(config['main_dir'] + config['seed2vox_dir'] + '/' +target_name[0]+'_all/timeseries/sub-' + subject_name + '_' + target_name[0] + '_all_timeseries_ai')\n",
    "        \n",
    "    if not os.path.exists(config['main_dir'] + config['seed2vox_dir'] + '/spinalcord_icaps_k' + str(ktot) + '/' +seed_name+'/'+target_name[0]+'_fc_maps/'):\n",
    "        os.mkdir(config['main_dir'] + config['seed2vox_dir'] + '/spinalcord_icaps_k' + str(ktot) +'/'+seed_name+'/'+target_name[0]+'_fc_maps/')\n",
    "\n",
    "mask_target=config['main_dir'] + config['masks'][target_name[0].split('_')[0]]\n",
    " \n",
    "# Create directories if needed\n",
    "if not os.path.exists(config['main_dir'] + config['seed2vox_dir'] + '/' +target_name[0]+'_all/timeseries/'):\n",
    "    os.mkdir(config['main_dir'] + config['seed2vox_dir'] + '/' +target_name[0]+'_all')\n",
    "    os.mkdir(config['main_dir'] + config['seed2vox_dir'] + '/' +target_name[0]+'_all/timeseries/') # folder to store timeseries extraction\n"
   ]
  },
  {
   "cell_type": "markdown",
   "id": "870d3add",
   "metadata": {},
   "source": [
    "### <font color=009DD2> III Initialize class based on this </font>"
   ]
  },
  {
   "cell_type": "code",
   "execution_count": 123,
   "id": "a29a8fa7",
   "metadata": {},
   "outputs": [],
   "source": [
    "seed2voxels=Seed2voxels(config,signal,seed_names,target_name) # initialize the function"
   ]
  },
  {
   "cell_type": "markdown",
   "id": "c9d3c90b",
   "metadata": {},
   "source": [
    "## <font color=009DD2> <span style=\"background-color: #A9C4C0\"> Data extraction\n"
   ]
  },
  {
   "cell_type": "markdown",
   "id": "fde3cace",
   "metadata": {},
   "source": [
    "### <font color=009DD2> I. Time series extraction - Seed </font>"
   ]
  },
  {
   "cell_type": "code",
   "execution_count": 124,
   "id": "771a7781",
   "metadata": {},
   "outputs": [],
   "source": [
    "seed_timeseries=seed2voxels.extract_data(timeseries_txt=ts_seed_txt,\n",
    "                                         run=\"load\",n_jobs=8) # Load iCAP timecourses as seed"
   ]
  },
  {
   "cell_type": "markdown",
   "id": "b02b3142",
   "metadata": {},
   "source": [
    "### <font color=009DD2> II. Time series extraction - Target </font>"
   ]
  },
  {
   "cell_type": "code",
   "execution_count": 125,
   "id": "96e7fa25",
   "metadata": {},
   "outputs": [],
   "source": [
    "target_timeseries=seed2voxels.extract_data(img=data_target, mask=mask_target, timeseries_txt=ts_target_txt,\n",
    "                run=\"load\",n_jobs=8) # Load voxelwise brain AI as target"
   ]
  },
  {
   "cell_type": "markdown",
   "id": "81d44179",
   "metadata": {},
   "source": [
    "## <font color=009DD2> <span style=\"background-color: #A9C4C0\"> Correlation analysis"
   ]
  },
  {
   "cell_type": "code",
   "execution_count": 126,
   "id": "281819d2",
   "metadata": {},
   "outputs": [
    {
     "name": "stderr",
     "output_type": "stream",
     "text": [
      "/home/kinany/anaconda3/lib/python3.9/site-packages/numpy/lib/function_base.py:2642: RuntimeWarning: invalid value encountered in true_divide\n",
      "  c /= stddev[:, None]\n",
      "/home/kinany/anaconda3/lib/python3.9/site-packages/numpy/lib/function_base.py:2643: RuntimeWarning: invalid value encountered in true_divide\n",
      "  c /= stddev[None, :]\n",
      "/home/kinany/anaconda3/lib/python3.9/site-packages/numpy/lib/function_base.py:2642: RuntimeWarning: invalid value encountered in true_divide\n",
      "  c /= stddev[:, None]\n",
      "/home/kinany/anaconda3/lib/python3.9/site-packages/numpy/lib/function_base.py:2643: RuntimeWarning: invalid value encountered in true_divide\n",
      "  c /= stddev[None, :]\n",
      "/home/kinany/anaconda3/lib/python3.9/site-packages/numpy/lib/function_base.py:2642: RuntimeWarning: invalid value encountered in true_divide\n",
      "  c /= stddev[:, None]\n",
      "/home/kinany/anaconda3/lib/python3.9/site-packages/numpy/lib/function_base.py:2643: RuntimeWarning: invalid value encountered in true_divide\n",
      "  c /= stddev[None, :]\n",
      "/home/kinany/anaconda3/lib/python3.9/site-packages/numpy/lib/function_base.py:2642: RuntimeWarning: invalid value encountered in true_divide\n",
      "  c /= stddev[:, None]\n",
      "/home/kinany/anaconda3/lib/python3.9/site-packages/numpy/lib/function_base.py:2643: RuntimeWarning: invalid value encountered in true_divide\n",
      "  c /= stddev[None, :]\n",
      "/home/kinany/anaconda3/lib/python3.9/site-packages/numpy/lib/function_base.py:2642: RuntimeWarning: invalid value encountered in true_divide\n",
      "  c /= stddev[:, None]\n",
      "/home/kinany/anaconda3/lib/python3.9/site-packages/numpy/lib/function_base.py:2642: RuntimeWarning: invalid value encountered in true_divide\n",
      "  c /= stddev[:, None]\n",
      "/home/kinany/anaconda3/lib/python3.9/site-packages/numpy/lib/function_base.py:2643: RuntimeWarning: invalid value encountered in true_divide\n",
      "  c /= stddev[None, :]\n",
      "/home/kinany/anaconda3/lib/python3.9/site-packages/numpy/lib/function_base.py:2643: RuntimeWarning: invalid value encountered in true_divide\n",
      "  c /= stddev[None, :]\n",
      "/home/kinany/anaconda3/lib/python3.9/site-packages/numpy/lib/function_base.py:2642: RuntimeWarning: invalid value encountered in true_divide\n",
      "  c /= stddev[:, None]\n",
      "/home/kinany/anaconda3/lib/python3.9/site-packages/numpy/lib/function_base.py:2643: RuntimeWarning: invalid value encountered in true_divide\n",
      "  c /= stddev[None, :]\n",
      "/home/kinany/anaconda3/lib/python3.9/site-packages/numpy/lib/function_base.py:2642: RuntimeWarning: invalid value encountered in true_divide\n",
      "  c /= stddev[:, None]\n",
      "/home/kinany/anaconda3/lib/python3.9/site-packages/numpy/lib/function_base.py:2643: RuntimeWarning: invalid value encountered in true_divide\n",
      "  c /= stddev[None, :]\n"
     ]
    }
   ],
   "source": [
    "output_img={};\n",
    "for seed_name in seed_names:\n",
    "    output_img[seed_name]=[]\n",
    "    output_img[seed_name]=config['main_dir'] + config['seed2vox_dir'] + '/spinalcord_icaps_k' + str(ktot) + '/'+seed_name+'/'+target_name[0]+'_fc_maps/' + str(len(config['list_subjects'])) + 'subjects_' + seed_name\n",
    "    seed2voxels.correlation_maps(seed_timeseries,target_timeseries,mask=mask_target,output_img=output_img[seed_name],Fisher=True,n_jobs=8)\n"
   ]
  },
  {
   "cell_type": "markdown",
   "id": "4f169a4b",
   "metadata": {},
   "source": [
    "## <font color=009DD2> <span style=\"background-color: #A9C4C0\"> Smoothing"
   ]
  },
  {
   "cell_type": "code",
   "execution_count": 128,
   "id": "0c61ee5f",
   "metadata": {},
   "outputs": [],
   "source": [
    "from nilearn import image\n",
    "img_smoothed=image.smooth_img(output_img[seed_name]+'_zcorr.nii',[6,6,6])\n",
    "img_smoothed.to_filename(output_img[seed_name].split('.')[0] + '_s.nii' )"
   ]
  },
  {
   "cell_type": "code",
   "execution_count": null,
   "id": "9609f19e",
   "metadata": {},
   "outputs": [],
   "source": []
  }
 ],
 "metadata": {
  "kernelspec": {
   "display_name": "Python 3 (ipykernel)",
   "language": "python",
   "name": "python3"
  },
  "language_info": {
   "codemirror_mode": {
    "name": "ipython",
    "version": 3
   },
   "file_extension": ".py",
   "mimetype": "text/x-python",
   "name": "python",
   "nbconvert_exporter": "python",
   "pygments_lexer": "ipython3",
   "version": "3.9.7"
  }
 },
 "nbformat": 4,
 "nbformat_minor": 5
}
