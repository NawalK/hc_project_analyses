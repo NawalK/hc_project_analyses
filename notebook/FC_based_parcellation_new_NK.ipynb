{
 "cells": [
  {
   "cell_type": "markdown",
   "id": "3f8d447d",
   "metadata": {},
   "source": [
    "# <font color=black> Analysis - FC-based parcellation </font>\n",
    "<hr style=\"border:1px solid black\">"
   ]
  },
  {
   "cell_type": "markdown",
   "id": "af18d097",
   "metadata": {},
   "source": [
    "## <font color=black> <span style=\"background-color: #A0B0C0\"> Imports "
   ]
  },
  {
   "cell_type": "code",
   "execution_count": 1,
   "id": "75af82ae",
   "metadata": {},
   "outputs": [],
   "source": [
    "import sys,json\n",
    "import glob, os\n",
    "import numpy as np\n",
    "sys.path.append('/media/miplab-nas2/Data3/BMPD/hc_project/analysis/code/')\n",
    "\n",
    "from fc_based_parcellation_newtest import FC_Parcellation\n",
    "\n",
    "%matplotlib inline\n",
    "%load_ext autoreload\n",
    "%autoreload 2"
   ]
  },
  {
   "cell_type": "markdown",
   "id": "e72a9ea2",
   "metadata": {},
   "source": [
    "## <font color=black> <span style=\"background-color: #A0B0C0\"> Initialization"
   ]
  },
  {
   "cell_type": "markdown",
   "id": "170dfff1",
   "metadata": {},
   "source": [
    "### <font color=#A0B0C0> I Configuration & parameters </font>"
   ]
  },
  {
   "cell_type": "code",
   "execution_count": 42,
   "id": "a2ad247f",
   "metadata": {},
   "outputs": [],
   "source": [
    "with open('../config/config_fc_based_parcellation_NK.json') as config_file:\n",
    "    config = json.load(config_file) # load config file"
   ]
  },
  {
   "cell_type": "markdown",
   "id": "01e59735",
   "metadata": {},
   "source": [
    "### <font color=#A0B0C0> II Class instance </font>"
   ]
  },
  {
   "cell_type": "code",
   "execution_count": 43,
   "id": "ca604ed3",
   "metadata": {},
   "outputs": [],
   "source": [
    "fc_parcellation = FC_Parcellation(config,'spinalcord','brain')"
   ]
  },
  {
   "cell_type": "code",
   "execution_count": 62,
   "id": "e0724fee",
   "metadata": {},
   "outputs": [
    {
     "name": "stdout",
     "output_type": "stream",
     "text": [
      "COMPUTE VOXELWISE CORRELATION\n",
      "... Subsampling target mask for efficiency\n",
      "... Computing correlations for all possibilities\n",
      "...... Subject P028\n",
      "...... Subject P030\n",
      "...... Subject P033\n",
      "...... Subject P043\n",
      "...... Subject P047\n",
      "...... Subject P050\n",
      "...... Subject P100\n",
      "...... Subject P105\n",
      "...... Subject P108\n",
      "...... Subject P109\n",
      "...... Subject P001\n",
      "...... Subject P003\n",
      "...... Subject P004\n",
      "...... Subject P005\n",
      "...... Subject P006\n",
      "...... Subject P007\n",
      "...... Subject P008\n",
      "...... Subject P009\n",
      "...... Subject P011\n",
      "...... Subject P013\n",
      "... Computing mean correlation over subjects\n",
      "DONE!\n"
     ]
    }
   ],
   "source": [
    "fc_parcellation.compute_voxelwise_correlation(mask_source_path=config['main_dir']+config['masks']['spinalcord'],mask_target_path=config['main_dir']+config['masks']['brain'])"
   ]
  },
  {
   "cell_type": "code",
   "execution_count": null,
   "id": "cfffa195",
   "metadata": {},
   "outputs": [
    {
     "name": "stdout",
     "output_type": "stream",
     "text": [
      "DEFINE NUMBER OF CLUSTERS\n",
      "...Loading k-means parameters\n",
      "...Computing SSE and silhouette coefficients\n",
      "......K = 10\n",
      "......K = 11\n",
      "......K = 12\n",
      "......K = 13\n",
      "......K = 14\n",
      "......K = 15\n",
      "......K = 16\n",
      "......K = 17\n",
      "......K = 18\n",
      "......K = 19\n",
      "......K = 20\n",
      "......K = 21\n",
      "......K = 22\n",
      "......K = 23\n",
      "......K = 24\n",
      "......K = 25\n",
      "......K = 26\n",
      "......K = 27\n",
      "......K = 28\n",
      "......K = 29\n"
     ]
    }
   ],
   "source": [
    "fc_parcellation.define_n_clusters(range(10,35))"
   ]
  },
  {
   "cell_type": "code",
   "execution_count": 69,
   "id": "04fc1a6d",
   "metadata": {},
   "outputs": [
    {
     "data": {
      "image/png": "[encoded data removed]",
      "text/plain": [
       "<Figure size 1080x360 with 2 Axes>"
      ]
     },
     "metadata": {
      "needs_background": "light"
     },
     "output_type": "display_data"
    }
   ],
   "source": [
    "import matplotlib.pyplot as plt\n",
    "_, (ax1,ax2) = plt.subplots(1, 2, figsize=(15, 5))"
   ]
  },
  {
   "cell_type": "code",
   "execution_count": null,
   "id": "e46ad960",
   "metadata": {},
   "outputs": [],
   "source": []
  }
 ],
 "metadata": {
  "kernelspec": {
   "display_name": "Python 3 (ipykernel)",
   "language": "python",
   "name": "python3"
  },
  "language_info": {
   "codemirror_mode": {
    "name": "ipython",
    "version": 3
   },
   "file_extension": ".py",
   "mimetype": "text/x-python",
   "name": "python",
   "nbconvert_exporter": "python",
   "pygments_lexer": "ipython3",
   "version": "3.9.12"
  }
 },
 "nbformat": 4,
 "nbformat_minor": 5
}
