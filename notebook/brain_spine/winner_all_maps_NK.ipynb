{
 "cells": [
  {
   "cell_type": "markdown",
   "id": "85b8439e",
   "metadata": {},
   "source": [
    "Goal: \n",
    "- Create an analyse that will compute for each brain voxels the spinal level gave the maximal MI value (from C1 to C7)\n",
    "- Each voxel will have the value of the segment: 1,2,3,4,5,6 or 7"
   ]
  },
  {
   "cell_type": "markdown",
   "id": "a68f2cec",
   "metadata": {},
   "source": [
    "## <font color=#B2D732> <span style=\"background-color: #4424D6\"> Imports"
   ]
  },
  {
   "cell_type": "code",
   "execution_count": 1,
   "id": "7e82c896",
   "metadata": {},
   "outputs": [
    {
     "name": "stderr",
     "output_type": "stream",
     "text": [
      "/cerebro/cerebro1/dataset/bmpd/derivatives/thibault_test/code/toolbox/bmpd_python/lib/python3.6/site-packages/nilearn/__init__.py:69: FutureWarning: Python 3.6 support is deprecated and will be removed in release 0.10 of Nilearn. Consider switching to Python 3.8 or 3.9.\n",
      "  _python_deprecation_warnings()\n"
     ]
    }
   ],
   "source": [
    "import sys,json\n",
    "import glob, os\n",
    "sys.path.append(\"/cerebro/cerebro1/dataset/bmpd/derivatives/HealthyControls_project/hc_project_analyses/code/\")\n",
    "\n",
    "from winnerAll_maps import WinnerAll\n",
    "\n",
    "%matplotlib inline\n",
    "%load_ext autoreload\n",
    "%autoreload 2"
   ]
  },
  {
   "cell_type": "markdown",
   "id": "2aab2e45",
   "metadata": {},
   "source": [
    "## <font color=#B2D732> <span style=\"background-color: #4424D6\"> A/ Initialization"
   ]
  },
  {
   "cell_type": "markdown",
   "id": "6168aa75",
   "metadata": {},
   "source": [
    " ### <font color=#4424D6> I. Configuration & parameters </font >"
   ]
  },
  {
   "cell_type": "code",
   "execution_count": 2,
   "id": "eede7af3",
   "metadata": {},
   "outputs": [],
   "source": [
    "# Load config file ------------------------------------------------------------\n",
    "with open('/cerebro/cerebro1/dataset/bmpd/derivatives/HealthyControls_project/hc_project_analyses/config/config_seed2voxels_2ndlevel.json') as config_file: # the notebook should be in 'xx/notebook/' folder #config_proprio\n",
    "    config = json.load(config_file) # load config file should be open first and the path inside modified\n",
    "\n",
    "all_subjects=config[\"list_subjects\"]"
   ]
  },
  {
   "cell_type": "markdown",
   "id": "2d2b7c31",
   "metadata": {},
   "source": [
    "### <font color=#4424D6> II. Initialize class based on this </font>"
   ]
  },
  {
   "cell_type": "code",
   "execution_count": 3,
   "id": "0c976df8",
   "metadata": {},
   "outputs": [
    {
     "name": "stdout",
     "output_type": "stream",
     "text": [
      "---------- Initialization info: \n",
      "icap_C1_gm will have a value of: 1\n",
      "icap_C2_gm will have a value of: 2\n",
      "icap_C3_gm will have a value of: 3\n",
      "icap_C4_gm will have a value of: 4\n",
      "icap_C5_gm will have a value of: 5\n",
      "icap_C6_gm will have a value of: 6\n",
      "icap_C7_gm will have a value of: 7\n"
     ]
    },
    {
     "name": "stderr",
     "output_type": "stream",
     "text": [
      "/cerebro/cerebro1/dataset/bmpd/derivatives/thibault_test/code/toolbox/bmpd_python/lib/python3.6/site-packages/nilearn/masking.py:916: UserWarning: Data array used to create a new image contains 64-bit ints. This is likely due to creating the array with numpy and passing `int` as the `dtype`. Many tools such as FSL and SPM cannot deal with int64 in Nifti images, so for compatibility the data has been converted to int32.\n",
      "  return new_img_like(mask_img, unmasked, affine)\n"
     ]
    }
   ],
   "source": [
    "#for subj in all_subjects:\n",
    "#config[\"list_subjects\"]=subj\n",
    "#config['winner_all'][\"tag_input\"]=\"/MNI_GM_2mm_fc_maps/Corr/bi-corr_sub-\" + subj + \".nii.gz\"\n",
    "GradMaps=WinnerAll(config,verbose=False) # initialize the function\n",
    "tag=\"WinnerAll\"\n",
    "GradMaps.compute_GradMaps(output_tag=tag,apply_threshold=1,redo=True,verbose=True)\n",
    "    "
   ]
  },
  {
   "cell_type": "code",
   "execution_count": 4,
   "id": "c64bf97e",
   "metadata": {},
   "outputs": [],
   "source": [
    "import nilearn\n",
    "#4.c Save the output as an image\n",
    "input_file=config[\"second_level\"] + \"/WinnerTakeAll/\" + config[\"winner_all\"][\"analysis\"] + \"/WinnerAll_Levels.nii.gz\"\n",
    "\n",
    "#4.c Save the output as an image\n",
    "mask_dir=\"/cerebro/cerebro1/dataset/bmpd/derivatives/HealthyControls_project/hc_project_analyses/masks/brain/\"\n",
    "\n",
    "for mask_tag in [\"aDMN\"]:#,\"rFrontoPar\",\"lFrontoPar\"]:#[\"SMC\",\"GM\",\"cereb\",\"preC\",\"postC\",\"striatum\",\"auditory\",\"mVisuel\",\"lVisuel\",\"parietal\",\"dDMN\"]: #:# \n",
    "    if mask_tag == \"preC\":\n",
    "        mask= mask_dir + \"iCAPs_vSM.nii.gz\"\n",
    "    elif mask_tag == \"postC\":\n",
    "        mask= mask_dir + \"iCAPs_dSM.nii.gz\"\n",
    "   \n",
    "    elif mask_tag==\"GM\":\n",
    "        mask= mask_dir + \"MNI_GM_2mm.nii\"\n",
    "        \n",
    "    elif mask_tag==\"cereb\":\n",
    "        mask= mask_dir +\"iCAPs_z_cereb_bin.nii.gz\"\n",
    "    \n",
    "    elif mask_tag==\"striatum\":\n",
    "        mask= mask_dir +\"striatum_2mm.nii.gz\"\n",
    "        \n",
    "    elif mask_tag==\"SMC\":\n",
    "        mask=mask_dir + \"iCAP_SMC.nii.gz\"\n",
    "        \n",
    "    elif mask_tag==\"auditory\":\n",
    "        mask=mask_dir + \"iCAPs_z_auditory_bin.nii.gz\"\n",
    "        \n",
    "    elif mask_tag==\"mVisuel\":\n",
    "        mask=mask_dir + \"iCAPs_z_mVisuel_bin.nii.gz\"\n",
    "        \n",
    "    elif mask_tag==\"lVisuel\":\n",
    "        mask=mask_dir + \"iCAPs_z_lVisuel_bin.nii.gz\"\n",
    "        \n",
    "    elif mask_tag==\"parietal\":\n",
    "        mask=mask_dir + \"iCAPs_z_parietal_bin.nii.gz\"\n",
    "\n",
    "    elif mask_tag==\"dDMN\":\n",
    "        mask=mask_dir + \"iCAPs_z_dDMN_bin.nii.gz\"\n",
    "    \n",
    "    elif mask_tag==\"aDMN\":\n",
    "        mask=mask_dir + \"iCAPs_z_aDMN_bin.nii.gz\"\n",
    "    elif mask_tag==\"rFrontoPar\":\n",
    "        mask=mask_dir + \"iCAPs_z_rFrontoPar_bin.nii.gz\"\n",
    "    elif mask_tag==\"lFrontoPar\":\n",
    "        mask=mask_dir + \"iCAPs_z_lFrontoPar_bin.nii.gz\"\n",
    "        \n",
    "       \n",
    "    output_file= config[\"second_level\"] + \"/WinnerTakeAll/\" + config[\"winner_all\"][\"analysis\"] + \"/WinnerAll_Levels_\"+mask_tag+\"_s.nii.gz\"\n",
    "    masker= nilearn.maskers.NiftiMasker(mask, smoothing_fwhm=[2,2,2])\n",
    "    array_s=masker.fit_transform(input_file)\n",
    "    img_s=masker.inverse_transform(array_s)\n",
    "    img_s.to_filename(output_file) # create temporary 3D files\n"
   ]
  },
  {
   "cell_type": "raw",
   "id": "16462cd8",
   "metadata": {},
   "source": [
    "%matplotlib inline\n",
    "from nilearn import plotting, datasets\n",
    "colr_map=\"cold_hot_r\"\n",
    "mask_tag=\"SMC\"\n",
    "#config[\"winner_all\"][\"analysis\"]=\"gm\"\n",
    "config[\"winner_all\"][\"analysis\"]=\"gm\"\n",
    "\n",
    "img = config[\"second_level\"] + \"/WinnerTakeAll/\" + config[\"winner_all\"][\"analysis\"] + \"/WinnerAll_Levels_\"+mask_tag+\"_C6C7.nii.gz\"\n",
    "#img=\"/cerebro/cerebro1/dataset/bmpd/derivatives/HealthyControls_project/templates/MNI/iCAPs/SMC_K10/iCAPs_z_K10_2_bin.nii.gz\"\n",
    "view = plotting.view_img_on_surf(img, threshold=0.5, vmax=8,surf_mesh='fsaverage',cmap=\"nipy_spectral\",symmetric_cmap= None)\n",
    "view"
   ]
  },
  {
   "cell_type": "code",
   "execution_count": null,
   "id": "ac344d13",
   "metadata": {},
   "outputs": [],
   "source": []
  }
 ],
 "metadata": {
  "kernelspec": {
   "display_name": "Python 3 (ipykernel)",
   "language": "python",
   "name": "python3"
  },
  "language_info": {
   "codemirror_mode": {
    "name": "ipython",
    "version": 3
   },
   "file_extension": ".py",
   "mimetype": "text/x-python",
   "name": "python",
   "nbconvert_exporter": "python",
   "pygments_lexer": "ipython3",
   "version": "3.9.12"
  }
 },
 "nbformat": 4,
 "nbformat_minor": 5
}
