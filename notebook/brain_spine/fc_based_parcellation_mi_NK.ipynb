{
 "cells": [
  {
   "cell_type": "markdown",
   "id": "05811f44",
   "metadata": {},
   "source": [
    "# <font color=black> Analysis - FC-based parcellation using mutual information </font>\n",
    "<hr style=\"border:1px solid black\">"
   ]
  },
  {
   "cell_type": "code",
   "execution_count": 1,
   "id": "2a859ef3",
   "metadata": {},
   "outputs": [],
   "source": [
    "import sys,json\n",
    "import glob, os\n",
    "import numpy as np\n",
    "import nibabel as nib\n",
    "import time\n",
    "\n",
    "sys.path.append('/media/miplab-nas2/Data3/BMPD/hc_project/analysis/code/')\n",
    "\n",
    "from fc_based_parcellation import FC_Parcellation\n",
    "\n",
    "%matplotlib inline\n",
    "%load_ext autoreload\n",
    "%autoreload 2"
   ]
  },
  {
   "cell_type": "markdown",
   "id": "54b7d591",
   "metadata": {},
   "source": [
    "# Initialization `MOTOR`\n",
    "<hr style=\"border:0.5px solid black\">"
   ]
  },
  {
   "cell_type": "markdown",
   "id": "00f5de69",
   "metadata": {},
   "source": [
    "### Load configuration file "
   ]
  },
  {
   "cell_type": "code",
   "execution_count": 6,
   "id": "3c9f417e",
   "metadata": {},
   "outputs": [],
   "source": [
    "# Load the config file with all information\n",
    "with open('../../config/config_fc_based_parcellation_NK.json') as config_file:\n",
    "    config = json.load(config_file)"
   ]
  },
  {
   "cell_type": "markdown",
   "id": "d2baa7b7",
   "metadata": {},
   "source": [
    "### Set relevant parameters"
   ]
  },
  {
   "cell_type": "code",
   "execution_count": 10,
   "id": "6a2db77a",
   "metadata": {},
   "outputs": [],
   "source": [
    "# Define tag of this analysis (used for saving)\n",
    "config['output_tag'] = \"frost_C3_gm_to_SMC\"\n",
    "# Define source, target, and the corresponding mask\n",
    "source = 'spinalcord'\n",
    "target = 'brain'\n",
    "\n",
    "config['file_tag']['brain'] = \"_task-rest_bold_stc_brain_moco_brsc_BP_reg_SPM_inTemplate_s.nii.gz\"\n",
    "config['file_tag']['spinalcord'] = \"_task-rest_bold_stc_sc_moco_brsc_BP_inTemplate.nii\"\n",
    "\n",
    "# Note: paths should be with respect to main directory\n",
    "config['masks']['brain'] = \"/analysis/mask/brain/MNI_GM_3mm_SMC.nii.gz\"\n",
    "config['masks']['spinalcord'] = \"/analysis/mask/spinalcord/levels/frostell/gm/frost_C3_gm.nii.gz\"\n",
    "config['list_subjects'] = [\"P030\", \"P099\",\"A006\",\"A007\",\"A008\",\"A009\",\"A011\",\"A013\",\"A023\",\"A024\",\"A025\",\"A026\",\"A027\",\"A028\",\"A029\",\"A030\",\"A032\",\"A033\",\"A034\",\"A036\",\"A037\",\"A038\",\"A039\",\"A043\",\"A044\",\"A045\",\"A046\",\"A048\",\"A050\",\"A051\",\"A052\"]"
   ]
  },
  {
   "cell_type": "markdown",
   "id": "a1183112",
   "metadata": {},
   "source": [
    "### Instantiate class\n",
    "_Note: this will save a config file with all relevant information and prepare folder structure_"
   ]
  },
  {
   "cell_type": "code",
   "execution_count": 11,
   "id": "17504fce",
   "metadata": {},
   "outputs": [],
   "source": [
    "fc_parcellation = FC_Parcellation(config,source,target,'mi')"
   ]
  },
  {
   "cell_type": "markdown",
   "id": "722a714a",
   "metadata": {},
   "source": [
    "# Analyses\n",
    "<hr style=\"border:0.5px solid black\">"
   ]
  },
  {
   "cell_type": "markdown",
   "id": "50793f98",
   "metadata": {},
   "source": [
    "### Compute the voxelwise correlation & run clustering for each subject independently"
   ]
  },
  {
   "cell_type": "code",
   "execution_count": 12,
   "id": "e3433050",
   "metadata": {},
   "outputs": [
    {
     "name": "stdout",
     "output_type": "stream",
     "text": [
      "\u001b[1mSUBJECT P030\u001b[0m\n",
      "\u001b[1mCOMPUTE VOXELWISE FC\u001b[0m\n",
      "\u001b[37mStandardize = True\u001b[0m\n",
      "\u001b[37mOverwrite results = True\u001b[0m\n",
      "... Loading data\n",
      "... Computing FC for all possibilities\n",
      "... Metric: mutual information\n"
     ]
    },
    {
     "name": "stderr",
     "output_type": "stream",
     "text": [
      "  0%|                                                                                                                            | 0/1880 [00:00<?, ?it/s]\n"
     ]
    },
    {
     "ename": "PicklingError",
     "evalue": "Can't pickle <class 'fc_based_parcellation.FC_Parcellation'>: it's not the same object as fc_based_parcellation.FC_Parcellation",
     "output_type": "error",
     "traceback": [
      "\u001b[0;31m---------------------------------------------------------------------------\u001b[0m",
      "\u001b[0;31mPicklingError\u001b[0m                             Traceback (most recent call last)",
      "Cell \u001b[0;32mIn[12], line 6\u001b[0m\n\u001b[1;32m      4\u001b[0m \u001b[38;5;28mprint\u001b[39m(\u001b[38;5;124mf\u001b[39m\u001b[38;5;124m'\u001b[39m\u001b[38;5;130;01m\\033\u001b[39;00m\u001b[38;5;124m[1mSUBJECT \u001b[39m\u001b[38;5;132;01m{\u001b[39;00msub\u001b[38;5;132;01m}\u001b[39;00m\u001b[38;5;130;01m\\033\u001b[39;00m\u001b[38;5;124m[0m\u001b[39m\u001b[38;5;124m'\u001b[39m)\n\u001b[1;32m      5\u001b[0m \u001b[38;5;66;03m# Compute correlation without saving files\u001b[39;00m\n\u001b[0;32m----> 6\u001b[0m \u001b[43mfc_parcellation\u001b[49m\u001b[38;5;241;43m.\u001b[39;49m\u001b[43mcompute_voxelwise_fc\u001b[49m\u001b[43m(\u001b[49m\u001b[43msub\u001b[49m\u001b[38;5;241;43m=\u001b[39;49m\u001b[43msub\u001b[49m\u001b[43m,\u001b[49m\u001b[43m \u001b[49m\n\u001b[1;32m      7\u001b[0m \u001b[43m                                    \u001b[49m\u001b[43moverwrite\u001b[49m\u001b[38;5;241;43m=\u001b[39;49m\u001b[38;5;28;43;01mTrue\u001b[39;49;00m\u001b[43m)\u001b[49m\n\u001b[1;32m      8\u001b[0m \u001b[38;5;66;03m# Run clustering and save labels\u001b[39;00m\n\u001b[1;32m      9\u001b[0m fc_parcellation\u001b[38;5;241m.\u001b[39mrun_clustering(sub\u001b[38;5;241m=\u001b[39msub,\n\u001b[1;32m     10\u001b[0m                                 k_range\u001b[38;5;241m=\u001b[39m\u001b[38;5;241m4\u001b[39m,algorithm\u001b[38;5;241m=\u001b[39m\u001b[38;5;124m'\u001b[39m\u001b[38;5;124mkmeans\u001b[39m\u001b[38;5;124m'\u001b[39m,\n\u001b[1;32m     11\u001b[0m                                 overwrite\u001b[38;5;241m=\u001b[39m\u001b[38;5;28;01mFalse\u001b[39;00m)\n",
      "File \u001b[0;32m/media/miplab-nas2/Data3/BMPD/hc_project/analysis/code/fc_based_parcellation.py:153\u001b[0m, in \u001b[0;36mFC_Parcellation.compute_voxelwise_fc\u001b[0;34m(self, sub, standardize, overwrite, njobs)\u001b[0m\n\u001b[1;32m    151\u001b[0m vox_source_list \u001b[38;5;241m=\u001b[39m \u001b[38;5;28mlist\u001b[39m(\u001b[38;5;28mrange\u001b[39m(np\u001b[38;5;241m.\u001b[39mshape(data_source_masked)[\u001b[38;5;241m0\u001b[39m]))\n\u001b[1;32m    152\u001b[0m result_list \u001b[38;5;241m=\u001b[39m []\n\u001b[0;32m--> 153\u001b[0m \u001b[38;5;28;01mfor\u001b[39;00m result \u001b[38;5;129;01min\u001b[39;00m tqdm(pool\u001b[38;5;241m.\u001b[39mimap_unordered(partial(\u001b[38;5;28mself\u001b[39m\u001b[38;5;241m.\u001b[39m_compute_mi, data_source_masked\u001b[38;5;241m=\u001b[39mdata_source_masked, data_target_masked\u001b[38;5;241m=\u001b[39mdata_target_masked), vox_source_list), total\u001b[38;5;241m=\u001b[39m\u001b[38;5;28mlen\u001b[39m(vox_source_list)):\n\u001b[1;32m    154\u001b[0m     result_list\u001b[38;5;241m.\u001b[39mappend(result)\n\u001b[1;32m    155\u001b[0m pool\u001b[38;5;241m.\u001b[39mclose()\n",
      "File \u001b[0;32m~/anaconda3/lib/python3.9/site-packages/tqdm/std.py:1178\u001b[0m, in \u001b[0;36mtqdm.__iter__\u001b[0;34m(self)\u001b[0m\n\u001b[1;32m   1175\u001b[0m time \u001b[38;5;241m=\u001b[39m \u001b[38;5;28mself\u001b[39m\u001b[38;5;241m.\u001b[39m_time\n\u001b[1;32m   1177\u001b[0m \u001b[38;5;28;01mtry\u001b[39;00m:\n\u001b[0;32m-> 1178\u001b[0m     \u001b[38;5;28;01mfor\u001b[39;00m obj \u001b[38;5;129;01min\u001b[39;00m iterable:\n\u001b[1;32m   1179\u001b[0m         \u001b[38;5;28;01myield\u001b[39;00m obj\n\u001b[1;32m   1180\u001b[0m         \u001b[38;5;66;03m# Update and possibly print the progressbar.\u001b[39;00m\n\u001b[1;32m   1181\u001b[0m         \u001b[38;5;66;03m# Note: does not call self.update(1) for speed optimisation.\u001b[39;00m\n",
      "File \u001b[0;32m~/anaconda3/lib/python3.9/multiprocessing/pool.py:870\u001b[0m, in \u001b[0;36mIMapIterator.next\u001b[0;34m(self, timeout)\u001b[0m\n\u001b[1;32m    868\u001b[0m \u001b[38;5;28;01mif\u001b[39;00m success:\n\u001b[1;32m    869\u001b[0m     \u001b[38;5;28;01mreturn\u001b[39;00m value\n\u001b[0;32m--> 870\u001b[0m \u001b[38;5;28;01mraise\u001b[39;00m value\n",
      "File \u001b[0;32m~/anaconda3/lib/python3.9/multiprocessing/pool.py:537\u001b[0m, in \u001b[0;36mPool._handle_tasks\u001b[0;34m(taskqueue, put, outqueue, pool, cache)\u001b[0m\n\u001b[1;32m    535\u001b[0m     \u001b[38;5;28;01mbreak\u001b[39;00m\n\u001b[1;32m    536\u001b[0m \u001b[38;5;28;01mtry\u001b[39;00m:\n\u001b[0;32m--> 537\u001b[0m     \u001b[43mput\u001b[49m\u001b[43m(\u001b[49m\u001b[43mtask\u001b[49m\u001b[43m)\u001b[49m\n\u001b[1;32m    538\u001b[0m \u001b[38;5;28;01mexcept\u001b[39;00m \u001b[38;5;167;01mException\u001b[39;00m \u001b[38;5;28;01mas\u001b[39;00m e:\n\u001b[1;32m    539\u001b[0m     job, idx \u001b[38;5;241m=\u001b[39m task[:\u001b[38;5;241m2\u001b[39m]\n",
      "File \u001b[0;32m~/anaconda3/lib/python3.9/multiprocessing/connection.py:211\u001b[0m, in \u001b[0;36m_ConnectionBase.send\u001b[0;34m(self, obj)\u001b[0m\n\u001b[1;32m    209\u001b[0m \u001b[38;5;28mself\u001b[39m\u001b[38;5;241m.\u001b[39m_check_closed()\n\u001b[1;32m    210\u001b[0m \u001b[38;5;28mself\u001b[39m\u001b[38;5;241m.\u001b[39m_check_writable()\n\u001b[0;32m--> 211\u001b[0m \u001b[38;5;28mself\u001b[39m\u001b[38;5;241m.\u001b[39m_send_bytes(\u001b[43m_ForkingPickler\u001b[49m\u001b[38;5;241;43m.\u001b[39;49m\u001b[43mdumps\u001b[49m\u001b[43m(\u001b[49m\u001b[43mobj\u001b[49m\u001b[43m)\u001b[49m)\n",
      "File \u001b[0;32m~/anaconda3/lib/python3.9/multiprocessing/reduction.py:51\u001b[0m, in \u001b[0;36mForkingPickler.dumps\u001b[0;34m(cls, obj, protocol)\u001b[0m\n\u001b[1;32m     48\u001b[0m \u001b[38;5;129m@classmethod\u001b[39m\n\u001b[1;32m     49\u001b[0m \u001b[38;5;28;01mdef\u001b[39;00m \u001b[38;5;21mdumps\u001b[39m(\u001b[38;5;28mcls\u001b[39m, obj, protocol\u001b[38;5;241m=\u001b[39m\u001b[38;5;28;01mNone\u001b[39;00m):\n\u001b[1;32m     50\u001b[0m     buf \u001b[38;5;241m=\u001b[39m io\u001b[38;5;241m.\u001b[39mBytesIO()\n\u001b[0;32m---> 51\u001b[0m     \u001b[38;5;28;43mcls\u001b[39;49m\u001b[43m(\u001b[49m\u001b[43mbuf\u001b[49m\u001b[43m,\u001b[49m\u001b[43m \u001b[49m\u001b[43mprotocol\u001b[49m\u001b[43m)\u001b[49m\u001b[38;5;241;43m.\u001b[39;49m\u001b[43mdump\u001b[49m\u001b[43m(\u001b[49m\u001b[43mobj\u001b[49m\u001b[43m)\u001b[49m\n\u001b[1;32m     52\u001b[0m     \u001b[38;5;28;01mreturn\u001b[39;00m buf\u001b[38;5;241m.\u001b[39mgetbuffer()\n",
      "\u001b[0;31mPicklingError\u001b[0m: Can't pickle <class 'fc_based_parcellation.FC_Parcellation'>: it's not the same object as fc_based_parcellation.FC_Parcellation"
     ]
    }
   ],
   "source": [
    "start = time.time()\n",
    "# Loop through the subjects to compute fc and clustering \n",
    "for sub_id,sub in enumerate(fc_parcellation.config['list_subjects']): \n",
    "    print(f'\\033[1mSUBJECT {sub}\\033[0m')\n",
    "    # Compute correlation without saving files\n",
    "    fc_parcellation.compute_voxelwise_fc(sub=sub, \n",
    "                                        overwrite=True)\n",
    "    # Run clustering and save labels\n",
    "    fc_parcellation.run_clustering(sub=sub,\n",
    "                                    k_range=4,algorithm='kmeans',\n",
    "                                    overwrite=False)\n",
    "print(\"\\033[1m... Operation performed in %.2f s!\\033[0m\" % (time.time() - start))"
   ]
  },
  {
   "cell_type": "markdown",
   "id": "35b99817",
   "metadata": {},
   "source": [
    "### Compute the group-level clustering and generate corresponding maps"
   ]
  },
  {
   "cell_type": "code",
   "execution_count": null,
   "id": "cfb28a3e",
   "metadata": {},
   "outputs": [],
   "source": [
    "fc_parcellation.group_clustering(k_range=4,indiv_algorithm='kmeans',overwrite=False)"
   ]
  },
  {
   "cell_type": "markdown",
   "id": "5d90444f",
   "metadata": {},
   "source": [
    "# Initialization `SENSORY`\n",
    "<hr style=\"border:0.5px solid black\">"
   ]
  },
  {
   "cell_type": "markdown",
   "id": "49ac6d33",
   "metadata": {},
   "source": [
    "### Load configuration file "
   ]
  },
  {
   "cell_type": "code",
   "execution_count": null,
   "id": "c8670ba1",
   "metadata": {},
   "outputs": [],
   "source": [
    "# Load the config file with all information\n",
    "with open('../../config/config_fc_based_parcellation_NK_BRtoSC.json') as config_file:\n",
    "    config = json.load(config_file)"
   ]
  },
  {
   "cell_type": "markdown",
   "id": "dffa36eb",
   "metadata": {},
   "source": [
    "### Set relevant parameters"
   ]
  },
  {
   "cell_type": "code",
   "execution_count": null,
   "id": "1b53ab74",
   "metadata": {},
   "outputs": [],
   "source": [
    "# Define tag of this analysis (used for saving)\n",
    "config['output_tag'] = \"postcentral_sensory_to_dorsal\"\n",
    "# Define source, target, and the corresponding mask\n",
    "source = 'brain'\n",
    "target = 'spinalcord'\n",
    "# Note: paths should be with respect to main directory\n",
    "config['masks'][source] = \"/templates/MNI_hc_project/julich_postcentral_sensory.nii.gz\"\n",
    "config['masks'][target] = \"/templates/PAM50_hc_project/template/PAM50_cord_C1toC8_D.nii.gz\"\n",
    "config['list_subjects'] = [\"P099\",\"A023\",\"A024\",\"A025\",\"A026\",\"A027\",\"A028\",\"A029\",\"A030\",\"A033\",\"A034\",\"A036\",\"A037\",\"A038\",\"A039\",\"A043\"]"
   ]
  },
  {
   "cell_type": "markdown",
   "id": "bd19eeba",
   "metadata": {},
   "source": [
    "### Instantiate class\n",
    "_Note: this will save a config file with all relevant information and prepare folder structure_"
   ]
  },
  {
   "cell_type": "code",
   "execution_count": null,
   "id": "09432e76",
   "metadata": {},
   "outputs": [],
   "source": [
    "fc_parcellation = FC_Parcellation(config,source,target,'corr')"
   ]
  },
  {
   "cell_type": "markdown",
   "id": "fd4c10da",
   "metadata": {},
   "source": [
    "# Analyses\n",
    "<hr style=\"border:0.5px solid black\">"
   ]
  },
  {
   "cell_type": "markdown",
   "id": "07781733",
   "metadata": {},
   "source": [
    "### Compute the voxelwise correlation & run clustering for each subject independently"
   ]
  },
  {
   "cell_type": "code",
   "execution_count": null,
   "id": "e7414c76",
   "metadata": {},
   "outputs": [],
   "source": [
    "start = time.time()\n",
    "# Initialize empty array for individual labels\n",
    "mask_source_path = config['main_dir']+config['masks'][source]\n",
    "nvox_source = np.count_nonzero(nib.load(mask_source_path).get_fdata().astype(bool))\n",
    "subject_labels = np.zeros((len(fc_parcellation.config['list_subjects']),nvox_source))\n",
    "for sub_id,sub in enumerate(fc_parcellation.config['list_subjects']): \n",
    "    print(f'SUBJECT {sub}')\n",
    "    # Compute correlation without saving files\n",
    "    dict_corr = fc_parcellation.compute_voxelwise_fc(sub=sub, \n",
    "                                                  load_from_file=True, \n",
    "                                                  save_results=True, \n",
    "                                                  mask_source_path=mask_source_path, \n",
    "                                                  mask_target_path=config['main_dir']+config['masks'][target])\n",
    "    # Run clustering and save labels\n",
    "    subject_labels[sub_id,:] = fc_parcellation.run_clustering(dict_corr,\n",
    "                                                              k=8,algorithm='kmeans',\n",
    "                                                              load_from_file=True,\n",
    "                                                              save_results=True)\n",
    "print(\"... Operation performed in %.2f s!\" % (time.time() - start))"
   ]
  },
  {
   "cell_type": "markdown",
   "id": "c31510eb",
   "metadata": {},
   "source": [
    "### Compute the group-level clustering and generate corresponding maps"
   ]
  },
  {
   "cell_type": "code",
   "execution_count": null,
   "id": "356e393a",
   "metadata": {},
   "outputs": [],
   "source": [
    "group_labels, indiv_labels_relabeled = fc_parcellation.group_clustering(subject_labels)\n",
    "fc_parcellation.prepare_seed_map(group_labels)\n",
    "fc_parcellation.prepare_target_maps(indiv_labels_relabeled, load_from_file=True, save_results=True)"
   ]
  },
  {
   "cell_type": "code",
   "execution_count": null,
   "id": "e91b8db3",
   "metadata": {},
   "outputs": [],
   "source": []
  }
 ],
 "metadata": {
  "kernelspec": {
   "display_name": "Python 3 (ipykernel)",
   "language": "python",
   "name": "python3"
  },
  "language_info": {
   "codemirror_mode": {
    "name": "ipython",
    "version": 3
   },
   "file_extension": ".py",
   "mimetype": "text/x-python",
   "name": "python",
   "nbconvert_exporter": "python",
   "pygments_lexer": "ipython3",
   "version": "3.9.12"
  }
 },
 "nbformat": 4,
 "nbformat_minor": 5
}
