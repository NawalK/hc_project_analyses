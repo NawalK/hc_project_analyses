{
 "cells": [
  {
   "cell_type": "markdown",
   "id": "3e9deade",
   "metadata": {},
   "source": [
    "## <font color=#B2D732> <span style=\"background-color: #4424D6\"> Imports"
   ]
  },
  {
   "cell_type": "code",
   "execution_count": 1,
   "id": "a8e0651f",
   "metadata": {},
   "outputs": [
    {
     "name": "stderr",
     "output_type": "stream",
     "text": [
      "/cerebro/cerebro1/dataset/bmpd/derivatives/thibault_test/code/toolbox/bmpd_python/lib/python3.6/site-packages/nilearn/__init__.py:69: FutureWarning: Python 3.6 support is deprecated and will be removed in release 0.10 of Nilearn. Consider switching to Python 3.8 or 3.9.\n",
      "  _python_deprecation_warnings()\n",
      "/cerebro/cerebro1/dataset/bmpd/derivatives/thibault_test/code/toolbox/bmpd_python/lib/python3.6/site-packages/outdated/utils.py:18: OutdatedPackageWarning: The package outdated is out of date. Your version is 0.2.1, the latest is 0.2.2.\n",
      "Set the environment variable OUTDATED_IGNORE=1 to disable these warnings.\n",
      "  **kwargs\n",
      "/cerebro/cerebro1/dataset/bmpd/derivatives/thibault_test/code/toolbox/bmpd_python/lib/python3.6/site-packages/outdated/utils.py:18: OutdatedPackageWarning: The package pingouin is out of date. Your version is 0.3.11, the latest is 0.5.3.\n",
      "Set the environment variable OUTDATED_IGNORE=1 to disable these warnings.\n",
      "  **kwargs\n"
     ]
    }
   ],
   "source": [
    "import sys,json\n",
    "import glob, os\n",
    "sys.path.append(\"/cerebro/cerebro1/dataset/bmpd/derivatives/HealthyControls_project/hc_project_analyses/code/\")\n",
    "\n",
    "sys.path.append(\"/cerebro/cerebro1/dataset/bmpd/derivatives/thibault_test/code/toolbox/spinalcordtoolbox-5.0.0\")\n",
    "sys.path.append(\"/cerebro/cerebro1/dataset/bmpd/derivatives/thibault_test/code/toolbox/spinalcordtoolbox-5.0.0/scripts\") \n",
    "from spinalcordtoolbox.utils.sys import run_proc\n",
    "\n",
    "from seed_to_voxels import Seed2voxels\n",
    "\n",
    "%matplotlib inline\n",
    "%load_ext autoreload\n",
    "%autoreload 2"
   ]
  },
  {
   "cell_type": "code",
   "execution_count": 2,
   "id": "84eef3d1",
   "metadata": {},
   "outputs": [],
   "source": [
    "## <font color=#B2D732> <span style=\"background-color: #4424D6\"> A/ Initialization"
   ]
  },
  {
   "cell_type": "markdown",
   "id": "0e763fb9",
   "metadata": {},
   "source": [
    " ### <font color=#4424D6> I. Configuration & parameters </font >"
   ]
  },
  {
   "cell_type": "code",
   "execution_count": 34,
   "id": "c462d8ee",
   "metadata": {},
   "outputs": [],
   "source": [
    "# Load config file ------------------------------------------------------------\n",
    "with open('../../config/config_seed2voxels.json') as config_file: # the notebook should be in 'xx/notebook/' folder #config_proprio\n",
    "    config = json.load(config_file) # load config file should be open first and the path inside modified\n",
    "    #config['list_subjects']=config[\"list_subjects_younger\"]\n",
    "signal='raw'"
   ]
  },
  {
   "cell_type": "markdown",
   "id": "633b49ec",
   "metadata": {},
   "source": [
    "### <font color=#4424D6> II. Initialize class based on this </font>"
   ]
  },
  {
   "cell_type": "code",
   "execution_count": 35,
   "id": "d36e59e2",
   "metadata": {},
   "outputs": [
    {
     "name": "stdout",
     "output_type": "stream",
     "text": [
      "Start the analysis on: 1 participants\n",
      "targeted voxel's mask: MNI_GM_3mm\n",
      "/cerebro/cerebro1/dataset/bmpd/derivatives/HealthyControls_project//hc_project_analyses/mask/spinalcord/iCAPs/thr2.5/spinalcord_C2.nii.gz\n"
     ]
    }
   ],
   "source": [
    "seed2voxels=Seed2voxels(config,signal) # initialize the function"
   ]
  },
  {
   "cell_type": "markdown",
   "id": "22d41fbe",
   "metadata": {},
   "source": [
    "## <font color=#B2D732> <span style=\"background-color: #4424D6\"> B/ Data extraction </font></span>\n",
    "### <font color=#4424D6> I. Time series extraction - Target </font>\n"
   ]
  },
  {
   "cell_type": "code",
   "execution_count": 36,
   "id": "99e1d521",
   "metadata": {},
   "outputs": [
    {
     "name": "stderr",
     "output_type": "stream",
     "text": [
      "data extracted: 100%|██████████| 1/1 [00:13<00:00, 13.69s/it]"
     ]
    },
    {
     "name": "stdout",
     "output_type": "stream",
     "text": [
      "Ouptuts have the following contain:\n",
      "1: timeseries_target={'raw':[],'zscored':[],'mean':[],'zmean':[],'PC1':[]}\n",
      "2: timeseries_seeds={'raw':[],'zscored':[],'mean':[],'zmean':[],'PC1':[]}\n"
     ]
    },
    {
     "name": "stderr",
     "output_type": "stream",
     "text": [
      "\n"
     ]
    }
   ],
   "source": [
    "target_timeseries,seeds_timeseries =seed2voxels.extract_data(redo=True,n_jobs=8) \n"
   ]
  },
  {
   "cell_type": "markdown",
   "id": "58350e4f",
   "metadata": {},
   "source": [
    "## <font color=#B2D732> <span style=\"background-color: #4424D6\"> C/ Correlation analysis"
   ]
  },
  {
   "cell_type": "code",
   "execution_count": 37,
   "id": "56666655",
   "metadata": {},
   "outputs": [],
   "source": [
    "output_img={};\n",
    "for seed_name in config[\"seeds\"][\"seed_names\"]:\n",
    "    output_img[seed_name]=[]\n",
    "    output_img[seed_name]=config['main_dir'] + config['seed2vox_dir'] + '/1_first_level/' + seed_name + '/' + config[\"targeted_voxels\"][\"target_name\"]+ '_fc_maps/corr_' + str(len(config['list_subjects'])) + 'subjects_seed_' + seed_name + '_s'\n",
    "\n",
    "    corr=seed2voxels.correlation_maps(seeds_timeseries[\"zmean\"][seed_name],target_timeseries[\"zscored\"],output_img=output_img[seed_name],Fisher=True,partial=False,save_maps=True,smoothing_output=[6,6,6],redo=True,n_jobs=1)\n"
   ]
  },
  {
   "cell_type": "markdown",
   "id": "8273ebe7",
   "metadata": {},
   "source": [
    "## <font color=#B2D732> <span style=\"background-color: #4424D6\"> D/ Mutual information"
   ]
  },
  {
   "cell_type": "code",
   "execution_count": 116,
   "id": "3ad3f375",
   "metadata": {},
   "outputs": [
    {
     "data": {
      "text/plain": [
       "['spinalcord_C2',\n",
       " 'spinalcord_C3',\n",
       " 'spinalcord_C4',\n",
       " 'spinalcord_C5',\n",
       " 'spinalcord_C6',\n",
       " 'spinalcord_C7',\n",
       " 'spinalcord_C8',\n",
       " 'spinalcord_T1']"
      ]
     },
     "execution_count": 116,
     "metadata": {},
     "output_type": "execute_result"
    }
   ],
   "source": [
    "config[\"seeds\"][\"seed_names\"]"
   ]
  },
  {
   "cell_type": "code",
   "execution_count": 137,
   "id": "cec188cb",
   "metadata": {},
   "outputs": [
    {
     "ename": "ValueError",
     "evalue": "Input contains NaN, infinity or a value too large for dtype('float64').",
     "output_type": "error",
     "traceback": [
      "\u001b[0;31m---------------------------------------------------------------------------\u001b[0m",
      "\u001b[0;31m_RemoteTraceback\u001b[0m                          Traceback (most recent call last)",
      "\u001b[0;31m_RemoteTraceback\u001b[0m: \n\"\"\"\nTraceback (most recent call last):\n  File \"/cerebro/cerebro1/dataset/bmpd/derivatives/thibault_test/code/toolbox/bmpd_python/lib/python3.6/site-packages/joblib/externals/loky/process_executor.py\", line 431, in _process_worker\n    r = call_item()\n  File \"/cerebro/cerebro1/dataset/bmpd/derivatives/thibault_test/code/toolbox/bmpd_python/lib/python3.6/site-packages/joblib/externals/loky/process_executor.py\", line 285, in __call__\n    return self.fn(*self.args, **self.kwargs)\n  File \"/cerebro/cerebro1/dataset/bmpd/derivatives/thibault_test/code/toolbox/bmpd_python/lib/python3.6/site-packages/joblib/_parallel_backends.py\", line 595, in __call__\n    return self.func(*args, **kwargs)\n  File \"/cerebro/cerebro1/dataset/bmpd/derivatives/thibault_test/code/toolbox/bmpd_python/lib/python3.6/site-packages/joblib/parallel.py\", line 253, in __call__\n    for func, args, kwargs in self.items]\n  File \"/cerebro/cerebro1/dataset/bmpd/derivatives/thibault_test/code/toolbox/bmpd_python/lib/python3.6/site-packages/joblib/parallel.py\", line 253, in <listcomp>\n    for func, args, kwargs in self.items]\n  File \"/cerebro/cerebro1/dataset/bmpd/derivatives/HealthyControls_project/hc_project_analyses/code/seed_to_voxels.py\", line 368, in _compute_mutual_info\n    seed_to_voxel_mi = mutual_info_regression(voxels_ts,seed_ts,n_neighbors=8)\n  File \"/cerebro/cerebro1/dataset/bmpd/derivatives/thibault_test/code/toolbox/bmpd_python/lib/python3.6/site-packages/sklearn/utils/validation.py\", line 63, in inner_f\n    return f(*args, **kwargs)\n  File \"/cerebro/cerebro1/dataset/bmpd/derivatives/thibault_test/code/toolbox/bmpd_python/lib/python3.6/site-packages/sklearn/feature_selection/_mutual_info.py\", line 368, in mutual_info_regression\n    copy, random_state)\n  File \"/cerebro/cerebro1/dataset/bmpd/derivatives/thibault_test/code/toolbox/bmpd_python/lib/python3.6/site-packages/sklearn/feature_selection/_mutual_info.py\", line 243, in _estimate_mi\n    X, y = check_X_y(X, y, accept_sparse='csc', y_numeric=not discrete_target)\n  File \"/cerebro/cerebro1/dataset/bmpd/derivatives/thibault_test/code/toolbox/bmpd_python/lib/python3.6/site-packages/sklearn/utils/validation.py\", line 63, in inner_f\n    return f(*args, **kwargs)\n  File \"/cerebro/cerebro1/dataset/bmpd/derivatives/thibault_test/code/toolbox/bmpd_python/lib/python3.6/site-packages/sklearn/utils/validation.py\", line 878, in check_X_y\n    estimator=estimator)\n  File \"/cerebro/cerebro1/dataset/bmpd/derivatives/thibault_test/code/toolbox/bmpd_python/lib/python3.6/site-packages/sklearn/utils/validation.py\", line 63, in inner_f\n    return f(*args, **kwargs)\n  File \"/cerebro/cerebro1/dataset/bmpd/derivatives/thibault_test/code/toolbox/bmpd_python/lib/python3.6/site-packages/sklearn/utils/validation.py\", line 721, in check_array\n    allow_nan=force_all_finite == 'allow-nan')\n  File \"/cerebro/cerebro1/dataset/bmpd/derivatives/thibault_test/code/toolbox/bmpd_python/lib/python3.6/site-packages/sklearn/utils/validation.py\", line 106, in _assert_all_finite\n    msg_dtype if msg_dtype is not None else X.dtype)\nValueError: Input contains NaN, infinity or a value too large for dtype('float64').\n\"\"\"",
      "\nThe above exception was the direct cause of the following exception:\n",
      "\u001b[0;31mValueError\u001b[0m                                Traceback (most recent call last)",
      "\u001b[0;32m<ipython-input-137-59905ad7df81>\u001b[0m in \u001b[0;36m<module>\u001b[0;34m\u001b[0m\n\u001b[1;32m     10\u001b[0m                                     \u001b[0moutput_img\u001b[0m\u001b[0;34m=\u001b[0m\u001b[0moutput_img\u001b[0m\u001b[0;34m[\u001b[0m\u001b[0mseed_name\u001b[0m\u001b[0;34m]\u001b[0m\u001b[0;34m,\u001b[0m\u001b[0;34m\u001b[0m\u001b[0;34m\u001b[0m\u001b[0m\n\u001b[1;32m     11\u001b[0m                                     \u001b[0msave_maps\u001b[0m\u001b[0;34m=\u001b[0m\u001b[0;32mFalse\u001b[0m\u001b[0;34m,\u001b[0m\u001b[0;34m\u001b[0m\u001b[0;34m\u001b[0m\u001b[0m\n\u001b[0;32m---> 12\u001b[0;31m                                     smoothing_output=[6,6,6],redo=False, n_jobs=8)\n\u001b[0m",
      "\u001b[0;32m/cerebro/cerebro1/dataset/bmpd/derivatives/HealthyControls_project/hc_project_analyses/code/seed_to_voxels.py\u001b[0m in \u001b[0;36mmutual_info_maps\u001b[0;34m(self, seed_ts, voxels_ts, output_img, save_maps, smoothing_output, redo, n_jobs)\u001b[0m\n\u001b[1;32m    342\u001b[0m         \u001b[0mnjobs\u001b[0m\u001b[0;34m:\u001b[0m \u001b[0mint\u001b[0m\u001b[0;34m\u001b[0m\u001b[0;34m\u001b[0m\u001b[0m\n\u001b[1;32m    343\u001b[0m             \u001b[0mnumber\u001b[0m \u001b[0mof\u001b[0m \u001b[0mjobs\u001b[0m \u001b[0;32mfor\u001b[0m \u001b[0mparallelization\u001b[0m\u001b[0;34m\u001b[0m\u001b[0;34m\u001b[0m\u001b[0m\n\u001b[0;32m--> 344\u001b[0;31m \u001b[0;34m\u001b[0m\u001b[0m\n\u001b[0m\u001b[1;32m    345\u001b[0m         \u001b[0;34m-\u001b[0m\u001b[0;34m-\u001b[0m\u001b[0;34m-\u001b[0m\u001b[0;34m-\u001b[0m\u001b[0;34m-\u001b[0m\u001b[0;34m-\u001b[0m\u001b[0;34m-\u001b[0m\u001b[0;34m-\u001b[0m\u001b[0;34m-\u001b[0m\u001b[0;34m-\u001b[0m\u001b[0;34m\u001b[0m\u001b[0;34m\u001b[0m\u001b[0m\n\u001b[1;32m    346\u001b[0m         '''\n",
      "\u001b[0;32m/cerebro/cerebro1/dataset/bmpd/derivatives/thibault_test/code/toolbox/bmpd_python/lib/python3.6/site-packages/joblib/parallel.py\u001b[0m in \u001b[0;36m__call__\u001b[0;34m(self, iterable)\u001b[0m\n\u001b[1;32m   1040\u001b[0m \u001b[0;34m\u001b[0m\u001b[0m\n\u001b[1;32m   1041\u001b[0m             \u001b[0;32mwith\u001b[0m \u001b[0mself\u001b[0m\u001b[0;34m.\u001b[0m\u001b[0m_backend\u001b[0m\u001b[0;34m.\u001b[0m\u001b[0mretrieval_context\u001b[0m\u001b[0;34m(\u001b[0m\u001b[0;34m)\u001b[0m\u001b[0;34m:\u001b[0m\u001b[0;34m\u001b[0m\u001b[0;34m\u001b[0m\u001b[0m\n\u001b[0;32m-> 1042\u001b[0;31m                 \u001b[0mself\u001b[0m\u001b[0;34m.\u001b[0m\u001b[0mretrieve\u001b[0m\u001b[0;34m(\u001b[0m\u001b[0;34m)\u001b[0m\u001b[0;34m\u001b[0m\u001b[0;34m\u001b[0m\u001b[0m\n\u001b[0m\u001b[1;32m   1043\u001b[0m             \u001b[0;31m# Make sure that we get a last message telling us we are done\u001b[0m\u001b[0;34m\u001b[0m\u001b[0;34m\u001b[0m\u001b[0;34m\u001b[0m\u001b[0m\n\u001b[1;32m   1044\u001b[0m             \u001b[0melapsed_time\u001b[0m \u001b[0;34m=\u001b[0m \u001b[0mtime\u001b[0m\u001b[0;34m.\u001b[0m\u001b[0mtime\u001b[0m\u001b[0;34m(\u001b[0m\u001b[0;34m)\u001b[0m \u001b[0;34m-\u001b[0m \u001b[0mself\u001b[0m\u001b[0;34m.\u001b[0m\u001b[0m_start_time\u001b[0m\u001b[0;34m\u001b[0m\u001b[0;34m\u001b[0m\u001b[0m\n",
      "\u001b[0;32m/cerebro/cerebro1/dataset/bmpd/derivatives/thibault_test/code/toolbox/bmpd_python/lib/python3.6/site-packages/joblib/parallel.py\u001b[0m in \u001b[0;36mretrieve\u001b[0;34m(self)\u001b[0m\n\u001b[1;32m    919\u001b[0m             \u001b[0;32mtry\u001b[0m\u001b[0;34m:\u001b[0m\u001b[0;34m\u001b[0m\u001b[0;34m\u001b[0m\u001b[0m\n\u001b[1;32m    920\u001b[0m                 \u001b[0;32mif\u001b[0m \u001b[0mgetattr\u001b[0m\u001b[0;34m(\u001b[0m\u001b[0mself\u001b[0m\u001b[0;34m.\u001b[0m\u001b[0m_backend\u001b[0m\u001b[0;34m,\u001b[0m \u001b[0;34m'supports_timeout'\u001b[0m\u001b[0;34m,\u001b[0m \u001b[0;32mFalse\u001b[0m\u001b[0;34m)\u001b[0m\u001b[0;34m:\u001b[0m\u001b[0;34m\u001b[0m\u001b[0;34m\u001b[0m\u001b[0m\n\u001b[0;32m--> 921\u001b[0;31m                     \u001b[0mself\u001b[0m\u001b[0;34m.\u001b[0m\u001b[0m_output\u001b[0m\u001b[0;34m.\u001b[0m\u001b[0mextend\u001b[0m\u001b[0;34m(\u001b[0m\u001b[0mjob\u001b[0m\u001b[0;34m.\u001b[0m\u001b[0mget\u001b[0m\u001b[0;34m(\u001b[0m\u001b[0mtimeout\u001b[0m\u001b[0;34m=\u001b[0m\u001b[0mself\u001b[0m\u001b[0;34m.\u001b[0m\u001b[0mtimeout\u001b[0m\u001b[0;34m)\u001b[0m\u001b[0;34m)\u001b[0m\u001b[0;34m\u001b[0m\u001b[0;34m\u001b[0m\u001b[0m\n\u001b[0m\u001b[1;32m    922\u001b[0m                 \u001b[0;32melse\u001b[0m\u001b[0;34m:\u001b[0m\u001b[0;34m\u001b[0m\u001b[0;34m\u001b[0m\u001b[0m\n\u001b[1;32m    923\u001b[0m                     \u001b[0mself\u001b[0m\u001b[0;34m.\u001b[0m\u001b[0m_output\u001b[0m\u001b[0;34m.\u001b[0m\u001b[0mextend\u001b[0m\u001b[0;34m(\u001b[0m\u001b[0mjob\u001b[0m\u001b[0;34m.\u001b[0m\u001b[0mget\u001b[0m\u001b[0;34m(\u001b[0m\u001b[0;34m)\u001b[0m\u001b[0;34m)\u001b[0m\u001b[0;34m\u001b[0m\u001b[0;34m\u001b[0m\u001b[0m\n",
      "\u001b[0;32m/cerebro/cerebro1/dataset/bmpd/derivatives/thibault_test/code/toolbox/bmpd_python/lib/python3.6/site-packages/joblib/_parallel_backends.py\u001b[0m in \u001b[0;36mwrap_future_result\u001b[0;34m(future, timeout)\u001b[0m\n\u001b[1;32m    540\u001b[0m         AsyncResults.get from multiprocessing.\"\"\"\n\u001b[1;32m    541\u001b[0m         \u001b[0;32mtry\u001b[0m\u001b[0;34m:\u001b[0m\u001b[0;34m\u001b[0m\u001b[0;34m\u001b[0m\u001b[0m\n\u001b[0;32m--> 542\u001b[0;31m             \u001b[0;32mreturn\u001b[0m \u001b[0mfuture\u001b[0m\u001b[0;34m.\u001b[0m\u001b[0mresult\u001b[0m\u001b[0;34m(\u001b[0m\u001b[0mtimeout\u001b[0m\u001b[0;34m=\u001b[0m\u001b[0mtimeout\u001b[0m\u001b[0;34m)\u001b[0m\u001b[0;34m\u001b[0m\u001b[0;34m\u001b[0m\u001b[0m\n\u001b[0m\u001b[1;32m    543\u001b[0m         \u001b[0;32mexcept\u001b[0m \u001b[0mCfTimeoutError\u001b[0m \u001b[0;32mas\u001b[0m \u001b[0me\u001b[0m\u001b[0;34m:\u001b[0m\u001b[0;34m\u001b[0m\u001b[0;34m\u001b[0m\u001b[0m\n\u001b[1;32m    544\u001b[0m             \u001b[0;32mraise\u001b[0m \u001b[0mTimeoutError\u001b[0m \u001b[0;32mfrom\u001b[0m \u001b[0me\u001b[0m\u001b[0;34m\u001b[0m\u001b[0;34m\u001b[0m\u001b[0m\n",
      "\u001b[0;32m/usr/lib/python3.6/concurrent/futures/_base.py\u001b[0m in \u001b[0;36mresult\u001b[0;34m(self, timeout)\u001b[0m\n\u001b[1;32m    423\u001b[0m                 \u001b[0;32mraise\u001b[0m \u001b[0mCancelledError\u001b[0m\u001b[0;34m(\u001b[0m\u001b[0;34m)\u001b[0m\u001b[0;34m\u001b[0m\u001b[0;34m\u001b[0m\u001b[0m\n\u001b[1;32m    424\u001b[0m             \u001b[0;32melif\u001b[0m \u001b[0mself\u001b[0m\u001b[0;34m.\u001b[0m\u001b[0m_state\u001b[0m \u001b[0;34m==\u001b[0m \u001b[0mFINISHED\u001b[0m\u001b[0;34m:\u001b[0m\u001b[0;34m\u001b[0m\u001b[0;34m\u001b[0m\u001b[0m\n\u001b[0;32m--> 425\u001b[0;31m                 \u001b[0;32mreturn\u001b[0m \u001b[0mself\u001b[0m\u001b[0;34m.\u001b[0m\u001b[0m__get_result\u001b[0m\u001b[0;34m(\u001b[0m\u001b[0;34m)\u001b[0m\u001b[0;34m\u001b[0m\u001b[0;34m\u001b[0m\u001b[0m\n\u001b[0m\u001b[1;32m    426\u001b[0m \u001b[0;34m\u001b[0m\u001b[0m\n\u001b[1;32m    427\u001b[0m             \u001b[0mself\u001b[0m\u001b[0;34m.\u001b[0m\u001b[0m_condition\u001b[0m\u001b[0;34m.\u001b[0m\u001b[0mwait\u001b[0m\u001b[0;34m(\u001b[0m\u001b[0mtimeout\u001b[0m\u001b[0;34m)\u001b[0m\u001b[0;34m\u001b[0m\u001b[0;34m\u001b[0m\u001b[0m\n",
      "\u001b[0;32m/usr/lib/python3.6/concurrent/futures/_base.py\u001b[0m in \u001b[0;36m__get_result\u001b[0;34m(self)\u001b[0m\n\u001b[1;32m    382\u001b[0m     \u001b[0;32mdef\u001b[0m \u001b[0m__get_result\u001b[0m\u001b[0;34m(\u001b[0m\u001b[0mself\u001b[0m\u001b[0;34m)\u001b[0m\u001b[0;34m:\u001b[0m\u001b[0;34m\u001b[0m\u001b[0;34m\u001b[0m\u001b[0m\n\u001b[1;32m    383\u001b[0m         \u001b[0;32mif\u001b[0m \u001b[0mself\u001b[0m\u001b[0;34m.\u001b[0m\u001b[0m_exception\u001b[0m\u001b[0;34m:\u001b[0m\u001b[0;34m\u001b[0m\u001b[0;34m\u001b[0m\u001b[0m\n\u001b[0;32m--> 384\u001b[0;31m             \u001b[0;32mraise\u001b[0m \u001b[0mself\u001b[0m\u001b[0;34m.\u001b[0m\u001b[0m_exception\u001b[0m\u001b[0;34m\u001b[0m\u001b[0;34m\u001b[0m\u001b[0m\n\u001b[0m\u001b[1;32m    385\u001b[0m         \u001b[0;32melse\u001b[0m\u001b[0;34m:\u001b[0m\u001b[0;34m\u001b[0m\u001b[0;34m\u001b[0m\u001b[0m\n\u001b[1;32m    386\u001b[0m             \u001b[0;32mreturn\u001b[0m \u001b[0mself\u001b[0m\u001b[0;34m.\u001b[0m\u001b[0m_result\u001b[0m\u001b[0;34m\u001b[0m\u001b[0;34m\u001b[0m\u001b[0m\n",
      "\u001b[0;31mValueError\u001b[0m: Input contains NaN, infinity or a value too large for dtype('float64')."
     ]
    }
   ],
   "source": [
    "output_img={};\n",
    "\n",
    "for seed_name in config[\"seeds\"][\"seed_names\"]:\n",
    "    output_img[seed_name]=[]\n",
    "    output_img[seed_name]=config['main_dir'] + config['seed2vox_dir'] + '/1_first_level/' + seed_name + '/' + config[\"targeted_voxels\"][\"target_name\"]+ '_fc_maps/mi_' + str(len(config['list_subjects'])) + 'subjects_seed_' + seed_name.split('_')[-1] + '_s'\n",
    "\n",
    "    \n",
    "    mi=seed2voxels.mutual_info_maps(seeds_timeseries[\"zmean\"][seed_name],\n",
    "                                    target_timeseries[\"zscored\"],\n",
    "                                    output_img=output_img[seed_name],\n",
    "                                    save_maps=False,\n",
    "                                    smoothing_output=[6,6,6],redo=False, n_jobs=8)"
   ]
  },
  {
   "cell_type": "code",
   "execution_count": null,
   "id": "d5069a51",
   "metadata": {},
   "outputs": [],
   "source": []
  },
  {
   "cell_type": "markdown",
   "id": "94c5939b",
   "metadata": {},
   "source": [
    "## <font color=#B2D732> <span style=\"background-color: #4424D6\"> D/ Distance correlation"
   ]
  },
  {
   "cell_type": "code",
   "execution_count": 142,
   "id": "47d82d30",
   "metadata": {},
   "outputs": [
    {
     "name": "stderr",
     "output_type": "stream",
     "text": [
      "process duration: 100%|██████████| 50572/50572 [00:57<00:00, 886.76it/s]\n",
      "process duration: 100%|██████████| 50572/50572 [00:56<00:00, 890.20it/s]\n",
      "process duration: 100%|██████████| 50572/50572 [00:56<00:00, 891.09it/s]\n",
      "process duration: 100%|██████████| 50572/50572 [00:56<00:00, 893.42it/s]\n",
      "process duration: 100%|██████████| 50572/50572 [00:56<00:00, 892.22it/s]\n",
      "process duration: 100%|██████████| 50572/50572 [00:56<00:00, 890.22it/s]\n",
      "process duration: 100%|██████████| 50572/50572 [00:57<00:00, 884.47it/s]\n",
      "process duration: 100%|██████████| 50572/50572 [00:57<00:00, 885.52it/s]\n",
      "process duration: 100%|██████████| 50572/50572 [00:56<00:00, 889.63it/s]\n",
      "process duration: 100%|██████████| 50572/50572 [00:57<00:00, 877.01it/s]\n",
      "process duration: 100%|██████████| 50572/50572 [00:56<00:00, 889.94it/s]\n",
      "process duration: 100%|██████████| 50572/50572 [00:57<00:00, 882.17it/s]\n",
      "process duration: 100%|██████████| 50572/50572 [00:57<00:00, 875.53it/s]\n",
      "process duration: 100%|██████████| 50572/50572 [00:58<00:00, 868.21it/s]\n",
      "process duration: 100%|██████████| 50572/50572 [00:58<00:00, 867.91it/s]\n",
      "process duration: 100%|██████████| 50572/50572 [00:58<00:00, 869.00it/s]\n",
      "process duration: 100%|██████████| 50572/50572 [00:56<00:00, 891.36it/s]\n",
      "process duration: 100%|██████████| 50572/50572 [00:56<00:00, 892.06it/s]\n",
      "process duration: 100%|██████████| 50572/50572 [00:56<00:00, 888.93it/s]\n",
      "process duration: 100%|██████████| 50572/50572 [00:56<00:00, 891.86it/s]\n",
      "process duration: 100%|██████████| 50572/50572 [00:56<00:00, 891.80it/s]\n",
      "process duration: 100%|██████████| 50572/50572 [00:57<00:00, 877.52it/s]\n",
      "process duration: 100%|██████████| 50572/50572 [01:08<00:00, 738.85it/s]\n",
      "process duration: 100%|██████████| 50572/50572 [01:07<00:00, 753.52it/s]\n",
      "process duration: 100%|██████████| 50572/50572 [01:06<00:00, 762.80it/s]\n",
      "process duration: 100%|██████████| 50572/50572 [01:06<00:00, 760.06it/s]\n",
      "process duration: 100%|██████████| 50572/50572 [01:06<00:00, 760.06it/s]\n",
      "process duration: 100%|██████████| 50572/50572 [01:06<00:00, 762.17it/s]\n",
      "process duration: 100%|██████████| 50572/50572 [01:06<00:00, 760.37it/s]\n",
      "process duration: 100%|██████████| 50572/50572 [01:06<00:00, 758.27it/s]\n",
      "process duration: 100%|██████████| 50572/50572 [01:06<00:00, 756.17it/s]\n",
      "process duration: 100%|██████████| 50572/50572 [01:06<00:00, 760.79it/s]\n",
      "process duration: 100%|██████████| 50572/50572 [01:06<00:00, 761.76it/s]\n",
      "process duration: 100%|██████████| 50572/50572 [01:06<00:00, 758.34it/s]\n",
      "process duration: 100%|██████████| 50572/50572 [01:06<00:00, 760.04it/s]\n",
      "process duration: 100%|██████████| 50572/50572 [01:07<00:00, 751.43it/s]\n",
      "process duration: 100%|██████████| 50572/50572 [01:09<00:00, 729.69it/s]\n",
      "process duration: 100%|██████████| 50572/50572 [01:07<00:00, 751.96it/s]\n",
      "process duration: 100%|██████████| 50572/50572 [01:10<00:00, 715.14it/s]\n",
      "process duration: 100%|██████████| 50572/50572 [01:08<00:00, 741.64it/s]\n",
      "process duration: 100%|██████████| 50572/50572 [01:08<00:00, 740.43it/s]\n",
      "process duration: 100%|██████████| 50572/50572 [01:06<00:00, 758.80it/s]\n",
      "process duration: 100%|██████████| 50572/50572 [01:06<00:00, 760.89it/s]\n",
      "process duration: 100%|██████████| 50572/50572 [01:06<00:00, 755.75it/s]\n",
      "process duration: 100%|██████████| 50572/50572 [01:03<00:00, 799.61it/s]\n",
      "process duration: 100%|██████████| 50572/50572 [01:04<00:00, 782.38it/s]\n",
      "process duration: 100%|██████████| 50572/50572 [01:04<00:00, 784.54it/s]\n",
      "process duration: 100%|██████████| 50572/50572 [01:03<00:00, 793.23it/s]\n",
      "process duration: 100%|██████████| 50572/50572 [01:03<00:00, 792.40it/s]\n",
      "process duration: 100%|██████████| 50572/50572 [01:03<00:00, 793.55it/s]\n",
      "process duration: 100%|██████████| 50572/50572 [01:03<00:00, 796.69it/s]\n",
      "process duration: 100%|██████████| 50572/50572 [01:03<00:00, 794.14it/s]\n",
      "process duration: 100%|██████████| 50572/50572 [01:03<00:00, 798.80it/s]\n",
      "process duration: 100%|██████████| 50572/50572 [01:03<00:00, 796.96it/s]\n",
      "process duration: 100%|██████████| 50572/50572 [01:02<00:00, 808.68it/s]\n",
      "process duration: 100%|██████████| 50572/50572 [01:02<00:00, 808.41it/s]\n",
      "process duration: 100%|██████████| 50572/50572 [01:02<00:00, 809.48it/s]\n",
      "process duration: 100%|██████████| 50572/50572 [01:02<00:00, 812.06it/s]\n",
      "process duration: 100%|██████████| 50572/50572 [01:03<00:00, 795.50it/s]\n",
      "process duration: 100%|██████████| 50572/50572 [01:03<00:00, 797.52it/s]\n",
      "process duration: 100%|██████████| 50572/50572 [01:02<00:00, 807.99it/s]\n",
      "process duration: 100%|██████████| 50572/50572 [01:03<00:00, 796.65it/s]\n",
      "process duration: 100%|██████████| 50572/50572 [01:03<00:00, 802.44it/s]\n",
      "process duration: 100%|██████████| 50572/50572 [01:03<00:00, 802.22it/s]\n",
      "process duration: 100%|██████████| 50572/50572 [01:02<00:00, 805.80it/s]\n",
      "process duration: 100%|██████████| 50572/50572 [01:03<00:00, 800.83it/s]\n",
      "process duration: 100%|██████████| 50572/50572 [01:08<00:00, 741.62it/s]\n",
      "process duration: 100%|██████████| 50572/50572 [01:08<00:00, 734.04it/s]\n",
      "process duration: 100%|██████████| 50572/50572 [01:08<00:00, 733.12it/s]\n",
      "process duration: 100%|██████████| 50572/50572 [01:09<00:00, 725.64it/s]\n",
      "process duration: 100%|██████████| 50572/50572 [01:08<00:00, 740.24it/s]\n",
      "process duration: 100%|██████████| 50572/50572 [01:07<00:00, 745.55it/s]\n",
      "process duration: 100%|██████████| 50572/50572 [01:07<00:00, 745.23it/s]\n",
      "process duration: 100%|██████████| 50572/50572 [01:07<00:00, 745.03it/s]\n",
      "process duration: 100%|██████████| 50572/50572 [01:07<00:00, 744.75it/s]\n",
      "process duration: 100%|██████████| 50572/50572 [01:07<00:00, 749.63it/s]\n",
      "process duration: 100%|██████████| 50572/50572 [01:08<00:00, 733.81it/s]\n",
      "process duration: 100%|██████████| 50572/50572 [01:09<00:00, 729.55it/s]\n",
      "process duration: 100%|██████████| 50572/50572 [01:09<00:00, 731.40it/s]\n",
      "process duration: 100%|██████████| 50572/50572 [01:09<00:00, 732.68it/s]\n",
      "process duration: 100%|██████████| 50572/50572 [01:08<00:00, 736.39it/s]\n",
      "process duration: 100%|██████████| 50572/50572 [01:08<00:00, 733.96it/s]\n",
      "process duration: 100%|██████████| 50572/50572 [01:08<00:00, 733.65it/s]\n",
      "process duration: 100%|██████████| 50572/50572 [01:09<00:00, 725.52it/s]\n",
      "process duration: 100%|██████████| 50572/50572 [01:08<00:00, 735.71it/s]\n",
      "process duration: 100%|██████████| 50572/50572 [01:08<00:00, 738.47it/s]\n",
      "process duration: 100%|██████████| 50572/50572 [01:08<00:00, 736.92it/s]\n",
      "process duration: 100%|██████████| 50572/50572 [01:07<00:00, 750.02it/s]\n",
      "process duration: 100%|██████████| 50572/50572 [01:06<00:00, 758.69it/s]\n",
      "process duration: 100%|██████████| 50572/50572 [01:06<00:00, 763.92it/s]\n",
      "process duration: 100%|██████████| 50572/50572 [01:06<00:00, 762.38it/s]\n",
      "process duration: 100%|██████████| 50572/50572 [01:07<00:00, 751.27it/s]\n",
      "process duration: 100%|██████████| 50572/50572 [01:07<00:00, 753.58it/s]\n",
      "process duration: 100%|██████████| 50572/50572 [01:06<00:00, 759.21it/s]\n",
      "process duration: 100%|██████████| 50572/50572 [01:06<00:00, 764.07it/s]\n",
      "process duration: 100%|██████████| 50572/50572 [01:06<00:00, 763.65it/s]\n",
      "process duration: 100%|██████████| 50572/50572 [01:06<00:00, 758.71it/s]\n",
      "process duration: 100%|██████████| 50572/50572 [01:05<00:00, 766.76it/s]\n",
      "process duration: 100%|██████████| 50572/50572 [01:05<00:00, 767.86it/s]\n",
      "process duration: 100%|██████████| 50572/50572 [01:05<00:00, 769.06it/s]\n",
      "process duration: 100%|██████████| 50572/50572 [01:05<00:00, 769.14it/s]\n",
      "process duration: 100%|██████████| 50572/50572 [01:06<00:00, 762.44it/s]\n",
      "process duration: 100%|██████████| 50572/50572 [01:06<00:00, 764.31it/s]\n",
      "process duration: 100%|██████████| 50572/50572 [01:05<00:00, 769.61it/s]\n",
      "process duration: 100%|██████████| 50572/50572 [01:05<00:00, 766.74it/s]\n",
      "process duration: 100%|██████████| 50572/50572 [01:06<00:00, 759.72it/s]\n",
      "process duration: 100%|██████████| 50572/50572 [01:06<00:00, 764.63it/s]\n",
      "process duration: 100%|██████████| 50572/50572 [01:06<00:00, 762.61it/s]\n",
      "process duration: 100%|██████████| 50572/50572 [01:05<00:00, 767.01it/s]\n",
      "process duration: 100%|██████████| 50572/50572 [01:05<00:00, 766.36it/s]\n",
      "process duration: 100%|██████████| 50572/50572 [01:06<00:00, 759.34it/s]\n",
      "process duration: 100%|██████████| 50572/50572 [01:06<00:00, 755.71it/s]\n",
      "process duration: 100%|██████████| 50572/50572 [01:07<00:00, 753.28it/s]\n",
      "process duration: 100%|██████████| 50572/50572 [01:07<00:00, 753.01it/s]\n",
      "process duration: 100%|██████████| 50572/50572 [01:06<00:00, 760.49it/s]\n",
      "process duration: 100%|██████████| 50572/50572 [01:06<00:00, 761.05it/s]\n",
      "process duration: 100%|██████████| 50572/50572 [01:06<00:00, 761.69it/s]\n",
      "process duration: 100%|██████████| 50572/50572 [01:06<00:00, 757.70it/s]\n",
      "process duration: 100%|██████████| 50572/50572 [01:06<00:00, 759.08it/s]\n",
      "process duration: 100%|██████████| 50572/50572 [01:07<00:00, 751.29it/s]\n",
      "process duration: 100%|██████████| 50572/50572 [01:09<00:00, 725.37it/s]\n",
      "process duration: 100%|██████████| 50572/50572 [01:08<00:00, 739.86it/s]\n",
      "process duration: 100%|██████████| 50572/50572 [01:09<00:00, 731.48it/s]\n",
      "process duration: 100%|██████████| 50572/50572 [01:07<00:00, 749.28it/s]\n",
      "process duration: 100%|██████████| 50572/50572 [01:08<00:00, 739.06it/s]\n",
      "process duration: 100%|██████████| 50572/50572 [01:06<00:00, 758.53it/s]\n",
      "process duration: 100%|██████████| 50572/50572 [01:06<00:00, 760.46it/s]\n",
      "process duration: 100%|██████████| 50572/50572 [01:06<00:00, 762.07it/s]\n",
      "process duration: 100%|██████████| 50572/50572 [01:06<00:00, 763.35it/s]\n",
      "process duration: 100%|██████████| 50572/50572 [01:06<00:00, 760.99it/s]\n",
      "process duration: 100%|██████████| 50572/50572 [01:06<00:00, 759.66it/s]\n",
      "process duration: 100%|██████████| 50572/50572 [01:06<00:00, 755.10it/s]\n"
     ]
    }
   ],
   "source": [
    "output_img={};\n",
    "\n",
    "for seed_name in config[\"seeds\"][\"seed_names\"]:\n",
    "    output_img[seed_name]=[]\n",
    "    output_img[seed_name]=config['main_dir'] + config['seed2vox_dir'] + '/1_first_level/' + seed_name + '/' + config[\"targeted_voxels\"][\"target_name\"]+ '_fc_maps/DistCorr_' + str(len(config['list_subjects'])) + 'subjects_seed_' + seed_name + '_s'\n",
    "\n",
    "    \n",
    "    dist_corr=seed2voxels.distance_corr_maps(seeds_timeseries[\"zscored\"][seed_name],\n",
    "                                    target_timeseries[\"zscored\"],\n",
    "                                    output_img=output_img[seed_name],\n",
    "                                    save_maps=True,\n",
    "                                    smoothing_output=[6,6,6],redo=True, n_jobs=1)"
   ]
  },
  {
   "cell_type": "code",
   "execution_count": 67,
   "id": "1bceb231",
   "metadata": {},
   "outputs": [
    {
     "name": "stderr",
     "output_type": "stream",
     "text": [
      "process duration: 100%|██████████| 10/10 [00:00<00:00, 232.54it/s]\n"
     ]
    }
   ],
   "source": [
    "from tqdm import tqdm\n",
    "import dcor \n",
    "seed_to_voxel_distCorr = np.zeros((target_timeseries[\"zscored\"][0].shape[1], 1))\n",
    "for v in tqdm(range(0,10), desc =\"process duration\"):\n",
    "    seed_to_voxel_distCorr[v] = dcor.distance_correlation(seeds_timeseries[\"zscored\"][seed_name][0],target_timeseries[\"zscored\"][0][:, v])\n"
   ]
  },
  {
   "cell_type": "code",
   "execution_count": 69,
   "id": "653b7602",
   "metadata": {},
   "outputs": [
    {
     "data": {
      "text/plain": [
       "(50572, 1)"
      ]
     },
     "execution_count": 69,
     "metadata": {},
     "output_type": "execute_result"
    }
   ],
   "source": [
    "seed_to_voxel_distCorr.shape"
   ]
  },
  {
   "cell_type": "markdown",
   "id": "4a1feeed",
   "metadata": {},
   "source": [
    "## <font color=#B2D732> <span style=\"background-color: #4424D6\"> D/ Statistics\n",
    "#### <font color=#4424D6> One sample t-test"
   ]
  },
  {
   "cell_type": "code",
   "execution_count": 25,
   "id": "ed9adef8",
   "metadata": {},
   "outputs": [
    {
     "name": "stdout",
     "output_type": "stream",
     "text": [
      "spinalcord_GM-C1\n",
      "fslmaths /cerebro/cerebro1/dataset/bmpd/derivatives/HealthyControls_project//seed_to_voxels/spring_2023//1_first_level/spinalcord_GM-C1/brain_fc_maps/mMI_28subjects_seed_GM-C1_s.nii -Tmean /cerebro/cerebro1/dataset/bmpd/derivatives/HealthyControls_project//seed_to_voxels/spring_2023//1_first_level/spinalcord_GM-C1/brain_fc_maps/mMI_28subjects_seed_GM-C1_s_mean.nii  # in /cerebro/cerebro1/dataset/bmpd/derivatives/HealthyControls_project/hc_project_analyses/notebook\n",
      "randomise -i /cerebro/cerebro1/dataset/bmpd/derivatives/HealthyControls_project//seed_to_voxels/spring_2023//1_first_level/spinalcord_GM-C1/brain_fc_maps/mMI_28subjects_seed_GM-C1_s.nii -o /cerebro/cerebro1/dataset/bmpd/derivatives/HealthyControls_project/seed_to_voxels/spring_2023/2_second_level/brain_mask/spinalcord_GM-C1/MI/randomise/ -1 -v 5 -n 100  -T # in /cerebro/cerebro1/dataset/bmpd/derivatives/HealthyControls_project/hc_project_analyses/notebook\n",
      "spinalcord_GM-C2\n",
      "fslmaths /cerebro/cerebro1/dataset/bmpd/derivatives/HealthyControls_project//seed_to_voxels/spring_2023//1_first_level/spinalcord_GM-C2/brain_fc_maps/mMI_28subjects_seed_GM-C2_s.nii -Tmean /cerebro/cerebro1/dataset/bmpd/derivatives/HealthyControls_project//seed_to_voxels/spring_2023//1_first_level/spinalcord_GM-C2/brain_fc_maps/mMI_28subjects_seed_GM-C2_s_mean.nii  # in /cerebro/cerebro1/dataset/bmpd/derivatives/HealthyControls_project/hc_project_analyses/notebook\n",
      "randomise -i /cerebro/cerebro1/dataset/bmpd/derivatives/HealthyControls_project//seed_to_voxels/spring_2023//1_first_level/spinalcord_GM-C2/brain_fc_maps/mMI_28subjects_seed_GM-C2_s.nii -o /cerebro/cerebro1/dataset/bmpd/derivatives/HealthyControls_project/seed_to_voxels/spring_2023/2_second_level/brain_mask/spinalcord_GM-C2/MI/randomise/ -1 -v 5 -n 100  -T # in /cerebro/cerebro1/dataset/bmpd/derivatives/HealthyControls_project/hc_project_analyses/notebook\n",
      "spinalcord_GM-C3\n",
      "fslmaths /cerebro/cerebro1/dataset/bmpd/derivatives/HealthyControls_project//seed_to_voxels/spring_2023//1_first_level/spinalcord_GM-C3/brain_fc_maps/mMI_28subjects_seed_GM-C3_s.nii -Tmean /cerebro/cerebro1/dataset/bmpd/derivatives/HealthyControls_project//seed_to_voxels/spring_2023//1_first_level/spinalcord_GM-C3/brain_fc_maps/mMI_28subjects_seed_GM-C3_s_mean.nii  # in /cerebro/cerebro1/dataset/bmpd/derivatives/HealthyControls_project/hc_project_analyses/notebook\n",
      "randomise -i /cerebro/cerebro1/dataset/bmpd/derivatives/HealthyControls_project//seed_to_voxels/spring_2023//1_first_level/spinalcord_GM-C3/brain_fc_maps/mMI_28subjects_seed_GM-C3_s.nii -o /cerebro/cerebro1/dataset/bmpd/derivatives/HealthyControls_project/seed_to_voxels/spring_2023/2_second_level/brain_mask/spinalcord_GM-C3/MI/randomise/ -1 -v 5 -n 100  -T # in /cerebro/cerebro1/dataset/bmpd/derivatives/HealthyControls_project/hc_project_analyses/notebook\n",
      "spinalcord_GM-C4\n",
      "fslmaths /cerebro/cerebro1/dataset/bmpd/derivatives/HealthyControls_project//seed_to_voxels/spring_2023//1_first_level/spinalcord_GM-C4/brain_fc_maps/mMI_28subjects_seed_GM-C4_s.nii -Tmean /cerebro/cerebro1/dataset/bmpd/derivatives/HealthyControls_project//seed_to_voxels/spring_2023//1_first_level/spinalcord_GM-C4/brain_fc_maps/mMI_28subjects_seed_GM-C4_s_mean.nii  # in /cerebro/cerebro1/dataset/bmpd/derivatives/HealthyControls_project/hc_project_analyses/notebook\n",
      "randomise -i /cerebro/cerebro1/dataset/bmpd/derivatives/HealthyControls_project//seed_to_voxels/spring_2023//1_first_level/spinalcord_GM-C4/brain_fc_maps/mMI_28subjects_seed_GM-C4_s.nii -o /cerebro/cerebro1/dataset/bmpd/derivatives/HealthyControls_project/seed_to_voxels/spring_2023/2_second_level/brain_mask/spinalcord_GM-C4/MI/randomise/ -1 -v 5 -n 100  -T # in /cerebro/cerebro1/dataset/bmpd/derivatives/HealthyControls_project/hc_project_analyses/notebook\n",
      "spinalcord_GM-C5\n",
      "fslmaths /cerebro/cerebro1/dataset/bmpd/derivatives/HealthyControls_project//seed_to_voxels/spring_2023//1_first_level/spinalcord_GM-C5/brain_fc_maps/mMI_28subjects_seed_GM-C5_s.nii -Tmean /cerebro/cerebro1/dataset/bmpd/derivatives/HealthyControls_project//seed_to_voxels/spring_2023//1_first_level/spinalcord_GM-C5/brain_fc_maps/mMI_28subjects_seed_GM-C5_s_mean.nii  # in /cerebro/cerebro1/dataset/bmpd/derivatives/HealthyControls_project/hc_project_analyses/notebook\n",
      "randomise -i /cerebro/cerebro1/dataset/bmpd/derivatives/HealthyControls_project//seed_to_voxels/spring_2023//1_first_level/spinalcord_GM-C5/brain_fc_maps/mMI_28subjects_seed_GM-C5_s.nii -o /cerebro/cerebro1/dataset/bmpd/derivatives/HealthyControls_project/seed_to_voxels/spring_2023/2_second_level/brain_mask/spinalcord_GM-C5/MI/randomise/ -1 -v 5 -n 100  -T # in /cerebro/cerebro1/dataset/bmpd/derivatives/HealthyControls_project/hc_project_analyses/notebook\n",
      "spinalcord_GM-C6\n",
      "fslmaths /cerebro/cerebro1/dataset/bmpd/derivatives/HealthyControls_project//seed_to_voxels/spring_2023//1_first_level/spinalcord_GM-C6/brain_fc_maps/mMI_28subjects_seed_GM-C6_s.nii -Tmean /cerebro/cerebro1/dataset/bmpd/derivatives/HealthyControls_project//seed_to_voxels/spring_2023//1_first_level/spinalcord_GM-C6/brain_fc_maps/mMI_28subjects_seed_GM-C6_s_mean.nii  # in /cerebro/cerebro1/dataset/bmpd/derivatives/HealthyControls_project/hc_project_analyses/notebook\n",
      "randomise -i /cerebro/cerebro1/dataset/bmpd/derivatives/HealthyControls_project//seed_to_voxels/spring_2023//1_first_level/spinalcord_GM-C6/brain_fc_maps/mMI_28subjects_seed_GM-C6_s.nii -o /cerebro/cerebro1/dataset/bmpd/derivatives/HealthyControls_project/seed_to_voxels/spring_2023/2_second_level/brain_mask/spinalcord_GM-C6/MI/randomise/ -1 -v 5 -n 100  -T # in /cerebro/cerebro1/dataset/bmpd/derivatives/HealthyControls_project/hc_project_analyses/notebook\n",
      "spinalcord_GM-C7\n",
      "fslmaths /cerebro/cerebro1/dataset/bmpd/derivatives/HealthyControls_project//seed_to_voxels/spring_2023//1_first_level/spinalcord_GM-C7/brain_fc_maps/mMI_28subjects_seed_GM-C7_s.nii -Tmean /cerebro/cerebro1/dataset/bmpd/derivatives/HealthyControls_project//seed_to_voxels/spring_2023//1_first_level/spinalcord_GM-C7/brain_fc_maps/mMI_28subjects_seed_GM-C7_s_mean.nii  # in /cerebro/cerebro1/dataset/bmpd/derivatives/HealthyControls_project/hc_project_analyses/notebook\n",
      "randomise -i /cerebro/cerebro1/dataset/bmpd/derivatives/HealthyControls_project//seed_to_voxels/spring_2023//1_first_level/spinalcord_GM-C7/brain_fc_maps/mMI_28subjects_seed_GM-C7_s.nii -o /cerebro/cerebro1/dataset/bmpd/derivatives/HealthyControls_project/seed_to_voxels/spring_2023/2_second_level/brain_mask/spinalcord_GM-C7/MI/randomise/ -1 -v 5 -n 100  -T # in /cerebro/cerebro1/dataset/bmpd/derivatives/HealthyControls_project/hc_project_analyses/notebook\n",
      "spinalcord_GM-C8\n",
      "fslmaths /cerebro/cerebro1/dataset/bmpd/derivatives/HealthyControls_project//seed_to_voxels/spring_2023//1_first_level/spinalcord_GM-C8/brain_fc_maps/mMI_28subjects_seed_GM-C8_s.nii -Tmean /cerebro/cerebro1/dataset/bmpd/derivatives/HealthyControls_project//seed_to_voxels/spring_2023//1_first_level/spinalcord_GM-C8/brain_fc_maps/mMI_28subjects_seed_GM-C8_s_mean.nii  # in /cerebro/cerebro1/dataset/bmpd/derivatives/HealthyControls_project/hc_project_analyses/notebook\n",
      "randomise -i /cerebro/cerebro1/dataset/bmpd/derivatives/HealthyControls_project//seed_to_voxels/spring_2023//1_first_level/spinalcord_GM-C8/brain_fc_maps/mMI_28subjects_seed_GM-C8_s.nii -o /cerebro/cerebro1/dataset/bmpd/derivatives/HealthyControls_project/seed_to_voxels/spring_2023/2_second_level/brain_mask/spinalcord_GM-C8/MI/randomise/ -1 -v 5 -n 100  -T # in /cerebro/cerebro1/dataset/bmpd/derivatives/HealthyControls_project/hc_project_analyses/notebook\n"
     ]
    }
   ],
   "source": [
    "seed_names=['spinalcord_GM-C1','spinalcord_GM-C2','spinalcord_GM-C3','spinalcord_GM-C4','spinalcord_GM-C5','spinalcord_GM-C6','spinalcord_GM-C7','spinalcord_GM-C8']\n",
    "for seed_name in seed_names:\n",
    "    print(seed_name)\n",
    "    ouput_dir='/cerebro/cerebro1/dataset/bmpd/derivatives/HealthyControls_project/seed_to_voxels/spring_2023/2_second_level/' + target_name[0] + '/'+seed_name +'/MI/randomise/'\n",
    "    if not os.path.exists(ouput_dir):\n",
    "        os.mkdir(ouput_dir)\n",
    "    run_proc('fslmaths {} -Tmean {} '.format(config['main_dir'] + config['seed2vox_dir'] +  '/1_first_level/' + seed_name + '/' + target_name[0].split('_')[0]+ '_fc_maps/mMI_' + str(len(config['list_subjects'])) + 'subjects_seed_' + seed_name.split('_')[-1] + '_s.nii',\n",
    "                                                      config['main_dir'] + config['seed2vox_dir'] +  '/1_first_level/' + seed_name + '/' + target_name[0].split('_')[0]+ '_fc_maps/mMI_' + str(len(config['list_subjects'])) + 'subjects_seed_' + seed_name.split('_')[-1] + '_s_mean.nii'))\n",
    "    run_proc('randomise -i {} -o {} -1 -v 5 -n 100  -T'.format(config['main_dir'] + config['seed2vox_dir'] +  '/1_first_level/' + seed_name + '/' + target_name[0].split('_')[0]+ '_fc_maps/mMI_' + str(len(config['list_subjects'])) + 'subjects_seed_' + seed_name.split('_')[-1] + '_s.nii',\n",
    "                                                               ouput_dir,mask_target))"
   ]
  },
  {
   "cell_type": "code",
   "execution_count": 19,
   "id": "79bd8388",
   "metadata": {},
   "outputs": [
    {
     "name": "stdout",
     "output_type": "stream",
     "text": [
      "yes\n"
     ]
    }
   ],
   "source": [
    "if os.path.exists(\"/cerebro/cerebro1/dataset/bmpd/derivatives/HealthyControls_project//seed_to_voxels/spring_2023//1_first_level/spinalcord_C1C8-RD/brain_fc_maps/mMI_28subjects_seed_C1C8-RD_s.nii\"):\n",
    "    print(\"yes\")"
   ]
  },
  {
   "cell_type": "markdown",
   "id": "3ed8c934",
   "metadata": {},
   "source": [
    "#### <font color=#4424D6> Two sample t-test"
   ]
  },
  {
   "cell_type": "code",
   "execution_count": 22,
   "id": "773e3a7f",
   "metadata": {},
   "outputs": [
    {
     "name": "stdout",
     "output_type": "stream",
     "text": [
      "fslmerge -t /cerebro/cerebro1/dataset/bmpd/derivatives/HealthyControls_project//seed_to_voxels//2_second_level/spinalcord_GM-C6C8R-C6C8L/spinalcord_GM-C6C8R-C6C8L_images.nii /cerebro/cerebro1/dataset/bmpd/derivatives/HealthyControls_project//seed_to_voxels//1_first_level/spinalcord_GM-C6C8R/brain_fc_maps/21subjects_seed_GM-C6C8R_s_zcorr /cerebro/cerebro1/dataset/bmpd/derivatives/HealthyControls_project//seed_to_voxels//1_first_level/spinalcord_GM-C6C8L/brain_fc_maps/21subjects_seed_GM-C6C8L_s_zcorr # in /cerebro/cerebro1/dataset/bmpd/derivatives/HealthyControls_project/hc_project_analyses/notebook\n"
     ]
    },
    {
     "ename": "RuntimeError",
     "evalue": "Image Exception : #63 :: No image files match: /cerebro/cerebro1/dataset/bmpd/derivatives/HealthyControls_project//seed_to_voxels//1_first_level/spinalcord_GM-C6C8R/brain_fc_maps/21subjects_seed_GM-C6C8R_s_zcorr\nterminate called after throwing an instance of 'std::runtime_error'\nwhat():  No image files match: /cerebro/cerebro1/dataset/bmpd/derivatives/HealthyControls_project//seed_to_voxels//1_first_level/spinalcord_GM-C6C8R/brain_fc_maps/21subjects_seed_GM-C6C8R_s_zcorr",
     "output_type": "error",
     "traceback": [
      "\u001b[0;31m---------------------------------------------------------------------------\u001b[0m",
      "\u001b[0;31mRuntimeError\u001b[0m                              Traceback (most recent call last)",
      "\u001b[0;32m<ipython-input-22-e7980340ec07>\u001b[0m in \u001b[0;36m<module>\u001b[0;34m\u001b[0m\n\u001b[1;32m     12\u001b[0m     run_proc('fslmerge -t {} {} {}'.format(output_dir + '/'+seed1+'-'+seed2.split('-')[-1]+'_images.nii', \n\u001b[1;32m     13\u001b[0m                                     \u001b[0mconfig\u001b[0m\u001b[0;34m[\u001b[0m\u001b[0;34m'main_dir'\u001b[0m\u001b[0;34m]\u001b[0m \u001b[0;34m+\u001b[0m \u001b[0mconfig\u001b[0m\u001b[0;34m[\u001b[0m\u001b[0;34m'seed2vox_dir'\u001b[0m\u001b[0;34m]\u001b[0m \u001b[0;34m+\u001b[0m \u001b[0;34m'/1_first_level/'\u001b[0m \u001b[0;34m+\u001b[0m\u001b[0mseed1\u001b[0m \u001b[0;34m+\u001b[0m \u001b[0;34m'/'\u001b[0m \u001b[0;34m+\u001b[0m \u001b[0mtarget_name\u001b[0m\u001b[0;34m[\u001b[0m\u001b[0;36m0\u001b[0m\u001b[0;34m]\u001b[0m\u001b[0;34m.\u001b[0m\u001b[0msplit\u001b[0m\u001b[0;34m(\u001b[0m\u001b[0;34m'_'\u001b[0m\u001b[0;34m)\u001b[0m\u001b[0;34m[\u001b[0m\u001b[0;36m0\u001b[0m\u001b[0;34m]\u001b[0m\u001b[0;34m+\u001b[0m \u001b[0;34m'_fc_maps/21subjects_seed_'\u001b[0m\u001b[0;34m+\u001b[0m\u001b[0mseed1\u001b[0m\u001b[0;34m.\u001b[0m\u001b[0msplit\u001b[0m\u001b[0;34m(\u001b[0m\u001b[0;34m'_'\u001b[0m\u001b[0;34m)\u001b[0m\u001b[0;34m[\u001b[0m\u001b[0;34m-\u001b[0m\u001b[0;36m1\u001b[0m\u001b[0;34m]\u001b[0m\u001b[0;34m+\u001b[0m\u001b[0;34m'_s_zcorr'\u001b[0m\u001b[0;34m,\u001b[0m\u001b[0;34m\u001b[0m\u001b[0;34m\u001b[0m\u001b[0m\n\u001b[0;32m---> 14\u001b[0;31m                                     config['main_dir'] + config['seed2vox_dir'] + '/1_first_level/' +seed2 + '/' + target_name[0].split('_')[0]+ '_fc_maps/21subjects_seed_'+seed2.split('_')[-1]+'_s_zcorr'))\n\u001b[0m\u001b[1;32m     15\u001b[0m \u001b[0;34m\u001b[0m\u001b[0m\n\u001b[1;32m     16\u001b[0m \u001b[0;31m#3. Run randomize\u001b[0m\u001b[0;34m\u001b[0m\u001b[0;34m\u001b[0m\u001b[0;34m\u001b[0m\u001b[0m\n",
      "\u001b[0;32m/cerebro/cerebro1/dataset/bmpd/derivatives/thibault_test/code/toolbox/spinalcordtoolbox-5.0.0/spinalcordtoolbox/utils/sys.py\u001b[0m in \u001b[0;36mrun_proc\u001b[0;34m(cmd, verbose, raise_exception, cwd, env, is_sct_binary)\u001b[0m\n\u001b[1;32m    294\u001b[0m \u001b[0;34m\u001b[0m\u001b[0m\n\u001b[1;32m    295\u001b[0m     \u001b[0;32mif\u001b[0m \u001b[0mstatus\u001b[0m \u001b[0;34m!=\u001b[0m \u001b[0;36m0\u001b[0m \u001b[0;32mand\u001b[0m \u001b[0mraise_exception\u001b[0m\u001b[0;34m:\u001b[0m\u001b[0;34m\u001b[0m\u001b[0;34m\u001b[0m\u001b[0m\n\u001b[0;32m--> 296\u001b[0;31m         \u001b[0;32mraise\u001b[0m \u001b[0mRuntimeError\u001b[0m\u001b[0;34m(\u001b[0m\u001b[0moutput\u001b[0m\u001b[0;34m)\u001b[0m\u001b[0;34m\u001b[0m\u001b[0;34m\u001b[0m\u001b[0m\n\u001b[0m\u001b[1;32m    297\u001b[0m \u001b[0;34m\u001b[0m\u001b[0m\n\u001b[1;32m    298\u001b[0m     \u001b[0;32mreturn\u001b[0m \u001b[0mstatus\u001b[0m\u001b[0;34m,\u001b[0m \u001b[0moutput\u001b[0m\u001b[0;34m\u001b[0m\u001b[0;34m\u001b[0m\u001b[0m\n",
      "\u001b[0;31mRuntimeError\u001b[0m: Image Exception : #63 :: No image files match: /cerebro/cerebro1/dataset/bmpd/derivatives/HealthyControls_project//seed_to_voxels//1_first_level/spinalcord_GM-C6C8R/brain_fc_maps/21subjects_seed_GM-C6C8R_s_zcorr\nterminate called after throwing an instance of 'std::runtime_error'\nwhat():  No image files match: /cerebro/cerebro1/dataset/bmpd/derivatives/HealthyControls_project//seed_to_voxels//1_first_level/spinalcord_GM-C6C8R/brain_fc_maps/21subjects_seed_GM-C6C8R_s_zcorr"
     ]
    }
   ],
   "source": [
    "import shutil\n",
    "#1. select the analyses to compared\n",
    "#'spinalcord_GM-C4C5L','spinalcord_GM-C4C5R',\n",
    "#'spinalcord_GM-C6C8L','spinalcord_GM-C6C8R'\n",
    "        \n",
    "seed1='spinalcord_GM-C6C8R'\n",
    "seed2='spinalcord_GM-C6C8L'\n",
    "output_dir=config['main_dir'] + config['seed2vox_dir'] + '/2_second_level/'+seed1+'-'+seed2.split('-')[-1]\n",
    "if not os.path.exists(output_dir):\n",
    "    os.mkdir(output_dir)\n",
    "#2. merge the images from the 2 contrasts in one 4D image\n",
    "    run_proc('fslmerge -t {} {} {}'.format(output_dir + '/'+seed1+'-'+seed2.split('-')[-1]+'_images.nii', \n",
    "                                    config['main_dir'] + config['seed2vox_dir'] + '/1_first_level/' +seed1 + '/' + target_name[0].split('_')[0]+ '_fc_maps/21subjects_seed_'+seed1.split('_')[-1]+'_s_zcorr',\n",
    "                                    config['main_dir'] + config['seed2vox_dir'] + '/1_first_level/' +seed2 + '/' + target_name[0].split('_')[0]+ '_fc_maps/21subjects_seed_'+seed2.split('_')[-1]+'_s_zcorr'))\n",
    "\n",
    "#3. Run randomize\n",
    "    run_proc('randomise -i {} -o {} -d {} -t {} -e {} -m {} -v 5 -n 500  -T'.format(output_dir + '/'+seed1+'-'+seed2.split('-')[-1]+'_images.nii',\n",
    "                                                                                    output_dir + '/'+seed1+'-'+seed2.split('-')[-1],\n",
    "                                                                                    config['main_dir'] + config['seed2vox_dir'] + '/2_second_level/fsl_designs/2paired-t-test/design_group.mat',\n",
    "                                                                                    config['main_dir'] + config['seed2vox_dir'] + '/2_second_level/fsl_designs/2paired-t-test/design_group.con',\n",
    "                                                                                    config['main_dir'] + config['seed2vox_dir'] + '/2_second_level/fsl_designs/2paired-t-test/design_group.grp',\n",
    "                                                                                mask_target))"
   ]
  },
  {
   "cell_type": "code",
   "execution_count": null,
   "id": "51fdc57e",
   "metadata": {},
   "outputs": [],
   "source": []
  },
  {
   "cell_type": "code",
   "execution_count": 98,
   "id": "5cc8f40b",
   "metadata": {},
   "outputs": [
    {
     "name": "stdout",
     "output_type": "stream",
     "text": [
      "fslmaths /cerebro/cerebro1/dataset/bmpd/derivatives/HealthyControls_project/seed_to_voxels/masks/spinalcord_C1C8-L.nii.gz -mas /cerebro/cerebro1/dataset/bmpd/derivatives/HealthyControls_project/seed_to_voxels/masks/spinalcord_GM-cord.nii.gz /cerebro/cerebro1/dataset/bmpd/derivatives/HealthyControls_project/seed_to_voxels/masks/spinalcord_GM-L.nii.gz # in /cerebro/cerebro1/dataset/bmpd/derivatives/HealthyControls_project/hc_project_analyses/notebook\n"
     ]
    },
    {
     "data": {
      "text/plain": [
       "(0, '')"
      ]
     },
     "execution_count": 98,
     "metadata": {},
     "output_type": "execute_result"
    }
   ],
   "source": [
    "input='/cerebro/cerebro1/dataset/bmpd/derivatives/HealthyControls_project/seed_to_voxels/masks/spinalcord_C1C8-L.nii.gz'\n",
    "mask='/cerebro/cerebro1/dataset/bmpd/derivatives/HealthyControls_project/seed_to_voxels/masks/spinalcord_GM-cord.nii.gz'\n",
    "output='/cerebro/cerebro1/dataset/bmpd/derivatives/HealthyControls_project/seed_to_voxels/masks/spinalcord_GM-L.nii.gz'\n",
    "run_proc('fslmaths {} -mas {} {}'.format(input,mask,output))"
   ]
  },
  {
   "cell_type": "code",
   "execution_count": null,
   "id": "c1349d3c",
   "metadata": {},
   "outputs": [],
   "source": []
  }
 ],
 "metadata": {
  "kernelspec": {
   "display_name": "Python 3",
   "language": "python",
   "name": "python3"
  },
  "language_info": {
   "codemirror_mode": {
    "name": "ipython",
    "version": 3
   },
   "file_extension": ".py",
   "mimetype": "text/x-python",
   "name": "python",
   "nbconvert_exporter": "python",
   "pygments_lexer": "ipython3",
   "version": "3.6.9"
  }
 },
 "nbformat": 4,
 "nbformat_minor": 5
}
