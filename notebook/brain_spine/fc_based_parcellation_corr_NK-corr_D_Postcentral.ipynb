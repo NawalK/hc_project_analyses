{
 "cells": [
  {
   "cell_type": "markdown",
   "id": "05811f44",
   "metadata": {},
   "source": [
    "# <font color=black> Analysis - FC-based parcellation using correlation </font>\n",
    "<hr style=\"border:1px solid black\">"
   ]
  },
  {
   "cell_type": "code",
   "execution_count": 1,
   "id": "2a859ef3",
   "metadata": {},
   "outputs": [],
   "source": [
    "import sys,json\n",
    "import glob, os\n",
    "import numpy as np\n",
    "import nibabel as nib\n",
    "import time\n",
    "\n",
    "from nilearn import datasets, plotting, image\n",
    "\n",
    "sys.path.append('/media/miplab-nas2/Data3/BMPD/hc_project/analysis/code/')\n",
    "\n",
    "from fc_based_parcellation import FC_Parcellation\n",
    "\n",
    "%matplotlib inline\n",
    "%load_ext autoreload\n",
    "%autoreload 2"
   ]
  },
  {
   "cell_type": "markdown",
   "id": "54b7d591",
   "metadata": {},
   "source": [
    "# Initialization\n",
    "<hr style=\"border:0.5px solid black\">"
   ]
  },
  {
   "cell_type": "markdown",
   "id": "00f5de69",
   "metadata": {},
   "source": [
    "### Load existing configuration file ..."
   ]
  },
  {
   "cell_type": "code",
   "execution_count": 9,
   "id": "3c9f417e",
   "metadata": {},
   "outputs": [],
   "source": [
    "# Load the config file with all information\n",
    "filetag = \"C1toC7_gm_SMC_iCAP\"\n",
    "with open('../../../brain_spine/results/fc_parcellation/corr/' + filetag + '/config_' + filetag + '.json') as config_file:\n",
    "    config = json.load(config_file)\n",
    "source = 'spinalcord'\n",
    "target = 'brain'"
   ]
  },
  {
   "cell_type": "markdown",
   "id": "942305b9",
   "metadata": {},
   "source": [
    "### ... or build new one"
   ]
  },
  {
   "cell_type": "code",
   "execution_count": null,
   "id": "260fec02",
   "metadata": {},
   "outputs": [],
   "source": [
    "# Load the config file with all information\n",
    "with open('../../config/config_fc_based_parcellation_NK.json') as config_file:\n",
    "    config = json.load(config_file)\n",
    "# Define tag of this analysis (used for saving)\n",
    "config['output_tag'] = \"C1toC7_gm_D_postcentral\"\n",
    "# Define source, target, and the corresponding masks\n",
    "source = 'spinalcord'\n",
    "target = 'brain'\n",
    "# Note: paths should be with respect to main directory\n",
    "config['file_tag']['brain'] = \"_task-rest_bold_stc_brain_moco_brsc_BP_reg_SPM_inTemplate2mm_s.nii.gz\"\n",
    "config['file_tag']['spinalcord'] = \"_task-rest_bold_stc_sc_moco_brsc_BP_inTemplate_s.nii.gz\"\n",
    "\n",
    "config['masks']['brain'] = \"/analysis/masks/brain/MNI_GM_2mm_postcentral.nii.gz\"\n",
    "config['masks']['spinalcord'] = \"/analysis/masks/spinalcord/PAM50_cord_C1C7_gm_D.nii.gz\"\n",
    "config['list_subjects'] = [\"P030\", \"P099\",\"A006\",\"A007\",\"A008\",\"A009\",\"A011\",\"A013\",\"A023\",\"A024\",\"A025\",\"A026\",\"A027\",\"A028\",\"A029\",\"A030\",\"A032\",\"A033\",\"A034\",\"A036\",\"A037\",\"A038\",\"A039\",\"A043\",\"A044\",\"A045\",\"A046\",\"A048\",\"A050\",\"A051\",\"A052\"]"
   ]
  },
  {
   "cell_type": "markdown",
   "id": "74376d10",
   "metadata": {},
   "source": [
    "### Instantiate class\n",
    "_Note: this will save a config file with all relevant information and prepare folder structure_"
   ]
  },
  {
   "cell_type": "code",
   "execution_count": 10,
   "id": "a73c9d0c",
   "metadata": {},
   "outputs": [],
   "source": [
    "fc_parcellation = FC_Parcellation(config,source,target,'corr')"
   ]
  },
  {
   "cell_type": "markdown",
   "id": "568188dc",
   "metadata": {},
   "source": [
    "# Analyses\n",
    "<hr style=\"border:0.5px solid black\">"
   ]
  },
  {
   "cell_type": "markdown",
   "id": "1cc37e2e",
   "metadata": {},
   "source": [
    "### Compute the voxelwise correlation & run clustering for each subject independently"
   ]
  },
  {
   "cell_type": "code",
   "execution_count": null,
   "id": "a4358fb5",
   "metadata": {},
   "outputs": [],
   "source": [
    "start = time.time()\n",
    "# Loop through the subjects to compute fc and clustering \n",
    "for sub_id,sub in enumerate(fc_parcellation.config['list_subjects']): \n",
    "    print(f'\\033[1mSUBJECT {sub}\\033[0m')\n",
    "    # Compute correlation without saving files\n",
    "    fc_parcellation.compute_voxelwise_fc(sub=sub, \n",
    "                                        overwrite=False)\n",
    "    # Run clustering and save labels\n",
    "    fc_parcellation.run_clustering(sub=sub,\n",
    "                                    k_range=range(5,10),algorithm='kmeans',\n",
    "                                    overwrite=False)\n",
    "print(\"\\033[1m... Operation performed in %.2f s!\\033[0m\" % (time.time() - start))"
   ]
  },
  {
   "cell_type": "markdown",
   "id": "347d1de4",
   "metadata": {},
   "source": [
    "### Compute the group-level clustering and generate corresponding maps"
   ]
  },
  {
   "cell_type": "code",
   "execution_count": 12,
   "id": "f64a67d0",
   "metadata": {},
   "outputs": [
    {
     "name": "stdout",
     "output_type": "stream",
     "text": [
      "\u001b[1mCLUSTERING AT THE GROUP LEVEL\u001b[0m\n",
      "\u001b[37mK value(s) = 7\u001b[0m\n",
      "\u001b[37mOverwrite results = True\u001b[0m\n",
      "K = 7\n",
      "... Computing hierarchical clustering and relabeling\n",
      "...... Loading all subjects\n",
      "...... Clustering on all labels\n",
      "...... Computing cophenetic correlation\n",
      "...... Relabeling\n",
      "...... Computing validity\n",
      "\n",
      "\u001b[1mDONE\u001b[0m\n"
     ]
    },
    {
     "name": "stderr",
     "output_type": "stream",
     "text": [
      "/home/kinany/anaconda3/lib/python3.9/site-packages/nilearn/masking.py:974: UserWarning: Data array used to create a new image contains 64-bit ints. This is likely due to creating the array with numpy and passing `int` as the `dtype`. Many tools such as FSL and SPM cannot deal with int64 in Nifti images, so for compatibility the data has been converted to int32.\n",
      "  return new_img_like(mask_img, unmasked, affine)\n"
     ]
    }
   ],
   "source": [
    "fc_parcellation.group_clustering(k_range=7,indiv_algorithm='kmeans',overwrite=False)"
   ]
  },
  {
   "cell_type": "code",
   "execution_count": 13,
   "id": "dbd2baf4",
   "metadata": {},
   "outputs": [
    {
     "name": "stdout",
     "output_type": "stream",
     "text": [
      "\u001b[1mPREPARE TARGET MAPS\u001b[0m\n",
      "\u001b[37mType of source labels = indiv\u001b[0m\n",
      "\u001b[37mK value(s) = 7\u001b[0m\n",
      "\u001b[37mOverwrite results = True\u001b[0m\n",
      "K = 7\n",
      "... Computing target maps\n",
      "...... Subject P030\n",
      "...... Subject P099\n",
      "...... Subject A006\n",
      "...... Subject A007\n",
      "...... Subject A008\n",
      "...... Subject A009\n",
      "...... Subject A011\n",
      "...... Subject A013\n",
      "...... Subject A023\n",
      "...... Subject A024\n",
      "...... Subject A025\n",
      "...... Subject A026\n",
      "...... Subject A027\n",
      "...... Subject A028\n",
      "...... Subject A029\n",
      "...... Subject A030\n",
      "...... Subject A032\n",
      "...... Subject A033\n",
      "...... Subject A034\n",
      "...... Subject A036\n",
      "...... Subject A037\n",
      "...... Subject A038\n",
      "...... Subject A039\n",
      "...... Subject A043\n",
      "...... Subject A044\n",
      "...... Subject A045\n",
      "...... Subject A046\n",
      "...... Subject A048\n",
      "...... Subject A050\n",
      "...... Subject A051\n",
      "...... Subject A052\n",
      "\u001b[1mDONE\u001b[0m\n",
      "\n"
     ]
    }
   ],
   "source": [
    "fc_parcellation.prepare_target_maps(label_type='indiv',indiv_algorithm='kmeans',k_range=7,overwrite=True)"
   ]
  },
  {
   "cell_type": "code",
   "execution_count": 14,
   "id": "e5578d61",
   "metadata": {},
   "outputs": [
    {
     "name": "stdout",
     "output_type": "stream",
     "text": [
      "\u001b[1mPREPARE TARGET MAPS\u001b[0m\n",
      "\u001b[37mType of source labels = group_mode\u001b[0m\n",
      "\u001b[37mK value(s) = 7\u001b[0m\n",
      "\u001b[37mOverwrite results = True\u001b[0m\n",
      "K = 7\n",
      "... Computing target maps\n",
      "...... Subject P030\n",
      "...... Subject P099\n",
      "...... Subject A006\n",
      "...... Subject A007\n",
      "...... Subject A008\n",
      "...... Subject A009\n",
      "...... Subject A011\n",
      "...... Subject A013\n",
      "...... Subject A023\n",
      "...... Subject A024\n",
      "...... Subject A025\n",
      "...... Subject A026\n",
      "...... Subject A027\n",
      "...... Subject A028\n",
      "...... Subject A029\n",
      "...... Subject A030\n",
      "...... Subject A032\n",
      "...... Subject A033\n",
      "...... Subject A034\n",
      "...... Subject A036\n",
      "...... Subject A037\n",
      "...... Subject A038\n",
      "...... Subject A039\n",
      "...... Subject A043\n",
      "...... Subject A044\n",
      "...... Subject A045\n",
      "...... Subject A046\n",
      "...... Subject A048\n",
      "...... Subject A050\n",
      "...... Subject A051\n",
      "...... Subject A052\n",
      "\u001b[1mDONE\u001b[0m\n",
      "\n"
     ]
    }
   ],
   "source": [
    "fc_parcellation.prepare_target_maps(label_type='group_mode',indiv_algorithm='kmeans',k_range=7,overwrite=True)"
   ]
  },
  {
   "cell_type": "markdown",
   "id": "344f76d1",
   "metadata": {},
   "source": [
    "### Plot validity metrics"
   ]
  },
  {
   "cell_type": "code",
   "execution_count": null,
   "id": "c195865d",
   "metadata": {},
   "outputs": [],
   "source": [
    "fc_parcellation.plot_validity(k_range=[2,4],internal=[\"SSE\", \"silhouette\", \"davies\", \"calinski\"], group=[\"ami\", \"ari\", \"corr\"], save_figures=False)"
   ]
  },
  {
   "cell_type": "code",
   "execution_count": null,
   "id": "a6509eea",
   "metadata": {},
   "outputs": [],
   "source": [
    "fc_parcellation.plot_validity(k_range=range(2,15),internal=[\"SSE\", \"silhouette\", \"davies\", \"calinski\"], save_figures=False)"
   ]
  },
  {
   "cell_type": "code",
   "execution_count": null,
   "id": "27142a88",
   "metadata": {},
   "outputs": [],
   "source": []
  }
 ],
 "metadata": {
  "kernelspec": {
   "display_name": "Python 3 (ipykernel)",
   "language": "python",
   "name": "python3"
  },
  "language_info": {
   "codemirror_mode": {
    "name": "ipython",
    "version": 3
   },
   "file_extension": ".py",
   "mimetype": "text/x-python",
   "name": "python",
   "nbconvert_exporter": "python",
   "pygments_lexer": "ipython3",
   "version": "3.9.12"
  }
 },
 "nbformat": 4,
 "nbformat_minor": 5
}
