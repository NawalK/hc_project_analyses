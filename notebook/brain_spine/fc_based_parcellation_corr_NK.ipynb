{
 "cells": [
  {
   "cell_type": "markdown",
   "id": "05811f44",
   "metadata": {},
   "source": [
    "# <font color=black> Analysis - FC-based parcellation using correlation </font>\n",
    "<hr style=\"border:1px solid black\">"
   ]
  },
  {
   "cell_type": "code",
   "execution_count": 1,
   "id": "2a859ef3",
   "metadata": {},
   "outputs": [],
   "source": [
    "import sys,json\n",
    "import glob, os\n",
    "import numpy as np\n",
    "import nibabel as nib\n",
    "import time\n",
    "\n",
    "sys.path.append('/media/miplab-nas2/Data3/BMPD/hc_project/analysis/code/')\n",
    "\n",
    "from fc_based_parcellation import FC_Parcellation\n",
    "\n",
    "%matplotlib inline\n",
    "%load_ext autoreload\n",
    "%autoreload 2"
   ]
  },
  {
   "cell_type": "markdown",
   "id": "54b7d591",
   "metadata": {},
   "source": [
    "# Initialization `SENSORY`\n",
    "<hr style=\"border:0.5px solid black\">"
   ]
  },
  {
   "cell_type": "markdown",
   "id": "00f5de69",
   "metadata": {},
   "source": [
    "### Load configuration file "
   ]
  },
  {
   "cell_type": "code",
   "execution_count": 2,
   "id": "3c9f417e",
   "metadata": {},
   "outputs": [],
   "source": [
    "# Load the config file with all information\n",
    "with open('../../config/config_fc_based_parcellation_NK.json') as config_file:\n",
    "    config = json.load(config_file)"
   ]
  },
  {
   "cell_type": "markdown",
   "id": "942305b9",
   "metadata": {},
   "source": [
    "### Set relevant parameters"
   ]
  },
  {
   "cell_type": "code",
   "execution_count": 19,
   "id": "260fec02",
   "metadata": {},
   "outputs": [],
   "source": [
    "# Define tag of this analysis (used for saving)\n",
    "config['output_tag'] = \"dorsal_to_postcentral_sensory\"\n",
    "# Define source, target, and the corresponding masks\n",
    "source = 'spinalcord'\n",
    "target = 'brain'\n",
    "# Note: paths should be with respect to main directory\n",
    "config['masks']['brain'] = \"/templates/MNI_hc_project/julich_postcentral_sensory.nii.gz\"\n",
    "config['masks']['spinalcord'] = \"/templates/PAM50_hc_project/template/PAM50_cord_C1toC8_D.nii.gz\"\n",
    "config['list_subjects'] = [\"P030\",\"P099\",\"A006\",\"A007\"]\n",
    "#config['list_subjects'] = [\"P030\", \"P099\",\"A006\",\"A007\",\"A008\",\"A009\",\"A011\",\"A013\",\"A023\",\"A024\",\"A025\",\"A026\",\"A027\",\"A028\",\"A029\",\"A030\",\"A032\",\"A033\",\"A034\",\"A036\",\"A037\",\"A038\",\"A039\",\"A043\",\"A044\",\"A045\",\"A046\"]"
   ]
  },
  {
   "cell_type": "markdown",
   "id": "74376d10",
   "metadata": {},
   "source": [
    "### Instantiate class\n",
    "_Note: this will save a config file with all relevant information and prepare folder structure_"
   ]
  },
  {
   "cell_type": "code",
   "execution_count": 17,
   "id": "a73c9d0c",
   "metadata": {},
   "outputs": [],
   "source": [
    "fc_parcellation = FC_Parcellation(config,source,target,'corr')"
   ]
  },
  {
   "cell_type": "markdown",
   "id": "568188dc",
   "metadata": {},
   "source": [
    "# Analyses\n",
    "<hr style=\"border:0.5px solid black\">"
   ]
  },
  {
   "cell_type": "markdown",
   "id": "1cc37e2e",
   "metadata": {},
   "source": [
    "### Compute the voxelwise correlation & run clustering for each subject independently"
   ]
  },
  {
   "cell_type": "code",
   "execution_count": 18,
   "id": "a4358fb5",
   "metadata": {},
   "outputs": [
    {
     "name": "stdout",
     "output_type": "stream",
     "text": [
      "\u001b[1mSUBJECT P030\u001b[0m\n",
      "\u001b[1mCOMPUTE VOXELWISE FC\u001b[0m\n",
      "\u001b[37mStandardize = True\u001b[0m\n",
      "\u001b[37mLoading from file = True\u001b[0m\n",
      "\u001b[37mSaving results = True\u001b[0m\n",
      "... Load FC from file\n",
      "\n",
      "\u001b[1mDONE\u001b[0m\n",
      "\u001b[1mCLUSTERING AT THE INDIVIDUAL LEVEL\u001b[0m\n",
      "\u001b[37mAlgorithm = kmeans\u001b[0m\n",
      "\u001b[37mK value(s) = range(5, 10)\u001b[0m\n",
      "\u001b[37mOverwrite results = True\u001b[0m\n",
      "\u001b[37mSaving results = True\u001b[0m\n",
      "\n",
      "K = 5\n",
      "... Running k-means clustering\n",
      "K = 6\n",
      "... Running k-means clustering\n",
      "K = 7\n",
      "... Running k-means clustering\n",
      "K = 8\n",
      "... Running k-means clustering\n",
      "K = 9\n",
      "... Running k-means clustering\n",
      "\n",
      "\n",
      "\u001b[1mSUBJECT P099\u001b[0m\n",
      "\u001b[1mCOMPUTE VOXELWISE FC\u001b[0m\n",
      "\u001b[37mStandardize = True\u001b[0m\n",
      "\u001b[37mLoading from file = True\u001b[0m\n",
      "\u001b[37mSaving results = True\u001b[0m\n",
      "... Load FC from file\n",
      "\n",
      "\u001b[1mDONE\u001b[0m\n",
      "\u001b[1mCLUSTERING AT THE INDIVIDUAL LEVEL\u001b[0m\n",
      "\u001b[37mAlgorithm = kmeans\u001b[0m\n",
      "\u001b[37mK value(s) = range(5, 10)\u001b[0m\n",
      "\u001b[37mOverwrite results = True\u001b[0m\n",
      "\u001b[37mSaving results = True\u001b[0m\n",
      "\n",
      "K = 5\n",
      "... Running k-means clustering\n",
      "K = 6\n",
      "... Running k-means clustering\n",
      "K = 7\n",
      "... Running k-means clustering\n",
      "K = 8\n",
      "... Running k-means clustering\n",
      "K = 9\n",
      "... Running k-means clustering\n",
      "\n",
      "\n",
      "\u001b[1mSUBJECT A006\u001b[0m\n",
      "\u001b[1mCOMPUTE VOXELWISE FC\u001b[0m\n",
      "\u001b[37mStandardize = True\u001b[0m\n",
      "\u001b[37mLoading from file = True\u001b[0m\n",
      "\u001b[37mSaving results = True\u001b[0m\n",
      "... Load FC from file\n",
      "\n",
      "\u001b[1mDONE\u001b[0m\n",
      "\u001b[1mCLUSTERING AT THE INDIVIDUAL LEVEL\u001b[0m\n",
      "\u001b[37mAlgorithm = kmeans\u001b[0m\n",
      "\u001b[37mK value(s) = range(5, 10)\u001b[0m\n",
      "\u001b[37mOverwrite results = True\u001b[0m\n",
      "\u001b[37mSaving results = True\u001b[0m\n",
      "\n",
      "K = 5\n",
      "... Running k-means clustering\n",
      "K = 6\n",
      "... Running k-means clustering\n",
      "K = 7\n",
      "... Running k-means clustering\n",
      "K = 8\n",
      "... Running k-means clustering\n",
      "K = 9\n",
      "... Running k-means clustering\n",
      "\n",
      "\n",
      "\u001b[1m... Operation performed in 2041.84 s!\u001b[0m\n"
     ]
    }
   ],
   "source": [
    "start = time.time()\n",
    "# Loop through the subjects to compute fc and clustering \n",
    "for sub_id,sub in enumerate(fc_parcellation.config['list_subjects']): \n",
    "    print(f'\\033[1mSUBJECT {sub}\\033[0m')\n",
    "    # Compute correlation without saving files\n",
    "    dict_corr = fc_parcellation.compute_voxelwise_fc(sub=sub, \n",
    "                                                  load_from_file=True, \n",
    "                                                  save_results=True)\n",
    "    # Run clustering and save labels\n",
    "    fc_parcellation.run_clustering(dict_corr,\n",
    "                                    k_range=range(5,10),algorithm='kmeans',\n",
    "                                    overwrite=True,\n",
    "                                    save_results=True)\n",
    "print(\"\\033[1m... Operation performed in %.2f s!\\033[0m\" % (time.time() - start))"
   ]
  },
  {
   "cell_type": "markdown",
   "id": "347d1de4",
   "metadata": {},
   "source": [
    "### Compute the group-level clustering and generate corresponding maps"
   ]
  },
  {
   "cell_type": "code",
   "execution_count": 21,
   "id": "f64a67d0",
   "metadata": {},
   "outputs": [
    {
     "name": "stdout",
     "output_type": "stream",
     "text": [
      "\u001b[1mCLUSTERING AT THE GROUP LEVEL\u001b[0m\n",
      "\u001b[37mK value(s) = range(5, 10)\u001b[0m\n",
      "\u001b[37mOverwrite results = True\u001b[0m\n",
      "\u001b[37mSaving results = True\u001b[0m\n",
      "\n",
      "\u001b[38;5;208mWARNING: THESE RESULTS CHANGE IF GROUP CHANGES, MAKE SURE YOU ARE USING THE SAME SUBJECTS\u001b[0m\n",
      "\n",
      "K = 5\n",
      "... Computing hierarchical clustering and relabeling\n",
      "K = 6\n",
      "... Computing hierarchical clustering and relabeling\n",
      "K = 7\n",
      "... Computing hierarchical clustering and relabeling\n",
      "K = 8\n",
      "... Computing hierarchical clustering and relabeling\n",
      "K = 9\n",
      "... Computing hierarchical clustering and relabeling\n",
      "\n",
      "\u001b[1mDONE\u001b[0m\n"
     ]
    }
   ],
   "source": [
    "fc_parcellation.group_clustering(k_range=range(5,10),overwrite=True)"
   ]
  },
  {
   "cell_type": "code",
   "execution_count": 22,
   "id": "dbd2baf4",
   "metadata": {},
   "outputs": [
    {
     "name": "stdout",
     "output_type": "stream",
     "text": [
      "\u001b[1mPREPARE TARGET MAPS\u001b[0m\n",
      "\u001b[37mType of source labels = indiv\u001b[0m\n",
      "\u001b[37mK value(s) = range(5, 7)\u001b[0m\n",
      "\u001b[37mOverwrite results = True\u001b[0m\n",
      "\u001b[37mSaving results = True\u001b[0m\n",
      "\n",
      "K = 5\n",
      "... Computing target maps\n",
      "...... Subject P030\n",
      "...... Subject P099\n",
      "...... Subject A006\n",
      "...... Subject A007\n",
      "K = 6\n",
      "... Computing target maps\n",
      "...... Subject P030\n",
      "...... Subject P099\n",
      "...... Subject A006\n",
      "...... Subject A007\n",
      "\u001b[1mDONE\u001b[0m\n",
      "\n"
     ]
    }
   ],
   "source": [
    "fc_parcellation.prepare_target_maps(label_type='indiv',k_range=range(5,7),overwrite=True, save_results=True)"
   ]
  },
  {
   "cell_type": "code",
   "execution_count": 46,
   "id": "dc4ebb8c",
   "metadata": {},
   "outputs": [
    {
     "name": "stdout",
     "output_type": "stream",
     "text": [
      "\u001b[1mVALIDITY METRICS\u001b[0m\n",
      "\u001b[37mK value(s) = range(5, 10)\u001b[0m\n",
      "\u001b[37mSaving figures = False\u001b[0m\n",
      "\n"
     ]
    },
    {
     "ename": "AttributeError",
     "evalue": "'AxesSubplot' object has no attribute 'fig'",
     "output_type": "error",
     "traceback": [
      "\u001b[0;31m---------------------------------------------------------------------------\u001b[0m",
      "\u001b[0;31mAttributeError\u001b[0m                            Traceback (most recent call last)",
      "Input \u001b[0;32mIn [46]\u001b[0m, in \u001b[0;36m<cell line: 1>\u001b[0;34m()\u001b[0m\n\u001b[0;32m----> 1\u001b[0m \u001b[43mfc_parcellation\u001b[49m\u001b[38;5;241;43m.\u001b[39;49m\u001b[43mplot_validity\u001b[49m\u001b[43m(\u001b[49m\u001b[43mk_range\u001b[49m\u001b[38;5;241;43m=\u001b[39;49m\u001b[38;5;28;43mrange\u001b[39;49m\u001b[43m(\u001b[49m\u001b[38;5;241;43m5\u001b[39;49m\u001b[43m,\u001b[49m\u001b[38;5;241;43m10\u001b[39;49m\u001b[43m)\u001b[49m\u001b[43m,\u001b[49m\u001b[43minternal\u001b[49m\u001b[38;5;241;43m=\u001b[39;49m\u001b[43m[\u001b[49m\u001b[38;5;124;43m\"\u001b[39;49m\u001b[38;5;124;43mSSE\u001b[39;49m\u001b[38;5;124;43m\"\u001b[39;49m\u001b[43m]\u001b[49m\u001b[43m,\u001b[49m\u001b[43mgroup\u001b[49m\u001b[38;5;241;43m=\u001b[39;49m\u001b[43m[\u001b[49m\u001b[38;5;124;43m\"\u001b[39;49m\u001b[38;5;124;43mcorr\u001b[39;49m\u001b[38;5;124;43m\"\u001b[39;49m\u001b[43m,\u001b[49m\u001b[38;5;124;43m\"\u001b[39;49m\u001b[38;5;124;43mari\u001b[39;49m\u001b[38;5;124;43m\"\u001b[39;49m\u001b[43m]\u001b[49m\u001b[43m,\u001b[49m\u001b[43m \u001b[49m\u001b[43msave_figures\u001b[49m\u001b[38;5;241;43m=\u001b[39;49m\u001b[38;5;28;43;01mFalse\u001b[39;49;00m\u001b[43m)\u001b[49m\n",
      "File \u001b[0;32m/media/miplab-nas2/Data3/BMPD/hc_project/analysis/code/fc_based_parcellation.py:548\u001b[0m, in \u001b[0;36mFC_Parcellation.plot_validity\u001b[0;34m(self, k_range, internal, group, indiv_algorithm, save_figures)\u001b[0m\n\u001b[1;32m    546\u001b[0m     data_df \u001b[38;5;241m=\u001b[39m corr_df[corr_df[\u001b[38;5;124m'\u001b[39m\u001b[38;5;124mk\u001b[39m\u001b[38;5;124m'\u001b[39m]\u001b[38;5;241m.\u001b[39misin(k_range)]\n\u001b[1;32m    547\u001b[0m     g \u001b[38;5;241m=\u001b[39m sns\u001b[38;5;241m.\u001b[39mlineplot(data\u001b[38;5;241m=\u001b[39mdata_df, x\u001b[38;5;241m=\u001b[39m\u001b[38;5;124m'\u001b[39m\u001b[38;5;124mk\u001b[39m\u001b[38;5;124m'\u001b[39m, y\u001b[38;5;241m=\u001b[39mmetric, marker\u001b[38;5;241m=\u001b[39m\u001b[38;5;124m'\u001b[39m\u001b[38;5;124mo\u001b[39m\u001b[38;5;124m'\u001b[39m, color\u001b[38;5;241m=\u001b[39mcolor)\n\u001b[0;32m--> 548\u001b[0m     \u001b[43mg\u001b[49m\u001b[38;5;241;43m.\u001b[39;49m\u001b[43mfig\u001b[49m\u001b[38;5;241m.\u001b[39mset_size_inches(\u001b[38;5;241m5\u001b[39m, \u001b[38;5;241m4\u001b[39m)\n\u001b[1;32m    549\u001b[0m     g\u001b[38;5;241m.\u001b[39mset_axis_labels(\u001b[38;5;124m\"\u001b[39m\u001b[38;5;124mK\u001b[39m\u001b[38;5;124m\"\u001b[39m, metrics_names[metric], fontsize\u001b[38;5;241m=\u001b[39m\u001b[38;5;241m12\u001b[39m, fontweight\u001b[38;5;241m=\u001b[39m\u001b[38;5;124m'\u001b[39m\u001b[38;5;124mbold\u001b[39m\u001b[38;5;124m'\u001b[39m)\n\u001b[1;32m    551\u001b[0m \u001b[38;5;66;03m# Other metrics are plotted as boxplots\u001b[39;00m\n\u001b[1;32m    552\u001b[0m \u001b[38;5;28;01melse\u001b[39;00m:\n",
      "\u001b[0;31mAttributeError\u001b[0m: 'AxesSubplot' object has no attribute 'fig'"
     ]
    },
    {
     "data": {
      "image/png": "[encoded data removed]",
      "text/plain": [
       "<Figure size 360x288 with 1 Axes>"
      ]
     },
     "metadata": {},
     "output_type": "display_data"
    }
   ],
   "source": [
    "fc_parcellation.plot_validity(k_range=range(5,10),internal=[\"SSE\"],group=[\"corr\",\"ari\"], save_figures=False)"
   ]
  },
  {
   "cell_type": "code",
   "execution_count": 14,
   "id": "d25b54cd",
   "metadata": {},
   "outputs": [],
   "source": [
    "internal_df = pd.read_pickle('/media/miplab-nas2/Data3/BMPD/hc_project/brain&spine/results/fc_parcellation/corr/dorsal_to_postcentral_sensory/source/dorsal_to_postcentral_sensory_kmeans_group_validity.pkl')"
   ]
  },
  {
   "cell_type": "markdown",
   "id": "fd9dc18e",
   "metadata": {},
   "source": [
    "# BELOW: archives"
   ]
  },
  {
   "cell_type": "markdown",
   "id": "10713c16",
   "metadata": {},
   "source": [
    "# Initialization `SENSORY`\n",
    "<hr style=\"border:0.5px solid black\">"
   ]
  },
  {
   "cell_type": "markdown",
   "id": "7e80718d",
   "metadata": {},
   "source": [
    "### Load configuration file "
   ]
  },
  {
   "cell_type": "code",
   "execution_count": null,
   "id": "af75b37e",
   "metadata": {},
   "outputs": [],
   "source": [
    "# Load the config file with all information\n",
    "with open('../../config/config_fc_based_parcellation_NK.json') as config_file:\n",
    "    config = json.load(config_file)"
   ]
  },
  {
   "cell_type": "markdown",
   "id": "289a52db",
   "metadata": {},
   "source": [
    "### Set relevant parameters"
   ]
  },
  {
   "cell_type": "code",
   "execution_count": null,
   "id": "a02ed8c7",
   "metadata": {},
   "outputs": [],
   "source": [
    "# Define tag of this analysis (used for saving)\n",
    "config['output_tag'] = \"dorsal_to_postcentral_sensory\"\n",
    "# Define source, target, and the corresponding mask\n",
    "source = 'spinalcord'\n",
    "target = 'brain'\n",
    "# Note: paths should be with respect to main directory\n",
    "config['masks']['brain'] = \"/templates/MNI_hc_project/julich_postcentral_sensory.nii.gz\"\n",
    "config['masks']['spinalcord'] = \"/templates/PAM50_hc_project/template/PAM50_cord_C1toC8_D.nii.gz\"\n",
    "config['list_subjects'] = [\"P030\", \"P099\",\"A006\",\"A007\",\"A008\",\"A009\",\"A011\",\"A013\",\"A023\",\"A024\",\"A025\",\"A026\",\"A027\",\"A028\",\"A029\",\"A030\",\"A032\",\"A033\",\"A034\",\"A036\",\"A037\",\"A038\",\"A039\",\"A043\"]"
   ]
  },
  {
   "cell_type": "markdown",
   "id": "4d072c31",
   "metadata": {},
   "source": [
    "### Instantiate class\n",
    "_Note: this will save a config file with all relevant information and prepare folder structure_"
   ]
  },
  {
   "cell_type": "code",
   "execution_count": null,
   "id": "9b515739",
   "metadata": {},
   "outputs": [],
   "source": [
    "fc_parcellation = FC_Parcellation(config,source,target,'corr')"
   ]
  },
  {
   "cell_type": "markdown",
   "id": "9138ef8b",
   "metadata": {},
   "source": [
    "# Analyses\n",
    "<hr style=\"border:0.5px solid black\">"
   ]
  },
  {
   "cell_type": "markdown",
   "id": "543d6946",
   "metadata": {},
   "source": [
    "### Compute the voxelwise correlation & run clustering for each subject independently"
   ]
  },
  {
   "cell_type": "code",
   "execution_count": null,
   "id": "c5e9ed81",
   "metadata": {},
   "outputs": [],
   "source": [
    "start = time.time()\n",
    "# Initialize empty array for individual labels\n",
    "mask_source_path = config['main_dir']+config['masks'][source]\n",
    "nvox_source = np.count_nonzero(nib.load(mask_source_path).get_fdata().astype(bool))\n",
    "subject_labels = np.zeros((len(fc_parcellation.config['list_subjects']),nvox_source))\n",
    "for sub_id,sub in enumerate(fc_parcellation.config['list_subjects']): \n",
    "    print(f'SUBJECT {sub}')\n",
    "    # Compute correlation without saving files\n",
    "    dict_corr = fc_parcellation.compute_voxelwise_fc(sub=sub, \n",
    "                                                  load_from_file=True, \n",
    "                                                  save_results=True, \n",
    "                                                  mask_source_path=mask_source_path, \n",
    "                                                  mask_target_path=config['main_dir']+config['masks'][target])\n",
    "    # Run clustering and save labels\n",
    "    subject_labels[sub_id,:] = fc_parcellation.run_clustering(dict_corr,\n",
    "                                                              k=8,algorithm='kmeans',\n",
    "                                                              load_from_file=True,\n",
    "                                                              save_results=True)\n",
    "print(\"... Operation performed in %.2f s!\" % (time.time() - start))"
   ]
  },
  {
   "cell_type": "markdown",
   "id": "e322254e",
   "metadata": {},
   "source": [
    "### Compute the group-level clustering and generate corresponding maps"
   ]
  },
  {
   "cell_type": "code",
   "execution_count": null,
   "id": "2b0e937c",
   "metadata": {},
   "outputs": [],
   "source": [
    "group_labels, indiv_labels_relabeled = fc_parcellation.group_clustering(subject_labels)\n",
    "fc_parcellation.prepare_seed_map(group_labels)\n",
    "# Rechange to True later\n",
    "fc_parcellation.prepare_target_maps(indiv_labels_relabeled, load_from_file=False, save_results=True)"
   ]
  },
  {
   "cell_type": "code",
   "execution_count": null,
   "id": "909e5176",
   "metadata": {},
   "outputs": [],
   "source": []
  }
 ],
 "metadata": {
  "kernelspec": {
   "display_name": "Python 3 (ipykernel)",
   "language": "python",
   "name": "python3"
  },
  "language_info": {
   "codemirror_mode": {
    "name": "ipython",
    "version": 3
   },
   "file_extension": ".py",
   "mimetype": "text/x-python",
   "name": "python",
   "nbconvert_exporter": "python",
   "pygments_lexer": "ipython3",
   "version": "3.9.12"
  }
 },
 "nbformat": 4,
 "nbformat_minor": 5
}
