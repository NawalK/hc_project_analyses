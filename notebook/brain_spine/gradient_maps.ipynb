{
 "cells": [
  {
   "cell_type": "markdown",
   "metadata": {},
   "source": [
    "Goal: \n",
    "- Create an analyse that will compute for each brain voxels the spinal level gave the maximal MI value (from C1 to C7)\n",
    "- Each voxel will have the value of the segment: 1,2,3,4,5,6 or 7"
   ]
  },
  {
   "cell_type": "markdown",
   "metadata": {},
   "source": [
    "## <font color=#B2D732> <span style=\"background-color: #4424D6\"> Imports"
   ]
  },
  {
   "cell_type": "code",
   "execution_count": 5,
   "metadata": {},
   "outputs": [
    {
     "name": "stdout",
     "output_type": "stream",
     "text": [
      "The autoreload extension is already loaded. To reload it, use:\n",
      "  %reload_ext autoreload\n"
     ]
    }
   ],
   "source": [
    "import sys,json\n",
    "import glob, os\n",
    "sys.path.append(\"/cerebro/cerebro1/dataset/bmpd/derivatives/HealthyControls_project/hc_project_analyses/code/\")\n",
    "\n",
    "from gradient_maps import GradientsMaps\n",
    "\n",
    "%matplotlib inline\n",
    "%load_ext autoreload\n",
    "%autoreload 2"
   ]
  },
  {
   "cell_type": "markdown",
   "metadata": {},
   "source": [
    "## <font color=#B2D732> <span style=\"background-color: #4424D6\"> A/ Initialization"
   ]
  },
  {
   "cell_type": "markdown",
   "metadata": {},
   "source": [
    " ### <font color=#4424D6> I. Configuration & parameters </font >"
   ]
  },
  {
   "cell_type": "code",
   "execution_count": 11,
   "metadata": {},
   "outputs": [],
   "source": [
    "# Load config file ------------------------------------------------------------\n",
    "with open('../../config/config_seed2voxels.json') as config_file: # the notebook should be in 'xx/notebook/' folder #config_proprio\n",
    "    config = json.load(config_file) # load config file should be open first and the path inside modified\n"
   ]
  },
  {
   "cell_type": "markdown",
   "metadata": {},
   "source": [
    "### <font color=#4424D6> II. Initialize class based on this </font>"
   ]
  },
  {
   "cell_type": "code",
   "execution_count": 12,
   "metadata": {},
   "outputs": [
    {
     "name": "stdout",
     "output_type": "stream",
     "text": [
      "SMC\n"
     ]
    }
   ],
   "source": [
    "GradMaps=GradientsMaps(config,mask=\"MNI_GM_2mm_SMC\") # initialize the function"
   ]
  },
  {
   "cell_type": "code",
   "execution_count": 29,
   "metadata": {},
   "outputs": [
    {
     "name": "stdout",
     "output_type": "stream",
     "text": [
      "---------- Initialization info: \n",
      "icap_C1 will have a value of: 1\n",
      "icap_C2 will have a value of: 2\n",
      "icap_C3 will have a value of: 3\n",
      "icap_C4 will have a value of: 4\n",
      "icap_C5 will have a value of: 5\n",
      "icap_C6 will have a value of: 6\n",
      "icap_C7 will have a value of: 7\n"
     ]
    }
   ],
   "source": [
    "GradMaps.compute_GradMaps(output_tag=\"GradientsMaps_Levels\",methods=\"t_maps\",redo=True)"
   ]
  },
  {
   "cell_type": "code",
   "execution_count": 36,
   "metadata": {},
   "outputs": [],
   "source": [
    "import nilearn\n",
    "#4.c Save the output as an image\n",
    "input_file=\"/cerebro/cerebro1/dataset/bmpd/derivatives/HealthyControls_project/seed_to_voxels/winter_2023/2_second_level/GradientsLevelsMaps/tmax_GradientsMaps_Levels.nii.gz\"\n",
    "#4.c Save the output as an image\n",
    "\n",
    "mask=\"/cerebro/cerebro1/dataset/bmpd/derivatives/HealthyControls_project/hc_project_analyses/masks/brain/PrecentralG.nii.gz\"\n",
    "output_file=\"/cerebro/cerebro1/dataset/bmpd/derivatives/HealthyControls_project/seed_to_voxels/winter_2023/2_second_level/GradientsLevelsMaps/tmax_GradientsMaps_Levels_preC_2s.nii.gz\"\n",
    "masker= nilearn.maskers.NiftiMasker(mask, smoothing_fwhm=[2,2,2])\n",
    "array_s=masker.fit_transform(input_file)\n",
    "img_s=masker.inverse_transform(array_s)\n",
    "img_s.to_filename(output_file) # create temporary 3D files\n"
   ]
  },
  {
   "cell_type": "code",
   "execution_count": 50,
   "metadata": {},
   "outputs": [
    {
     "data": {
      "text/plain": [
       "0"
      ]
     },
     "execution_count": 50,
     "metadata": {},
     "output_type": "execute_result"
    }
   ],
   "source": [
    "mask=\"/cerebro/cerebro1/dataset/bmpd/derivatives/HealthyControls_project/hc_project_analyses/masks/brain/striatum.nii.gz\"\n",
    "string=\"fslmaths \" + mask + \" -bin \" + mask\n",
    "os.system(string)"
   ]
  },
  {
   "cell_type": "code",
   "execution_count": 32,
   "metadata": {},
   "outputs": [
    {
     "data": {
      "text/plain": [
       "0"
      ]
     },
     "execution_count": 32,
     "metadata": {},
     "output_type": "execute_result"
    }
   ],
   "source": [
    "mask1=\"/cerebro/cerebro1/dataset/bmpd/derivatives/HealthyControls_project/hc_project_analyses/masks/brain/MNI_GM_2mm.nii.gz\"\n",
    "mask2=\"/cerebro/cerebro1/dataset/bmpd/derivatives/HealthyControls_project/hc_project_analyses/masks/brain/SMC_new.nii.gz\"\n",
    "mask3=\"/cerebro/cerebro1/dataset/bmpd/derivatives/HealthyControls_project/hc_project_analyses/masks/brain/MNI_GM_2mm_SMCnew.nii.gz\"\n",
    "\n",
    "#mask1=\"/cerebro/cerebro1/dataset/bmpd/derivatives/HealthyControls_project/hc_project_analyses/masks/brain/PostcentralG.nii.gz\"\n",
    "#mask2=\"/cerebro/cerebro1/dataset/bmpd/derivatives/HealthyControls_project/hc_project_analyses/masks/brain/PrecentralG.nii.gz\"\n",
    "#mask3=\"/cerebro/cerebro1/dataset/bmpd/derivatives/HealthyControls_project/hc_project_analyses/masks/brain/SMC_new.nii.gz\"\n",
    "\n",
    "\n",
    "#string=\"fslmaths \" + mask1 + \" -mas \" + mask2 + \" -bin \" + mask3\n",
    "#os.system(string)"
   ]
  },
  {
   "cell_type": "code",
   "execution_count": 76,
   "metadata": {},
   "outputs": [
    {
     "data": {
      "text/plain": [
       "'fslmaths /cerebro/cerebro1/dataset/bmpd/derivatives/HealthyControls_project/hc_project_analyses/masks/brain/MNI_GM_2mm.nii.nii.gz -mas /cerebro/cerebro1/dataset/bmpd/derivatives/HealthyControls_project/hc_project_analyses/masks/brain/SMC_new.nii.gz -bin /cerebro/cerebro1/dataset/bmpd/derivatives/HealthyControls_project/hc_project_analyses/masks/brain/MNI_GM_2mm_SMCnew.nii.nii.gz'"
      ]
     },
     "execution_count": 76,
     "metadata": {},
     "output_type": "execute_result"
    }
   ],
   "source": [
    "string"
   ]
  },
  {
   "cell_type": "raw",
   "metadata": {},
   "source": [
    "%matplotlib inline\n",
    "from nilearn import plotting, datasets\n",
    "colr_map=\"cold_hot_r\"\n",
    "img = \"/cerebro/cerebro1/dataset/bmpd/derivatives/HealthyControls_project/seed_to_voxels/winter_2023/2_second_level/GradientsLevelsMaps/tmax_GradientsMaps_Levels_preC_2s.nii.gz\"\n",
    "\n",
    "view = plotting.view_img_on_surf(img, threshold=0.5, surf_mesh='fsaverage',cmap=\"nipy_spectral\",symmetric_cmap= None)\n",
    "view"
   ]
  },
  {
   "cell_type": "raw",
   "metadata": {},
   "source": [
    "%matplotlib inline\n",
    "from nilearn import plotting, datasets\n",
    "colr_map=\"cold_hot_r\"\n",
    "img = \"/cerebro/cerebro1/dataset/bmpd/derivatives/HealthyControls_project/seed_to_voxels/winter_2023/2_second_level/GradientsLevelsMaps/mode_n31_GradientsMaps_Levels_preC_3s.nii.gz\"\n",
    "\n",
    "view = plotting.view_img_on_surf(img, threshold=1, surf_mesh='fsaverage',cmap=\"nipy_spectral\",symmetric_cmap= None)\n",
    "view"
   ]
  },
  {
   "cell_type": "raw",
   "metadata": {},
   "source": [
    "%matplotlib inline\n",
    "from nilearn import plotting, datasets\n",
    "colr_map=\"cold_hot_r\"\n",
    "img = \"/cerebro/cerebro1/dataset/bmpd/derivatives/HealthyControls_project/seed_to_voxels/winter_2023/2_second_level/GradientsLevelsMaps/mode_n31_GradientsMaps_Levels.nii.gz\"\n",
    "\n",
    "view = plotting.view_img_on_surf(img, threshold=1, surf_mesh='fsaverage',cmap=\"nipy_spectral\",symmetric_cmap= None)\n",
    "view"
   ]
  },
  {
   "cell_type": "code",
   "execution_count": null,
   "metadata": {},
   "outputs": [],
   "source": []
  }
 ],
 "metadata": {
  "kernelspec": {
   "display_name": "Python 3",
   "language": "python",
   "name": "python3"
  },
  "language_info": {
   "codemirror_mode": {
    "name": "ipython",
    "version": 3
   },
   "file_extension": ".py",
   "mimetype": "text/x-python",
   "name": "python",
   "nbconvert_exporter": "python",
   "pygments_lexer": "ipython3",
   "version": "3.6.9"
  }
 },
 "nbformat": 4,
 "nbformat_minor": 5
}
