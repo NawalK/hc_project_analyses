{
 "cells": [
  {
   "cell_type": "markdown",
   "metadata": {},
   "source": [
    "Goal: \n",
    "- Create an analyse that will compute for each brain voxels the spinal level gave the maximal MI value (from C1 to C7)\n",
    "- Each voxel will have the value of the segment: 1,2,3,4,5,6 or 7"
   ]
  },
  {
   "cell_type": "markdown",
   "metadata": {},
   "source": [
    "## <font color=#B2D732> <span style=\"background-color: #4424D6\"> Imports"
   ]
  },
  {
   "cell_type": "code",
   "execution_count": 1,
   "metadata": {},
   "outputs": [
    {
     "name": "stderr",
     "output_type": "stream",
     "text": [
      "/cerebro/cerebro1/dataset/bmpd/derivatives/thibault_test/code/toolbox/bmpd_python/lib/python3.6/site-packages/nilearn/__init__.py:69: FutureWarning: Python 3.6 support is deprecated and will be removed in release 0.10 of Nilearn. Consider switching to Python 3.8 or 3.9.\n",
      "  _python_deprecation_warnings()\n"
     ]
    }
   ],
   "source": [
    "import sys,json\n",
    "import glob, os\n",
    "sys.path.append(\"/cerebro/cerebro1/dataset/bmpd/derivatives/HealthyControls_project/hc_project_analyses/code/\")\n",
    "\n",
    "from gradient_maps import GradientsMaps\n",
    "\n",
    "%matplotlib inline\n",
    "%load_ext autoreload\n",
    "%autoreload 2"
   ]
  },
  {
   "cell_type": "markdown",
   "metadata": {},
   "source": [
    "## <font color=#B2D732> <span style=\"background-color: #4424D6\"> A/ Initialization"
   ]
  },
  {
   "cell_type": "markdown",
   "metadata": {},
   "source": [
    " ### <font color=#4424D6> I. Configuration & parameters </font >"
   ]
  },
  {
   "cell_type": "code",
   "execution_count": 44,
   "metadata": {},
   "outputs": [],
   "source": [
    "# Load config file ------------------------------------------------------------\n",
    "with open('../../config/config_seed2voxels.json') as config_file: # the notebook should be in 'xx/notebook/' folder #config_proprio\n",
    "    config = json.load(config_file) # load config file should be open first and the path inside modified\n",
    "#config['list_subjects']=[\"P030\"]\n",
    "config[\"seeds\"][\"seed_dir\"]=\"/hc_project_analyses/mask/spinalcord/levels/icaps/\"\n",
    "config[\"seeds\"][\"seed_structure\"]=\"spinalcord\"\n",
    "\n",
    "config[\"targeted_voxels\"][\"target_dir\"]=\"/hc_project_analyses/mask/brain/\"\n",
    "config[\"targeted_voxels\"][\"target_name\"]= \"MNI_GM_2mm\"\n",
    "config[\"seeds\"][\"seed_names\"]=[\"icap_C1\",\"icap_C2\",\"icap_C3\",\"icap_C4\",\"icap_C5\",\"icap_C6\",\"icap_C7\"]"
   ]
  },
  {
   "cell_type": "markdown",
   "metadata": {},
   "source": [
    "### <font color=#4424D6> II. Initialize class based on this </font>"
   ]
  },
  {
   "cell_type": "code",
   "execution_count": 45,
   "metadata": {},
   "outputs": [
    {
     "name": "stdout",
     "output_type": "stream",
     "text": [
      "SMC\n"
     ]
    }
   ],
   "source": [
    "GradMaps=GradientsMaps(config,mask=\"MNI_GM_2mm_SMC\") # initialize the function"
   ]
  },
  {
   "cell_type": "code",
   "execution_count": null,
   "metadata": {},
   "outputs": [
    {
     "name": "stdout",
     "output_type": "stream",
     "text": [
      "---------- Initialization info: \n",
      "icap_C1 will have a value of: 1\n",
      "icap_C2 will have a value of: 2\n",
      "icap_C3 will have a value of: 3\n",
      "icap_C4 will have a value of: 4\n",
      "icap_C5 will have a value of: 5\n",
      "icap_C6 will have a value of: 6\n",
      "icap_C7 will have a value of: 7\n"
     ]
    }
   ],
   "source": [
    "GradMaps.compute_GradMaps(output_tag=\"GradientsMaps_Levels\",methods=\"MI_indiv\",redo=True)"
   ]
  },
  {
   "cell_type": "raw",
   "metadata": {},
   "source": [
    "%matplotlib inline\n",
    "from nilearn import plotting, datasets\n",
    "colr_map=\"cold_hot_r\"\n",
    "img = \"/cerebro/cerebro1/dataset/bmpd/derivatives/HealthyControls_project/seed_to_voxels/fall_2023/2_second_level/GradientsLevelsMaps/mode_n31_GradientsMaps_Levels_s_preC.nii.gz\"\n",
    "view = plotting.view_img_on_surf(img, threshold=0.5, surf_mesh='fsaverage',cmap=\"nipy_spectral\",symmetric_cmap= None)\n",
    "view"
   ]
  },
  {
   "cell_type": "code",
   "execution_count": null,
   "metadata": {},
   "outputs": [],
   "source": []
  }
 ],
 "metadata": {
  "kernelspec": {
   "display_name": "Python 3",
   "language": "python",
   "name": "python3"
  },
  "language_info": {
   "codemirror_mode": {
    "name": "ipython",
    "version": 3
   },
   "file_extension": ".py",
   "mimetype": "text/x-python",
   "name": "python",
   "nbconvert_exporter": "python",
   "pygments_lexer": "ipython3",
   "version": "3.6.9"
  }
 },
 "nbformat": 4,
 "nbformat_minor": 5
}
