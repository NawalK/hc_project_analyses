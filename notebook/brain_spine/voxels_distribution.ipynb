{
 "cells": [
  {
   "cell_type": "markdown",
   "id": "e561d0fe",
   "metadata": {},
   "source": [
    "## <font color=#B2D732> <span style=\"background-color: #4424D6\"> Imports"
   ]
  },
  {
   "cell_type": "code",
   "execution_count": 12,
   "id": "4c6248ce",
   "metadata": {},
   "outputs": [
    {
     "name": "stdout",
     "output_type": "stream",
     "text": [
      "The autoreload extension is already loaded. To reload it, use:\n",
      "  %reload_ext autoreload\n"
     ]
    }
   ],
   "source": [
    "import sys,json\n",
    "import glob, os\n",
    "sys.path.append(\"/cerebro/cerebro1/dataset/bmpd/derivatives/HealthyControls_project/hc_project_analyses/code/\")\n",
    "import numpy as np\n",
    "import nibabel as nib\n",
    "import seaborn as sns\n",
    "import nilearn.masking\n",
    "import matplotlib.pyplot as plt\n",
    "import numpy as np\n",
    "from scipy import stats\n",
    "%matplotlib inline\n",
    "%load_ext autoreload\n",
    "%autoreload 2"
   ]
  },
  {
   "cell_type": "markdown",
   "id": "03f577da",
   "metadata": {},
   "source": [
    "## <font color=#B2D732> <span style=\"background-color: #4424D6\"> A/ Initialization"
   ]
  },
  {
   "cell_type": "markdown",
   "id": "2eeca030",
   "metadata": {},
   "source": [
    " ### <font color=#4424D6> I. Configuration & parameters </font >"
   ]
  },
  {
   "cell_type": "code",
   "execution_count": 2,
   "id": "9a1fab27",
   "metadata": {},
   "outputs": [],
   "source": [
    "# Load config file ------------------------------------------------------------\n",
    "with open('../../config/config_seed2voxels.json') as config_file: # the notebook should be in 'xx/notebook/' folder #config_proprio\n",
    "    config = json.load(config_file) # load config file should be open first and the path inside modified\n",
    "    #config['list_subjects']=config[\"list_subjects_younger\"]\n",
    "signal='raw'\n",
    "seed_indiv=False"
   ]
  },
  {
   "cell_type": "markdown",
   "id": "13b11dc0",
   "metadata": {},
   "source": [
    "## <font color=#B2D732> <span style=\"background-color: #4424D6\"> B/ Load data </font></span>\n"
   ]
  },
  {
   "cell_type": "code",
   "execution_count": 29,
   "id": "bb39012e",
   "metadata": {},
   "outputs": [],
   "source": [
    "input_file=[]\n",
    "for sbj_nb in range(0,len(config[\"list_subjects\"])):\n",
    "    subject_name=config[\"list_subjects\"][sbj_nb]\n",
    "    input_file.append(glob.glob(config[\"first_level\"] + \"/C1C7_DR_gmwm/MNI_GM_3mm_fc_maps/MI/mi_sub*\" + subject_name + \"*\"))#ts=np.load(ts_txt + '.npy',allow_pickle=True)"
   ]
  },
  {
   "cell_type": "code",
   "execution_count": 30,
   "id": "85d0cda2",
   "metadata": {},
   "outputs": [],
   "source": [
    "data=nilearn.masking.apply_mask(input_file[1][0], config[\"main_dir\"] + \"/hc_project_analyses/mask/brain/MNI_GM_3mm.nii.gz\", dtype='f', smoothing_fwhm=None, ensure_finite=True)\n"
   ]
  },
  {
   "cell_type": "code",
   "execution_count": 31,
   "id": "4d870ae2",
   "metadata": {},
   "outputs": [
    {
     "data": {
      "text/plain": [
       "<matplotlib.lines.Line2D at 0x7f1985291240>"
      ]
     },
     "execution_count": 31,
     "metadata": {},
     "output_type": "execute_result"
    },
    {
     "data": {
      "image/png": "[encoded data removed]",
      "text/plain": [
       "<Figure size 360x360 with 1 Axes>"
      ]
     },
     "metadata": {
      "needs_background": "light"
     },
     "output_type": "display_data"
    }
   ],
   "source": [
    "sns.displot(x=data, kde=True)\n",
    "plt.axvline(x = mode_values,color= \"yellow\")\n",
    "plt.axvline(x = np.median(data),color= \"red\")\n",
    "plt.axvline(x = np.percentile(data,q=95),color= \"red\")\n",
    "plt.axvline(x = np.percentile(data,q=5),color= \"red\")\n"
   ]
  },
  {
   "cell_type": "code",
   "execution_count": 23,
   "id": "526955e2",
   "metadata": {},
   "outputs": [
    {
     "name": "stdout",
     "output_type": "stream",
     "text": [
      "Mode(s): [0.01437423]\n"
     ]
    }
   ],
   "source": [
    "bin_size = 0.001\n",
    "bins = np.arange(min(data), max(data) + bin_size, bin_size)\n",
    "hist, bin_edges = np.histogram(data, bins=bins)# Create the histogram\n",
    "max_count_bins = np.where(hist == np.max(hist))[0] # Find the bin(s) with the highest count\n",
    "mode_values = bin_edges[max_count_bins] # Find the mode value(s) within the bin(s)\n",
    "\n",
    "# Print the mode value(s)\n",
    "print(\"Mode(s):\", mode_values)\n"
   ]
  },
  {
   "cell_type": "code",
   "execution_count": 18,
   "id": "006c596a",
   "metadata": {},
   "outputs": [
    {
     "data": {
      "text/plain": [
       "50572"
      ]
     },
     "execution_count": 18,
     "metadata": {},
     "output_type": "execute_result"
    }
   ],
   "source": [
    "np.sum(hist)"
   ]
  },
  {
   "cell_type": "code",
   "execution_count": 139,
   "id": "ca06010f",
   "metadata": {},
   "outputs": [
    {
     "data": {
      "text/plain": [
       "(50571,)"
      ]
     },
     "execution_count": 139,
     "metadata": {},
     "output_type": "execute_result"
    }
   ],
   "source": [
    "data[0:-1].shape"
   ]
  },
  {
   "cell_type": "code",
   "execution_count": 24,
   "id": "c287819c",
   "metadata": {},
   "outputs": [
    {
     "data": {
      "text/plain": [
       "['/cerebro/cerebro1/dataset/bmpd/derivatives/HealthyControls_project/seed_to_voxels/summer_2023/1_first_level//C1C7_DR_gmwm/MNI_GM_3mm_fc_maps/MI/mi_sub-A052.nii.gz']"
      ]
     },
     "execution_count": 24,
     "metadata": {},
     "output_type": "execute_result"
    }
   ],
   "source": [
    "glob.glob(config[\"first_level\"] + \"/C1C7_DR_gmwm/MNI_GM_3mm_fc_maps/MI/mi_sub*\" + subject_name + \"*\")"
   ]
  },
  {
   "cell_type": "code",
   "execution_count": null,
   "id": "79ff42a2",
   "metadata": {},
   "outputs": [],
   "source": []
  }
 ],
 "metadata": {
  "kernelspec": {
   "display_name": "Python 3 (ipykernel)",
   "language": "python",
   "name": "python3"
  },
  "language_info": {
   "codemirror_mode": {
    "name": "ipython",
    "version": 3
   },
   "file_extension": ".py",
   "mimetype": "text/x-python",
   "name": "python",
   "nbconvert_exporter": "python",
   "pygments_lexer": "ipython3",
   "version": "3.8.19"
  }
 },
 "nbformat": 4,
 "nbformat_minor": 5
}
