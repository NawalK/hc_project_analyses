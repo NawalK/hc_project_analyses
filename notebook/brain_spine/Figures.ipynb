{
 "cells": [
  {
   "cell_type": "markdown",
   "metadata": {},
   "source": [
    "# <font color=black> Figures - brain or spinal cord icaps </font>\n",
    "<hr style=\"border:1px solid black\">"
   ]
  },
  {
   "cell_type": "code",
   "execution_count": 1,
   "metadata": {},
   "outputs": [
    {
     "name": "stderr",
     "output_type": "stream",
     "text": [
      "/cerebro/cerebro1/dataset/bmpd/derivatives/thibault_test/code/toolbox/bmpd_python/lib/python3.6/site-packages/nilearn/__init__.py:69: FutureWarning: Python 3.6 support is deprecated and will be removed in release 0.10 of Nilearn. Consider switching to Python 3.8 or 3.9.\n",
      "  _python_deprecation_warnings()\n"
     ]
    }
   ],
   "source": [
    "import sys,json\n",
    "import glob\n",
    "import pandas as pd\n",
    "import numpy as np\n",
    "import nibabel as nib\n",
    "import seaborn as sns\n",
    "import os \n",
    "from matplotlib import pyplot as plt\n",
    "\n",
    "#sys.path.append('/media/miplab-nas2/Data3/BMPD/hc_project/analysis/code/')\n",
    "sys.path.append('/cerebro/cerebro1/dataset/bmpd/derivatives/HealthyControls_project/hc_project_analyses/code/')\n",
    "\n",
    "from plotting import Plotting\n",
    "from plotting import Plot_brain\n",
    "\n",
    "from spine_only_analysis import SpineOnlyAnalysis\n",
    "from compute_similarity import compute_similarity\n",
    "%matplotlib inline\n",
    "%load_ext autoreload\n",
    "%autoreload 2"
   ]
  },
  {
   "cell_type": "markdown",
   "metadata": {},
   "source": [
    "<hr style=\"border:1px solid black\">\n",
    "\n",
    "# Initialization"
   ]
  },
  {
   "cell_type": "markdown",
   "metadata": {},
   "source": [
    "### Load configuration file "
   ]
  },
  {
   "cell_type": "code",
   "execution_count": 4,
   "metadata": {},
   "outputs": [],
   "source": [
    "# Load the config files with all informations (i.e., all datasets, methods, etc.)\n",
    "with open('../../config/config_ICAP_ICA_brsc.json') as config_file:\n",
    "    config = json.load(config_file)\n",
    "    \n",
    "#with open('../config/config_spine_only_CL.json') as config_file:\n",
    "#    config = json.load(config_file)\n",
    "    "
   ]
  },
  {
   "cell_type": "markdown",
   "metadata": {},
   "source": [
    "<hr style=\"border:1px solid black\">\n",
    "\n",
    "# Figure 2A – Brain "
   ]
  },
  {
   "cell_type": "raw",
   "metadata": {},
   "source": [
    "PlotBr=Plot_brain(config) # initialize the function\n",
    "network=\"SMC\"\n",
    "i_img=config[\"main_dir\"] + config[\"data\"][\"mtl\"][\"icap\"][\"brain\"][\"dir\"] +\"/*\" +network +\".nii.gz\"\n",
    "\n",
    "output_tag=os.path.basename(i_img).split('.')[0] # specify a tag for the output filename\n",
    "\n",
    "PlotBr.plot_3D(i_img=i_img,hemi_view=[\"lh\",\"rh\"],face_view=[\"lateral\",\"medial\",\"dorsal\"],\n",
    "               vmin=2,vmax=4,threshold=2,\n",
    "               colormap=\"autumn\", \n",
    "               output_dir=config[\"main_dir\"] + config[\"output_dir\"],\n",
    "               tag=output_tag, save_results=True)"
   ]
  },
  {
   "cell_type": "markdown",
   "metadata": {},
   "source": [
    "# Figure 2B spinal cord ICAPS"
   ]
  },
  {
   "cell_type": "code",
   "execution_count": null,
   "metadata": {},
   "outputs": [],
   "source": [
    "# Define parameters for the dataset to visualize\n",
    "# Note: it is possible to look at a single dataset (in that case, just define params1), or to compare two (in that case, also add params2)\n",
    "# Each param dict has 3 values: k, dataset and analysis\n",
    "params_icap = {'k':7, 'dataset':'mtl', 'analysis':'icap', 'lthresh':2}\n",
    "\n",
    "plotting_icap = Plotting(config,'spinalcord',params1=params_icap)\n",
    "plotting_icap.sc_plot(show_spinal_levels=True, k_per_line=7, lthresh=2, uthresh=4,save_results=True, similarity_method='Dice',centering_method='middle',plot_overlap=False)    \n"
   ]
  },
  {
   "cell_type": "markdown",
   "metadata": {},
   "source": [
    "_Note: the component numbers refer to the ones of the original datasets (i.e., before any type of reordering)_"
   ]
  },
  {
   "cell_type": "code",
   "execution_count": 94,
   "metadata": {},
   "outputs": [
    {
     "name": "stdout",
     "output_type": "stream",
     "text": [
      "/cerebro/cerebro1/dataset/bmpd/derivatives/HealthyControls_project//iCAP/results_brsc_project/young/spinalcord//K_7/comp_zscored/*iCAPs_z\n",
      "/cerebro/cerebro1/dataset/bmpd/derivatives/HealthyControls_project//hc_project_analyses/masks/spinalcord/levels/frostell/spinal_levels//K_7/comp_zscored/*.nii.gz\n",
      "METHOD 1: Comparing two sets of components at specific K values \n",
      "mtl_icap at K = 7 vs atlas_icap at K = 7 \n",
      "\n",
      "Sorting method: rostrocaudal (max value)\n",
      "[0.86299179 0.68134784 0.70992723 0.86371775 0.85649932 0.89659053\n",
      " 0.93496748]\n",
      "The mean similarity is 0.83 ± 0.1\n"
     ]
    },
    {
     "data": {
      "image/png": "[encoded data removed]",
      "text/plain": [
       "<Figure size 504x504 with 2 Axes>"
      ]
     },
     "metadata": {
      "needs_background": "light"
     },
     "output_type": "display_data"
    }
   ],
   "source": [
    "# Define parameters for the datasets to compare\n",
    "# Each param dict has 3 values: k_range, dataset and analysis\n",
    "params_quant_icap = {'k_range':range(7,8), 'dataset':'mtl', 'analysis':'icap', 'lthresh':1.6}\n",
    "params_quant_atlas = {'k_range':range(7,8), 'dataset':'atlas', 'analysis':'icap', 'lthresh':1}\n",
    "\n",
    "spine_analysis_atlas_icap_mtl = SpineOnlyAnalysis(config,params1=params_quant_icap,params2=params_quant_atlas)\n",
    "#bmpd/derivatives/HealthyControls_project/hc_project_analyses/masks/spinalcord/levels/frostell/spinal_levels/K_7/com_zscored/PAM50_levels_C1toC7.nii.gz\n",
    "spine_analysis_atlas_icap_mtl.spatial_similarity(k1=7,similarity_method='Dice',save_figure=True)"
   ]
  },
  {
   "cell_type": "code",
   "execution_count": null,
   "metadata": {},
   "outputs": [],
   "source": []
  }
 ],
 "metadata": {
  "kernelspec": {
   "display_name": "Python 3",
   "language": "python",
   "name": "python3"
  },
  "language_info": {
   "codemirror_mode": {
    "name": "ipython",
    "version": 3
   },
   "file_extension": ".py",
   "mimetype": "text/x-python",
   "name": "python",
   "nbconvert_exporter": "python",
   "pygments_lexer": "ipython3",
   "version": "3.6.9"
  }
 },
 "nbformat": 4,
 "nbformat_minor": 5
}
