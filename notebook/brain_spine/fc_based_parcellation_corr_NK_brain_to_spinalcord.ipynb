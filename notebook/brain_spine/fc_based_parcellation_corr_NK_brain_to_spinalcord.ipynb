{
 "cells": [
  {
   "cell_type": "markdown",
   "id": "05811f44",
   "metadata": {},
   "source": [
    "# <font color=black> Analysis - FC-based parcellation using correlation </font>\n",
    "<hr style=\"border:1px solid black\">"
   ]
  },
  {
   "cell_type": "code",
   "execution_count": 1,
   "id": "2a859ef3",
   "metadata": {},
   "outputs": [],
   "source": [
    "import sys,json\n",
    "import glob, os\n",
    "import numpy as np\n",
    "import nibabel as nib\n",
    "import time\n",
    "from nilearn import datasets, plotting, image, surface\n",
    "import matplotlib.pyplot as plt\n",
    "from matplotlib.colors import ListedColormap\n",
    "\n",
    "sys.path.append('/media/miplab-nas2/Data3/BMPD/hc_project/analysis/code/')\n",
    "\n",
    "from fc_based_parcellation import FC_Parcellation\n",
    "\n",
    "%matplotlib inline\n",
    "%load_ext autoreload\n",
    "%autoreload 2"
   ]
  },
  {
   "cell_type": "markdown",
   "id": "54b7d591",
   "metadata": {},
   "source": [
    "# Initialization\n",
    "<hr style=\"border:0.5px solid black\">"
   ]
  },
  {
   "cell_type": "markdown",
   "id": "00f5de69",
   "metadata": {},
   "source": [
    "### Load existing configuration file ..."
   ]
  },
  {
   "cell_type": "code",
   "execution_count": 19,
   "id": "3c9f417e",
   "metadata": {},
   "outputs": [],
   "source": [
    "# Load the config file with all information\n",
    "filetag = \"Postcentral_L_to_C1toC7_gm_07_DR\"\n",
    "with open('../../../brain_spine/results/fc_parcellation/corr/' + filetag + '/config_' + filetag + '.json') as config_file:\n",
    "    config = json.load(config_file)\n",
    "source = 'spinalcord'\n",
    "target = 'brain'\n",
    "config['brain_surfaces']='/templates/surf/'\n",
    "# Instantiate class\n",
    "# Note: this will save a config file with all relevant information and prepare folder structure\n",
    "fc_parcellation = FC_Parcellation(config,source,target,'corr')"
   ]
  },
  {
   "cell_type": "markdown",
   "id": "942305b9",
   "metadata": {},
   "source": [
    "### ... or build new one"
   ]
  },
  {
   "cell_type": "code",
   "execution_count": 27,
   "id": "260fec02",
   "metadata": {},
   "outputs": [],
   "source": [
    "# Load the config file with all information\n",
    "with open('../../config/config_fc_based_parcellation_NK.json') as config_file:\n",
    "    config = json.load(config_file)\n",
    "# Define tag of this analysis (used for saving)\n",
    "config['output_tag'] = \"Postcentral_L_to_C1toC7_gm_07_DR\"\n",
    "# Define source, target, and the corresponding masks\n",
    "target = 'spinalcord'\n",
    "source = 'brain'\n",
    "# Note: paths should be with respect to main directory\n",
    "config['file_tag']['spinalcord'] = \"_task-rest_bold_stc_sc_moco_brsc_BP_inTemplate_s.nii.gz\"\n",
    "config['file_tag']['brain'] = \"_task-rest_bold_stc_brain_moco_brsc_BP_reg_SPM_inTemplate2mm_s.nii.gz\"\n",
    "config['template']['spinalcord'] = \"/templates/PAM50_hc_project/template/PAM50_t2.nii.gz\"\n",
    "config['spinal_levels'] = \"/templates/PAM50_hc_project/template/PAM50_spinal_levels_C1C7.nii.gz\"\n",
    "config['masks']['target'] = \"/templates/PAM50_hc_project/atlas/PAM50_atlas_DR_C1C7.nii.gz\"\n",
    "config['masks']['source'] = \"/templates/MNI_hc_project/julich_postcentral_sensory_L_2mm.nii\"\n",
    "\n",
    "config['brain_surfaces']='/templates/surf/'\n",
    "\n",
    "config['list_subjects'] = [\"P030\", \"P099\",\"A006\",\"A007\",\"A008\",\"A009\",\"A011\",\"A013\",\"A023\",\"A024\",\"A025\",\"A026\",\"A027\",\"A028\",\"A029\",\"A030\",\"A032\",\"A033\",\"A034\",\"A036\",\"A037\",\"A038\",\"A039\",\"A043\",\"A044\",\"A045\",\"A046\",\"A048\",\"A050\",\"A051\",\"A052\"]\n",
    "\n",
    "# Instantiate class\n",
    "# Note: this will save a config file with all relevant information and prepare folder structure\n",
    "fc_parcellation = FC_Parcellation(config,source,target,'corr')"
   ]
  },
  {
   "cell_type": "markdown",
   "id": "568188dc",
   "metadata": {},
   "source": [
    "# Analyses\n",
    "<hr style=\"border:0.5px solid black\">"
   ]
  },
  {
   "cell_type": "markdown",
   "id": "1cc37e2e",
   "metadata": {},
   "source": [
    "### Compute the voxelwise correlation & compute mean across participants"
   ]
  },
  {
   "cell_type": "code",
   "execution_count": 28,
   "id": "a4358fb5",
   "metadata": {},
   "outputs": [
    {
     "name": "stdout",
     "output_type": "stream",
     "text": [
      "\u001b[1mSUBJECT P030\u001b[0m\n",
      "\u001b[1mCOMPUTE VOXELWISE FC\u001b[0m\n",
      "\u001b[37mStandardize = True\u001b[0m\n",
      "\u001b[37mOverwrite results = False\u001b[0m\n",
      "... Loading data\n",
      "... Computing FC for all possibilities\n",
      "... Metric: correlation\n",
      "... Fisher transforming correlations\n",
      "... Computing similarity matrix\n",
      "\n",
      "\u001b[1mDONE\u001b[0m\n",
      "\u001b[1mSUBJECT P099\u001b[0m\n",
      "\u001b[1mCOMPUTE VOXELWISE FC\u001b[0m\n",
      "\u001b[37mStandardize = True\u001b[0m\n",
      "\u001b[37mOverwrite results = False\u001b[0m\n",
      "... Loading data\n",
      "... Computing FC for all possibilities\n",
      "... Metric: correlation\n",
      "... Fisher transforming correlations\n",
      "... Computing similarity matrix\n",
      "\n",
      "\u001b[1mDONE\u001b[0m\n",
      "\u001b[1mSUBJECT A006\u001b[0m\n",
      "\u001b[1mCOMPUTE VOXELWISE FC\u001b[0m\n",
      "\u001b[37mStandardize = True\u001b[0m\n",
      "\u001b[37mOverwrite results = False\u001b[0m\n",
      "... Loading data\n",
      "... Computing FC for all possibilities\n",
      "... Metric: correlation\n",
      "... Fisher transforming correlations\n",
      "... Computing similarity matrix\n",
      "\n",
      "\u001b[1mDONE\u001b[0m\n",
      "\u001b[1mSUBJECT A007\u001b[0m\n",
      "\u001b[1mCOMPUTE VOXELWISE FC\u001b[0m\n",
      "\u001b[37mStandardize = True\u001b[0m\n",
      "\u001b[37mOverwrite results = False\u001b[0m\n",
      "... Loading data\n",
      "... Computing FC for all possibilities\n",
      "... Metric: correlation\n",
      "... Fisher transforming correlations\n",
      "... Computing similarity matrix\n",
      "\n",
      "\u001b[1mDONE\u001b[0m\n",
      "\u001b[1mSUBJECT A008\u001b[0m\n",
      "\u001b[1mCOMPUTE VOXELWISE FC\u001b[0m\n",
      "\u001b[37mStandardize = True\u001b[0m\n",
      "\u001b[37mOverwrite results = False\u001b[0m\n",
      "... Loading data\n",
      "... Computing FC for all possibilities\n",
      "... Metric: correlation\n",
      "... Fisher transforming correlations\n",
      "... Computing similarity matrix\n",
      "\n",
      "\u001b[1mDONE\u001b[0m\n",
      "\u001b[1mSUBJECT A009\u001b[0m\n",
      "\u001b[1mCOMPUTE VOXELWISE FC\u001b[0m\n",
      "\u001b[37mStandardize = True\u001b[0m\n",
      "\u001b[37mOverwrite results = False\u001b[0m\n",
      "... Loading data\n",
      "... Computing FC for all possibilities\n",
      "... Metric: correlation\n",
      "... Fisher transforming correlations\n",
      "... Computing similarity matrix\n",
      "\n",
      "\u001b[1mDONE\u001b[0m\n",
      "\u001b[1mSUBJECT A011\u001b[0m\n",
      "\u001b[1mCOMPUTE VOXELWISE FC\u001b[0m\n",
      "\u001b[37mStandardize = True\u001b[0m\n",
      "\u001b[37mOverwrite results = False\u001b[0m\n",
      "... Loading data\n",
      "... Computing FC for all possibilities\n",
      "... Metric: correlation\n",
      "... Fisher transforming correlations\n",
      "... Computing similarity matrix\n",
      "\n",
      "\u001b[1mDONE\u001b[0m\n",
      "\u001b[1mSUBJECT A013\u001b[0m\n",
      "\u001b[1mCOMPUTE VOXELWISE FC\u001b[0m\n",
      "\u001b[37mStandardize = True\u001b[0m\n",
      "\u001b[37mOverwrite results = False\u001b[0m\n",
      "... Loading data\n",
      "... Computing FC for all possibilities\n",
      "... Metric: correlation\n",
      "... Fisher transforming correlations\n",
      "... Computing similarity matrix\n",
      "\n",
      "\u001b[1mDONE\u001b[0m\n",
      "\u001b[1mSUBJECT A023\u001b[0m\n",
      "\u001b[1mCOMPUTE VOXELWISE FC\u001b[0m\n",
      "\u001b[37mStandardize = True\u001b[0m\n",
      "\u001b[37mOverwrite results = False\u001b[0m\n",
      "... Loading data\n",
      "... Computing FC for all possibilities\n",
      "... Metric: correlation\n",
      "... Fisher transforming correlations\n",
      "... Computing similarity matrix\n",
      "\n",
      "\u001b[1mDONE\u001b[0m\n",
      "\u001b[1mSUBJECT A024\u001b[0m\n",
      "\u001b[1mCOMPUTE VOXELWISE FC\u001b[0m\n",
      "\u001b[37mStandardize = True\u001b[0m\n",
      "\u001b[37mOverwrite results = False\u001b[0m\n",
      "... Loading data\n",
      "... Computing FC for all possibilities\n",
      "... Metric: correlation\n",
      "... Fisher transforming correlations\n",
      "... Computing similarity matrix\n",
      "\n",
      "\u001b[1mDONE\u001b[0m\n",
      "\u001b[1mSUBJECT A025\u001b[0m\n",
      "\u001b[1mCOMPUTE VOXELWISE FC\u001b[0m\n",
      "\u001b[37mStandardize = True\u001b[0m\n",
      "\u001b[37mOverwrite results = False\u001b[0m\n",
      "... Loading data\n",
      "... Computing FC for all possibilities\n",
      "... Metric: correlation\n",
      "... Fisher transforming correlations\n",
      "... Computing similarity matrix\n",
      "\n",
      "\u001b[1mDONE\u001b[0m\n",
      "\u001b[1mSUBJECT A026\u001b[0m\n",
      "\u001b[1mCOMPUTE VOXELWISE FC\u001b[0m\n",
      "\u001b[37mStandardize = True\u001b[0m\n",
      "\u001b[37mOverwrite results = False\u001b[0m\n",
      "... Loading data\n",
      "... Computing FC for all possibilities\n",
      "... Metric: correlation\n",
      "... Fisher transforming correlations\n",
      "... Computing similarity matrix\n",
      "\n",
      "\u001b[1mDONE\u001b[0m\n",
      "\u001b[1mSUBJECT A027\u001b[0m\n",
      "\u001b[1mCOMPUTE VOXELWISE FC\u001b[0m\n",
      "\u001b[37mStandardize = True\u001b[0m\n",
      "\u001b[37mOverwrite results = False\u001b[0m\n",
      "... Loading data\n",
      "... Computing FC for all possibilities\n",
      "... Metric: correlation\n",
      "... Fisher transforming correlations\n",
      "... Computing similarity matrix\n",
      "\n",
      "\u001b[1mDONE\u001b[0m\n",
      "\u001b[1mSUBJECT A028\u001b[0m\n",
      "\u001b[1mCOMPUTE VOXELWISE FC\u001b[0m\n",
      "\u001b[37mStandardize = True\u001b[0m\n",
      "\u001b[37mOverwrite results = False\u001b[0m\n",
      "... Loading data\n",
      "... Computing FC for all possibilities\n",
      "... Metric: correlation\n",
      "... Fisher transforming correlations\n",
      "... Computing similarity matrix\n",
      "\n",
      "\u001b[1mDONE\u001b[0m\n",
      "\u001b[1mSUBJECT A029\u001b[0m\n",
      "\u001b[1mCOMPUTE VOXELWISE FC\u001b[0m\n",
      "\u001b[37mStandardize = True\u001b[0m\n",
      "\u001b[37mOverwrite results = False\u001b[0m\n",
      "... Loading data\n",
      "... Computing FC for all possibilities\n",
      "... Metric: correlation\n",
      "... Fisher transforming correlations\n",
      "... Computing similarity matrix\n",
      "\n",
      "\u001b[1mDONE\u001b[0m\n",
      "\u001b[1mSUBJECT A030\u001b[0m\n",
      "\u001b[1mCOMPUTE VOXELWISE FC\u001b[0m\n",
      "\u001b[37mStandardize = True\u001b[0m\n",
      "\u001b[37mOverwrite results = False\u001b[0m\n",
      "... Loading data\n",
      "... Computing FC for all possibilities\n",
      "... Metric: correlation\n",
      "... Fisher transforming correlations\n",
      "... Computing similarity matrix\n",
      "\n",
      "\u001b[1mDONE\u001b[0m\n",
      "\u001b[1mSUBJECT A032\u001b[0m\n",
      "\u001b[1mCOMPUTE VOXELWISE FC\u001b[0m\n",
      "\u001b[37mStandardize = True\u001b[0m\n",
      "\u001b[37mOverwrite results = False\u001b[0m\n",
      "... Loading data\n",
      "... Computing FC for all possibilities\n",
      "... Metric: correlation\n",
      "... Fisher transforming correlations\n",
      "... Computing similarity matrix\n",
      "\n",
      "\u001b[1mDONE\u001b[0m\n",
      "\u001b[1mSUBJECT A033\u001b[0m\n",
      "\u001b[1mCOMPUTE VOXELWISE FC\u001b[0m\n",
      "\u001b[37mStandardize = True\u001b[0m\n",
      "\u001b[37mOverwrite results = False\u001b[0m\n",
      "... Loading data\n",
      "... Computing FC for all possibilities\n",
      "... Metric: correlation\n",
      "... Fisher transforming correlations\n",
      "... Computing similarity matrix\n",
      "\n",
      "\u001b[1mDONE\u001b[0m\n",
      "\u001b[1mSUBJECT A034\u001b[0m\n",
      "\u001b[1mCOMPUTE VOXELWISE FC\u001b[0m\n",
      "\u001b[37mStandardize = True\u001b[0m\n",
      "\u001b[37mOverwrite results = False\u001b[0m\n",
      "... Loading data\n",
      "... Computing FC for all possibilities\n",
      "... Metric: correlation\n",
      "... Fisher transforming correlations\n",
      "... Computing similarity matrix\n",
      "\n",
      "\u001b[1mDONE\u001b[0m\n",
      "\u001b[1mSUBJECT A036\u001b[0m\n",
      "\u001b[1mCOMPUTE VOXELWISE FC\u001b[0m\n",
      "\u001b[37mStandardize = True\u001b[0m\n",
      "\u001b[37mOverwrite results = False\u001b[0m\n",
      "... Loading data\n",
      "... Computing FC for all possibilities\n",
      "... Metric: correlation\n",
      "... Fisher transforming correlations\n",
      "... Computing similarity matrix\n",
      "\n",
      "\u001b[1mDONE\u001b[0m\n",
      "\u001b[1mSUBJECT A037\u001b[0m\n",
      "\u001b[1mCOMPUTE VOXELWISE FC\u001b[0m\n",
      "\u001b[37mStandardize = True\u001b[0m\n",
      "\u001b[37mOverwrite results = False\u001b[0m\n",
      "... Loading data\n",
      "... Computing FC for all possibilities\n",
      "... Metric: correlation\n",
      "... Fisher transforming correlations\n",
      "... Computing similarity matrix\n",
      "\n",
      "\u001b[1mDONE\u001b[0m\n",
      "\u001b[1mSUBJECT A038\u001b[0m\n",
      "\u001b[1mCOMPUTE VOXELWISE FC\u001b[0m\n",
      "\u001b[37mStandardize = True\u001b[0m\n",
      "\u001b[37mOverwrite results = False\u001b[0m\n",
      "... Loading data\n",
      "... Computing FC for all possibilities\n",
      "... Metric: correlation\n",
      "... Fisher transforming correlations\n",
      "... Computing similarity matrix\n",
      "\n",
      "\u001b[1mDONE\u001b[0m\n",
      "\u001b[1mSUBJECT A039\u001b[0m\n",
      "\u001b[1mCOMPUTE VOXELWISE FC\u001b[0m\n",
      "\u001b[37mStandardize = True\u001b[0m\n",
      "\u001b[37mOverwrite results = False\u001b[0m\n",
      "... Loading data\n",
      "... Computing FC for all possibilities\n",
      "... Metric: correlation\n",
      "... Fisher transforming correlations\n",
      "... Computing similarity matrix\n",
      "\n",
      "\u001b[1mDONE\u001b[0m\n",
      "\u001b[1mSUBJECT A043\u001b[0m\n",
      "\u001b[1mCOMPUTE VOXELWISE FC\u001b[0m\n",
      "\u001b[37mStandardize = True\u001b[0m\n",
      "\u001b[37mOverwrite results = False\u001b[0m\n",
      "... Loading data\n",
      "... Computing FC for all possibilities\n",
      "... Metric: correlation\n",
      "... Fisher transforming correlations\n",
      "... Computing similarity matrix\n",
      "\n",
      "\u001b[1mDONE\u001b[0m\n",
      "\u001b[1mSUBJECT A044\u001b[0m\n",
      "\u001b[1mCOMPUTE VOXELWISE FC\u001b[0m\n",
      "\u001b[37mStandardize = True\u001b[0m\n",
      "\u001b[37mOverwrite results = False\u001b[0m\n",
      "... Loading data\n",
      "... Computing FC for all possibilities\n",
      "... Metric: correlation\n",
      "... Fisher transforming correlations\n",
      "... Computing similarity matrix\n",
      "\n",
      "\u001b[1mDONE\u001b[0m\n",
      "\u001b[1mSUBJECT A045\u001b[0m\n",
      "\u001b[1mCOMPUTE VOXELWISE FC\u001b[0m\n",
      "\u001b[37mStandardize = True\u001b[0m\n",
      "\u001b[37mOverwrite results = False\u001b[0m\n",
      "... Loading data\n",
      "... Computing FC for all possibilities\n",
      "... Metric: correlation\n",
      "... Fisher transforming correlations\n",
      "... Computing similarity matrix\n",
      "\n",
      "\u001b[1mDONE\u001b[0m\n",
      "\u001b[1mSUBJECT A046\u001b[0m\n",
      "\u001b[1mCOMPUTE VOXELWISE FC\u001b[0m\n",
      "\u001b[37mStandardize = True\u001b[0m\n",
      "\u001b[37mOverwrite results = False\u001b[0m\n",
      "... Loading data\n",
      "... Computing FC for all possibilities\n",
      "... Metric: correlation\n",
      "... Fisher transforming correlations\n",
      "... Computing similarity matrix\n",
      "\n",
      "\u001b[1mDONE\u001b[0m\n",
      "\u001b[1mSUBJECT A048\u001b[0m\n",
      "\u001b[1mCOMPUTE VOXELWISE FC\u001b[0m\n",
      "\u001b[37mStandardize = True\u001b[0m\n",
      "\u001b[37mOverwrite results = False\u001b[0m\n",
      "... Loading data\n",
      "... Computing FC for all possibilities\n",
      "... Metric: correlation\n",
      "... Fisher transforming correlations\n",
      "... Computing similarity matrix\n",
      "\n",
      "\u001b[1mDONE\u001b[0m\n",
      "\u001b[1mSUBJECT A050\u001b[0m\n",
      "\u001b[1mCOMPUTE VOXELWISE FC\u001b[0m\n",
      "\u001b[37mStandardize = True\u001b[0m\n",
      "\u001b[37mOverwrite results = False\u001b[0m\n",
      "... Loading data\n",
      "... Computing FC for all possibilities\n",
      "... Metric: correlation\n",
      "... Fisher transforming correlations\n",
      "... Computing similarity matrix\n",
      "\n",
      "\u001b[1mDONE\u001b[0m\n",
      "\u001b[1mSUBJECT A051\u001b[0m\n",
      "\u001b[1mCOMPUTE VOXELWISE FC\u001b[0m\n",
      "\u001b[37mStandardize = True\u001b[0m\n",
      "\u001b[37mOverwrite results = False\u001b[0m\n",
      "... Loading data\n",
      "... Computing FC for all possibilities\n",
      "... Metric: correlation\n",
      "... Fisher transforming correlations\n",
      "... Computing similarity matrix\n"
     ]
    },
    {
     "name": "stdout",
     "output_type": "stream",
     "text": [
      "\n",
      "\u001b[1mDONE\u001b[0m\n",
      "\u001b[1mSUBJECT A052\u001b[0m\n",
      "\u001b[1mCOMPUTE VOXELWISE FC\u001b[0m\n",
      "\u001b[37mStandardize = True\u001b[0m\n",
      "\u001b[37mOverwrite results = False\u001b[0m\n",
      "... Loading data\n",
      "... Computing FC for all possibilities\n",
      "... Metric: correlation\n",
      "... Fisher transforming correlations\n",
      "... Computing similarity matrix\n",
      "\n",
      "\u001b[1mDONE\u001b[0m\n",
      "\u001b[1mCOMPUTE MEAN ACROSS PARTICIPANTS\u001b[0m\n",
      "\u001b[37mOverwrite results = False\u001b[0m\n",
      "... Computing mean FC\n",
      "... Computing mean similarity matrix\n",
      "\n",
      "\u001b[1mDONE\u001b[0m\n",
      "\u001b[1m... Operation performed in 323.97 s!\u001b[0m\n"
     ]
    }
   ],
   "source": [
    "start = time.time()\n",
    "# Loop through the subjects to compute fc \n",
    "for sub_id,sub in enumerate(fc_parcellation.config['list_subjects']): \n",
    "    print(f'\\033[1mSUBJECT {sub}\\033[0m')\n",
    "    # Compute correlation without saving files\n",
    "    fc_parcellation.compute_voxelwise_fc(sub=sub, \n",
    "                                        overwrite=False)\n",
    "# Compute means\n",
    "fc_parcellation.compute_mean_fc_sim(overwrite=False)\n",
    "print(\"\\033[1m... Operation performed in %.2f s!\\033[0m\" % (time.time() - start))"
   ]
  },
  {
   "cell_type": "markdown",
   "id": "347d1de4",
   "metadata": {},
   "source": [
    "### Compute the clustering on the mean similarity matrix and generate corresponding maps"
   ]
  },
  {
   "cell_type": "code",
   "execution_count": 30,
   "id": "e25c3ad0",
   "metadata": {},
   "outputs": [
    {
     "name": "stdout",
     "output_type": "stream",
     "text": [
      "\u001b[1mCLUSTERING AT THE INDIVIDUAL LEVEL\u001b[0m\n",
      "\u001b[37mAlgorithm = agglom\u001b[0m\n",
      "\u001b[37mFeatures = sim\u001b[0m\n",
      "\u001b[37mK value(s) = range(2, 21)\u001b[0m\n",
      "\u001b[37mOverwrite results = False\u001b[0m\n",
      "\u001b[1mClustering will be done on the mean across participants!\u001b[0m\n",
      "K = 2\n",
      "... Loading FC from file\n",
      "... Loading similarity matrix from file\n",
      "... Running agglomerative clustering\n"
     ]
    },
    {
     "name": "stderr",
     "output_type": "stream",
     "text": [
      "/home/kinany/anaconda3/lib/python3.9/site-packages/nilearn/masking.py:974: UserWarning: Data array used to create a new image contains 64-bit ints. This is likely due to creating the array with numpy and passing `int` as the `dtype`. Many tools such as FSL and SPM cannot deal with int64 in Nifti images, so for compatibility the data has been converted to int32.\n",
      "  return new_img_like(mask_img, unmasked, affine)\n"
     ]
    },
    {
     "name": "stdout",
     "output_type": "stream",
     "text": [
      "K = 3\n",
      "... Running agglomerative clustering\n"
     ]
    },
    {
     "name": "stderr",
     "output_type": "stream",
     "text": [
      "/home/kinany/anaconda3/lib/python3.9/site-packages/nilearn/masking.py:974: UserWarning: Data array used to create a new image contains 64-bit ints. This is likely due to creating the array with numpy and passing `int` as the `dtype`. Many tools such as FSL and SPM cannot deal with int64 in Nifti images, so for compatibility the data has been converted to int32.\n",
      "  return new_img_like(mask_img, unmasked, affine)\n"
     ]
    },
    {
     "name": "stdout",
     "output_type": "stream",
     "text": [
      "K = 4\n",
      "... Running agglomerative clustering\n"
     ]
    },
    {
     "name": "stderr",
     "output_type": "stream",
     "text": [
      "/home/kinany/anaconda3/lib/python3.9/site-packages/nilearn/masking.py:974: UserWarning: Data array used to create a new image contains 64-bit ints. This is likely due to creating the array with numpy and passing `int` as the `dtype`. Many tools such as FSL and SPM cannot deal with int64 in Nifti images, so for compatibility the data has been converted to int32.\n",
      "  return new_img_like(mask_img, unmasked, affine)\n"
     ]
    },
    {
     "name": "stdout",
     "output_type": "stream",
     "text": [
      "K = 5\n",
      "... Running agglomerative clustering\n"
     ]
    },
    {
     "name": "stderr",
     "output_type": "stream",
     "text": [
      "/home/kinany/anaconda3/lib/python3.9/site-packages/nilearn/masking.py:974: UserWarning: Data array used to create a new image contains 64-bit ints. This is likely due to creating the array with numpy and passing `int` as the `dtype`. Many tools such as FSL and SPM cannot deal with int64 in Nifti images, so for compatibility the data has been converted to int32.\n",
      "  return new_img_like(mask_img, unmasked, affine)\n"
     ]
    },
    {
     "name": "stdout",
     "output_type": "stream",
     "text": [
      "K = 6\n",
      "... Running agglomerative clustering\n"
     ]
    },
    {
     "name": "stderr",
     "output_type": "stream",
     "text": [
      "/home/kinany/anaconda3/lib/python3.9/site-packages/nilearn/masking.py:974: UserWarning: Data array used to create a new image contains 64-bit ints. This is likely due to creating the array with numpy and passing `int` as the `dtype`. Many tools such as FSL and SPM cannot deal with int64 in Nifti images, so for compatibility the data has been converted to int32.\n",
      "  return new_img_like(mask_img, unmasked, affine)\n"
     ]
    },
    {
     "name": "stdout",
     "output_type": "stream",
     "text": [
      "K = 7\n",
      "... Running agglomerative clustering\n"
     ]
    },
    {
     "name": "stderr",
     "output_type": "stream",
     "text": [
      "/home/kinany/anaconda3/lib/python3.9/site-packages/nilearn/masking.py:974: UserWarning: Data array used to create a new image contains 64-bit ints. This is likely due to creating the array with numpy and passing `int` as the `dtype`. Many tools such as FSL and SPM cannot deal with int64 in Nifti images, so for compatibility the data has been converted to int32.\n",
      "  return new_img_like(mask_img, unmasked, affine)\n"
     ]
    },
    {
     "name": "stdout",
     "output_type": "stream",
     "text": [
      "K = 8\n",
      "... Running agglomerative clustering\n"
     ]
    },
    {
     "name": "stderr",
     "output_type": "stream",
     "text": [
      "/home/kinany/anaconda3/lib/python3.9/site-packages/nilearn/masking.py:974: UserWarning: Data array used to create a new image contains 64-bit ints. This is likely due to creating the array with numpy and passing `int` as the `dtype`. Many tools such as FSL and SPM cannot deal with int64 in Nifti images, so for compatibility the data has been converted to int32.\n",
      "  return new_img_like(mask_img, unmasked, affine)\n"
     ]
    },
    {
     "name": "stdout",
     "output_type": "stream",
     "text": [
      "K = 9\n",
      "... Running agglomerative clustering\n"
     ]
    },
    {
     "name": "stderr",
     "output_type": "stream",
     "text": [
      "/home/kinany/anaconda3/lib/python3.9/site-packages/nilearn/masking.py:974: UserWarning: Data array used to create a new image contains 64-bit ints. This is likely due to creating the array with numpy and passing `int` as the `dtype`. Many tools such as FSL and SPM cannot deal with int64 in Nifti images, so for compatibility the data has been converted to int32.\n",
      "  return new_img_like(mask_img, unmasked, affine)\n"
     ]
    },
    {
     "name": "stdout",
     "output_type": "stream",
     "text": [
      "K = 10\n",
      "... Running agglomerative clustering\n"
     ]
    },
    {
     "name": "stderr",
     "output_type": "stream",
     "text": [
      "/home/kinany/anaconda3/lib/python3.9/site-packages/nilearn/masking.py:974: UserWarning: Data array used to create a new image contains 64-bit ints. This is likely due to creating the array with numpy and passing `int` as the `dtype`. Many tools such as FSL and SPM cannot deal with int64 in Nifti images, so for compatibility the data has been converted to int32.\n",
      "  return new_img_like(mask_img, unmasked, affine)\n"
     ]
    },
    {
     "name": "stdout",
     "output_type": "stream",
     "text": [
      "K = 11\n",
      "... Running agglomerative clustering\n"
     ]
    },
    {
     "name": "stderr",
     "output_type": "stream",
     "text": [
      "/home/kinany/anaconda3/lib/python3.9/site-packages/nilearn/masking.py:974: UserWarning: Data array used to create a new image contains 64-bit ints. This is likely due to creating the array with numpy and passing `int` as the `dtype`. Many tools such as FSL and SPM cannot deal with int64 in Nifti images, so for compatibility the data has been converted to int32.\n",
      "  return new_img_like(mask_img, unmasked, affine)\n"
     ]
    },
    {
     "name": "stdout",
     "output_type": "stream",
     "text": [
      "K = 12\n",
      "... Running agglomerative clustering\n"
     ]
    },
    {
     "name": "stderr",
     "output_type": "stream",
     "text": [
      "/home/kinany/anaconda3/lib/python3.9/site-packages/nilearn/masking.py:974: UserWarning: Data array used to create a new image contains 64-bit ints. This is likely due to creating the array with numpy and passing `int` as the `dtype`. Many tools such as FSL and SPM cannot deal with int64 in Nifti images, so for compatibility the data has been converted to int32.\n",
      "  return new_img_like(mask_img, unmasked, affine)\n"
     ]
    },
    {
     "name": "stdout",
     "output_type": "stream",
     "text": [
      "K = 13\n",
      "... Running agglomerative clustering\n"
     ]
    },
    {
     "name": "stderr",
     "output_type": "stream",
     "text": [
      "/home/kinany/anaconda3/lib/python3.9/site-packages/nilearn/masking.py:974: UserWarning: Data array used to create a new image contains 64-bit ints. This is likely due to creating the array with numpy and passing `int` as the `dtype`. Many tools such as FSL and SPM cannot deal with int64 in Nifti images, so for compatibility the data has been converted to int32.\n",
      "  return new_img_like(mask_img, unmasked, affine)\n"
     ]
    },
    {
     "name": "stdout",
     "output_type": "stream",
     "text": [
      "K = 14\n",
      "... Running agglomerative clustering\n"
     ]
    },
    {
     "name": "stderr",
     "output_type": "stream",
     "text": [
      "/home/kinany/anaconda3/lib/python3.9/site-packages/nilearn/masking.py:974: UserWarning: Data array used to create a new image contains 64-bit ints. This is likely due to creating the array with numpy and passing `int` as the `dtype`. Many tools such as FSL and SPM cannot deal with int64 in Nifti images, so for compatibility the data has been converted to int32.\n",
      "  return new_img_like(mask_img, unmasked, affine)\n"
     ]
    },
    {
     "name": "stdout",
     "output_type": "stream",
     "text": [
      "K = 15\n",
      "... Running agglomerative clustering\n"
     ]
    },
    {
     "name": "stderr",
     "output_type": "stream",
     "text": [
      "/home/kinany/anaconda3/lib/python3.9/site-packages/nilearn/masking.py:974: UserWarning: Data array used to create a new image contains 64-bit ints. This is likely due to creating the array with numpy and passing `int` as the `dtype`. Many tools such as FSL and SPM cannot deal with int64 in Nifti images, so for compatibility the data has been converted to int32.\n",
      "  return new_img_like(mask_img, unmasked, affine)\n"
     ]
    },
    {
     "name": "stdout",
     "output_type": "stream",
     "text": [
      "K = 16\n",
      "... Running agglomerative clustering\n"
     ]
    },
    {
     "name": "stderr",
     "output_type": "stream",
     "text": [
      "/home/kinany/anaconda3/lib/python3.9/site-packages/nilearn/masking.py:974: UserWarning: Data array used to create a new image contains 64-bit ints. This is likely due to creating the array with numpy and passing `int` as the `dtype`. Many tools such as FSL and SPM cannot deal with int64 in Nifti images, so for compatibility the data has been converted to int32.\n",
      "  return new_img_like(mask_img, unmasked, affine)\n"
     ]
    },
    {
     "name": "stdout",
     "output_type": "stream",
     "text": [
      "K = 17\n",
      "... Running agglomerative clustering\n"
     ]
    },
    {
     "name": "stderr",
     "output_type": "stream",
     "text": [
      "/home/kinany/anaconda3/lib/python3.9/site-packages/nilearn/masking.py:974: UserWarning: Data array used to create a new image contains 64-bit ints. This is likely due to creating the array with numpy and passing `int` as the `dtype`. Many tools such as FSL and SPM cannot deal with int64 in Nifti images, so for compatibility the data has been converted to int32.\n",
      "  return new_img_like(mask_img, unmasked, affine)\n"
     ]
    },
    {
     "name": "stdout",
     "output_type": "stream",
     "text": [
      "K = 18\n",
      "... Running agglomerative clustering\n"
     ]
    },
    {
     "name": "stderr",
     "output_type": "stream",
     "text": [
      "/home/kinany/anaconda3/lib/python3.9/site-packages/nilearn/masking.py:974: UserWarning: Data array used to create a new image contains 64-bit ints. This is likely due to creating the array with numpy and passing `int` as the `dtype`. Many tools such as FSL and SPM cannot deal with int64 in Nifti images, so for compatibility the data has been converted to int32.\n",
      "  return new_img_like(mask_img, unmasked, affine)\n"
     ]
    },
    {
     "name": "stdout",
     "output_type": "stream",
     "text": [
      "K = 19\n",
      "... Running agglomerative clustering\n"
     ]
    },
    {
     "name": "stderr",
     "output_type": "stream",
     "text": [
      "/home/kinany/anaconda3/lib/python3.9/site-packages/nilearn/masking.py:974: UserWarning: Data array used to create a new image contains 64-bit ints. This is likely due to creating the array with numpy and passing `int` as the `dtype`. Many tools such as FSL and SPM cannot deal with int64 in Nifti images, so for compatibility the data has been converted to int32.\n",
      "  return new_img_like(mask_img, unmasked, affine)\n"
     ]
    },
    {
     "name": "stdout",
     "output_type": "stream",
     "text": [
      "K = 20\n",
      "... Running agglomerative clustering\n",
      "\n",
      "\n"
     ]
    },
    {
     "name": "stderr",
     "output_type": "stream",
     "text": [
      "/home/kinany/anaconda3/lib/python3.9/site-packages/nilearn/masking.py:974: UserWarning: Data array used to create a new image contains 64-bit ints. This is likely due to creating the array with numpy and passing `int` as the `dtype`. Many tools such as FSL and SPM cannot deal with int64 in Nifti images, so for compatibility the data has been converted to int32.\n",
      "  return new_img_like(mask_img, unmasked, affine)\n"
     ]
    }
   ],
   "source": [
    "# Run clustering and save labels\n",
    "fc_parcellation.run_clustering(take_mean=True,sub=None,\n",
    "                                k_range=range(2,21),features='sim',algorithm='agglom',\n",
    "                                save_visplot_sc=False, overwrite=False)"
   ]
  },
  {
   "cell_type": "code",
   "execution_count": 48,
   "id": "dbd2baf4",
   "metadata": {},
   "outputs": [
    {
     "name": "stdout",
     "output_type": "stream",
     "text": [
      "\u001b[1mPREPARE TARGET MAPS\u001b[0m\n",
      "\u001b[37mType of source labels = mean\u001b[0m\n",
      "\u001b[37mK value(s) = 9\u001b[0m\n",
      "\u001b[37mFeatures = sim\u001b[0m\n",
      "\u001b[37mOverwrite results = False\u001b[0m\n",
      "K = 9\n",
      "... Computing target maps\n",
      "...... Subject P030\n"
     ]
    },
    {
     "name": "stderr",
     "output_type": "stream",
     "text": [
      "/home/kinany/anaconda3/lib/python3.9/site-packages/nilearn/image/resampling.py:493: UserWarning: The provided image has no sform in its header. Please check the provided file. Results may not be as expected.\n",
      "  warnings.warn(\n"
     ]
    },
    {
     "name": "stdout",
     "output_type": "stream",
     "text": [
      "...... Subject P099\n",
      "...... Subject A006\n",
      "...... Subject A007\n",
      "...... Subject A008\n",
      "...... Subject A009\n",
      "...... Subject A011\n",
      "...... Subject A013\n",
      "...... Subject A023\n",
      "...... Subject A024\n",
      "...... Subject A025\n",
      "...... Subject A026\n",
      "...... Subject A027\n",
      "...... Subject A028\n",
      "...... Subject A029\n",
      "...... Subject A030\n",
      "...... Subject A032\n",
      "...... Subject A033\n",
      "...... Subject A034\n",
      "...... Subject A036\n",
      "...... Subject A037\n",
      "...... Subject A038\n",
      "...... Subject A039\n",
      "...... Subject A043\n",
      "...... Subject A044\n",
      "...... Subject A045\n",
      "...... Subject A046\n",
      "...... Subject A048\n",
      "...... Subject A050\n",
      "...... Subject A051\n",
      "...... Subject A052\n",
      "\u001b[1mDONE\u001b[0m\n",
      "\n"
     ]
    }
   ],
   "source": [
    "fc_parcellation.prepare_target_maps(label_type='mean',features='sim',indiv_algorithm='agglom',k_range=9,overwrite=False)"
   ]
  },
  {
   "cell_type": "markdown",
   "id": "81832395",
   "metadata": {},
   "source": [
    "### WTA analysis"
   ]
  },
  {
   "cell_type": "code",
   "execution_count": 50,
   "id": "cf15c898",
   "metadata": {},
   "outputs": [
    {
     "name": "stdout",
     "output_type": "stream",
     "text": [
      "\u001b[1mRUN WINNER-TAKES-ALL ANALYSIS\u001b[0m\n",
      "\u001b[37mType of source labels = mean\u001b[0m\n",
      "\u001b[37mK value = 9\u001b[0m\n",
      "\u001b[37mFeatures = sim\u001b[0m\n",
      "\u001b[37mOverwrite results = True\u001b[0m\n",
      "K1 will have a value of 1\n",
      "K2 will have a value of 2\n",
      "K3 will have a value of 3\n",
      "K4 will have a value of 4\n",
      "K5 will have a value of 5\n",
      "K6 will have a value of 6\n",
      "K7 will have a value of 7\n",
      "K8 will have a value of 8\n",
      "K9 will have a value of 9\n"
     ]
    },
    {
     "ename": "FileNotFoundError",
     "evalue": "[Errno 2] No such file or directory: '/media/miplab-nas2/Data3/BMPD/hc_project//brain_spine/results/fc_parcellation//corr/Postcentral_L_to_C1toC7_gm_07_DR/target/sim//K9/mean_labels/stats/agglom/K9_wta_corr.nii.gz'",
     "output_type": "error",
     "traceback": [
      "\u001b[0;31m---------------------------------------------------------------------------\u001b[0m",
      "\u001b[0;31mFileNotFoundError\u001b[0m                         Traceback (most recent call last)",
      "Cell \u001b[0;32mIn[50], line 1\u001b[0m\n\u001b[0;32m----> 1\u001b[0m \u001b[43mfc_parcellation\u001b[49m\u001b[38;5;241;43m.\u001b[39;49m\u001b[43mwinner_takes_all\u001b[49m\u001b[43m(\u001b[49m\u001b[43mlabel_type\u001b[49m\u001b[38;5;241;43m=\u001b[39;49m\u001b[38;5;124;43m'\u001b[39;49m\u001b[38;5;124;43mmean\u001b[39;49m\u001b[38;5;124;43m'\u001b[39;49m\u001b[43m,\u001b[49m\u001b[43minput_type\u001b[49m\u001b[38;5;241;43m=\u001b[39;49m\u001b[38;5;124;43m'\u001b[39;49m\u001b[38;5;124;43mcorr\u001b[39;49m\u001b[38;5;124;43m'\u001b[39;49m\u001b[43m,\u001b[49m\u001b[43mindiv_algorithm\u001b[49m\u001b[38;5;241;43m=\u001b[39;49m\u001b[38;5;124;43m'\u001b[39;49m\u001b[38;5;124;43magglom\u001b[39;49m\u001b[38;5;124;43m'\u001b[39;49m\u001b[43m,\u001b[49m\u001b[43mfeatures\u001b[49m\u001b[38;5;241;43m=\u001b[39;49m\u001b[38;5;124;43m'\u001b[39;49m\u001b[38;5;124;43msim\u001b[39;49m\u001b[38;5;124;43m'\u001b[39;49m\u001b[43m,\u001b[49m\u001b[43mapply_threshold\u001b[49m\u001b[38;5;241;43m=\u001b[39;49m\u001b[38;5;241;43m0\u001b[39;49m\u001b[43m,\u001b[49m\u001b[43mcluster_threshold\u001b[49m\u001b[38;5;241;43m=\u001b[39;49m\u001b[38;5;241;43m100\u001b[39;49m\u001b[43m,\u001b[49m\u001b[43mk\u001b[49m\u001b[38;5;241;43m=\u001b[39;49m\u001b[38;5;241;43m9\u001b[39;49m\u001b[43m,\u001b[49m\u001b[43m \u001b[49m\u001b[43moverwrite\u001b[49m\u001b[38;5;241;43m=\u001b[39;49m\u001b[38;5;28;43;01mTrue\u001b[39;49;00m\u001b[43m)\u001b[49m\n",
      "File \u001b[0;32m/media/miplab-nas2/Data3/BMPD/hc_project/analysis/code/fc_based_parcellation.py:930\u001b[0m, in \u001b[0;36mFC_Parcellation.winner_takes_all\u001b[0;34m(self, label_type, k, indiv_algorithm, input_type, features, order, apply_threshold, cluster_threshold, overwrite)\u001b[0m\n\u001b[1;32m    928\u001b[0m \u001b[38;5;66;03m# Save the output as an image\u001b[39;00m\n\u001b[1;32m    929\u001b[0m seed_to_voxel_img \u001b[38;5;241m=\u001b[39m masker\u001b[38;5;241m.\u001b[39minverse_transform(np\u001b[38;5;241m.\u001b[39marray(max_level_indices)\u001b[38;5;241m.\u001b[39mT)\n\u001b[0;32m--> 930\u001b[0m \u001b[43mseed_to_voxel_img\u001b[49m\u001b[38;5;241;43m.\u001b[39;49m\u001b[43mto_filename\u001b[49m\u001b[43m(\u001b[49m\u001b[43moutput_file\u001b[49m\u001b[43m)\u001b[49m \u001b[38;5;66;03m# create temporary 3D files\u001b[39;00m\n\u001b[1;32m    932\u001b[0m \u001b[38;5;66;03m# Save the order as well\u001b[39;00m\n\u001b[1;32m    933\u001b[0m np\u001b[38;5;241m.\u001b[39msavetxt(order_file,order,fmt\u001b[38;5;241m=\u001b[39m\u001b[38;5;124m'\u001b[39m\u001b[38;5;132;01m%d\u001b[39;00m\u001b[38;5;124m'\u001b[39m,delimiter\u001b[38;5;241m=\u001b[39m\u001b[38;5;124m'\u001b[39m\u001b[38;5;124m,\u001b[39m\u001b[38;5;124m'\u001b[39m)\n",
      "File \u001b[0;32m~/.local/lib/python3.9/site-packages/nibabel/filebasedimages.py:333\u001b[0m, in \u001b[0;36mFileBasedImage.to_filename\u001b[0;34m(self, filename)\u001b[0m\n\u001b[1;32m    319\u001b[0m \u001b[38;5;250m\u001b[39m\u001b[38;5;124;03m\"\"\" Write image to files implied by filename string\u001b[39;00m\n\u001b[1;32m    320\u001b[0m \n\u001b[1;32m    321\u001b[0m \u001b[38;5;124;03mParameters\u001b[39;00m\n\u001b[0;32m   (...)\u001b[0m\n\u001b[1;32m    330\u001b[0m \u001b[38;5;124;03mNone\u001b[39;00m\n\u001b[1;32m    331\u001b[0m \u001b[38;5;124;03m\"\"\"\u001b[39;00m\n\u001b[1;32m    332\u001b[0m \u001b[38;5;28mself\u001b[39m\u001b[38;5;241m.\u001b[39mfile_map \u001b[38;5;241m=\u001b[39m \u001b[38;5;28mself\u001b[39m\u001b[38;5;241m.\u001b[39mfilespec_to_file_map(filename)\n\u001b[0;32m--> 333\u001b[0m \u001b[38;5;28;43mself\u001b[39;49m\u001b[38;5;241;43m.\u001b[39;49m\u001b[43mto_file_map\u001b[49m\u001b[43m(\u001b[49m\u001b[43m)\u001b[49m\n",
      "File \u001b[0;32m~/.local/lib/python3.9/site-packages/nibabel/analyze.py:1030\u001b[0m, in \u001b[0;36mAnalyzeImage.to_file_map\u001b[0;34m(self, file_map)\u001b[0m\n\u001b[1;32m   1026\u001b[0m \u001b[38;5;66;03m# Check if hdr and img refer to same file; this can happen with odd\u001b[39;00m\n\u001b[1;32m   1027\u001b[0m \u001b[38;5;66;03m# analyze images but most often this is because it's a single nifti\u001b[39;00m\n\u001b[1;32m   1028\u001b[0m \u001b[38;5;66;03m# file\u001b[39;00m\n\u001b[1;32m   1029\u001b[0m hdr_img_same \u001b[38;5;241m=\u001b[39m hdr_fh\u001b[38;5;241m.\u001b[39msame_file_as(img_fh)\n\u001b[0;32m-> 1030\u001b[0m hdrf \u001b[38;5;241m=\u001b[39m \u001b[43mhdr_fh\u001b[49m\u001b[38;5;241;43m.\u001b[39;49m\u001b[43mget_prepare_fileobj\u001b[49m\u001b[43m(\u001b[49m\u001b[43mmode\u001b[49m\u001b[38;5;241;43m=\u001b[39;49m\u001b[38;5;124;43m'\u001b[39;49m\u001b[38;5;124;43mwb\u001b[39;49m\u001b[38;5;124;43m'\u001b[39;49m\u001b[43m)\u001b[49m\n\u001b[1;32m   1031\u001b[0m \u001b[38;5;28;01mif\u001b[39;00m hdr_img_same:\n\u001b[1;32m   1032\u001b[0m     imgf \u001b[38;5;241m=\u001b[39m hdrf\n",
      "File \u001b[0;32m~/.local/lib/python3.9/site-packages/nibabel/fileholders.py:70\u001b[0m, in \u001b[0;36mFileHolder.get_prepare_fileobj\u001b[0;34m(self, *args, **kwargs)\u001b[0m\n\u001b[1;32m     68\u001b[0m     obj\u001b[38;5;241m.\u001b[39mseek(\u001b[38;5;28mself\u001b[39m\u001b[38;5;241m.\u001b[39mpos)\n\u001b[1;32m     69\u001b[0m \u001b[38;5;28;01melif\u001b[39;00m \u001b[38;5;28mself\u001b[39m\u001b[38;5;241m.\u001b[39mfilename \u001b[38;5;129;01mis\u001b[39;00m \u001b[38;5;129;01mnot\u001b[39;00m \u001b[38;5;28;01mNone\u001b[39;00m:\n\u001b[0;32m---> 70\u001b[0m     obj \u001b[38;5;241m=\u001b[39m \u001b[43mImageOpener\u001b[49m\u001b[43m(\u001b[49m\u001b[38;5;28;43mself\u001b[39;49m\u001b[38;5;241;43m.\u001b[39;49m\u001b[43mfilename\u001b[49m\u001b[43m,\u001b[49m\u001b[43m \u001b[49m\u001b[38;5;241;43m*\u001b[39;49m\u001b[43margs\u001b[49m\u001b[43m,\u001b[49m\u001b[43m \u001b[49m\u001b[38;5;241;43m*\u001b[39;49m\u001b[38;5;241;43m*\u001b[39;49m\u001b[43mkwargs\u001b[49m\u001b[43m)\u001b[49m\n\u001b[1;32m     71\u001b[0m     \u001b[38;5;28;01mif\u001b[39;00m \u001b[38;5;28mself\u001b[39m\u001b[38;5;241m.\u001b[39mpos \u001b[38;5;241m!=\u001b[39m \u001b[38;5;241m0\u001b[39m:\n\u001b[1;32m     72\u001b[0m         obj\u001b[38;5;241m.\u001b[39mseek(\u001b[38;5;28mself\u001b[39m\u001b[38;5;241m.\u001b[39mpos)\n",
      "File \u001b[0;32m~/.local/lib/python3.9/site-packages/nibabel/openers.py:113\u001b[0m, in \u001b[0;36mOpener.__init__\u001b[0;34m(self, fileish, *args, **kwargs)\u001b[0m\n\u001b[1;32m    110\u001b[0m \u001b[38;5;66;03m# Clear keep_open hint if it is not relevant for the file type\u001b[39;00m\n\u001b[1;32m    111\u001b[0m \u001b[38;5;28;01melse\u001b[39;00m:\n\u001b[1;32m    112\u001b[0m     kwargs\u001b[38;5;241m.\u001b[39mpop(\u001b[38;5;124m'\u001b[39m\u001b[38;5;124mkeep_open\u001b[39m\u001b[38;5;124m'\u001b[39m, \u001b[38;5;28;01mNone\u001b[39;00m)\n\u001b[0;32m--> 113\u001b[0m \u001b[38;5;28mself\u001b[39m\u001b[38;5;241m.\u001b[39mfobj \u001b[38;5;241m=\u001b[39m \u001b[43mopener\u001b[49m\u001b[43m(\u001b[49m\u001b[43mfileish\u001b[49m\u001b[43m,\u001b[49m\u001b[43m \u001b[49m\u001b[38;5;241;43m*\u001b[39;49m\u001b[43margs\u001b[49m\u001b[43m,\u001b[49m\u001b[43m \u001b[49m\u001b[38;5;241;43m*\u001b[39;49m\u001b[38;5;241;43m*\u001b[39;49m\u001b[43mkwargs\u001b[49m\u001b[43m)\u001b[49m\n\u001b[1;32m    114\u001b[0m \u001b[38;5;28mself\u001b[39m\u001b[38;5;241m.\u001b[39m_name \u001b[38;5;241m=\u001b[39m fileish\n\u001b[1;32m    115\u001b[0m \u001b[38;5;28mself\u001b[39m\u001b[38;5;241m.\u001b[39mme_opened \u001b[38;5;241m=\u001b[39m \u001b[38;5;28;01mTrue\u001b[39;00m\n",
      "File \u001b[0;32m~/.local/lib/python3.9/site-packages/nibabel/openers.py:53\u001b[0m, in \u001b[0;36m_gzip_open\u001b[0;34m(filename, mode, compresslevel, keep_open)\u001b[0m\n\u001b[1;32m     49\u001b[0m     gzip_file \u001b[38;5;241m=\u001b[39m IndexedGzipFile(filename, drop_handles\u001b[38;5;241m=\u001b[39m\u001b[38;5;129;01mnot\u001b[39;00m keep_open)\n\u001b[1;32m     51\u001b[0m \u001b[38;5;66;03m# Fall-back to built-in GzipFile\u001b[39;00m\n\u001b[1;32m     52\u001b[0m \u001b[38;5;28;01melse\u001b[39;00m:\n\u001b[0;32m---> 53\u001b[0m     gzip_file \u001b[38;5;241m=\u001b[39m \u001b[43mgzip\u001b[49m\u001b[38;5;241;43m.\u001b[39;49m\u001b[43mGzipFile\u001b[49m\u001b[43m(\u001b[49m\u001b[43mfilename\u001b[49m\u001b[43m,\u001b[49m\u001b[43m \u001b[49m\u001b[43mmode\u001b[49m\u001b[43m,\u001b[49m\u001b[43m \u001b[49m\u001b[43mcompresslevel\u001b[49m\u001b[43m)\u001b[49m\n\u001b[1;32m     55\u001b[0m \u001b[38;5;28;01mreturn\u001b[39;00m gzip_file\n",
      "File \u001b[0;32m~/anaconda3/lib/python3.9/gzip.py:173\u001b[0m, in \u001b[0;36mGzipFile.__init__\u001b[0;34m(self, filename, mode, compresslevel, fileobj, mtime)\u001b[0m\n\u001b[1;32m    171\u001b[0m     mode \u001b[38;5;241m+\u001b[39m\u001b[38;5;241m=\u001b[39m \u001b[38;5;124m'\u001b[39m\u001b[38;5;124mb\u001b[39m\u001b[38;5;124m'\u001b[39m\n\u001b[1;32m    172\u001b[0m \u001b[38;5;28;01mif\u001b[39;00m fileobj \u001b[38;5;129;01mis\u001b[39;00m \u001b[38;5;28;01mNone\u001b[39;00m:\n\u001b[0;32m--> 173\u001b[0m     fileobj \u001b[38;5;241m=\u001b[39m \u001b[38;5;28mself\u001b[39m\u001b[38;5;241m.\u001b[39mmyfileobj \u001b[38;5;241m=\u001b[39m \u001b[43mbuiltins\u001b[49m\u001b[38;5;241;43m.\u001b[39;49m\u001b[43mopen\u001b[49m\u001b[43m(\u001b[49m\u001b[43mfilename\u001b[49m\u001b[43m,\u001b[49m\u001b[43m \u001b[49m\u001b[43mmode\u001b[49m\u001b[43m \u001b[49m\u001b[38;5;129;43;01mor\u001b[39;49;00m\u001b[43m \u001b[49m\u001b[38;5;124;43m'\u001b[39;49m\u001b[38;5;124;43mrb\u001b[39;49m\u001b[38;5;124;43m'\u001b[39;49m\u001b[43m)\u001b[49m\n\u001b[1;32m    174\u001b[0m \u001b[38;5;28;01mif\u001b[39;00m filename \u001b[38;5;129;01mis\u001b[39;00m \u001b[38;5;28;01mNone\u001b[39;00m:\n\u001b[1;32m    175\u001b[0m     filename \u001b[38;5;241m=\u001b[39m \u001b[38;5;28mgetattr\u001b[39m(fileobj, \u001b[38;5;124m'\u001b[39m\u001b[38;5;124mname\u001b[39m\u001b[38;5;124m'\u001b[39m, \u001b[38;5;124m'\u001b[39m\u001b[38;5;124m'\u001b[39m)\n",
      "\u001b[0;31mFileNotFoundError\u001b[0m: [Errno 2] No such file or directory: '/media/miplab-nas2/Data3/BMPD/hc_project//brain_spine/results/fc_parcellation//corr/Postcentral_L_to_C1toC7_gm_07_DR/target/sim//K9/mean_labels/stats/agglom/K9_wta_corr.nii.gz'"
     ]
    }
   ],
   "source": [
    "fc_parcellation.winner_takes_all(label_type='mean',input_type='corr',indiv_algorithm='agglom',features='sim',apply_threshold=0,cluster_threshold=100,k=9, overwrite=True)"
   ]
  },
  {
   "cell_type": "markdown",
   "id": "d0554b46",
   "metadata": {},
   "source": [
    "# Plotting\n",
    "<hr style=\"border:0.5px solid black\">"
   ]
  },
  {
   "cell_type": "code",
   "execution_count": null,
   "id": "fd1101ff",
   "metadata": {},
   "outputs": [],
   "source": [
    "for k_ind in range(1,8):\n",
    "    img_to_show = '/media/miplab-nas2/Data3/BMPD/hc_project/brain_spine/results/fc_parcellation/corr/C1toC7_gm_07_to_iCAP_SMC/target/sim/K7/wta_fc_mean/K7_' + str(k_ind) + '_fc_profile.nii.gz'\n",
    "    for hemi in ['left','right']:\n",
    "        img_surf = surface.vol_to_surf(img_to_show, config['main_dir'] + config['brain_surfaces'] + 'rh.pial', radius=0,interpolation='nearest', kind='auto', n_samples=10, mask_img=None, depth=None) if hemi == 'right' else surface.vol_to_surf(img_to_show, config['main_dir'] + config['brain_surfaces'] + 'lh.pial', radius=0,interpolation='nearest', kind='auto', n_samples=10, mask_img=None, depth=None)\n",
    "           \n",
    "        plot = plotting.plot_surf_stat_map(stat_map=img_surf, surf_mesh=config['main_dir']+config['brain_surfaces']+'rh.inflated' if hemi =='right' else config['main_dir']+config['brain_surfaces']+'lh.inflated',\n",
    "                       cmap='cold_hot', colorbar=True,\n",
    "                       hemi=hemi, view='lateral', threshold=0.015, vmin=-0.05,vmax=0.05,\n",
    "                       bg_map=config['main_dir']+config['brain_surfaces']+'rh.sulc' if hemi=='right' else config['main_dir']+config['brain_surfaces']+'rh.sulc', #bg_on_data=True,\n",
    "                       darkness=0.7)\n",
    "        plot_path = '/media/miplab-nas2/Data3/BMPD/hc_project/brain_spine/results/fc_parcellation/corr/C1toC7_gm_07_to_iCAP_SMC/target/sim/K7/wta_fc_mean/K7_' + str(k_ind) + '_fc_profile_' + hemi + '.png'\n",
    "        plot.savefig(plot_path)"
   ]
  },
  {
   "cell_type": "markdown",
   "id": "a8195ae7",
   "metadata": {},
   "source": [
    "### WTA maps"
   ]
  },
  {
   "cell_type": "code",
   "execution_count": null,
   "id": "ef556d03",
   "metadata": {},
   "outputs": [],
   "source": [
    "fc_parcellation.plot_brain_map(showing='source',k=9,features='sim',wta_fc_mean=True,indiv_algorithm='agglom',group_type='mean', save_figure=True)"
   ]
  },
  {
   "cell_type": "markdown",
   "id": "a05404f2",
   "metadata": {},
   "source": [
    "### Plot label maps"
   ]
  },
  {
   "cell_type": "code",
   "execution_count": null,
   "id": "8dc779e7",
   "metadata": {},
   "outputs": [],
   "source": [
    "fc_parcellation.plot_spinal_map(showing='target',k=9,input_type='corr',label_type='mean',wta_fc_mean=False,indiv_algorithm='agglom',features='sim', slice_y=24,save_figure=True)"
   ]
  },
  {
   "cell_type": "markdown",
   "id": "4f665775",
   "metadata": {},
   "source": [
    "### Validity\n",
    "<hr style=\"border:0.5px solid black\">"
   ]
  },
  {
   "cell_type": "markdown",
   "id": "344f76d1",
   "metadata": {},
   "source": [
    "### Plot validity metrics"
   ]
  },
  {
   "cell_type": "code",
   "execution_count": 31,
   "id": "c195865d",
   "metadata": {},
   "outputs": [
    {
     "name": "stdout",
     "output_type": "stream",
     "text": [
      "\u001b[1mVALIDITY METRICS\u001b[0m\n",
      "\u001b[37mK value(s) = range(2, 21)\u001b[0m\n",
      "\u001b[37mFeatures = sim\u001b[0m\n",
      "\u001b[37mSaving figures = True\u001b[0m\n",
      "\n"
     ]
    },
    {
     "data": {
      "image/png": "[encoded data removed]",
      "text/plain": [
       "<Figure size 500x300 with 1 Axes>"
      ]
     },
     "metadata": {},
     "output_type": "display_data"
    },
    {
     "data": {
      "image/png": "[encoded data removed]",
      "text/plain": [
       "<Figure size 500x300 with 1 Axes>"
      ]
     },
     "metadata": {},
     "output_type": "display_data"
    },
    {
     "data": {
      "image/png": "[encoded data removed]",
      "text/plain": [
       "<Figure size 500x300 with 1 Axes>"
      ]
     },
     "metadata": {},
     "output_type": "display_data"
    },
    {
     "data": {
      "image/png": "[encoded data removed]",
      "text/plain": [
       "<Figure size 500x300 with 1 Axes>"
      ]
     },
     "metadata": {},
     "output_type": "display_data"
    }
   ],
   "source": [
    "fc_parcellation.plot_validity(k_range=range(2,21),take_mean=True,features='sim',indiv_algorithm='agglom',internal=[\"SSE\", \"silhouette\", \"davies\", \"calinski\"], save_figures=True)"
   ]
  },
  {
   "cell_type": "code",
   "execution_count": null,
   "id": "a40597a8",
   "metadata": {},
   "outputs": [],
   "source": []
  },
  {
   "cell_type": "code",
   "execution_count": null,
   "id": "f1c9896b",
   "metadata": {},
   "outputs": [],
   "source": []
  }
 ],
 "metadata": {
  "kernelspec": {
   "display_name": "Python 3 (ipykernel)",
   "language": "python",
   "name": "python3"
  },
  "language_info": {
   "codemirror_mode": {
    "name": "ipython",
    "version": 3
   },
   "file_extension": ".py",
   "mimetype": "text/x-python",
   "name": "python",
   "nbconvert_exporter": "python",
   "pygments_lexer": "ipython3",
   "version": "3.9.12"
  }
 },
 "nbformat": 4,
 "nbformat_minor": 5
}
