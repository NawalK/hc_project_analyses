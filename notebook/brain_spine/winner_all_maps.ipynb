{
 "cells": [
  {
   "cell_type": "markdown",
   "id": "da955ebd",
   "metadata": {},
   "source": [
    "Goal: \n",
    "- Create an analyse that will compute for each brain voxels the spinal level gave the maximal MI value (from C1 to C7)\n",
    "- Each voxel will have the value of the segment: 1,2,3,4,5,6 or 7"
   ]
  },
  {
   "cell_type": "markdown",
   "id": "203ebe24",
   "metadata": {},
   "source": [
    "## <font color=#B2D732> <span style=\"background-color: #4424D6\"> Imports"
   ]
  },
  {
   "cell_type": "code",
   "execution_count": 1,
   "id": "dbb69b38",
   "metadata": {},
   "outputs": [
    {
     "name": "stderr",
     "output_type": "stream",
     "text": [
      "/cerebro/cerebro1/dataset/bmpd/derivatives/thibault_test/code/toolbox/bmpd_python/lib/python3.6/site-packages/nilearn/__init__.py:69: FutureWarning: Python 3.6 support is deprecated and will be removed in release 0.10 of Nilearn. Consider switching to Python 3.8 or 3.9.\n",
      "  _python_deprecation_warnings()\n"
     ]
    }
   ],
   "source": [
    "import sys,json\n",
    "import glob, os\n",
    "sys.path.append(\"/cerebro/cerebro1/dataset/bmpd/derivatives/HealthyControls_project/hc_project_analyses/code/\")\n",
    "\n",
    "from winnerAll_maps import WinnerAll\n",
    "\n",
    "%matplotlib inline\n",
    "%load_ext autoreload\n",
    "%autoreload 2"
   ]
  },
  {
   "cell_type": "markdown",
   "id": "60b99f3e",
   "metadata": {},
   "source": [
    "## <font color=#B2D732> <span style=\"background-color: #4424D6\"> A/ Initialization"
   ]
  },
  {
   "cell_type": "markdown",
   "id": "4814ad9b",
   "metadata": {},
   "source": [
    " ### <font color=#4424D6> I. Configuration & parameters </font >"
   ]
  },
  {
   "cell_type": "code",
   "execution_count": 2,
   "id": "8f49282b",
   "metadata": {},
   "outputs": [],
   "source": [
    "# Load config file ------------------------------------------------------------\n",
    "with open('/cerebro/cerebro1/dataset/bmpd/derivatives/HealthyControls_project/hc_project_analyses/config/config_seed2voxels_2ndlevel.json') as config_file: # the notebook should be in 'xx/notebook/' folder #config_proprio\n",
    "    config = json.load(config_file) # load config file should be open first and the path inside modified\n",
    "\n",
    "all_subjects=config[\"list_subjects\"]"
   ]
  },
  {
   "cell_type": "markdown",
   "id": "69f03424",
   "metadata": {},
   "source": [
    "### <font color=#4424D6> II. Initialize class based on this </font>"
   ]
  },
  {
   "cell_type": "code",
   "execution_count": 3,
   "id": "179a3ab0",
   "metadata": {},
   "outputs": [
    {
     "name": "stdout",
     "output_type": "stream",
     "text": [
      "---------- Initialization info: \n",
      "icap_C1_gm will have a value of: 1\n",
      "icap_C2_gm will have a value of: 2\n",
      "icap_C3_gm will have a value of: 3\n",
      "icap_C4_gm will have a value of: 4\n",
      "icap_C5_gm will have a value of: 5\n",
      "icap_C6_gm will have a value of: 6\n",
      "icap_C7_gm will have a value of: 7\n",
      "ERROR! Session/line number was not unique in database. History logging moved to new session 6106\n"
     ]
    },
    {
     "name": "stderr",
     "output_type": "stream",
     "text": [
      "/cerebro/cerebro1/dataset/bmpd/derivatives/thibault_test/code/toolbox/bmpd_python/lib/python3.6/site-packages/nilearn/masking.py:916: UserWarning: Data array used to create a new image contains 64-bit ints. This is likely due to creating the array with numpy and passing `int` as the `dtype`. Many tools such as FSL and SPM cannot deal with int64 in Nifti images, so for compatibility the data has been converted to int32.\n",
      "  return new_img_like(mask_img, unmasked, affine)\n"
     ]
    }
   ],
   "source": [
    "#for subj in all_subjects:\n",
    "#config[\"list_subjects\"]=subj\n",
    "#config['winner_all'][\"tag_input\"]=\"/MNI_GM_2mm_fc_maps/Corr/bi-corr_sub-\" + subj + \".nii.gz\"\n",
    "GradMaps=WinnerAll(config,verbose=False) # initialize the function\n",
    "tag=\"WinnerAll\"\n",
    "GradMaps.compute_GradMaps(output_tag=tag,apply_threshold=1,redo=True,verbose=True)\n",
    "    "
   ]
  },
  {
   "cell_type": "code",
   "execution_count": 4,
   "id": "4e49a1f0",
   "metadata": {},
   "outputs": [
    {
     "ename": "ValueError",
     "evalue": "File not found: '/cerebro/cerebro1/dataset/bmpd/derivatives/HealthyControls_project/seed_to_voxels/winter_2023/2_second_level//WinnerTakeAll/gm/WinnerAll_Levels.nii.gz'",
     "output_type": "error",
     "traceback": [
      "\u001b[0;31m---------------------------------------------------------------------------\u001b[0m",
      "\u001b[0;31mValueError\u001b[0m                                Traceback (most recent call last)",
      "\u001b[0;32m<ipython-input-4-c419ee5f708e>\u001b[0m in \u001b[0;36m<module>\u001b[0;34m\u001b[0m\n\u001b[1;32m     49\u001b[0m     \u001b[0moutput_file\u001b[0m\u001b[0;34m=\u001b[0m \u001b[0mconfig\u001b[0m\u001b[0;34m[\u001b[0m\u001b[0;34m\"second_level\"\u001b[0m\u001b[0;34m]\u001b[0m \u001b[0;34m+\u001b[0m \u001b[0;34m\"/WinnerTakeAll/\"\u001b[0m \u001b[0;34m+\u001b[0m \u001b[0mconfig\u001b[0m\u001b[0;34m[\u001b[0m\u001b[0;34m\"winner_all\"\u001b[0m\u001b[0;34m]\u001b[0m\u001b[0;34m[\u001b[0m\u001b[0;34m\"analysis\"\u001b[0m\u001b[0;34m]\u001b[0m \u001b[0;34m+\u001b[0m \u001b[0;34m\"/WinnerAll_Levels_\"\u001b[0m\u001b[0;34m+\u001b[0m\u001b[0mmask_tag\u001b[0m\u001b[0;34m+\u001b[0m\u001b[0;34m\"_s.nii.gz\"\u001b[0m\u001b[0;34m\u001b[0m\u001b[0;34m\u001b[0m\u001b[0m\n\u001b[1;32m     50\u001b[0m     \u001b[0mmasker\u001b[0m\u001b[0;34m=\u001b[0m \u001b[0mnilearn\u001b[0m\u001b[0;34m.\u001b[0m\u001b[0mmaskers\u001b[0m\u001b[0;34m.\u001b[0m\u001b[0mNiftiMasker\u001b[0m\u001b[0;34m(\u001b[0m\u001b[0mmask\u001b[0m\u001b[0;34m,\u001b[0m \u001b[0msmoothing_fwhm\u001b[0m\u001b[0;34m=\u001b[0m\u001b[0;34m[\u001b[0m\u001b[0;36m2\u001b[0m\u001b[0;34m,\u001b[0m\u001b[0;36m2\u001b[0m\u001b[0;34m,\u001b[0m\u001b[0;36m2\u001b[0m\u001b[0;34m]\u001b[0m\u001b[0;34m)\u001b[0m\u001b[0;34m\u001b[0m\u001b[0;34m\u001b[0m\u001b[0m\n\u001b[0;32m---> 51\u001b[0;31m     \u001b[0marray_s\u001b[0m\u001b[0;34m=\u001b[0m\u001b[0mmasker\u001b[0m\u001b[0;34m.\u001b[0m\u001b[0mfit_transform\u001b[0m\u001b[0;34m(\u001b[0m\u001b[0minput_file\u001b[0m\u001b[0;34m)\u001b[0m\u001b[0;34m\u001b[0m\u001b[0;34m\u001b[0m\u001b[0m\n\u001b[0m\u001b[1;32m     52\u001b[0m     \u001b[0mimg_s\u001b[0m\u001b[0;34m=\u001b[0m\u001b[0mmasker\u001b[0m\u001b[0;34m.\u001b[0m\u001b[0minverse_transform\u001b[0m\u001b[0;34m(\u001b[0m\u001b[0marray_s\u001b[0m\u001b[0;34m)\u001b[0m\u001b[0;34m\u001b[0m\u001b[0;34m\u001b[0m\u001b[0m\n\u001b[1;32m     53\u001b[0m     \u001b[0mimg_s\u001b[0m\u001b[0;34m.\u001b[0m\u001b[0mto_filename\u001b[0m\u001b[0;34m(\u001b[0m\u001b[0moutput_file\u001b[0m\u001b[0;34m)\u001b[0m \u001b[0;31m# create temporary 3D files\u001b[0m\u001b[0;34m\u001b[0m\u001b[0;34m\u001b[0m\u001b[0m\n",
      "\u001b[0;32m/cerebro/cerebro1/dataset/bmpd/derivatives/thibault_test/code/toolbox/bmpd_python/lib/python3.6/site-packages/nilearn/maskers/base_masker.py\u001b[0m in \u001b[0;36mfit_transform\u001b[0;34m(self, X, y, confounds, sample_mask, **fit_params)\u001b[0m\n\u001b[1;32m    289\u001b[0m                 return self.fit(**fit_params).transform(X,\n\u001b[1;32m    290\u001b[0m                                                         \u001b[0mconfounds\u001b[0m\u001b[0;34m=\u001b[0m\u001b[0mconfounds\u001b[0m\u001b[0;34m,\u001b[0m\u001b[0;34m\u001b[0m\u001b[0;34m\u001b[0m\u001b[0m\n\u001b[0;32m--> 291\u001b[0;31m                                                         \u001b[0msample_mask\u001b[0m\u001b[0;34m=\u001b[0m\u001b[0msample_mask\u001b[0m\u001b[0;34m\u001b[0m\u001b[0;34m\u001b[0m\u001b[0m\n\u001b[0m\u001b[1;32m    292\u001b[0m                                                         )\n\u001b[1;32m    293\u001b[0m         \u001b[0;32melse\u001b[0m\u001b[0;34m:\u001b[0m\u001b[0;34m\u001b[0m\u001b[0;34m\u001b[0m\u001b[0m\n",
      "\u001b[0;32m/cerebro/cerebro1/dataset/bmpd/derivatives/thibault_test/code/toolbox/bmpd_python/lib/python3.6/site-packages/nilearn/maskers/base_masker.py\u001b[0m in \u001b[0;36mtransform\u001b[0;34m(self, imgs, confounds, sample_mask)\u001b[0m\n\u001b[1;32m    233\u001b[0m             return self.transform_single_imgs(imgs,\n\u001b[1;32m    234\u001b[0m                                               \u001b[0mconfounds\u001b[0m\u001b[0;34m=\u001b[0m\u001b[0mconfounds\u001b[0m\u001b[0;34m,\u001b[0m\u001b[0;34m\u001b[0m\u001b[0;34m\u001b[0m\u001b[0m\n\u001b[0;32m--> 235\u001b[0;31m                                               sample_mask=sample_mask)\n\u001b[0m\u001b[1;32m    236\u001b[0m \u001b[0;34m\u001b[0m\u001b[0m\n\u001b[1;32m    237\u001b[0m         \u001b[0;31m# Compute high variance confounds if requested\u001b[0m\u001b[0;34m\u001b[0m\u001b[0;34m\u001b[0m\u001b[0;34m\u001b[0m\u001b[0m\n",
      "\u001b[0;32m/cerebro/cerebro1/dataset/bmpd/derivatives/thibault_test/code/toolbox/bmpd_python/lib/python3.6/site-packages/nilearn/maskers/nifti_masker.py\u001b[0m in \u001b[0;36mtransform_single_imgs\u001b[0;34m(self, imgs, confounds, sample_mask, copy)\u001b[0m\n\u001b[1;32m    587\u001b[0m             \u001b[0msample_mask\u001b[0m\u001b[0;34m=\u001b[0m\u001b[0msample_mask\u001b[0m\u001b[0;34m,\u001b[0m\u001b[0;34m\u001b[0m\u001b[0;34m\u001b[0m\u001b[0m\n\u001b[1;32m    588\u001b[0m             \u001b[0mcopy\u001b[0m\u001b[0;34m=\u001b[0m\u001b[0mcopy\u001b[0m\u001b[0;34m,\u001b[0m\u001b[0;34m\u001b[0m\u001b[0;34m\u001b[0m\u001b[0m\n\u001b[0;32m--> 589\u001b[0;31m             \u001b[0mdtype\u001b[0m\u001b[0;34m=\u001b[0m\u001b[0mself\u001b[0m\u001b[0;34m.\u001b[0m\u001b[0mdtype\u001b[0m\u001b[0;34m,\u001b[0m\u001b[0;34m\u001b[0m\u001b[0;34m\u001b[0m\u001b[0m\n\u001b[0m\u001b[1;32m    590\u001b[0m         )\n\u001b[1;32m    591\u001b[0m \u001b[0;34m\u001b[0m\u001b[0m\n",
      "\u001b[0;32m/cerebro/cerebro1/dataset/bmpd/derivatives/thibault_test/code/toolbox/bmpd_python/lib/python3.6/site-packages/joblib/memory.py\u001b[0m in \u001b[0;36m__call__\u001b[0;34m(self, *args, **kwargs)\u001b[0m\n\u001b[1;32m    350\u001b[0m \u001b[0;34m\u001b[0m\u001b[0m\n\u001b[1;32m    351\u001b[0m     \u001b[0;32mdef\u001b[0m \u001b[0m__call__\u001b[0m\u001b[0;34m(\u001b[0m\u001b[0mself\u001b[0m\u001b[0;34m,\u001b[0m \u001b[0;34m*\u001b[0m\u001b[0margs\u001b[0m\u001b[0;34m,\u001b[0m \u001b[0;34m**\u001b[0m\u001b[0mkwargs\u001b[0m\u001b[0;34m)\u001b[0m\u001b[0;34m:\u001b[0m\u001b[0;34m\u001b[0m\u001b[0;34m\u001b[0m\u001b[0m\n\u001b[0;32m--> 352\u001b[0;31m         \u001b[0;32mreturn\u001b[0m \u001b[0mself\u001b[0m\u001b[0;34m.\u001b[0m\u001b[0mfunc\u001b[0m\u001b[0;34m(\u001b[0m\u001b[0;34m*\u001b[0m\u001b[0margs\u001b[0m\u001b[0;34m,\u001b[0m \u001b[0;34m**\u001b[0m\u001b[0mkwargs\u001b[0m\u001b[0;34m)\u001b[0m\u001b[0;34m\u001b[0m\u001b[0;34m\u001b[0m\u001b[0m\n\u001b[0m\u001b[1;32m    353\u001b[0m \u001b[0;34m\u001b[0m\u001b[0m\n\u001b[1;32m    354\u001b[0m     \u001b[0;32mdef\u001b[0m \u001b[0mcall_and_shelve\u001b[0m\u001b[0;34m(\u001b[0m\u001b[0mself\u001b[0m\u001b[0;34m,\u001b[0m \u001b[0;34m*\u001b[0m\u001b[0margs\u001b[0m\u001b[0;34m,\u001b[0m \u001b[0;34m**\u001b[0m\u001b[0mkwargs\u001b[0m\u001b[0;34m)\u001b[0m\u001b[0;34m:\u001b[0m\u001b[0;34m\u001b[0m\u001b[0;34m\u001b[0m\u001b[0m\n",
      "\u001b[0;32m/cerebro/cerebro1/dataset/bmpd/derivatives/thibault_test/code/toolbox/bmpd_python/lib/python3.6/site-packages/nilearn/maskers/nifti_masker.py\u001b[0m in \u001b[0;36m_filter_and_mask\u001b[0;34m(imgs, mask_img_, parameters, memory_level, memory, verbose, confounds, sample_mask, copy, dtype)\u001b[0m\n\u001b[1;32m     83\u001b[0m     \u001b[0;31m# This must be repeated after the shape check because check_niimg will\u001b[0m\u001b[0;34m\u001b[0m\u001b[0;34m\u001b[0m\u001b[0;34m\u001b[0m\u001b[0m\n\u001b[1;32m     84\u001b[0m     \u001b[0;31m# coerce 5D data to 4D, which we don't want.\u001b[0m\u001b[0;34m\u001b[0m\u001b[0;34m\u001b[0m\u001b[0;34m\u001b[0m\u001b[0m\n\u001b[0;32m---> 85\u001b[0;31m     \u001b[0mtemp_imgs\u001b[0m \u001b[0;34m=\u001b[0m \u001b[0m_utils\u001b[0m\u001b[0;34m.\u001b[0m\u001b[0mcheck_niimg\u001b[0m\u001b[0;34m(\u001b[0m\u001b[0mimgs\u001b[0m\u001b[0;34m)\u001b[0m\u001b[0;34m\u001b[0m\u001b[0;34m\u001b[0m\u001b[0m\n\u001b[0m\u001b[1;32m     86\u001b[0m \u001b[0;34m\u001b[0m\u001b[0m\n\u001b[1;32m     87\u001b[0m     \u001b[0;31m# Raise warning if a 3D niimg is provided.\u001b[0m\u001b[0;34m\u001b[0m\u001b[0;34m\u001b[0m\u001b[0;34m\u001b[0m\u001b[0m\n",
      "\u001b[0;32m/cerebro/cerebro1/dataset/bmpd/derivatives/thibault_test/code/toolbox/bmpd_python/lib/python3.6/site-packages/nilearn/_utils/niimg_conversions.py\u001b[0m in \u001b[0;36mcheck_niimg\u001b[0;34m(niimg, ensure_ndim, atleast_4d, dtype, return_iterator, wildcards)\u001b[0m\n\u001b[1;32m    272\u001b[0m                 \u001b[0;32mraise\u001b[0m \u001b[0mValueError\u001b[0m\u001b[0;34m(\u001b[0m\u001b[0mmessage\u001b[0m\u001b[0;34m)\u001b[0m\u001b[0;34m\u001b[0m\u001b[0;34m\u001b[0m\u001b[0m\n\u001b[1;32m    273\u001b[0m             \u001b[0;32melse\u001b[0m\u001b[0;34m:\u001b[0m\u001b[0;34m\u001b[0m\u001b[0;34m\u001b[0m\u001b[0m\n\u001b[0;32m--> 274\u001b[0;31m                 \u001b[0;32mraise\u001b[0m \u001b[0mValueError\u001b[0m\u001b[0;34m(\u001b[0m\u001b[0;34m\"File not found: '%s'\"\u001b[0m \u001b[0;34m%\u001b[0m \u001b[0mniimg\u001b[0m\u001b[0;34m)\u001b[0m\u001b[0;34m\u001b[0m\u001b[0;34m\u001b[0m\u001b[0m\n\u001b[0m\u001b[1;32m    275\u001b[0m         \u001b[0;32melif\u001b[0m \u001b[0;32mnot\u001b[0m \u001b[0mos\u001b[0m\u001b[0;34m.\u001b[0m\u001b[0mpath\u001b[0m\u001b[0;34m.\u001b[0m\u001b[0mexists\u001b[0m\u001b[0;34m(\u001b[0m\u001b[0mniimg\u001b[0m\u001b[0;34m)\u001b[0m\u001b[0;34m:\u001b[0m\u001b[0;34m\u001b[0m\u001b[0;34m\u001b[0m\u001b[0m\n\u001b[1;32m    276\u001b[0m             \u001b[0;32mraise\u001b[0m \u001b[0mValueError\u001b[0m\u001b[0;34m(\u001b[0m\u001b[0;34m\"File not found: '%s'\"\u001b[0m \u001b[0;34m%\u001b[0m \u001b[0mniimg\u001b[0m\u001b[0;34m)\u001b[0m\u001b[0;34m\u001b[0m\u001b[0;34m\u001b[0m\u001b[0m\n",
      "\u001b[0;31mValueError\u001b[0m: File not found: '/cerebro/cerebro1/dataset/bmpd/derivatives/HealthyControls_project/seed_to_voxels/winter_2023/2_second_level//WinnerTakeAll/gm/WinnerAll_Levels.nii.gz'"
     ]
    }
   ],
   "source": [
    "import nilearn\n",
    "#4.c Save the output as an image\n",
    "input_file=config[\"second_level\"] + \"/WinnerTakeAll/\" + config[\"winner_all\"][\"analysis\"] + \"/WinnerAll_Levels.nii.gz\"\n",
    "\n",
    "#4.c Save the output as an image\n",
    "mask_dir=\"/cerebro/cerebro1/dataset/bmpd/derivatives/HealthyControls_project/hc_project_analyses/masks/brain/\"\n",
    "\n",
    "for mask_tag in [\"aDMN\",\"rFrontoPar\",\"lFrontoPar\",\"SMC\",\"GM\",\"cereb\",\"preC\",\"postC\",\"striatum\",\"auditory\",\"mVisuel\",\"lVisuel\",\"parietal\",\"dDMN\"]: #:# \n",
    "    if mask_tag == \"preC\":\n",
    "        mask= mask_dir + \"iCAPs_vSM.nii.gz\"\n",
    "    elif mask_tag == \"postC\":\n",
    "        mask= mask_dir + \"iCAPs_dSM.nii.gz\"\n",
    "   \n",
    "    elif mask_tag==\"GM\":\n",
    "        mask= mask_dir + \"MNI_GM_2mm.nii\"\n",
    "        \n",
    "    elif mask_tag==\"cereb\":\n",
    "        mask= mask_dir +\"iCAPs_z_cereb_bin.nii.gz\"\n",
    "    \n",
    "    elif mask_tag==\"striatum\":\n",
    "        mask= mask_dir +\"striatum_2mm.nii.gz\"\n",
    "        \n",
    "    elif mask_tag==\"SMC\":\n",
    "        mask=mask_dir + \"iCAP_SMC.nii.gz\"\n",
    "        \n",
    "    elif mask_tag==\"auditory\":\n",
    "        mask=mask_dir + \"iCAPs_z_auditory_bin.nii.gz\"\n",
    "        \n",
    "    elif mask_tag==\"mVisuel\":\n",
    "        mask=mask_dir + \"iCAPs_z_mVisuel_bin.nii.gz\"\n",
    "        \n",
    "    elif mask_tag==\"lVisuel\":\n",
    "        mask=mask_dir + \"iCAPs_z_lVisuel_bin.nii.gz\"\n",
    "        \n",
    "    elif mask_tag==\"parietal\":\n",
    "        mask=mask_dir + \"iCAPs_z_parietal_bin.nii.gz\"\n",
    "\n",
    "    elif mask_tag==\"dDMN\":\n",
    "        mask=mask_dir + \"iCAPs_z_dDMN_bin.nii.gz\"\n",
    "    \n",
    "    elif mask_tag==\"aDMN\":\n",
    "        mask=mask_dir + \"iCAPs_z_aDMN_bin.nii.gz\"\n",
    "    elif mask_tag==\"rFrontoPar\":\n",
    "        mask=mask_dir + \"iCAPs_z_rFrontoPar_bin.nii.gz\"\n",
    "    elif mask_tag==\"lFrontoPar\":\n",
    "        mask=mask_dir + \"iCAPs_z_lFrontoPar_bin.nii.gz\"\n",
    "        \n",
    "       \n",
    "    output_file= config[\"second_level\"] + \"/WinnerTakeAll/\" + config[\"winner_all\"][\"analysis\"] + \"/WinnerAll_Levels_\"+mask_tag+\"_s.nii.gz\"\n",
    "    masker= nilearn.maskers.NiftiMasker(mask, smoothing_fwhm=[2,2,2])\n",
    "    array_s=masker.fit_transform(input_file)\n",
    "    img_s=masker.inverse_transform(array_s)\n",
    "    img_s.to_filename(output_file) # create temporary 3D files\n"
   ]
  },
  {
   "cell_type": "raw",
   "id": "678a757b",
   "metadata": {},
   "source": [
    "%matplotlib inline\n",
    "from nilearn import plotting, datasets\n",
    "colr_map=\"cold_hot_r\"\n",
    "mask_tag=\"SMC\"\n",
    "#config[\"winner_all\"][\"analysis\"]=\"gm\"\n",
    "config[\"winner_all\"][\"analysis\"]=\"gm\"\n",
    "\n",
    "img = config[\"second_level\"] + \"/WinnerTakeAll/\" + config[\"winner_all\"][\"analysis\"] + \"/WinnerAll_Levels_\"+mask_tag+\"_C6C7.nii.gz\"\n",
    "#img=\"/cerebro/cerebro1/dataset/bmpd/derivatives/HealthyControls_project/templates/MNI/iCAPs/SMC_K10/iCAPs_z_K10_2_bin.nii.gz\"\n",
    "view = plotting.view_img_on_surf(img, threshold=0.5, vmax=8,surf_mesh='fsaverage',cmap=\"nipy_spectral\",symmetric_cmap= None)\n",
    "view"
   ]
  },
  {
   "cell_type": "code",
   "execution_count": null,
   "id": "d715e88b",
   "metadata": {},
   "outputs": [],
   "source": []
  }
 ],
 "metadata": {
  "kernelspec": {
   "display_name": "Python 3 (ipykernel)",
   "language": "python",
   "name": "python3"
  },
  "language_info": {
   "codemirror_mode": {
    "name": "ipython",
    "version": 3
   },
   "file_extension": ".py",
   "mimetype": "text/x-python",
   "name": "python",
   "nbconvert_exporter": "python",
   "pygments_lexer": "ipython3",
   "version": "3.8.19"
  }
 },
 "nbformat": 4,
 "nbformat_minor": 5
}
