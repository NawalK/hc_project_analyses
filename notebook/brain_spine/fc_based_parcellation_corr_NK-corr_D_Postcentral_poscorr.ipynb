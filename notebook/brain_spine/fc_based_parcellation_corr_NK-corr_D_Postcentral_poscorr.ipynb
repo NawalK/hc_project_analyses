{
 "cells": [
  {
   "cell_type": "markdown",
   "id": "05811f44",
   "metadata": {},
   "source": [
    "# <font color=black> Analysis - FC-based parcellation using correlation </font>\n",
    "<hr style=\"border:1px solid black\">"
   ]
  },
  {
   "cell_type": "code",
   "execution_count": 1,
   "id": "2a859ef3",
   "metadata": {},
   "outputs": [],
   "source": [
    "import sys,json\n",
    "import glob, os\n",
    "import numpy as np\n",
    "import nibabel as nib\n",
    "import time\n",
    "\n",
    "sys.path.append('/media/miplab-nas2/Data3/BMPD/hc_project/analysis/code/')\n",
    "\n",
    "from fc_based_parcellation import FC_Parcellation\n",
    "\n",
    "%matplotlib inline\n",
    "%load_ext autoreload\n",
    "%autoreload 2"
   ]
  },
  {
   "cell_type": "markdown",
   "id": "54b7d591",
   "metadata": {},
   "source": [
    "# Initialization\n",
    "<hr style=\"border:0.5px solid black\">"
   ]
  },
  {
   "cell_type": "markdown",
   "id": "00f5de69",
   "metadata": {},
   "source": [
    "### Load existing configuration file ..."
   ]
  },
  {
   "cell_type": "code",
   "execution_count": 7,
   "id": "3c9f417e",
   "metadata": {},
   "outputs": [],
   "source": [
    "# Load the config file with all information\n",
    "filetag = \"C1toC7_gm_SMC_iCAP\"\n",
    "with open('../../../brain_spine/results/fc_parcellation/corr/' + filetag + '/config_' + filetag + '.json') as config_file:\n",
    "    config = json.load(config_file)\n",
    "source = 'spinalcord'\n",
    "target = 'brain'"
   ]
  },
  {
   "cell_type": "markdown",
   "id": "942305b9",
   "metadata": {},
   "source": [
    "### ... or build new one"
   ]
  },
  {
   "cell_type": "code",
   "execution_count": null,
   "id": "260fec02",
   "metadata": {},
   "outputs": [],
   "source": [
    "# Load the config file with all information\n",
    "with open('../../config/config_fc_based_parcellation_NK.json') as config_file:\n",
    "    config = json.load(config_file)\n",
    "# Define tag of this analysis (used for saving)\n",
    "config['output_tag'] = \"C1toC7_gm_D_postcentral\"\n",
    "# Define source, target, and the corresponding masks\n",
    "source = 'spinalcord'\n",
    "target = 'brain'\n",
    "# Note: paths should be with respect to main directory\n",
    "config['file_tag']['brain'] = \"_task-rest_bold_stc_brain_moco_brsc_BP_reg_SPM_inTemplate2mm_s.nii.gz\"\n",
    "config['file_tag']['spinalcord'] = \"_task-rest_bold_stc_sc_moco_brsc_BP_inTemplate_s.nii.gz\"\n",
    "\n",
    "config['masks']['brain'] = \"/analysis/masks/brain/MNI_GM_2mm_postcentral.nii.gz\"\n",
    "config['masks']['spinalcord'] = \"/analysis/masks/spinalcord/PAM50_cord_C1C7_gm_D.nii.gz\"\n",
    "config['list_subjects'] = [\"P030\", \"P099\",\"A006\",\"A007\",\"A008\",\"A009\",\"A011\",\"A013\",\"A023\",\"A024\",\"A025\",\"A026\",\"A027\",\"A028\",\"A029\",\"A030\",\"A032\",\"A033\",\"A034\",\"A036\",\"A037\",\"A038\",\"A039\",\"A043\",\"A044\",\"A045\",\"A046\",\"A048\",\"A050\",\"A051\",\"A052\"]"
   ]
  },
  {
   "cell_type": "markdown",
   "id": "74376d10",
   "metadata": {},
   "source": [
    "### Instantiate class\n",
    "_Note: this will save a config file with all relevant information and prepare folder structure_"
   ]
  },
  {
   "cell_type": "code",
   "execution_count": 8,
   "id": "a73c9d0c",
   "metadata": {},
   "outputs": [],
   "source": [
    "fc_parcellation = FC_Parcellation(config,source,target,'corr')"
   ]
  },
  {
   "cell_type": "markdown",
   "id": "568188dc",
   "metadata": {},
   "source": [
    "# Analyses\n",
    "<hr style=\"border:0.5px solid black\">"
   ]
  },
  {
   "cell_type": "markdown",
   "id": "1cc37e2e",
   "metadata": {},
   "source": [
    "### Compute the voxelwise correlation & run clustering for each subject independently"
   ]
  },
  {
   "cell_type": "code",
   "execution_count": null,
   "id": "a4358fb5",
   "metadata": {},
   "outputs": [
    {
     "name": "stdout",
     "output_type": "stream",
     "text": [
      "\u001b[1mSUBJECT P030\u001b[0m\n",
      "\u001b[1mCOMPUTE VOXELWISE FC\u001b[0m\n",
      "\u001b[37mStandardize = True\u001b[0m\n",
      "\u001b[37mOverwrite results = False\u001b[0m\n",
      "... FC already computed\n",
      "\n",
      "\u001b[1mDONE\u001b[0m\n",
      "\u001b[1mCLUSTERING AT THE INDIVIDUAL LEVEL\u001b[0m\n",
      "\u001b[37mAlgorithm = kmeans\u001b[0m\n",
      "\u001b[37mK value(s) = 7\u001b[0m\n",
      "\u001b[37mOverwrite results = False\u001b[0m\n",
      "\u001b[37mNote: keeping only positive correlations\u001b[0m\n",
      "K = 7\n",
      "... Loading FC from file\n",
      "... Running k-means clustering\n",
      "\n",
      "\n",
      "\u001b[1mSUBJECT P099\u001b[0m\n",
      "\u001b[1mCOMPUTE VOXELWISE FC\u001b[0m\n",
      "\u001b[37mStandardize = True\u001b[0m\n",
      "\u001b[37mOverwrite results = False\u001b[0m\n",
      "... FC already computed\n",
      "\n",
      "\u001b[1mDONE\u001b[0m\n",
      "\u001b[1mCLUSTERING AT THE INDIVIDUAL LEVEL\u001b[0m\n",
      "\u001b[37mAlgorithm = kmeans\u001b[0m\n",
      "\u001b[37mK value(s) = 7\u001b[0m\n",
      "\u001b[37mOverwrite results = False\u001b[0m\n",
      "\u001b[37mNote: keeping only positive correlations\u001b[0m\n",
      "K = 7\n",
      "... Loading FC from file\n",
      "... Running k-means clustering\n"
     ]
    }
   ],
   "source": [
    "start = time.time()\n",
    "# Loop through the subjects to compute fc and clustering \n",
    "for sub_id,sub in enumerate(fc_parcellation.config['list_subjects']): \n",
    "    print(f'\\033[1mSUBJECT {sub}\\033[0m')\n",
    "    # Compute correlation without saving files\n",
    "    fc_parcellation.compute_voxelwise_fc(sub=sub, \n",
    "                                        overwrite=False)\n",
    "    # Run clustering and save labels\n",
    "    fc_parcellation.run_clustering(sub=sub,\n",
    "                                    k_range=7,algorithm='kmeans',\n",
    "                                    poscorr=True,\n",
    "                                    overwrite=False)\n",
    "print(\"\\033[1m... Operation performed in %.2f s!\\033[0m\" % (time.time() - start))"
   ]
  },
  {
   "cell_type": "markdown",
   "id": "347d1de4",
   "metadata": {},
   "source": [
    "### Compute the group-level clustering and generate corresponding maps"
   ]
  },
  {
   "cell_type": "code",
   "execution_count": null,
   "id": "f64a67d0",
   "metadata": {},
   "outputs": [],
   "source": [
    "fc_parcellation.group_clustering(k_range=7,poscorr=True,indiv_algorithm='kmeans',overwrite=False)"
   ]
  },
  {
   "cell_type": "code",
   "execution_count": null,
   "id": "dbd2baf4",
   "metadata": {},
   "outputs": [],
   "source": [
    "fc_parcellation.prepare_target_maps(label_type='group_agglom',indiv_algorithm='spectral',k_range=7,overwrite=False)"
   ]
  },
  {
   "cell_type": "markdown",
   "id": "344f76d1",
   "metadata": {},
   "source": [
    "### Plot validity metrics"
   ]
  },
  {
   "cell_type": "code",
   "execution_count": null,
   "id": "f4aea196",
   "metadata": {},
   "outputs": [],
   "source": []
  },
  {
   "cell_type": "code",
   "execution_count": null,
   "id": "c195865d",
   "metadata": {},
   "outputs": [],
   "source": [
    "fc_parcellation.plot_validity(k_range=range(5,9),internal=[\"SSE\", \"silhouette\", \"davies\", \"calinski\"], group=[\"ami_mode\", \"ari_mode\",\"ami_agglom\", \"ari_agglom\", \"corr\"], save_figures=False)"
   ]
  },
  {
   "cell_type": "code",
   "execution_count": null,
   "id": "a6509eea",
   "metadata": {},
   "outputs": [],
   "source": [
    "fc_parcellation.plot_validity(k_range=range(2,15),internal=[\"SSE\", \"silhouette\", \"davies\", \"calinski\"], save_figures=False)"
   ]
  },
  {
   "cell_type": "code",
   "execution_count": null,
   "id": "6f79aba2",
   "metadata": {},
   "outputs": [],
   "source": [
    "import pandas as pd\n",
    "valid= pd.read_pickle('/media/miplab-nas2/Data3/BMPD/hc_project/brain_spine/results/fc_parcellation/corr/C1toC7_gm_D_postcentral/source/validity/C1toC7_gm_D_postcentral_kmeans_group_validity.pkl')"
   ]
  },
  {
   "cell_type": "code",
   "execution_count": null,
   "id": "7592406e",
   "metadata": {},
   "outputs": [],
   "source": [
    "valid"
   ]
  },
  {
   "cell_type": "code",
   "execution_count": null,
   "id": "024bbcfd",
   "metadata": {},
   "outputs": [],
   "source": []
  }
 ],
 "metadata": {
  "kernelspec": {
   "display_name": "Python 3 (ipykernel)",
   "language": "python",
   "name": "python3"
  },
  "language_info": {
   "codemirror_mode": {
    "name": "ipython",
    "version": 3
   },
   "file_extension": ".py",
   "mimetype": "text/x-python",
   "name": "python",
   "nbconvert_exporter": "python",
   "pygments_lexer": "ipython3",
   "version": "3.9.12"
  }
 },
 "nbformat": 4,
 "nbformat_minor": 5
}
