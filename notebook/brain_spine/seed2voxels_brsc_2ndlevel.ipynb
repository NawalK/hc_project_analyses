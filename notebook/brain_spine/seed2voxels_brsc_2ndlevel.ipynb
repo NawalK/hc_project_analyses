{
 "cells": [
  {
   "cell_type": "markdown",
   "metadata": {},
   "source": [
    "## <font color=#B2D732> <span style=\"background-color: #4424D6\"> Imports"
   ]
  },
  {
   "cell_type": "code",
   "execution_count": null,
   "metadata": {},
   "outputs": [
    {
     "name": "stderr",
     "output_type": "stream",
     "text": [
      "/cerebro/cerebro1/dataset/bmpd/derivatives/thibault_test/code/toolbox/bmpd_python/lib/python3.6/site-packages/nilearn/__init__.py:69: FutureWarning: Python 3.6 support is deprecated and will be removed in release 0.10 of Nilearn. Consider switching to Python 3.8 or 3.9.\n",
      "  _python_deprecation_warnings()\n"
     ]
    }
   ],
   "source": [
    "import sys,json\n",
    "import glob, os\n",
    "sys.path.append(\"/cerebro/cerebro1/dataset/bmpd/derivatives/HealthyControls_project/hc_project_analyses/code/\")\n",
    "\n",
    "from stats_group_level import Stats\n",
    "\n",
    "%matplotlib inline\n",
    "%load_ext autoreload\n",
    "%autoreload 2"
   ]
  },
  {
   "cell_type": "markdown",
   "metadata": {},
   "source": [
    "## <font color=#B2D732> <span style=\"background-color: #4424D6\"> A/ Initialization"
   ]
  },
  {
   "cell_type": "markdown",
   "metadata": {},
   "source": [
    " ### <font color=#4424D6> I. Configuration & parameters </font >"
   ]
  },
  {
   "cell_type": "code",
   "execution_count": null,
   "metadata": {},
   "outputs": [],
   "source": [
    "# Load config file ------------------------------------------------------------\n",
    "with open('../../config/config_seed2voxels_2ndlevel.json') as config_file: # the notebook should be in 'xx/notebook/' folder #config_proprio\n",
    "    config = json.load(config_file) # load config file should be open first and the path inside modified\n",
    "    \n",
    "ana2run=[\"VL_gmwm\"]"
   ]
  },
  {
   "cell_type": "markdown",
   "metadata": {},
   "source": [
    "### <font color=#4424D6> II. Initialize class based on this </font>"
   ]
  },
  {
   "cell_type": "code",
   "execution_count": null,
   "metadata": {},
   "outputs": [],
   "source": [
    "stats={}\n",
    "for ana_name in ana2run:\n",
    "    stats[ana_name]=Stats(config,ana_name,save_ana=True,) # initialize the function\n"
   ]
  },
  {
   "cell_type": "markdown",
   "metadata": {},
   "source": [
    "## <font color=#B2D732> <span style=\"background-color: #4424D6\"> B/ Create design matrix"
   ]
  },
  {
   "cell_type": "code",
   "execution_count": null,
   "metadata": {},
   "outputs": [],
   "source": [
    "Design_matrix={}\n",
    "for ana_name in ana2run:\n",
    "    Design_matrix[ana_name]=stats[ana_name].design_matrix(plot_matrix= True,save_matrix=True)\n"
   ]
  },
  {
   "cell_type": "markdown",
   "metadata": {},
   "source": [
    "## <font color=#B2D732> <span style=\"background-color: #4424D6\"> C/ Create second level model"
   ]
  },
  {
   "cell_type": "code",
   "execution_count": null,
   "metadata": {},
   "outputs": [],
   "source": [
    "maps_umcorr={}\n",
    "for ana_name in ana2run:\n",
    "    maps_umcorr[ana_name]=stats[ana_name].secondlevelmodel(Design_matrix[ana_name],plot_2ndlevel=False,save_img=True) #stats_1T.secondlevelmodel(Design_matrix_1T)\n"
   ]
  },
  {
   "cell_type": "markdown",
   "metadata": {},
   "source": [
    "## <font color=#B2D732> <span style=\"background-color: #4424D6\"> D/ Apply statistical correction"
   ]
  },
  {
   "cell_type": "code",
   "execution_count": null,
   "metadata": {},
   "outputs": [],
   "source": [
    "for ana_name in ana2run:\n",
    "    stats[ana_name].secondlevel_correction(maps_umcorr[ana_name],p_value=0.01,corr=\"fpr\",plot_stats_corr=True,save_img=True) #stats_1T.secondlevelmodel(Design_matrix_1T)"
   ]
  },
  {
   "cell_type": "code",
   "execution_count": null,
   "metadata": {},
   "outputs": [],
   "source": []
  }
 ],
 "metadata": {
  "kernelspec": {
   "display_name": "Python 3",
   "language": "python",
   "name": "python3"
  },
  "language_info": {
   "codemirror_mode": {
    "name": "ipython",
    "version": 3
   },
   "file_extension": ".py",
   "mimetype": "text/x-python",
   "name": "python",
   "nbconvert_exporter": "python",
   "pygments_lexer": "ipython3",
   "version": "3.6.9"
  }
 },
 "nbformat": 4,
 "nbformat_minor": 5
}
