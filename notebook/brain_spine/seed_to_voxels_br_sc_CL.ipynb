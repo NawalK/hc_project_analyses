{
 "cells": [
  {
   "cell_type": "markdown",
   "metadata": {},
   "source": [
    "## <font color=#B2D732> <span style=\"background-color: #4424D6\"> Imports"
   ]
  },
  {
   "cell_type": "code",
   "execution_count": 15,
   "metadata": {
    "scrolled": true
   },
   "outputs": [
    {
     "name": "stdout",
     "output_type": "stream",
     "text": [
      "The autoreload extension is already loaded. To reload it, use:\n",
      "  %reload_ext autoreload\n"
     ]
    }
   ],
   "source": [
    "import sys,json\n",
    "import glob, os\n",
    "sys.path.append(\"/cerebro/cerebro1/dataset/bmpd/derivatives/HealthyControls_project/hc_project_analyses/code/\")\n",
    "\n",
    "from seed_to_voxels import Seed2voxels\n",
    "\n",
    "%matplotlib inline\n",
    "%load_ext autoreload\n",
    "%autoreload 2"
   ]
  },
  {
   "cell_type": "markdown",
   "metadata": {},
   "source": [
    "## <font color=#B2D732> <span style=\"background-color: #4424D6\"> A/ Initialization"
   ]
  },
  {
   "cell_type": "markdown",
   "metadata": {},
   "source": [
    " ### <font color=#4424D6> I. Configuration & parameters </font >"
   ]
  },
  {
   "cell_type": "code",
   "execution_count": 20,
   "metadata": {},
   "outputs": [],
   "source": [
    "# Load config file ------------------------------------------------------------\n",
    "with open('../../config/config_seed2voxels.json') as config_file: # the notebook should be in 'xx/notebook/' folder #config_proprio\n",
    "    config = json.load(config_file) # load config file should be open first and the path inside modified\n",
    "    #config['list_subjects']=config[\"list_subjects_younger\"]\n",
    "seed_indiv=True"
   ]
  },
  {
   "cell_type": "markdown",
   "metadata": {},
   "source": [
    "### <font color=#4424D6> II. Initialize class based on this </font>"
   ]
  },
  {
   "cell_type": "code",
   "execution_count": 21,
   "metadata": {},
   "outputs": [
    {
     "name": "stdout",
     "output_type": "stream",
     "text": [
      "Start the analysis on: 31 participants\n",
      "targeted voxel's group mask: MNI_GM_2mm\n",
      "/cerebro/cerebro1/dataset/bmpd/derivatives/HealthyControls_project//hc_project_analyses/masks/brain/MNI_GM_2mm.nii.gz\n",
      "/cerebro/cerebro1/dataset/bmpd/derivatives/HealthyControls_project//templates/PAM50/masks/indiv/sub-P030_iCAP_z_C1_bin.nii.gz\n",
      "/cerebro/cerebro1/dataset/bmpd/derivatives/HealthyControls_project//templates/PAM50/masks/indiv/sub-P030_iCAP_z_C2_bin.nii.gz\n",
      "/cerebro/cerebro1/dataset/bmpd/derivatives/HealthyControls_project/func_preparation/3_func_smoothed/sub-P030/brain/*moco_brsc_BP*_inTemplate2mm_s.nii.gz*\n",
      "/cerebro/cerebro1/dataset/bmpd/derivatives/HealthyControls_project/func_preparation/3_func_smoothed/sub-P099/brain/*moco_brsc_BP*_inTemplate2mm_s.nii.gz*\n",
      "/cerebro/cerebro1/dataset/bmpd/derivatives/HealthyControls_project/func_preparation/3_func_smoothed/sub-A006/brain/*moco_brsc_BP*_inTemplate2mm_s.nii.gz*\n",
      "/cerebro/cerebro1/dataset/bmpd/derivatives/HealthyControls_project/func_preparation/3_func_smoothed/sub-A007/brain/*moco_brsc_BP*_inTemplate2mm_s.nii.gz*\n",
      "/cerebro/cerebro1/dataset/bmpd/derivatives/HealthyControls_project/func_preparation/3_func_smoothed/sub-A008/brain/*moco_brsc_BP*_inTemplate2mm_s.nii.gz*\n",
      "/cerebro/cerebro1/dataset/bmpd/derivatives/HealthyControls_project/func_preparation/3_func_smoothed/sub-A009/brain/*moco_brsc_BP*_inTemplate2mm_s.nii.gz*\n",
      "/cerebro/cerebro1/dataset/bmpd/derivatives/HealthyControls_project/func_preparation/3_func_smoothed/sub-A011/brain/*moco_brsc_BP*_inTemplate2mm_s.nii.gz*\n",
      "/cerebro/cerebro1/dataset/bmpd/derivatives/HealthyControls_project/func_preparation/3_func_smoothed/sub-A013/brain/*moco_brsc_BP*_inTemplate2mm_s.nii.gz*\n",
      "/cerebro/cerebro1/dataset/bmpd/derivatives/HealthyControls_project/func_preparation/3_func_smoothed/sub-A023/brain/*moco_brsc_BP*_inTemplate2mm_s.nii.gz*\n",
      "/cerebro/cerebro1/dataset/bmpd/derivatives/HealthyControls_project/func_preparation/3_func_smoothed/sub-A024/brain/*moco_brsc_BP*_inTemplate2mm_s.nii.gz*\n",
      "/cerebro/cerebro1/dataset/bmpd/derivatives/HealthyControls_project/func_preparation/3_func_smoothed/sub-A025/brain/*moco_brsc_BP*_inTemplate2mm_s.nii.gz*\n",
      "/cerebro/cerebro1/dataset/bmpd/derivatives/HealthyControls_project/func_preparation/3_func_smoothed/sub-A026/brain/*moco_brsc_BP*_inTemplate2mm_s.nii.gz*\n",
      "/cerebro/cerebro1/dataset/bmpd/derivatives/HealthyControls_project/func_preparation/3_func_smoothed/sub-A027/brain/*moco_brsc_BP*_inTemplate2mm_s.nii.gz*\n",
      "/cerebro/cerebro1/dataset/bmpd/derivatives/HealthyControls_project/func_preparation/3_func_smoothed/sub-A028/brain/*moco_brsc_BP*_inTemplate2mm_s.nii.gz*\n",
      "/cerebro/cerebro1/dataset/bmpd/derivatives/HealthyControls_project/func_preparation/3_func_smoothed/sub-A029/brain/*moco_brsc_BP*_inTemplate2mm_s.nii.gz*\n",
      "/cerebro/cerebro1/dataset/bmpd/derivatives/HealthyControls_project/func_preparation/3_func_smoothed/sub-A030/brain/*moco_brsc_BP*_inTemplate2mm_s.nii.gz*\n",
      "/cerebro/cerebro1/dataset/bmpd/derivatives/HealthyControls_project/func_preparation/3_func_smoothed/sub-A032/brain/*moco_brsc_BP*_inTemplate2mm_s.nii.gz*\n",
      "/cerebro/cerebro1/dataset/bmpd/derivatives/HealthyControls_project/func_preparation/3_func_smoothed/sub-A033/brain/*moco_brsc_BP*_inTemplate2mm_s.nii.gz*\n",
      "/cerebro/cerebro1/dataset/bmpd/derivatives/HealthyControls_project/func_preparation/3_func_smoothed/sub-A034/brain/*moco_brsc_BP*_inTemplate2mm_s.nii.gz*\n",
      "/cerebro/cerebro1/dataset/bmpd/derivatives/HealthyControls_project/func_preparation/3_func_smoothed/sub-A036/brain/*moco_brsc_BP*_inTemplate2mm_s.nii.gz*\n",
      "/cerebro/cerebro1/dataset/bmpd/derivatives/HealthyControls_project/func_preparation/3_func_smoothed/sub-A037/brain/*moco_brsc_BP*_inTemplate2mm_s.nii.gz*\n",
      "/cerebro/cerebro1/dataset/bmpd/derivatives/HealthyControls_project/func_preparation/3_func_smoothed/sub-A038/brain/*moco_brsc_BP*_inTemplate2mm_s.nii.gz*\n",
      "/cerebro/cerebro1/dataset/bmpd/derivatives/HealthyControls_project/func_preparation/3_func_smoothed/sub-A039/brain/*moco_brsc_BP*_inTemplate2mm_s.nii.gz*\n",
      "/cerebro/cerebro1/dataset/bmpd/derivatives/HealthyControls_project/func_preparation/3_func_smoothed/sub-A043/brain/*moco_brsc_BP*_inTemplate2mm_s.nii.gz*\n",
      "/cerebro/cerebro1/dataset/bmpd/derivatives/HealthyControls_project/func_preparation/3_func_smoothed/sub-A044/brain/*moco_brsc_BP*_inTemplate2mm_s.nii.gz*\n",
      "/cerebro/cerebro1/dataset/bmpd/derivatives/HealthyControls_project/func_preparation/3_func_smoothed/sub-A045/brain/*moco_brsc_BP*_inTemplate2mm_s.nii.gz*\n",
      "/cerebro/cerebro1/dataset/bmpd/derivatives/HealthyControls_project/func_preparation/3_func_smoothed/sub-A046/brain/*moco_brsc_BP*_inTemplate2mm_s.nii.gz*\n",
      "/cerebro/cerebro1/dataset/bmpd/derivatives/HealthyControls_project/func_preparation/3_func_smoothed/sub-A048/brain/*moco_brsc_BP*_inTemplate2mm_s.nii.gz*\n",
      "/cerebro/cerebro1/dataset/bmpd/derivatives/HealthyControls_project/func_preparation/3_func_smoothed/sub-A050/brain/*moco_brsc_BP*_inTemplate2mm_s.nii.gz*\n",
      "/cerebro/cerebro1/dataset/bmpd/derivatives/HealthyControls_project/func_preparation/3_func_smoothed/sub-A051/brain/*moco_brsc_BP*_inTemplate2mm_s.nii.gz*\n",
      "/cerebro/cerebro1/dataset/bmpd/derivatives/HealthyControls_project/func_preparation/3_func_smoothed/sub-A052/brain/*moco_brsc_BP*_inTemplate2mm_s.nii.gz*\n"
     ]
    }
   ],
   "source": [
    "seed2voxels=Seed2voxels(config,seed_indiv) # initialize the function"
   ]
  },
  {
   "cell_type": "markdown",
   "metadata": {},
   "source": [
    "## <font color=#B2D732> <span style=\"background-color: #4424D6\"> B/ Data extraction </font></span>\n",
    "### <font color=#4424D6> I. Time series extraction - Target </font>\n"
   ]
  },
  {
   "cell_type": "code",
   "execution_count": 22,
   "metadata": {},
   "outputs": [
    {
     "name": "stderr",
     "output_type": "stream",
     "text": [
      "data extracted:   0%|          | 0/2 [00:00<?, ?it/s]"
     ]
    },
    {
     "name": "stdout",
     "output_type": "stream",
     "text": [
      "Target extracted in  239.94670343399048 seconds\n",
      "iCAP_z_C1\n"
     ]
    },
    {
     "name": "stderr",
     "output_type": "stream",
     "text": [
      "data extracted:  50%|█████     | 1/2 [10:43<10:43, 643.47s/it]"
     ]
    },
    {
     "name": "stdout",
     "output_type": "stream",
     "text": [
      "Seeds extracted in  643.3858342170715 seconds\n",
      "iCAP_z_C2\n"
     ]
    },
    {
     "name": "stderr",
     "output_type": "stream",
     "text": [
      "data extracted: 100%|██████████| 2/2 [21:32<00:00, 646.39s/it]"
     ]
    },
    {
     "name": "stdout",
     "output_type": "stream",
     "text": [
      "Seeds extracted in  649.1074676513672 seconds\n",
      "Outputs are organized as:\n",
      "1: timeseries_target={'raw':[],'zscored':[],'mean':[],'zmean':[],'PC1':[]}\n",
      "2: timeseries_seeds={'raw':[],'zscored':[],'mean':[],'zmean':[],'PC1':[]}\n"
     ]
    },
    {
     "name": "stderr",
     "output_type": "stream",
     "text": [
      "\n"
     ]
    }
   ],
   "source": [
    "target_timeseries,seeds_timeseries = seed2voxels.extract_data(redo=True,n_jobs=8) "
   ]
  },
  {
   "cell_type": "markdown",
   "metadata": {},
   "source": [
    "## <font color=#B2D732> <span style=\"background-color: #4424D6\"> C/ Correlation analysis"
   ]
  },
  {
   "cell_type": "code",
   "execution_count": 23,
   "metadata": {},
   "outputs": [],
   "source": [
    "output_dir={};output_file={}; \n",
    "for seed_name in config[\"seeds\"][\"seed_names\"]:\n",
    "    output_dir[seed_name]=config['main_dir'] + config['seed2vox_dir'] + '/1_first_level/' + seed_name + '/' + config[\"targeted_voxels\"][\"target_name\"]+ '_fc_maps/Corr/'\n",
    "    if not os.path.exists(output_dir[seed_name]):\n",
    "        os.mkdir(output_dir[seed_name])\n",
    "    \n",
    "    output_file[seed_name]=  output_dir[seed_name] +'/bi-corr_' + str(len(config['list_subjects'])) + 'subjects_seed_' + seed_name \n",
    "    \n",
    "    # run correlation analysis\n",
    "    corr=seed2voxels.correlation_maps(seeds_timeseries[\"zmean\"][seed_name],\n",
    "                                      target_timeseries[\"zscored\"],\n",
    "                                      output_img=output_file[seed_name],\n",
    "                                      Fisher=True,\n",
    "                                      partial=False,\n",
    "                                      save_maps=True,\n",
    "                                      smoothing_output=None,\n",
    "                                      redo=True,\n",
    "                                      n_jobs=8)\n",
    "\n",
    "    #calculate the mean across participant\n",
    "    string=\"fslmaths \" +output_file[seed_name] + \" -Tmean \" + output_file[seed_name].split(\".\")[0] + \"_mean.nii.gz\"\n",
    "    os.system(string)\n",
    "   "
   ]
  },
  {
   "cell_type": "markdown",
   "metadata": {},
   "source": [
    "## <font color=#B2D732> <span style=\"background-color: #4424D6\"> D/ Mutual information"
   ]
  },
  {
   "cell_type": "code",
   "execution_count": 57,
   "metadata": {},
   "outputs": [
    {
     "name": "stdout",
     "output_type": "stream",
     "text": [
      "/media/miplab-nas2/Data3/BMPD/hc_project//brain_spine/results/seed_to_voxels//1_first_level/M1infmidsup/C1C7_gmwm_fc_maps/MI/mi_sub-A007.nii.gz\n",
      "/media/miplab-nas2/Data3/BMPD/hc_project//brain_spine/results/seed_to_voxels//1_first_level/M1infmidsup/C1C7_gmwm_fc_maps/MI/mi_sub-P099.nii.gz\n",
      "/media/miplab-nas2/Data3/BMPD/hc_project//brain_spine/results/seed_to_voxels//1_first_level/M1infmidsup/C1C7_gmwm_fc_maps/MI/mi_sub-A009.nii.gz\n",
      "/media/miplab-nas2/Data3/BMPD/hc_project//brain_spine/results/seed_to_voxels//1_first_level/M1infmidsup/C1C7_gmwm_fc_maps/MI/mi_sub-P030.nii.gz\n",
      "/media/miplab-nas2/Data3/BMPD/hc_project//brain_spine/results/seed_to_voxels//1_first_level/M1infmidsup/C1C7_gmwm_fc_maps/MI/mi_sub-A011.nii.gz\n",
      "/media/miplab-nas2/Data3/BMPD/hc_project//brain_spine/results/seed_to_voxels//1_first_level/M1infmidsup/C1C7_gmwm_fc_maps/MI/mi_sub-A013.nii.gz\n",
      "/media/miplab-nas2/Data3/BMPD/hc_project//brain_spine/results/seed_to_voxels//1_first_level/M1infmidsup/C1C7_gmwm_fc_maps/MI/mi_sub-A008.nii.gz\n",
      "/media/miplab-nas2/Data3/BMPD/hc_project//brain_spine/results/seed_to_voxels//1_first_level/M1infmidsup/C1C7_gmwm_fc_maps/MI/mi_sub-A006.nii.gz\n",
      "/media/miplab-nas2/Data3/BMPD/hc_project//brain_spine/results/seed_to_voxels//1_first_level/M1infmidsup/C1C7_gmwm_fc_maps/MI/mi_sub-A023.nii.gz\n",
      "/media/miplab-nas2/Data3/BMPD/hc_project//brain_spine/results/seed_to_voxels//1_first_level/M1infmidsup/C1C7_gmwm_fc_maps/MI/mi_sub-A025.nii.gz\n",
      "/media/miplab-nas2/Data3/BMPD/hc_project//brain_spine/results/seed_to_voxels//1_first_level/M1infmidsup/C1C7_gmwm_fc_maps/MI/mi_sub-A024.nii.gz\n",
      "/media/miplab-nas2/Data3/BMPD/hc_project//brain_spine/results/seed_to_voxels//1_first_level/M1infmidsup/C1C7_gmwm_fc_maps/MI/mi_sub-A026.nii.gz\n",
      "/media/miplab-nas2/Data3/BMPD/hc_project//brain_spine/results/seed_to_voxels//1_first_level/M1infmidsup/C1C7_gmwm_fc_maps/MI/mi_sub-A027.nii.gz\n",
      "/media/miplab-nas2/Data3/BMPD/hc_project//brain_spine/results/seed_to_voxels//1_first_level/M1infmidsup/C1C7_gmwm_fc_maps/MI/mi_sub-A028.nii.gz\n",
      "/media/miplab-nas2/Data3/BMPD/hc_project//brain_spine/results/seed_to_voxels//1_first_level/M1infmidsup/C1C7_gmwm_fc_maps/MI/mi_sub-A029.nii.gz\n",
      "/media/miplab-nas2/Data3/BMPD/hc_project//brain_spine/results/seed_to_voxels//1_first_level/M1infmidsup/C1C7_gmwm_fc_maps/MI/mi_sub-A030.nii.gz\n",
      "/media/miplab-nas2/Data3/BMPD/hc_project//brain_spine/results/seed_to_voxels//1_first_level/M1infmidsup/C1C7_gmwm_fc_maps/MI/mi_sub-A032.nii.gz\n",
      "/media/miplab-nas2/Data3/BMPD/hc_project//brain_spine/results/seed_to_voxels//1_first_level/M1infmidsup/C1C7_gmwm_fc_maps/MI/mi_sub-A034.nii.gz\n",
      "/media/miplab-nas2/Data3/BMPD/hc_project//brain_spine/results/seed_to_voxels//1_first_level/M1infmidsup/C1C7_gmwm_fc_maps/MI/mi_sub-A033.nii.gz\n",
      "/media/miplab-nas2/Data3/BMPD/hc_project//brain_spine/results/seed_to_voxels//1_first_level/M1infmidsup/C1C7_gmwm_fc_maps/MI/mi_sub-A036.nii.gz\n",
      "/media/miplab-nas2/Data3/BMPD/hc_project//brain_spine/results/seed_to_voxels//1_first_level/M1infmidsup/C1C7_gmwm_fc_maps/MI/mi_sub-A037.nii.gz\n",
      "/media/miplab-nas2/Data3/BMPD/hc_project//brain_spine/results/seed_to_voxels//1_first_level/M1infmidsup/C1C7_gmwm_fc_maps/MI/mi_sub-A038.nii.gz\n",
      "/media/miplab-nas2/Data3/BMPD/hc_project//brain_spine/results/seed_to_voxels//1_first_level/M1infmidsup/C1C7_gmwm_fc_maps/MI/mi_sub-A043.nii.gz\n",
      "/media/miplab-nas2/Data3/BMPD/hc_project//brain_spine/results/seed_to_voxels//1_first_level/M1infmidsup/C1C7_gmwm_fc_maps/MI/mi_sub-A039.nii.gz\n",
      "/media/miplab-nas2/Data3/BMPD/hc_project//brain_spine/results/seed_to_voxels//1_first_level/M1infmidsup/C1C7_gmwm_fc_maps/MI/mi_sub-A044.nii.gz\n",
      "/media/miplab-nas2/Data3/BMPD/hc_project//brain_spine/results/seed_to_voxels//1_first_level/M1infmidsup/C1C7_gmwm_fc_maps/MI/mi_sub-A046.nii.gz\n",
      "/media/miplab-nas2/Data3/BMPD/hc_project//brain_spine/results/seed_to_voxels//1_first_level/M1infmidsup/C1C7_gmwm_fc_maps/MI/mi_sub-A045.nii.gz\n",
      "/media/miplab-nas2/Data3/BMPD/hc_project//brain_spine/results/seed_to_voxels//1_first_level/M1infmidsup/C1C7_gmwm_fc_maps/MI/mi_sub-A048.nii.gz\n",
      "/media/miplab-nas2/Data3/BMPD/hc_project//brain_spine/results/seed_to_voxels//1_first_level/M1infmidsup/C1C7_gmwm_fc_maps/MI/mi_sub-A050.nii.gz\n",
      "/media/miplab-nas2/Data3/BMPD/hc_project//brain_spine/results/seed_to_voxels//1_first_level/M1infmidsup/C1C7_gmwm_fc_maps/MI/mi_sub-A051.nii.gz\n",
      "/media/miplab-nas2/Data3/BMPD/hc_project//brain_spine/results/seed_to_voxels//1_first_level/M1infmidsup/C1C7_gmwm_fc_maps/MI/mi_sub-A052.nii.gz\n"
     ]
    }
   ],
   "source": [
    "output_dir={};output_file={};\n",
    "for seed_name in config[\"seeds\"][\"seed_names\"]:\n",
    "    output_dir[seed_name]=config['main_dir'] + config['seed2vox_dir'] + '/1_first_level/' + seed_name + '/' + config[\"targeted_voxels\"][\"target_name\"]+ '_fc_maps/MI/'\n",
    "   \n",
    "    if not os.path.exists(output_dir[seed_name]):\n",
    "            os.mkdir(output_dir[seed_name])\n",
    "    \n",
    "    output_file[seed_name]=  output_dir[seed_name] +'/mi_' + str(len(config['list_subjects'])) + 'subjects_seed_' + seed_name + '_ss_z'\n",
    "  \n",
    "    \n",
    "    mi=seed2voxels.mutual_info_maps(seeds_timeseries[\"zmean\"][seed_name],\n",
    "                                    target_timeseries[\"zscored\"],\n",
    "                                    output_img=output_file[seed_name],\n",
    "                                    save_maps=True,\n",
    "                                    smoothing_output=[6,6,6],redo=True, n_jobs=8)\n",
    "    \n",
    "    #calculate the mean across participant\n",
    "    string=\"fslmaths \" +output_file[seed_name] + \" -Tmean \" + output_file[seed_name].split(\".\")[0] + \"_mean.nii.gz\"\n",
    "    os.system(string)"
   ]
  },
  {
   "cell_type": "markdown",
   "metadata": {},
   "source": [
    "## <font color=#B2D732> <span style=\"background-color: #4424D6\"> D/ Distance correlation"
   ]
  },
  {
   "cell_type": "code",
   "execution_count": 14,
   "metadata": {},
   "outputs": [
    {
     "name": "stderr",
     "output_type": "stream",
     "text": [
      "/home/kinany/anaconda3/lib/python3.9/site-packages/outdated/utils.py:14: OutdatedCacheFailedWarning: Failed to use cache while checking for outdated package.\n",
      "Set the environment variable OUTDATED_RAISE_EXCEPTION=1 for a full traceback.\n",
      "Set the environment variable OUTDATED_IGNORE=1 to disable these warnings.\n",
      "  return warn(\n",
      "Distance correlation-based Estimator (mi_type=cc, implementation=dcor)\n",
      "/home/kinany/anaconda3/lib/python3.9/site-packages/dcor/_fast_dcov_avl.py:554: UserWarning: Falling back to uncompiled AVL fast distance covariance terms because of TypeError exception raised: No matching definition for argument type(s) readonly array(float32, 1d, A), array(float64, 1d, C), bool. Rembember: only floating point values can be used in the compiled implementations.\n",
      "  warnings.warn(\n"
     ]
    },
    {
     "name": "stdout",
     "output_type": "stream",
     "text": [
      "/media/miplab-nas2/Data3/BMPD/hc_project//brain_spine/results/seed_to_voxels//1_first_level/icap_C1/MNI_GM_2mm_fc_maps/dCorr/mi_sub-A006.nii.gz\n"
     ]
    },
    {
     "name": "stderr",
     "output_type": "stream",
     "text": [
      "Distance correlation-based Estimator (mi_type=cc, implementation=dcor)\n"
     ]
    },
    {
     "name": "stdout",
     "output_type": "stream",
     "text": [
      "/media/miplab-nas2/Data3/BMPD/hc_project//brain_spine/results/seed_to_voxels//1_first_level/icap_C2/MNI_GM_2mm_fc_maps/dCorr/mi_sub-A006.nii.gz\n"
     ]
    },
    {
     "name": "stderr",
     "output_type": "stream",
     "text": [
      "Distance correlation-based Estimator (mi_type=cc, implementation=dcor)\n"
     ]
    },
    {
     "name": "stdout",
     "output_type": "stream",
     "text": [
      "/media/miplab-nas2/Data3/BMPD/hc_project//brain_spine/results/seed_to_voxels//1_first_level/icap_C3/MNI_GM_2mm_fc_maps/dCorr/mi_sub-A006.nii.gz\n"
     ]
    },
    {
     "name": "stderr",
     "output_type": "stream",
     "text": [
      "Distance correlation-based Estimator (mi_type=cc, implementation=dcor)\n"
     ]
    },
    {
     "name": "stdout",
     "output_type": "stream",
     "text": [
      "/media/miplab-nas2/Data3/BMPD/hc_project//brain_spine/results/seed_to_voxels//1_first_level/icap_C4/MNI_GM_2mm_fc_maps/dCorr/mi_sub-A006.nii.gz\n"
     ]
    },
    {
     "name": "stderr",
     "output_type": "stream",
     "text": [
      "Distance correlation-based Estimator (mi_type=cc, implementation=dcor)\n"
     ]
    },
    {
     "name": "stdout",
     "output_type": "stream",
     "text": [
      "/media/miplab-nas2/Data3/BMPD/hc_project//brain_spine/results/seed_to_voxels//1_first_level/icap_C5/MNI_GM_2mm_fc_maps/dCorr/mi_sub-A006.nii.gz\n"
     ]
    },
    {
     "name": "stderr",
     "output_type": "stream",
     "text": [
      "/home/kinany/anaconda3/lib/python3.9/site-packages/outdated/utils.py:14: OutdatedCacheFailedWarning: Failed to use cache while checking for outdated package.\n",
      "Set the environment variable OUTDATED_RAISE_EXCEPTION=1 for a full traceback.\n",
      "Set the environment variable OUTDATED_IGNORE=1 to disable these warnings.\n",
      "  return warn(\n",
      "Distance correlation-based Estimator (mi_type=cc, implementation=dcor)\n",
      "/home/kinany/anaconda3/lib/python3.9/site-packages/dcor/_fast_dcov_avl.py:554: UserWarning: Falling back to uncompiled AVL fast distance covariance terms because of TypeError exception raised: No matching definition for argument type(s) readonly array(float32, 1d, A), array(float64, 1d, C), bool. Rembember: only floating point values can be used in the compiled implementations.\n",
      "  warnings.warn(\n"
     ]
    },
    {
     "name": "stdout",
     "output_type": "stream",
     "text": [
      "/media/miplab-nas2/Data3/BMPD/hc_project//brain_spine/results/seed_to_voxels//1_first_level/icap_C6/MNI_GM_2mm_fc_maps/dCorr/mi_sub-A006.nii.gz\n"
     ]
    },
    {
     "name": "stderr",
     "output_type": "stream",
     "text": [
      "Distance correlation-based Estimator (mi_type=cc, implementation=dcor)\n"
     ]
    },
    {
     "name": "stdout",
     "output_type": "stream",
     "text": [
      "/media/miplab-nas2/Data3/BMPD/hc_project//brain_spine/results/seed_to_voxels//1_first_level/icap_C7/MNI_GM_2mm_fc_maps/dCorr/mi_sub-A006.nii.gz\n"
     ]
    }
   ],
   "source": [
    "output_dir={};output_file={};\n",
    "for seed_name in config[\"seeds\"][\"seed_names\"]:\n",
    "    \n",
    "    \n",
    "    output_dir[seed_name]=config['main_dir'] + config['seed2vox_dir'] + '/1_first_level/' + seed_name + '/' + config[\"targeted_voxels\"][\"target_name\"]+ '_fc_maps/dCorr/'\n",
    "   \n",
    "    if not os.path.exists(output_dir[seed_name]):\n",
    "            os.mkdir(output_dir[seed_name])\n",
    "    \n",
    "    output_file[seed_name]=  output_dir[seed_name] +'/dCorr_' + str(len(config['list_subjects'])) + 'subjects_seed_' + seed_name.split('_')[-1] + '_s_z'\n",
    "  \n",
    "    dist_corr=seed2voxels.nonlinear_maps(seeds_timeseries[\"zmean\"][seed_name],\n",
    "                                    target_timeseries[\"zscored\"],\n",
    "                                    metric=\"distCorr\",\n",
    "                                    output_img=output_file[seed_name],\n",
    "                                    save_maps=True,\n",
    "                                    smoothing_output=None,redo=True, n_jobs=8)\n",
    "    \n",
    "    #calculate the mean across participant\n",
    "    string=\"fslmaths \" +output_file[seed_name] + \" -Tmean \" + output_file[seed_name].split(\".\")[0] + \"_mean.nii.gz\"\n",
    "    os.system(string)"
   ]
  },
  {
   "cell_type": "markdown",
   "metadata": {},
   "source": [
    "## <font color=#B2D732> <span style=\"background-color: #4424D6\"> F/ DTW"
   ]
  },
  {
   "cell_type": "code",
   "execution_count": 26,
   "metadata": {},
   "outputs": [
    {
     "name": "stdout",
     "output_type": "stream",
     "text": [
      "/media/miplab-nas2/Data3/BMPD/hc_project//brain_spine/results/seed_to_voxels//1_first_level/C1C7_D_gmwm/MNI_GM_3mm_fc_maps/DTW/mi_sub-A006.nii.gz\n",
      "/media/miplab-nas2/Data3/BMPD/hc_project//brain_spine/results/seed_to_voxels//1_first_level/C1C7_D_gmwm/MNI_GM_3mm_fc_maps/DTW/mi_sub-A013.nii.gz\n",
      "/media/miplab-nas2/Data3/BMPD/hc_project//brain_spine/results/seed_to_voxels//1_first_level/C1C7_D_gmwm/MNI_GM_3mm_fc_maps/DTW/mi_sub-P030.nii.gz\n",
      "/media/miplab-nas2/Data3/BMPD/hc_project//brain_spine/results/seed_to_voxels//1_first_level/C1C7_D_gmwm/MNI_GM_3mm_fc_maps/DTW/mi_sub-P099.nii.gz\n",
      "/media/miplab-nas2/Data3/BMPD/hc_project//brain_spine/results/seed_to_voxels//1_first_level/C1C7_D_gmwm/MNI_GM_3mm_fc_maps/DTW/mi_sub-A009.nii.gz\n",
      "/media/miplab-nas2/Data3/BMPD/hc_project//brain_spine/results/seed_to_voxels//1_first_level/C1C7_D_gmwm/MNI_GM_3mm_fc_maps/DTW/mi_sub-A008.nii.gz\n",
      "/media/miplab-nas2/Data3/BMPD/hc_project//brain_spine/results/seed_to_voxels//1_first_level/C1C7_D_gmwm/MNI_GM_3mm_fc_maps/DTW/mi_sub-A007.nii.gz\n",
      "/media/miplab-nas2/Data3/BMPD/hc_project//brain_spine/results/seed_to_voxels//1_first_level/C1C7_D_gmwm/MNI_GM_3mm_fc_maps/DTW/mi_sub-A011.nii.gz\n",
      "/media/miplab-nas2/Data3/BMPD/hc_project//brain_spine/results/seed_to_voxels//1_first_level/C1C7_D_gmwm/MNI_GM_3mm_fc_maps/DTW/mi_sub-A023.nii.gz\n",
      "/media/miplab-nas2/Data3/BMPD/hc_project//brain_spine/results/seed_to_voxels//1_first_level/C1C7_D_gmwm/MNI_GM_3mm_fc_maps/DTW/mi_sub-A028.nii.gz\n",
      "/media/miplab-nas2/Data3/BMPD/hc_project//brain_spine/results/seed_to_voxels//1_first_level/C1C7_D_gmwm/MNI_GM_3mm_fc_maps/DTW/mi_sub-A024.nii.gz\n",
      "/media/miplab-nas2/Data3/BMPD/hc_project//brain_spine/results/seed_to_voxels//1_first_level/C1C7_D_gmwm/MNI_GM_3mm_fc_maps/DTW/mi_sub-A025.nii.gz\n",
      "/media/miplab-nas2/Data3/BMPD/hc_project//brain_spine/results/seed_to_voxels//1_first_level/C1C7_D_gmwm/MNI_GM_3mm_fc_maps/DTW/mi_sub-A026.nii.gz\n",
      "/media/miplab-nas2/Data3/BMPD/hc_project//brain_spine/results/seed_to_voxels//1_first_level/C1C7_D_gmwm/MNI_GM_3mm_fc_maps/DTW/mi_sub-A027.nii.gz\n",
      "/media/miplab-nas2/Data3/BMPD/hc_project//brain_spine/results/seed_to_voxels//1_first_level/C1C7_D_gmwm/MNI_GM_3mm_fc_maps/DTW/mi_sub-A029.nii.gz\n",
      "/media/miplab-nas2/Data3/BMPD/hc_project//brain_spine/results/seed_to_voxels//1_first_level/C1C7_D_gmwm/MNI_GM_3mm_fc_maps/DTW/mi_sub-A030.nii.gz\n",
      "/media/miplab-nas2/Data3/BMPD/hc_project//brain_spine/results/seed_to_voxels//1_first_level/C1C7_D_gmwm/MNI_GM_3mm_fc_maps/DTW/mi_sub-A032.nii.gz\n",
      "/media/miplab-nas2/Data3/BMPD/hc_project//brain_spine/results/seed_to_voxels//1_first_level/C1C7_D_gmwm/MNI_GM_3mm_fc_maps/DTW/mi_sub-A033.nii.gz\n",
      "/media/miplab-nas2/Data3/BMPD/hc_project//brain_spine/results/seed_to_voxels//1_first_level/C1C7_D_gmwm/MNI_GM_3mm_fc_maps/DTW/mi_sub-A038.nii.gz\n",
      "/media/miplab-nas2/Data3/BMPD/hc_project//brain_spine/results/seed_to_voxels//1_first_level/C1C7_D_gmwm/MNI_GM_3mm_fc_maps/DTW/mi_sub-A034.nii.gz\n",
      "/media/miplab-nas2/Data3/BMPD/hc_project//brain_spine/results/seed_to_voxels//1_first_level/C1C7_D_gmwm/MNI_GM_3mm_fc_maps/DTW/mi_sub-A036.nii.gz\n",
      "/media/miplab-nas2/Data3/BMPD/hc_project//brain_spine/results/seed_to_voxels//1_first_level/C1C7_D_gmwm/MNI_GM_3mm_fc_maps/DTW/mi_sub-A037.nii.gz\n",
      "/media/miplab-nas2/Data3/BMPD/hc_project//brain_spine/results/seed_to_voxels//1_first_level/C1C7_D_gmwm/MNI_GM_3mm_fc_maps/DTW/mi_sub-A039.nii.gz\n",
      "/media/miplab-nas2/Data3/BMPD/hc_project//brain_spine/results/seed_to_voxels//1_first_level/C1C7_D_gmwm/MNI_GM_3mm_fc_maps/DTW/mi_sub-A043.nii.gz\n",
      "/media/miplab-nas2/Data3/BMPD/hc_project//brain_spine/results/seed_to_voxels//1_first_level/C1C7_D_gmwm/MNI_GM_3mm_fc_maps/DTW/mi_sub-A045.nii.gz\n",
      "/media/miplab-nas2/Data3/BMPD/hc_project//brain_spine/results/seed_to_voxels//1_first_level/C1C7_D_gmwm/MNI_GM_3mm_fc_maps/DTW/mi_sub-A044.nii.gz\n",
      "/media/miplab-nas2/Data3/BMPD/hc_project//brain_spine/results/seed_to_voxels//1_first_level/C1C7_D_gmwm/MNI_GM_3mm_fc_maps/DTW/mi_sub-A046.nii.gz\n",
      "/media/miplab-nas2/Data3/BMPD/hc_project//brain_spine/results/seed_to_voxels//1_first_level/C1C7_D_gmwm/MNI_GM_3mm_fc_maps/DTW/mi_sub-A048.nii.gz\n",
      "/media/miplab-nas2/Data3/BMPD/hc_project//brain_spine/results/seed_to_voxels//1_first_level/C1C7_D_gmwm/MNI_GM_3mm_fc_maps/DTW/mi_sub-A050.nii.gz\n",
      "/media/miplab-nas2/Data3/BMPD/hc_project//brain_spine/results/seed_to_voxels//1_first_level/C1C7_D_gmwm/MNI_GM_3mm_fc_maps/DTW/mi_sub-A051.nii.gz\n",
      "/media/miplab-nas2/Data3/BMPD/hc_project//brain_spine/results/seed_to_voxels//1_first_level/C1C7_D_gmwm/MNI_GM_3mm_fc_maps/DTW/mi_sub-A052.nii.gz\n",
      "/media/miplab-nas2/Data3/BMPD/hc_project//brain_spine/results/seed_to_voxels//1_first_level/C1C7_V_gmwm/MNI_GM_3mm_fc_maps/DTW/mi_sub-A007.nii.gz\n",
      "/media/miplab-nas2/Data3/BMPD/hc_project//brain_spine/results/seed_to_voxels//1_first_level/C1C7_V_gmwm/MNI_GM_3mm_fc_maps/DTW/mi_sub-A006.nii.gz\n",
      "/media/miplab-nas2/Data3/BMPD/hc_project//brain_spine/results/seed_to_voxels//1_first_level/C1C7_V_gmwm/MNI_GM_3mm_fc_maps/DTW/mi_sub-A013.nii.gz\n",
      "/media/miplab-nas2/Data3/BMPD/hc_project//brain_spine/results/seed_to_voxels//1_first_level/C1C7_V_gmwm/MNI_GM_3mm_fc_maps/DTW/mi_sub-A011.nii.gz\n",
      "/media/miplab-nas2/Data3/BMPD/hc_project//brain_spine/results/seed_to_voxels//1_first_level/C1C7_V_gmwm/MNI_GM_3mm_fc_maps/DTW/mi_sub-A009.nii.gz\n",
      "/media/miplab-nas2/Data3/BMPD/hc_project//brain_spine/results/seed_to_voxels//1_first_level/C1C7_V_gmwm/MNI_GM_3mm_fc_maps/DTW/mi_sub-P030.nii.gz\n",
      "/media/miplab-nas2/Data3/BMPD/hc_project//brain_spine/results/seed_to_voxels//1_first_level/C1C7_V_gmwm/MNI_GM_3mm_fc_maps/DTW/mi_sub-A008.nii.gz\n",
      "/media/miplab-nas2/Data3/BMPD/hc_project//brain_spine/results/seed_to_voxels//1_first_level/C1C7_V_gmwm/MNI_GM_3mm_fc_maps/DTW/mi_sub-P099.nii.gz\n",
      "/media/miplab-nas2/Data3/BMPD/hc_project//brain_spine/results/seed_to_voxels//1_first_level/C1C7_V_gmwm/MNI_GM_3mm_fc_maps/DTW/mi_sub-A023.nii.gz\n",
      "/media/miplab-nas2/Data3/BMPD/hc_project//brain_spine/results/seed_to_voxels//1_first_level/C1C7_V_gmwm/MNI_GM_3mm_fc_maps/DTW/mi_sub-A024.nii.gz\n",
      "/media/miplab-nas2/Data3/BMPD/hc_project//brain_spine/results/seed_to_voxels//1_first_level/C1C7_V_gmwm/MNI_GM_3mm_fc_maps/DTW/mi_sub-A025.nii.gz\n",
      "/media/miplab-nas2/Data3/BMPD/hc_project//brain_spine/results/seed_to_voxels//1_first_level/C1C7_V_gmwm/MNI_GM_3mm_fc_maps/DTW/mi_sub-A026.nii.gz\n",
      "/media/miplab-nas2/Data3/BMPD/hc_project//brain_spine/results/seed_to_voxels//1_first_level/C1C7_V_gmwm/MNI_GM_3mm_fc_maps/DTW/mi_sub-A027.nii.gz\n",
      "/media/miplab-nas2/Data3/BMPD/hc_project//brain_spine/results/seed_to_voxels//1_first_level/C1C7_V_gmwm/MNI_GM_3mm_fc_maps/DTW/mi_sub-A028.nii.gz\n",
      "/media/miplab-nas2/Data3/BMPD/hc_project//brain_spine/results/seed_to_voxels//1_first_level/C1C7_V_gmwm/MNI_GM_3mm_fc_maps/DTW/mi_sub-A029.nii.gz\n",
      "/media/miplab-nas2/Data3/BMPD/hc_project//brain_spine/results/seed_to_voxels//1_first_level/C1C7_V_gmwm/MNI_GM_3mm_fc_maps/DTW/mi_sub-A030.nii.gz\n",
      "/media/miplab-nas2/Data3/BMPD/hc_project//brain_spine/results/seed_to_voxels//1_first_level/C1C7_V_gmwm/MNI_GM_3mm_fc_maps/DTW/mi_sub-A032.nii.gz\n",
      "/media/miplab-nas2/Data3/BMPD/hc_project//brain_spine/results/seed_to_voxels//1_first_level/C1C7_V_gmwm/MNI_GM_3mm_fc_maps/DTW/mi_sub-A033.nii.gz\n",
      "/media/miplab-nas2/Data3/BMPD/hc_project//brain_spine/results/seed_to_voxels//1_first_level/C1C7_V_gmwm/MNI_GM_3mm_fc_maps/DTW/mi_sub-A036.nii.gz\n",
      "/media/miplab-nas2/Data3/BMPD/hc_project//brain_spine/results/seed_to_voxels//1_first_level/C1C7_V_gmwm/MNI_GM_3mm_fc_maps/DTW/mi_sub-A037.nii.gz\n",
      "/media/miplab-nas2/Data3/BMPD/hc_project//brain_spine/results/seed_to_voxels//1_first_level/C1C7_V_gmwm/MNI_GM_3mm_fc_maps/DTW/mi_sub-A034.nii.gz\n",
      "/media/miplab-nas2/Data3/BMPD/hc_project//brain_spine/results/seed_to_voxels//1_first_level/C1C7_V_gmwm/MNI_GM_3mm_fc_maps/DTW/mi_sub-A038.nii.gz\n",
      "/media/miplab-nas2/Data3/BMPD/hc_project//brain_spine/results/seed_to_voxels//1_first_level/C1C7_V_gmwm/MNI_GM_3mm_fc_maps/DTW/mi_sub-A039.nii.gz\n",
      "/media/miplab-nas2/Data3/BMPD/hc_project//brain_spine/results/seed_to_voxels//1_first_level/C1C7_V_gmwm/MNI_GM_3mm_fc_maps/DTW/mi_sub-A043.nii.gz\n",
      "/media/miplab-nas2/Data3/BMPD/hc_project//brain_spine/results/seed_to_voxels//1_first_level/C1C7_V_gmwm/MNI_GM_3mm_fc_maps/DTW/mi_sub-A044.nii.gz\n",
      "/media/miplab-nas2/Data3/BMPD/hc_project//brain_spine/results/seed_to_voxels//1_first_level/C1C7_V_gmwm/MNI_GM_3mm_fc_maps/DTW/mi_sub-A045.nii.gz\n",
      "/media/miplab-nas2/Data3/BMPD/hc_project//brain_spine/results/seed_to_voxels//1_first_level/C1C7_V_gmwm/MNI_GM_3mm_fc_maps/DTW/mi_sub-A046.nii.gz\n",
      "/media/miplab-nas2/Data3/BMPD/hc_project//brain_spine/results/seed_to_voxels//1_first_level/C1C7_V_gmwm/MNI_GM_3mm_fc_maps/DTW/mi_sub-A048.nii.gz\n",
      "/media/miplab-nas2/Data3/BMPD/hc_project//brain_spine/results/seed_to_voxels//1_first_level/C1C7_V_gmwm/MNI_GM_3mm_fc_maps/DTW/mi_sub-A050.nii.gz\n",
      "/media/miplab-nas2/Data3/BMPD/hc_project//brain_spine/results/seed_to_voxels//1_first_level/C1C7_V_gmwm/MNI_GM_3mm_fc_maps/DTW/mi_sub-A051.nii.gz\n",
      "/media/miplab-nas2/Data3/BMPD/hc_project//brain_spine/results/seed_to_voxels//1_first_level/C1C7_V_gmwm/MNI_GM_3mm_fc_maps/DTW/mi_sub-A052.nii.gz\n",
      "/media/miplab-nas2/Data3/BMPD/hc_project//brain_spine/results/seed_to_voxels//1_first_level/C1C7_L_gmwm/MNI_GM_3mm_fc_maps/DTW/mi_sub-A008.nii.gz\n",
      "/media/miplab-nas2/Data3/BMPD/hc_project//brain_spine/results/seed_to_voxels//1_first_level/C1C7_L_gmwm/MNI_GM_3mm_fc_maps/DTW/mi_sub-A011.nii.gz\n",
      "/media/miplab-nas2/Data3/BMPD/hc_project//brain_spine/results/seed_to_voxels//1_first_level/C1C7_L_gmwm/MNI_GM_3mm_fc_maps/DTW/mi_sub-A007.nii.gz\n",
      "/media/miplab-nas2/Data3/BMPD/hc_project//brain_spine/results/seed_to_voxels//1_first_level/C1C7_L_gmwm/MNI_GM_3mm_fc_maps/DTW/mi_sub-A006.nii.gz\n",
      "/media/miplab-nas2/Data3/BMPD/hc_project//brain_spine/results/seed_to_voxels//1_first_level/C1C7_L_gmwm/MNI_GM_3mm_fc_maps/DTW/mi_sub-A013.nii.gz\n",
      "/media/miplab-nas2/Data3/BMPD/hc_project//brain_spine/results/seed_to_voxels//1_first_level/C1C7_L_gmwm/MNI_GM_3mm_fc_maps/DTW/mi_sub-A009.nii.gz\n",
      "/media/miplab-nas2/Data3/BMPD/hc_project//brain_spine/results/seed_to_voxels//1_first_level/C1C7_L_gmwm/MNI_GM_3mm_fc_maps/DTW/mi_sub-P099.nii.gz\n",
      "/media/miplab-nas2/Data3/BMPD/hc_project//brain_spine/results/seed_to_voxels//1_first_level/C1C7_L_gmwm/MNI_GM_3mm_fc_maps/DTW/mi_sub-P030.nii.gz\n",
      "/media/miplab-nas2/Data3/BMPD/hc_project//brain_spine/results/seed_to_voxels//1_first_level/C1C7_L_gmwm/MNI_GM_3mm_fc_maps/DTW/mi_sub-A023.nii.gz\n",
      "/media/miplab-nas2/Data3/BMPD/hc_project//brain_spine/results/seed_to_voxels//1_first_level/C1C7_L_gmwm/MNI_GM_3mm_fc_maps/DTW/mi_sub-A024.nii.gz\n",
      "/media/miplab-nas2/Data3/BMPD/hc_project//brain_spine/results/seed_to_voxels//1_first_level/C1C7_L_gmwm/MNI_GM_3mm_fc_maps/DTW/mi_sub-A025.nii.gz\n",
      "/media/miplab-nas2/Data3/BMPD/hc_project//brain_spine/results/seed_to_voxels//1_first_level/C1C7_L_gmwm/MNI_GM_3mm_fc_maps/DTW/mi_sub-A027.nii.gz\n",
      "/media/miplab-nas2/Data3/BMPD/hc_project//brain_spine/results/seed_to_voxels//1_first_level/C1C7_L_gmwm/MNI_GM_3mm_fc_maps/DTW/mi_sub-A026.nii.gz\n",
      "/media/miplab-nas2/Data3/BMPD/hc_project//brain_spine/results/seed_to_voxels//1_first_level/C1C7_L_gmwm/MNI_GM_3mm_fc_maps/DTW/mi_sub-A028.nii.gz\n",
      "/media/miplab-nas2/Data3/BMPD/hc_project//brain_spine/results/seed_to_voxels//1_first_level/C1C7_L_gmwm/MNI_GM_3mm_fc_maps/DTW/mi_sub-A029.nii.gz\n",
      "/media/miplab-nas2/Data3/BMPD/hc_project//brain_spine/results/seed_to_voxels//1_first_level/C1C7_L_gmwm/MNI_GM_3mm_fc_maps/DTW/mi_sub-A030.nii.gz\n",
      "/media/miplab-nas2/Data3/BMPD/hc_project//brain_spine/results/seed_to_voxels//1_first_level/C1C7_L_gmwm/MNI_GM_3mm_fc_maps/DTW/mi_sub-A032.nii.gz\n",
      "/media/miplab-nas2/Data3/BMPD/hc_project//brain_spine/results/seed_to_voxels//1_first_level/C1C7_L_gmwm/MNI_GM_3mm_fc_maps/DTW/mi_sub-A033.nii.gz\n",
      "/media/miplab-nas2/Data3/BMPD/hc_project//brain_spine/results/seed_to_voxels//1_first_level/C1C7_L_gmwm/MNI_GM_3mm_fc_maps/DTW/mi_sub-A034.nii.gz\n",
      "/media/miplab-nas2/Data3/BMPD/hc_project//brain_spine/results/seed_to_voxels//1_first_level/C1C7_L_gmwm/MNI_GM_3mm_fc_maps/DTW/mi_sub-A036.nii.gz\n",
      "/media/miplab-nas2/Data3/BMPD/hc_project//brain_spine/results/seed_to_voxels//1_first_level/C1C7_L_gmwm/MNI_GM_3mm_fc_maps/DTW/mi_sub-A037.nii.gz\n",
      "/media/miplab-nas2/Data3/BMPD/hc_project//brain_spine/results/seed_to_voxels//1_first_level/C1C7_L_gmwm/MNI_GM_3mm_fc_maps/DTW/mi_sub-A038.nii.gz\n",
      "/media/miplab-nas2/Data3/BMPD/hc_project//brain_spine/results/seed_to_voxels//1_first_level/C1C7_L_gmwm/MNI_GM_3mm_fc_maps/DTW/mi_sub-A039.nii.gz\n",
      "/media/miplab-nas2/Data3/BMPD/hc_project//brain_spine/results/seed_to_voxels//1_first_level/C1C7_L_gmwm/MNI_GM_3mm_fc_maps/DTW/mi_sub-A043.nii.gz\n",
      "/media/miplab-nas2/Data3/BMPD/hc_project//brain_spine/results/seed_to_voxels//1_first_level/C1C7_L_gmwm/MNI_GM_3mm_fc_maps/DTW/mi_sub-A044.nii.gz\n",
      "/media/miplab-nas2/Data3/BMPD/hc_project//brain_spine/results/seed_to_voxels//1_first_level/C1C7_L_gmwm/MNI_GM_3mm_fc_maps/DTW/mi_sub-A045.nii.gz\n",
      "/media/miplab-nas2/Data3/BMPD/hc_project//brain_spine/results/seed_to_voxels//1_first_level/C1C7_L_gmwm/MNI_GM_3mm_fc_maps/DTW/mi_sub-A046.nii.gz\n",
      "/media/miplab-nas2/Data3/BMPD/hc_project//brain_spine/results/seed_to_voxels//1_first_level/C1C7_L_gmwm/MNI_GM_3mm_fc_maps/DTW/mi_sub-A048.nii.gz\n",
      "/media/miplab-nas2/Data3/BMPD/hc_project//brain_spine/results/seed_to_voxels//1_first_level/C1C7_L_gmwm/MNI_GM_3mm_fc_maps/DTW/mi_sub-A050.nii.gz\n",
      "/media/miplab-nas2/Data3/BMPD/hc_project//brain_spine/results/seed_to_voxels//1_first_level/C1C7_L_gmwm/MNI_GM_3mm_fc_maps/DTW/mi_sub-A051.nii.gz\n",
      "/media/miplab-nas2/Data3/BMPD/hc_project//brain_spine/results/seed_to_voxels//1_first_level/C1C7_L_gmwm/MNI_GM_3mm_fc_maps/DTW/mi_sub-A052.nii.gz\n",
      "/media/miplab-nas2/Data3/BMPD/hc_project//brain_spine/results/seed_to_voxels//1_first_level/C1C7_R_gmwm/MNI_GM_3mm_fc_maps/DTW/mi_sub-P030.nii.gz\n",
      "/media/miplab-nas2/Data3/BMPD/hc_project//brain_spine/results/seed_to_voxels//1_first_level/C1C7_R_gmwm/MNI_GM_3mm_fc_maps/DTW/mi_sub-A006.nii.gz\n",
      "/media/miplab-nas2/Data3/BMPD/hc_project//brain_spine/results/seed_to_voxels//1_first_level/C1C7_R_gmwm/MNI_GM_3mm_fc_maps/DTW/mi_sub-A008.nii.gz\n",
      "/media/miplab-nas2/Data3/BMPD/hc_project//brain_spine/results/seed_to_voxels//1_first_level/C1C7_R_gmwm/MNI_GM_3mm_fc_maps/DTW/mi_sub-A011.nii.gz\n",
      "/media/miplab-nas2/Data3/BMPD/hc_project//brain_spine/results/seed_to_voxels//1_first_level/C1C7_R_gmwm/MNI_GM_3mm_fc_maps/DTW/mi_sub-A009.nii.gz\n",
      "/media/miplab-nas2/Data3/BMPD/hc_project//brain_spine/results/seed_to_voxels//1_first_level/C1C7_R_gmwm/MNI_GM_3mm_fc_maps/DTW/mi_sub-A007.nii.gz\n",
      "/media/miplab-nas2/Data3/BMPD/hc_project//brain_spine/results/seed_to_voxels//1_first_level/C1C7_R_gmwm/MNI_GM_3mm_fc_maps/DTW/mi_sub-P099.nii.gz\n",
      "/media/miplab-nas2/Data3/BMPD/hc_project//brain_spine/results/seed_to_voxels//1_first_level/C1C7_R_gmwm/MNI_GM_3mm_fc_maps/DTW/mi_sub-A013.nii.gz\n",
      "/media/miplab-nas2/Data3/BMPD/hc_project//brain_spine/results/seed_to_voxels//1_first_level/C1C7_R_gmwm/MNI_GM_3mm_fc_maps/DTW/mi_sub-A023.nii.gz\n",
      "/media/miplab-nas2/Data3/BMPD/hc_project//brain_spine/results/seed_to_voxels//1_first_level/C1C7_R_gmwm/MNI_GM_3mm_fc_maps/DTW/mi_sub-A024.nii.gz\n",
      "/media/miplab-nas2/Data3/BMPD/hc_project//brain_spine/results/seed_to_voxels//1_first_level/C1C7_R_gmwm/MNI_GM_3mm_fc_maps/DTW/mi_sub-A032.nii.gz\n",
      "/media/miplab-nas2/Data3/BMPD/hc_project//brain_spine/results/seed_to_voxels//1_first_level/C1C7_R_gmwm/MNI_GM_3mm_fc_maps/DTW/mi_sub-A025.nii.gz\n",
      "/media/miplab-nas2/Data3/BMPD/hc_project//brain_spine/results/seed_to_voxels//1_first_level/C1C7_R_gmwm/MNI_GM_3mm_fc_maps/DTW/mi_sub-A026.nii.gz\n",
      "/media/miplab-nas2/Data3/BMPD/hc_project//brain_spine/results/seed_to_voxels//1_first_level/C1C7_R_gmwm/MNI_GM_3mm_fc_maps/DTW/mi_sub-A028.nii.gz\n",
      "/media/miplab-nas2/Data3/BMPD/hc_project//brain_spine/results/seed_to_voxels//1_first_level/C1C7_R_gmwm/MNI_GM_3mm_fc_maps/DTW/mi_sub-A029.nii.gz\n",
      "/media/miplab-nas2/Data3/BMPD/hc_project//brain_spine/results/seed_to_voxels//1_first_level/C1C7_R_gmwm/MNI_GM_3mm_fc_maps/DTW/mi_sub-A030.nii.gz\n",
      "/media/miplab-nas2/Data3/BMPD/hc_project//brain_spine/results/seed_to_voxels//1_first_level/C1C7_R_gmwm/MNI_GM_3mm_fc_maps/DTW/mi_sub-A027.nii.gz\n",
      "/media/miplab-nas2/Data3/BMPD/hc_project//brain_spine/results/seed_to_voxels//1_first_level/C1C7_R_gmwm/MNI_GM_3mm_fc_maps/DTW/mi_sub-A033.nii.gz\n",
      "/media/miplab-nas2/Data3/BMPD/hc_project//brain_spine/results/seed_to_voxels//1_first_level/C1C7_R_gmwm/MNI_GM_3mm_fc_maps/DTW/mi_sub-A034.nii.gz\n",
      "/media/miplab-nas2/Data3/BMPD/hc_project//brain_spine/results/seed_to_voxels//1_first_level/C1C7_R_gmwm/MNI_GM_3mm_fc_maps/DTW/mi_sub-A036.nii.gz\n",
      "/media/miplab-nas2/Data3/BMPD/hc_project//brain_spine/results/seed_to_voxels//1_first_level/C1C7_R_gmwm/MNI_GM_3mm_fc_maps/DTW/mi_sub-A037.nii.gz\n",
      "/media/miplab-nas2/Data3/BMPD/hc_project//brain_spine/results/seed_to_voxels//1_first_level/C1C7_R_gmwm/MNI_GM_3mm_fc_maps/DTW/mi_sub-A038.nii.gz\n",
      "/media/miplab-nas2/Data3/BMPD/hc_project//brain_spine/results/seed_to_voxels//1_first_level/C1C7_R_gmwm/MNI_GM_3mm_fc_maps/DTW/mi_sub-A039.nii.gz\n",
      "/media/miplab-nas2/Data3/BMPD/hc_project//brain_spine/results/seed_to_voxels//1_first_level/C1C7_R_gmwm/MNI_GM_3mm_fc_maps/DTW/mi_sub-A043.nii.gz\n",
      "/media/miplab-nas2/Data3/BMPD/hc_project//brain_spine/results/seed_to_voxels//1_first_level/C1C7_R_gmwm/MNI_GM_3mm_fc_maps/DTW/mi_sub-A044.nii.gz\n",
      "/media/miplab-nas2/Data3/BMPD/hc_project//brain_spine/results/seed_to_voxels//1_first_level/C1C7_R_gmwm/MNI_GM_3mm_fc_maps/DTW/mi_sub-A045.nii.gz\n",
      "/media/miplab-nas2/Data3/BMPD/hc_project//brain_spine/results/seed_to_voxels//1_first_level/C1C7_R_gmwm/MNI_GM_3mm_fc_maps/DTW/mi_sub-A046.nii.gz\n",
      "/media/miplab-nas2/Data3/BMPD/hc_project//brain_spine/results/seed_to_voxels//1_first_level/C1C7_R_gmwm/MNI_GM_3mm_fc_maps/DTW/mi_sub-A048.nii.gz\n",
      "/media/miplab-nas2/Data3/BMPD/hc_project//brain_spine/results/seed_to_voxels//1_first_level/C1C7_R_gmwm/MNI_GM_3mm_fc_maps/DTW/mi_sub-A051.nii.gz\n",
      "/media/miplab-nas2/Data3/BMPD/hc_project//brain_spine/results/seed_to_voxels//1_first_level/C1C7_R_gmwm/MNI_GM_3mm_fc_maps/DTW/mi_sub-A050.nii.gz\n",
      "/media/miplab-nas2/Data3/BMPD/hc_project//brain_spine/results/seed_to_voxels//1_first_level/C1C7_R_gmwm/MNI_GM_3mm_fc_maps/DTW/mi_sub-A052.nii.gz\n"
     ]
    }
   ],
   "source": [
    "output_dir={};output_file={};\n",
    "for seed_name in config[\"seeds\"][\"seed_names\"]:\n",
    "    output_dir[seed_name]=config['main_dir'] + config['seed2vox_dir'] + '/1_first_level/' + seed_name + '/' + config[\"targeted_voxels\"][\"target_name\"]+ '_fc_maps/DTW/'\n",
    "   \n",
    "    if not os.path.exists(output_dir[seed_name]):\n",
    "            os.mkdir(output_dir[seed_name])\n",
    "    \n",
    "    output_file[seed_name]=  output_dir[seed_name] +'/dtw_' + str(len(config['list_subjects'])) + 'subjects_seed_' + seed_name + '_ss'\n",
    "  \n",
    "    \n",
    "    dtw=seed2voxels.dtw_maps(seeds_timeseries[\"zmean\"][seed_name],\n",
    "                                    target_timeseries[\"zscored\"],\n",
    "                                    output_img=output_file[seed_name],\n",
    "                                    save_maps=True,\n",
    "                                    smoothing_output=None,redo=True, n_jobs=8)\n",
    "    \n",
    "    #calculate the mean across participant\n",
    "    string=\"fslmaths \" +output_file[seed_name] + \" -Tmean \" + output_file[seed_name].split(\".\")[0] + \"_mean.nii.gz\"\n",
    "    os.system(string)"
   ]
  },
  {
   "cell_type": "markdown",
   "metadata": {},
   "source": [
    "#### <font color=#4424D6> Two sample t-test"
   ]
  },
  {
   "cell_type": "code",
   "execution_count": null,
   "metadata": {},
   "outputs": [],
   "source": [
    "import shutil\n",
    "#1. select the analyses to compared\n",
    "#'spinalcord_GM-C4C5L','spinalcord_GM-C4C5R',\n",
    "#'spinalcord_GM-C6C8L','spinalcord_GM-C6C8R'\n",
    "        \n",
    "seed1='spinalcord_GM-C6C8R'\n",
    "seed2='spinalcord_GM-C6C8L'\n",
    "output_dir=config['main_dir'] + config['seed2vox_dir'] + '/2_second_level/'+seed1+'-'+seed2.split('-')[-1]\n",
    "if not os.path.exists(output_dir):\n",
    "    os.mkdir(output_dir)\n",
    "#2. merge the images from the 2 contrasts in one 4D image\n",
    "    run_proc('fslmerge -t {} {} {}'.format(output_dir + '/'+seed1+'-'+seed2.split('-')[-1]+'_images.nii', \n",
    "                                    config['main_dir'] + config['seed2vox_dir'] + '/1_first_level/' +seed1 + '/' + target_name[0].split('_')[0]+ '_fc_maps/21subjects_seed_'+seed1.split('_')[-1]+'_s_zcorr',\n",
    "                                    config['main_dir'] + config['seed2vox_dir'] + '/1_first_level/' +seed2 + '/' + target_name[0].split('_')[0]+ '_fc_maps/21subjects_seed_'+seed2.split('_')[-1]+'_s_zcorr'))\n",
    "\n",
    "#3. Run randomize\n",
    "    run_proc('randomise -i {} -o {} -d {} -t {} -e {} -m {} -v 5 -n 500  -T'.format(output_dir + '/'+seed1+'-'+seed2.split('-')[-1]+'_images.nii',\n",
    "                                                                                    output_dir + '/'+seed1+'-'+seed2.split('-')[-1],\n",
    "                                                                                    config['main_dir'] + config['seed2vox_dir'] + '/2_second_level/fsl_designs/2paired-t-test/design_group.mat',\n",
    "                                                                                    config['main_dir'] + config['seed2vox_dir'] + '/2_second_level/fsl_designs/2paired-t-test/design_group.con',\n",
    "                                                                                    config['main_dir'] + config['seed2vox_dir'] + '/2_second_level/fsl_designs/2paired-t-test/design_group.grp',\n",
    "                                                                                mask_target))"
   ]
  },
  {
   "cell_type": "code",
   "execution_count": null,
   "metadata": {},
   "outputs": [],
   "source": []
  },
  {
   "cell_type": "code",
   "execution_count": null,
   "metadata": {},
   "outputs": [],
   "source": [
    "input='/cerebro/cerebro1/dataset/bmpd/derivatives/HealthyControls_project/seed_to_voxels/masks/spinalcord_C1C8-L.nii.gz'\n",
    "mask='/cerebro/cerebro1/dataset/bmpd/derivatives/HealthyControls_project/seed_to_voxels/masks/spinalcord_GM-cord.nii.gz'\n",
    "output='/cerebro/cerebro1/dataset/bmpd/derivatives/HealthyControls_project/seed_to_voxels/masks/spinalcord_GM-L.nii.gz'\n",
    "run_proc('fslmaths {} -mas {} {}'.format(input,mask,output))"
   ]
  },
  {
   "cell_type": "code",
   "execution_count": null,
   "metadata": {},
   "outputs": [],
   "source": []
  }
 ],
 "metadata": {
  "kernelspec": {
   "display_name": "Python 3",
   "language": "python",
   "name": "python3"
  },
  "language_info": {
   "codemirror_mode": {
    "name": "ipython",
    "version": 3
   },
   "file_extension": ".py",
   "mimetype": "text/x-python",
   "name": "python",
   "nbconvert_exporter": "python",
   "pygments_lexer": "ipython3",
   "version": "3.6.9"
  }
 },
 "nbformat": 4,
 "nbformat_minor": 5
}
