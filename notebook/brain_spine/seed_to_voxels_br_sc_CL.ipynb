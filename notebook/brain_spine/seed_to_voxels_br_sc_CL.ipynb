{
 "cells": [
  {
   "cell_type": "markdown",
   "metadata": {},
   "source": [
    "## <font color=#B2D732> <span style=\"background-color: #4424D6\"> Imports"
   ]
  },
  {
   "cell_type": "code",
   "execution_count": 4,
   "metadata": {},
   "outputs": [],
   "source": [
    "import matplotlib\n",
    "matplotlib.use('TkAgg')\n",
    "import matplotlib.pyplot as plt\n",
    "plot_network(results=results, weights='max_te_lag', fdr=False)\n",
    "plt.show()"
   ]
  },
  {
   "cell_type": "code",
   "execution_count": 7,
   "metadata": {},
   "outputs": [
    {
     "ename": "AttributeError",
     "evalue": "'Data' object has no attribute 'Data'",
     "output_type": "error",
     "traceback": [
      "\u001b[0;31m---------------------------------------------------------------------------\u001b[0m",
      "\u001b[0;31mAttributeError\u001b[0m                            Traceback (most recent call last)",
      "\u001b[0;32m<ipython-input-7-a481c5789a20>\u001b[0m in \u001b[0;36m<module>\u001b[0;34m\u001b[0m\n\u001b[0;32m----> 1\u001b[0;31m \u001b[0mdata\u001b[0m\u001b[0;34m.\u001b[0m\u001b[0mData\u001b[0m\u001b[0;34m\u001b[0m\u001b[0;34m\u001b[0m\u001b[0m\n\u001b[0m",
      "\u001b[0;31mAttributeError\u001b[0m: 'Data' object has no attribute 'Data'"
     ]
    }
   ],
   "source": [
    "data.Data"
   ]
  },
  {
   "cell_type": "code",
   "execution_count": 9,
   "metadata": {},
   "outputs": [
    {
     "name": "stderr",
     "output_type": "stream",
     "text": [
      "/cerebro/cerebro1/dataset/bmpd/derivatives/thibault_test/code/toolbox/bmpd_python/lib/python3.6/site-packages/nilearn/__init__.py:69: FutureWarning: Python 3.6 support is deprecated and will be removed in release 0.10 of Nilearn. Consider switching to Python 3.8 or 3.9.\n",
      "  _python_deprecation_warnings()\n",
      "/cerebro/cerebro1/dataset/bmpd/derivatives/thibault_test/code/toolbox/bmpd_python/lib/python3.6/site-packages/outdated/utils.py:18: OutdatedPackageWarning: The package outdated is out of date. Your version is 0.2.1, the latest is 0.2.2.\n",
      "Set the environment variable OUTDATED_IGNORE=1 to disable these warnings.\n",
      "  **kwargs\n",
      "/cerebro/cerebro1/dataset/bmpd/derivatives/thibault_test/code/toolbox/bmpd_python/lib/python3.6/site-packages/outdated/utils.py:18: OutdatedPackageWarning: The package pingouin is out of date. Your version is 0.3.11, the latest is 0.5.3.\n",
      "Set the environment variable OUTDATED_IGNORE=1 to disable these warnings.\n",
      "  **kwargs\n"
     ]
    }
   ],
   "source": [
    "import sys,json\n",
    "import glob, os\n",
    "sys.path.append(\"/cerebro/cerebro1/dataset/bmpd/derivatives/HealthyControls_project/hc_project_analyses/code/\")\n",
    "\n",
    "from seed_to_voxels import Seed2voxels\n",
    "\n",
    "%matplotlib inline\n",
    "%load_ext autoreload\n",
    "%autoreload 2"
   ]
  },
  {
   "cell_type": "code",
   "execution_count": 10,
   "metadata": {},
   "outputs": [],
   "source": [
    "## <font color=#B2D732> <span style=\"background-color: #4424D6\"> A/ Initialization"
   ]
  },
  {
   "cell_type": "markdown",
   "metadata": {},
   "source": [
    " ### <font color=#4424D6> I. Configuration & parameters </font >"
   ]
  },
  {
   "cell_type": "code",
   "execution_count": 11,
   "metadata": {},
   "outputs": [],
   "source": [
    "# Load config file ------------------------------------------------------------\n",
    "with open('../../config/config_seed2voxels.json') as config_file: # the notebook should be in 'xx/notebook/' folder #config_proprio\n",
    "    config = json.load(config_file) # load config file should be open first and the path inside modified\n",
    "    #config['list_subjects']=config[\"list_subjects_younger\"]\n",
    "signal='raw'"
   ]
  },
  {
   "cell_type": "markdown",
   "metadata": {},
   "source": [
    "### <font color=#4424D6> II. Initialize class based on this </font>"
   ]
  },
  {
   "cell_type": "code",
   "execution_count": 12,
   "metadata": {},
   "outputs": [
    {
     "name": "stdout",
     "output_type": "stream",
     "text": [
      "Start the analysis on: 2 participants\n",
      "targeted voxel's mask: MNI_GM_3mm\n",
      "/cerebro/cerebro1/dataset/bmpd/derivatives/HealthyControls_project//hc_project_analyses/mask/spinalcord/iCAPs/thr2.5/spinalcord_C7.nii.gz\n"
     ]
    }
   ],
   "source": [
    "seed2voxels=Seed2voxels(config,signal) # initialize the function"
   ]
  },
  {
   "cell_type": "markdown",
   "metadata": {},
   "source": [
    "## <font color=#B2D732> <span style=\"background-color: #4424D6\"> B/ Data extraction </font></span>\n",
    "### <font color=#4424D6> I. Time series extraction - Target </font>\n"
   ]
  },
  {
   "cell_type": "code",
   "execution_count": 13,
   "metadata": {},
   "outputs": [
    {
     "name": "stderr",
     "output_type": "stream",
     "text": [
      "data extracted:   0%|          | 0/1 [00:00<?, ?it/s]"
     ]
    },
    {
     "name": "stdout",
     "output_type": "stream",
     "text": [
      "spinalcord_C7\n"
     ]
    },
    {
     "name": "stderr",
     "output_type": "stream",
     "text": [
      "data extracted: 100%|██████████| 1/1 [00:16<00:00, 16.63s/it]"
     ]
    },
    {
     "name": "stdout",
     "output_type": "stream",
     "text": [
      "Ouptuts have the following contain:\n",
      "1: timeseries_target={'raw':[],'zscored':[],'mean':[],'zmean':[],'PC1':[]}\n",
      "2: timeseries_seeds={'raw':[],'zscored':[],'mean':[],'zmean':[],'PC1':[]}\n"
     ]
    },
    {
     "name": "stderr",
     "output_type": "stream",
     "text": [
      "\n"
     ]
    }
   ],
   "source": [
    "target_timeseries,seeds_timeseries =seed2voxels.extract_data(redo=False,n_jobs=8) \n"
   ]
  },
  {
   "cell_type": "code",
   "execution_count": 17,
   "metadata": {},
   "outputs": [
    {
     "ename": "NameError",
     "evalue": "name 'Trajectory' is not defined",
     "output_type": "error",
     "traceback": [
      "\u001b[0;31m---------------------------------------------------------------------------\u001b[0m",
      "\u001b[0;31mNameError\u001b[0m                                 Traceback (most recent call last)",
      "\u001b[0;32m<ipython-input-17-2fd0386f6daf>\u001b[0m in \u001b[0;36m<module>\u001b[0;34m\u001b[0m\n\u001b[1;32m      1\u001b[0m \u001b[0;31m#target_timeseries[\"raw\"] #,seeds_timeseries\u001b[0m\u001b[0;34m\u001b[0m\u001b[0;34m\u001b[0m\u001b[0;34m\u001b[0m\u001b[0m\n\u001b[0;32m----> 2\u001b[0;31m \u001b[0mtraj\u001b[0m \u001b[0;34m=\u001b[0m \u001b[0mTrajectory\u001b[0m\u001b[0;34m(\u001b[0m\u001b[0;34m)\u001b[0m\u001b[0;34m\u001b[0m\u001b[0;34m\u001b[0m\u001b[0m\n\u001b[0m\u001b[1;32m      3\u001b[0m \u001b[0mnetwork_inference\u001b[0m \u001b[0;34m=\u001b[0m \u001b[0mtraj\u001b[0m\u001b[0;34m.\u001b[0m\u001b[0mparameters\u001b[0m\u001b[0;34m.\u001b[0m\u001b[0mnetwork_inference\u001b[0m\u001b[0;34m\u001b[0m\u001b[0;34m\u001b[0m\u001b[0m\n",
      "\u001b[0;31mNameError\u001b[0m: name 'Trajectory' is not defined"
     ]
    }
   ],
   "source": [
    "#target_timeseries[\"raw\"] #,seeds_timeseries\n",
    "traj = Trajectory()\n",
    "network_inference = traj.parameters.network_inference"
   ]
  },
  {
   "cell_type": "code",
   "execution_count": 22,
   "metadata": {},
   "outputs": [
    {
     "name": "stdout",
     "output_type": "stream",
     "text": [
      "Adding data with properties: 265 processes, 50572 samples, 1 replications\n",
      "overwriting existing data\n"
     ]
    }
   ],
   "source": [
    "# Load time series\n",
    "time_series = target_timeseries[\"raw\"][0]\n",
    "dim_order = 'ps'\n",
    "dat = Data(\n",
    "    time_series,\n",
    "    dim_order=dim_order)\n"
   ]
  },
  {
   "cell_type": "code",
   "execution_count": null,
   "metadata": {},
   "outputs": [],
   "source": [
    "# Load time series\n",
    "\n",
    "\n",
    "# Load settings dictionary\n",
    "settings = load_obj(os.path.join(\n",
    "        traj_dir, '.'.join([file_prefix, 'settings.pkl'])))\n",
    "\n",
    "network_inference = traj.parameters.network_inference\n",
    "\n",
    "can_be_z_standardised = True\n",
    "if network_inference.z_standardise:\n",
    "    # Check if data can be normalised per process (assuming the\n",
    "    # first dimension represents processes, as in the rest of the code)\n",
    "    can_be_z_standardised = np.all(np.std(time_series, axis=1) > 0)\n",
    "    if not can_be_z_standardised:\n",
    "        print('Time series can not be z-standardised')\n",
    "\n",
    "if len(time_series.shape) == 2:\n",
    "    dim_order = 'ps'\n",
    "else:\n",
    "    dim_order = 'psr'\n",
    "\n",
    "# initialise an empty data object\n",
    "dat = Data()\n",
    "\n"
   ]
  },
  {
   "cell_type": "code",
   "execution_count": 24,
   "metadata": {},
   "outputs": [
    {
     "name": "stdout",
     "output_type": "stream",
     "text": [
      "\n",
      "####### analysing target with index 0 from list [0, 1, 2, 3, 4]\n",
      "\n",
      "Target: 0 - testing sources [1, 2, 3, 4]\n",
      "\n",
      "---------------------------- (1) include target candidates\n",
      "candidate set: [(0, 1), (0, 2), (0, 3), (0, 4), (0, 5)]\n",
      "testing candidate: (0, 4) \n",
      "WARNING: Number of replications is not sufficient to generate the desired number of surrogates. Permuting samples in time instead.\n",
      "maximum statistic, n_perm: 200\n",
      "testing candidate: (0, 1) maximum statistic, n_perm: 200\n",
      "testing candidate: (0, 2) maximum statistic, n_perm: 200\n",
      "testing candidate: (0, 5) maximum statistic, n_perm: 200\n",
      " -- not significant\n",
      "\n",
      "---------------------------- (2) include source candidates\n",
      "candidate set: [(1, 1), (1, 2), (1, 3), (1, 4), (1, 5), (2, 1), (2, 2), (2, 3), (2, 4), (2, 5), (3, 1), (3, 2), (3, 3), (3, 4), (3, 5), (4, 1), (4, 2), (4, 3), (4, 4), (4, 5)]\n",
      "testing candidate: (1, 5) maximum statistic, n_perm: 200\n",
      " -- not significant\n",
      "\n",
      "---------------------------- (3) prune source candidate\n",
      "no sources selected, nothing to prune ...\n",
      "\n",
      "---------------------------- (4) final statistics\n",
      "no sources selected ...\n",
      "final source samples: []\n",
      "final target samples: [(0, 4), (0, 1), (0, 2)]\n",
      "\n",
      "\n",
      "\n",
      "####### analysing target with index 1 from list [0, 1, 2, 3, 4]\n",
      "\n",
      "Target: 1 - testing sources [0, 2, 3, 4]\n",
      "\n",
      "---------------------------- (1) include target candidates\n",
      "candidate set: [(1, 1), (1, 2), (1, 3), (1, 4), (1, 5)]\n",
      "testing candidate: (1, 4) \n",
      "WARNING: Number of replications is not sufficient to generate the desired number of surrogates. Permuting samples in time instead.\n",
      "maximum statistic, n_perm: 200\n",
      "testing candidate: (1, 1) maximum statistic, n_perm: 200\n",
      "testing candidate: (1, 5) maximum statistic, n_perm: 200\n",
      "testing candidate: (1, 2) maximum statistic, n_perm: 200\n",
      "testing candidate: (1, 3) maximum statistic, n_perm: 200\n",
      "\n",
      "---------------------------- (2) include source candidates\n",
      "candidate set: [(0, 1), (0, 2), (0, 3), (0, 4), (0, 5), (2, 1), (2, 2), (2, 3), (2, 4), (2, 5), (3, 1), (3, 2), (3, 3), (3, 4), (3, 5), (4, 1), (4, 2), (4, 3), (4, 4), (4, 5)]\n",
      "testing candidate: (3, 1) maximum statistic, n_perm: 200\n",
      "testing candidate: (3, 2) maximum statistic, n_perm: 200\n",
      "testing candidate: (3, 3) maximum statistic, n_perm: 200\n",
      "testing candidate: (4, 5) maximum statistic, n_perm: 200\n",
      "testing candidate: (4, 1) maximum statistic, n_perm: 200\n",
      " -- not significant\n",
      "\n",
      "---------------------------- (3) prune source candidate\n",
      "selected candidates: [(3, 1), (3, 2), (3, 3), (4, 5)]\n",
      "testing candidate: (4, 5) minimum statistic, n_perm: 500\n",
      " -- significant\n",
      "\n",
      "---------------------------- (4) final statistics\n",
      "selected variables: [(1, 4), (1, 1), (1, 5), (1, 2), (1, 3), (3, 1), (3, 2), (3, 3), (4, 5)]\n",
      "omnibus test, n_perm: 500\n",
      " -- significant\n",
      "\n",
      "sequential maximum statistic, n_perm: 500, testing 4 selected sources\n",
      "final source samples: [(3, 1), (3, 2), (3, 3), (4, 5)]\n",
      "final target samples: [(1, 4), (1, 1), (1, 5), (1, 2), (1, 3)]\n",
      "\n",
      "\n",
      "\n",
      "####### analysing target with index 2 from list [0, 1, 2, 3, 4]\n",
      "\n",
      "Target: 2 - testing sources [0, 1, 3, 4]\n",
      "\n",
      "---------------------------- (1) include target candidates\n",
      "candidate set: [(2, 1), (2, 2), (2, 3), (2, 4), (2, 5)]\n",
      "testing candidate: (2, 4) \n",
      "WARNING: Number of replications is not sufficient to generate the desired number of surrogates. Permuting samples in time instead.\n",
      "maximum statistic, n_perm: 200\n",
      "testing candidate: (2, 1) maximum statistic, n_perm: 200\n",
      "testing candidate: (2, 3) maximum statistic, n_perm: 200\n",
      "testing candidate: (2, 5) maximum statistic, n_perm: 200\n",
      "testing candidate: (2, 2) maximum statistic, n_perm: 200\n",
      " -- not significant\n",
      "\n",
      "---------------------------- (2) include source candidates\n",
      "candidate set: [(0, 1), (0, 2), (0, 3), (0, 4), (0, 5), (1, 1), (1, 2), (1, 3), (1, 4), (1, 5), (3, 1), (3, 2), (3, 3), (3, 4), (3, 5), (4, 1), (4, 2), (4, 3), (4, 4), (4, 5)]\n",
      "testing candidate: (0, 3) maximum statistic, n_perm: 200\n",
      "testing candidate: (0, 5) maximum statistic, n_perm: 200\n",
      " -- not significant\n",
      "\n",
      "---------------------------- (3) prune source candidate\n",
      "selected candidates: [(0, 3)]\n",
      " -- significant\n",
      "\n",
      "---------------------------- (4) final statistics\n",
      "selected variables: [(2, 4), (2, 1), (2, 3), (2, 5), (0, 3)]\n",
      "omnibus test, n_perm: 500\n",
      " -- significant\n",
      "\n",
      "sequential maximum statistic, n_perm: 500, testing 1 selected sources\n",
      "final source samples: [(0, 3)]\n",
      "final target samples: [(2, 4), (2, 1), (2, 3), (2, 5)]\n",
      "\n",
      "\n",
      "\n",
      "####### analysing target with index 3 from list [0, 1, 2, 3, 4]\n",
      "\n",
      "Target: 3 - testing sources [0, 1, 2, 4]\n",
      "\n",
      "---------------------------- (1) include target candidates\n",
      "candidate set: [(3, 1), (3, 2), (3, 3), (3, 4), (3, 5)]\n",
      "testing candidate: (3, 1) \n",
      "WARNING: Number of replications is not sufficient to generate the desired number of surrogates. Permuting samples in time instead.\n",
      "maximum statistic, n_perm: 200\n",
      "testing candidate: (3, 4) maximum statistic, n_perm: 200\n",
      "testing candidate: (3, 2) maximum statistic, n_perm: 200\n",
      "testing candidate: (3, 3) maximum statistic, n_perm: 200\n",
      "testing candidate: (3, 5) maximum statistic, n_perm: 200\n",
      " -- not significant\n",
      "\n",
      "---------------------------- (2) include source candidates\n",
      "candidate set: [(0, 1), (0, 2), (0, 3), (0, 4), (0, 5), (1, 1), (1, 2), (1, 3), (1, 4), (1, 5), (2, 1), (2, 2), (2, 3), (2, 4), (2, 5), (4, 1), (4, 2), (4, 3), (4, 4), (4, 5)]\n",
      "testing candidate: (1, 1) maximum statistic, n_perm: 200\n",
      "testing candidate: (1, 3) maximum statistic, n_perm: 200\n",
      "testing candidate: (1, 2) maximum statistic, n_perm: 200\n",
      "testing candidate: (4, 1) maximum statistic, n_perm: 200\n",
      "testing candidate: (4, 5) maximum statistic, n_perm: 200\n",
      "testing candidate: (0, 2) maximum statistic, n_perm: 200\n",
      " -- not significant\n",
      "\n",
      "---------------------------- (3) prune source candidate\n",
      "selected candidates: [(1, 1), (1, 3), (1, 2), (4, 1), (4, 5)]\n",
      "testing candidate: (4, 5) minimum statistic, n_perm: 500\n",
      " -- significant\n",
      "\n",
      "---------------------------- (4) final statistics\n",
      "selected variables: [(3, 1), (3, 4), (3, 2), (3, 3), (1, 1), (1, 3), (1, 2), (4, 1), (4, 5)]\n",
      "omnibus test, n_perm: 500\n",
      " -- significant\n",
      "\n",
      "sequential maximum statistic, n_perm: 500, testing 5 selected sources\n",
      "final source samples: [(1, 1), (1, 3), (1, 2), (4, 1), (4, 5)]\n",
      "final target samples: [(3, 1), (3, 4), (3, 2), (3, 3)]\n",
      "\n",
      "\n",
      "\n",
      "####### analysing target with index 4 from list [0, 1, 2, 3, 4]\n",
      "\n",
      "Target: 4 - testing sources [0, 1, 2, 3]\n",
      "\n",
      "---------------------------- (1) include target candidates\n",
      "candidate set: [(4, 1), (4, 2), (4, 3), (4, 4), (4, 5)]\n",
      "testing candidate: (4, 1) \n",
      "WARNING: Number of replications is not sufficient to generate the desired number of surrogates. Permuting samples in time instead.\n",
      "maximum statistic, n_perm: 200\n",
      "testing candidate: (4, 4) maximum statistic, n_perm: 200\n",
      "testing candidate: (4, 2) maximum statistic, n_perm: 200\n",
      "testing candidate: (4, 3) maximum statistic, n_perm: 200\n",
      "testing candidate: (4, 5) maximum statistic, n_perm: 200\n",
      "\n",
      "---------------------------- (2) include source candidates\n",
      "candidate set: [(0, 1), (0, 2), (0, 3), (0, 4), (0, 5), (1, 1), (1, 2), (1, 3), (1, 4), (1, 5), (2, 1), (2, 2), (2, 3), (2, 4), (2, 5), (3, 1), (3, 2), (3, 3), (3, 4), (3, 5)]\n",
      "testing candidate: (3, 1) maximum statistic, n_perm: 200\n",
      "testing candidate: (3, 4) maximum statistic, n_perm: 200\n",
      " -- not significant\n",
      "\n",
      "---------------------------- (3) prune source candidate\n",
      "selected candidates: [(3, 1)]\n",
      " -- significant\n",
      "\n",
      "---------------------------- (4) final statistics\n",
      "selected variables: [(4, 1), (4, 4), (4, 2), (4, 3), (4, 5), (3, 1)]\n",
      "omnibus test, n_perm: 500\n",
      " -- significant\n",
      "\n",
      "sequential maximum statistic, n_perm: 500, testing 1 selected sources\n",
      "final source samples: [(3, 1)]\n",
      "final target samples: [(4, 1), (4, 4), (4, 2), (4, 3), (4, 5)]\n",
      "\n",
      "\n"
     ]
    }
   ],
   "source": [
    "from idtxl.multivariate_te import MultivariateTE\n",
    "from idtxl.data import Data\n",
    "from idtxl.visualise_graph import plot_network\n",
    "import matplotlib\n",
    "matplotlib.use('TkAgg')\n",
    "import matplotlib.pyplot as plt\n",
    "\n",
    "network_analysis = MultivariateTE()\n",
    "settings = {'cmi_estimator': 'JidtGaussianCMI',\n",
    "            'max_lag_sources': 5,\n",
    "            'min_lag_sources': 1}\n",
    "\n",
    "# c) Run analysis\n",
    "results = network_analysis.analyse_network(settings=settings, data=data)\n",
    "\n",
    "# d) Plot inferred network to console and via matplotlib\n",
    "#results.print_edge_list(weights='max_te_lag', fdr=False)\n",
    "#plot_network(results=results, weights='max_te_lag', fdr=False)\n",
    "#plt.show()"
   ]
  },
  {
   "cell_type": "markdown",
   "metadata": {},
   "source": [
    "## <font color=#B2D732> <span style=\"background-color: #4424D6\"> C/ Correlation analysis"
   ]
  },
  {
   "cell_type": "code",
   "execution_count": 13,
   "metadata": {},
   "outputs": [],
   "source": [
    "output_dir={};output_file={}; \n",
    "for seed_name in config[\"seeds\"][\"seed_names\"]:\n",
    "    output_dir[seed_name]=config['main_dir'] + config['seed2vox_dir'] + '/1_first_level/' + seed_name + '/' + config[\"targeted_voxels\"][\"target_name\"]+ '_fc_maps/Corr/'\n",
    "    if not os.path.exists(output_dir[seed_name]):\n",
    "        os.mkdir(output_dir[seed_name])\n",
    "    \n",
    "    output_file[seed_name]=  output_dir[seed_name] +'/corr_' + str(len(config['list_subjects'])) + 'subjects_seed_' + seed_name.split('_')[-1] + '_s'\n",
    "    \n",
    "    # run correlation analysis\n",
    "    corr=seed2voxels.correlation_maps(seeds_timeseries[\"zmean\"][seed_name],\n",
    "                                      target_timeseries[\"zscored\"],\n",
    "                                      output_img=output_file[seed_name],\n",
    "                                      Fisher=True,\n",
    "                                      partial=False,\n",
    "                                      save_maps=True,\n",
    "                                      smoothing_output=[6,6,6],\n",
    "                                      redo=True,\n",
    "                                      n_jobs=8)\n",
    "\n",
    "    #calculate the mean across participant\n",
    "    string=\"fslmaths \" +output_file[seed_name] + \" -Tmean \" + output_file[seed_name].split(\".\")[0] + \"_mean.nii.gz\"\n",
    "    os.system(string)\n",
    "   "
   ]
  },
  {
   "cell_type": "markdown",
   "metadata": {},
   "source": [
    "## <font color=#B2D732> <span style=\"background-color: #4424D6\"> D/ Mutual information"
   ]
  },
  {
   "cell_type": "code",
   "execution_count": 146,
   "metadata": {},
   "outputs": [],
   "source": [
    "output_dir={};output_file={};\n",
    "for seed_name in config[\"seeds\"][\"seed_names\"]:\n",
    "    output_dir[seed_name]=config['main_dir'] + config['seed2vox_dir'] + '/1_first_level/' + seed_name + '/' + config[\"targeted_voxels\"][\"target_name\"]+ '_fc_maps/MI/'\n",
    "   \n",
    "    if not os.path.exists(output_dir[seed_name]):\n",
    "            os.mkdir(output_dir[seed_name])\n",
    "    \n",
    "    output_file[seed_name]=  output_dir[seed_name] +'/mi_' + str(len(config['list_subjects'])) + 'subjects_seed_' + seed_name.split('_')[-1] + '_s'\n",
    "  \n",
    "    \n",
    "    mi=seed2voxels.mutual_info_maps(seeds_timeseries[\"zmean\"][seed_name],\n",
    "                                    target_timeseries[\"zscored\"],\n",
    "                                    output_img=output_file[seed_name],\n",
    "                                    save_maps=True,\n",
    "                                    smoothing_output=[6,6,6],redo=True, n_jobs=8)\n",
    "    \n",
    "    #calculate the mean across participant\n",
    "    string=\"fslmaths \" +output_file[seed_name] + \" -Tmean \" + output_file[seed_name].split(\".\")[0] + \"_mean.nii.gz\"\n",
    "    os.system(string)"
   ]
  },
  {
   "cell_type": "markdown",
   "metadata": {},
   "source": [
    "## <font color=#B2D732> <span style=\"background-color: #4424D6\"> D/ Distance correlation"
   ]
  },
  {
   "cell_type": "code",
   "execution_count": null,
   "metadata": {},
   "outputs": [
    {
     "name": "stderr",
     "output_type": "stream",
     "text": [
      "process duration:  54%|█████▍    | 27403/50572 [29:07<28:32, 13.53it/s]  "
     ]
    }
   ],
   "source": [
    "output_dir={};output_file={};\n",
    "for seed_name in config[\"seeds\"][\"seed_names\"]:\n",
    "    \n",
    "    \n",
    "    output_dir[seed_name]=config['main_dir'] + config['seed2vox_dir'] + '/1_first_level/' + seed_name + '/' + config[\"targeted_voxels\"][\"target_name\"]+ '_fc_maps/dCorr/'\n",
    "   \n",
    "    if not os.path.exists(output_dir[seed_name]):\n",
    "            os.mkdir(output_dir[seed_name])\n",
    "    \n",
    "    output_file[seed_name]=  output_dir[seed_name] +'/dCorr_' + str(len(config['list_subjects'])) + 'subjects_seed_' + seed_name.split('_')[-1] + '_s'\n",
    "  \n",
    "    dist_corr=seed2voxels.distance_corr_maps(seeds_timeseries[\"zscored\"][seed_name],\n",
    "                                    target_timeseries[\"zscored\"],\n",
    "                                    output_img= output_file[seed_name],\n",
    "                                    save_maps=True,\n",
    "                                    smoothing_output=[6,6,6],redo=True, n_jobs=1)\n",
    "    \n",
    "     #calculate the mean across participant\n",
    "    string=\"fslmaths \" +output_file[seed_name] + \" -Tmean \" + output_file[seed_name].split(\".\")[0] + \"_mean.nii.gz\"\n",
    "    os.system(string)"
   ]
  },
  {
   "cell_type": "markdown",
   "metadata": {},
   "source": [
    "## <font color=#B2D732> <span style=\"background-color: #4424D6\"> D/ Statistics\n",
    "#### <font color=#4424D6> One sample t-test"
   ]
  },
  {
   "cell_type": "code",
   "execution_count": 25,
   "metadata": {},
   "outputs": [
    {
     "name": "stdout",
     "output_type": "stream",
     "text": [
      "spinalcord_GM-C1\n",
      "fslmaths /cerebro/cerebro1/dataset/bmpd/derivatives/HealthyControls_project//seed_to_voxels/spring_2023//1_first_level/spinalcord_GM-C1/brain_fc_maps/mMI_28subjects_seed_GM-C1_s.nii -Tmean /cerebro/cerebro1/dataset/bmpd/derivatives/HealthyControls_project//seed_to_voxels/spring_2023//1_first_level/spinalcord_GM-C1/brain_fc_maps/mMI_28subjects_seed_GM-C1_s_mean.nii  # in /cerebro/cerebro1/dataset/bmpd/derivatives/HealthyControls_project/hc_project_analyses/notebook\n",
      "randomise -i /cerebro/cerebro1/dataset/bmpd/derivatives/HealthyControls_project//seed_to_voxels/spring_2023//1_first_level/spinalcord_GM-C1/brain_fc_maps/mMI_28subjects_seed_GM-C1_s.nii -o /cerebro/cerebro1/dataset/bmpd/derivatives/HealthyControls_project/seed_to_voxels/spring_2023/2_second_level/brain_mask/spinalcord_GM-C1/MI/randomise/ -1 -v 5 -n 100  -T # in /cerebro/cerebro1/dataset/bmpd/derivatives/HealthyControls_project/hc_project_analyses/notebook\n",
      "spinalcord_GM-C2\n",
      "fslmaths /cerebro/cerebro1/dataset/bmpd/derivatives/HealthyControls_project//seed_to_voxels/spring_2023//1_first_level/spinalcord_GM-C2/brain_fc_maps/mMI_28subjects_seed_GM-C2_s.nii -Tmean /cerebro/cerebro1/dataset/bmpd/derivatives/HealthyControls_project//seed_to_voxels/spring_2023//1_first_level/spinalcord_GM-C2/brain_fc_maps/mMI_28subjects_seed_GM-C2_s_mean.nii  # in /cerebro/cerebro1/dataset/bmpd/derivatives/HealthyControls_project/hc_project_analyses/notebook\n",
      "randomise -i /cerebro/cerebro1/dataset/bmpd/derivatives/HealthyControls_project//seed_to_voxels/spring_2023//1_first_level/spinalcord_GM-C2/brain_fc_maps/mMI_28subjects_seed_GM-C2_s.nii -o /cerebro/cerebro1/dataset/bmpd/derivatives/HealthyControls_project/seed_to_voxels/spring_2023/2_second_level/brain_mask/spinalcord_GM-C2/MI/randomise/ -1 -v 5 -n 100  -T # in /cerebro/cerebro1/dataset/bmpd/derivatives/HealthyControls_project/hc_project_analyses/notebook\n",
      "spinalcord_GM-C3\n",
      "fslmaths /cerebro/cerebro1/dataset/bmpd/derivatives/HealthyControls_project//seed_to_voxels/spring_2023//1_first_level/spinalcord_GM-C3/brain_fc_maps/mMI_28subjects_seed_GM-C3_s.nii -Tmean /cerebro/cerebro1/dataset/bmpd/derivatives/HealthyControls_project//seed_to_voxels/spring_2023//1_first_level/spinalcord_GM-C3/brain_fc_maps/mMI_28subjects_seed_GM-C3_s_mean.nii  # in /cerebro/cerebro1/dataset/bmpd/derivatives/HealthyControls_project/hc_project_analyses/notebook\n",
      "randomise -i /cerebro/cerebro1/dataset/bmpd/derivatives/HealthyControls_project//seed_to_voxels/spring_2023//1_first_level/spinalcord_GM-C3/brain_fc_maps/mMI_28subjects_seed_GM-C3_s.nii -o /cerebro/cerebro1/dataset/bmpd/derivatives/HealthyControls_project/seed_to_voxels/spring_2023/2_second_level/brain_mask/spinalcord_GM-C3/MI/randomise/ -1 -v 5 -n 100  -T # in /cerebro/cerebro1/dataset/bmpd/derivatives/HealthyControls_project/hc_project_analyses/notebook\n",
      "spinalcord_GM-C4\n",
      "fslmaths /cerebro/cerebro1/dataset/bmpd/derivatives/HealthyControls_project//seed_to_voxels/spring_2023//1_first_level/spinalcord_GM-C4/brain_fc_maps/mMI_28subjects_seed_GM-C4_s.nii -Tmean /cerebro/cerebro1/dataset/bmpd/derivatives/HealthyControls_project//seed_to_voxels/spring_2023//1_first_level/spinalcord_GM-C4/brain_fc_maps/mMI_28subjects_seed_GM-C4_s_mean.nii  # in /cerebro/cerebro1/dataset/bmpd/derivatives/HealthyControls_project/hc_project_analyses/notebook\n",
      "randomise -i /cerebro/cerebro1/dataset/bmpd/derivatives/HealthyControls_project//seed_to_voxels/spring_2023//1_first_level/spinalcord_GM-C4/brain_fc_maps/mMI_28subjects_seed_GM-C4_s.nii -o /cerebro/cerebro1/dataset/bmpd/derivatives/HealthyControls_project/seed_to_voxels/spring_2023/2_second_level/brain_mask/spinalcord_GM-C4/MI/randomise/ -1 -v 5 -n 100  -T # in /cerebro/cerebro1/dataset/bmpd/derivatives/HealthyControls_project/hc_project_analyses/notebook\n",
      "spinalcord_GM-C5\n",
      "fslmaths /cerebro/cerebro1/dataset/bmpd/derivatives/HealthyControls_project//seed_to_voxels/spring_2023//1_first_level/spinalcord_GM-C5/brain_fc_maps/mMI_28subjects_seed_GM-C5_s.nii -Tmean /cerebro/cerebro1/dataset/bmpd/derivatives/HealthyControls_project//seed_to_voxels/spring_2023//1_first_level/spinalcord_GM-C5/brain_fc_maps/mMI_28subjects_seed_GM-C5_s_mean.nii  # in /cerebro/cerebro1/dataset/bmpd/derivatives/HealthyControls_project/hc_project_analyses/notebook\n",
      "randomise -i /cerebro/cerebro1/dataset/bmpd/derivatives/HealthyControls_project//seed_to_voxels/spring_2023//1_first_level/spinalcord_GM-C5/brain_fc_maps/mMI_28subjects_seed_GM-C5_s.nii -o /cerebro/cerebro1/dataset/bmpd/derivatives/HealthyControls_project/seed_to_voxels/spring_2023/2_second_level/brain_mask/spinalcord_GM-C5/MI/randomise/ -1 -v 5 -n 100  -T # in /cerebro/cerebro1/dataset/bmpd/derivatives/HealthyControls_project/hc_project_analyses/notebook\n",
      "spinalcord_GM-C6\n",
      "fslmaths /cerebro/cerebro1/dataset/bmpd/derivatives/HealthyControls_project//seed_to_voxels/spring_2023//1_first_level/spinalcord_GM-C6/brain_fc_maps/mMI_28subjects_seed_GM-C6_s.nii -Tmean /cerebro/cerebro1/dataset/bmpd/derivatives/HealthyControls_project//seed_to_voxels/spring_2023//1_first_level/spinalcord_GM-C6/brain_fc_maps/mMI_28subjects_seed_GM-C6_s_mean.nii  # in /cerebro/cerebro1/dataset/bmpd/derivatives/HealthyControls_project/hc_project_analyses/notebook\n",
      "randomise -i /cerebro/cerebro1/dataset/bmpd/derivatives/HealthyControls_project//seed_to_voxels/spring_2023//1_first_level/spinalcord_GM-C6/brain_fc_maps/mMI_28subjects_seed_GM-C6_s.nii -o /cerebro/cerebro1/dataset/bmpd/derivatives/HealthyControls_project/seed_to_voxels/spring_2023/2_second_level/brain_mask/spinalcord_GM-C6/MI/randomise/ -1 -v 5 -n 100  -T # in /cerebro/cerebro1/dataset/bmpd/derivatives/HealthyControls_project/hc_project_analyses/notebook\n",
      "spinalcord_GM-C7\n",
      "fslmaths /cerebro/cerebro1/dataset/bmpd/derivatives/HealthyControls_project//seed_to_voxels/spring_2023//1_first_level/spinalcord_GM-C7/brain_fc_maps/mMI_28subjects_seed_GM-C7_s.nii -Tmean /cerebro/cerebro1/dataset/bmpd/derivatives/HealthyControls_project//seed_to_voxels/spring_2023//1_first_level/spinalcord_GM-C7/brain_fc_maps/mMI_28subjects_seed_GM-C7_s_mean.nii  # in /cerebro/cerebro1/dataset/bmpd/derivatives/HealthyControls_project/hc_project_analyses/notebook\n",
      "randomise -i /cerebro/cerebro1/dataset/bmpd/derivatives/HealthyControls_project//seed_to_voxels/spring_2023//1_first_level/spinalcord_GM-C7/brain_fc_maps/mMI_28subjects_seed_GM-C7_s.nii -o /cerebro/cerebro1/dataset/bmpd/derivatives/HealthyControls_project/seed_to_voxels/spring_2023/2_second_level/brain_mask/spinalcord_GM-C7/MI/randomise/ -1 -v 5 -n 100  -T # in /cerebro/cerebro1/dataset/bmpd/derivatives/HealthyControls_project/hc_project_analyses/notebook\n",
      "spinalcord_GM-C8\n",
      "fslmaths /cerebro/cerebro1/dataset/bmpd/derivatives/HealthyControls_project//seed_to_voxels/spring_2023//1_first_level/spinalcord_GM-C8/brain_fc_maps/mMI_28subjects_seed_GM-C8_s.nii -Tmean /cerebro/cerebro1/dataset/bmpd/derivatives/HealthyControls_project//seed_to_voxels/spring_2023//1_first_level/spinalcord_GM-C8/brain_fc_maps/mMI_28subjects_seed_GM-C8_s_mean.nii  # in /cerebro/cerebro1/dataset/bmpd/derivatives/HealthyControls_project/hc_project_analyses/notebook\n",
      "randomise -i /cerebro/cerebro1/dataset/bmpd/derivatives/HealthyControls_project//seed_to_voxels/spring_2023//1_first_level/spinalcord_GM-C8/brain_fc_maps/mMI_28subjects_seed_GM-C8_s.nii -o /cerebro/cerebro1/dataset/bmpd/derivatives/HealthyControls_project/seed_to_voxels/spring_2023/2_second_level/brain_mask/spinalcord_GM-C8/MI/randomise/ -1 -v 5 -n 100  -T # in /cerebro/cerebro1/dataset/bmpd/derivatives/HealthyControls_project/hc_project_analyses/notebook\n"
     ]
    }
   ],
   "source": [
    "seed_names=['spinalcord_GM-C1','spinalcord_GM-C2','spinalcord_GM-C3','spinalcord_GM-C4','spinalcord_GM-C5','spinalcord_GM-C6','spinalcord_GM-C7','spinalcord_GM-C8']\n",
    "for seed_name in seed_names:\n",
    "    print(seed_name)\n",
    "    ouput_dir='/cerebro/cerebro1/dataset/bmpd/derivatives/HealthyControls_project/seed_to_voxels/spring_2023/2_second_level/' + target_name[0] + '/'+seed_name +'/MI/randomise/'\n",
    "    if not os.path.exists(ouput_dir):\n",
    "        os.mkdir(ouput_dir)\n",
    "    run_proc('fslmaths {} -Tmean {} '.format(config['main_dir'] + config['seed2vox_dir'] +  '/1_first_level/' + seed_name + '/' + target_name[0].split('_')[0]+ '_fc_maps/mMI_' + str(len(config['list_subjects'])) + 'subjects_seed_' + seed_name.split('_')[-1] + '_s.nii',\n",
    "                                                      config['main_dir'] + config['seed2vox_dir'] +  '/1_first_level/' + seed_name + '/' + target_name[0].split('_')[0]+ '_fc_maps/mMI_' + str(len(config['list_subjects'])) + 'subjects_seed_' + seed_name.split('_')[-1] + '_s_mean.nii'))\n",
    "    run_proc('randomise -i {} -o {} -1 -v 5 -n 100  -T'.format(config['main_dir'] + config['seed2vox_dir'] +  '/1_first_level/' + seed_name + '/' + target_name[0].split('_')[0]+ '_fc_maps/mMI_' + str(len(config['list_subjects'])) + 'subjects_seed_' + seed_name.split('_')[-1] + '_s.nii',\n",
    "                                                               ouput_dir,mask_target))"
   ]
  },
  {
   "cell_type": "code",
   "execution_count": 19,
   "metadata": {},
   "outputs": [
    {
     "name": "stdout",
     "output_type": "stream",
     "text": [
      "yes\n"
     ]
    }
   ],
   "source": [
    "if os.path.exists(\"/cerebro/cerebro1/dataset/bmpd/derivatives/HealthyControls_project//seed_to_voxels/spring_2023//1_first_level/spinalcord_C1C8-RD/brain_fc_maps/mMI_28subjects_seed_C1C8-RD_s.nii\"):\n",
    "    print(\"yes\")"
   ]
  },
  {
   "cell_type": "markdown",
   "metadata": {},
   "source": [
    "#### <font color=#4424D6> Two sample t-test"
   ]
  },
  {
   "cell_type": "code",
   "execution_count": 22,
   "metadata": {},
   "outputs": [
    {
     "name": "stdout",
     "output_type": "stream",
     "text": [
      "fslmerge -t /cerebro/cerebro1/dataset/bmpd/derivatives/HealthyControls_project//seed_to_voxels//2_second_level/spinalcord_GM-C6C8R-C6C8L/spinalcord_GM-C6C8R-C6C8L_images.nii /cerebro/cerebro1/dataset/bmpd/derivatives/HealthyControls_project//seed_to_voxels//1_first_level/spinalcord_GM-C6C8R/brain_fc_maps/21subjects_seed_GM-C6C8R_s_zcorr /cerebro/cerebro1/dataset/bmpd/derivatives/HealthyControls_project//seed_to_voxels//1_first_level/spinalcord_GM-C6C8L/brain_fc_maps/21subjects_seed_GM-C6C8L_s_zcorr # in /cerebro/cerebro1/dataset/bmpd/derivatives/HealthyControls_project/hc_project_analyses/notebook\n"
     ]
    },
    {
     "ename": "RuntimeError",
     "evalue": "Image Exception : #63 :: No image files match: /cerebro/cerebro1/dataset/bmpd/derivatives/HealthyControls_project//seed_to_voxels//1_first_level/spinalcord_GM-C6C8R/brain_fc_maps/21subjects_seed_GM-C6C8R_s_zcorr\nterminate called after throwing an instance of 'std::runtime_error'\nwhat():  No image files match: /cerebro/cerebro1/dataset/bmpd/derivatives/HealthyControls_project//seed_to_voxels//1_first_level/spinalcord_GM-C6C8R/brain_fc_maps/21subjects_seed_GM-C6C8R_s_zcorr",
     "output_type": "error",
     "traceback": [
      "\u001b[0;31m---------------------------------------------------------------------------\u001b[0m",
      "\u001b[0;31mRuntimeError\u001b[0m                              Traceback (most recent call last)",
      "\u001b[0;32m<ipython-input-22-e7980340ec07>\u001b[0m in \u001b[0;36m<module>\u001b[0;34m\u001b[0m\n\u001b[1;32m     12\u001b[0m     run_proc('fslmerge -t {} {} {}'.format(output_dir + '/'+seed1+'-'+seed2.split('-')[-1]+'_images.nii', \n\u001b[1;32m     13\u001b[0m                                     \u001b[0mconfig\u001b[0m\u001b[0;34m[\u001b[0m\u001b[0;34m'main_dir'\u001b[0m\u001b[0;34m]\u001b[0m \u001b[0;34m+\u001b[0m \u001b[0mconfig\u001b[0m\u001b[0;34m[\u001b[0m\u001b[0;34m'seed2vox_dir'\u001b[0m\u001b[0;34m]\u001b[0m \u001b[0;34m+\u001b[0m \u001b[0;34m'/1_first_level/'\u001b[0m \u001b[0;34m+\u001b[0m\u001b[0mseed1\u001b[0m \u001b[0;34m+\u001b[0m \u001b[0;34m'/'\u001b[0m \u001b[0;34m+\u001b[0m \u001b[0mtarget_name\u001b[0m\u001b[0;34m[\u001b[0m\u001b[0;36m0\u001b[0m\u001b[0;34m]\u001b[0m\u001b[0;34m.\u001b[0m\u001b[0msplit\u001b[0m\u001b[0;34m(\u001b[0m\u001b[0;34m'_'\u001b[0m\u001b[0;34m)\u001b[0m\u001b[0;34m[\u001b[0m\u001b[0;36m0\u001b[0m\u001b[0;34m]\u001b[0m\u001b[0;34m+\u001b[0m \u001b[0;34m'_fc_maps/21subjects_seed_'\u001b[0m\u001b[0;34m+\u001b[0m\u001b[0mseed1\u001b[0m\u001b[0;34m.\u001b[0m\u001b[0msplit\u001b[0m\u001b[0;34m(\u001b[0m\u001b[0;34m'_'\u001b[0m\u001b[0;34m)\u001b[0m\u001b[0;34m[\u001b[0m\u001b[0;34m-\u001b[0m\u001b[0;36m1\u001b[0m\u001b[0;34m]\u001b[0m\u001b[0;34m+\u001b[0m\u001b[0;34m'_s_zcorr'\u001b[0m\u001b[0;34m,\u001b[0m\u001b[0;34m\u001b[0m\u001b[0;34m\u001b[0m\u001b[0m\n\u001b[0;32m---> 14\u001b[0;31m                                     config['main_dir'] + config['seed2vox_dir'] + '/1_first_level/' +seed2 + '/' + target_name[0].split('_')[0]+ '_fc_maps/21subjects_seed_'+seed2.split('_')[-1]+'_s_zcorr'))\n\u001b[0m\u001b[1;32m     15\u001b[0m \u001b[0;34m\u001b[0m\u001b[0m\n\u001b[1;32m     16\u001b[0m \u001b[0;31m#3. Run randomize\u001b[0m\u001b[0;34m\u001b[0m\u001b[0;34m\u001b[0m\u001b[0;34m\u001b[0m\u001b[0m\n",
      "\u001b[0;32m/cerebro/cerebro1/dataset/bmpd/derivatives/thibault_test/code/toolbox/spinalcordtoolbox-5.0.0/spinalcordtoolbox/utils/sys.py\u001b[0m in \u001b[0;36mrun_proc\u001b[0;34m(cmd, verbose, raise_exception, cwd, env, is_sct_binary)\u001b[0m\n\u001b[1;32m    294\u001b[0m \u001b[0;34m\u001b[0m\u001b[0m\n\u001b[1;32m    295\u001b[0m     \u001b[0;32mif\u001b[0m \u001b[0mstatus\u001b[0m \u001b[0;34m!=\u001b[0m \u001b[0;36m0\u001b[0m \u001b[0;32mand\u001b[0m \u001b[0mraise_exception\u001b[0m\u001b[0;34m:\u001b[0m\u001b[0;34m\u001b[0m\u001b[0;34m\u001b[0m\u001b[0m\n\u001b[0;32m--> 296\u001b[0;31m         \u001b[0;32mraise\u001b[0m \u001b[0mRuntimeError\u001b[0m\u001b[0;34m(\u001b[0m\u001b[0moutput\u001b[0m\u001b[0;34m)\u001b[0m\u001b[0;34m\u001b[0m\u001b[0;34m\u001b[0m\u001b[0m\n\u001b[0m\u001b[1;32m    297\u001b[0m \u001b[0;34m\u001b[0m\u001b[0m\n\u001b[1;32m    298\u001b[0m     \u001b[0;32mreturn\u001b[0m \u001b[0mstatus\u001b[0m\u001b[0;34m,\u001b[0m \u001b[0moutput\u001b[0m\u001b[0;34m\u001b[0m\u001b[0;34m\u001b[0m\u001b[0m\n",
      "\u001b[0;31mRuntimeError\u001b[0m: Image Exception : #63 :: No image files match: /cerebro/cerebro1/dataset/bmpd/derivatives/HealthyControls_project//seed_to_voxels//1_first_level/spinalcord_GM-C6C8R/brain_fc_maps/21subjects_seed_GM-C6C8R_s_zcorr\nterminate called after throwing an instance of 'std::runtime_error'\nwhat():  No image files match: /cerebro/cerebro1/dataset/bmpd/derivatives/HealthyControls_project//seed_to_voxels//1_first_level/spinalcord_GM-C6C8R/brain_fc_maps/21subjects_seed_GM-C6C8R_s_zcorr"
     ]
    }
   ],
   "source": [
    "import shutil\n",
    "#1. select the analyses to compared\n",
    "#'spinalcord_GM-C4C5L','spinalcord_GM-C4C5R',\n",
    "#'spinalcord_GM-C6C8L','spinalcord_GM-C6C8R'\n",
    "        \n",
    "seed1='spinalcord_GM-C6C8R'\n",
    "seed2='spinalcord_GM-C6C8L'\n",
    "output_dir=config['main_dir'] + config['seed2vox_dir'] + '/2_second_level/'+seed1+'-'+seed2.split('-')[-1]\n",
    "if not os.path.exists(output_dir):\n",
    "    os.mkdir(output_dir)\n",
    "#2. merge the images from the 2 contrasts in one 4D image\n",
    "    run_proc('fslmerge -t {} {} {}'.format(output_dir + '/'+seed1+'-'+seed2.split('-')[-1]+'_images.nii', \n",
    "                                    config['main_dir'] + config['seed2vox_dir'] + '/1_first_level/' +seed1 + '/' + target_name[0].split('_')[0]+ '_fc_maps/21subjects_seed_'+seed1.split('_')[-1]+'_s_zcorr',\n",
    "                                    config['main_dir'] + config['seed2vox_dir'] + '/1_first_level/' +seed2 + '/' + target_name[0].split('_')[0]+ '_fc_maps/21subjects_seed_'+seed2.split('_')[-1]+'_s_zcorr'))\n",
    "\n",
    "#3. Run randomize\n",
    "    run_proc('randomise -i {} -o {} -d {} -t {} -e {} -m {} -v 5 -n 500  -T'.format(output_dir + '/'+seed1+'-'+seed2.split('-')[-1]+'_images.nii',\n",
    "                                                                                    output_dir + '/'+seed1+'-'+seed2.split('-')[-1],\n",
    "                                                                                    config['main_dir'] + config['seed2vox_dir'] + '/2_second_level/fsl_designs/2paired-t-test/design_group.mat',\n",
    "                                                                                    config['main_dir'] + config['seed2vox_dir'] + '/2_second_level/fsl_designs/2paired-t-test/design_group.con',\n",
    "                                                                                    config['main_dir'] + config['seed2vox_dir'] + '/2_second_level/fsl_designs/2paired-t-test/design_group.grp',\n",
    "                                                                                mask_target))"
   ]
  },
  {
   "cell_type": "code",
   "execution_count": null,
   "metadata": {},
   "outputs": [],
   "source": []
  },
  {
   "cell_type": "code",
   "execution_count": 98,
   "metadata": {},
   "outputs": [
    {
     "name": "stdout",
     "output_type": "stream",
     "text": [
      "fslmaths /cerebro/cerebro1/dataset/bmpd/derivatives/HealthyControls_project/seed_to_voxels/masks/spinalcord_C1C8-L.nii.gz -mas /cerebro/cerebro1/dataset/bmpd/derivatives/HealthyControls_project/seed_to_voxels/masks/spinalcord_GM-cord.nii.gz /cerebro/cerebro1/dataset/bmpd/derivatives/HealthyControls_project/seed_to_voxels/masks/spinalcord_GM-L.nii.gz # in /cerebro/cerebro1/dataset/bmpd/derivatives/HealthyControls_project/hc_project_analyses/notebook\n"
     ]
    },
    {
     "data": {
      "text/plain": [
       "(0, '')"
      ]
     },
     "execution_count": 98,
     "metadata": {},
     "output_type": "execute_result"
    }
   ],
   "source": [
    "input='/cerebro/cerebro1/dataset/bmpd/derivatives/HealthyControls_project/seed_to_voxels/masks/spinalcord_C1C8-L.nii.gz'\n",
    "mask='/cerebro/cerebro1/dataset/bmpd/derivatives/HealthyControls_project/seed_to_voxels/masks/spinalcord_GM-cord.nii.gz'\n",
    "output='/cerebro/cerebro1/dataset/bmpd/derivatives/HealthyControls_project/seed_to_voxels/masks/spinalcord_GM-L.nii.gz'\n",
    "run_proc('fslmaths {} -mas {} {}'.format(input,mask,output))"
   ]
  },
  {
   "cell_type": "code",
   "execution_count": null,
   "metadata": {},
   "outputs": [],
   "source": []
  }
 ],
 "metadata": {
  "kernelspec": {
   "display_name": "Python 3",
   "language": "python",
   "name": "python3"
  },
  "language_info": {
   "codemirror_mode": {
    "name": "ipython",
    "version": 3
   },
   "file_extension": ".py",
   "mimetype": "text/x-python",
   "name": "python",
   "nbconvert_exporter": "python",
   "pygments_lexer": "ipython3",
   "version": "3.6.9"
  }
 },
 "nbformat": 4,
 "nbformat_minor": 5
}
