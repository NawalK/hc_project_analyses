{
 "cells": [
  {
   "cell_type": "markdown",
   "id": "05811f44",
   "metadata": {},
   "source": [
    "# <font color=black> Analysis - FC-based parcellation using correlation </font>\n",
    "<hr style=\"border:1px solid black\">"
   ]
  },
  {
   "cell_type": "code",
   "execution_count": 9,
   "id": "2a859ef3",
   "metadata": {},
   "outputs": [
    {
     "name": "stdout",
     "output_type": "stream",
     "text": [
      "The autoreload extension is already loaded. To reload it, use:\n",
      "  %reload_ext autoreload\n"
     ]
    }
   ],
   "source": [
    "import sys,json\n",
    "import glob, os\n",
    "import numpy as np\n",
    "import nibabel as nib\n",
    "from nilearn import datasets, plotting, image, surface\n",
    "import matplotlib.pyplot as plt\n",
    "from matplotlib.colors import ListedColormap\n",
    "\n",
    "sys.path.append('/media/miplab-nas2/Data3/BMPD/hc_project/analysis/code/')\n",
    "\n",
    "from fc_based_parcellation_paper import FC_Parcellation\n",
    "\n",
    "%matplotlib inline\n",
    "%load_ext autoreload\n",
    "%autoreload 2"
   ]
  },
  {
   "cell_type": "markdown",
   "id": "54b7d591",
   "metadata": {},
   "source": [
    "# Initialization\n",
    "<hr style=\"border:0.5px solid black\">"
   ]
  },
  {
   "cell_type": "code",
   "execution_count": 16,
   "id": "260fec02",
   "metadata": {},
   "outputs": [
    {
     "name": "stdout",
     "output_type": "stream",
     "text": [
      "/media/miplab-nas2/Data3/BMPD/hc_project//brain_spine/results/fc_parcellation/C1toC7_gm_to_iCAP_SMC/\n",
      "An analysis with this tag has already been done - Loading configuration from existing file!\n"
     ]
    }
   ],
   "source": [
    "# Load the config file with all information\n",
    "with open('../../config/config_fc_based_parcellation.json') as config_file:\n",
    "    config = json.load(config_file)\n",
    "# Define tag of this analysis (used for saving)\n",
    "config['output_tag'] = \"C1toC7_gm_to_iCAP_SMC\"\n",
    "# Note: paths should be with respect to main directory\n",
    "config['file_tag']['spinalcord'] = \"_task-rest_bold_stc_sc_moco_brsc_BP_inTemplate_s.nii.gz\"\n",
    "config['file_tag']['brain'] = \"_task-rest_bold_stc_brain_moco_brsc_BP_reg_SPM_inTemplate2mm_s.nii.gz\"\n",
    "config['template']['spinalcord'] = \"/templates/PAM50_hc_project/template/PAM50_t2.nii.gz\"\n",
    "config['spinal_levels'] = \"/templates/PAM50_hc_project/template/PAM50_spinal_levels_C1C7.nii.gz\"\n",
    "config['masks']['source'] = \"/templates/PAM50_hc_project/template/PAM50_gm_bin07_C1C7.nii.gz\"\n",
    "config['masks']['target'] = \"/analysis/masks/brain/iCAPs_z_SMC_bin.nii.gz\"\n",
    "\n",
    "config['brain_surfaces']='/templates/surf/'\n",
    "\n",
    "config['list_subjects'] = [\"P030\", \"P099\",\"A006\",\"A007\",\"A008\",\"A009\",\"A011\",\"A013\",\"A023\",\"A024\",\"A025\",\"A026\",\"A027\",\"A028\",\"A029\",\"A030\",\"A032\",\"A033\",\"A034\",\"A036\",\"A037\",\"A038\",\"A039\",\"A043\",\"A044\",\"A045\",\"A046\",\"A048\",\"A050\",\"A051\",\"A052\"]\n",
    "\n",
    "# Instantiate class\n",
    "# Note: this will save a config file with all relevant information and prepare folder structure\n",
    "fc_parcellation = FC_Parcellation(config)"
   ]
  },
  {
   "cell_type": "markdown",
   "id": "568188dc",
   "metadata": {},
   "source": [
    "# Analyses\n",
    "<hr style=\"border:0.5px solid black\">"
   ]
  },
  {
   "cell_type": "markdown",
   "id": "1cc37e2e",
   "metadata": {},
   "source": [
    "### Compute the voxelwise correlation profiles and their similarity "
   ]
  },
  {
   "cell_type": "code",
   "execution_count": 7,
   "id": "a4358fb5",
   "metadata": {},
   "outputs": [
    {
     "name": "stdout",
     "output_type": "stream",
     "text": [
      "\u001b[1mSUBJECT P030\u001b[0m\n",
      "\u001b[1mCOMPUTE VOXELWISE FC\u001b[0m\n",
      "\u001b[37mStandardize = True\u001b[0m\n",
      "\u001b[37mOverwrite results = False\u001b[0m\n",
      "... Loading data\n",
      "... Computing FC for all possibilities\n",
      "... Computing correlation coefficient\n",
      "... Fisher transforming correlations\n",
      "... Computing similarity matrix\n",
      "\n",
      "\u001b[1mDONE\u001b[0m\n",
      "\u001b[1mSUBJECT P099\u001b[0m\n",
      "\u001b[1mCOMPUTE VOXELWISE FC\u001b[0m\n",
      "\u001b[37mStandardize = True\u001b[0m\n",
      "\u001b[37mOverwrite results = False\u001b[0m\n",
      "... Loading data\n",
      "... Computing FC for all possibilities\n",
      "... Computing correlation coefficient\n",
      "... Fisher transforming correlations\n",
      "... Computing similarity matrix\n",
      "\n",
      "\u001b[1mDONE\u001b[0m\n",
      "\u001b[1mSUBJECT A006\u001b[0m\n",
      "\u001b[1mCOMPUTE VOXELWISE FC\u001b[0m\n",
      "\u001b[37mStandardize = True\u001b[0m\n",
      "\u001b[37mOverwrite results = False\u001b[0m\n",
      "... Loading data\n",
      "... Computing FC for all possibilities\n",
      "... Computing correlation coefficient\n",
      "... Fisher transforming correlations\n",
      "... Computing similarity matrix\n",
      "\n",
      "\u001b[1mDONE\u001b[0m\n",
      "\u001b[1mSUBJECT A007\u001b[0m\n",
      "\u001b[1mCOMPUTE VOXELWISE FC\u001b[0m\n",
      "\u001b[37mStandardize = True\u001b[0m\n",
      "\u001b[37mOverwrite results = False\u001b[0m\n",
      "... Loading data\n",
      "... Computing FC for all possibilities\n",
      "... Computing correlation coefficient\n",
      "... Fisher transforming correlations\n",
      "... Computing similarity matrix\n",
      "\n",
      "\u001b[1mDONE\u001b[0m\n",
      "\u001b[1mSUBJECT A008\u001b[0m\n",
      "\u001b[1mCOMPUTE VOXELWISE FC\u001b[0m\n",
      "\u001b[37mStandardize = True\u001b[0m\n",
      "\u001b[37mOverwrite results = False\u001b[0m\n",
      "... Loading data\n",
      "... Computing FC for all possibilities\n",
      "... Computing correlation coefficient\n",
      "... Fisher transforming correlations\n",
      "... Computing similarity matrix\n",
      "\n",
      "\u001b[1mDONE\u001b[0m\n",
      "\u001b[1mSUBJECT A009\u001b[0m\n",
      "\u001b[1mCOMPUTE VOXELWISE FC\u001b[0m\n",
      "\u001b[37mStandardize = True\u001b[0m\n",
      "\u001b[37mOverwrite results = False\u001b[0m\n",
      "... Loading data\n",
      "... Computing FC for all possibilities\n",
      "... Computing correlation coefficient\n",
      "... Fisher transforming correlations\n",
      "... Computing similarity matrix\n",
      "\n",
      "\u001b[1mDONE\u001b[0m\n",
      "\u001b[1mSUBJECT A011\u001b[0m\n",
      "\u001b[1mCOMPUTE VOXELWISE FC\u001b[0m\n",
      "\u001b[37mStandardize = True\u001b[0m\n",
      "\u001b[37mOverwrite results = False\u001b[0m\n",
      "... Loading data\n",
      "... Computing FC for all possibilities\n",
      "... Computing correlation coefficient\n",
      "... Fisher transforming correlations\n",
      "... Computing similarity matrix\n",
      "\n",
      "\u001b[1mDONE\u001b[0m\n",
      "\u001b[1mSUBJECT A013\u001b[0m\n",
      "\u001b[1mCOMPUTE VOXELWISE FC\u001b[0m\n",
      "\u001b[37mStandardize = True\u001b[0m\n",
      "\u001b[37mOverwrite results = False\u001b[0m\n",
      "... Loading data\n",
      "... Computing FC for all possibilities\n",
      "... Computing correlation coefficient\n",
      "... Fisher transforming correlations\n",
      "... Computing similarity matrix\n",
      "\n",
      "\u001b[1mDONE\u001b[0m\n",
      "\u001b[1mSUBJECT A023\u001b[0m\n",
      "\u001b[1mCOMPUTE VOXELWISE FC\u001b[0m\n",
      "\u001b[37mStandardize = True\u001b[0m\n",
      "\u001b[37mOverwrite results = False\u001b[0m\n",
      "... Loading data\n",
      "... Computing FC for all possibilities\n",
      "... Computing correlation coefficient\n",
      "... Fisher transforming correlations\n",
      "... Computing similarity matrix\n",
      "\n",
      "\u001b[1mDONE\u001b[0m\n",
      "\u001b[1mSUBJECT A024\u001b[0m\n",
      "\u001b[1mCOMPUTE VOXELWISE FC\u001b[0m\n",
      "\u001b[37mStandardize = True\u001b[0m\n",
      "\u001b[37mOverwrite results = False\u001b[0m\n",
      "... Loading data\n",
      "... Computing FC for all possibilities\n",
      "... Computing correlation coefficient\n",
      "... Fisher transforming correlations\n",
      "... Computing similarity matrix\n",
      "\n",
      "\u001b[1mDONE\u001b[0m\n",
      "\u001b[1mSUBJECT A025\u001b[0m\n",
      "\u001b[1mCOMPUTE VOXELWISE FC\u001b[0m\n",
      "\u001b[37mStandardize = True\u001b[0m\n",
      "\u001b[37mOverwrite results = False\u001b[0m\n",
      "... Loading data\n",
      "... Computing FC for all possibilities\n",
      "... Computing correlation coefficient\n",
      "... Fisher transforming correlations\n",
      "... Computing similarity matrix\n",
      "\n",
      "\u001b[1mDONE\u001b[0m\n",
      "\u001b[1mSUBJECT A026\u001b[0m\n",
      "\u001b[1mCOMPUTE VOXELWISE FC\u001b[0m\n",
      "\u001b[37mStandardize = True\u001b[0m\n",
      "\u001b[37mOverwrite results = False\u001b[0m\n",
      "... Loading data\n",
      "... Computing FC for all possibilities\n",
      "... Computing correlation coefficient\n",
      "... Fisher transforming correlations\n",
      "... Computing similarity matrix\n",
      "\n",
      "\u001b[1mDONE\u001b[0m\n",
      "\u001b[1mSUBJECT A027\u001b[0m\n",
      "\u001b[1mCOMPUTE VOXELWISE FC\u001b[0m\n",
      "\u001b[37mStandardize = True\u001b[0m\n",
      "\u001b[37mOverwrite results = False\u001b[0m\n",
      "... Loading data\n",
      "... Computing FC for all possibilities\n",
      "... Computing correlation coefficient\n",
      "... Fisher transforming correlations\n",
      "... Computing similarity matrix\n",
      "\n",
      "\u001b[1mDONE\u001b[0m\n",
      "\u001b[1mSUBJECT A028\u001b[0m\n",
      "\u001b[1mCOMPUTE VOXELWISE FC\u001b[0m\n",
      "\u001b[37mStandardize = True\u001b[0m\n",
      "\u001b[37mOverwrite results = False\u001b[0m\n",
      "... Loading data\n",
      "... Computing FC for all possibilities\n",
      "... Computing correlation coefficient\n",
      "... Fisher transforming correlations\n",
      "... Computing similarity matrix\n",
      "\n",
      "\u001b[1mDONE\u001b[0m\n",
      "\u001b[1mSUBJECT A029\u001b[0m\n",
      "\u001b[1mCOMPUTE VOXELWISE FC\u001b[0m\n",
      "\u001b[37mStandardize = True\u001b[0m\n",
      "\u001b[37mOverwrite results = False\u001b[0m\n",
      "... Loading data\n",
      "... Computing FC for all possibilities\n",
      "... Computing correlation coefficient\n",
      "... Fisher transforming correlations\n",
      "... Computing similarity matrix\n",
      "\n",
      "\u001b[1mDONE\u001b[0m\n",
      "\u001b[1mSUBJECT A030\u001b[0m\n",
      "\u001b[1mCOMPUTE VOXELWISE FC\u001b[0m\n",
      "\u001b[37mStandardize = True\u001b[0m\n",
      "\u001b[37mOverwrite results = False\u001b[0m\n",
      "... Loading data\n",
      "... Computing FC for all possibilities\n",
      "... Computing correlation coefficient\n",
      "... Fisher transforming correlations\n",
      "... Computing similarity matrix\n",
      "\n",
      "\u001b[1mDONE\u001b[0m\n",
      "\u001b[1mSUBJECT A032\u001b[0m\n",
      "\u001b[1mCOMPUTE VOXELWISE FC\u001b[0m\n",
      "\u001b[37mStandardize = True\u001b[0m\n",
      "\u001b[37mOverwrite results = False\u001b[0m\n",
      "... Loading data\n",
      "... Computing FC for all possibilities\n",
      "... Computing correlation coefficient\n",
      "... Fisher transforming correlations\n",
      "... Computing similarity matrix\n",
      "\n",
      "\u001b[1mDONE\u001b[0m\n",
      "\u001b[1mSUBJECT A033\u001b[0m\n",
      "\u001b[1mCOMPUTE VOXELWISE FC\u001b[0m\n",
      "\u001b[37mStandardize = True\u001b[0m\n",
      "\u001b[37mOverwrite results = False\u001b[0m\n",
      "... Loading data\n",
      "... Computing FC for all possibilities\n",
      "... Computing correlation coefficient\n",
      "... Fisher transforming correlations\n",
      "... Computing similarity matrix\n",
      "\n",
      "\u001b[1mDONE\u001b[0m\n",
      "\u001b[1mSUBJECT A034\u001b[0m\n",
      "\u001b[1mCOMPUTE VOXELWISE FC\u001b[0m\n",
      "\u001b[37mStandardize = True\u001b[0m\n",
      "\u001b[37mOverwrite results = False\u001b[0m\n",
      "... Loading data\n",
      "... Computing FC for all possibilities\n",
      "... Computing correlation coefficient\n",
      "... Fisher transforming correlations\n",
      "... Computing similarity matrix\n",
      "\n",
      "\u001b[1mDONE\u001b[0m\n",
      "\u001b[1mSUBJECT A036\u001b[0m\n",
      "\u001b[1mCOMPUTE VOXELWISE FC\u001b[0m\n",
      "\u001b[37mStandardize = True\u001b[0m\n",
      "\u001b[37mOverwrite results = False\u001b[0m\n",
      "... Loading data\n",
      "... Computing FC for all possibilities\n",
      "... Computing correlation coefficient\n",
      "... Fisher transforming correlations\n",
      "... Computing similarity matrix\n",
      "\n",
      "\u001b[1mDONE\u001b[0m\n",
      "\u001b[1mSUBJECT A037\u001b[0m\n",
      "\u001b[1mCOMPUTE VOXELWISE FC\u001b[0m\n",
      "\u001b[37mStandardize = True\u001b[0m\n",
      "\u001b[37mOverwrite results = False\u001b[0m\n",
      "... Loading data\n",
      "... Computing FC for all possibilities\n",
      "... Computing correlation coefficient\n",
      "... Fisher transforming correlations\n",
      "... Computing similarity matrix\n",
      "\n",
      "\u001b[1mDONE\u001b[0m\n",
      "\u001b[1mSUBJECT A038\u001b[0m\n",
      "\u001b[1mCOMPUTE VOXELWISE FC\u001b[0m\n",
      "\u001b[37mStandardize = True\u001b[0m\n",
      "\u001b[37mOverwrite results = False\u001b[0m\n",
      "... Loading data\n",
      "... Computing FC for all possibilities\n",
      "... Computing correlation coefficient\n",
      "... Fisher transforming correlations\n",
      "... Computing similarity matrix\n",
      "\n",
      "\u001b[1mDONE\u001b[0m\n",
      "\u001b[1mSUBJECT A039\u001b[0m\n",
      "\u001b[1mCOMPUTE VOXELWISE FC\u001b[0m\n",
      "\u001b[37mStandardize = True\u001b[0m\n",
      "\u001b[37mOverwrite results = False\u001b[0m\n",
      "... Loading data\n",
      "... Computing FC for all possibilities\n",
      "... Computing correlation coefficient\n",
      "... Fisher transforming correlations\n",
      "... Computing similarity matrix\n",
      "\n",
      "\u001b[1mDONE\u001b[0m\n",
      "\u001b[1mSUBJECT A043\u001b[0m\n",
      "\u001b[1mCOMPUTE VOXELWISE FC\u001b[0m\n",
      "\u001b[37mStandardize = True\u001b[0m\n",
      "\u001b[37mOverwrite results = False\u001b[0m\n",
      "... Loading data\n",
      "... Computing FC for all possibilities\n",
      "... Computing correlation coefficient\n",
      "... Fisher transforming correlations\n",
      "... Computing similarity matrix\n",
      "\n",
      "\u001b[1mDONE\u001b[0m\n",
      "\u001b[1mSUBJECT A044\u001b[0m\n",
      "\u001b[1mCOMPUTE VOXELWISE FC\u001b[0m\n",
      "\u001b[37mStandardize = True\u001b[0m\n",
      "\u001b[37mOverwrite results = False\u001b[0m\n",
      "... Loading data\n",
      "... Computing FC for all possibilities\n",
      "... Computing correlation coefficient\n",
      "... Fisher transforming correlations\n",
      "... Computing similarity matrix\n",
      "\n",
      "\u001b[1mDONE\u001b[0m\n",
      "\u001b[1mSUBJECT A045\u001b[0m\n",
      "\u001b[1mCOMPUTE VOXELWISE FC\u001b[0m\n",
      "\u001b[37mStandardize = True\u001b[0m\n",
      "\u001b[37mOverwrite results = False\u001b[0m\n",
      "... Loading data\n",
      "... Computing FC for all possibilities\n",
      "... Computing correlation coefficient\n",
      "... Fisher transforming correlations\n",
      "... Computing similarity matrix\n",
      "\n",
      "\u001b[1mDONE\u001b[0m\n",
      "\u001b[1mSUBJECT A046\u001b[0m\n",
      "\u001b[1mCOMPUTE VOXELWISE FC\u001b[0m\n",
      "\u001b[37mStandardize = True\u001b[0m\n",
      "\u001b[37mOverwrite results = False\u001b[0m\n",
      "... Loading data\n",
      "... Computing FC for all possibilities\n",
      "... Computing correlation coefficient\n",
      "... Fisher transforming correlations\n",
      "... Computing similarity matrix\n",
      "\n",
      "\u001b[1mDONE\u001b[0m\n",
      "\u001b[1mSUBJECT A048\u001b[0m\n",
      "\u001b[1mCOMPUTE VOXELWISE FC\u001b[0m\n",
      "\u001b[37mStandardize = True\u001b[0m\n",
      "\u001b[37mOverwrite results = False\u001b[0m\n",
      "... Loading data\n",
      "... Computing FC for all possibilities\n",
      "... Computing correlation coefficient\n",
      "... Fisher transforming correlations\n",
      "... Computing similarity matrix\n",
      "\n",
      "\u001b[1mDONE\u001b[0m\n",
      "\u001b[1mSUBJECT A050\u001b[0m\n",
      "\u001b[1mCOMPUTE VOXELWISE FC\u001b[0m\n",
      "\u001b[37mStandardize = True\u001b[0m\n",
      "\u001b[37mOverwrite results = False\u001b[0m\n",
      "... Loading data\n"
     ]
    },
    {
     "name": "stdout",
     "output_type": "stream",
     "text": [
      "... Computing FC for all possibilities\n",
      "... Computing correlation coefficient\n",
      "... Fisher transforming correlations\n",
      "... Computing similarity matrix\n",
      "\n",
      "\u001b[1mDONE\u001b[0m\n",
      "\u001b[1mSUBJECT A051\u001b[0m\n",
      "\u001b[1mCOMPUTE VOXELWISE FC\u001b[0m\n",
      "\u001b[37mStandardize = True\u001b[0m\n",
      "\u001b[37mOverwrite results = False\u001b[0m\n",
      "... Loading data\n",
      "... Computing FC for all possibilities\n",
      "... Computing correlation coefficient\n",
      "... Fisher transforming correlations\n",
      "... Computing similarity matrix\n",
      "\n",
      "\u001b[1mDONE\u001b[0m\n",
      "\u001b[1mSUBJECT A052\u001b[0m\n",
      "\u001b[1mCOMPUTE VOXELWISE FC\u001b[0m\n",
      "\u001b[37mStandardize = True\u001b[0m\n",
      "\u001b[37mOverwrite results = False\u001b[0m\n",
      "... Loading data\n",
      "... Computing FC for all possibilities\n",
      "... Computing correlation coefficient\n",
      "... Fisher transforming correlations\n",
      "... Computing similarity matrix\n",
      "\n",
      "\u001b[1mDONE\u001b[0m\n",
      "\u001b[1mCOMPUTE MEAN ACROSS PARTICIPANTS\u001b[0m\n",
      "\u001b[37mOverwrite results = False\u001b[0m\n",
      "... Computing mean similarity matrix\n",
      "\n",
      "\u001b[1mDONE\u001b[0m\n",
      "\u001b[1m... Operation performed in 858.98 s!\u001b[0m\n"
     ]
    }
   ],
   "source": [
    "# Loop through the subjects to compute fc \n",
    "for sub_id,sub in enumerate(fc_parcellation.config['list_subjects']): \n",
    "    print(f'\\033[1mSUBJECT {sub}\\033[0m')\n",
    "    fc_parcellation.compute_voxelwise_fc(sub=sub, overwrite=False)"
   ]
  },
  {
   "cell_type": "markdown",
   "id": "cedf9d95",
   "metadata": {},
   "source": [
    "### Compute stability of similarity matrix across participants"
   ]
  },
  {
   "cell_type": "code",
   "execution_count": 10,
   "id": "38afe7e0",
   "metadata": {},
   "outputs": [
    {
     "name": "stdout",
     "output_type": "stream",
     "text": [
      "\u001b[1mSTABILITY ANALYSIS\u001b[0m\n",
      "\u001b[37mOverwrite results = False\u001b[0m\n",
      "... Loading similarity matrices\n",
      "... Computing stability across participants\n",
      "\n",
      "\u001b[1mDONE\u001b[0m\n"
     ]
    }
   ],
   "source": [
    "fc_parcellation.stability_similarity(overwrite=False)"
   ]
  },
  {
   "cell_type": "markdown",
   "id": "66df7a8c",
   "metadata": {},
   "source": [
    "### Compute mean similarity matrix across participants"
   ]
  },
  {
   "cell_type": "code",
   "execution_count": 22,
   "id": "4aeeb7fb",
   "metadata": {},
   "outputs": [
    {
     "name": "stdout",
     "output_type": "stream",
     "text": [
      "\u001b[1mCOMPUTE MEAN ACROSS PARTICIPANTS\u001b[0m\n",
      "\u001b[37mOverwrite results = False\u001b[0m\n",
      "... Computing mean FC\n",
      "... Mean similarity matrix already computed\n",
      "\n",
      "\u001b[1mDONE\u001b[0m\n"
     ]
    }
   ],
   "source": [
    "fc_parcellation.compute_mean_fc_sim(overwrite=False)"
   ]
  },
  {
   "cell_type": "markdown",
   "id": "347d1de4",
   "metadata": {},
   "source": [
    "### Compute the clustering on the mean similarity matrix and generate corresponding maps"
   ]
  },
  {
   "cell_type": "code",
   "execution_count": 39,
   "id": "e25c3ad0",
   "metadata": {},
   "outputs": [
    {
     "name": "stdout",
     "output_type": "stream",
     "text": [
      "\u001b[1mCLUSTERING AT THE INDIVIDUAL LEVEL\u001b[0m\n",
      "\u001b[37mK value(s) = range(2, 21)\u001b[0m\n",
      "\u001b[37mOverwrite results = False\u001b[0m\n",
      "\u001b[1mClustering will be done on the mean across participants!\u001b[0m\n",
      "K = 2\n",
      "... Labels already computed\n",
      "K = 3\n",
      "... Labels already computed\n",
      "K = 4\n",
      "... Labels already computed\n",
      "K = 5\n",
      "... Labels already computed\n",
      "K = 6\n",
      "... Labels already computed\n",
      "K = 7\n",
      "... Labels already computed\n",
      "K = 8\n",
      "... Labels already computed\n",
      "K = 9\n",
      "... Labels already computed\n",
      "K = 10\n",
      "... Labels already computed\n",
      "K = 11\n",
      "... Labels already computed\n",
      "K = 12\n",
      "... Labels already computed\n",
      "K = 13\n",
      "... Labels already computed\n",
      "K = 14\n",
      "... Labels already computed\n",
      "K = 15\n",
      "... Loading similarity matrix from file\n",
      "... Running agglomerative clustering\n"
     ]
    },
    {
     "name": "stderr",
     "output_type": "stream",
     "text": [
      "/home/kinany/anaconda3/lib/python3.9/site-packages/nilearn/masking.py:974: UserWarning: Data array used to create a new image contains 64-bit ints. This is likely due to creating the array with numpy and passing `int` as the `dtype`. Many tools such as FSL and SPM cannot deal with int64 in Nifti images, so for compatibility the data has been converted to int32.\n",
      "  return new_img_like(mask_img, unmasked, affine)\n"
     ]
    },
    {
     "name": "stdout",
     "output_type": "stream",
     "text": [
      "K = 16\n",
      "... Running agglomerative clustering\n"
     ]
    },
    {
     "name": "stderr",
     "output_type": "stream",
     "text": [
      "/home/kinany/anaconda3/lib/python3.9/site-packages/nilearn/masking.py:974: UserWarning: Data array used to create a new image contains 64-bit ints. This is likely due to creating the array with numpy and passing `int` as the `dtype`. Many tools such as FSL and SPM cannot deal with int64 in Nifti images, so for compatibility the data has been converted to int32.\n",
      "  return new_img_like(mask_img, unmasked, affine)\n"
     ]
    },
    {
     "name": "stdout",
     "output_type": "stream",
     "text": [
      "K = 17\n",
      "... Running agglomerative clustering\n"
     ]
    },
    {
     "name": "stderr",
     "output_type": "stream",
     "text": [
      "/home/kinany/anaconda3/lib/python3.9/site-packages/nilearn/masking.py:974: UserWarning: Data array used to create a new image contains 64-bit ints. This is likely due to creating the array with numpy and passing `int` as the `dtype`. Many tools such as FSL and SPM cannot deal with int64 in Nifti images, so for compatibility the data has been converted to int32.\n",
      "  return new_img_like(mask_img, unmasked, affine)\n"
     ]
    },
    {
     "name": "stdout",
     "output_type": "stream",
     "text": [
      "K = 18\n",
      "... Running agglomerative clustering\n"
     ]
    },
    {
     "name": "stderr",
     "output_type": "stream",
     "text": [
      "/home/kinany/anaconda3/lib/python3.9/site-packages/nilearn/masking.py:974: UserWarning: Data array used to create a new image contains 64-bit ints. This is likely due to creating the array with numpy and passing `int` as the `dtype`. Many tools such as FSL and SPM cannot deal with int64 in Nifti images, so for compatibility the data has been converted to int32.\n",
      "  return new_img_like(mask_img, unmasked, affine)\n"
     ]
    },
    {
     "name": "stdout",
     "output_type": "stream",
     "text": [
      "K = 19\n",
      "... Running agglomerative clustering\n"
     ]
    },
    {
     "name": "stderr",
     "output_type": "stream",
     "text": [
      "/home/kinany/anaconda3/lib/python3.9/site-packages/nilearn/masking.py:974: UserWarning: Data array used to create a new image contains 64-bit ints. This is likely due to creating the array with numpy and passing `int` as the `dtype`. Many tools such as FSL and SPM cannot deal with int64 in Nifti images, so for compatibility the data has been converted to int32.\n",
      "  return new_img_like(mask_img, unmasked, affine)\n"
     ]
    },
    {
     "name": "stdout",
     "output_type": "stream",
     "text": [
      "K = 20\n",
      "... Running agglomerative clustering\n",
      "\n",
      "\n"
     ]
    },
    {
     "name": "stderr",
     "output_type": "stream",
     "text": [
      "/home/kinany/anaconda3/lib/python3.9/site-packages/nilearn/masking.py:974: UserWarning: Data array used to create a new image contains 64-bit ints. This is likely due to creating the array with numpy and passing `int` as the `dtype`. Many tools such as FSL and SPM cannot deal with int64 in Nifti images, so for compatibility the data has been converted to int32.\n",
      "  return new_img_like(mask_img, unmasked, affine)\n"
     ]
    }
   ],
   "source": [
    "fc_parcellation.run_clustering(take_mean=True,sub=None, k_range=range(2,21), overwrite=False)"
   ]
  },
  {
   "cell_type": "markdown",
   "id": "a84e0767",
   "metadata": {},
   "source": [
    "### Generate image of the dendrogram for K = 7"
   ]
  },
  {
   "cell_type": "code",
   "execution_count": 29,
   "id": "8e63bc50",
   "metadata": {},
   "outputs": [
    {
     "name": "stdout",
     "output_type": "stream",
     "text": [
      "\u001b[1mPLOT DENDROGRAM\u001b[0m\n",
      "\u001b[37mK value(s) = 7\u001b[0m\n",
      "\u001b[37mOverwrite results = False\u001b[0m\n",
      "K = 7\n",
      "... Image already exists\n",
      "\n",
      "\n"
     ]
    }
   ],
   "source": [
    "fc_parcellation.plot_dendrogram(k_range=7)"
   ]
  },
  {
   "cell_type": "markdown",
   "id": "9a2d954d",
   "metadata": {},
   "source": [
    "### Evaluate inter-participant stability"
   ]
  },
  {
   "cell_type": "code",
   "execution_count": 32,
   "id": "e6bb2309",
   "metadata": {},
   "outputs": [
    {
     "name": "stdout",
     "output_type": "stream",
     "text": [
      "\u001b[1mSUBJECT P030\u001b[0m\n",
      "\u001b[1mCLUSTERING AT THE INDIVIDUAL LEVEL\u001b[0m\n",
      "\u001b[37mK value(s) = 7\u001b[0m\n",
      "\u001b[37mOverwrite results = False\u001b[0m\n",
      "K = 7\n",
      "... Loading similarity matrix from file\n",
      "... Running agglomerative clustering\n"
     ]
    },
    {
     "name": "stderr",
     "output_type": "stream",
     "text": [
      "/home/kinany/anaconda3/lib/python3.9/site-packages/nilearn/masking.py:974: UserWarning: Data array used to create a new image contains 64-bit ints. This is likely due to creating the array with numpy and passing `int` as the `dtype`. Many tools such as FSL and SPM cannot deal with int64 in Nifti images, so for compatibility the data has been converted to int32.\n",
      "  return new_img_like(mask_img, unmasked, affine)\n"
     ]
    },
    {
     "name": "stdout",
     "output_type": "stream",
     "text": [
      "\n",
      "\n",
      "\u001b[1mSUBJECT P099\u001b[0m\n",
      "\u001b[1mCLUSTERING AT THE INDIVIDUAL LEVEL\u001b[0m\n",
      "\u001b[37mK value(s) = 7\u001b[0m\n",
      "\u001b[37mOverwrite results = False\u001b[0m\n",
      "K = 7\n",
      "... Loading similarity matrix from file\n",
      "... Running agglomerative clustering\n"
     ]
    },
    {
     "name": "stderr",
     "output_type": "stream",
     "text": [
      "/home/kinany/anaconda3/lib/python3.9/site-packages/nilearn/masking.py:974: UserWarning: Data array used to create a new image contains 64-bit ints. This is likely due to creating the array with numpy and passing `int` as the `dtype`. Many tools such as FSL and SPM cannot deal with int64 in Nifti images, so for compatibility the data has been converted to int32.\n",
      "  return new_img_like(mask_img, unmasked, affine)\n"
     ]
    },
    {
     "name": "stdout",
     "output_type": "stream",
     "text": [
      "\n",
      "\n",
      "\u001b[1mSUBJECT A006\u001b[0m\n",
      "\u001b[1mCLUSTERING AT THE INDIVIDUAL LEVEL\u001b[0m\n",
      "\u001b[37mK value(s) = 7\u001b[0m\n",
      "\u001b[37mOverwrite results = False\u001b[0m\n",
      "K = 7\n",
      "... Loading similarity matrix from file\n",
      "... Running agglomerative clustering\n"
     ]
    },
    {
     "name": "stderr",
     "output_type": "stream",
     "text": [
      "/home/kinany/anaconda3/lib/python3.9/site-packages/nilearn/masking.py:974: UserWarning: Data array used to create a new image contains 64-bit ints. This is likely due to creating the array with numpy and passing `int` as the `dtype`. Many tools such as FSL and SPM cannot deal with int64 in Nifti images, so for compatibility the data has been converted to int32.\n",
      "  return new_img_like(mask_img, unmasked, affine)\n"
     ]
    },
    {
     "name": "stdout",
     "output_type": "stream",
     "text": [
      "\n",
      "\n",
      "\u001b[1mSUBJECT A007\u001b[0m\n",
      "\u001b[1mCLUSTERING AT THE INDIVIDUAL LEVEL\u001b[0m\n",
      "\u001b[37mK value(s) = 7\u001b[0m\n",
      "\u001b[37mOverwrite results = False\u001b[0m\n",
      "K = 7\n",
      "... Loading similarity matrix from file\n",
      "... Running agglomerative clustering\n"
     ]
    },
    {
     "name": "stderr",
     "output_type": "stream",
     "text": [
      "/home/kinany/anaconda3/lib/python3.9/site-packages/nilearn/masking.py:974: UserWarning: Data array used to create a new image contains 64-bit ints. This is likely due to creating the array with numpy and passing `int` as the `dtype`. Many tools such as FSL and SPM cannot deal with int64 in Nifti images, so for compatibility the data has been converted to int32.\n",
      "  return new_img_like(mask_img, unmasked, affine)\n"
     ]
    },
    {
     "name": "stdout",
     "output_type": "stream",
     "text": [
      "\n",
      "\n",
      "\u001b[1mSUBJECT A008\u001b[0m\n",
      "\u001b[1mCLUSTERING AT THE INDIVIDUAL LEVEL\u001b[0m\n",
      "\u001b[37mK value(s) = 7\u001b[0m\n",
      "\u001b[37mOverwrite results = False\u001b[0m\n",
      "K = 7\n",
      "... Loading similarity matrix from file\n",
      "... Running agglomerative clustering\n"
     ]
    },
    {
     "name": "stderr",
     "output_type": "stream",
     "text": [
      "/home/kinany/anaconda3/lib/python3.9/site-packages/nilearn/masking.py:974: UserWarning: Data array used to create a new image contains 64-bit ints. This is likely due to creating the array with numpy and passing `int` as the `dtype`. Many tools such as FSL and SPM cannot deal with int64 in Nifti images, so for compatibility the data has been converted to int32.\n",
      "  return new_img_like(mask_img, unmasked, affine)\n"
     ]
    },
    {
     "name": "stdout",
     "output_type": "stream",
     "text": [
      "\n",
      "\n",
      "\u001b[1mSUBJECT A009\u001b[0m\n",
      "\u001b[1mCLUSTERING AT THE INDIVIDUAL LEVEL\u001b[0m\n",
      "\u001b[37mK value(s) = 7\u001b[0m\n",
      "\u001b[37mOverwrite results = False\u001b[0m\n",
      "K = 7\n",
      "... Loading similarity matrix from file\n",
      "... Running agglomerative clustering\n"
     ]
    },
    {
     "name": "stderr",
     "output_type": "stream",
     "text": [
      "/home/kinany/anaconda3/lib/python3.9/site-packages/nilearn/masking.py:974: UserWarning: Data array used to create a new image contains 64-bit ints. This is likely due to creating the array with numpy and passing `int` as the `dtype`. Many tools such as FSL and SPM cannot deal with int64 in Nifti images, so for compatibility the data has been converted to int32.\n",
      "  return new_img_like(mask_img, unmasked, affine)\n"
     ]
    },
    {
     "name": "stdout",
     "output_type": "stream",
     "text": [
      "\n",
      "\n",
      "\u001b[1mSUBJECT A011\u001b[0m\n",
      "\u001b[1mCLUSTERING AT THE INDIVIDUAL LEVEL\u001b[0m\n",
      "\u001b[37mK value(s) = 7\u001b[0m\n",
      "\u001b[37mOverwrite results = False\u001b[0m\n",
      "K = 7\n",
      "... Loading similarity matrix from file\n",
      "... Running agglomerative clustering\n"
     ]
    },
    {
     "name": "stderr",
     "output_type": "stream",
     "text": [
      "/home/kinany/anaconda3/lib/python3.9/site-packages/nilearn/masking.py:974: UserWarning: Data array used to create a new image contains 64-bit ints. This is likely due to creating the array with numpy and passing `int` as the `dtype`. Many tools such as FSL and SPM cannot deal with int64 in Nifti images, so for compatibility the data has been converted to int32.\n",
      "  return new_img_like(mask_img, unmasked, affine)\n"
     ]
    },
    {
     "name": "stdout",
     "output_type": "stream",
     "text": [
      "\n",
      "\n",
      "\u001b[1mSUBJECT A013\u001b[0m\n",
      "\u001b[1mCLUSTERING AT THE INDIVIDUAL LEVEL\u001b[0m\n",
      "\u001b[37mK value(s) = 7\u001b[0m\n",
      "\u001b[37mOverwrite results = False\u001b[0m\n",
      "K = 7\n",
      "... Loading similarity matrix from file\n",
      "... Running agglomerative clustering\n"
     ]
    },
    {
     "name": "stderr",
     "output_type": "stream",
     "text": [
      "/home/kinany/anaconda3/lib/python3.9/site-packages/nilearn/masking.py:974: UserWarning: Data array used to create a new image contains 64-bit ints. This is likely due to creating the array with numpy and passing `int` as the `dtype`. Many tools such as FSL and SPM cannot deal with int64 in Nifti images, so for compatibility the data has been converted to int32.\n",
      "  return new_img_like(mask_img, unmasked, affine)\n"
     ]
    },
    {
     "name": "stdout",
     "output_type": "stream",
     "text": [
      "\n",
      "\n",
      "\u001b[1mSUBJECT A023\u001b[0m\n",
      "\u001b[1mCLUSTERING AT THE INDIVIDUAL LEVEL\u001b[0m\n",
      "\u001b[37mK value(s) = 7\u001b[0m\n",
      "\u001b[37mOverwrite results = False\u001b[0m\n",
      "K = 7\n",
      "... Loading similarity matrix from file\n",
      "... Running agglomerative clustering\n"
     ]
    },
    {
     "name": "stderr",
     "output_type": "stream",
     "text": [
      "/home/kinany/anaconda3/lib/python3.9/site-packages/nilearn/masking.py:974: UserWarning: Data array used to create a new image contains 64-bit ints. This is likely due to creating the array with numpy and passing `int` as the `dtype`. Many tools such as FSL and SPM cannot deal with int64 in Nifti images, so for compatibility the data has been converted to int32.\n",
      "  return new_img_like(mask_img, unmasked, affine)\n"
     ]
    },
    {
     "name": "stdout",
     "output_type": "stream",
     "text": [
      "\n",
      "\n",
      "\u001b[1mSUBJECT A024\u001b[0m\n",
      "\u001b[1mCLUSTERING AT THE INDIVIDUAL LEVEL\u001b[0m\n",
      "\u001b[37mK value(s) = 7\u001b[0m\n",
      "\u001b[37mOverwrite results = False\u001b[0m\n",
      "K = 7\n",
      "... Loading similarity matrix from file\n",
      "... Running agglomerative clustering\n"
     ]
    },
    {
     "name": "stderr",
     "output_type": "stream",
     "text": [
      "/home/kinany/anaconda3/lib/python3.9/site-packages/nilearn/masking.py:974: UserWarning: Data array used to create a new image contains 64-bit ints. This is likely due to creating the array with numpy and passing `int` as the `dtype`. Many tools such as FSL and SPM cannot deal with int64 in Nifti images, so for compatibility the data has been converted to int32.\n",
      "  return new_img_like(mask_img, unmasked, affine)\n"
     ]
    },
    {
     "name": "stdout",
     "output_type": "stream",
     "text": [
      "\n",
      "\n",
      "\u001b[1mSUBJECT A025\u001b[0m\n",
      "\u001b[1mCLUSTERING AT THE INDIVIDUAL LEVEL\u001b[0m\n",
      "\u001b[37mK value(s) = 7\u001b[0m\n",
      "\u001b[37mOverwrite results = False\u001b[0m\n",
      "K = 7\n",
      "... Loading similarity matrix from file\n",
      "... Running agglomerative clustering\n"
     ]
    },
    {
     "name": "stderr",
     "output_type": "stream",
     "text": [
      "/home/kinany/anaconda3/lib/python3.9/site-packages/nilearn/masking.py:974: UserWarning: Data array used to create a new image contains 64-bit ints. This is likely due to creating the array with numpy and passing `int` as the `dtype`. Many tools such as FSL and SPM cannot deal with int64 in Nifti images, so for compatibility the data has been converted to int32.\n",
      "  return new_img_like(mask_img, unmasked, affine)\n"
     ]
    },
    {
     "name": "stdout",
     "output_type": "stream",
     "text": [
      "\n",
      "\n",
      "\u001b[1mSUBJECT A026\u001b[0m\n",
      "\u001b[1mCLUSTERING AT THE INDIVIDUAL LEVEL\u001b[0m\n",
      "\u001b[37mK value(s) = 7\u001b[0m\n",
      "\u001b[37mOverwrite results = False\u001b[0m\n",
      "K = 7\n",
      "... Loading similarity matrix from file\n",
      "... Running agglomerative clustering\n"
     ]
    },
    {
     "name": "stderr",
     "output_type": "stream",
     "text": [
      "/home/kinany/anaconda3/lib/python3.9/site-packages/nilearn/masking.py:974: UserWarning: Data array used to create a new image contains 64-bit ints. This is likely due to creating the array with numpy and passing `int` as the `dtype`. Many tools such as FSL and SPM cannot deal with int64 in Nifti images, so for compatibility the data has been converted to int32.\n",
      "  return new_img_like(mask_img, unmasked, affine)\n"
     ]
    },
    {
     "name": "stdout",
     "output_type": "stream",
     "text": [
      "\n",
      "\n",
      "\u001b[1mSUBJECT A027\u001b[0m\n",
      "\u001b[1mCLUSTERING AT THE INDIVIDUAL LEVEL\u001b[0m\n",
      "\u001b[37mK value(s) = 7\u001b[0m\n",
      "\u001b[37mOverwrite results = False\u001b[0m\n",
      "K = 7\n",
      "... Loading similarity matrix from file\n",
      "... Running agglomerative clustering\n"
     ]
    },
    {
     "name": "stderr",
     "output_type": "stream",
     "text": [
      "/home/kinany/anaconda3/lib/python3.9/site-packages/nilearn/masking.py:974: UserWarning: Data array used to create a new image contains 64-bit ints. This is likely due to creating the array with numpy and passing `int` as the `dtype`. Many tools such as FSL and SPM cannot deal with int64 in Nifti images, so for compatibility the data has been converted to int32.\n",
      "  return new_img_like(mask_img, unmasked, affine)\n"
     ]
    },
    {
     "name": "stdout",
     "output_type": "stream",
     "text": [
      "\n",
      "\n",
      "\u001b[1mSUBJECT A028\u001b[0m\n",
      "\u001b[1mCLUSTERING AT THE INDIVIDUAL LEVEL\u001b[0m\n",
      "\u001b[37mK value(s) = 7\u001b[0m\n",
      "\u001b[37mOverwrite results = False\u001b[0m\n",
      "K = 7\n",
      "... Loading similarity matrix from file\n",
      "... Running agglomerative clustering\n"
     ]
    },
    {
     "name": "stderr",
     "output_type": "stream",
     "text": [
      "/home/kinany/anaconda3/lib/python3.9/site-packages/nilearn/masking.py:974: UserWarning: Data array used to create a new image contains 64-bit ints. This is likely due to creating the array with numpy and passing `int` as the `dtype`. Many tools such as FSL and SPM cannot deal with int64 in Nifti images, so for compatibility the data has been converted to int32.\n",
      "  return new_img_like(mask_img, unmasked, affine)\n"
     ]
    },
    {
     "name": "stdout",
     "output_type": "stream",
     "text": [
      "\n",
      "\n",
      "\u001b[1mSUBJECT A029\u001b[0m\n",
      "\u001b[1mCLUSTERING AT THE INDIVIDUAL LEVEL\u001b[0m\n",
      "\u001b[37mK value(s) = 7\u001b[0m\n",
      "\u001b[37mOverwrite results = False\u001b[0m\n",
      "K = 7\n",
      "... Loading similarity matrix from file\n",
      "... Running agglomerative clustering\n"
     ]
    },
    {
     "name": "stderr",
     "output_type": "stream",
     "text": [
      "/home/kinany/anaconda3/lib/python3.9/site-packages/nilearn/masking.py:974: UserWarning: Data array used to create a new image contains 64-bit ints. This is likely due to creating the array with numpy and passing `int` as the `dtype`. Many tools such as FSL and SPM cannot deal with int64 in Nifti images, so for compatibility the data has been converted to int32.\n",
      "  return new_img_like(mask_img, unmasked, affine)\n"
     ]
    },
    {
     "name": "stdout",
     "output_type": "stream",
     "text": [
      "\n",
      "\n",
      "\u001b[1mSUBJECT A030\u001b[0m\n",
      "\u001b[1mCLUSTERING AT THE INDIVIDUAL LEVEL\u001b[0m\n",
      "\u001b[37mK value(s) = 7\u001b[0m\n",
      "\u001b[37mOverwrite results = False\u001b[0m\n",
      "K = 7\n",
      "... Loading similarity matrix from file\n",
      "... Running agglomerative clustering\n"
     ]
    },
    {
     "name": "stderr",
     "output_type": "stream",
     "text": [
      "/home/kinany/anaconda3/lib/python3.9/site-packages/nilearn/masking.py:974: UserWarning: Data array used to create a new image contains 64-bit ints. This is likely due to creating the array with numpy and passing `int` as the `dtype`. Many tools such as FSL and SPM cannot deal with int64 in Nifti images, so for compatibility the data has been converted to int32.\n",
      "  return new_img_like(mask_img, unmasked, affine)\n"
     ]
    },
    {
     "name": "stdout",
     "output_type": "stream",
     "text": [
      "\n",
      "\n",
      "\u001b[1mSUBJECT A032\u001b[0m\n",
      "\u001b[1mCLUSTERING AT THE INDIVIDUAL LEVEL\u001b[0m\n",
      "\u001b[37mK value(s) = 7\u001b[0m\n",
      "\u001b[37mOverwrite results = False\u001b[0m\n",
      "K = 7\n",
      "... Loading similarity matrix from file\n",
      "... Running agglomerative clustering\n"
     ]
    },
    {
     "name": "stderr",
     "output_type": "stream",
     "text": [
      "/home/kinany/anaconda3/lib/python3.9/site-packages/nilearn/masking.py:974: UserWarning: Data array used to create a new image contains 64-bit ints. This is likely due to creating the array with numpy and passing `int` as the `dtype`. Many tools such as FSL and SPM cannot deal with int64 in Nifti images, so for compatibility the data has been converted to int32.\n",
      "  return new_img_like(mask_img, unmasked, affine)\n"
     ]
    },
    {
     "name": "stdout",
     "output_type": "stream",
     "text": [
      "\n",
      "\n",
      "\u001b[1mSUBJECT A033\u001b[0m\n",
      "\u001b[1mCLUSTERING AT THE INDIVIDUAL LEVEL\u001b[0m\n",
      "\u001b[37mK value(s) = 7\u001b[0m\n",
      "\u001b[37mOverwrite results = False\u001b[0m\n",
      "K = 7\n",
      "... Loading similarity matrix from file\n",
      "... Running agglomerative clustering\n"
     ]
    },
    {
     "name": "stderr",
     "output_type": "stream",
     "text": [
      "/home/kinany/anaconda3/lib/python3.9/site-packages/nilearn/masking.py:974: UserWarning: Data array used to create a new image contains 64-bit ints. This is likely due to creating the array with numpy and passing `int` as the `dtype`. Many tools such as FSL and SPM cannot deal with int64 in Nifti images, so for compatibility the data has been converted to int32.\n",
      "  return new_img_like(mask_img, unmasked, affine)\n"
     ]
    },
    {
     "name": "stdout",
     "output_type": "stream",
     "text": [
      "\n",
      "\n",
      "\u001b[1mSUBJECT A034\u001b[0m\n",
      "\u001b[1mCLUSTERING AT THE INDIVIDUAL LEVEL\u001b[0m\n",
      "\u001b[37mK value(s) = 7\u001b[0m\n",
      "\u001b[37mOverwrite results = False\u001b[0m\n",
      "K = 7\n",
      "... Loading similarity matrix from file\n",
      "... Running agglomerative clustering\n"
     ]
    },
    {
     "name": "stderr",
     "output_type": "stream",
     "text": [
      "/home/kinany/anaconda3/lib/python3.9/site-packages/nilearn/masking.py:974: UserWarning: Data array used to create a new image contains 64-bit ints. This is likely due to creating the array with numpy and passing `int` as the `dtype`. Many tools such as FSL and SPM cannot deal with int64 in Nifti images, so for compatibility the data has been converted to int32.\n",
      "  return new_img_like(mask_img, unmasked, affine)\n"
     ]
    },
    {
     "name": "stdout",
     "output_type": "stream",
     "text": [
      "\n",
      "\n",
      "\u001b[1mSUBJECT A036\u001b[0m\n",
      "\u001b[1mCLUSTERING AT THE INDIVIDUAL LEVEL\u001b[0m\n",
      "\u001b[37mK value(s) = 7\u001b[0m\n",
      "\u001b[37mOverwrite results = False\u001b[0m\n",
      "K = 7\n",
      "... Loading similarity matrix from file\n",
      "... Running agglomerative clustering\n"
     ]
    },
    {
     "name": "stderr",
     "output_type": "stream",
     "text": [
      "/home/kinany/anaconda3/lib/python3.9/site-packages/nilearn/masking.py:974: UserWarning: Data array used to create a new image contains 64-bit ints. This is likely due to creating the array with numpy and passing `int` as the `dtype`. Many tools such as FSL and SPM cannot deal with int64 in Nifti images, so for compatibility the data has been converted to int32.\n",
      "  return new_img_like(mask_img, unmasked, affine)\n"
     ]
    },
    {
     "name": "stdout",
     "output_type": "stream",
     "text": [
      "\n",
      "\n",
      "\u001b[1mSUBJECT A037\u001b[0m\n",
      "\u001b[1mCLUSTERING AT THE INDIVIDUAL LEVEL\u001b[0m\n",
      "\u001b[37mK value(s) = 7\u001b[0m\n",
      "\u001b[37mOverwrite results = False\u001b[0m\n",
      "K = 7\n",
      "... Loading similarity matrix from file\n",
      "... Running agglomerative clustering\n"
     ]
    },
    {
     "name": "stderr",
     "output_type": "stream",
     "text": [
      "/home/kinany/anaconda3/lib/python3.9/site-packages/nilearn/masking.py:974: UserWarning: Data array used to create a new image contains 64-bit ints. This is likely due to creating the array with numpy and passing `int` as the `dtype`. Many tools such as FSL and SPM cannot deal with int64 in Nifti images, so for compatibility the data has been converted to int32.\n",
      "  return new_img_like(mask_img, unmasked, affine)\n"
     ]
    },
    {
     "name": "stdout",
     "output_type": "stream",
     "text": [
      "\n",
      "\n",
      "\u001b[1mSUBJECT A038\u001b[0m\n",
      "\u001b[1mCLUSTERING AT THE INDIVIDUAL LEVEL\u001b[0m\n",
      "\u001b[37mK value(s) = 7\u001b[0m\n",
      "\u001b[37mOverwrite results = False\u001b[0m\n",
      "K = 7\n",
      "... Loading similarity matrix from file\n",
      "... Running agglomerative clustering\n"
     ]
    },
    {
     "name": "stderr",
     "output_type": "stream",
     "text": [
      "/home/kinany/anaconda3/lib/python3.9/site-packages/nilearn/masking.py:974: UserWarning: Data array used to create a new image contains 64-bit ints. This is likely due to creating the array with numpy and passing `int` as the `dtype`. Many tools such as FSL and SPM cannot deal with int64 in Nifti images, so for compatibility the data has been converted to int32.\n",
      "  return new_img_like(mask_img, unmasked, affine)\n"
     ]
    },
    {
     "name": "stdout",
     "output_type": "stream",
     "text": [
      "\n",
      "\n",
      "\u001b[1mSUBJECT A039\u001b[0m\n",
      "\u001b[1mCLUSTERING AT THE INDIVIDUAL LEVEL\u001b[0m\n",
      "\u001b[37mK value(s) = 7\u001b[0m\n",
      "\u001b[37mOverwrite results = False\u001b[0m\n",
      "K = 7\n",
      "... Loading similarity matrix from file\n",
      "... Running agglomerative clustering\n"
     ]
    },
    {
     "name": "stderr",
     "output_type": "stream",
     "text": [
      "/home/kinany/anaconda3/lib/python3.9/site-packages/nilearn/masking.py:974: UserWarning: Data array used to create a new image contains 64-bit ints. This is likely due to creating the array with numpy and passing `int` as the `dtype`. Many tools such as FSL and SPM cannot deal with int64 in Nifti images, so for compatibility the data has been converted to int32.\n",
      "  return new_img_like(mask_img, unmasked, affine)\n"
     ]
    },
    {
     "name": "stdout",
     "output_type": "stream",
     "text": [
      "\n",
      "\n",
      "\u001b[1mSUBJECT A043\u001b[0m\n",
      "\u001b[1mCLUSTERING AT THE INDIVIDUAL LEVEL\u001b[0m\n",
      "\u001b[37mK value(s) = 7\u001b[0m\n",
      "\u001b[37mOverwrite results = False\u001b[0m\n",
      "K = 7\n",
      "... Loading similarity matrix from file\n",
      "... Running agglomerative clustering\n"
     ]
    },
    {
     "name": "stderr",
     "output_type": "stream",
     "text": [
      "/home/kinany/anaconda3/lib/python3.9/site-packages/nilearn/masking.py:974: UserWarning: Data array used to create a new image contains 64-bit ints. This is likely due to creating the array with numpy and passing `int` as the `dtype`. Many tools such as FSL and SPM cannot deal with int64 in Nifti images, so for compatibility the data has been converted to int32.\n",
      "  return new_img_like(mask_img, unmasked, affine)\n"
     ]
    },
    {
     "name": "stdout",
     "output_type": "stream",
     "text": [
      "\n",
      "\n",
      "\u001b[1mSUBJECT A044\u001b[0m\n",
      "\u001b[1mCLUSTERING AT THE INDIVIDUAL LEVEL\u001b[0m\n",
      "\u001b[37mK value(s) = 7\u001b[0m\n",
      "\u001b[37mOverwrite results = False\u001b[0m\n",
      "K = 7\n",
      "... Loading similarity matrix from file\n",
      "... Running agglomerative clustering\n"
     ]
    },
    {
     "name": "stderr",
     "output_type": "stream",
     "text": [
      "/home/kinany/anaconda3/lib/python3.9/site-packages/nilearn/masking.py:974: UserWarning: Data array used to create a new image contains 64-bit ints. This is likely due to creating the array with numpy and passing `int` as the `dtype`. Many tools such as FSL and SPM cannot deal with int64 in Nifti images, so for compatibility the data has been converted to int32.\n",
      "  return new_img_like(mask_img, unmasked, affine)\n"
     ]
    },
    {
     "name": "stdout",
     "output_type": "stream",
     "text": [
      "\n",
      "\n",
      "\u001b[1mSUBJECT A045\u001b[0m\n",
      "\u001b[1mCLUSTERING AT THE INDIVIDUAL LEVEL\u001b[0m\n",
      "\u001b[37mK value(s) = 7\u001b[0m\n",
      "\u001b[37mOverwrite results = False\u001b[0m\n",
      "K = 7\n",
      "... Loading similarity matrix from file\n",
      "... Running agglomerative clustering\n"
     ]
    },
    {
     "name": "stderr",
     "output_type": "stream",
     "text": [
      "/home/kinany/anaconda3/lib/python3.9/site-packages/nilearn/masking.py:974: UserWarning: Data array used to create a new image contains 64-bit ints. This is likely due to creating the array with numpy and passing `int` as the `dtype`. Many tools such as FSL and SPM cannot deal with int64 in Nifti images, so for compatibility the data has been converted to int32.\n",
      "  return new_img_like(mask_img, unmasked, affine)\n"
     ]
    },
    {
     "name": "stdout",
     "output_type": "stream",
     "text": [
      "\n",
      "\n",
      "\u001b[1mSUBJECT A046\u001b[0m\n",
      "\u001b[1mCLUSTERING AT THE INDIVIDUAL LEVEL\u001b[0m\n",
      "\u001b[37mK value(s) = 7\u001b[0m\n",
      "\u001b[37mOverwrite results = False\u001b[0m\n",
      "K = 7\n",
      "... Loading similarity matrix from file\n",
      "... Running agglomerative clustering\n"
     ]
    },
    {
     "name": "stderr",
     "output_type": "stream",
     "text": [
      "/home/kinany/anaconda3/lib/python3.9/site-packages/nilearn/masking.py:974: UserWarning: Data array used to create a new image contains 64-bit ints. This is likely due to creating the array with numpy and passing `int` as the `dtype`. Many tools such as FSL and SPM cannot deal with int64 in Nifti images, so for compatibility the data has been converted to int32.\n",
      "  return new_img_like(mask_img, unmasked, affine)\n"
     ]
    },
    {
     "name": "stdout",
     "output_type": "stream",
     "text": [
      "\n",
      "\n",
      "\u001b[1mSUBJECT A048\u001b[0m\n",
      "\u001b[1mCLUSTERING AT THE INDIVIDUAL LEVEL\u001b[0m\n",
      "\u001b[37mK value(s) = 7\u001b[0m\n",
      "\u001b[37mOverwrite results = False\u001b[0m\n",
      "K = 7\n",
      "... Loading similarity matrix from file\n",
      "... Running agglomerative clustering\n"
     ]
    },
    {
     "name": "stderr",
     "output_type": "stream",
     "text": [
      "/home/kinany/anaconda3/lib/python3.9/site-packages/nilearn/masking.py:974: UserWarning: Data array used to create a new image contains 64-bit ints. This is likely due to creating the array with numpy and passing `int` as the `dtype`. Many tools such as FSL and SPM cannot deal with int64 in Nifti images, so for compatibility the data has been converted to int32.\n",
      "  return new_img_like(mask_img, unmasked, affine)\n"
     ]
    },
    {
     "name": "stdout",
     "output_type": "stream",
     "text": [
      "\n",
      "\n",
      "\u001b[1mSUBJECT A050\u001b[0m\n",
      "\u001b[1mCLUSTERING AT THE INDIVIDUAL LEVEL\u001b[0m\n",
      "\u001b[37mK value(s) = 7\u001b[0m\n",
      "\u001b[37mOverwrite results = False\u001b[0m\n",
      "K = 7\n",
      "... Loading similarity matrix from file\n",
      "... Running agglomerative clustering\n"
     ]
    },
    {
     "name": "stderr",
     "output_type": "stream",
     "text": [
      "/home/kinany/anaconda3/lib/python3.9/site-packages/nilearn/masking.py:974: UserWarning: Data array used to create a new image contains 64-bit ints. This is likely due to creating the array with numpy and passing `int` as the `dtype`. Many tools such as FSL and SPM cannot deal with int64 in Nifti images, so for compatibility the data has been converted to int32.\n",
      "  return new_img_like(mask_img, unmasked, affine)\n"
     ]
    },
    {
     "name": "stdout",
     "output_type": "stream",
     "text": [
      "\n",
      "\n",
      "\u001b[1mSUBJECT A051\u001b[0m\n",
      "\u001b[1mCLUSTERING AT THE INDIVIDUAL LEVEL\u001b[0m\n",
      "\u001b[37mK value(s) = 7\u001b[0m\n",
      "\u001b[37mOverwrite results = False\u001b[0m\n",
      "K = 7\n",
      "... Loading similarity matrix from file\n",
      "... Running agglomerative clustering\n"
     ]
    },
    {
     "name": "stderr",
     "output_type": "stream",
     "text": [
      "/home/kinany/anaconda3/lib/python3.9/site-packages/nilearn/masking.py:974: UserWarning: Data array used to create a new image contains 64-bit ints. This is likely due to creating the array with numpy and passing `int` as the `dtype`. Many tools such as FSL and SPM cannot deal with int64 in Nifti images, so for compatibility the data has been converted to int32.\n",
      "  return new_img_like(mask_img, unmasked, affine)\n"
     ]
    },
    {
     "name": "stdout",
     "output_type": "stream",
     "text": [
      "\n",
      "\n",
      "\u001b[1mSUBJECT A052\u001b[0m\n",
      "\u001b[1mCLUSTERING AT THE INDIVIDUAL LEVEL\u001b[0m\n",
      "\u001b[37mK value(s) = 7\u001b[0m\n",
      "\u001b[37mOverwrite results = False\u001b[0m\n",
      "K = 7\n",
      "... Loading similarity matrix from file\n",
      "... Running agglomerative clustering\n",
      "\n",
      "\n"
     ]
    },
    {
     "name": "stderr",
     "output_type": "stream",
     "text": [
      "/home/kinany/anaconda3/lib/python3.9/site-packages/nilearn/masking.py:974: UserWarning: Data array used to create a new image contains 64-bit ints. This is likely due to creating the array with numpy and passing `int` as the `dtype`. Many tools such as FSL and SPM cannot deal with int64 in Nifti images, so for compatibility the data has been converted to int32.\n",
      "  return new_img_like(mask_img, unmasked, affine)\n"
     ]
    }
   ],
   "source": [
    "# Loop through the subjects to compute individual labels\n",
    "for sub_id,sub in enumerate(fc_parcellation.config['list_subjects']): \n",
    "    print(f'\\033[1mSUBJECT {sub}\\033[0m')\n",
    "    fc_parcellation.run_clustering(sub=sub, k_range=7, overwrite=False)"
   ]
  },
  {
   "cell_type": "code",
   "execution_count": 33,
   "id": "84aa31be",
   "metadata": {},
   "outputs": [
    {
     "name": "stdout",
     "output_type": "stream",
     "text": [
      "\u001b[1mRELABELING\u001b[0m\n",
      "\u001b[37mK value(s) = 7\u001b[0m\n",
      "\u001b[37mOverwrite results = False\u001b[0m\n",
      "K = 7\n",
      "... Relabeling sub-P030\n",
      "... Relabeling sub-P099\n",
      "... Relabeling sub-A006\n",
      "... Relabeling sub-A007\n",
      "... Relabeling sub-A008\n",
      "... Relabeling sub-A009\n",
      "... Relabeling sub-A011\n",
      "... Relabeling sub-A013\n",
      "... Relabeling sub-A023\n",
      "... Relabeling sub-A024\n",
      "... Relabeling sub-A025\n",
      "... Relabeling sub-A026\n",
      "... Relabeling sub-A027\n",
      "... Relabeling sub-A028\n",
      "... Relabeling sub-A029\n",
      "... Relabeling sub-A030\n",
      "... Relabeling sub-A032\n",
      "... Relabeling sub-A033\n",
      "... Relabeling sub-A034\n",
      "... Relabeling sub-A036\n",
      "... Relabeling sub-A037\n",
      "... Relabeling sub-A038\n",
      "... Relabeling sub-A039\n",
      "... Relabeling sub-A043\n",
      "... Relabeling sub-A044\n",
      "... Relabeling sub-A045\n",
      "... Relabeling sub-A046\n",
      "... Relabeling sub-A048\n",
      "... Relabeling sub-A050\n",
      "... Relabeling sub-A051\n",
      "... Relabeling sub-A052\n",
      "... Compute distribution for each K\n",
      "\n",
      "\u001b[1mDONE\u001b[0m\n"
     ]
    }
   ],
   "source": [
    "# Obtain distribution maps\n",
    "fc_parcellation.subject_variability(k_range=7)"
   ]
  },
  {
   "cell_type": "markdown",
   "id": "356828f5",
   "metadata": {},
   "source": [
    "### Compute target maps (i.e., corresponding brain maps)"
   ]
  },
  {
   "cell_type": "code",
   "execution_count": 23,
   "id": "48d75e48",
   "metadata": {},
   "outputs": [
    {
     "name": "stdout",
     "output_type": "stream",
     "text": [
      "\u001b[1mRUN WINNER-TAKES-ALL ANALYSIS\u001b[0m\n",
      "\u001b[37mK value = 7\u001b[0m\n",
      "\u001b[37mOverwrite results = False\u001b[0m\n",
      "K1 will have a value of 7\n",
      "K2 will have a value of 6\n",
      "K3 will have a value of 4\n",
      "K4 will have a value of 2\n",
      "K5 will have a value of 5\n",
      "K6 will have a value of 3\n",
      "K7 will have a value of 1\n",
      "\u001b[1mDONE\u001b[0m\n",
      "\n"
     ]
    }
   ],
   "source": [
    "fc_parcellation.generate_brain_maps(k=7, order=[7,6,4,2,5,3,1])"
   ]
  },
  {
   "cell_type": "markdown",
   "id": "d0554b46",
   "metadata": {},
   "source": [
    "# Plotting\n",
    "<hr style=\"border:0.5px solid black\">"
   ]
  },
  {
   "cell_type": "markdown",
   "id": "a05404f2",
   "metadata": {},
   "source": [
    "### Plot label maps (spinal cord)"
   ]
  },
  {
   "cell_type": "code",
   "execution_count": 38,
   "id": "8dc779e7",
   "metadata": {},
   "outputs": [
    {
     "name": "stdout",
     "output_type": "stream",
     "text": [
      "\u001b[1mRUN PLOTTING SPINAL MAPS\u001b[0m\n",
      "\u001b[37mK value = 14\u001b[0m\n",
      "\u001b[37mSave figure = True\u001b[0m\n",
      "The plotting is displayed in neurological orientation (Left > Right)\n"
     ]
    },
    {
     "data": {
      "image/png": "[encoded data removed]",
      "text/plain": [
       "<Figure size 640x480 with 1 Axes>"
      ]
     },
     "metadata": {},
     "output_type": "display_data"
    }
   ],
   "source": [
    "fc_parcellation.plot_spinal_map(k=7, order=[7,6,4,2,5,3,1], save_figure=True)"
   ]
  },
  {
   "cell_type": "code",
   "execution_count": 37,
   "id": "3ac78f3b",
   "metadata": {},
   "outputs": [
    {
     "name": "stdout",
     "output_type": "stream",
     "text": [
      "\u001b[1mCOMPUTE SIMILARITY WITH ATLAS FOR K=7\u001b[0m\n",
      "COMPUTING SIMILARITY WITH METHOD: Dice\n",
      "...Compute similarity between pairs of components\n",
      "...Ordering components based on maximum weight matching\n",
      "DONE!\n",
      "Mean Dice = 0.84\n",
      "Std Dice = 0.08\n"
     ]
    },
    {
     "data": {
      "image/png": "[encoded data removed]",
      "text/plain": [
       "<Figure size 640x480 with 2 Axes>"
      ]
     },
     "metadata": {},
     "output_type": "display_data"
    }
   ],
   "source": [
    "fc_parcellation.compute_similarity_spinal_levels(save_figure=True)"
   ]
  },
  {
   "cell_type": "markdown",
   "id": "a8195ae7",
   "metadata": {},
   "source": [
    "### Plot WTA maps (brain)"
   ]
  },
  {
   "cell_type": "code",
   "execution_count": 27,
   "id": "ef556d03",
   "metadata": {},
   "outputs": [
    {
     "name": "stdout",
     "output_type": "stream",
     "text": [
      "\u001b[1mRUN PLOTTING BRAIN MAPS\u001b[0m\n",
      "\u001b[37mK value = 7\u001b[0m\n",
      "\u001b[37mSave figure = True\u001b[0m\n"
     ]
    },
    {
     "data": {
      "image/png": "[encoded data removed]",
      "text/plain": [
       "<Figure size 470x400 with 2 Axes>"
      ]
     },
     "metadata": {},
     "output_type": "display_data"
    },
    {
     "data": {
      "image/png": "[encoded data removed]",
      "text/plain": [
       "<Figure size 470x400 with 2 Axes>"
      ]
     },
     "metadata": {},
     "output_type": "display_data"
    }
   ],
   "source": [
    "fc_parcellation.plot_brain_map(k=7, save_figure=True)"
   ]
  }
 ],
 "metadata": {
  "kernelspec": {
   "display_name": "Python 3 (ipykernel)",
   "language": "python",
   "name": "python3"
  },
  "language_info": {
   "codemirror_mode": {
    "name": "ipython",
    "version": 3
   },
   "file_extension": ".py",
   "mimetype": "text/x-python",
   "name": "python",
   "nbconvert_exporter": "python",
   "pygments_lexer": "ipython3",
   "version": "3.9.12"
  }
 },
 "nbformat": 4,
 "nbformat_minor": 5
}
