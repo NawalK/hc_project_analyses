{
 "cells": [
  {
   "cell_type": "markdown",
   "id": "1f3999a6",
   "metadata": {},
   "source": [
    "<hr style=\"border:1px solid black\">\n",
    "\n",
    "# Defining number of components using stability measures"
   ]
  },
  {
   "cell_type": "code",
   "execution_count": 1,
   "id": "21b54bef",
   "metadata": {},
   "outputs": [],
   "source": [
    "import sys,json\n",
    "import glob\n",
    "import pandas as pd\n",
    "import numpy as np\n",
    "import nibabel as nib\n",
    "import seaborn as sns\n",
    "import os \n",
    "from matplotlib import pyplot as plt\n",
    "\n",
    "sys.path.append('/media/miplab-nas2/Data3/BMPD/hc_project/analysis/code/')\n",
    "\n",
    "from compute_similarity import compute_similarity\n",
    "%matplotlib inline\n",
    "%load_ext autoreload\n",
    "%autoreload 2"
   ]
  },
  {
   "cell_type": "code",
   "execution_count": 2,
   "id": "0d4f0d35",
   "metadata": {},
   "outputs": [],
   "source": [
    "# Load the config files with all informations (i.e., all datasets, methods, etc.)\n",
    "with open('../../config/config_scbr_icap_stability.json') as config_file:\n",
    "    config = json.load(config_file)"
   ]
  },
  {
   "cell_type": "code",
   "execution_count": 3,
   "id": "fdd7f7ef",
   "metadata": {},
   "outputs": [
    {
     "name": "stdout",
     "output_type": "stream",
     "text": [
      "Computing stability for icap in mtl\n",
      "K = 7\n",
      "K = 8\n",
      "K = 9\n",
      "K = 10\n",
      "K = 11\n"
     ]
    }
   ],
   "source": [
    "# Initializing parameters\n",
    "methods = ['icap']\n",
    "datasets = ['mtl']\n",
    "nperm = 33\n",
    "nsub = '10'\n",
    "save_df = True\n",
    "load_from_df = False\n",
    "\n",
    "if load_from_df==True and os.path.isfile(config['main_dir'] + config['output_dir'] + 'perm_df_' + config['output_tag'] + '_' +  nsub + 'sub.csv'):\n",
    "    perm_df = pd.read_csv(config['main_dir'] + config['output_dir'] + 'perm_df_' + config['output_tag'] + '_' +  nsub + 'sub.csv',delimiter=\" \")\n",
    "else:\n",
    "    # Create structure to save results\n",
    "    all_methods = []\n",
    "    all_datasets = []\n",
    "    all_kmax = []\n",
    "    all_sim = []\n",
    "    all_n = []\n",
    "    # For each method & dataset\n",
    "    for method in methods:\n",
    "        for dataset in datasets:\n",
    "            krange = range(7,12) if dataset == 'mtl' else range(3,8)\n",
    "            print(f'Computing stability for {method} in {dataset}')\n",
    "            # Looping through K and permutations\n",
    "            for k_i,kmax in enumerate(krange):\n",
    "                print(f'K = {kmax}')\n",
    "                 # Load reference data (entire group)\n",
    "                data_ref = nib.load(glob.glob(config['main_dir']+config['data'][dataset][method]['spinalcord']['dir'] + '/K_' + str(kmax) + '/comp_zscored/*' + config['data'][dataset][method]['spinalcord'][\"tag_filename\"] + '*')[0]).get_fdata()\n",
    "                for n in range(0,nperm):\n",
    "                    all_methods.append(method)\n",
    "                    all_datasets.append(dataset)\n",
    "                    all_kmax.append(kmax)\n",
    "                    all_n.append(n)\n",
    "                    # Load permutation data\n",
    "                    data_perm = nib.load(glob.glob(config['main_dir']+config['data'][dataset][method + '_perm']['spinalcord']['dir'][nsub] + str(n+1) + '*/K_' + str(kmax) + '*/' + config['data'][dataset][method + '_perm']['spinalcord']['comp_folder'] + '/*' + config['data'][dataset][method + '_perm']['spinalcord'][\"tag_filename\"] + '*.nii*')[0]).get_fdata()            \n",
    "                    # Compute similarity matrix between perm data and ref \n",
    "                    [tmp_mat,_,_] = compute_similarity(config,data_ref,data_perm,method='Dice',thresh1=1.6,thresh2=1.6,verbose=False)\n",
    "                    # Take mean of the diagonal as a summary measure of similarity\n",
    "                    all_sim.append(np.mean(np.diag(tmp_mat)))\n",
    "    colnames = [\"method\",\"dataset\",\"kmax\",\"perm\",\"sim\"]\n",
    "    perm_df = pd.DataFrame(list(zip(all_methods, all_datasets, all_kmax, all_n, all_sim)), columns=colnames)\n",
    "    if save_df == True:\n",
    "        perm_df.to_csv(config['main_dir'] + config['output_dir'] + 'perm_df_' + config['output_tag'] + '_' +  nsub + 'sub.csv', sep=' ', index=False)"
   ]
  },
  {
   "cell_type": "code",
   "execution_count": 6,
   "id": "21ed3bfd",
   "metadata": {},
   "outputs": [
    {
     "data": {
      "text/plain": [
       "<Figure size 432x288 with 0 Axes>"
      ]
     },
     "metadata": {},
     "output_type": "display_data"
    },
    {
     "data": {
      "image/png": "[encoded data removed]",
      "text/plain": [
       "<Figure size 360x360 with 1 Axes>"
      ]
     },
     "metadata": {},
     "output_type": "display_data"
    }
   ],
   "source": [
    "dataset='mtl'\n",
    "colors=[\"#72ac3bff\",\"#72ac3bff\"]\n",
    "sns.set(style=\"ticks\",  font='sans-serif')\n",
    "\n",
    "for method_ind, method in enumerate(methods):\n",
    "    plt.figure(method_ind)\n",
    "    g=sns.catplot(y=\"sim\",x=\"kmax\",data=perm_df.loc[(perm_df['dataset']==dataset) & (perm_df['method']==method)], kind=\"box\", legend=True, legend_out=True,\n",
    "                 linewidth=2,medianprops=dict(color=\"white\"),color=colors[method_ind], \n",
    "                 boxprops=dict(alpha=.5,edgecolor=None),whiskerprops=dict(color=colors[method_ind]), capprops=dict(color=colors[method_ind]), fliersize=0, aspect=1) #fliersize=0)\n",
    "    g.set(ylim=(0.4, 1),xlim=(7,11))\n",
    "    g.fig.set_size_inches(5,5)\n",
    "    sns.stripplot(y=\"sim\",x=\"kmax\",data=perm_df.loc[(perm_df['dataset']==dataset) & (perm_df['method']==method)],\n",
    "                 size=5, color=colors[method_ind], alpha=.3, linewidth=0,edgecolor='white',dodge=True)\n",
    "    \n",
    "    g.set_axis_labels(\"K\", \"Mean dice coefficient\",fontsize=12, fontweight='bold')\n",
    "    g.savefig(config['main_dir'] + config['output_dir'] + config['output_tag'] + '_subsampling_stability_' + dataset + '_' + method+ '_' +  nsub + 'sub.pdf', format='pdf')"
   ]
  },
  {
   "cell_type": "code",
   "execution_count": null,
   "id": "0a41c0e1",
   "metadata": {},
   "outputs": [],
   "source": []
  }
 ],
 "metadata": {
  "kernelspec": {
   "display_name": "Python 3 (ipykernel)",
   "language": "python",
   "name": "python3"
  },
  "language_info": {
   "codemirror_mode": {
    "name": "ipython",
    "version": 3
   },
   "file_extension": ".py",
   "mimetype": "text/x-python",
   "name": "python",
   "nbconvert_exporter": "python",
   "pygments_lexer": "ipython3",
   "version": "3.9.12"
  }
 },
 "nbformat": 4,
 "nbformat_minor": 5
}
