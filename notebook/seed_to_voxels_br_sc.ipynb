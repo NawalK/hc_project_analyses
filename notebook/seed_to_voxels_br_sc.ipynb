{
 "cells": [
  {
   "cell_type": "markdown",
   "metadata": {},
   "source": [
    "## <font color=#B2D732> <span style=\"background-color: #4424D6\"> Imports"
   ]
  },
  {
   "cell_type": "code",
   "execution_count": 137,
   "metadata": {},
   "outputs": [
    {
     "name": "stdout",
     "output_type": "stream",
     "text": [
      "The autoreload extension is already loaded. To reload it, use:\n",
      "  %reload_ext autoreload\n"
     ]
    }
   ],
   "source": [
    "import sys,json\n",
    "import glob, os\n",
    "sys.path.append(\"/cerebro/cerebro1/dataset/bmpd/derivatives/HealthyControls_project/hc_project_analyses/code/\")\n",
    "\n",
    "from seed_to_voxels import Seed2voxels\n",
    "\n",
    "%matplotlib inline\n",
    "%load_ext autoreload\n",
    "%autoreload 2"
   ]
  },
  {
   "cell_type": "markdown",
   "metadata": {},
   "source": [
    "## <font color=#B2D732> <span style=\"background-color: #4424D6\"> Initialization"
   ]
  },
  {
   "cell_type": "markdown",
   "metadata": {},
   "source": [
    " ### <font color=#4424D6> I. Configuration & parameters </font >"
   ]
  },
  {
   "cell_type": "code",
   "execution_count": 138,
   "metadata": {},
   "outputs": [],
   "source": [
    "with open('../config/config_CL.json') as config_file:\n",
    "    config = json.load(config_file) # load config file\n",
    "signal='raw'\n",
    "seed_names=['spinalcord_C1','spinalcord_C2','spinalcord_C3','spinalcord_C4','spinalcord_C5','spinalcord_C6','spinalcord_C7','spinalcord_C8','spinalcord_C9'] # define seed names ex: 'spinalcord_ICA-C4'\n",
    "seed_names=['spinalcord_C1-RD','spinalcord_C1-LD']#\n",
    "\n",
    "['spinalcord_C1-RD','spinalcord_C1-LD','spinalcord_C1-RV','spinalcord_C1-LV',\n",
    "'spinalcord_C2-RD','spinalcord_C2-LD','spinalcord_C2-RV','spinalcord_C2-LV',\n",
    "'spinalcord_C3-RD','spinalcord_C3-LD','spinalcord_C3-RV','spinalcord_C3-LV',\n",
    "'spinalcord_C4-RD','spinalcord_C4-LD','spinalcord_C4-RV','spinalcord_C4-LV',\n",
    "'spinalcord_C5-RD','spinalcord_C5-LD','spinalcord_C5-RV','spinalcord_C5-LV',\n",
    "'spinalcord_C6-RD','spinalcord_C6-LD','spinalcord_C6-RV','spinalcord_C6-LV',\n",
    "'spinalcord_C7-RD','spinalcord_C7-LD','spinalcord_C7-RV','spinalcord_C7-LV'] #['brain_BA4']#['spinalcord_C5-whole'] # define seed names ex: 'spinalcord_ICA-C4'\n",
    "\n",
    "target_name=['brain_mask'] # define structure target\n"
   ]
  },
  {
   "cell_type": "markdown",
   "metadata": {},
   "source": [
    "### <font color=#4424D6> II. Select files </font>"
   ]
  },
  {
   "cell_type": "code",
   "execution_count": 139,
   "metadata": {},
   "outputs": [
    {
     "name": "stdout",
     "output_type": "stream",
     "text": [
      "/cerebro/cerebro1/dataset/bmpd/derivatives/HealthyControls_project//ICA/spinalcord/K_9/comp_rois/zCanICA_22sbj_spinalcord_spinalcord_k_2_C1-LD_bin.nii.gz\n"
     ]
    }
   ],
   "source": [
    "# One target per subject\n",
    "data_target=[];ts_target_txt=[];ts_seed_txt ={};data_seed=[];mask_seed={}\n",
    "\n",
    "for subject_name in config['list_subjects']:\n",
    "    data_target.append(glob.glob(config[\"coreg_dir\"] + 'sub-'+ subject_name +'/'+target_name[0].split('_')[0]+'/*' + config[\"coreg_tag\"][target_name[0].split('_')[0]] +'*.gz')[0])\n",
    "    ts_target_txt.append(config['main_dir'] + config['seed2vox_dir'] + '/1_first_level/'+target_name[0]+'/timeseries/sub_' + subject_name + '_mask_' + target_name[0] + '_timeseries')\n",
    "    data_seed.append(glob.glob(config[\"coreg_dir\"] + 'sub-'+ subject_name +'/'+seed_names[0].split('_')[0]+'/*' + config[\"coreg_tag\"][seed_names[0].split('_')[0]] +'*')[0])\n",
    "\n",
    "for seed_name in seed_names:\n",
    "    ts_seed_txt[seed_name]=[]\n",
    "    for subject_name in config['list_subjects']:\n",
    "        ts_seed_txt[seed_name].append(config['main_dir'] + config['seed2vox_dir'] + '/1_first_level/'+seed_name+'/timeseries/sub_' + subject_name + '_mask_' + seed_name.split('_')[-1] + '_timeseries')\n",
    "\n",
    "for seed_name in seed_names:\n",
    "    mask_seed[seed_name]=glob.glob(config[\"main_dir\"] + config[\"data\"][\"ICA\"][\"spinalcord_dir\"]+ 'K_9/comp_rois/' +  '*' + seed_name.split('_')[1] + '*')[0]\n",
    "#config[\"main_dir\"] + '/templates/MNI/rois/L-BA4.nii.gz'#    \n",
    "print(mask_seed[seed_name])\n",
    "mask_target=glob.glob(config[\"main_dir\"] + config[\"masks\"][target_name[0].split('_')[0]])[0]\n",
    "\n",
    "# create output directory if needed\n",
    "for seed_name in seed_names:\n",
    "    if not os.path.exists(config['main_dir'] + config['seed2vox_dir'] + '/1_first_level/'+seed_name):\n",
    "        os.mkdir(config['main_dir'] + config['seed2vox_dir'] + '/1_first_level/'+seed_name)\n",
    "        os.mkdir(config['main_dir'] + config['seed2vox_dir'] + '/1_first_level/'+seed_name+'/timeseries/') # folder to store timeseries extraction\n",
    "        os.mkdir(config['main_dir'] + config['seed2vox_dir'] + '/1_first_level/'+seed_name+'/brain_fc_maps/') # folder to store maps of FC"
   ]
  },
  {
   "cell_type": "markdown",
   "metadata": {},
   "source": [
    "### <font color=#4424D6> III. Initialize class based on this </font>"
   ]
  },
  {
   "cell_type": "code",
   "execution_count": 140,
   "metadata": {},
   "outputs": [],
   "source": [
    "for seed_name in seed_names:\n",
    "    seed2voxels=Seed2voxels(config,signal,seed_name,target_name) # initialize the function"
   ]
  },
  {
   "cell_type": "markdown",
   "metadata": {},
   "source": [
    "## <font color=#B2D732> <span style=\"background-color: #4424D6\"> Data extraction </font></span>\n",
    "### <font color=#4424D6> I. Time series extraction - Target </font>\n"
   ]
  },
  {
   "cell_type": "code",
   "execution_count": 141,
   "metadata": {},
   "outputs": [],
   "source": [
    "target_timeseries,target_timeseries_mean,target_timeseries_pc1=seed2voxels.extract_data(img=data_target, mask=mask_target, timeseries_txt=ts_target_txt,\n",
    "                                                                run=\"load\",n_jobs=8,smoothing_fwhm=[6,6,6]) # run the analyse for target voxels\n"
   ]
  },
  {
   "cell_type": "markdown",
   "metadata": {},
   "source": [
    "### <font color=#4424D6> II. Time series extraction - Seed </font>"
   ]
  },
  {
   "cell_type": "code",
   "execution_count": 142,
   "metadata": {},
   "outputs": [],
   "source": [
    "seed_timeseries={};seed_timeseries_mean={};seed_timeseries_pc1={}\n",
    "for seed_name in seed_names:\n",
    "    seed_timeseries[seed_name],seed_timeseries_mean[seed_name],seed_timeseries_pc1[seed_name]=seed2voxels.extract_data(img=data_seed, mask= mask_seed[seed_name], timeseries_txt=ts_seed_txt[seed_name],\n",
    "                                                                run=\"extract\",n_jobs=8) # run the analyse for target voxels"
   ]
  },
  {
   "cell_type": "markdown",
   "metadata": {},
   "source": [
    "## <font color=#B2D732> <span style=\"background-color: #4424D6\"> Correlation analysis"
   ]
  },
  {
   "cell_type": "code",
   "execution_count": 143,
   "metadata": {},
   "outputs": [],
   "source": [
    "output_img={};\n",
    "\n",
    "for seed_name in seed_names:\n",
    "    output_img[seed_name]=[]\n",
    "    output_img[seed_name]=config['main_dir'] + config['seed2vox_dir'] + '/1_first_level/' + seed_name + '/' + target_name[0].split('_')[0]+ '_fc_maps/' + str(len(config['list_subjects'])) + 'subjects_seed_' + seed_name.split('_')[-1] + '_s_BP_newdenoising'\n",
    "\n",
    "    seed2voxels.correlation_maps(seed_timeseries_mean[seed_name],target_timeseries,mask=mask_target,output_img=output_img[seed_name],Fisher=True,partial=False,n_jobs=8)"
   ]
  },
  {
   "cell_type": "markdown",
   "metadata": {},
   "source": [
    "## <font color=#B2D732> <span style=\"background-color: #4424D6\"> Smoothing"
   ]
  },
  {
   "cell_type": "raw",
   "metadata": {},
   "source": [
    "from nilearn import image\n",
    "img_smoothed=image.smooth_img(output_img[seed_name],[6,6,6])\n",
    "img_smoothed.to_filename(output_img[seed_name].split('.')[0] + '_s.nii' )"
   ]
  },
  {
   "cell_type": "raw",
   "metadata": {},
   "source": [
    "for comp in {1..9}; do\n",
    "    fslmaths /cerebro/cerebro1/dataset/bmpd/derivatives/HealthyControls_project/ICA/spinalcord_9/Comp_zscored/zCanICA_23sbj_spinalcord_component_\"$comp\".nii.gz -thr 3 -bin /cerebro/cerebro1/dataset/bmpd/derivatives/HealthyControls_project/ICA/spinalcord_9/Comp_masked/zCanICA_23sbj_spinalcord_component_\"$comp\"_bin.nii.gz\n",
    "done"
   ]
  },
  {
   "cell_type": "code",
   "execution_count": 18,
   "metadata": {},
   "outputs": [],
   "source": [
    "sys.path.append(\"/cerebro/cerebro1/dataset/bmpd/derivatives/thibault_test/code/toolbox/spinalcordtoolbox-5.0.0\")\n",
    "sys.path.append(\"/cerebro/cerebro1/dataset/bmpd/derivatives/thibault_test/code/toolbox/spinalcordtoolbox-5.0.0/scripts\") \n",
    "from spinalcordtoolbox.utils.sys import run_proc"
   ]
  },
  {
   "cell_type": "code",
   "execution_count": 33,
   "metadata": {},
   "outputs": [
    {
     "name": "stdout",
     "output_type": "stream",
     "text": [
      "fslmerge -t /cerebro/cerebro1/dataset/bmpd/derivatives/HealthyControls_project//seed_to_voxels//2_second_level/spinalcord_C5_D/44images.nii /cerebro/cerebro1/dataset/bmpd/derivatives/HealthyControls_project//seed_to_voxels//1_first_level/spinalcord_C5-RD/brain_fc_maps/22subjects_seed_C5-RD_s_BP_newdenoising_zcorr /cerebro/cerebro1/dataset/bmpd/derivatives/HealthyControls_project//seed_to_voxels//1_first_level/spinalcord_C5-LD/brain_fc_maps/22subjects_seed_C5-LD_s_BP_newdenoising_zcorr # in /cerebro/cerebro1/dataset/bmpd/derivatives/HealthyControls_project/hc_project_analyses/notebook\n"
     ]
    },
    {
     "data": {
      "text/plain": [
       "(0, '')"
      ]
     },
     "execution_count": 33,
     "metadata": {},
     "output_type": "execute_result"
    }
   ],
   "source": [
    "run_proc('fslmerge -t {} {} {}'.format(config['main_dir'] + config['seed2vox_dir'] + '/2_second_level/spinalcord_C5_D/44images.nii', \n",
    "                                    config['main_dir'] + config['seed2vox_dir'] + '/1_first_level/spinalcord_C5-RD/' + target_name[0].split('_')[0]+ '_fc_maps/22subjects_seed_C5-RD_s_BP_newdenoising_zcorr',\n",
    "                                    config['main_dir'] + config['seed2vox_dir'] + '/1_first_level/spinalcord_C5-LD/' + target_name[0].split('_')[0]+ '_fc_maps/22subjects_seed_C5-LD_s_BP_newdenoising_zcorr'))\n"
   ]
  },
  {
   "cell_type": "code",
   "execution_count": 88,
   "metadata": {},
   "outputs": [
    {
     "name": "stdout",
     "output_type": "stream",
     "text": [
      "randomise -i /cerebro/cerebro1/dataset/bmpd/derivatives/HealthyControls_project//seed_to_voxels//1_first_level/spinalcord_C3-whole/brain_fc_maps/22subjects_seed_C3-whole_s_BP_newdenoising_zcorr.nii -o /cerebro/cerebro1/dataset/bmpd/derivatives/HealthyControls_project/seed_to_voxels/2_second_level/spinalcord_C3/C3-whole -1 -v 5 -n 500  -T # in /cerebro/cerebro1/dataset/bmpd/derivatives/HealthyControls_project/hc_project_analyses/notebook\n"
     ]
    },
    {
     "data": {
      "text/plain": [
       "(0,\n",
       " 'randomise options: -i /cerebro/cerebro1/dataset/bmpd/derivatives/HealthyControls_project//seed_to_voxels//1_first_level/spinalcord_C3-whole/brain_fc_maps/22subjects_seed_C3-whole_s_BP_newdenoising_zcorr.nii -o /cerebro/cerebro1/dataset/bmpd/derivatives/HealthyControls_project/seed_to_voxels/2_second_level/spinalcord_C3/C3-whole -1 -v 5 -n 500 -T\\nLoading Data:\\nData loaded\\nOne-sample design detected; sign-flipping instead of permuting.\\n4.1943e+06 sign-flips required for exhaustive test of t-test 1\\nDoing 500 random permutations\\nStarting permutation 1 (Unpermuted data)\\nStarting permutation 2\\nStarting permutation 3\\nStarting permutation 4\\nStarting permutation 5\\nStarting permutation 6\\nStarting permutation 7\\nStarting permutation 8\\nStarting permutation 9\\nStarting permutation 10\\nStarting permutation 11\\nStarting permutation 12\\nStarting permutation 13\\nStarting permutation 14\\nStarting permutation 15\\nStarting permutation 16\\nStarting permutation 17\\nStarting permutation 18\\nStarting permutation 19\\nStarting permutation 20\\nStarting permutation 21\\nStarting permutation 22\\nStarting permutation 23\\nStarting permutation 24\\nStarting permutation 25\\nStarting permutation 26\\nStarting permutation 27\\nStarting permutation 28\\nStarting permutation 29\\nStarting permutation 30\\nStarting permutation 31\\nStarting permutation 32\\nStarting permutation 33\\nStarting permutation 34\\nStarting permutation 35\\nStarting permutation 36\\nStarting permutation 37\\nStarting permutation 38\\nStarting permutation 39\\nStarting permutation 40\\nStarting permutation 41\\nStarting permutation 42\\nStarting permutation 43\\nStarting permutation 44\\nStarting permutation 45\\nStarting permutation 46\\nStarting permutation 47\\nStarting permutation 48\\nStarting permutation 49\\nStarting permutation 50\\nStarting permutation 51\\nStarting permutation 52\\nStarting permutation 53\\nStarting permutation 54\\nStarting permutation 55\\nStarting permutation 56\\nStarting permutation 57\\nStarting permutation 58\\nStarting permutation 59\\nStarting permutation 60\\nStarting permutation 61\\nStarting permutation 62\\nStarting permutation 63\\nStarting permutation 64\\nStarting permutation 65\\nStarting permutation 66\\nStarting permutation 67\\nStarting permutation 68\\nStarting permutation 69\\nStarting permutation 70\\nStarting permutation 71\\nStarting permutation 72\\nStarting permutation 73\\nStarting permutation 74\\nStarting permutation 75\\nStarting permutation 76\\nStarting permutation 77\\nStarting permutation 78\\nStarting permutation 79\\nStarting permutation 80\\nStarting permutation 81\\nStarting permutation 82\\nStarting permutation 83\\nStarting permutation 84\\nStarting permutation 85\\nStarting permutation 86\\nStarting permutation 87\\nStarting permutation 88\\nStarting permutation 89\\nStarting permutation 90\\nStarting permutation 91\\nStarting permutation 92\\nStarting permutation 93\\nStarting permutation 94\\nStarting permutation 95\\nStarting permutation 96\\nStarting permutation 97\\nStarting permutation 98\\nStarting permutation 99\\nStarting permutation 100\\nStarting permutation 101\\nStarting permutation 102\\nStarting permutation 103\\nStarting permutation 104\\nStarting permutation 105\\nStarting permutation 106\\nStarting permutation 107\\nStarting permutation 108\\nStarting permutation 109\\nStarting permutation 110\\nStarting permutation 111\\nStarting permutation 112\\nStarting permutation 113\\nStarting permutation 114\\nStarting permutation 115\\nStarting permutation 116\\nStarting permutation 117\\nStarting permutation 118\\nStarting permutation 119\\nStarting permutation 120\\nStarting permutation 121\\nStarting permutation 122\\nStarting permutation 123\\nStarting permutation 124\\nStarting permutation 125\\nStarting permutation 126\\nStarting permutation 127\\nStarting permutation 128\\nStarting permutation 129\\nStarting permutation 130\\nStarting permutation 131\\nStarting permutation 132\\nStarting permutation 133\\nStarting permutation 134\\nStarting permutation 135\\nStarting permutation 136\\nStarting permutation 137\\nStarting permutation 138\\nStarting permutation 139\\nStarting permutation 140\\nStarting permutation 141\\nStarting permutation 142\\nStarting permutation 143\\nStarting permutation 144\\nStarting permutation 145\\nStarting permutation 146\\nStarting permutation 147\\nStarting permutation 148\\nStarting permutation 149\\nStarting permutation 150\\nStarting permutation 151\\nStarting permutation 152\\nStarting permutation 153\\nStarting permutation 154\\nStarting permutation 155\\nStarting permutation 156\\nStarting permutation 157\\nStarting permutation 158\\nStarting permutation 159\\nStarting permutation 160\\nStarting permutation 161\\nStarting permutation 162\\nStarting permutation 163\\nStarting permutation 164\\nStarting permutation 165\\nStarting permutation 166\\nStarting permutation 167\\nStarting permutation 168\\nStarting permutation 169\\nStarting permutation 170\\nStarting permutation 171\\nStarting permutation 172\\nStarting permutation 173\\nStarting permutation 174\\nStarting permutation 175\\nStarting permutation 176\\nStarting permutation 177\\nStarting permutation 178\\nStarting permutation 179\\nStarting permutation 180\\nStarting permutation 181\\nStarting permutation 182\\nStarting permutation 183\\nStarting permutation 184\\nStarting permutation 185\\nStarting permutation 186\\nStarting permutation 187\\nStarting permutation 188\\nStarting permutation 189\\nStarting permutation 190\\nStarting permutation 191\\nStarting permutation 192\\nStarting permutation 193\\nStarting permutation 194\\nStarting permutation 195\\nStarting permutation 196\\nStarting permutation 197\\nStarting permutation 198\\nStarting permutation 199\\nStarting permutation 200\\nStarting permutation 201\\nStarting permutation 202\\nStarting permutation 203\\nStarting permutation 204\\nStarting permutation 205\\nStarting permutation 206\\nStarting permutation 207\\nStarting permutation 208\\nStarting permutation 209\\nStarting permutation 210\\nStarting permutation 211\\nStarting permutation 212\\nStarting permutation 213\\nStarting permutation 214\\nStarting permutation 215\\nStarting permutation 216\\nStarting permutation 217\\nStarting permutation 218\\nStarting permutation 219\\nStarting permutation 220\\nStarting permutation 221\\nStarting permutation 222\\nStarting permutation 223\\nStarting permutation 224\\nStarting permutation 225\\nStarting permutation 226\\nStarting permutation 227\\nStarting permutation 228\\nStarting permutation 229\\nStarting permutation 230\\nStarting permutation 231\\nStarting permutation 232\\nStarting permutation 233\\nStarting permutation 234\\nStarting permutation 235\\nStarting permutation 236\\nStarting permutation 237\\nStarting permutation 238\\nStarting permutation 239\\nStarting permutation 240\\nStarting permutation 241\\nStarting permutation 242\\nStarting permutation 243\\nStarting permutation 244\\nStarting permutation 245\\nStarting permutation 246\\nStarting permutation 247\\nStarting permutation 248\\nStarting permutation 249\\nStarting permutation 250\\nStarting permutation 251\\nStarting permutation 252\\nStarting permutation 253\\nStarting permutation 254\\nStarting permutation 255\\nStarting permutation 256\\nStarting permutation 257\\nStarting permutation 258\\nStarting permutation 259\\nStarting permutation 260\\nStarting permutation 261\\nStarting permutation 262\\nStarting permutation 263\\nStarting permutation 264\\nStarting permutation 265\\nStarting permutation 266\\nStarting permutation 267\\nStarting permutation 268\\nStarting permutation 269\\nStarting permutation 270\\nStarting permutation 271\\nStarting permutation 272\\nStarting permutation 273\\nStarting permutation 274\\nStarting permutation 275\\nStarting permutation 276\\nStarting permutation 277\\nStarting permutation 278\\nStarting permutation 279\\nStarting permutation 280\\nStarting permutation 281\\nStarting permutation 282\\nStarting permutation 283\\nStarting permutation 284\\nStarting permutation 285\\nStarting permutation 286\\nStarting permutation 287\\nStarting permutation 288\\nStarting permutation 289\\nStarting permutation 290\\nStarting permutation 291\\nStarting permutation 292\\nStarting permutation 293\\nStarting permutation 294\\nStarting permutation 295\\nStarting permutation 296\\nStarting permutation 297\\nStarting permutation 298\\nStarting permutation 299\\nStarting permutation 300\\nStarting permutation 301\\nStarting permutation 302\\nStarting permutation 303\\nStarting permutation 304\\nStarting permutation 305\\nStarting permutation 306\\nStarting permutation 307\\nStarting permutation 308\\nStarting permutation 309\\nStarting permutation 310\\nStarting permutation 311\\nStarting permutation 312\\nStarting permutation 313\\nStarting permutation 314\\nStarting permutation 315\\nStarting permutation 316\\nStarting permutation 317\\nStarting permutation 318\\nStarting permutation 319\\nStarting permutation 320\\nStarting permutation 321\\nStarting permutation 322\\nStarting permutation 323\\nStarting permutation 324\\nStarting permutation 325\\nStarting permutation 326\\nStarting permutation 327\\nStarting permutation 328\\nStarting permutation 329\\nStarting permutation 330\\nStarting permutation 331\\nStarting permutation 332\\nStarting permutation 333\\nStarting permutation 334\\nStarting permutation 335\\nStarting permutation 336\\nStarting permutation 337\\nStarting permutation 338\\nStarting permutation 339\\nStarting permutation 340\\nStarting permutation 341\\nStarting permutation 342\\nStarting permutation 343\\nStarting permutation 344\\nStarting permutation 345\\nStarting permutation 346\\nStarting permutation 347\\nStarting permutation 348\\nStarting permutation 349\\nStarting permutation 350\\nStarting permutation 351\\nStarting permutation 352\\nStarting permutation 353\\nStarting permutation 354\\nStarting permutation 355\\nStarting permutation 356\\nStarting permutation 357\\nStarting permutation 358\\nStarting permutation 359\\nStarting permutation 360\\nStarting permutation 361\\nStarting permutation 362\\nStarting permutation 363\\nStarting permutation 364\\nStarting permutation 365\\nStarting permutation 366\\nStarting permutation 367\\nStarting permutation 368\\nStarting permutation 369\\nStarting permutation 370\\nStarting permutation 371\\nStarting permutation 372\\nStarting permutation 373\\nStarting permutation 374\\nStarting permutation 375\\nStarting permutation 376\\nStarting permutation 377\\nStarting permutation 378\\nStarting permutation 379\\nStarting permutation 380\\nStarting permutation 381\\nStarting permutation 382\\nStarting permutation 383\\nStarting permutation 384\\nStarting permutation 385\\nStarting permutation 386\\nStarting permutation 387\\nStarting permutation 388\\nStarting permutation 389\\nStarting permutation 390\\nStarting permutation 391\\nStarting permutation 392\\nStarting permutation 393\\nStarting permutation 394\\nStarting permutation 395\\nStarting permutation 396\\nStarting permutation 397\\nStarting permutation 398\\nStarting permutation 399\\nStarting permutation 400\\nStarting permutation 401\\nStarting permutation 402\\nStarting permutation 403\\nStarting permutation 404\\nStarting permutation 405\\nStarting permutation 406\\nStarting permutation 407\\nStarting permutation 408\\nStarting permutation 409\\nStarting permutation 410\\nStarting permutation 411\\nStarting permutation 412\\nStarting permutation 413\\nStarting permutation 414\\nStarting permutation 415\\nStarting permutation 416\\nStarting permutation 417\\nStarting permutation 418\\nStarting permutation 419\\nStarting permutation 420\\nStarting permutation 421\\nStarting permutation 422\\nStarting permutation 423\\nStarting permutation 424\\nStarting permutation 425\\nStarting permutation 426\\nStarting permutation 427\\nStarting permutation 428\\nStarting permutation 429\\nStarting permutation 430\\nStarting permutation 431\\nStarting permutation 432\\nStarting permutation 433\\nStarting permutation 434\\nStarting permutation 435\\nStarting permutation 436\\nStarting permutation 437\\nStarting permutation 438\\nStarting permutation 439\\nStarting permutation 440\\nStarting permutation 441\\nStarting permutation 442\\nStarting permutation 443\\nStarting permutation 444\\nStarting permutation 445\\nStarting permutation 446\\nStarting permutation 447\\nStarting permutation 448\\nStarting permutation 449\\nStarting permutation 450\\nStarting permutation 451\\nStarting permutation 452\\nStarting permutation 453\\nStarting permutation 454\\nStarting permutation 455\\nStarting permutation 456\\nStarting permutation 457\\nStarting permutation 458\\nStarting permutation 459\\nStarting permutation 460\\nStarting permutation 461\\nStarting permutation 462\\nStarting permutation 463\\nStarting permutation 464\\nStarting permutation 465\\nStarting permutation 466\\nStarting permutation 467\\nStarting permutation 468\\nStarting permutation 469\\nStarting permutation 470\\nStarting permutation 471\\nStarting permutation 472\\nStarting permutation 473\\nStarting permutation 474\\nStarting permutation 475\\nStarting permutation 476\\nStarting permutation 477\\nStarting permutation 478\\nStarting permutation 479\\nStarting permutation 480\\nStarting permutation 481\\nStarting permutation 482\\nStarting permutation 483\\nStarting permutation 484\\nStarting permutation 485\\nStarting permutation 486\\nStarting permutation 487\\nStarting permutation 488\\nStarting permutation 489\\nStarting permutation 490\\nStarting permutation 491\\nStarting permutation 492\\nStarting permutation 493\\nStarting permutation 494\\nStarting permutation 495\\nStarting permutation 496\\nStarting permutation 497\\nStarting permutation 498\\nStarting permutation 499\\nStarting permutation 500\\nCritical Value for: /cerebro/cerebro1/dataset/bmpd/derivatives/HealthyControls_project/seed_to_voxels/2_second_level/spinalcord_C3/C3-whole_tfce_tstat1 is: 5121.1\\nFinished, exiting.')"
      ]
     },
     "execution_count": 88,
     "metadata": {},
     "output_type": "execute_result"
    }
   ],
   "source": [
    "seed_name='spinalcord_C3-whole'\n",
    "ouput_dir='/cerebro/cerebro1/dataset/bmpd/derivatives/HealthyControls_project/seed_to_voxels/2_second_level/spinalcord_C3/'\n",
    "run_proc('randomise -i {} -o {} -1 -v 5 -n 500  -T'.format(config['main_dir'] + config['seed2vox_dir'] + '/1_first_level/' + seed_name + '/' + target_name[0].split('_')[0]+ '_fc_maps/' + str(len(config['list_subjects'])) + 'subjects_seed_' + seed_name.split('_')[-1] + '_s_BP_newdenoising_zcorr.nii',\n",
    "                                                           ouput_dir +'C3-whole',\n",
    "                                                           mask_target))"
   ]
  },
  {
   "cell_type": "code",
   "execution_count": 65,
   "metadata": {},
   "outputs": [
    {
     "name": "stdout",
     "output_type": "stream",
     "text": [
      "randomise -i /cerebro/cerebro1/dataset/bmpd/derivatives/HealthyControls_project/seed_to_voxels/2_second_level/spinalcord_C1/44images.nii.gz -o /cerebro/cerebro1/dataset/bmpd/derivatives/HealthyControls_project/seed_to_voxels/2_second_level/spinalcord_C1/C1_whole -d /cerebro/cerebro1/dataset/bmpd/derivatives/HealthyControls_project/seed_to_voxels/2_second_level/spinalcord_C1/design_group.mat -t /cerebro/cerebro1/dataset/bmpd/derivatives/HealthyControls_project/seed_to_voxels/2_second_level/spinalcord_C1/design_group.con -e /cerebro/cerebro1/dataset/bmpd/derivatives/HealthyControls_project/seed_to_voxels/2_second_level/spinalcord_C1/design_group.grp -m /cerebro/cerebro1/dataset/bmpd/derivatives/HealthyControls_project//templates/MNI/3mm_resolution/MNI_T1w_GM_AverageHCs_3mm_bin_corrected.nii.gz -v 5 -n 500  -T # in /cerebro/cerebro1/dataset/bmpd/derivatives/HealthyControls_project/hc_project_analyses/notebook\n"
     ]
    },
    {
     "ename": "RuntimeError",
     "evalue": "randomise options: -i /cerebro/cerebro1/dataset/bmpd/derivatives/HealthyControls_project/seed_to_voxels/2_second_level/spinalcord_C1/44images.nii.gz -o /cerebro/cerebro1/dataset/bmpd/derivatives/HealthyControls_project/seed_to_voxels/2_second_level/spinalcord_C1/C1_whole -d /cerebro/cerebro1/dataset/bmpd/derivatives/HealthyControls_project/seed_to_voxels/2_second_level/spinalcord_C1/design_group.mat -t /cerebro/cerebro1/dataset/bmpd/derivatives/HealthyControls_project/seed_to_voxels/2_second_level/spinalcord_C1/design_group.con -e /cerebro/cerebro1/dataset/bmpd/derivatives/HealthyControls_project/seed_to_voxels/2_second_level/spinalcord_C1/design_group.grp -m /cerebro/cerebro1/dataset/bmpd/derivatives/HealthyControls_project//templates/MNI/3mm_resolution/MNI_T1w_GM_AverageHCs_3mm_bin_corrected.nii.gz -v 5 -n 500 -T\nLoading Data: Image Exception : #63 :: No image files match: /cerebro/cerebro1/dataset/bmpd/derivatives/HealthyControls_project/seed_to_voxels/2_second_level/spinalcord_C1/44images\nImage Exception : #22 :: Failed to read volume /cerebro/cerebro1/dataset/bmpd/derivatives/HealthyControls_project/seed_to_voxels/2_second_level/spinalcord_C1/44images.nii.gz\nError : No image files match: /cerebro/cerebro1/dataset/bmpd/derivatives/HealthyControls_project/seed_to_voxels/2_second_level/spinalcord_C1/44images\nERROR: Program failedFailed to read volume /cerebro/cerebro1/dataset/bmpd/derivatives/HealthyControls_project/seed_to_voxels/2_second_level/spinalcord_C1/44images.nii.gz\nError : No image files match: /cerebro/cerebro1/dataset/bmpd/derivatives/HealthyControls_project/seed_to_voxels/2_second_level/spinalcord_C1/44images\n\nExiting",
     "output_type": "error",
     "traceback": [
      "\u001b[0;31m---------------------------------------------------------------------------\u001b[0m",
      "\u001b[0;31mRuntimeError\u001b[0m                              Traceback (most recent call last)",
      "\u001b[0;32m<ipython-input-65-57742a064895>\u001b[0m in \u001b[0;36m<module>\u001b[0;34m\u001b[0m\n\u001b[1;32m      5\u001b[0m                                                                                     \u001b[0mouput_dir\u001b[0m \u001b[0;34m+\u001b[0m\u001b[0;34m'design_group.con'\u001b[0m\u001b[0;34m,\u001b[0m\u001b[0;34m\u001b[0m\u001b[0;34m\u001b[0m\u001b[0m\n\u001b[1;32m      6\u001b[0m                                                                                     \u001b[0mouput_dir\u001b[0m \u001b[0;34m+\u001b[0m\u001b[0;34m'design_group.grp'\u001b[0m\u001b[0;34m,\u001b[0m\u001b[0;34m\u001b[0m\u001b[0;34m\u001b[0m\u001b[0m\n\u001b[0;32m----> 7\u001b[0;31m                                                                                 mask_target))\n\u001b[0m",
      "\u001b[0;32m/cerebro/cerebro1/dataset/bmpd/derivatives/thibault_test/code/toolbox/spinalcordtoolbox-5.0.0/spinalcordtoolbox/utils/sys.py\u001b[0m in \u001b[0;36mrun_proc\u001b[0;34m(cmd, verbose, raise_exception, cwd, env, is_sct_binary)\u001b[0m\n\u001b[1;32m    294\u001b[0m \u001b[0;34m\u001b[0m\u001b[0m\n\u001b[1;32m    295\u001b[0m     \u001b[0;32mif\u001b[0m \u001b[0mstatus\u001b[0m \u001b[0;34m!=\u001b[0m \u001b[0;36m0\u001b[0m \u001b[0;32mand\u001b[0m \u001b[0mraise_exception\u001b[0m\u001b[0;34m:\u001b[0m\u001b[0;34m\u001b[0m\u001b[0;34m\u001b[0m\u001b[0m\n\u001b[0;32m--> 296\u001b[0;31m         \u001b[0;32mraise\u001b[0m \u001b[0mRuntimeError\u001b[0m\u001b[0;34m(\u001b[0m\u001b[0moutput\u001b[0m\u001b[0;34m)\u001b[0m\u001b[0;34m\u001b[0m\u001b[0;34m\u001b[0m\u001b[0m\n\u001b[0m\u001b[1;32m    297\u001b[0m \u001b[0;34m\u001b[0m\u001b[0m\n\u001b[1;32m    298\u001b[0m     \u001b[0;32mreturn\u001b[0m \u001b[0mstatus\u001b[0m\u001b[0;34m,\u001b[0m \u001b[0moutput\u001b[0m\u001b[0;34m\u001b[0m\u001b[0;34m\u001b[0m\u001b[0m\n",
      "\u001b[0;31mRuntimeError\u001b[0m: randomise options: -i /cerebro/cerebro1/dataset/bmpd/derivatives/HealthyControls_project/seed_to_voxels/2_second_level/spinalcord_C1/44images.nii.gz -o /cerebro/cerebro1/dataset/bmpd/derivatives/HealthyControls_project/seed_to_voxels/2_second_level/spinalcord_C1/C1_whole -d /cerebro/cerebro1/dataset/bmpd/derivatives/HealthyControls_project/seed_to_voxels/2_second_level/spinalcord_C1/design_group.mat -t /cerebro/cerebro1/dataset/bmpd/derivatives/HealthyControls_project/seed_to_voxels/2_second_level/spinalcord_C1/design_group.con -e /cerebro/cerebro1/dataset/bmpd/derivatives/HealthyControls_project/seed_to_voxels/2_second_level/spinalcord_C1/design_group.grp -m /cerebro/cerebro1/dataset/bmpd/derivatives/HealthyControls_project//templates/MNI/3mm_resolution/MNI_T1w_GM_AverageHCs_3mm_bin_corrected.nii.gz -v 5 -n 500 -T\nLoading Data: Image Exception : #63 :: No image files match: /cerebro/cerebro1/dataset/bmpd/derivatives/HealthyControls_project/seed_to_voxels/2_second_level/spinalcord_C1/44images\nImage Exception : #22 :: Failed to read volume /cerebro/cerebro1/dataset/bmpd/derivatives/HealthyControls_project/seed_to_voxels/2_second_level/spinalcord_C1/44images.nii.gz\nError : No image files match: /cerebro/cerebro1/dataset/bmpd/derivatives/HealthyControls_project/seed_to_voxels/2_second_level/spinalcord_C1/44images\nERROR: Program failedFailed to read volume /cerebro/cerebro1/dataset/bmpd/derivatives/HealthyControls_project/seed_to_voxels/2_second_level/spinalcord_C1/44images.nii.gz\nError : No image files match: /cerebro/cerebro1/dataset/bmpd/derivatives/HealthyControls_project/seed_to_voxels/2_second_level/spinalcord_C1/44images\n\nExiting"
     ]
    }
   ],
   "source": [
    "ouput_dir='/cerebro/cerebro1/dataset/bmpd/derivatives/HealthyControls_project/seed_to_voxels/2_second_level/spinalcord_C1/'\n",
    "run_proc('randomise -i {} -o {} -d {} -t {} -e {} -m {} -v 5 -n 500  -T'.format(ouput_dir+\"44images.nii.gz\",\n",
    "                                                                                    ouput_dir +'C1_whole',\n",
    "                                                                                    ouput_dir +'design_group.mat',\n",
    "                                                                                    ouput_dir +'design_group.con',\n",
    "                                                                                    ouput_dir +'design_group.grp',\n",
    "                                                                                mask_target))"
   ]
  },
  {
   "cell_type": "code",
   "execution_count": null,
   "metadata": {},
   "outputs": [],
   "source": [
    "fslmaths '/cerebro/cerebro1/dataset/bmpd/derivatives/HealthyControls_project/ICA/brain/K_9/comp_zscored/zCanICA_22sbj_brain_brain_k_2.nii.gz' -thr 2 -bin  '/cerebro/cerebro1/dataset/bmpd/derivatives/HealthyControls_project/ICA/brain/K_9/comp_bin/zCanICA_22sbj_brain_brain_k_2_bin.nii.gz'"
   ]
  }
 ],
 "metadata": {
  "kernelspec": {
   "display_name": "Python 3",
   "language": "python",
   "name": "python3"
  },
  "language_info": {
   "codemirror_mode": {
    "name": "ipython",
    "version": 3
   },
   "file_extension": ".py",
   "mimetype": "text/x-python",
   "name": "python",
   "nbconvert_exporter": "python",
   "pygments_lexer": "ipython3",
   "version": "3.6.9"
  }
 },
 "nbformat": 4,
 "nbformat_minor": 5
}
