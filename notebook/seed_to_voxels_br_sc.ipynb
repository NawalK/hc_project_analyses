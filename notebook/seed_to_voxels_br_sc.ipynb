{
 "cells": [
  {
   "cell_type": "markdown",
   "id": "165dae7a",
   "metadata": {},
   "source": [
    "## <font color=#B2D732> <span style=\"background-color: #4424D6\"> Imports"
   ]
  },
  {
   "cell_type": "code",
   "execution_count": 1,
   "id": "1fac9ede",
   "metadata": {},
   "outputs": [
    {
     "name": "stderr",
     "output_type": "stream",
     "text": [
      "/cerebro/cerebro1/dataset/bmpd/derivatives/thibault_test/code/toolbox/bmpd_python/lib/python3.6/site-packages/nilearn/__init__.py:69: FutureWarning: Python 3.6 support is deprecated and will be removed in release 0.10 of Nilearn. Consider switching to Python 3.8 or 3.9.\n",
      "  _python_deprecation_warnings()\n"
     ]
    }
   ],
   "source": [
    "import sys,json\n",
    "import glob, os\n",
    "sys.path.append(\"/cerebro/cerebro1/dataset/bmpd/derivatives/HealthyControls_project/hc_project_analyses/code/\")\n",
    "\n",
    "from seed_to_voxels_inprogress_nk import Seed2voxels\n",
    "\n",
    "%matplotlib inline\n",
    "%load_ext autoreload\n",
    "%autoreload 2"
   ]
  },
  {
   "cell_type": "markdown",
   "id": "5c5534b5",
   "metadata": {},
   "source": [
    "## <font color=#B2D732> <span style=\"background-color: #4424D6\"> Initialization"
   ]
  },
  {
   "cell_type": "markdown",
   "id": "60e5901b",
   "metadata": {},
   "source": [
    " ### <font color=#4424D6> I. Configuration & parameters </font >"
   ]
  },
  {
   "cell_type": "code",
   "execution_count": 22,
   "id": "2350a0db",
   "metadata": {},
   "outputs": [],
   "source": [
    "with open('../config/config_CL.json') as config_file:\n",
    "    config = json.load(config_file) # load config file\n",
    "signal='raw'\n",
    "seed_names=['brain_L-BA4'] # define seed names ex: 'spinalcord_ICA-C4'\n",
    "target_name=['brain_mask'] # define structure target\n"
   ]
  },
  {
   "cell_type": "markdown",
   "id": "91b622a5",
   "metadata": {},
   "source": [
    "### <font color=#4424D6> II. Select files </font>"
   ]
  },
  {
   "cell_type": "code",
   "execution_count": 36,
   "id": "8dbc2309",
   "metadata": {},
   "outputs": [],
   "source": [
    "# One target per subject\n",
    "data_target=[];ts_target_txt=[];ts_seed_txt = [];data_seed=[];\n",
    "seed_name = seed_names[0]\n",
    "for subject_name in config['list_subjects']:\n",
    "    data_target.append(glob.glob(config[\"coreg_dir\"] + 'sub-'+ subject_name +'/'+target_name[0].split('_')[0]+'/*' + config[\"coreg_tag\"][target_name[0].split('_')[0]] +'*.gz')[0])\n",
    "    ts_target_txt.append(config['main_dir'] + config['seed2vox_dir'] + '/1_first_level/'+target_name[0]+'/timeseries/sub_' + subject_name + '_mask_' + target_name[0] + '_timeseries')\n",
    "    \n",
    "    data_seed.append(glob.glob(config[\"coreg_dir\"] + 'sub-'+ subject_name +'/'+seed_name.split('_')[0]+'/*' + config[\"coreg_tag\"][target_name[0].split('_')[0]] +'*.gz')[0])\n",
    "    ts_seed_txt.append(config['main_dir'] + config['seed2vox_dir'] + '/1_first_level/'+seed_name+'/timeseries/sub_' + subject_name + '_mask_' + seed_name.split('_')[-1] + '_timeseries')\n",
    "\n",
    "mask_seed=glob.glob(config[\"main_dir\"] + config[\"templates\"][seed_name.split('_')[0]+\"_seeds\"] + seed_name.split('_')[-1].split('_')[-1] +'*.gz')[0]\n",
    "mask_target=glob.glob(config[\"main_dir\"] + config[\"masks\"][target_name[0].split('_')[0]])[0]\n",
    "\n",
    "    \n",
    "# create output directory if needed\n",
    "if not os.path.exists(config['main_dir'] + config['seed2vox_dir'] + '/1_first_level/'+seed_name):\n",
    "    os.mkdir(config['main_dir'] + config['seed2vox_dir'] + '/1_first_level/'+seed_name)\n",
    "    os.mkdir(config['main_dir'] + config['seed2vox_dir'] + '/1_first_level/'+seed_name+'/timeseries/') # folder to store timeseries extraction\n",
    "    os.mkdir(config['main_dir'] + config['seed2vox_dir'] + '/1_first_level/'+seed_name+'/brain_fc_maps/') # folder to store maps of FC"
   ]
  },
  {
   "cell_type": "code",
   "execution_count": 35,
   "id": "03cca543",
   "metadata": {},
   "outputs": [
    {
     "data": {
      "text/plain": [
       "['/cerebro/cerebro1/dataset/bmpd/derivatives/HealthyControls_project/func_preparation/2_func_in_template/sub-P028/brain/sub-P028_task-rest_bold_stc_brain_moco_denoised_reg_SPM_inTemplate.nii.gz',\n",
       " '/cerebro/cerebro1/dataset/bmpd/derivatives/HealthyControls_project/func_preparation/2_func_in_template/sub-P030/brain/sub-P030_task-rest_bold_stc_brain_moco_denoised_reg_SPM_inTemplate.nii.gz',\n",
       " '/cerebro/cerebro1/dataset/bmpd/derivatives/HealthyControls_project/func_preparation/2_func_in_template/sub-P033/brain/sub-P033_task-rest_bold_stc_brain_moco_denoised_reg_SPM_inTemplate.nii.gz',\n",
       " '/cerebro/cerebro1/dataset/bmpd/derivatives/HealthyControls_project/func_preparation/2_func_in_template/sub-P043/brain/sub-P043_task-rest_bold_stc_brain_moco_denoised_reg_SPM_inTemplate.nii.gz',\n",
       " '/cerebro/cerebro1/dataset/bmpd/derivatives/HealthyControls_project/func_preparation/2_func_in_template/sub-P047/brain/sub-P047_task-rest_bold_stc_brain_moco_denoised_reg_SPM_inTemplate.nii.gz',\n",
       " '/cerebro/cerebro1/dataset/bmpd/derivatives/HealthyControls_project/func_preparation/2_func_in_template/sub-P050/brain/sub-P050_task-rest_bold_stc_brain_moco_denoised_reg_SPM_inTemplate.nii.gz',\n",
       " '/cerebro/cerebro1/dataset/bmpd/derivatives/HealthyControls_project/func_preparation/2_func_in_template/sub-P057/brain/sub-P057_task-rest_run-02_bold_stc_brain_moco_denoised_reg_SPM_inTemplate.nii.gz',\n",
       " '/cerebro/cerebro1/dataset/bmpd/derivatives/HealthyControls_project/func_preparation/2_func_in_template/sub-P099/brain/sub-P099_task-rest_run-02_bold_stc_brain_moco_denoised_reg_SPM_inTemplate.nii.gz',\n",
       " '/cerebro/cerebro1/dataset/bmpd/derivatives/HealthyControls_project/func_preparation/2_func_in_template/sub-P100/brain/sub-P100_task-rest_bold_stc_brain_moco_denoised_reg_SPM_inTemplate.nii.gz',\n",
       " '/cerebro/cerebro1/dataset/bmpd/derivatives/HealthyControls_project/func_preparation/2_func_in_template/sub-P105/brain/sub-P105_task-rest_bold_stc_brain_moco_denoised_reg_SPM_inTemplate.nii.gz',\n",
       " '/cerebro/cerebro1/dataset/bmpd/derivatives/HealthyControls_project/func_preparation/2_func_in_template/sub-P108/brain/sub-P108_task-rest_bold_stc_brain_moco_denoised_reg_SPM_inTemplate.nii.gz',\n",
       " '/cerebro/cerebro1/dataset/bmpd/derivatives/HealthyControls_project/func_preparation/2_func_in_template/sub-P109/brain/sub-P109_task-rest_bold_stc_brain_moco_denoised_reg_SPM_inTemplate.nii.gz',\n",
       " '/cerebro/cerebro1/dataset/bmpd/derivatives/HealthyControls_project/func_preparation/2_func_in_template/sub-P001/brain/sub-P001_task-rest_bold_stc_brain_moco_denoised_reg_SPM_inTemplate.nii.gz',\n",
       " '/cerebro/cerebro1/dataset/bmpd/derivatives/HealthyControls_project/func_preparation/2_func_in_template/sub-P003/brain/sub-P003_task-rest_bold_stc_brain_moco_denoised_reg_SPM_inTemplate.nii.gz',\n",
       " '/cerebro/cerebro1/dataset/bmpd/derivatives/HealthyControls_project/func_preparation/2_func_in_template/sub-P004/brain/sub-P004_task-rest_bold_stc_brain_moco_denoised_reg_SPM_inTemplate.nii.gz',\n",
       " '/cerebro/cerebro1/dataset/bmpd/derivatives/HealthyControls_project/func_preparation/2_func_in_template/sub-P005/brain/sub-P005_task-rest_bold_stc_brain_moco_denoised_reg_SPM_inTemplate.nii.gz',\n",
       " '/cerebro/cerebro1/dataset/bmpd/derivatives/HealthyControls_project/func_preparation/2_func_in_template/sub-P006/brain/sub-P006_task-rest_bold_stc_brain_moco_denoised_reg_SPM_inTemplate.nii.gz',\n",
       " '/cerebro/cerebro1/dataset/bmpd/derivatives/HealthyControls_project/func_preparation/2_func_in_template/sub-P007/brain/sub-P007_task-rest_bold_stc_brain_moco_denoised_reg_SPM_inTemplate.nii.gz',\n",
       " '/cerebro/cerebro1/dataset/bmpd/derivatives/HealthyControls_project/func_preparation/2_func_in_template/sub-P008/brain/sub-P008_task-rest_bold_stc_brain_moco_denoised_reg_SPM_inTemplate.nii.gz',\n",
       " '/cerebro/cerebro1/dataset/bmpd/derivatives/HealthyControls_project/func_preparation/2_func_in_template/sub-P009/brain/sub-P009_task-rest_bold_stc_brain_moco_denoised_reg_SPM_inTemplate.nii.gz',\n",
       " '/cerebro/cerebro1/dataset/bmpd/derivatives/HealthyControls_project/func_preparation/2_func_in_template/sub-P011/brain/sub-P011_task-rest_bold_stc_brain_moco_denoised_reg_SPM_inTemplate.nii.gz',\n",
       " '/cerebro/cerebro1/dataset/bmpd/derivatives/HealthyControls_project/func_preparation/2_func_in_template/sub-P013/brain/sub-P013_task-rest_bold_stc_brain_moco_denoised_reg_SPM_inTemplate.nii.gz']"
      ]
     },
     "execution_count": 35,
     "metadata": {},
     "output_type": "execute_result"
    }
   ],
   "source": [
    "data_seed"
   ]
  },
  {
   "cell_type": "markdown",
   "id": "28042cb9",
   "metadata": {},
   "source": [
    "### <font color=#4424D6> III. Initialize class based on this </font>"
   ]
  },
  {
   "cell_type": "code",
   "execution_count": 37,
   "id": "b268bf9e",
   "metadata": {},
   "outputs": [],
   "source": [
    "seed2voxels=Seed2voxels(config,signal,seed_names,target_name) # initialize the function"
   ]
  },
  {
   "cell_type": "markdown",
   "id": "f7ba0284",
   "metadata": {},
   "source": [
    "## <font color=#B2D732> <span style=\"background-color: #4424D6\"> Data extraction </font></span>\n",
    "### <font color=#4424D6> I. Time series extraction - Seed </font>"
   ]
  },
  {
   "cell_type": "code",
   "execution_count": 38,
   "id": "22886651",
   "metadata": {},
   "outputs": [],
   "source": [
    "seed_timeseries=[]\n",
    "seed_timeseries,seed_timeseries_mean,seed_timeseries_pc1=seed2voxels.extract_data(img=data_seed, mask=mask_seed, timeseries_txt=ts_seed_txt,\n",
    "                                                                run=\"extract\",n_jobs=8) # run the analyse for target voxels"
   ]
  },
  {
   "cell_type": "markdown",
   "id": "3764bd57",
   "metadata": {},
   "source": [
    "### <font color=#4424D6> II. Time series extraction - Target </font>"
   ]
  },
  {
   "cell_type": "code",
   "execution_count": 39,
   "id": "aa7cb290",
   "metadata": {},
   "outputs": [],
   "source": [
    "target_timeseries,target_timeseries_mean,target_timeseries_pc1=seed2voxels.extract_data(img=data_target, mask=mask_target, timeseries_txt=ts_target_txt,\n",
    "                                                                run=\"extract\",n_jobs=8,smoothing_fwhm=[6,6,6]) # run the analyse for target voxels\n"
   ]
  },
  {
   "cell_type": "markdown",
   "id": "90272634",
   "metadata": {},
   "source": [
    "## <font color=#B2D732> <span style=\"background-color: #4424D6\"> Correlation analysis"
   ]
  },
  {
   "cell_type": "code",
   "execution_count": 41,
   "id": "e0db6fa1",
   "metadata": {},
   "outputs": [],
   "source": [
    "output_img={};\n",
    "for seed_name in seed_names:\n",
    "    output_img[seed_name]=[]\n",
    "    output_img[seed_name]=config['main_dir'] + config['seed2vox_dir'] + '/1_first_level/' + seed_name + '/' + target_name[0].split('_')[0]+ '_fc_maps/' + str(len(config['list_subjects'])) + 'subjects_seedPC1_' + seed_name.split('_')[-1] + '_s_BP'\n",
    "\n",
    "seed2voxels.correlation_maps(seed_timeseries_mean,target_timeseries,mask=mask_target,output_img=output_img[seed_name],Fisher=True,n_jobs=8)"
   ]
  },
  {
   "cell_type": "markdown",
   "id": "2eebce6e",
   "metadata": {},
   "source": [
    "## <font color=#B2D732> <span style=\"background-color: #4424D6\"> Smoothing"
   ]
  },
  {
   "cell_type": "code",
   "execution_count": 11,
   "id": "e9169f28",
   "metadata": {},
   "outputs": [],
   "source": [
    "from nilearn import image\n",
    "img_smoothed=image.smooth_img(output_img[seed_name],[6,6,6])\n",
    "img_smoothed.to_filename(output_img[seed_name].split('.')[0] + '_s.nii' )"
   ]
  },
  {
   "cell_type": "raw",
   "id": "2c27baf8",
   "metadata": {},
   "source": [
    "for comp in {1..9}; do\n",
    "    fslmaths /cerebro/cerebro1/dataset/bmpd/derivatives/HealthyControls_project/ICA/spinalcord_9/Comp_zscored/zCanICA_23sbj_spinalcord_component_\"$comp\".nii.gz -thr 3 -bin /cerebro/cerebro1/dataset/bmpd/derivatives/HealthyControls_project/ICA/spinalcord_9/Comp_masked/zCanICA_23sbj_spinalcord_component_\"$comp\"_bin.nii.gz\n",
    "done"
   ]
  }
 ],
 "metadata": {
  "kernelspec": {
   "display_name": "Python 3 (ipykernel)",
   "language": "python",
   "name": "python3"
  },
  "language_info": {
   "codemirror_mode": {
    "name": "ipython",
    "version": 3
   },
   "file_extension": ".py",
   "mimetype": "text/x-python",
   "name": "python",
   "nbconvert_exporter": "python",
   "pygments_lexer": "ipython3",
   "version": "3.9.12"
  }
 },
 "nbformat": 4,
 "nbformat_minor": 5
}
